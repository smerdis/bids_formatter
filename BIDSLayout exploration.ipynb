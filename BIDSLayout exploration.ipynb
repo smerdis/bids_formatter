{
 "cells": [
  {
   "cell_type": "code",
   "execution_count": 26,
   "metadata": {
    "collapsed": true
   },
   "outputs": [],
   "source": [
    "from bids.grabbids import BIDSLayout\n",
    "\n",
    "import os"
   ]
  },
  {
   "cell_type": "code",
   "execution_count": 2,
   "metadata": {
    "collapsed": true
   },
   "outputs": [],
   "source": [
    "raw_layout = BIDSLayout(\"/Users/smerdis/data/LGN/BIDS/AlexLGN_no0327/\")"
   ]
  },
  {
   "cell_type": "code",
   "execution_count": 3,
   "metadata": {},
   "outputs": [
    {
     "data": {
      "text/plain": [
       "['MS']"
      ]
     },
     "execution_count": 3,
     "metadata": {},
     "output_type": "execute_result"
    }
   ],
   "source": [
    "raw_layout.get_subjects()"
   ]
  },
  {
   "cell_type": "code",
   "execution_count": 4,
   "metadata": {},
   "outputs": [
    {
     "data": {
      "text/plain": [
       "['hemi', 'mp']"
      ]
     },
     "execution_count": 4,
     "metadata": {},
     "output_type": "execute_result"
    }
   ],
   "source": [
    "raw_layout.get_tasks()"
   ]
  },
  {
   "cell_type": "code",
   "execution_count": 5,
   "metadata": {},
   "outputs": [
    {
     "data": {
      "text/plain": [
       "['20150401', '20150519']"
      ]
     },
     "execution_count": 5,
     "metadata": {},
     "output_type": "execute_result"
    }
   ],
   "source": [
    "raw_layout.get_sessions()"
   ]
  },
  {
   "cell_type": "code",
   "execution_count": 9,
   "metadata": {
    "collapsed": true
   },
   "outputs": [],
   "source": [
    "niftis = raw_layout.get(subject='MS', modality='func', session='20150401', extensions=['nii.gz'])"
   ]
  },
  {
   "cell_type": "code",
   "execution_count": 10,
   "metadata": {
    "collapsed": true
   },
   "outputs": [],
   "source": [
    "eg1, eg2, eg3 = niftis[:3]"
   ]
  },
  {
   "cell_type": "code",
   "execution_count": 11,
   "metadata": {},
   "outputs": [
    {
     "name": "stdout",
     "output_type": "stream",
     "text": [
      "File(filename='/Users/smerdis/data/LGN/BIDS/AlexLGN_no0327/sub-MS/ses-20150401/func/sub-MS_ses-20150401_task-hemi_run-01_bold.nii.gz', subject='MS', session='20150401', run='01', type='bold', task='hemi', modality='func')\n",
      "File(filename='/Users/smerdis/data/LGN/BIDS/AlexLGN_no0327/sub-MS/ses-20150401/func/sub-MS_ses-20150401_task-hemi_run-02_bold.nii.gz', subject='MS', session='20150401', run='02', type='bold', task='hemi', modality='func')\n",
      "File(filename='/Users/smerdis/data/LGN/BIDS/AlexLGN_no0327/sub-MS/ses-20150401/func/sub-MS_ses-20150401_task-mp_run-01_bold.nii.gz', subject='MS', session='20150401', run='01', type='bold', task='mp', modality='func')\n"
     ]
    }
   ],
   "source": [
    "print(eg1, eg2, eg3, sep=\"\\n\")"
   ]
  },
  {
   "cell_type": "code",
   "execution_count": 12,
   "metadata": {},
   "outputs": [
    {
     "data": {
      "text/plain": [
       "{'EchoTime': 0.04,\n",
       " 'EffectiveEchoSpacing': 0.000780002,\n",
       " 'FlipAngle': 75,\n",
       " 'ImageType': ['ORIGINAL', 'PRIMARY', 'M', 'ND', 'MOSAIC'],\n",
       " 'MagneticFieldStrength': 3,\n",
       " 'Manufacturer': 'Siemens',\n",
       " 'ManufacturersModelName': 'TrioTim',\n",
       " 'PhaseEncodingDirection': 'j-',\n",
       " 'RepetitionTime': 2.25,\n",
       " 'SliceTiming': [0,\n",
       "  1.1825,\n",
       "  0.1075,\n",
       "  1.29,\n",
       "  0.215,\n",
       "  1.3975,\n",
       "  0.3225,\n",
       "  1.505,\n",
       "  0.43,\n",
       "  1.6125,\n",
       "  0.5375,\n",
       "  1.72,\n",
       "  0.645,\n",
       "  1.8275,\n",
       "  0.7525,\n",
       "  1.935,\n",
       "  0.86,\n",
       "  2.0425,\n",
       "  0.9675,\n",
       "  2.15,\n",
       "  1.075],\n",
       " 'TaskName': 'hemi'}"
      ]
     },
     "execution_count": 12,
     "metadata": {},
     "output_type": "execute_result"
    }
   ],
   "source": [
    "raw_layout.get_metadata(eg1.filename)"
   ]
  },
  {
   "cell_type": "code",
   "execution_count": 21,
   "metadata": {},
   "outputs": [
    {
     "data": {
      "text/plain": [
       "'hemi'"
      ]
     },
     "execution_count": 21,
     "metadata": {},
     "output_type": "execute_result"
    }
   ],
   "source": [
    "eg2.task"
   ]
  },
  {
   "cell_type": "code",
   "execution_count": 73,
   "metadata": {},
   "outputs": [],
   "source": [
    "hemifield_event_files = raw_layout.get(subject='MS', modality='func', task=\"hemi\", extensions=['.tsv'])"
   ]
  },
  {
   "cell_type": "code",
   "execution_count": 74,
   "metadata": {},
   "outputs": [
    {
     "data": {
      "text/plain": [
       "[File(filename='/Users/smerdis/data/LGN/BIDS/AlexLGN_no0327/sub-MS/ses-20150401/func/sub-MS_ses-20150401_task-hemi_run-01_events.tsv', subject='MS', session='20150401', run='01', type='events', task='hemi', modality='func'),\n",
       " File(filename='/Users/smerdis/data/LGN/BIDS/AlexLGN_no0327/sub-MS/ses-20150401/func/sub-MS_ses-20150401_task-hemi_run-02_events.tsv', subject='MS', session='20150401', run='02', type='events', task='hemi', modality='func'),\n",
       " File(filename='/Users/smerdis/data/LGN/BIDS/AlexLGN_no0327/sub-MS/ses-20150519/func/sub-MS_ses-20150519_task-hemi_run-01_events.tsv', subject='MS', session='20150519', run='01', type='events', task='hemi', modality='func'),\n",
       " File(filename='/Users/smerdis/data/LGN/BIDS/AlexLGN_no0327/sub-MS/ses-20150519/func/sub-MS_ses-20150519_task-hemi_run-02_events.tsv', subject='MS', session='20150519', run='02', type='events', task='hemi', modality='func')]"
      ]
     },
     "execution_count": 74,
     "metadata": {},
     "output_type": "execute_result"
    }
   ],
   "source": [
    "hemifield_event_files"
   ]
  },
  {
   "cell_type": "code",
   "execution_count": 27,
   "metadata": {},
   "outputs": [],
   "source": [
    "preprocessed_data_dir = os.path.abspath('/Users/smerdis/data/LGN/BIDS/AlexLGN_no0327_out_T1w/fmriprep/')"
   ]
  },
  {
   "cell_type": "code",
   "execution_count": 28,
   "metadata": {},
   "outputs": [],
   "source": [
    "preproc_layout = BIDSLayout(preprocessed_data_dir)"
   ]
  },
  {
   "cell_type": "code",
   "execution_count": 37,
   "metadata": {},
   "outputs": [
    {
     "data": {
      "text/plain": [
       "[]"
      ]
     },
     "execution_count": 37,
     "metadata": {},
     "output_type": "execute_result"
    }
   ],
   "source": [
    "preproc_layout.get(subject=\"MS\", type=\"bold\", extensions=['nii.gz'])"
   ]
  },
  {
   "cell_type": "code",
   "execution_count": 43,
   "metadata": {},
   "outputs": [
    {
     "data": {
      "text/plain": [
       "{'/Users/smerdis/data/LGN/BIDS/AlexLGN_no0327_out_T1w/fmriprep/sub-MS.html': <grabbit.core.File at 0x11489a5c0>,\n",
       " '/Users/smerdis/data/LGN/BIDS/AlexLGN_no0327_out_T1w/fmriprep/sub-MS/anat/sub-MS_T1w_brainmask.nii.gz': <grabbit.core.File at 0x1148b6390>,\n",
       " '/Users/smerdis/data/LGN/BIDS/AlexLGN_no0327_out_T1w/fmriprep/sub-MS/anat/sub-MS_T1w_class-CSF_probtissue.nii.gz': <grabbit.core.File at 0x1148b62e8>,\n",
       " '/Users/smerdis/data/LGN/BIDS/AlexLGN_no0327_out_T1w/fmriprep/sub-MS/anat/sub-MS_T1w_class-GM_probtissue.nii.gz': <grabbit.core.File at 0x1148b6160>,\n",
       " '/Users/smerdis/data/LGN/BIDS/AlexLGN_no0327_out_T1w/fmriprep/sub-MS/anat/sub-MS_T1w_class-WM_probtissue.nii.gz': <grabbit.core.File at 0x1148a1860>,\n",
       " '/Users/smerdis/data/LGN/BIDS/AlexLGN_no0327_out_T1w/fmriprep/sub-MS/anat/sub-MS_T1w_dtissue.nii.gz': <grabbit.core.File at 0x1148b2a90>,\n",
       " '/Users/smerdis/data/LGN/BIDS/AlexLGN_no0327_out_T1w/fmriprep/sub-MS/anat/sub-MS_T1w_inflated.L.surf.gii': <grabbit.core.File at 0x1148b2e48>,\n",
       " '/Users/smerdis/data/LGN/BIDS/AlexLGN_no0327_out_T1w/fmriprep/sub-MS/anat/sub-MS_T1w_inflated.R.surf.gii': <grabbit.core.File at 0x1148b2da0>,\n",
       " '/Users/smerdis/data/LGN/BIDS/AlexLGN_no0327_out_T1w/fmriprep/sub-MS/anat/sub-MS_T1w_midthickness.L.surf.gii': <grabbit.core.File at 0x1148b2b70>,\n",
       " '/Users/smerdis/data/LGN/BIDS/AlexLGN_no0327_out_T1w/fmriprep/sub-MS/anat/sub-MS_T1w_midthickness.R.surf.gii': <grabbit.core.File at 0x1148b60b8>,\n",
       " '/Users/smerdis/data/LGN/BIDS/AlexLGN_no0327_out_T1w/fmriprep/sub-MS/anat/sub-MS_T1w_pial.L.surf.gii': <grabbit.core.File at 0x1148b2ef0>,\n",
       " '/Users/smerdis/data/LGN/BIDS/AlexLGN_no0327_out_T1w/fmriprep/sub-MS/anat/sub-MS_T1w_pial.R.surf.gii': <grabbit.core.File at 0x1148b2c18>,\n",
       " '/Users/smerdis/data/LGN/BIDS/AlexLGN_no0327_out_T1w/fmriprep/sub-MS/anat/sub-MS_T1w_preproc.nii.gz': <grabbit.core.File at 0x1148b6208>,\n",
       " '/Users/smerdis/data/LGN/BIDS/AlexLGN_no0327_out_T1w/fmriprep/sub-MS/anat/sub-MS_T1w_smoothwm.L.surf.gii': <grabbit.core.File at 0x1148b2cf8>,\n",
       " '/Users/smerdis/data/LGN/BIDS/AlexLGN_no0327_out_T1w/fmriprep/sub-MS/anat/sub-MS_T1w_smoothwm.R.surf.gii': <grabbit.core.File at 0x1148b2fd0>,\n",
       " '/Users/smerdis/data/LGN/BIDS/AlexLGN_no0327_out_T1w/fmriprep/sub-MS/ses-20150401/func/sub-MS_ses-20150401_task-hemi_run-01_bold_confounds.tsv': <grabbit.core.File at 0x1148955c0>,\n",
       " '/Users/smerdis/data/LGN/BIDS/AlexLGN_no0327_out_T1w/fmriprep/sub-MS/ses-20150401/func/sub-MS_ses-20150401_task-hemi_run-01_bold_space-T1w_brainmask.nii.gz': <grabbit.core.File at 0x1148a1390>,\n",
       " '/Users/smerdis/data/LGN/BIDS/AlexLGN_no0327_out_T1w/fmriprep/sub-MS/ses-20150401/func/sub-MS_ses-20150401_task-hemi_run-01_bold_space-T1w_preproc.nii.gz': <grabbit.core.File at 0x114895c88>,\n",
       " '/Users/smerdis/data/LGN/BIDS/AlexLGN_no0327_out_T1w/fmriprep/sub-MS/ses-20150401/func/sub-MS_ses-20150401_task-hemi_run-02_bold_confounds.tsv': <grabbit.core.File at 0x114895b70>,\n",
       " '/Users/smerdis/data/LGN/BIDS/AlexLGN_no0327_out_T1w/fmriprep/sub-MS/ses-20150401/func/sub-MS_ses-20150401_task-hemi_run-02_bold_space-T1w_brainmask.nii.gz': <grabbit.core.File at 0x114892668>,\n",
       " '/Users/smerdis/data/LGN/BIDS/AlexLGN_no0327_out_T1w/fmriprep/sub-MS/ses-20150401/func/sub-MS_ses-20150401_task-hemi_run-02_bold_space-T1w_preproc.nii.gz': <grabbit.core.File at 0x114892518>,\n",
       " '/Users/smerdis/data/LGN/BIDS/AlexLGN_no0327_out_T1w/fmriprep/sub-MS/ses-20150401/func/sub-MS_ses-20150401_task-mp_run-01_bold_confounds.tsv': <grabbit.core.File at 0x114895a58>,\n",
       " '/Users/smerdis/data/LGN/BIDS/AlexLGN_no0327_out_T1w/fmriprep/sub-MS/ses-20150401/func/sub-MS_ses-20150401_task-mp_run-01_bold_space-T1w_brainmask.nii.gz': <grabbit.core.File at 0x114895ef0>,\n",
       " '/Users/smerdis/data/LGN/BIDS/AlexLGN_no0327_out_T1w/fmriprep/sub-MS/ses-20150401/func/sub-MS_ses-20150401_task-mp_run-01_bold_space-T1w_preproc.nii.gz': <grabbit.core.File at 0x1148a16d8>,\n",
       " '/Users/smerdis/data/LGN/BIDS/AlexLGN_no0327_out_T1w/fmriprep/sub-MS/ses-20150401/func/sub-MS_ses-20150401_task-mp_run-02_bold_space-T1w_brainmask.nii.gz': <grabbit.core.File at 0x114892fd0>,\n",
       " '/Users/smerdis/data/LGN/BIDS/AlexLGN_no0327_out_T1w/fmriprep/sub-MS/ses-20150401/func/sub-MS_ses-20150401_task-mp_run-02_bold_space-T1w_preproc.nii.gz': <grabbit.core.File at 0x11489a898>,\n",
       " '/Users/smerdis/data/LGN/BIDS/AlexLGN_no0327_out_T1w/fmriprep/sub-MS/ses-20150401/func/sub-MS_ses-20150401_task-mp_run-03_bold_confounds.tsv': <grabbit.core.File at 0x1148929e8>,\n",
       " '/Users/smerdis/data/LGN/BIDS/AlexLGN_no0327_out_T1w/fmriprep/sub-MS/ses-20150401/func/sub-MS_ses-20150401_task-mp_run-03_bold_space-T1w_brainmask.nii.gz': <grabbit.core.File at 0x11489af98>,\n",
       " '/Users/smerdis/data/LGN/BIDS/AlexLGN_no0327_out_T1w/fmriprep/sub-MS/ses-20150401/func/sub-MS_ses-20150401_task-mp_run-03_bold_space-T1w_preproc.nii.gz': <grabbit.core.File at 0x1148950f0>,\n",
       " '/Users/smerdis/data/LGN/BIDS/AlexLGN_no0327_out_T1w/fmriprep/sub-MS/ses-20150401/func/sub-MS_ses-20150401_task-mp_run-04_bold_confounds.tsv': <grabbit.core.File at 0x11489ab00>,\n",
       " '/Users/smerdis/data/LGN/BIDS/AlexLGN_no0327_out_T1w/fmriprep/sub-MS/ses-20150401/func/sub-MS_ses-20150401_task-mp_run-04_bold_space-T1w_brainmask.nii.gz': <grabbit.core.File at 0x114892400>,\n",
       " '/Users/smerdis/data/LGN/BIDS/AlexLGN_no0327_out_T1w/fmriprep/sub-MS/ses-20150401/func/sub-MS_ses-20150401_task-mp_run-04_bold_space-T1w_preproc.nii.gz': <grabbit.core.File at 0x114895908>,\n",
       " '/Users/smerdis/data/LGN/BIDS/AlexLGN_no0327_out_T1w/fmriprep/sub-MS/ses-20150401/func/sub-MS_ses-20150401_task-mp_run-05_bold_confounds.tsv': <grabbit.core.File at 0x114892d68>,\n",
       " '/Users/smerdis/data/LGN/BIDS/AlexLGN_no0327_out_T1w/fmriprep/sub-MS/ses-20150401/func/sub-MS_ses-20150401_task-mp_run-05_bold_space-T1w_brainmask.nii.gz': <grabbit.core.File at 0x114895240>,\n",
       " '/Users/smerdis/data/LGN/BIDS/AlexLGN_no0327_out_T1w/fmriprep/sub-MS/ses-20150401/func/sub-MS_ses-20150401_task-mp_run-05_bold_space-T1w_preproc.nii.gz': <grabbit.core.File at 0x11489ae48>,\n",
       " '/Users/smerdis/data/LGN/BIDS/AlexLGN_no0327_out_T1w/fmriprep/sub-MS/ses-20150401/func/sub-MS_ses-20150401_task-mp_run-06_bold_confounds.tsv': <grabbit.core.File at 0x1148a14a8>,\n",
       " '/Users/smerdis/data/LGN/BIDS/AlexLGN_no0327_out_T1w/fmriprep/sub-MS/ses-20150401/func/sub-MS_ses-20150401_task-mp_run-06_bold_space-T1w_brainmask.nii.gz': <grabbit.core.File at 0x11489ac18>,\n",
       " '/Users/smerdis/data/LGN/BIDS/AlexLGN_no0327_out_T1w/fmriprep/sub-MS/ses-20150401/func/sub-MS_ses-20150401_task-mp_run-06_bold_space-T1w_preproc.nii.gz': <grabbit.core.File at 0x114892e80>,\n",
       " '/Users/smerdis/data/LGN/BIDS/AlexLGN_no0327_out_T1w/fmriprep/sub-MS/ses-20150401/func/sub-MS_ses-20150401_task-mp_run-07_bold_confounds.tsv': <grabbit.core.File at 0x11489a748>,\n",
       " '/Users/smerdis/data/LGN/BIDS/AlexLGN_no0327_out_T1w/fmriprep/sub-MS/ses-20150401/func/sub-MS_ses-20150401_task-mp_run-07_bold_space-T1w_brainmask.nii.gz': <grabbit.core.File at 0x1148a15c0>,\n",
       " '/Users/smerdis/data/LGN/BIDS/AlexLGN_no0327_out_T1w/fmriprep/sub-MS/ses-20150401/func/sub-MS_ses-20150401_task-mp_run-07_bold_space-T1w_preproc.nii.gz': <grabbit.core.File at 0x114895fd0>,\n",
       " '/Users/smerdis/data/LGN/BIDS/AlexLGN_no0327_out_T1w/fmriprep/sub-MS/ses-20150401/func/sub-MS_ses-20150401_task-mp_run-08_bold_confounds.tsv': <grabbit.core.File at 0x114892c50>,\n",
       " '/Users/smerdis/data/LGN/BIDS/AlexLGN_no0327_out_T1w/fmriprep/sub-MS/ses-20150401/func/sub-MS_ses-20150401_task-mp_run-08_bold_space-T1w_brainmask.nii.gz': <grabbit.core.File at 0x114895dd8>,\n",
       " '/Users/smerdis/data/LGN/BIDS/AlexLGN_no0327_out_T1w/fmriprep/sub-MS/ses-20150401/func/sub-MS_ses-20150401_task-mp_run-08_bold_space-T1w_preproc.nii.gz': <grabbit.core.File at 0x1148922b0>,\n",
       " '/Users/smerdis/data/LGN/BIDS/AlexLGN_no0327_out_T1w/fmriprep/sub-MS/ses-20150401/func/sub-MS_ses-20150401_task-mp_run-09_bold_confounds.tsv': <grabbit.core.File at 0x11489a9e8>,\n",
       " '/Users/smerdis/data/LGN/BIDS/AlexLGN_no0327_out_T1w/fmriprep/sub-MS/ses-20150401/func/sub-MS_ses-20150401_task-mp_run-09_bold_space-T1w_brainmask.nii.gz': <grabbit.core.File at 0x114892780>,\n",
       " '/Users/smerdis/data/LGN/BIDS/AlexLGN_no0327_out_T1w/fmriprep/sub-MS/ses-20150401/func/sub-MS_ses-20150401_task-mp_run-09_bold_space-T1w_preproc.nii.gz': <grabbit.core.File at 0x114892b00>,\n",
       " '/Users/smerdis/data/LGN/BIDS/AlexLGN_no0327_out_T1w/fmriprep/sub-MS/ses-20150401/func/sub-MS_ses-20150401_task-mp_run-10_bold_confounds.tsv': <grabbit.core.File at 0x114892198>,\n",
       " '/Users/smerdis/data/LGN/BIDS/AlexLGN_no0327_out_T1w/fmriprep/sub-MS/ses-20150401/func/sub-MS_ses-20150401_task-mp_run-10_bold_space-T1w_brainmask.nii.gz': <grabbit.core.File at 0x1148a1278>,\n",
       " '/Users/smerdis/data/LGN/BIDS/AlexLGN_no0327_out_T1w/fmriprep/sub-MS/ses-20150401/func/sub-MS_ses-20150401_task-mp_run-10_bold_space-T1w_preproc.nii.gz': <grabbit.core.File at 0x1148a1128>,\n",
       " '/Users/smerdis/data/LGN/BIDS/AlexLGN_no0327_out_T1w/fmriprep/sub-MS/ses-20150401/func/sub-MS_ses-20150401_task-mp_run-11_bold_confounds.tsv': <grabbit.core.File at 0x1148957f0>,\n",
       " '/Users/smerdis/data/LGN/BIDS/AlexLGN_no0327_out_T1w/fmriprep/sub-MS/ses-20150401/func/sub-MS_ses-20150401_task-mp_run-11_bold_space-T1w_brainmask.nii.gz': <grabbit.core.File at 0x11489ad30>,\n",
       " '/Users/smerdis/data/LGN/BIDS/AlexLGN_no0327_out_T1w/fmriprep/sub-MS/ses-20150401/func/sub-MS_ses-20150401_task-mp_run-11_bold_space-T1w_preproc.nii.gz': <grabbit.core.File at 0x114892898>,\n",
       " '/Users/smerdis/data/LGN/BIDS/AlexLGN_no0327_out_T1w/fmriprep/sub-MS/ses-20150401/func/sub-MS_ses-20150401_task-mp_run-12_bold_confounds.tsv': <grabbit.core.File at 0x1148956d8>,\n",
       " '/Users/smerdis/data/LGN/BIDS/AlexLGN_no0327_out_T1w/fmriprep/sub-MS/ses-20150401/func/sub-MS_ses-20150401_task-mp_run-12_bold_space-T1w_brainmask.nii.gz': <grabbit.core.File at 0x114895358>,\n",
       " '/Users/smerdis/data/LGN/BIDS/AlexLGN_no0327_out_T1w/fmriprep/sub-MS/ses-20150401/func/sub-MS_ses-20150401_task-mp_run-12_bold_space-T1w_preproc.nii.gz': <grabbit.core.File at 0x114895470>,\n",
       " '/Users/smerdis/data/LGN/BIDS/AlexLGN_no0327_out_T1w/fmriprep/sub-MS/ses-20150519/.DS_Store': <grabbit.core.File at 0x11489a780>,\n",
       " '/Users/smerdis/data/LGN/BIDS/AlexLGN_no0327_out_T1w/fmriprep/sub-MS/ses-20150519/func/sub-MS_ses-20150519_task-hemi_run-01_bold_confounds.tsv': <grabbit.core.File at 0x1148ad8d0>,\n",
       " '/Users/smerdis/data/LGN/BIDS/AlexLGN_no0327_out_T1w/fmriprep/sub-MS/ses-20150519/func/sub-MS_ses-20150519_task-hemi_run-01_bold_space-T1w_brainmask.nii.gz': <grabbit.core.File at 0x1148ad320>,\n",
       " '/Users/smerdis/data/LGN/BIDS/AlexLGN_no0327_out_T1w/fmriprep/sub-MS/ses-20150519/func/sub-MS_ses-20150519_task-hemi_run-01_bold_space-T1w_preproc.nii.gz': <grabbit.core.File at 0x1148b26a0>,\n",
       " '/Users/smerdis/data/LGN/BIDS/AlexLGN_no0327_out_T1w/fmriprep/sub-MS/ses-20150519/func/sub-MS_ses-20150519_task-hemi_run-02_bold_confounds.tsv': <grabbit.core.File at 0x1148ad438>,\n",
       " '/Users/smerdis/data/LGN/BIDS/AlexLGN_no0327_out_T1w/fmriprep/sub-MS/ses-20150519/func/sub-MS_ses-20150519_task-hemi_run-02_bold_space-T1w_brainmask.nii.gz': <grabbit.core.File at 0x1148b2588>,\n",
       " '/Users/smerdis/data/LGN/BIDS/AlexLGN_no0327_out_T1w/fmriprep/sub-MS/ses-20150519/func/sub-MS_ses-20150519_task-hemi_run-02_bold_space-T1w_preproc.nii.gz': <grabbit.core.File at 0x1148a1e48>,\n",
       " '/Users/smerdis/data/LGN/BIDS/AlexLGN_no0327_out_T1w/fmriprep/sub-MS/ses-20150519/func/sub-MS_ses-20150519_task-mp_run-01_bold_confounds.tsv': <grabbit.core.File at 0x1148aa390>,\n",
       " '/Users/smerdis/data/LGN/BIDS/AlexLGN_no0327_out_T1w/fmriprep/sub-MS/ses-20150519/func/sub-MS_ses-20150519_task-mp_run-01_bold_space-T1w_brainmask.nii.gz': <grabbit.core.File at 0x1148a19b0>,\n",
       " '/Users/smerdis/data/LGN/BIDS/AlexLGN_no0327_out_T1w/fmriprep/sub-MS/ses-20150519/func/sub-MS_ses-20150519_task-mp_run-01_bold_space-T1w_preproc.nii.gz': <grabbit.core.File at 0x1148a1f98>,\n",
       " '/Users/smerdis/data/LGN/BIDS/AlexLGN_no0327_out_T1w/fmriprep/sub-MS/ses-20150519/func/sub-MS_ses-20150519_task-mp_run-02_bold_confounds.tsv': <grabbit.core.File at 0x1148a1ac8>,\n",
       " '/Users/smerdis/data/LGN/BIDS/AlexLGN_no0327_out_T1w/fmriprep/sub-MS/ses-20150519/func/sub-MS_ses-20150519_task-mp_run-02_bold_space-T1w_brainmask.nii.gz': <grabbit.core.File at 0x1148aaac8>,\n",
       " '/Users/smerdis/data/LGN/BIDS/AlexLGN_no0327_out_T1w/fmriprep/sub-MS/ses-20150519/func/sub-MS_ses-20150519_task-mp_run-02_bold_space-T1w_preproc.nii.gz': <grabbit.core.File at 0x1148b27f0>,\n",
       " '/Users/smerdis/data/LGN/BIDS/AlexLGN_no0327_out_T1w/fmriprep/sub-MS/ses-20150519/func/sub-MS_ses-20150519_task-mp_run-03_bold_confounds.tsv': <grabbit.core.File at 0x1148b2470>,\n",
       " '/Users/smerdis/data/LGN/BIDS/AlexLGN_no0327_out_T1w/fmriprep/sub-MS/ses-20150519/func/sub-MS_ses-20150519_task-mp_run-03_bold_space-T1w_brainmask.nii.gz': <grabbit.core.File at 0x1148ade80>,\n",
       " '/Users/smerdis/data/LGN/BIDS/AlexLGN_no0327_out_T1w/fmriprep/sub-MS/ses-20150519/func/sub-MS_ses-20150519_task-mp_run-03_bold_space-T1w_preproc.nii.gz': <grabbit.core.File at 0x1148ad780>,\n",
       " '/Users/smerdis/data/LGN/BIDS/AlexLGN_no0327_out_T1w/fmriprep/sub-MS/ses-20150519/func/sub-MS_ses-20150519_task-mp_run-04_bold_confounds.tsv': <grabbit.core.File at 0x1148aaf60>,\n",
       " '/Users/smerdis/data/LGN/BIDS/AlexLGN_no0327_out_T1w/fmriprep/sub-MS/ses-20150519/func/sub-MS_ses-20150519_task-mp_run-04_bold_space-T1w_brainmask.nii.gz': <grabbit.core.File at 0x1148a1d30>,\n",
       " '/Users/smerdis/data/LGN/BIDS/AlexLGN_no0327_out_T1w/fmriprep/sub-MS/ses-20150519/func/sub-MS_ses-20150519_task-mp_run-04_bold_space-T1w_preproc.nii.gz': <grabbit.core.File at 0x1148ad1d0>,\n",
       " '/Users/smerdis/data/LGN/BIDS/AlexLGN_no0327_out_T1w/fmriprep/sub-MS/ses-20150519/func/sub-MS_ses-20150519_task-mp_run-05_bold_confounds.tsv': <grabbit.core.File at 0x1148ad550>,\n",
       " '/Users/smerdis/data/LGN/BIDS/AlexLGN_no0327_out_T1w/fmriprep/sub-MS/ses-20150519/func/sub-MS_ses-20150519_task-mp_run-05_bold_space-T1w_brainmask.nii.gz': <grabbit.core.File at 0x1148adf98>,\n",
       " '/Users/smerdis/data/LGN/BIDS/AlexLGN_no0327_out_T1w/fmriprep/sub-MS/ses-20150519/func/sub-MS_ses-20150519_task-mp_run-05_bold_space-T1w_preproc.nii.gz': <grabbit.core.File at 0x1148b2320>,\n",
       " '/Users/smerdis/data/LGN/BIDS/AlexLGN_no0327_out_T1w/fmriprep/sub-MS/ses-20150519/func/sub-MS_ses-20150519_task-mp_run-06_bold_confounds.tsv': <grabbit.core.File at 0x1148ad9e8>,\n",
       " '/Users/smerdis/data/LGN/BIDS/AlexLGN_no0327_out_T1w/fmriprep/sub-MS/ses-20150519/func/sub-MS_ses-20150519_task-mp_run-06_bold_space-T1w_brainmask.nii.gz': <grabbit.core.File at 0x1148adb00>,\n",
       " '/Users/smerdis/data/LGN/BIDS/AlexLGN_no0327_out_T1w/fmriprep/sub-MS/ses-20150519/func/sub-MS_ses-20150519_task-mp_run-06_bold_space-T1w_preproc.nii.gz': <grabbit.core.File at 0x1148aa4a8>,\n",
       " '/Users/smerdis/data/LGN/BIDS/AlexLGN_no0327_out_T1w/fmriprep/sub-MS/ses-20150519/func/sub-MS_ses-20150519_task-mp_run-07_bold_confounds.tsv': <grabbit.core.File at 0x1148aa710>,\n",
       " '/Users/smerdis/data/LGN/BIDS/AlexLGN_no0327_out_T1w/fmriprep/sub-MS/ses-20150519/func/sub-MS_ses-20150519_task-mp_run-07_bold_space-T1w_brainmask.nii.gz': <grabbit.core.File at 0x1148aae48>,\n",
       " '/Users/smerdis/data/LGN/BIDS/AlexLGN_no0327_out_T1w/fmriprep/sub-MS/ses-20150519/func/sub-MS_ses-20150519_task-mp_run-07_bold_space-T1w_preproc.nii.gz': <grabbit.core.File at 0x1148aa978>,\n",
       " '/Users/smerdis/data/LGN/BIDS/AlexLGN_no0327_out_T1w/fmriprep/sub-MS/ses-20150519/func/sub-MS_ses-20150519_task-mp_run-08_bold_confounds.tsv': <grabbit.core.File at 0x1148ad668>,\n",
       " '/Users/smerdis/data/LGN/BIDS/AlexLGN_no0327_out_T1w/fmriprep/sub-MS/ses-20150519/func/sub-MS_ses-20150519_task-mp_run-08_bold_space-T1w_brainmask.nii.gz': <grabbit.core.File at 0x1148b2940>,\n",
       " '/Users/smerdis/data/LGN/BIDS/AlexLGN_no0327_out_T1w/fmriprep/sub-MS/ses-20150519/func/sub-MS_ses-20150519_task-mp_run-08_bold_space-T1w_preproc.nii.gz': <grabbit.core.File at 0x1148aacf8>,\n",
       " '/Users/smerdis/data/LGN/BIDS/AlexLGN_no0327_out_T1w/fmriprep/sub-MS/ses-20150519/func/sub-MS_ses-20150519_task-mp_run-09_bold_confounds.tsv': <grabbit.core.File at 0x1148ad0b8>,\n",
       " '/Users/smerdis/data/LGN/BIDS/AlexLGN_no0327_out_T1w/fmriprep/sub-MS/ses-20150519/func/sub-MS_ses-20150519_task-mp_run-09_bold_space-T1w_brainmask.nii.gz': <grabbit.core.File at 0x1148aa128>,\n",
       " '/Users/smerdis/data/LGN/BIDS/AlexLGN_no0327_out_T1w/fmriprep/sub-MS/ses-20150519/func/sub-MS_ses-20150519_task-mp_run-09_bold_space-T1w_preproc.nii.gz': <grabbit.core.File at 0x1148aa240>,\n",
       " '/Users/smerdis/data/LGN/BIDS/AlexLGN_no0327_out_T1w/fmriprep/sub-MS/ses-20150519/func/sub-MS_ses-20150519_task-mp_run-10_bold_confounds.tsv': <grabbit.core.File at 0x1148b20f0>,\n",
       " '/Users/smerdis/data/LGN/BIDS/AlexLGN_no0327_out_T1w/fmriprep/sub-MS/ses-20150519/func/sub-MS_ses-20150519_task-mp_run-10_bold_space-T1w_brainmask.nii.gz': <grabbit.core.File at 0x1148aabe0>,\n",
       " '/Users/smerdis/data/LGN/BIDS/AlexLGN_no0327_out_T1w/fmriprep/sub-MS/ses-20150519/func/sub-MS_ses-20150519_task-mp_run-10_bold_space-T1w_preproc.nii.gz': <grabbit.core.File at 0x1148a1be0>,\n",
       " '/Users/smerdis/data/LGN/BIDS/AlexLGN_no0327_out_T1w/fmriprep/sub-MS/ses-20150519/func/sub-MS_ses-20150519_task-mp_run-11_bold_confounds.tsv': <grabbit.core.File at 0x1148aa5f8>,\n",
       " '/Users/smerdis/data/LGN/BIDS/AlexLGN_no0327_out_T1w/fmriprep/sub-MS/ses-20150519/func/sub-MS_ses-20150519_task-mp_run-11_bold_space-T1w_brainmask.nii.gz': <grabbit.core.File at 0x1148add68>,\n",
       " '/Users/smerdis/data/LGN/BIDS/AlexLGN_no0327_out_T1w/fmriprep/sub-MS/ses-20150519/func/sub-MS_ses-20150519_task-mp_run-11_bold_space-T1w_preproc.nii.gz': <grabbit.core.File at 0x1148aa828>,\n",
       " '/Users/smerdis/data/LGN/BIDS/AlexLGN_no0327_out_T1w/fmriprep/sub-MS/ses-20150519/func/sub-MS_ses-20150519_task-mp_run-12_bold_confounds.tsv': <grabbit.core.File at 0x1148a1898>,\n",
       " '/Users/smerdis/data/LGN/BIDS/AlexLGN_no0327_out_T1w/fmriprep/sub-MS/ses-20150519/func/sub-MS_ses-20150519_task-mp_run-12_bold_space-T1w_brainmask.nii.gz': <grabbit.core.File at 0x1148b2208>,\n",
       " '/Users/smerdis/data/LGN/BIDS/AlexLGN_no0327_out_T1w/fmriprep/sub-MS/ses-20150519/func/sub-MS_ses-20150519_task-mp_run-12_bold_space-T1w_preproc.nii.gz': <grabbit.core.File at 0x1148adc18>}"
      ]
     },
     "execution_count": 43,
     "metadata": {},
     "output_type": "execute_result"
    }
   ],
   "source": [
    "preproc_layout.files"
   ]
  },
  {
   "cell_type": "code",
   "execution_count": 54,
   "metadata": {},
   "outputs": [
    {
     "data": {
      "text/plain": [
       "['brainmask',\n",
       " 'confounds',\n",
       " 'dtissue',\n",
       " 'inflated',\n",
       " 'midthickness',\n",
       " 'pial',\n",
       " 'preproc',\n",
       " 'probtissue',\n",
       " 'smoothwm']"
      ]
     },
     "execution_count": 54,
     "metadata": {},
     "output_type": "execute_result"
    }
   ],
   "source": [
    "preproc_layout.get(target='type', return_type='id', subject='MS')"
   ]
  },
  {
   "cell_type": "code",
   "execution_count": 61,
   "metadata": {
    "collapsed": true
   },
   "outputs": [],
   "source": [
    "mp_bolds = preproc_layout.get(subject='MS', modality='func', type='preproc', \n",
    "                              session='20150401', task='mp', extensions=['nii.gz'])\n",
    "mp_masks = preproc_layout.get(subject='MS', modality='func', type='brainmask', \n",
    "                              session='20150401', task='mp', extensions=['nii.gz'])"
   ]
  },
  {
   "cell_type": "code",
   "execution_count": 62,
   "metadata": {},
   "outputs": [
    {
     "data": {
      "text/plain": [
       "[File(filename='/Users/smerdis/data/LGN/BIDS/AlexLGN_no0327_out_T1w/fmriprep/sub-MS/ses-20150401/func/sub-MS_ses-20150401_task-mp_run-01_bold_space-T1w_brainmask.nii.gz', subject='MS', session='20150401', run='01', type='brainmask', task='mp', modality='func'),\n",
       " File(filename='/Users/smerdis/data/LGN/BIDS/AlexLGN_no0327_out_T1w/fmriprep/sub-MS/ses-20150401/func/sub-MS_ses-20150401_task-mp_run-02_bold_space-T1w_brainmask.nii.gz', subject='MS', session='20150401', run='02', type='brainmask', task='mp', modality='func'),\n",
       " File(filename='/Users/smerdis/data/LGN/BIDS/AlexLGN_no0327_out_T1w/fmriprep/sub-MS/ses-20150401/func/sub-MS_ses-20150401_task-mp_run-03_bold_space-T1w_brainmask.nii.gz', subject='MS', session='20150401', run='03', type='brainmask', task='mp', modality='func'),\n",
       " File(filename='/Users/smerdis/data/LGN/BIDS/AlexLGN_no0327_out_T1w/fmriprep/sub-MS/ses-20150401/func/sub-MS_ses-20150401_task-mp_run-04_bold_space-T1w_brainmask.nii.gz', subject='MS', session='20150401', run='04', type='brainmask', task='mp', modality='func'),\n",
       " File(filename='/Users/smerdis/data/LGN/BIDS/AlexLGN_no0327_out_T1w/fmriprep/sub-MS/ses-20150401/func/sub-MS_ses-20150401_task-mp_run-05_bold_space-T1w_brainmask.nii.gz', subject='MS', session='20150401', run='05', type='brainmask', task='mp', modality='func'),\n",
       " File(filename='/Users/smerdis/data/LGN/BIDS/AlexLGN_no0327_out_T1w/fmriprep/sub-MS/ses-20150401/func/sub-MS_ses-20150401_task-mp_run-06_bold_space-T1w_brainmask.nii.gz', subject='MS', session='20150401', run='06', type='brainmask', task='mp', modality='func'),\n",
       " File(filename='/Users/smerdis/data/LGN/BIDS/AlexLGN_no0327_out_T1w/fmriprep/sub-MS/ses-20150401/func/sub-MS_ses-20150401_task-mp_run-07_bold_space-T1w_brainmask.nii.gz', subject='MS', session='20150401', run='07', type='brainmask', task='mp', modality='func'),\n",
       " File(filename='/Users/smerdis/data/LGN/BIDS/AlexLGN_no0327_out_T1w/fmriprep/sub-MS/ses-20150401/func/sub-MS_ses-20150401_task-mp_run-08_bold_space-T1w_brainmask.nii.gz', subject='MS', session='20150401', run='08', type='brainmask', task='mp', modality='func'),\n",
       " File(filename='/Users/smerdis/data/LGN/BIDS/AlexLGN_no0327_out_T1w/fmriprep/sub-MS/ses-20150401/func/sub-MS_ses-20150401_task-mp_run-09_bold_space-T1w_brainmask.nii.gz', subject='MS', session='20150401', run='09', type='brainmask', task='mp', modality='func'),\n",
       " File(filename='/Users/smerdis/data/LGN/BIDS/AlexLGN_no0327_out_T1w/fmriprep/sub-MS/ses-20150401/func/sub-MS_ses-20150401_task-mp_run-10_bold_space-T1w_brainmask.nii.gz', subject='MS', session='20150401', run='10', type='brainmask', task='mp', modality='func'),\n",
       " File(filename='/Users/smerdis/data/LGN/BIDS/AlexLGN_no0327_out_T1w/fmriprep/sub-MS/ses-20150401/func/sub-MS_ses-20150401_task-mp_run-11_bold_space-T1w_brainmask.nii.gz', subject='MS', session='20150401', run='11', type='brainmask', task='mp', modality='func'),\n",
       " File(filename='/Users/smerdis/data/LGN/BIDS/AlexLGN_no0327_out_T1w/fmriprep/sub-MS/ses-20150401/func/sub-MS_ses-20150401_task-mp_run-12_bold_space-T1w_brainmask.nii.gz', subject='MS', session='20150401', run='12', type='brainmask', task='mp', modality='func')]"
      ]
     },
     "execution_count": 62,
     "metadata": {},
     "output_type": "execute_result"
    }
   ],
   "source": [
    "mp_masks"
   ]
  },
  {
   "cell_type": "code",
   "execution_count": 55,
   "metadata": {},
   "outputs": [],
   "source": [
    "hemibolds = preproc_layout.get(subject='MS', modality='func', type='preproc', session='20150401', task='hemi', extensions=['nii.gz'])"
   ]
  },
  {
   "cell_type": "code",
   "execution_count": 63,
   "metadata": {},
   "outputs": [
    {
     "data": {
      "text/plain": [
       "[File(filename='/Users/smerdis/data/LGN/BIDS/AlexLGN_no0327_out_T1w/fmriprep/sub-MS/ses-20150401/func/sub-MS_ses-20150401_task-hemi_run-01_bold_space-T1w_preproc.nii.gz', subject='MS', session='20150401', run='01', type='preproc', task='hemi', modality='func'),\n",
       " File(filename='/Users/smerdis/data/LGN/BIDS/AlexLGN_no0327_out_T1w/fmriprep/sub-MS/ses-20150401/func/sub-MS_ses-20150401_task-hemi_run-02_bold_space-T1w_preproc.nii.gz', subject='MS', session='20150401', run='02', type='preproc', task='hemi', modality='func')]"
      ]
     },
     "execution_count": 63,
     "metadata": {},
     "output_type": "execute_result"
    }
   ],
   "source": [
    "hemibolds"
   ]
  },
  {
   "cell_type": "code",
   "execution_count": 67,
   "metadata": {},
   "outputs": [
    {
     "ename": "TypeError",
     "evalue": "get() got multiple values for argument 'return_type'",
     "output_type": "error",
     "traceback": [
      "\u001b[0;31m---------------------------------------------------------------------------\u001b[0m",
      "\u001b[0;31mTypeError\u001b[0m                                 Traceback (most recent call last)",
      "\u001b[0;32m<ipython-input-67-66527d96c3be>\u001b[0m in \u001b[0;36m<module>\u001b[0;34m()\u001b[0m\n\u001b[0;32m----> 1\u001b[0;31m \u001b[0mpreproc_layout\u001b[0m\u001b[0;34m.\u001b[0m\u001b[0mget_acqs\u001b[0m\u001b[0;34m(\u001b[0m\u001b[0mhemibolds\u001b[0m\u001b[0;34m[\u001b[0m\u001b[0;36m0\u001b[0m\u001b[0;34m]\u001b[0m\u001b[0;34m.\u001b[0m\u001b[0mfilename\u001b[0m\u001b[0;34m)\u001b[0m\u001b[0;34m\u001b[0m\u001b[0m\n\u001b[0m",
      "\u001b[0;31mTypeError\u001b[0m: get() got multiple values for argument 'return_type'"
     ]
    }
   ],
   "source": [
    "preproc_layout"
   ]
  },
  {
   "cell_type": "code",
   "execution_count": 70,
   "metadata": {},
   "outputs": [],
   "source": [
    "from nipype.interfaces.nipy.preprocess import Trim\n",
    "trim = Trim()\n"
   ]
  },
  {
   "cell_type": "code",
   "execution_count": 78,
   "metadata": {},
   "outputs": [
    {
     "data": {
      "text/plain": [
       "[File(filename='/Users/smerdis/data/LGN/BIDS/AlexLGN_no0327/sub-MS/ses-20150401/anat/sub-MS_ses-20150401_run-1_T1w.nii.gz', subject='MS', session='20150401', run='1', type='T1w', modality='anat')]"
      ]
     },
     "execution_count": 78,
     "metadata": {},
     "output_type": "execute_result"
    }
   ],
   "source": [
    "raw_layout.get(subject='MS', modality='anat', session='20150401', type='T1w')"
   ]
  },
  {
   "cell_type": "code",
   "execution_count": null,
   "metadata": {
    "collapsed": true
   },
   "outputs": [],
   "source": []
  }
 ],
 "metadata": {
  "kernelspec": {
   "display_name": "Python 3",
   "language": "python",
   "name": "python3"
  },
  "language_info": {
   "codemirror_mode": {
    "name": "ipython",
    "version": 3
   },
   "file_extension": ".py",
   "mimetype": "text/x-python",
   "name": "python",
   "nbconvert_exporter": "python",
   "pygments_lexer": "ipython3",
   "version": "3.6.2"
  }
 },
 "nbformat": 4,
 "nbformat_minor": 2
}
