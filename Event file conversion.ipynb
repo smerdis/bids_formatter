{
 "cells": [
  {
   "cell_type": "code",
   "execution_count": 1,
   "metadata": {
    "collapsed": true
   },
   "outputs": [],
   "source": [
    "import numpy as np\n",
    "import pandas as pd\n",
    "import glob\n",
    "import os.path as op\n",
    "from os import makedirs\n",
    "import shutil\n",
    "\n",
    "def convert_parfile(infile, outfile, duration=18):\n",
    "    parfile = pd.read_table(infile, header=None, names=['onset','blocktype','trial_type','color'])\n",
    "    assert(len(np.unique(parfile.blocktype))==3) # we only expect M, P, and blank blocks.\n",
    "    parfile['duration'] = duration # default 18 (3T), 16 for 7T\n",
    "    out = parfile[['onset','duration','trial_type']]\n",
    "    out.to_csv(outfile,\"\\t\", index=False)\n",
    "\n",
    "def convert_parfiles(in_glob, out_stem):\n",
    "    parfiles = glob.glob(in_glob)\n",
    "    tsvfiles = [out_stem + op.basename(p).split('run')[-1].split('.')[0] + '_events.tsv' for p in parfiles]\n",
    "    for (par, tsv) in zip(parfiles, tsvfiles):\n",
    "        convert_parfile(par, tsv)\n",
    "    "
   ]
  },
  {
   "cell_type": "code",
   "execution_count": null,
   "metadata": {
    "collapsed": true
   },
   "outputs": [],
   "source": [
    "#convert 20150401\n",
    "convert_parfiles(\"/Users/smerdis/data/LGN/MS_LGN/20150401MS.dicom/20150401MS/Stimuli/parfiles/MS_20150401_run*.par\",\n",
    "                 \"/Users/smerdis/data/LGN/BIDS/AlexLGN_no0327/sub-MS/ses-20150401/func/sub-MS_ses-20150401_task-mp_run-\")"
   ]
  },
  {
   "cell_type": "code",
   "execution_count": 2,
   "metadata": {
    "collapsed": true
   },
   "outputs": [],
   "source": [
    "convert_parfiles(\"/Users/smerdis/data/LGN/MS_LGN/20150519MS.dicom/20150519MS/Stimuli/parfiles/MS_20150519_run*.par\",\n",
    "                 \"/Users/smerdis/data/LGN/BIDS/AlexLGN_no0327/sub-MS/ses-20150519/func/sub-MS_ses-20150519_task-mp_run-\")"
   ]
  },
  {
   "cell_type": "code",
   "execution_count": null,
   "metadata": {
    "collapsed": true
   },
   "outputs": [],
   "source": [
    "def migrate_alex2015():\n",
    "    sessions_to_group = {#'20150327':'/Users/smerdis/data/LGN/MS_LGN/20150327MS.dicom/20150327MS/20150327MS_dicom/',\n",
    "    '20150401':'/Users/smerdis/data/LGN/MS_LGN/20150401MS.dicom/20150401MS/20150401MS_backup/',\n",
    "    '20150519':'/Users/smerdis/data/LGN/MS_LGN/20150519MS.dicom/20150519MS/20150519MS_dicom/'}\n",
    "\n",
    "    dataset_name = 'AlexLGN_no0327'\n",
    "    sub_code = 'MS'\n",
    "    staging_folder = op.join('/Users/smerdis/data/LGN', dataset_name, sub_code)\n",
    "    if not op.exists(staging_folder):\n",
    "        makedirs(staging_folder)\n",
    "        \n",
    "    print(sessions_to_group)\n",
    "    \n",
    "    for k,v in sessions_to_group.items():\n",
    "        session_folder = op.join(staging_folder, k)\n",
    "        if not op.exists(session_folder):\n",
    "            makedirs(session_folder)\n",
    "        dicoms = glob.glob((v + \"epi*/IM-*.dcm\"))\n",
    "        for f in dicoms:\n",
    "            shutil.copy(f, session_folder) #put all dicoms from that day in one folder\n"
   ]
  },
  {
   "cell_type": "code",
   "execution_count": null,
   "metadata": {
    "collapsed": true
   },
   "outputs": [],
   "source": [
    "migrate_alex2015()"
   ]
  },
  {
   "cell_type": "code",
   "execution_count": null,
   "metadata": {
    "collapsed": true
   },
   "outputs": [],
   "source": [
    "['L', 'R'] * 6"
   ]
  },
  {
   "cell_type": "code",
   "execution_count": 34,
   "metadata": {
    "collapsed": true
   },
   "outputs": [],
   "source": [
    "def write_hemifield_localizer_event_file(event_file):\n",
    "    num_LR_cycles = 11\n",
    "    len_hemifield_cycle = 13.5\n",
    "    TR = 2.25\n",
    "\n",
    "    #total_stim_length = (len_hemifield_cycle * 2) * num_LR_cycles\n",
    "    #total_volumes = total_stim_length/TR\n",
    "    volumes_per_hemicycle = len_hemifield_cycle/TR\n",
    "\n",
    "    conds = ['R', 'L'] # we start with L, actually\n",
    "    #print(total_stim_length, volumes_per_hemicycle, total_volumes)\n",
    "\n",
    "    file_contents = \"onset\\tduration\\ttrial_type\\n\"\n",
    "    for hemicycle in range(1, num_LR_cycles*2+1):\n",
    "        file_contents += f\"{hemicycle*len_hemifield_cycle}\\t{len_hemifield_cycle}\\t{conds[hemicycle%len(conds)]}\\n\"\n",
    "\n",
    "    with open(event_file, 'w') as f:\n",
    "        f.write(file_contents)"
   ]
  },
  {
   "cell_type": "code",
   "execution_count": 35,
   "metadata": {
    "collapsed": true
   },
   "outputs": [],
   "source": [
    "from bids.grabbids import BIDSLayout\n",
    "raw_layout = BIDSLayout(\"/Users/smerdis/data/LGN/BIDS/AlexLGN_no0327/\")\n",
    "hemifield_event_files = raw_layout.get(subject='MS', modality='func', \n",
    "                                       task=\"hemi\", extensions=['.tsv'])\n",
    "for f in hemifield_event_files:\n",
    "    write_hemifield_localizer_event_file(f.filename)"
   ]
  },
  {
   "cell_type": "code",
   "execution_count": 29,
   "metadata": {},
   "outputs": [
    {
     "data": {
      "text/plain": [
       "[1, 2, 3, 4, 5, 6, 7, 8, 9, 10, 11, 12, 13, 14, 15, 16, 17, 18, 19, 20, 21, 22]"
      ]
     },
     "execution_count": 29,
     "metadata": {},
     "output_type": "execute_result"
    }
   ],
   "source": [
    "list(range(1, num_LR_cycles*2+1))"
   ]
  },
  {
   "cell_type": "code",
   "execution_count": 14,
   "metadata": {},
   "outputs": [
    {
     "name": "stdout",
     "output_type": "stream",
     "text": [
      "Event file conversion.ipynb\r\n",
      "LGN_MP_Connectivity_Analyses.xlsx\r\n",
      "LGN_MP_Functional_Connectivity_20140407.key\r\n",
      "LGN_MP_Spatial_Analyses2_20140407.key\r\n",
      "LGN_MP_Spatial_Analyses_20140407.key\r\n",
      "\u001b[34mPipeline_AS\u001b[m\u001b[m/\r\n",
      "\u001b[34mPorcupine\u001b[m\u001b[m/\r\n",
      "Untitled.ipynb\r\n",
      "Untitled1.ipynb\r\n",
      "\u001b[30m\u001b[43mbuild-Porcupine-Desktop_Qt_5_10_0_clang_64bit-Release\u001b[m\u001b[m/\r\n",
      "\u001b[34mbuild-Porcupine-Desktop_Qt_5_9_3_clang_64bit-Release\u001b[m\u001b[m/\r\n",
      "\u001b[34mfigures\u001b[m\u001b[m/\r\n",
      "\u001b[34mglm2\u001b[m\u001b[m/\r\n",
      "\u001b[34mglm_pipeline\u001b[m\u001b[m/\r\n",
      "\u001b[34mmegavista\u001b[m\u001b[m/\r\n",
      "\u001b[34mpycortex-gallantlab\u001b[m\u001b[m/\r\n"
     ]
    }
   ],
   "source": [
    "%ls"
   ]
  }
 ],
 "metadata": {
  "kernelspec": {
   "display_name": "Python 3",
   "language": "python",
   "name": "python3"
  },
  "language_info": {
   "codemirror_mode": {
    "name": "ipython",
    "version": 3
   },
   "file_extension": ".py",
   "mimetype": "text/x-python",
   "name": "python",
   "nbconvert_exporter": "python",
   "pygments_lexer": "ipython3",
   "version": "3.6.8"
  },
  "varInspector": {
   "cols": {
    "lenName": 16,
    "lenType": 16,
    "lenVar": 40
   },
   "kernels_config": {
    "python": {
     "delete_cmd_postfix": "",
     "delete_cmd_prefix": "del ",
     "library": "var_list.py",
     "varRefreshCmd": "print(var_dic_list())"
    },
    "r": {
     "delete_cmd_postfix": ") ",
     "delete_cmd_prefix": "rm(",
     "library": "var_list.r",
     "varRefreshCmd": "cat(var_dic_list()) "
    }
   },
   "types_to_exclude": [
    "module",
    "function",
    "builtin_function_or_method",
    "instance",
    "_Feature"
   ],
   "window_display": false
  }
 },
 "nbformat": 4,
 "nbformat_minor": 2
}
