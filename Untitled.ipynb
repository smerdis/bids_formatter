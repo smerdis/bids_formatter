{
 "cells": [
  {
   "cell_type": "code",
   "execution_count": 1,
   "metadata": {
    "collapsed": true
   },
   "outputs": [],
   "source": [
    "sub = \"MS\"\n",
    "ses = \"20150401\"\n",
    "task = \"mp\"\n",
    "run = \"01\""
   ]
  },
  {
   "cell_type": "code",
   "execution_count": 2,
   "metadata": {
    "collapsed": true
   },
   "outputs": [],
   "source": [
    "preprocessed_epi_dir = \"~/data/LGN/BIDS/AlexLGN_no0327_out_T1_w/fmriprep/sub-{}/ses-{}/func\".format(sub, ses)\n",
    "eventfiles_dir = \"~/data/LGN/BIDS/AlexLGN_no0327/sub-{}/ses-{}/func/\".format(sub, ses)"
   ]
  },
  {
   "cell_type": "code",
   "execution_count": 3,
   "metadata": {},
   "outputs": [
    {
     "data": {
      "text/plain": [
       "'~/data/LGN/BIDS/AlexLGN_no0327_out_T1_w/fmriprep/sub-MS/ses-20150401/func'"
      ]
     },
     "execution_count": 3,
     "metadata": {},
     "output_type": "execute_result"
    }
   ],
   "source": [
    "preprocessed_epi_dir"
   ]
  },
  {
   "cell_type": "code",
   "execution_count": 5,
   "metadata": {},
   "outputs": [
    {
     "data": {
      "text/plain": [
       "'~/data/LGN/BIDS/AlexLGN_no0327/sub-MS/ses-20150401/func/'"
      ]
     },
     "execution_count": 5,
     "metadata": {},
     "output_type": "execute_result"
    }
   ],
   "source": [
    "eventfiles_dir"
   ]
  },
  {
   "cell_type": "code",
   "execution_count": null,
   "metadata": {
    "collapsed": true
   },
   "outputs": [],
   "source": []
  },
  {
   "cell_type": "code",
   "execution_count": 6,
   "metadata": {},
   "outputs": [
    {
     "data": {
      "text/plain": [
       "'sub-MS_ses-20150401_task-mp_run-01_bold_space-T1w_preproc.nii.gz'"
      ]
     },
     "execution_count": 6,
     "metadata": {},
     "output_type": "execute_result"
    }
   ],
   "source": [
    "'sub-{}_ses-{}_task-{}_run-{}_bold_space-T1w_preproc.nii.gz'.format(sub, ses, task, run)"
   ]
  },
  {
   "cell_type": "code",
   "execution_count": 7,
   "metadata": {},
   "outputs": [
    {
     "data": {
      "text/plain": [
       "'sub-MS_ses-20150401_task-mp_run-01_bold_space-T1w_brainmask.nii.gz'"
      ]
     },
     "execution_count": 7,
     "metadata": {},
     "output_type": "execute_result"
    }
   ],
   "source": [
    "'sub-{}_ses-{}_task-{}_run-{}_bold_space-T1w_brainmask.nii.gz'.format(sub, ses, task, run)"
   ]
  },
  {
   "cell_type": "code",
   "execution_count": null,
   "metadata": {
    "collapsed": true
   },
   "outputs": [],
   "source": []
  }
 ],
 "metadata": {
  "kernelspec": {
   "display_name": "Python 3",
   "language": "python",
   "name": "python3"
  },
  "language_info": {
   "codemirror_mode": {
    "name": "ipython",
    "version": 3
   },
   "file_extension": ".py",
   "mimetype": "text/x-python",
   "name": "python",
   "nbconvert_exporter": "python",
   "pygments_lexer": "ipython3",
   "version": "3.6.2"
  }
 },
 "nbformat": 4,
 "nbformat_minor": 2
}
