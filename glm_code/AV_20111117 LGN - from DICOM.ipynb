{
 "cells": [
  {
   "cell_type": "code",
   "execution_count": null,
   "metadata": {
    "ExecuteTime": {
     "end_time": "2019-12-19T23:17:09.728777Z",
     "start_time": "2019-12-19T23:17:09.701132Z"
    }
   },
   "outputs": [],
   "source": [
    "%load_ext autoreload\n",
    "%autoreload 2"
   ]
  },
  {
   "cell_type": "code",
   "execution_count": null,
   "metadata": {
    "ExecuteTime": {
     "end_time": "2019-12-19T23:21:30.169374Z",
     "start_time": "2019-12-19T23:21:30.110821Z"
    }
   },
   "outputs": [],
   "source": [
    "import utils # stuff I've written for this project\n",
    "\n",
    "import os, sys, datetime, glob, re\n",
    "\n",
    "import numpy as np\n",
    "np.set_printoptions(precision=4)\n",
    "import pandas as pd\n",
    "import matplotlib.pyplot as plt\n",
    "import matplotlib.mlab as mlab\n",
    "import shutil\n",
    "\n",
    "import nibabel as nib\n",
    "\n",
    "import nilearn\n",
    "from nilearn.masking import apply_mask\n",
    "from nilearn.plotting import plot_img, plot_epi, plot_roi, plot_stat_map\n",
    "from nilearn.image import load_img\n",
    "from nilearn.image.image import mean_img\n",
    "from nilearn.input_data import NiftiMasker\n",
    "\n",
    "import nitime\n",
    "import nitime.fmri.io as nfio\n",
    "import nitime.timeseries as ts\n",
    "import nitime.analysis as nta\n",
    "import nitime.utils as ntu\n",
    "import nitime.viz as ntv\n",
    "\n",
    "import scipy"
   ]
  },
  {
   "cell_type": "code",
   "execution_count": null,
   "metadata": {
    "ExecuteTime": {
     "end_time": "2019-12-19T23:17:12.959221Z",
     "start_time": "2019-12-19T23:17:12.902035Z"
    }
   },
   "outputs": [],
   "source": [
    "%matplotlib inline"
   ]
  },
  {
   "cell_type": "code",
   "execution_count": null,
   "metadata": {
    "ExecuteTime": {
     "end_time": "2019-12-19T23:17:13.014650Z",
     "start_time": "2019-12-19T23:17:12.962540Z"
    }
   },
   "outputs": [],
   "source": [
    "print(nib.__version__, nilearn.__version__, nitime.__version__, scipy.__version__)"
   ]
  },
  {
   "cell_type": "markdown",
   "metadata": {
    "heading_collapsed": true
   },
   "source": [
    "### Test the confounds file exists"
   ]
  },
  {
   "cell_type": "code",
   "execution_count": null,
   "metadata": {
    "ExecuteTime": {
     "end_time": "2019-12-03T19:13:58.523201Z",
     "start_time": "2019-12-03T19:13:58.443448Z"
    },
    "hidden": true
   },
   "outputs": [],
   "source": [
    "confounds_file = \"/Users/smerdis/data/LGN/BIDS/AV_20111117_fromRD/derivatives/RD_preproc/sub-AV/ses-20111117/func/sub-AV_ses-20111117_task-mp_run-02_desc-confounds_regressors.tsv\""
   ]
  },
  {
   "cell_type": "code",
   "execution_count": null,
   "metadata": {
    "ExecuteTime": {
     "end_time": "2019-12-03T19:13:58.778215Z",
     "start_time": "2019-12-03T19:13:58.588344Z"
    },
    "hidden": true
   },
   "outputs": [],
   "source": [
    "confounds_df = pd.read_csv(confounds_file, sep=str('\\t'), na_values=\"n/a\")"
   ]
  },
  {
   "cell_type": "code",
   "execution_count": null,
   "metadata": {
    "ExecuteTime": {
     "end_time": "2019-11-28T00:05:33.551778Z",
     "start_time": "2019-11-28T00:05:33.474805Z"
    },
    "hidden": true
   },
   "outputs": [],
   "source": [
    "confounds_df.head()"
   ]
  },
  {
   "cell_type": "code",
   "execution_count": null,
   "metadata": {
    "ExecuteTime": {
     "end_time": "2019-11-28T00:05:43.831360Z",
     "start_time": "2019-11-28T00:05:43.777820Z"
    },
    "hidden": true
   },
   "outputs": [],
   "source": [
    "poss_confounds = list(confounds_df.columns)\n",
    "poss_confounds[:5]"
   ]
  },
  {
   "cell_type": "markdown",
   "metadata": {},
   "source": [
    "### Define paths etc"
   ]
  },
  {
   "cell_type": "code",
   "execution_count": null,
   "metadata": {
    "ExecuteTime": {
     "end_time": "2019-12-19T23:17:13.084800Z",
     "start_time": "2019-12-19T23:17:13.025455Z"
    }
   },
   "outputs": [],
   "source": [
    "sub = \"AV\"\n",
    "ses = \"20111117\"\n",
    "\n",
    "raw_data_dir = os.path.abspath(\"/Users/smerdis/data/LGN/BIDS/AV_20111117_fromdicom/sub-AV/\")\n",
    "derivs_dir = os.path.abspath('/Users/smerdis/data/LGN/BIDS/AV_20111117_fromdicom/derivatives/')\n",
    "out_dir = os.path.join(derivs_dir, 'streams')\n",
    "ref_vol_name = \"ref_vol\"\n",
    "mask_file = os.path.join(out_dir, f\"sub-{sub}_ses-{ses}_mask.nii.gz\")\n",
    "coh_fn = os.path.join(out_dir, f\"sub-{sub}_ses-{ses}_task-hemi_desc-coherence_map.nii\")\n",
    "\n",
    "#mypreproc_bids_dir = os.path.abspath(\"/Users/smerdis/data/LGN/BIDS/AV_20111117/\")\n",
    "#fmriprep_dir = os.path.abspath(\"/Users/smerdis/data/LGN/BIDS/AV_20111117_fromRD/derivatives/RD_preproc/\")\n"
   ]
  },
  {
   "cell_type": "markdown",
   "metadata": {
    "heading_collapsed": true
   },
   "source": [
    "#### For testing BIDS names"
   ]
  },
  {
   "cell_type": "code",
   "execution_count": null,
   "metadata": {
    "ExecuteTime": {
     "end_time": "2019-12-17T19:53:30.509988Z",
     "start_time": "2019-12-17T19:53:30.457609Z"
    },
    "hidden": true
   },
   "outputs": [],
   "source": [
    "utils.isBIDSFile(mask_file)\n",
    "utils.isBIDSFile(coh_fn)\n",
    "utils.isBIDSFile(\"sub-AV_ses-20111117_desc-lgnROI1p20v0M_roi.nii.gz\")"
   ]
  },
  {
   "cell_type": "markdown",
   "metadata": {
    "heading_collapsed": true
   },
   "source": [
    "#### Make ref_vol from first dicom"
   ]
  },
  {
   "cell_type": "code",
   "execution_count": null,
   "metadata": {
    "ExecuteTime": {
     "end_time": "2019-12-13T01:30:03.862689Z",
     "start_time": "2019-12-13T01:30:03.805195Z"
    },
    "hidden": true
   },
   "outputs": [],
   "source": [
    "first_dicom = \"/Users/smerdis/data/LGN/AV_20111117_session/AV_20111117/AV_20111117_dicom/epi01_hemi/IM-0005-0001.dcm\""
   ]
  },
  {
   "cell_type": "code",
   "execution_count": null,
   "metadata": {
    "ExecuteTime": {
     "end_time": "2019-12-13T01:30:05.358972Z",
     "start_time": "2019-12-13T01:30:05.184011Z"
    },
    "hidden": true
   },
   "outputs": [],
   "source": [
    "!ls {first_dicom}"
   ]
  },
  {
   "cell_type": "code",
   "execution_count": null,
   "metadata": {
    "ExecuteTime": {
     "end_time": "2019-12-13T01:30:10.492324Z",
     "start_time": "2019-12-13T01:30:10.309846Z"
    },
    "hidden": true
   },
   "outputs": [],
   "source": [
    "!pwd"
   ]
  },
  {
   "cell_type": "code",
   "execution_count": null,
   "metadata": {
    "ExecuteTime": {
     "end_time": "2019-12-13T01:30:15.084724Z",
     "start_time": "2019-12-13T01:30:15.011846Z"
    },
    "hidden": true
   },
   "outputs": [],
   "source": [
    "dcm2niix_cmd = f\"dcm2niix -v 2 -s y -f {ref_vol_name} -z n -o {out_dir} {first_dicom}\"\n",
    "print(dcm2niix_cmd)\n",
    "#os.system(dcm2niix_cmd)"
   ]
  },
  {
   "cell_type": "markdown",
   "metadata": {
    "heading_collapsed": true
   },
   "source": [
    "#### mcflirt the bold files using ref_vol as the reference image, save them as _preproc"
   ]
  },
  {
   "cell_type": "code",
   "execution_count": null,
   "metadata": {
    "ExecuteTime": {
     "end_time": "2019-12-17T01:50:27.813627Z",
     "start_time": "2019-12-17T01:50:26.538518Z"
    },
    "hidden": true
   },
   "outputs": [],
   "source": [
    "from bids import BIDSLayout\n",
    "raw_layout = BIDSLayout(raw_data_dir, validate=False, derivatives=False)\n",
    "raw_bolds = sorted([f for f in raw_layout.get(subject=sub, session=ses, suffix='bold',\n",
    "            extension=['nii.gz'], return_type='file')])"
   ]
  },
  {
   "cell_type": "code",
   "execution_count": null,
   "metadata": {
    "ExecuteTime": {
     "end_time": "2019-12-17T01:57:58.311377Z",
     "start_time": "2019-12-17T01:54:25.090930Z"
    },
    "code_folding": [],
    "hidden": true
   },
   "outputs": [],
   "source": [
    "ref_vol_path = os.path.join(out_dir, ref_vol_name)\n",
    "for this_epi in raw_bolds:\n",
    "    epi_name = os.path.basename(this_epi)\n",
    "    epi_stub = epi_name.split('.')[0]\n",
    "    epi_stub_parts = epi_stub.split('_')\n",
    "    epi_stub_parts.insert(-1, 'desc-preproc')\n",
    "    epi_stub_mcf = '_'.join(epi_stub_parts)\n",
    "    mcflirt_cmd = f\"mcflirt -reffile {ref_vol_path} -plots -report -cost mutualinfo -smooth 16 -in {this_epi} -o {os.path.join(out_dir, epi_stub_mcf)}\"\n",
    "    print(mcflirt_cmd)\n",
    "    os.system(mcflirt_cmd)"
   ]
  },
  {
   "cell_type": "markdown",
   "metadata": {
    "heading_collapsed": true
   },
   "source": [
    "#### Move event and json files"
   ]
  },
  {
   "cell_type": "code",
   "execution_count": null,
   "metadata": {
    "ExecuteTime": {
     "end_time": "2019-12-05T20:47:08.151658Z",
     "start_time": "2019-12-05T20:47:08.098822Z"
    },
    "hidden": true
   },
   "outputs": [],
   "source": [
    "events_glob = f\"{mypreproc_bids_dir}/sub-{sub}/ses-{ses}/func/*events.tsv\"\n",
    "task_json_glob = f\"{mypreproc_bids_dir}/sub-{sub}/ses-{ses}/func/*task*json\"\n",
    "print(glob.glob(task_json_glob), sep=\"\\n\")"
   ]
  },
  {
   "cell_type": "code",
   "execution_count": null,
   "metadata": {
    "ExecuteTime": {
     "end_time": "2019-12-03T19:39:30.587016Z",
     "start_time": "2019-12-03T19:39:30.517298Z"
    },
    "hidden": true
   },
   "outputs": [],
   "source": [
    "for e in glob.glob(events_glob):\n",
    "    fn = os.path.split(e)[-1]\n",
    "    new_file_name = f\"{raw_data_dir}/ses-{ses}/func/{fn}\"\n",
    "    print(e, new_file_name, sep=\"\\n\")\n",
    "    shutil.copyfile(e, new_file_name)"
   ]
  },
  {
   "cell_type": "code",
   "execution_count": null,
   "metadata": {
    "ExecuteTime": {
     "end_time": "2019-12-03T19:40:16.653586Z",
     "start_time": "2019-12-03T19:40:16.584357Z"
    },
    "hidden": true
   },
   "outputs": [],
   "source": [
    "\n",
    "for e in glob.glob(task_json_glob):\n",
    "    fn = os.path.split(e)[-1]\n",
    "    new_file_name = f\"{raw_data_dir}/ses-{ses}/func/{fn}\"\n",
    "    print(e, new_file_name, sep=\"\\n\")\n",
    "    shutil.copyfile(e, new_file_name)"
   ]
  },
  {
   "cell_type": "markdown",
   "metadata": {
    "heading_collapsed": true
   },
   "source": [
    "### Fix the event files\n",
    "\n",
    "For this subject, I consulted the scan log to line up the scans to runs and moved the files around manually"
   ]
  },
  {
   "cell_type": "code",
   "execution_count": null,
   "metadata": {
    "hidden": true
   },
   "outputs": [],
   "source": []
  },
  {
   "cell_type": "code",
   "execution_count": null,
   "metadata": {
    "code_folding": [],
    "hidden": true
   },
   "outputs": [],
   "source": [
    "blocks_in_order = ['L', 'R']\n",
    "for thisrun in [1, 2, 3, 4]:\n",
    "    events_fn = f\"{raw_data_dir}/ses-{ses}/func/sub-{sub}_ses-{ses}_task-hemi_run-{thisrun:02d}_events.tsv\"\n",
    "    events_file_contents = f\"onset\\tduration\\ttrial_type\\n\"\n",
    "    time_between_onsets = 13.5\n",
    "    for i in range(22):\n",
    "        events_file_contents += f\"{i*time_between_onsets:.2f}\\t{time_between_onsets}\\t{blocks_in_order[i%(len(blocks_in_order))]}\\n\"\n",
    "    with open(events_fn, 'w') as f:\n",
    "        f.write(events_file_contents)\n",
    "    #print(events_fn, '\\n', events_file_contents)"
   ]
  },
  {
   "cell_type": "markdown",
   "metadata": {},
   "source": [
    "## GLM invocation from a cell"
   ]
  },
  {
   "cell_type": "markdown",
   "metadata": {},
   "source": [
    "### Only run one of the next two cells! (Picks which task and runs to analyze)\n",
    "\n",
    "#### Hemifield"
   ]
  },
  {
   "cell_type": "code",
   "execution_count": null,
   "metadata": {
    "ExecuteTime": {
     "end_time": "2019-12-19T23:17:14.853397Z",
     "start_time": "2019-12-19T23:17:14.807218Z"
    }
   },
   "outputs": [],
   "source": [
    "task = \"hemi\"\n",
    "runs = [1, 2]\n",
    "#space=\"T1w\""
   ]
  },
  {
   "cell_type": "markdown",
   "metadata": {
    "heading_collapsed": true
   },
   "source": [
    "#### MP"
   ]
  },
  {
   "cell_type": "code",
   "execution_count": null,
   "metadata": {
    "ExecuteTime": {
     "end_time": "2019-11-27T04:07:18.297885Z",
     "start_time": "2019-11-27T04:07:18.234804Z"
    },
    "hidden": true
   },
   "outputs": [],
   "source": [
    "task = \"mp\"\n",
    "runs = [1, 2, 3, 4, 5, 6, 7, 8]\n",
    "space=\"T1w\""
   ]
  },
  {
   "cell_type": "markdown",
   "metadata": {},
   "source": [
    "### Use BIDSLayout to get files that would be passed to workflow"
   ]
  },
  {
   "cell_type": "code",
   "execution_count": null,
   "metadata": {
    "ExecuteTime": {
     "end_time": "2019-12-19T23:17:17.634054Z",
     "start_time": "2019-12-19T23:17:17.155057Z"
    }
   },
   "outputs": [],
   "source": [
    "from bids import BIDSLayout"
   ]
  },
  {
   "cell_type": "code",
   "execution_count": null,
   "metadata": {
    "ExecuteTime": {
     "end_time": "2019-12-19T23:17:17.935148Z",
     "start_time": "2019-12-19T23:17:17.636711Z"
    }
   },
   "outputs": [],
   "source": [
    "raw_layout = BIDSLayout(raw_data_dir, validate=False, derivatives=False)"
   ]
  },
  {
   "cell_type": "code",
   "execution_count": null,
   "metadata": {
    "ExecuteTime": {
     "end_time": "2019-12-19T23:17:18.337480Z",
     "start_time": "2019-12-19T23:17:18.178829Z"
    }
   },
   "outputs": [],
   "source": [
    "preproc_layout = BIDSLayout(out_dir, validate=False)"
   ]
  },
  {
   "cell_type": "code",
   "execution_count": null,
   "metadata": {
    "ExecuteTime": {
     "end_time": "2019-12-19T23:17:18.451303Z",
     "start_time": "2019-12-19T23:17:18.383154Z"
    }
   },
   "outputs": [],
   "source": [
    "bolds = sorted(preproc_layout.get(subject=sub, session=ses, task=task, extension=['nii.gz'],\n",
    "                           desc=\"preproc\", return_type='file'))\n",
    "print(bolds)"
   ]
  },
  {
   "cell_type": "code",
   "execution_count": null,
   "metadata": {
    "ExecuteTime": {
     "end_time": "2019-12-19T23:17:18.618528Z",
     "start_time": "2019-12-19T23:17:18.557857Z"
    },
    "code_folding": []
   },
   "outputs": [],
   "source": [
    "#masks = sorted([f for f in preproc_layout.get(subject=sub, suffix='mask',\n",
    "#            session=ses, run=[], extension=['nii.gz'], return_type='file')])\n",
    "\n",
    "masks = [mask_file]*2"
   ]
  },
  {
   "cell_type": "code",
   "execution_count": null,
   "metadata": {
    "ExecuteTime": {
     "end_time": "2019-12-19T23:17:19.150264Z",
     "start_time": "2019-12-19T23:17:19.094952Z"
    }
   },
   "outputs": [],
   "source": [
    "masks"
   ]
  },
  {
   "cell_type": "code",
   "execution_count": null,
   "metadata": {
    "ExecuteTime": {
     "end_time": "2019-12-19T23:17:19.588567Z",
     "start_time": "2019-12-19T23:17:19.313983Z"
    }
   },
   "outputs": [],
   "source": [
    "raw_bolds = raw_layout.get(subject=sub, suffix=\"bold\",\n",
    "                           task=task, session=ses, run=runs, extension=['nii.gz'], return_type='file')"
   ]
  },
  {
   "cell_type": "code",
   "execution_count": null,
   "metadata": {
    "ExecuteTime": {
     "end_time": "2019-12-19T23:17:20.031351Z",
     "start_time": "2019-12-19T23:17:19.975952Z"
    }
   },
   "outputs": [],
   "source": [
    "raw_bolds"
   ]
  },
  {
   "cell_type": "code",
   "execution_count": null,
   "metadata": {
    "ExecuteTime": {
     "end_time": "2019-12-19T23:17:21.274257Z",
     "start_time": "2019-12-19T23:17:20.244941Z"
    }
   },
   "outputs": [],
   "source": [
    "raw_layout.get_tr(raw_bolds[0])"
   ]
  },
  {
   "cell_type": "code",
   "execution_count": null,
   "metadata": {
    "ExecuteTime": {
     "end_time": "2019-12-19T23:17:22.813074Z",
     "start_time": "2019-12-19T23:17:21.277449Z"
    }
   },
   "outputs": [],
   "source": [
    "TRs = [raw_layout.get_tr(f) for f in raw_bolds]"
   ]
  },
  {
   "cell_type": "code",
   "execution_count": null,
   "metadata": {
    "ExecuteTime": {
     "end_time": "2019-12-19T23:17:22.874091Z",
     "start_time": "2019-12-19T23:17:22.816154Z"
    }
   },
   "outputs": [],
   "source": [
    "print(TRs)\n",
    "assert TRs.count(TRs[0])==len(TRs)"
   ]
  },
  {
   "cell_type": "markdown",
   "metadata": {
    "heading_collapsed": true
   },
   "source": [
    "### Use the actual utils.py function"
   ]
  },
  {
   "cell_type": "code",
   "execution_count": null,
   "metadata": {
    "ExecuteTime": {
     "end_time": "2019-12-06T21:30:39.463297Z",
     "start_time": "2019-12-06T21:30:36.892669Z"
    },
    "hidden": true
   },
   "outputs": [],
   "source": [
    "bolds, masks, eventfiles, TR, confounds = utils.get_files_fmriprep14(sub, ses, task,\n",
    "    raw_data_dir, fmriprep_dir, run=runs)"
   ]
  },
  {
   "cell_type": "code",
   "execution_count": null,
   "metadata": {
    "ExecuteTime": {
     "end_time": "2019-12-06T21:30:47.035587Z",
     "start_time": "2019-12-06T21:30:46.970819Z"
    },
    "hidden": true
   },
   "outputs": [],
   "source": [
    "# runs is a list containing the fmriprep run numbers we want to analyze\n",
    "# so run is the fmriprep run number, and run_idx is its position in runs\n",
    "run = 2\n",
    "if run not in runs:\n",
    "    print('Error, that run is not present for this task!')\n",
    "else:\n",
    "    run_idx = runs.index(run)\n",
    "    bold_file = bolds[run_idx]\n",
    "    mask_file = masks[run_idx]\n",
    "    print(run, bold_file, mask_file, sep=\"\\n\")"
   ]
  },
  {
   "cell_type": "markdown",
   "metadata": {
    "heading_collapsed": true
   },
   "source": [
    "### Just load the files directly"
   ]
  },
  {
   "cell_type": "code",
   "execution_count": null,
   "metadata": {
    "ExecuteTime": {
     "end_time": "2019-12-06T21:06:23.785440Z",
     "start_time": "2019-12-06T21:06:23.727583Z"
    },
    "hidden": true
   },
   "outputs": [],
   "source": [
    "anat_file = os.path.join(fmriprep_dir, f\"sub-{sub}/ses-{ses}\", 'anat', f\"sub-{sub}_desc-preproc_T1w.nii.gz\")\n",
    "#func = os.path.join(fmriprep_dir, bolds[0])\n",
    "#mROI = os.path.join(fmriprep_dir, f\"sub-{sub}/ses-{ses}/func/sub-{sub}_ses-{ses}_task-{task}_run-01_lLGN_roi_manual.nii.gz\")"
   ]
  },
  {
   "cell_type": "code",
   "execution_count": null,
   "metadata": {
    "ExecuteTime": {
     "end_time": "2019-12-06T21:06:24.206671Z",
     "start_time": "2019-12-06T21:06:24.148860Z"
    },
    "hidden": true
   },
   "outputs": [],
   "source": [
    "# nipype_dir = f\"{out_dir}/nipype_AV_20111117_mp_2019-11-26_20-26-54\" #mp (update each time glm is run)\n",
    "# nipype_dir = f\"{out_dir}/nipype_AV_20111117_hemi_2019-11-26_21-06-50\" #hemi (update each time glm is run)\n",
    "nipype_dir = f\"{out_dir}/nipype_AV_20111117_{task}_rdpreproc_noconfounds\"\n",
    "wf_dir = f\"{nipype_dir}/{task}/modelfit\"\n",
    "datasink_dir = os.path.join(wf_dir, 'datasink')\n",
    "print(datasink_dir)"
   ]
  },
  {
   "cell_type": "code",
   "execution_count": null,
   "metadata": {
    "ExecuteTime": {
     "end_time": "2019-12-06T21:00:42.481144Z",
     "start_time": "2019-12-06T21:00:42.425135Z"
    },
    "hidden": true
   },
   "outputs": [],
   "source": [
    "hemi_command = f\"python glm_hemi_AV20111117_rdpreproc.py {raw_data_dir} \\\n",
    "{out_dir} {sub} {ses} hemi None {nipype_dir} \\\"[1, 2]\\\"\"\n",
    "mp_command = f\"python glm_mp_AV20111117.py {raw_data_dir} \\\n",
    "{out_dir} {sub} {ses} mp {space} {nipype_dir} \\\"{runs}\\\"\"\n",
    "print(hemi_command)\n",
    "print(mp_command)"
   ]
  },
  {
   "cell_type": "code",
   "execution_count": null,
   "metadata": {
    "ExecuteTime": {
     "end_time": "2019-12-06T21:00:44.716529Z",
     "start_time": "2019-12-06T21:00:44.528064Z"
    },
    "hidden": true
   },
   "outputs": [],
   "source": [
    "!ls \"{datasink_dir}\""
   ]
  },
  {
   "cell_type": "code",
   "execution_count": null,
   "metadata": {
    "ExecuteTime": {
     "end_time": "2019-12-06T21:00:45.758011Z",
     "start_time": "2019-12-06T21:00:45.563559Z"
    },
    "hidden": true
   },
   "outputs": [],
   "source": [
    "!ls \"{datasink_dir}/results_dir\""
   ]
  },
  {
   "cell_type": "markdown",
   "metadata": {
    "heading_collapsed": true
   },
   "source": [
    "### Filenames of other maps etc we want to overlay on our images"
   ]
  },
  {
   "cell_type": "code",
   "execution_count": null,
   "metadata": {
    "ExecuteTime": {
     "end_time": "2019-12-06T20:05:40.870834Z",
     "start_time": "2019-12-06T20:05:40.685744Z"
    },
    "hidden": true
   },
   "outputs": [],
   "source": [
    "coh_fn = f\"{out_dir}/nitime/sub-{sub}_ses-{ses}_task-hemi_run-02_desc-coherence_map.nii\"\n",
    "print(coh_fn)\n",
    "!ls {coh_fn}"
   ]
  },
  {
   "cell_type": "code",
   "execution_count": null,
   "metadata": {
    "ExecuteTime": {
     "end_time": "2019-11-28T00:21:52.221412Z",
     "start_time": "2019-11-28T00:21:52.142244Z"
    },
    "hidden": true
   },
   "outputs": [],
   "source": [
    "# from fsleyes 0.32\n",
    "def isBIDSFile(filename, strict=True):\n",
    "    \"\"\"Returns ``True`` if ``filename`` looks like a BIDS image or JSON file.\n",
    "\n",
    "    :arg filename: Name of file to check\n",
    "    :arg strict:   If ``True`` (the default), the file must be within a BIDS\n",
    "                   dataset directory, as defined by :func:`inBIDSDir`.\n",
    "    \"\"\"\n",
    "\n",
    "    name    = os.path.basename(filename)\n",
    "    pattern = r'([a-z0-9]+-[a-z0-9]+_)*([a-z0-9])+\\.(nii|nii\\.gz|json)'\n",
    "    flags   = re.ASCII | re.IGNORECASE\n",
    "    match   = re.fullmatch(pattern, name, flags) is not None\n",
    "    \n",
    "    print(name, match)\n",
    "\n",
    "    return ((not strict) or inBIDSDir(filename)) and match"
   ]
  },
  {
   "cell_type": "code",
   "execution_count": null,
   "metadata": {
    "ExecuteTime": {
     "end_time": "2019-11-28T00:21:53.103312Z",
     "start_time": "2019-11-28T00:21:52.925406Z"
    },
    "hidden": true
   },
   "outputs": [],
   "source": [
    "isBIDSFile(coh_fn)"
   ]
  },
  {
   "cell_type": "markdown",
   "metadata": {
    "heading_collapsed": true
   },
   "source": [
    "### View the contrast beta maps overlaid on the functional and anatomical images"
   ]
  },
  {
   "cell_type": "code",
   "execution_count": null,
   "metadata": {
    "ExecuteTime": {
     "end_time": "2019-12-06T20:02:29.051495Z",
     "start_time": "2019-12-06T20:02:28.987493Z"
    },
    "hidden": true
   },
   "outputs": [],
   "source": [
    "contrasts = utils.get_contrasts(task)"
   ]
  },
  {
   "cell_type": "code",
   "execution_count": null,
   "metadata": {
    "ExecuteTime": {
     "end_time": "2019-12-06T20:02:30.544090Z",
     "start_time": "2019-12-06T20:02:30.486487Z"
    },
    "hidden": true
   },
   "outputs": [],
   "source": [
    "contrasts"
   ]
  },
  {
   "cell_type": "code",
   "execution_count": null,
   "metadata": {
    "ExecuteTime": {
     "end_time": "2019-12-06T20:02:34.729820Z",
     "start_time": "2019-12-06T20:02:34.671294Z"
    },
    "hidden": true
   },
   "outputs": [],
   "source": [
    "contrast_idx = 2 # position in the list of contrasts (zero-indexed)\n",
    "contrast = contrast_idx + 1 # suffix number of the level 1 COPE file for that contrast\n",
    "l1copes, l2copes = utils.get_model_outputs(datasink_dir, [contrast])"
   ]
  },
  {
   "cell_type": "code",
   "execution_count": null,
   "metadata": {
    "ExecuteTime": {
     "end_time": "2019-12-06T20:02:35.928132Z",
     "start_time": "2019-12-06T20:02:35.872205Z"
    },
    "hidden": true
   },
   "outputs": [],
   "source": [
    "l1copes"
   ]
  },
  {
   "cell_type": "code",
   "execution_count": null,
   "metadata": {
    "ExecuteTime": {
     "end_time": "2019-12-06T20:02:36.725075Z",
     "start_time": "2019-12-06T20:02:36.668139Z"
    },
    "hidden": true
   },
   "outputs": [],
   "source": [
    "l2copes"
   ]
  },
  {
   "cell_type": "code",
   "execution_count": null,
   "metadata": {
    "ExecuteTime": {
     "end_time": "2019-12-06T20:02:40.443895Z",
     "start_time": "2019-12-06T20:02:40.367708Z"
    },
    "hidden": true
   },
   "outputs": [],
   "source": [
    "utils.view_results(datasink_dir, [contrast], anat_file, bold_file)"
   ]
  },
  {
   "cell_type": "code",
   "execution_count": null,
   "metadata": {
    "ExecuteTime": {
     "end_time": "2019-12-06T20:11:52.220246Z",
     "start_time": "2019-12-06T20:11:52.160455Z"
    },
    "hidden": true
   },
   "outputs": [],
   "source": [
    "print(f\"{utils.view_results(datasink_dir, [3], anat_file, bold_file)} {coh_fn}\") # R-L"
   ]
  },
  {
   "cell_type": "markdown",
   "metadata": {
    "heading_collapsed": true
   },
   "source": [
    "### View these files using nilearn tools"
   ]
  },
  {
   "cell_type": "markdown",
   "metadata": {
    "hidden": true
   },
   "source": [
    "#### First establish some coordinates to view at"
   ]
  },
  {
   "cell_type": "code",
   "execution_count": null,
   "metadata": {
    "ExecuteTime": {
     "end_time": "2019-11-26T23:14:38.772707Z",
     "start_time": "2019-11-26T23:14:38.706923Z"
    },
    "hidden": true
   },
   "outputs": [],
   "source": [
    "# cut in x-direction\n",
    "sagittal = 43\n",
    "# cut in y-direction\n",
    "coronal = 27\n",
    "# cut in z-direction\n",
    "axial = -2\n",
    "\n",
    "# coordinates displaying should be prepared as a list\n",
    "cut_coords = [sagittal, coronal, axial]"
   ]
  },
  {
   "cell_type": "markdown",
   "metadata": {
    "hidden": true
   },
   "source": [
    "#### Now begin plotting"
   ]
  },
  {
   "cell_type": "code",
   "execution_count": null,
   "metadata": {
    "ExecuteTime": {
     "end_time": "2019-11-26T23:14:42.944398Z",
     "start_time": "2019-11-26T23:14:40.221562Z"
    },
    "hidden": true
   },
   "outputs": [],
   "source": [
    "mean_bold = mean_img(bold_file)\n",
    "plot_epi(mean_bold, title=f\"Mean of BOLD run {run} of task {task}\", cut_coords=cut_coords)"
   ]
  },
  {
   "cell_type": "code",
   "execution_count": null,
   "metadata": {
    "ExecuteTime": {
     "end_time": "2019-11-26T23:14:44.608269Z",
     "start_time": "2019-11-26T23:14:42.948752Z"
    },
    "hidden": true
   },
   "outputs": [],
   "source": [
    "plot_roi(mask_file, mean_bold, title=f\"Brainmask of BOLD run {run} of task {task}\")"
   ]
  },
  {
   "cell_type": "code",
   "execution_count": null,
   "metadata": {
    "ExecuteTime": {
     "end_time": "2019-11-26T23:14:47.996340Z",
     "start_time": "2019-11-26T23:14:44.611483Z"
    },
    "hidden": true
   },
   "outputs": [],
   "source": [
    "for l1cope in l1copes:\n",
    "    plot_stat_map(l1cope, mean_bold,\n",
    "        title=f\"Level 1 COPE for contrast {contrast} of task {task}\",\n",
    "        threshold=10, cut_coords=cut_coords, colorbar=True)"
   ]
  },
  {
   "cell_type": "code",
   "execution_count": null,
   "metadata": {
    "ExecuteTime": {
     "end_time": "2019-11-26T23:14:49.641718Z",
     "start_time": "2019-11-26T23:14:47.999931Z"
    },
    "hidden": true
   },
   "outputs": [],
   "source": [
    "plot_stat_map(l2copes[0], mean_bold,\n",
    "    title=f\"Level 2 COPE for contrast {contrast} of task {task}\",\n",
    "    threshold=10, cut_coords=[2, -5, -2])"
   ]
  },
  {
   "cell_type": "markdown",
   "metadata": {
    "heading_collapsed": true
   },
   "source": [
    "### LGN region drawing/manipulation!"
   ]
  },
  {
   "cell_type": "code",
   "execution_count": null,
   "metadata": {
    "ExecuteTime": {
     "end_time": "2019-08-29T14:40:18.270334Z",
     "start_time": "2019-08-29T14:40:18.190413Z"
    },
    "hidden": true
   },
   "outputs": [],
   "source": [
    "manual_roi = f\"{out_dir}/sub-NB_R-LGN_mask_manual.nii.gz\""
   ]
  },
  {
   "cell_type": "code",
   "execution_count": null,
   "metadata": {
    "ExecuteTime": {
     "end_time": "2019-08-29T14:40:19.168446Z",
     "start_time": "2019-08-29T14:40:18.275027Z"
    },
    "hidden": true
   },
   "outputs": [],
   "source": [
    "plot_roi(manual_roi, mean_bold, title=f\"Manual LGN mask\")"
   ]
  },
  {
   "cell_type": "code",
   "execution_count": null,
   "metadata": {
    "ExecuteTime": {
     "end_time": "2019-08-29T14:40:19.294153Z",
     "start_time": "2019-08-29T14:40:19.171365Z"
    },
    "hidden": true
   },
   "outputs": [],
   "source": [
    "r_lgn_mask_manual = load_img(manual_roi).get_data().astype(bool)\n",
    "r_lgn_mask_manual.shape"
   ]
  },
  {
   "cell_type": "markdown",
   "metadata": {
    "collapsed": true
   },
   "source": [
    "## Coherence analysis to identify LGN voxels responding at flicker frequency"
   ]
  },
  {
   "cell_type": "markdown",
   "metadata": {
    "heading_collapsed": true
   },
   "source": [
    "### raw nibabel"
   ]
  },
  {
   "cell_type": "code",
   "execution_count": null,
   "metadata": {
    "hidden": true
   },
   "outputs": [],
   "source": [
    "img = nib.load(bold_file)"
   ]
  },
  {
   "cell_type": "code",
   "execution_count": null,
   "metadata": {
    "hidden": true
   },
   "outputs": [],
   "source": [
    "print(img.header)"
   ]
  },
  {
   "cell_type": "code",
   "execution_count": null,
   "metadata": {
    "hidden": true
   },
   "outputs": [],
   "source": [
    "img_data = img.get_fdata()"
   ]
  },
  {
   "cell_type": "code",
   "execution_count": null,
   "metadata": {
    "hidden": true
   },
   "outputs": [],
   "source": [
    "plt.imshow(img_data[26, :, :, 44].T, cmap=\"gray\", origin=\"lower\")"
   ]
  },
  {
   "cell_type": "code",
   "execution_count": null,
   "metadata": {
    "hidden": true
   },
   "outputs": [],
   "source": [
    "nvox = img.shape[0] * img.shape[1] * img.shape[2]"
   ]
  },
  {
   "cell_type": "code",
   "execution_count": null,
   "metadata": {
    "hidden": true
   },
   "outputs": [],
   "source": [
    "n_timepoints = img.shape[-1]"
   ]
  },
  {
   "cell_type": "code",
   "execution_count": null,
   "metadata": {
    "hidden": true
   },
   "outputs": [],
   "source": [
    "print(nvox, n_timepoints)"
   ]
  },
  {
   "cell_type": "code",
   "execution_count": null,
   "metadata": {
    "hidden": true
   },
   "outputs": [],
   "source": [
    "img_flat = np.reshape(img_data, (nvox, -1))"
   ]
  },
  {
   "cell_type": "code",
   "execution_count": null,
   "metadata": {
    "hidden": true
   },
   "outputs": [],
   "source": [
    "img_flat[:10, 0]"
   ]
  },
  {
   "cell_type": "code",
   "execution_count": null,
   "metadata": {
    "hidden": true
   },
   "outputs": [],
   "source": [
    "#TR = 2.25 # seconds\n",
    "freq = 4 # Hz\n",
    "total_len = img.shape[-1]*TR # seconds\n",
    "fig, ax = plt.subplots(1)\n",
    "t = np.arange(0.0, total_len, 0.05)\n",
    "sinusoid = np.sin(freq*2*np.pi*t)\n",
    "print(sinusoid.shape)\n",
    "\n",
    "ax.set_xlim(0, 8)\n",
    "ax.plot(t, sinusoid)"
   ]
  },
  {
   "cell_type": "code",
   "execution_count": null,
   "metadata": {
    "hidden": true
   },
   "outputs": [],
   "source": [
    "2.25*139"
   ]
  },
  {
   "cell_type": "markdown",
   "metadata": {},
   "source": [
    "### Begin coherence analysis in nitime"
   ]
  },
  {
   "cell_type": "code",
   "execution_count": null,
   "metadata": {
    "ExecuteTime": {
     "end_time": "2019-12-19T23:17:24.859990Z",
     "start_time": "2019-12-19T23:17:24.806043Z"
    }
   },
   "outputs": [],
   "source": [
    "#run = 2\n",
    "if TRs:\n",
    "    TR = TRs[0]\n",
    "else:\n",
    "    TR = 2.25\n",
    "#bold_file = f\"/Users/smerdis/data/LGN/BIDS/AV_20111117_fromRD/derivatives/RD_preproc/sub-AV/ses-20111117/func/sub-AV_ses-20111117_task-hemi_run-{run:02d}_desc-preproc_bold.nii.gz\""
   ]
  },
  {
   "cell_type": "code",
   "execution_count": null,
   "metadata": {
    "ExecuteTime": {
     "end_time": "2019-12-19T23:45:52.720468Z",
     "start_time": "2019-12-19T23:45:52.498322Z"
    }
   },
   "outputs": [],
   "source": [
    "cycle_duration = 27 # (should be 27s)\n",
    "hemi_freq = (1.0/cycle_duration) # of hemifield alternation, in hertz\n",
    "n_trs_func = 139 # Length, in TRs, on a functional scan\n",
    "total_len = n_trs_func*TR # seconds\n",
    "Fs = 1/TR # Sampling freq\n",
    "trs_exc_beg = 6\n",
    "trs_exc_end = 1\n",
    "nperseg = n_trs_func - trs_exc_beg - trs_exc_end\n",
    "\n",
    "f_lb = 0.02\n",
    "f_ub = 0.15\n",
    "\n",
    "print(hemi_freq)\n",
    "\n",
    "t = np.arange(0.0, total_len, TR)\n",
    "t_trim = np.arange((trs_exc_beg-1)*TR, (total_len - trs_exc_beg - trs_exc_end)+1, TR)\n",
    "hemifield_alternation_sinusoid = np.sin(hemi_freq*2*np.pi*t)\n",
    "hemi_alt_trim = hemifield_alternation_sinusoid[trs_exc_beg:(-1*trs_exc_end)]\n",
    "print(t, hemifield_alternation_sinusoid.shape)\n",
    "\n",
    "fig, ax = plt.subplots(1)\n",
    "ax.set_xlim(0, 50)\n",
    "ax.plot(t, hemifield_alternation_sinusoid)\n",
    "ax.plot(t_trim, hemi_alt_trim)"
   ]
  },
  {
   "cell_type": "markdown",
   "metadata": {},
   "source": [
    "#### average the runs"
   ]
  },
  {
   "cell_type": "code",
   "execution_count": null,
   "metadata": {
    "ExecuteTime": {
     "end_time": "2019-12-19T23:45:57.271719Z",
     "start_time": "2019-12-19T23:45:57.215961Z"
    }
   },
   "outputs": [],
   "source": [
    "masker = NiftiMasker(detrend=False, standardize=\"psc\", mask_strategy=\"epi\", high_pass=f_lb, low_pass=f_ub, t_r=TR) # "
   ]
  },
  {
   "cell_type": "code",
   "execution_count": null,
   "metadata": {
    "ExecuteTime": {
     "end_time": "2019-12-19T23:45:58.430740Z",
     "start_time": "2019-12-19T23:45:57.538815Z"
    }
   },
   "outputs": [],
   "source": [
    "masker.fit(bolds[0])"
   ]
  },
  {
   "cell_type": "code",
   "execution_count": null,
   "metadata": {
    "ExecuteTime": {
     "end_time": "2019-12-19T23:45:58.505497Z",
     "start_time": "2019-12-19T23:45:58.434099Z"
    }
   },
   "outputs": [],
   "source": [
    "masker.mask_img_.to_filename(mask_file)"
   ]
  },
  {
   "cell_type": "code",
   "execution_count": null,
   "metadata": {
    "ExecuteTime": {
     "end_time": "2019-12-19T23:45:58.579530Z",
     "start_time": "2019-12-19T23:45:58.508715Z"
    }
   },
   "outputs": [],
   "source": [
    "mask_img = masker.mask_img_\n",
    "mask_img.shape"
   ]
  },
  {
   "cell_type": "code",
   "execution_count": null,
   "metadata": {
    "ExecuteTime": {
     "end_time": "2019-12-19T23:46:25.816792Z",
     "start_time": "2019-12-19T23:45:59.564674Z"
    }
   },
   "outputs": [],
   "source": [
    "mean_bold_timeseries = utils.average_timeseries(bolds, masker)"
   ]
  },
  {
   "cell_type": "code",
   "execution_count": null,
   "metadata": {
    "ExecuteTime": {
     "end_time": "2019-12-19T23:46:25.878906Z",
     "start_time": "2019-12-19T23:46:25.819213Z"
    }
   },
   "outputs": [],
   "source": [
    "mean_bold_timeseries.shape"
   ]
  },
  {
   "cell_type": "code",
   "execution_count": null,
   "metadata": {
    "ExecuteTime": {
     "end_time": "2019-12-19T23:46:25.943183Z",
     "start_time": "2019-12-19T23:46:25.881904Z"
    }
   },
   "outputs": [],
   "source": [
    "mean_bold_timeseries[:5, :5]"
   ]
  },
  {
   "cell_type": "code",
   "execution_count": null,
   "metadata": {
    "ExecuteTime": {
     "end_time": "2019-12-19T23:46:26.004157Z",
     "start_time": "2019-12-19T23:46:25.946023Z"
    }
   },
   "outputs": [],
   "source": [
    "hemi_ts = ts.TimeSeries(data=hemifield_alternation_sinusoid,\n",
    "                         sampling_interval=TR)\n",
    "hemi_ts_trim = ts.TimeSeries(data=hemi_alt_trim,\n",
    "                         sampling_interval=TR)"
   ]
  },
  {
   "cell_type": "code",
   "execution_count": null,
   "metadata": {
    "ExecuteTime": {
     "end_time": "2019-12-19T23:46:26.075666Z",
     "start_time": "2019-12-19T23:46:26.007581Z"
    }
   },
   "outputs": [],
   "source": [
    "hemi_ts.shape, hemi_ts_trim.shape"
   ]
  },
  {
   "cell_type": "code",
   "execution_count": null,
   "metadata": {
    "ExecuteTime": {
     "end_time": "2019-12-19T23:46:26.141703Z",
     "start_time": "2019-12-19T23:46:26.078207Z"
    }
   },
   "outputs": [],
   "source": [
    "mean_bold_timeseries.shape"
   ]
  },
  {
   "cell_type": "code",
   "execution_count": null,
   "metadata": {
    "ExecuteTime": {
     "end_time": "2019-12-19T23:46:26.207573Z",
     "start_time": "2019-12-19T23:46:26.144159Z"
    }
   },
   "outputs": [],
   "source": [
    "trim_bold_nm = mean_bold_timeseries[trs_exc_beg:(-1*trs_exc_end),:] # note we are using the mean of the two runs\n",
    "trim_bold_nm.shape"
   ]
  },
  {
   "cell_type": "markdown",
   "metadata": {},
   "source": [
    "### begin coherence stuff"
   ]
  },
  {
   "cell_type": "markdown",
   "metadata": {
    "heading_collapsed": true
   },
   "source": [
    "#### dummy stuff to see how coherence works"
   ]
  },
  {
   "cell_type": "code",
   "execution_count": null,
   "metadata": {
    "hidden": true
   },
   "outputs": [],
   "source": [
    "timepad = np.pad(hemifield_alternation_sinusoid, (3,0), 'constant',\n",
    "                 constant_values=(0,0))[:hemifield_alternation_sinusoid.shape[0]]\n",
    "timepad2 = np.pad(hemifield_alternation_sinusoid, (6,0), 'constant',\n",
    "                 constant_values=(0,0))[:hemifield_alternation_sinusoid.shape[0]]\n",
    "timepad3 = np.pad(hemifield_alternation_sinusoid, (8,0), 'constant',\n",
    "                 constant_values=(0,0))[:hemifield_alternation_sinusoid.shape[0]]"
   ]
  },
  {
   "cell_type": "code",
   "execution_count": null,
   "metadata": {
    "hidden": true
   },
   "outputs": [],
   "source": [
    "fig, ax = plt.subplots(1)\n",
    "ax.set_xlim(0, 50)\n",
    "ax.plot(t, hemifield_alternation_sinusoid)\n",
    "ax.plot(t, timepad)\n",
    "ax.plot(t, timepad2)\n",
    "ax.plot(t, timepad3)"
   ]
  },
  {
   "cell_type": "markdown",
   "metadata": {},
   "source": [
    "#### analyze the real fmri data"
   ]
  },
  {
   "cell_type": "code",
   "execution_count": null,
   "metadata": {
    "ExecuteTime": {
     "end_time": "2019-12-19T23:46:26.268173Z",
     "start_time": "2019-12-19T23:46:26.211165Z"
    }
   },
   "outputs": [],
   "source": [
    "masked_ts_flat = trim_bold_nm.T # want nvox, n_tp so transpose NiftiMasker result\n",
    "#demean_ts_flat = demean.T"
   ]
  },
  {
   "cell_type": "code",
   "execution_count": null,
   "metadata": {
    "ExecuteTime": {
     "end_time": "2019-12-19T23:46:26.511959Z",
     "start_time": "2019-12-19T23:46:26.271340Z"
    }
   },
   "outputs": [],
   "source": [
    "t=t_trim\n",
    "print(t)\n",
    "fig, ax = plt.subplots(1)\n",
    "ax.set_xlim(0, 315)\n",
    "ax.plot(t, hemi_alt_trim)\n",
    "ax.plot(t, masked_ts_flat[32, :])\n",
    "ax.plot(t, masked_ts_flat[3222, :])\n",
    "ax.plot(t, masked_ts_flat[11513, :])\n",
    "#ax.plot(t, masked_ts_flat[546434, :])"
   ]
  },
  {
   "cell_type": "markdown",
   "metadata": {},
   "source": [
    "#### SpectralAnalyzer"
   ]
  },
  {
   "cell_type": "code",
   "execution_count": null,
   "metadata": {
    "ExecuteTime": {
     "end_time": "2019-12-19T23:46:30.845280Z",
     "start_time": "2019-12-19T23:46:30.788616Z"
    }
   },
   "outputs": [],
   "source": [
    "bold_flat = ts.TimeSeries(masked_ts_flat[:, :], sampling_interval=TR)\n",
    "#bold_flat = ts.TimeSeries(demean_ts_flat[:, :], sampling_interval=TR)"
   ]
  },
  {
   "cell_type": "code",
   "execution_count": null,
   "metadata": {
    "ExecuteTime": {
     "end_time": "2019-12-20T00:19:10.818873Z",
     "start_time": "2019-12-20T00:19:10.760911Z"
    }
   },
   "outputs": [],
   "source": [
    "bold_flat.sampling_rate"
   ]
  },
  {
   "cell_type": "code",
   "execution_count": null,
   "metadata": {
    "ExecuteTime": {
     "end_time": "2019-12-20T00:22:34.842686Z",
     "start_time": "2019-12-20T00:22:34.783705Z"
    }
   },
   "outputs": [],
   "source": [
    "bold_flat.shape"
   ]
  },
  {
   "cell_type": "code",
   "execution_count": null,
   "metadata": {
    "ExecuteTime": {
     "end_time": "2019-12-19T23:47:02.495216Z",
     "start_time": "2019-12-19T23:47:02.440499Z"
    }
   },
   "outputs": [],
   "source": [
    "assert(nperseg == masked_ts_flat.shape[-1])"
   ]
  },
  {
   "cell_type": "code",
   "execution_count": null,
   "metadata": {
    "ExecuteTime": {
     "end_time": "2019-12-20T00:19:29.575938Z",
     "start_time": "2019-12-20T00:19:29.521077Z"
    }
   },
   "outputs": [],
   "source": [
    "S_original = nta.SpectralAnalyzer(bold_flat, method={'this_method':'welch', 'NFFT':nperseg, 'Fs':bold_flat.sampling_rate})"
   ]
  },
  {
   "cell_type": "code",
   "execution_count": null,
   "metadata": {
    "ExecuteTime": {
     "end_time": "2019-12-20T00:19:31.609433Z",
     "start_time": "2019-12-20T00:19:31.553756Z"
    }
   },
   "outputs": [],
   "source": [
    "print(S_original)"
   ]
  },
  {
   "cell_type": "code",
   "execution_count": null,
   "metadata": {
    "ExecuteTime": {
     "end_time": "2019-12-20T00:19:37.355634Z",
     "start_time": "2019-12-20T00:19:37.295932Z"
    }
   },
   "outputs": [],
   "source": [
    "def plot_spectra(S_original, voxid):\n",
    "    fig01 = plt.figure()\n",
    "    ax01 = fig01.add_subplot(1, 1, 1)\n",
    "    ax01.plot(S_original.psd[0],\n",
    "              S_original.psd[1][voxid],\n",
    "              label='Welch PSD')\n",
    "    print(S_original.psd[0], S_original.psd[1], len(S_original.psd[1]))\n",
    "\n",
    "    ax01.plot(S_original.spectrum_fourier[0],\n",
    "              np.abs(S_original.spectrum_fourier[1][voxid]),\n",
    "              label='FFT')\n",
    "    \n",
    "    ax01.set_xlabel('Frequency (Hz)')\n",
    "    ax01.set_ylabel('Power')\n",
    "\n",
    "    ax01.legend()"
   ]
  },
  {
   "cell_type": "code",
   "execution_count": null,
   "metadata": {
    "ExecuteTime": {
     "end_time": "2019-12-20T00:19:39.077952Z",
     "start_time": "2019-12-20T00:19:39.023232Z"
    }
   },
   "outputs": [],
   "source": [
    "voxid = 144"
   ]
  },
  {
   "cell_type": "code",
   "execution_count": null,
   "metadata": {
    "ExecuteTime": {
     "end_time": "2019-12-20T00:19:51.869917Z",
     "start_time": "2019-12-20T00:19:39.940002Z"
    }
   },
   "outputs": [],
   "source": [
    "plot_spectra(S_original, voxid)"
   ]
  },
  {
   "cell_type": "code",
   "execution_count": null,
   "metadata": {
    "ExecuteTime": {
     "end_time": "2019-12-20T00:19:51.936670Z",
     "start_time": "2019-12-20T00:19:51.873174Z"
    }
   },
   "outputs": [],
   "source": [
    "masked_ts_flat.shape"
   ]
  },
  {
   "cell_type": "code",
   "execution_count": null,
   "metadata": {
    "ExecuteTime": {
     "end_time": "2019-12-20T00:24:31.431011Z",
     "start_time": "2019-12-20T00:24:31.374204Z"
    }
   },
   "outputs": [],
   "source": [
    "bold_flat.data.shape"
   ]
  },
  {
   "cell_type": "code",
   "execution_count": null,
   "metadata": {
    "ExecuteTime": {
     "end_time": "2019-12-20T01:48:00.584932Z",
     "start_time": "2019-12-20T01:48:00.514160Z"
    }
   },
   "outputs": [],
   "source": [
    "def comparison_plots(masked_ts_flat, S_original, Fs, nperseg, voxid=1000):\n",
    "    # Compute PSD with `scipy.signal.welch`\n",
    "    f_welch, S_welch = scipy.signal.welch(\n",
    "        masked_ts_flat[voxid, :], fs=Fs, nperseg=nperseg, noverlap=(nperseg // 2),\n",
    "        detrend=None, scaling='density', window='hanning')\n",
    "\n",
    "    # Compute PSD with `matplotlib.mlab.psd`, using parameters that are\n",
    "    # *equivalent* to those used in `scipy.signal.welch` above\n",
    "    S_mlab, f_mlab = mlab.psd(\n",
    "        masked_ts_flat[voxid, :], Fs=Fs, NFFT=nperseg, noverlap=(nperseg // 2),\n",
    "        detrend=None, scale_by_freq=True, window=mlab.window_hanning)\n",
    "\n",
    "    fig, axes = plt.subplots(3, 1, sharex=True)\n",
    "\n",
    "    # Plot PSD computed via both methods\n",
    "    axes[0].plot(f_welch, S_welch, label='scipy.signal.welch')\n",
    "    axes[0].plot(f_mlab, S_mlab, label='mlab.psd')\n",
    "    axes[0].set_ylabel('PSD')\n",
    "    axes[0].legend()\n",
    "\n",
    "    axes[1].plot(S_original.spectrum_fourier[0],\n",
    "                  np.abs(S_original.spectrum_fourier[1][voxid]),\n",
    "                  label='nitime FFT')\n",
    "\n",
    "    freqs2 = nitime.utils.get_freqs(Fs, masked_ts_flat.shape[-1])\n",
    "    fft = scipy.fftpack.fft(bold_flat.data)\n",
    "    scaledAmp = np.abs(fft[:, :freqs2.shape[0]])\n",
    "    amp = 2*scaledAmp/masked_ts_flat.shape[-1]\n",
    "    sqrtsummagsq = np.sqrt(np.sum(scaledAmp[:, :]**2))\n",
    "    print(sqrtsummagsq)\n",
    "    co = scaledAmp[:,11]/sqrtsummagsq;\n",
    "\n",
    "    axes[1].plot(freqs2, scaledAmp[voxid], label='ScaledAmp')\n",
    "    axes[2].plot(freqs2, amp[voxid], label='Amp')\n",
    "    axes[2].set_xlabel('f')\n",
    "    axes[1].legend()\n",
    "    axes[2].legend()\n",
    "\n",
    "    plt.suptitle(f\"voxid {voxid}, co {co[voxid]}\")\n",
    "    plt.show()\n",
    "    \n",
    "    return [freqs2, amp, co]"
   ]
  },
  {
   "cell_type": "code",
   "execution_count": null,
   "metadata": {
    "ExecuteTime": {
     "end_time": "2019-12-20T01:48:04.350466Z",
     "start_time": "2019-12-20T01:48:01.587247Z"
    }
   },
   "outputs": [],
   "source": [
    "for v in [155, 1555, 12224]:\n",
    "    _ = comparison_plots(masked_ts_flat, S_original, Fs, nperseg, v)"
   ]
  },
  {
   "cell_type": "code",
   "execution_count": null,
   "metadata": {
    "ExecuteTime": {
     "end_time": "2019-12-20T01:48:05.545467Z",
     "start_time": "2019-12-20T01:48:04.353649Z"
    }
   },
   "outputs": [],
   "source": [
    "[f, a, co] = comparison_plots(masked_ts_flat, S_original, Fs, nperseg, 1000)"
   ]
  },
  {
   "cell_type": "code",
   "execution_count": null,
   "metadata": {
    "ExecuteTime": {
     "end_time": "2019-12-20T01:48:19.308534Z",
     "start_time": "2019-12-20T01:48:19.083187Z"
    }
   },
   "outputs": [],
   "source": [
    "plt.hist(co)"
   ]
  },
  {
   "cell_type": "code",
   "execution_count": null,
   "metadata": {
    "ExecuteTime": {
     "end_time": "2019-12-20T01:49:39.661362Z",
     "start_time": "2019-12-20T01:49:39.597093Z"
    }
   },
   "outputs": [],
   "source": [
    "coh_amp_map = masker.inverse_transform(co)"
   ]
  },
  {
   "cell_type": "code",
   "execution_count": null,
   "metadata": {
    "ExecuteTime": {
     "end_time": "2019-12-20T01:49:40.297414Z",
     "start_time": "2019-12-20T01:49:40.234697Z"
    }
   },
   "outputs": [],
   "source": [
    "coh_amp_map.to_filename(coh_fn)"
   ]
  },
  {
   "cell_type": "markdown",
   "metadata": {
    "heading_collapsed": true
   },
   "source": [
    "#### Correlation and Coherence"
   ]
  },
  {
   "cell_type": "code",
   "execution_count": null,
   "metadata": {
    "ExecuteTime": {
     "start_time": "2019-12-17T21:41:10.852Z"
    },
    "hidden": true
   },
   "outputs": [],
   "source": [
    "full_stim = np.vstack((hemifield_alternation_sinusoid, masked_ts_flat[:1000,:]))"
   ]
  },
  {
   "cell_type": "code",
   "execution_count": null,
   "metadata": {
    "ExecuteTime": {
     "start_time": "2019-12-17T21:41:11.010Z"
    },
    "hidden": true
   },
   "outputs": [],
   "source": [
    "full_stim.shape"
   ]
  },
  {
   "cell_type": "code",
   "execution_count": null,
   "metadata": {
    "ExecuteTime": {
     "start_time": "2019-12-17T21:41:11.208Z"
    },
    "hidden": true
   },
   "outputs": [],
   "source": [
    "test_ts = ts.TimeSeries(full_stim, sampling_interval=TR)"
   ]
  },
  {
   "cell_type": "code",
   "execution_count": null,
   "metadata": {
    "ExecuteTime": {
     "end_time": "2019-11-27T05:19:22.548193Z",
     "start_time": "2019-11-27T05:19:22.123356Z"
    },
    "hidden": true
   },
   "outputs": [],
   "source": [
    "cr1 = nta.CorrelationAnalyzer(test_ts)\n",
    "print(cr1.corrcoef)\n",
    "ntv.drawmatrix_channels(cr1.corrcoef, color_anchor=0)"
   ]
  },
  {
   "cell_type": "code",
   "execution_count": null,
   "metadata": {
    "ExecuteTime": {
     "end_time": "2019-11-27T05:25:22.034899Z",
     "start_time": "2019-11-27T05:19:29.357764Z"
    },
    "hidden": true
   },
   "outputs": [],
   "source": [
    "ch1 = nta.CoherenceAnalyzer(test_ts)\n",
    "#physiologically relevant freq band\n",
    "freq_idx = np.where((ch1.frequencies > 0.02) * (ch1.frequencies < 0.15))[0]\n",
    "coh = np.mean(ch1.coherence[:,:,freq_idx], -1)\n",
    "coh"
   ]
  },
  {
   "cell_type": "code",
   "execution_count": null,
   "metadata": {
    "ExecuteTime": {
     "end_time": "2019-11-27T05:25:22.328248Z",
     "start_time": "2019-11-27T05:25:22.037783Z"
    },
    "hidden": true
   },
   "outputs": [],
   "source": [
    "fig03 = ntv.drawmatrix_channels(coh)"
   ]
  },
  {
   "cell_type": "code",
   "execution_count": null,
   "metadata": {
    "ExecuteTime": {
     "end_time": "2019-11-27T05:25:28.836014Z",
     "start_time": "2019-11-27T05:25:22.332715Z"
    },
    "hidden": true
   },
   "outputs": [],
   "source": [
    "ch1.phase[0,1]"
   ]
  },
  {
   "cell_type": "markdown",
   "metadata": {},
   "source": [
    "#### SeedCoherenceAnalyzer"
   ]
  },
  {
   "cell_type": "code",
   "execution_count": null,
   "metadata": {
    "ExecuteTime": {
     "end_time": "2019-12-20T01:41:35.062001Z",
     "start_time": "2019-12-20T01:41:30.082007Z"
    }
   },
   "outputs": [],
   "source": [
    "n_seeds = 1\n",
    "A = nta.SeedCoherenceAnalyzer(hemi_ts_trim, bold_flat, method=dict(NFFT=132))\n",
    "B = nta.SeedCorrelationAnalyzer(hemi_ts_trim, bold_flat)\n",
    "#freq_idx = np.where((A.frequencies > f_lb) * (A.frequencies < f_ub))[0]\n",
    "freq_idx_hemionly = np.where((np.isclose(A.frequencies, hemi_freq)))[0]\n",
    "#print(freq_idx, freq_idx_hemionly)\n",
    "print(A.frequencies, A.frequencies[freq_idx_hemionly], sep=\"\\n\")\n",
    "cor = []\n",
    "coh = []\n",
    "\n",
    "for this_seed in range(n_seeds):\n",
    "    #print(this_seed, A.coherence[this_seed], A.coherence[this_seed][freq_idx])\n",
    "    # Extract the coherence and average across these frequency bands:\n",
    "    print(A.coherence.shape, A.coherence[:, :], A.coherence[:, freq_idx_hemionly], sep=\"\\n\")\n",
    "    coh.append(np.mean(A.coherence[:, freq_idx_hemionly], -1))  # Averaging on the last dimension\n",
    "    cor.append(B.corrcoef[this_seed])  # No need to do any additional computation\n",
    "        \n",
    "print(coh, cor, sep=\"\\n\")"
   ]
  },
  {
   "cell_type": "code",
   "execution_count": null,
   "metadata": {
    "ExecuteTime": {
     "end_time": "2019-12-19T22:44:17.875805Z",
     "start_time": "2019-12-19T22:44:17.820102Z"
    }
   },
   "outputs": [],
   "source": [
    "len(coh[0])"
   ]
  },
  {
   "cell_type": "code",
   "execution_count": null,
   "metadata": {
    "ExecuteTime": {
     "end_time": "2019-12-19T22:44:18.403394Z",
     "start_time": "2019-12-19T22:44:18.343781Z"
    }
   },
   "outputs": [],
   "source": [
    "np.count_nonzero(coh[0])"
   ]
  },
  {
   "cell_type": "markdown",
   "metadata": {},
   "source": [
    "#### Write coherence values to Nifti file"
   ]
  },
  {
   "cell_type": "code",
   "execution_count": null,
   "metadata": {
    "ExecuteTime": {
     "end_time": "2019-12-17T21:49:43.381265Z",
     "start_time": "2019-12-17T21:49:43.304245Z"
    }
   },
   "outputs": [],
   "source": [
    "coherence_img = masker.inverse_transform(coh[0])\n",
    "coherence_img.shape"
   ]
  },
  {
   "cell_type": "code",
   "execution_count": null,
   "metadata": {
    "ExecuteTime": {
     "end_time": "2019-12-17T21:49:43.454367Z",
     "start_time": "2019-12-17T21:49:43.386270Z"
    }
   },
   "outputs": [],
   "source": [
    "print(coh_fn)"
   ]
  },
  {
   "cell_type": "code",
   "execution_count": null,
   "metadata": {
    "ExecuteTime": {
     "end_time": "2019-12-17T21:49:43.537482Z",
     "start_time": "2019-12-17T21:49:43.459005Z"
    }
   },
   "outputs": [],
   "source": [
    "coherence_img.to_filename(coh_fn)"
   ]
  },
  {
   "cell_type": "code",
   "execution_count": null,
   "metadata": {
    "ExecuteTime": {
     "end_time": "2019-12-20T01:30:10.844936Z",
     "start_time": "2019-12-20T01:30:10.626680Z"
    }
   },
   "outputs": [],
   "source": [
    "!ls \"{coh_fn}\""
   ]
  },
  {
   "cell_type": "code",
   "execution_count": null,
   "metadata": {
    "ExecuteTime": {
     "end_time": "2019-12-20T01:30:12.660103Z",
     "start_time": "2019-12-20T01:30:12.591122Z"
    }
   },
   "outputs": [],
   "source": [
    "cmd = f\"fsleyes {bolds[0]} {coh_fn}\""
   ]
  },
  {
   "cell_type": "code",
   "execution_count": null,
   "metadata": {
    "ExecuteTime": {
     "start_time": "2019-12-20T01:49:44.333Z"
    }
   },
   "outputs": [],
   "source": [
    "os.system(cmd)"
   ]
  },
  {
   "cell_type": "markdown",
   "metadata": {},
   "source": [
    "#### Some visualizations"
   ]
  },
  {
   "cell_type": "code",
   "execution_count": null,
   "metadata": {
    "ExecuteTime": {
     "end_time": "2019-12-19T22:54:57.829743Z",
     "start_time": "2019-12-19T22:54:57.604931Z"
    }
   },
   "outputs": [],
   "source": [
    "plt.hist(coh[0])"
   ]
  },
  {
   "cell_type": "code",
   "execution_count": null,
   "metadata": {
    "ExecuteTime": {
     "end_time": "2019-12-17T21:40:31.258318Z",
     "start_time": "2019-12-17T21:40:31.014857Z"
    }
   },
   "outputs": [],
   "source": [
    "plt.boxplot(coh[0])"
   ]
  },
  {
   "cell_type": "code",
   "execution_count": null,
   "metadata": {
    "ExecuteTime": {
     "end_time": "2019-12-17T21:40:31.326777Z",
     "start_time": "2019-12-17T21:40:31.262710Z"
    }
   },
   "outputs": [],
   "source": [
    "np.count_nonzero(coh[0]==0)"
   ]
  },
  {
   "cell_type": "markdown",
   "metadata": {},
   "source": [
    "### Continue from here..."
   ]
  },
  {
   "cell_type": "code",
   "execution_count": null,
   "metadata": {
    "ExecuteTime": {
     "end_time": "2019-12-17T21:29:49.451678Z",
     "start_time": "2019-12-17T21:29:49.396345Z"
    }
   },
   "outputs": [],
   "source": [
    "lgn_coh_low = 0.17\n",
    "lgn_coh_high = 0.19\n",
    "lgn_voxel_mask_coh = np.logical_and((coh[0] > lgn_coh_low), (coh[0] < lgn_coh_high))"
   ]
  },
  {
   "cell_type": "code",
   "execution_count": null,
   "metadata": {
    "ExecuteTime": {
     "end_time": "2019-12-17T21:29:49.807677Z",
     "start_time": "2019-12-17T21:29:49.746983Z"
    }
   },
   "outputs": [],
   "source": [
    "np.count_nonzero(lgn_voxel_mask_coh)"
   ]
  },
  {
   "cell_type": "markdown",
   "metadata": {},
   "source": [
    "## Assigning voxels within an ROI to M/P"
   ]
  },
  {
   "cell_type": "code",
   "execution_count": null,
   "metadata": {},
   "outputs": [],
   "source": [
    "copefile = '/Users/smerdis/data/LGN/BIDS/MS_LGN_fp107/nipype_MS_20150401_mp/hemifield/modelfit/datasink/stats_dir/_flameo2/stats/cope1.nii.gz'\n",
    "ROIfile = mROI"
   ]
  },
  {
   "cell_type": "code",
   "execution_count": null,
   "metadata": {},
   "outputs": [],
   "source": [
    "def assign_mp_command(cope, roimask, pct_thresh, roi_below, roi_above, out_dir=None):\n",
    "    if out_dir is None:\n",
    "        out_dir = os.path.dirname(roimask)\n",
    "    print(f\"python assign_mp.py {cope} {roimask} {pct_thresh} {roi_below} {roi_above} {out_dir}\")\n",
    "\n",
    "def assign_voxels(infile, rois, split_pct):\n",
    "    \"\"\"Assign voxels to an ROI based on the percentile of intensity they fall in.\n",
    "    \n",
    "    rois should be a list of length 2, split_pcts should be a list of length 1\n",
    "    \n",
    "    e.g. assign_voxels_percentile(infile, ['M', 'P'], 80)\"\"\"\n",
    "    from nipype.interfaces.fsl import ImageMaths\n",
    "    stats = ImageMaths()\n",
    "    stats.inputs.in_file = infile\n",
    "    stats.inputs.op_string = f\"-thr {split_pct} -bin {roi_above}\"\n",
    "    print(stats.cmdline)"
   ]
  },
  {
   "cell_type": "code",
   "execution_count": null,
   "metadata": {},
   "outputs": [],
   "source": [
    "assign_mp_command(copefile, ROIfile, 80, 'M', 'P')"
   ]
  },
  {
   "cell_type": "code",
   "execution_count": null,
   "metadata": {},
   "outputs": [],
   "source": [
    "masked_cope = '/Users/smerdis/data/LGN/BIDS/MS_LGN_fp107/nipype_MS_20150401_hemi/hemifield/modelfit/datasink/cope_masked.nii.gz'"
   ]
  },
  {
   "cell_type": "code",
   "execution_count": null,
   "metadata": {},
   "outputs": [],
   "source": [
    "assign_voxels_percentile(masked_cope, ['M', 'P'], 80)"
   ]
  }
 ],
 "metadata": {
  "kernelspec": {
   "display_name": "Python 3",
   "language": "python",
   "name": "python3"
  },
  "language_info": {
   "codemirror_mode": {
    "name": "ipython",
    "version": 3
   },
   "file_extension": ".py",
   "mimetype": "text/x-python",
   "name": "python",
   "nbconvert_exporter": "python",
   "pygments_lexer": "ipython3",
   "version": "3.6.8"
  },
  "varInspector": {
   "cols": {
    "lenName": 16,
    "lenType": 16,
    "lenVar": 40
   },
   "kernels_config": {
    "python": {
     "delete_cmd_postfix": "",
     "delete_cmd_prefix": "del ",
     "library": "var_list.py",
     "varRefreshCmd": "print(var_dic_list())"
    },
    "r": {
     "delete_cmd_postfix": ") ",
     "delete_cmd_prefix": "rm(",
     "library": "var_list.r",
     "varRefreshCmd": "cat(var_dic_list()) "
    }
   },
   "types_to_exclude": [
    "module",
    "function",
    "builtin_function_or_method",
    "instance",
    "_Feature"
   ],
   "window_display": false
  }
 },
 "nbformat": 4,
 "nbformat_minor": 2
}
