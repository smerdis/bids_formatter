{
 "cells": [
  {
   "cell_type": "code",
   "execution_count": 1,
   "metadata": {
    "ExecuteTime": {
     "end_time": "2019-12-06T21:30:15.467459Z",
     "start_time": "2019-12-06T21:30:15.441488Z"
    }
   },
   "outputs": [],
   "source": [
    "%load_ext autoreload\n",
    "%autoreload 2"
   ]
  },
  {
   "cell_type": "code",
   "execution_count": 2,
   "metadata": {
    "ExecuteTime": {
     "end_time": "2019-12-06T21:30:19.042475Z",
     "start_time": "2019-12-06T21:30:16.000622Z"
    }
   },
   "outputs": [
    {
     "name": "stderr",
     "output_type": "stream",
     "text": [
      "//anaconda/envs/py36/lib/python3.6/site-packages/sklearn/externals/joblib/__init__.py:15: DeprecationWarning: sklearn.externals.joblib is deprecated in 0.21 and will be removed in 0.23. Please import this functionality directly from joblib, which can be installed with: pip install joblib. If this warning is raised when loading pickled models, you may need to re-serialize those models with scikit-learn 0.21+.\n",
      "  warnings.warn(msg, category=DeprecationWarning)\n"
     ]
    }
   ],
   "source": [
    "import utils # stuff I've written for this project\n",
    "\n",
    "import os, sys, datetime, glob, re\n",
    "\n",
    "import numpy as np\n",
    "import pandas as pd\n",
    "import matplotlib.pyplot as plt\n",
    "import shutil\n",
    "\n",
    "import nibabel as nib\n",
    "\n",
    "import nilearn\n",
    "from nilearn.masking import apply_mask\n",
    "from nilearn.plotting import plot_img, plot_epi, plot_roi, plot_stat_map\n",
    "from nilearn.image import load_img\n",
    "from nilearn.image.image import mean_img\n",
    "from nilearn.input_data import NiftiMasker\n",
    "\n",
    "import nitime\n",
    "import nitime.fmri.io as nfio\n",
    "import nitime.timeseries as ts\n",
    "import nitime.analysis as nta\n",
    "import nitime.utils as ntu\n",
    "import nitime.viz as ntv\n",
    "\n",
    "import scipy"
   ]
  },
  {
   "cell_type": "code",
   "execution_count": 3,
   "metadata": {
    "ExecuteTime": {
     "end_time": "2019-12-06T21:30:19.103389Z",
     "start_time": "2019-12-06T21:30:19.045343Z"
    }
   },
   "outputs": [],
   "source": [
    "%matplotlib inline"
   ]
  },
  {
   "cell_type": "code",
   "execution_count": 4,
   "metadata": {
    "ExecuteTime": {
     "end_time": "2019-12-06T21:30:19.164103Z",
     "start_time": "2019-12-06T21:30:19.105978Z"
    }
   },
   "outputs": [
    {
     "data": {
      "text/plain": [
       "'2.4.1'"
      ]
     },
     "execution_count": 4,
     "metadata": {},
     "output_type": "execute_result"
    }
   ],
   "source": [
    "nib.__version__"
   ]
  },
  {
   "cell_type": "code",
   "execution_count": 5,
   "metadata": {
    "ExecuteTime": {
     "end_time": "2019-12-06T21:30:19.219337Z",
     "start_time": "2019-12-06T21:30:19.166977Z"
    }
   },
   "outputs": [
    {
     "data": {
      "text/plain": [
       "'0.5.2'"
      ]
     },
     "execution_count": 5,
     "metadata": {},
     "output_type": "execute_result"
    }
   ],
   "source": [
    "nilearn.__version__"
   ]
  },
  {
   "cell_type": "code",
   "execution_count": 6,
   "metadata": {
    "ExecuteTime": {
     "end_time": "2019-12-06T21:30:19.293580Z",
     "start_time": "2019-12-06T21:30:19.223239Z"
    }
   },
   "outputs": [
    {
     "data": {
      "text/plain": [
       "'0.8.1'"
      ]
     },
     "execution_count": 6,
     "metadata": {},
     "output_type": "execute_result"
    }
   ],
   "source": [
    "nitime.__version__"
   ]
  },
  {
   "cell_type": "code",
   "execution_count": 7,
   "metadata": {
    "ExecuteTime": {
     "end_time": "2019-12-06T21:30:19.360449Z",
     "start_time": "2019-12-06T21:30:19.298005Z"
    }
   },
   "outputs": [
    {
     "data": {
      "text/plain": [
       "'1.3.0'"
      ]
     },
     "execution_count": 7,
     "metadata": {},
     "output_type": "execute_result"
    }
   ],
   "source": [
    "scipy.__version__"
   ]
  },
  {
   "cell_type": "markdown",
   "metadata": {
    "heading_collapsed": true
   },
   "source": [
    "### Test the confounds file exists"
   ]
  },
  {
   "cell_type": "code",
   "execution_count": 7,
   "metadata": {
    "ExecuteTime": {
     "end_time": "2019-12-03T19:13:58.523201Z",
     "start_time": "2019-12-03T19:13:58.443448Z"
    },
    "hidden": true
   },
   "outputs": [],
   "source": [
    "confounds_file = \"/Users/smerdis/data/LGN/BIDS/AV_20111117_fromRD/derivatives/RD_preproc/sub-AV/ses-20111117/func/sub-AV_ses-20111117_task-mp_run-02_desc-confounds_regressors.tsv\""
   ]
  },
  {
   "cell_type": "code",
   "execution_count": 8,
   "metadata": {
    "ExecuteTime": {
     "end_time": "2019-12-03T19:13:58.778215Z",
     "start_time": "2019-12-03T19:13:58.588344Z"
    },
    "hidden": true
   },
   "outputs": [
    {
     "ename": "FileNotFoundError",
     "evalue": "[Errno 2] File b'/Users/smerdis/data/LGN/BIDS/AV_20111117_fromRD/derivatives/RD_preproc/sub-AV/ses-20111117/func/sub-AV_ses-20111117_task-mp_run-02_desc-confounds_regressors.tsv' does not exist: b'/Users/smerdis/data/LGN/BIDS/AV_20111117_fromRD/derivatives/RD_preproc/sub-AV/ses-20111117/func/sub-AV_ses-20111117_task-mp_run-02_desc-confounds_regressors.tsv'",
     "output_type": "error",
     "traceback": [
      "\u001b[0;31m---------------------------------------------------------------------------\u001b[0m",
      "\u001b[0;31mFileNotFoundError\u001b[0m                         Traceback (most recent call last)",
      "\u001b[0;32m<ipython-input-8-c7998f602f83>\u001b[0m in \u001b[0;36m<module>\u001b[0;34m\u001b[0m\n\u001b[0;32m----> 1\u001b[0;31m \u001b[0mconfounds_df\u001b[0m \u001b[0;34m=\u001b[0m \u001b[0mpd\u001b[0m\u001b[0;34m.\u001b[0m\u001b[0mread_csv\u001b[0m\u001b[0;34m(\u001b[0m\u001b[0mconfounds_file\u001b[0m\u001b[0;34m,\u001b[0m \u001b[0msep\u001b[0m\u001b[0;34m=\u001b[0m\u001b[0mstr\u001b[0m\u001b[0;34m(\u001b[0m\u001b[0;34m'\\t'\u001b[0m\u001b[0;34m)\u001b[0m\u001b[0;34m,\u001b[0m \u001b[0mna_values\u001b[0m\u001b[0;34m=\u001b[0m\u001b[0;34m\"n/a\"\u001b[0m\u001b[0;34m)\u001b[0m\u001b[0;34m\u001b[0m\u001b[0;34m\u001b[0m\u001b[0m\n\u001b[0m",
      "\u001b[0;32m//anaconda/envs/py36/lib/python3.6/site-packages/pandas/io/parsers.py\u001b[0m in \u001b[0;36mparser_f\u001b[0;34m(filepath_or_buffer, sep, delimiter, header, names, index_col, usecols, squeeze, prefix, mangle_dupe_cols, dtype, engine, converters, true_values, false_values, skipinitialspace, skiprows, skipfooter, nrows, na_values, keep_default_na, na_filter, verbose, skip_blank_lines, parse_dates, infer_datetime_format, keep_date_col, date_parser, dayfirst, iterator, chunksize, compression, thousands, decimal, lineterminator, quotechar, quoting, doublequote, escapechar, comment, encoding, dialect, tupleize_cols, error_bad_lines, warn_bad_lines, delim_whitespace, low_memory, memory_map, float_precision)\u001b[0m\n\u001b[1;32m    700\u001b[0m                     skip_blank_lines=skip_blank_lines)\n\u001b[1;32m    701\u001b[0m \u001b[0;34m\u001b[0m\u001b[0m\n\u001b[0;32m--> 702\u001b[0;31m         \u001b[0;32mreturn\u001b[0m \u001b[0m_read\u001b[0m\u001b[0;34m(\u001b[0m\u001b[0mfilepath_or_buffer\u001b[0m\u001b[0;34m,\u001b[0m \u001b[0mkwds\u001b[0m\u001b[0;34m)\u001b[0m\u001b[0;34m\u001b[0m\u001b[0;34m\u001b[0m\u001b[0m\n\u001b[0m\u001b[1;32m    703\u001b[0m \u001b[0;34m\u001b[0m\u001b[0m\n\u001b[1;32m    704\u001b[0m     \u001b[0mparser_f\u001b[0m\u001b[0;34m.\u001b[0m\u001b[0m__name__\u001b[0m \u001b[0;34m=\u001b[0m \u001b[0mname\u001b[0m\u001b[0;34m\u001b[0m\u001b[0;34m\u001b[0m\u001b[0m\n",
      "\u001b[0;32m//anaconda/envs/py36/lib/python3.6/site-packages/pandas/io/parsers.py\u001b[0m in \u001b[0;36m_read\u001b[0;34m(filepath_or_buffer, kwds)\u001b[0m\n\u001b[1;32m    427\u001b[0m \u001b[0;34m\u001b[0m\u001b[0m\n\u001b[1;32m    428\u001b[0m     \u001b[0;31m# Create the parser.\u001b[0m\u001b[0;34m\u001b[0m\u001b[0;34m\u001b[0m\u001b[0;34m\u001b[0m\u001b[0m\n\u001b[0;32m--> 429\u001b[0;31m     \u001b[0mparser\u001b[0m \u001b[0;34m=\u001b[0m \u001b[0mTextFileReader\u001b[0m\u001b[0;34m(\u001b[0m\u001b[0mfilepath_or_buffer\u001b[0m\u001b[0;34m,\u001b[0m \u001b[0;34m**\u001b[0m\u001b[0mkwds\u001b[0m\u001b[0;34m)\u001b[0m\u001b[0;34m\u001b[0m\u001b[0;34m\u001b[0m\u001b[0m\n\u001b[0m\u001b[1;32m    430\u001b[0m \u001b[0;34m\u001b[0m\u001b[0m\n\u001b[1;32m    431\u001b[0m     \u001b[0;32mif\u001b[0m \u001b[0mchunksize\u001b[0m \u001b[0;32mor\u001b[0m \u001b[0miterator\u001b[0m\u001b[0;34m:\u001b[0m\u001b[0;34m\u001b[0m\u001b[0;34m\u001b[0m\u001b[0m\n",
      "\u001b[0;32m//anaconda/envs/py36/lib/python3.6/site-packages/pandas/io/parsers.py\u001b[0m in \u001b[0;36m__init__\u001b[0;34m(self, f, engine, **kwds)\u001b[0m\n\u001b[1;32m    893\u001b[0m             \u001b[0mself\u001b[0m\u001b[0;34m.\u001b[0m\u001b[0moptions\u001b[0m\u001b[0;34m[\u001b[0m\u001b[0;34m'has_index_names'\u001b[0m\u001b[0;34m]\u001b[0m \u001b[0;34m=\u001b[0m \u001b[0mkwds\u001b[0m\u001b[0;34m[\u001b[0m\u001b[0;34m'has_index_names'\u001b[0m\u001b[0;34m]\u001b[0m\u001b[0;34m\u001b[0m\u001b[0;34m\u001b[0m\u001b[0m\n\u001b[1;32m    894\u001b[0m \u001b[0;34m\u001b[0m\u001b[0m\n\u001b[0;32m--> 895\u001b[0;31m         \u001b[0mself\u001b[0m\u001b[0;34m.\u001b[0m\u001b[0m_make_engine\u001b[0m\u001b[0;34m(\u001b[0m\u001b[0mself\u001b[0m\u001b[0;34m.\u001b[0m\u001b[0mengine\u001b[0m\u001b[0;34m)\u001b[0m\u001b[0;34m\u001b[0m\u001b[0;34m\u001b[0m\u001b[0m\n\u001b[0m\u001b[1;32m    896\u001b[0m \u001b[0;34m\u001b[0m\u001b[0m\n\u001b[1;32m    897\u001b[0m     \u001b[0;32mdef\u001b[0m \u001b[0mclose\u001b[0m\u001b[0;34m(\u001b[0m\u001b[0mself\u001b[0m\u001b[0;34m)\u001b[0m\u001b[0;34m:\u001b[0m\u001b[0;34m\u001b[0m\u001b[0;34m\u001b[0m\u001b[0m\n",
      "\u001b[0;32m//anaconda/envs/py36/lib/python3.6/site-packages/pandas/io/parsers.py\u001b[0m in \u001b[0;36m_make_engine\u001b[0;34m(self, engine)\u001b[0m\n\u001b[1;32m   1120\u001b[0m     \u001b[0;32mdef\u001b[0m \u001b[0m_make_engine\u001b[0m\u001b[0;34m(\u001b[0m\u001b[0mself\u001b[0m\u001b[0;34m,\u001b[0m \u001b[0mengine\u001b[0m\u001b[0;34m=\u001b[0m\u001b[0;34m'c'\u001b[0m\u001b[0;34m)\u001b[0m\u001b[0;34m:\u001b[0m\u001b[0;34m\u001b[0m\u001b[0;34m\u001b[0m\u001b[0m\n\u001b[1;32m   1121\u001b[0m         \u001b[0;32mif\u001b[0m \u001b[0mengine\u001b[0m \u001b[0;34m==\u001b[0m \u001b[0;34m'c'\u001b[0m\u001b[0;34m:\u001b[0m\u001b[0;34m\u001b[0m\u001b[0;34m\u001b[0m\u001b[0m\n\u001b[0;32m-> 1122\u001b[0;31m             \u001b[0mself\u001b[0m\u001b[0;34m.\u001b[0m\u001b[0m_engine\u001b[0m \u001b[0;34m=\u001b[0m \u001b[0mCParserWrapper\u001b[0m\u001b[0;34m(\u001b[0m\u001b[0mself\u001b[0m\u001b[0;34m.\u001b[0m\u001b[0mf\u001b[0m\u001b[0;34m,\u001b[0m \u001b[0;34m**\u001b[0m\u001b[0mself\u001b[0m\u001b[0;34m.\u001b[0m\u001b[0moptions\u001b[0m\u001b[0;34m)\u001b[0m\u001b[0;34m\u001b[0m\u001b[0;34m\u001b[0m\u001b[0m\n\u001b[0m\u001b[1;32m   1123\u001b[0m         \u001b[0;32melse\u001b[0m\u001b[0;34m:\u001b[0m\u001b[0;34m\u001b[0m\u001b[0;34m\u001b[0m\u001b[0m\n\u001b[1;32m   1124\u001b[0m             \u001b[0;32mif\u001b[0m \u001b[0mengine\u001b[0m \u001b[0;34m==\u001b[0m \u001b[0;34m'python'\u001b[0m\u001b[0;34m:\u001b[0m\u001b[0;34m\u001b[0m\u001b[0;34m\u001b[0m\u001b[0m\n",
      "\u001b[0;32m//anaconda/envs/py36/lib/python3.6/site-packages/pandas/io/parsers.py\u001b[0m in \u001b[0;36m__init__\u001b[0;34m(self, src, **kwds)\u001b[0m\n\u001b[1;32m   1851\u001b[0m         \u001b[0mkwds\u001b[0m\u001b[0;34m[\u001b[0m\u001b[0;34m'usecols'\u001b[0m\u001b[0;34m]\u001b[0m \u001b[0;34m=\u001b[0m \u001b[0mself\u001b[0m\u001b[0;34m.\u001b[0m\u001b[0musecols\u001b[0m\u001b[0;34m\u001b[0m\u001b[0;34m\u001b[0m\u001b[0m\n\u001b[1;32m   1852\u001b[0m \u001b[0;34m\u001b[0m\u001b[0m\n\u001b[0;32m-> 1853\u001b[0;31m         \u001b[0mself\u001b[0m\u001b[0;34m.\u001b[0m\u001b[0m_reader\u001b[0m \u001b[0;34m=\u001b[0m \u001b[0mparsers\u001b[0m\u001b[0;34m.\u001b[0m\u001b[0mTextReader\u001b[0m\u001b[0;34m(\u001b[0m\u001b[0msrc\u001b[0m\u001b[0;34m,\u001b[0m \u001b[0;34m**\u001b[0m\u001b[0mkwds\u001b[0m\u001b[0;34m)\u001b[0m\u001b[0;34m\u001b[0m\u001b[0;34m\u001b[0m\u001b[0m\n\u001b[0m\u001b[1;32m   1854\u001b[0m         \u001b[0mself\u001b[0m\u001b[0;34m.\u001b[0m\u001b[0munnamed_cols\u001b[0m \u001b[0;34m=\u001b[0m \u001b[0mself\u001b[0m\u001b[0;34m.\u001b[0m\u001b[0m_reader\u001b[0m\u001b[0;34m.\u001b[0m\u001b[0munnamed_cols\u001b[0m\u001b[0;34m\u001b[0m\u001b[0;34m\u001b[0m\u001b[0m\n\u001b[1;32m   1855\u001b[0m \u001b[0;34m\u001b[0m\u001b[0m\n",
      "\u001b[0;32mpandas/_libs/parsers.pyx\u001b[0m in \u001b[0;36mpandas._libs.parsers.TextReader.__cinit__\u001b[0;34m()\u001b[0m\n",
      "\u001b[0;32mpandas/_libs/parsers.pyx\u001b[0m in \u001b[0;36mpandas._libs.parsers.TextReader._setup_parser_source\u001b[0;34m()\u001b[0m\n",
      "\u001b[0;31mFileNotFoundError\u001b[0m: [Errno 2] File b'/Users/smerdis/data/LGN/BIDS/AV_20111117_fromRD/derivatives/RD_preproc/sub-AV/ses-20111117/func/sub-AV_ses-20111117_task-mp_run-02_desc-confounds_regressors.tsv' does not exist: b'/Users/smerdis/data/LGN/BIDS/AV_20111117_fromRD/derivatives/RD_preproc/sub-AV/ses-20111117/func/sub-AV_ses-20111117_task-mp_run-02_desc-confounds_regressors.tsv'"
     ]
    }
   ],
   "source": [
    "confounds_df = pd.read_csv(confounds_file, sep=str('\\t'), na_values=\"n/a\")"
   ]
  },
  {
   "cell_type": "code",
   "execution_count": 9,
   "metadata": {
    "ExecuteTime": {
     "end_time": "2019-11-28T00:05:33.551778Z",
     "start_time": "2019-11-28T00:05:33.474805Z"
    },
    "hidden": true
   },
   "outputs": [
    {
     "data": {
      "text/html": [
       "<div>\n",
       "<style scoped>\n",
       "    .dataframe tbody tr th:only-of-type {\n",
       "        vertical-align: middle;\n",
       "    }\n",
       "\n",
       "    .dataframe tbody tr th {\n",
       "        vertical-align: top;\n",
       "    }\n",
       "\n",
       "    .dataframe thead th {\n",
       "        text-align: right;\n",
       "    }\n",
       "</style>\n",
       "<table border=\"1\" class=\"dataframe\">\n",
       "  <thead>\n",
       "    <tr style=\"text-align: right;\">\n",
       "      <th></th>\n",
       "      <th>csf</th>\n",
       "      <th>csf_derivative1</th>\n",
       "      <th>csf_power2</th>\n",
       "      <th>csf_derivative1_power2</th>\n",
       "      <th>white_matter</th>\n",
       "      <th>white_matter_derivative1</th>\n",
       "      <th>white_matter_derivative1_power2</th>\n",
       "      <th>white_matter_power2</th>\n",
       "      <th>global_signal</th>\n",
       "      <th>global_signal_derivative1</th>\n",
       "      <th>...</th>\n",
       "      <th>rot_z</th>\n",
       "      <th>rot_z_derivative1</th>\n",
       "      <th>rot_z_power2</th>\n",
       "      <th>rot_z_derivative1_power2</th>\n",
       "      <th>aroma_motion_05</th>\n",
       "      <th>aroma_motion_11</th>\n",
       "      <th>aroma_motion_17</th>\n",
       "      <th>aroma_motion_18</th>\n",
       "      <th>aroma_motion_19</th>\n",
       "      <th>aroma_motion_20</th>\n",
       "    </tr>\n",
       "  </thead>\n",
       "  <tbody>\n",
       "    <tr>\n",
       "      <th>0</th>\n",
       "      <td>470.413801</td>\n",
       "      <td>NaN</td>\n",
       "      <td>221289.144110</td>\n",
       "      <td>NaN</td>\n",
       "      <td>502.865752</td>\n",
       "      <td>NaN</td>\n",
       "      <td>NaN</td>\n",
       "      <td>252873.964530</td>\n",
       "      <td>623.719160</td>\n",
       "      <td>NaN</td>\n",
       "      <td>...</td>\n",
       "      <td>0.002864</td>\n",
       "      <td>NaN</td>\n",
       "      <td>0.000008</td>\n",
       "      <td>NaN</td>\n",
       "      <td>-2.345714</td>\n",
       "      <td>-0.939522</td>\n",
       "      <td>0.632634</td>\n",
       "      <td>0.660056</td>\n",
       "      <td>2.721804</td>\n",
       "      <td>1.864549</td>\n",
       "    </tr>\n",
       "    <tr>\n",
       "      <th>1</th>\n",
       "      <td>465.227346</td>\n",
       "      <td>-5.186455</td>\n",
       "      <td>216436.483031</td>\n",
       "      <td>26.899320</td>\n",
       "      <td>502.404673</td>\n",
       "      <td>-0.461079</td>\n",
       "      <td>0.212594</td>\n",
       "      <td>252410.455711</td>\n",
       "      <td>621.257942</td>\n",
       "      <td>-2.461218</td>\n",
       "      <td>...</td>\n",
       "      <td>0.002420</td>\n",
       "      <td>-0.000444</td>\n",
       "      <td>0.000006</td>\n",
       "      <td>1.968608e-07</td>\n",
       "      <td>-2.028463</td>\n",
       "      <td>-2.359410</td>\n",
       "      <td>0.182195</td>\n",
       "      <td>0.311244</td>\n",
       "      <td>0.890193</td>\n",
       "      <td>-0.638706</td>\n",
       "    </tr>\n",
       "    <tr>\n",
       "      <th>2</th>\n",
       "      <td>461.218749</td>\n",
       "      <td>-4.008596</td>\n",
       "      <td>212722.734655</td>\n",
       "      <td>16.068844</td>\n",
       "      <td>502.200712</td>\n",
       "      <td>-0.203962</td>\n",
       "      <td>0.041600</td>\n",
       "      <td>252205.554869</td>\n",
       "      <td>620.422218</td>\n",
       "      <td>-0.835724</td>\n",
       "      <td>...</td>\n",
       "      <td>0.002321</td>\n",
       "      <td>-0.000099</td>\n",
       "      <td>0.000005</td>\n",
       "      <td>9.822792e-09</td>\n",
       "      <td>-2.659588</td>\n",
       "      <td>-1.457759</td>\n",
       "      <td>-0.316505</td>\n",
       "      <td>2.153198</td>\n",
       "      <td>-0.416179</td>\n",
       "      <td>0.497415</td>\n",
       "    </tr>\n",
       "    <tr>\n",
       "      <th>3</th>\n",
       "      <td>463.294177</td>\n",
       "      <td>2.075428</td>\n",
       "      <td>214641.494791</td>\n",
       "      <td>4.307402</td>\n",
       "      <td>501.560595</td>\n",
       "      <td>-0.640117</td>\n",
       "      <td>0.409749</td>\n",
       "      <td>251563.030456</td>\n",
       "      <td>620.192733</td>\n",
       "      <td>-0.229484</td>\n",
       "      <td>...</td>\n",
       "      <td>0.002544</td>\n",
       "      <td>0.000223</td>\n",
       "      <td>0.000006</td>\n",
       "      <td>4.976022e-08</td>\n",
       "      <td>-2.607786</td>\n",
       "      <td>-0.602677</td>\n",
       "      <td>-0.225781</td>\n",
       "      <td>-0.551552</td>\n",
       "      <td>-0.336480</td>\n",
       "      <td>0.425595</td>\n",
       "    </tr>\n",
       "    <tr>\n",
       "      <th>4</th>\n",
       "      <td>460.843536</td>\n",
       "      <td>-2.450641</td>\n",
       "      <td>212376.764878</td>\n",
       "      <td>6.005642</td>\n",
       "      <td>502.658903</td>\n",
       "      <td>1.098308</td>\n",
       "      <td>1.206281</td>\n",
       "      <td>252665.973151</td>\n",
       "      <td>619.951292</td>\n",
       "      <td>-0.241442</td>\n",
       "      <td>...</td>\n",
       "      <td>0.002316</td>\n",
       "      <td>-0.000228</td>\n",
       "      <td>0.000005</td>\n",
       "      <td>5.197944e-08</td>\n",
       "      <td>-2.538504</td>\n",
       "      <td>-0.356082</td>\n",
       "      <td>0.301863</td>\n",
       "      <td>1.284738</td>\n",
       "      <td>-0.150039</td>\n",
       "      <td>-1.943029</td>\n",
       "    </tr>\n",
       "  </tbody>\n",
       "</table>\n",
       "<p>5 rows × 196 columns</p>\n",
       "</div>"
      ],
      "text/plain": [
       "          csf  csf_derivative1     csf_power2  csf_derivative1_power2  \\\n",
       "0  470.413801              NaN  221289.144110                     NaN   \n",
       "1  465.227346        -5.186455  216436.483031               26.899320   \n",
       "2  461.218749        -4.008596  212722.734655               16.068844   \n",
       "3  463.294177         2.075428  214641.494791                4.307402   \n",
       "4  460.843536        -2.450641  212376.764878                6.005642   \n",
       "\n",
       "   white_matter  white_matter_derivative1  white_matter_derivative1_power2  \\\n",
       "0    502.865752                       NaN                              NaN   \n",
       "1    502.404673                 -0.461079                         0.212594   \n",
       "2    502.200712                 -0.203962                         0.041600   \n",
       "3    501.560595                 -0.640117                         0.409749   \n",
       "4    502.658903                  1.098308                         1.206281   \n",
       "\n",
       "   white_matter_power2  global_signal  global_signal_derivative1  ...  \\\n",
       "0        252873.964530     623.719160                        NaN  ...   \n",
       "1        252410.455711     621.257942                  -2.461218  ...   \n",
       "2        252205.554869     620.422218                  -0.835724  ...   \n",
       "3        251563.030456     620.192733                  -0.229484  ...   \n",
       "4        252665.973151     619.951292                  -0.241442  ...   \n",
       "\n",
       "      rot_z  rot_z_derivative1  rot_z_power2  rot_z_derivative1_power2  \\\n",
       "0  0.002864                NaN      0.000008                       NaN   \n",
       "1  0.002420          -0.000444      0.000006              1.968608e-07   \n",
       "2  0.002321          -0.000099      0.000005              9.822792e-09   \n",
       "3  0.002544           0.000223      0.000006              4.976022e-08   \n",
       "4  0.002316          -0.000228      0.000005              5.197944e-08   \n",
       "\n",
       "   aroma_motion_05  aroma_motion_11  aroma_motion_17  aroma_motion_18  \\\n",
       "0        -2.345714        -0.939522         0.632634         0.660056   \n",
       "1        -2.028463        -2.359410         0.182195         0.311244   \n",
       "2        -2.659588        -1.457759        -0.316505         2.153198   \n",
       "3        -2.607786        -0.602677        -0.225781        -0.551552   \n",
       "4        -2.538504        -0.356082         0.301863         1.284738   \n",
       "\n",
       "   aroma_motion_19  aroma_motion_20  \n",
       "0         2.721804         1.864549  \n",
       "1         0.890193        -0.638706  \n",
       "2        -0.416179         0.497415  \n",
       "3        -0.336480         0.425595  \n",
       "4        -0.150039        -1.943029  \n",
       "\n",
       "[5 rows x 196 columns]"
      ]
     },
     "execution_count": 9,
     "metadata": {},
     "output_type": "execute_result"
    }
   ],
   "source": [
    "confounds_df.head()"
   ]
  },
  {
   "cell_type": "code",
   "execution_count": 10,
   "metadata": {
    "ExecuteTime": {
     "end_time": "2019-11-28T00:05:43.831360Z",
     "start_time": "2019-11-28T00:05:43.777820Z"
    },
    "hidden": true
   },
   "outputs": [
    {
     "data": {
      "text/plain": [
       "['csf',\n",
       " 'csf_derivative1',\n",
       " 'csf_power2',\n",
       " 'csf_derivative1_power2',\n",
       " 'white_matter']"
      ]
     },
     "execution_count": 10,
     "metadata": {},
     "output_type": "execute_result"
    }
   ],
   "source": [
    "poss_confounds = list(confounds_df.columns)\n",
    "poss_confounds[:5]"
   ]
  },
  {
   "cell_type": "markdown",
   "metadata": {},
   "source": [
    "### Define paths etc"
   ]
  },
  {
   "cell_type": "code",
   "execution_count": 8,
   "metadata": {
    "ExecuteTime": {
     "end_time": "2019-12-06T21:30:21.902636Z",
     "start_time": "2019-12-06T21:30:21.851033Z"
    }
   },
   "outputs": [],
   "source": [
    "raw_data_dir = os.path.abspath(\"/Users/smerdis/data/LGN/BIDS/AV_20111117_fromRD/sub-AV/\")\n",
    "out_dir = os.path.abspath('/Users/smerdis/data/LGN/BIDS/AV_20111117_fromRD/derivatives/')\n",
    "mypreproc_bids_dir = os.path.abspath(\"/Users/smerdis/data/LGN/BIDS/AV_20111117/\")\n",
    "fmriprep_dir = os.path.abspath(\"/Users/smerdis/data/LGN/BIDS/AV_20111117_fromRD/derivatives/RD_preproc/\")\n",
    "sub = \"AV\"\n",
    "ses = \"20111117\""
   ]
  },
  {
   "cell_type": "markdown",
   "metadata": {
    "heading_collapsed": true
   },
   "source": [
    "#### Move files"
   ]
  },
  {
   "cell_type": "code",
   "execution_count": 8,
   "metadata": {
    "ExecuteTime": {
     "end_time": "2019-12-05T20:47:08.151658Z",
     "start_time": "2019-12-05T20:47:08.098822Z"
    },
    "hidden": true
   },
   "outputs": [
    {
     "name": "stdout",
     "output_type": "stream",
     "text": [
      "['/Users/smerdis/data/LGN/BIDS/AV_20111117/sub-AV/ses-20111117/func/sub-AV_ses-20111117_task-mp_run-01_bold.json', '/Users/smerdis/data/LGN/BIDS/AV_20111117/sub-AV/ses-20111117/func/sub-AV_ses-20111117_task-hemi_run-02_bold.json', '/Users/smerdis/data/LGN/BIDS/AV_20111117/sub-AV/ses-20111117/func/sub-AV_ses-20111117_task-mp_run-07_bold.json', '/Users/smerdis/data/LGN/BIDS/AV_20111117/sub-AV/ses-20111117/func/sub-AV_ses-20111117_task-mp_run-06_bold.json', '/Users/smerdis/data/LGN/BIDS/AV_20111117/sub-AV/ses-20111117/func/sub-AV_ses-20111117_task-mp_run-03_bold.json', '/Users/smerdis/data/LGN/BIDS/AV_20111117/sub-AV/ses-20111117/func/sub-AV_ses-20111117_task-mp_run-05_bold.json', '/Users/smerdis/data/LGN/BIDS/AV_20111117/sub-AV/ses-20111117/func/sub-AV_ses-20111117_task-mp_run-08_bold.json', '/Users/smerdis/data/LGN/BIDS/AV_20111117/sub-AV/ses-20111117/func/sub-AV_ses-20111117_task-mp_run-02_bold.json', '/Users/smerdis/data/LGN/BIDS/AV_20111117/sub-AV/ses-20111117/func/sub-AV_ses-20111117_task-hemi_run-01_bold.json', '/Users/smerdis/data/LGN/BIDS/AV_20111117/sub-AV/ses-20111117/func/sub-AV_ses-20111117_task-mp_run-04_bold.json']\n"
     ]
    }
   ],
   "source": [
    "events_glob = f\"{mypreproc_bids_dir}/sub-{sub}/ses-{ses}/func/*events.tsv\"\n",
    "task_json_glob = f\"{mypreproc_bids_dir}/sub-{sub}/ses-{ses}/func/*task*json\"\n",
    "print(glob.glob(task_json_glob), sep=\"\\n\")"
   ]
  },
  {
   "cell_type": "code",
   "execution_count": 47,
   "metadata": {
    "ExecuteTime": {
     "end_time": "2019-12-03T19:39:30.587016Z",
     "start_time": "2019-12-03T19:39:30.517298Z"
    },
    "hidden": true
   },
   "outputs": [
    {
     "name": "stdout",
     "output_type": "stream",
     "text": [
      "/Users/smerdis/data/LGN/BIDS/AV_20111117/sub-AV/ses-20111117/func/sub-AV_ses-20111117_task-mp_run-01_events.tsv\n",
      "/Users/smerdis/data/LGN/BIDS/AV_20111117_fromRD/sub-AV/ses-20111117/func/sub-AV_ses-20111117_task-mp_run-01_events.tsv\n",
      "/Users/smerdis/data/LGN/BIDS/AV_20111117/sub-AV/ses-20111117/func/sub-AV_ses-20111117_task-hemi_run-02_events.tsv\n",
      "/Users/smerdis/data/LGN/BIDS/AV_20111117_fromRD/sub-AV/ses-20111117/func/sub-AV_ses-20111117_task-hemi_run-02_events.tsv\n",
      "/Users/smerdis/data/LGN/BIDS/AV_20111117/sub-AV/ses-20111117/func/sub-AV_ses-20111117_task-mp_run-04_events.tsv\n",
      "/Users/smerdis/data/LGN/BIDS/AV_20111117_fromRD/sub-AV/ses-20111117/func/sub-AV_ses-20111117_task-mp_run-04_events.tsv\n",
      "/Users/smerdis/data/LGN/BIDS/AV_20111117/sub-AV/ses-20111117/func/sub-AV_ses-20111117_task-mp_run-03_events.tsv\n",
      "/Users/smerdis/data/LGN/BIDS/AV_20111117_fromRD/sub-AV/ses-20111117/func/sub-AV_ses-20111117_task-mp_run-03_events.tsv\n",
      "/Users/smerdis/data/LGN/BIDS/AV_20111117/sub-AV/ses-20111117/func/sub-AV_ses-20111117_task-mp_run-06_events.tsv\n",
      "/Users/smerdis/data/LGN/BIDS/AV_20111117_fromRD/sub-AV/ses-20111117/func/sub-AV_ses-20111117_task-mp_run-06_events.tsv\n",
      "/Users/smerdis/data/LGN/BIDS/AV_20111117/sub-AV/ses-20111117/func/sub-AV_ses-20111117_task-mp_run-08_events.tsv\n",
      "/Users/smerdis/data/LGN/BIDS/AV_20111117_fromRD/sub-AV/ses-20111117/func/sub-AV_ses-20111117_task-mp_run-08_events.tsv\n",
      "/Users/smerdis/data/LGN/BIDS/AV_20111117/sub-AV/ses-20111117/func/sub-AV_ses-20111117_task-mp_run-05_events.tsv\n",
      "/Users/smerdis/data/LGN/BIDS/AV_20111117_fromRD/sub-AV/ses-20111117/func/sub-AV_ses-20111117_task-mp_run-05_events.tsv\n",
      "/Users/smerdis/data/LGN/BIDS/AV_20111117/sub-AV/ses-20111117/func/sub-AV_ses-20111117_task-mp_run-07_events.tsv\n",
      "/Users/smerdis/data/LGN/BIDS/AV_20111117_fromRD/sub-AV/ses-20111117/func/sub-AV_ses-20111117_task-mp_run-07_events.tsv\n",
      "/Users/smerdis/data/LGN/BIDS/AV_20111117/sub-AV/ses-20111117/func/sub-AV_ses-20111117_task-hemi_run-01_events.tsv\n",
      "/Users/smerdis/data/LGN/BIDS/AV_20111117_fromRD/sub-AV/ses-20111117/func/sub-AV_ses-20111117_task-hemi_run-01_events.tsv\n",
      "/Users/smerdis/data/LGN/BIDS/AV_20111117/sub-AV/ses-20111117/func/sub-AV_ses-20111117_task-mp_run-02_events.tsv\n",
      "/Users/smerdis/data/LGN/BIDS/AV_20111117_fromRD/sub-AV/ses-20111117/func/sub-AV_ses-20111117_task-mp_run-02_events.tsv\n",
      "/Users/smerdis/data/LGN/BIDS/AV_20111117/sub-AV/ses-20111117/func/sub-AV_ses-20111117_task-mp_run-01_bold.json\n",
      "/Users/smerdis/data/LGN/BIDS/AV_20111117_fromRD/sub-AV/ses-20111117/func/sub-AV_ses-20111117_task-mp_run-01_bold.json\n",
      "/Users/smerdis/data/LGN/BIDS/AV_20111117/sub-AV/ses-20111117/func/sub-AV_ses-20111117_task-hemi_run-02_bold.json\n",
      "/Users/smerdis/data/LGN/BIDS/AV_20111117_fromRD/sub-AV/ses-20111117/func/sub-AV_ses-20111117_task-hemi_run-02_bold.json\n",
      "/Users/smerdis/data/LGN/BIDS/AV_20111117/sub-AV/ses-20111117/func/sub-AV_ses-20111117_task-mp_run-07_bold.json\n",
      "/Users/smerdis/data/LGN/BIDS/AV_20111117_fromRD/sub-AV/ses-20111117/func/sub-AV_ses-20111117_task-mp_run-07_bold.json\n",
      "/Users/smerdis/data/LGN/BIDS/AV_20111117/sub-AV/ses-20111117/func/sub-AV_ses-20111117_task-mp_run-06_bold.json\n",
      "/Users/smerdis/data/LGN/BIDS/AV_20111117_fromRD/sub-AV/ses-20111117/func/sub-AV_ses-20111117_task-mp_run-06_bold.json\n",
      "/Users/smerdis/data/LGN/BIDS/AV_20111117/sub-AV/ses-20111117/func/sub-AV_ses-20111117_task-mp_run-03_bold.json\n",
      "/Users/smerdis/data/LGN/BIDS/AV_20111117_fromRD/sub-AV/ses-20111117/func/sub-AV_ses-20111117_task-mp_run-03_bold.json\n",
      "/Users/smerdis/data/LGN/BIDS/AV_20111117/sub-AV/ses-20111117/func/sub-AV_ses-20111117_task-mp_run-05_bold.json\n",
      "/Users/smerdis/data/LGN/BIDS/AV_20111117_fromRD/sub-AV/ses-20111117/func/sub-AV_ses-20111117_task-mp_run-05_bold.json\n",
      "/Users/smerdis/data/LGN/BIDS/AV_20111117/sub-AV/ses-20111117/func/sub-AV_ses-20111117_task-mp_run-08_bold.json\n",
      "/Users/smerdis/data/LGN/BIDS/AV_20111117_fromRD/sub-AV/ses-20111117/func/sub-AV_ses-20111117_task-mp_run-08_bold.json\n",
      "/Users/smerdis/data/LGN/BIDS/AV_20111117/sub-AV/ses-20111117/func/sub-AV_ses-20111117_task-mp_run-02_bold.json\n",
      "/Users/smerdis/data/LGN/BIDS/AV_20111117_fromRD/sub-AV/ses-20111117/func/sub-AV_ses-20111117_task-mp_run-02_bold.json\n",
      "/Users/smerdis/data/LGN/BIDS/AV_20111117/sub-AV/ses-20111117/func/sub-AV_ses-20111117_task-hemi_run-01_bold.json\n",
      "/Users/smerdis/data/LGN/BIDS/AV_20111117_fromRD/sub-AV/ses-20111117/func/sub-AV_ses-20111117_task-hemi_run-01_bold.json\n",
      "/Users/smerdis/data/LGN/BIDS/AV_20111117/sub-AV/ses-20111117/func/sub-AV_ses-20111117_task-mp_run-04_bold.json\n",
      "/Users/smerdis/data/LGN/BIDS/AV_20111117_fromRD/sub-AV/ses-20111117/func/sub-AV_ses-20111117_task-mp_run-04_bold.json\n"
     ]
    }
   ],
   "source": [
    "for e in glob.glob(events_glob):\n",
    "    fn = os.path.split(e)[-1]\n",
    "    new_file_name = f\"{raw_data_dir}/ses-{ses}/func/{fn}\"\n",
    "    print(e, new_file_name, sep=\"\\n\")\n",
    "    shutil.copyfile(e, new_file_name)"
   ]
  },
  {
   "cell_type": "code",
   "execution_count": 48,
   "metadata": {
    "ExecuteTime": {
     "end_time": "2019-12-03T19:40:16.653586Z",
     "start_time": "2019-12-03T19:40:16.584357Z"
    },
    "hidden": true
   },
   "outputs": [
    {
     "name": "stdout",
     "output_type": "stream",
     "text": [
      "/Users/smerdis/data/LGN/BIDS/AV_20111117/sub-AV/ses-20111117/func/sub-AV_ses-20111117_task-mp_run-01_bold.json\n",
      "/Users/smerdis/data/LGN/BIDS/AV_20111117_fromRD/sub-AV/ses-20111117/func/sub-AV_ses-20111117_task-mp_run-01_bold.json\n",
      "/Users/smerdis/data/LGN/BIDS/AV_20111117/sub-AV/ses-20111117/func/sub-AV_ses-20111117_task-hemi_run-02_bold.json\n",
      "/Users/smerdis/data/LGN/BIDS/AV_20111117_fromRD/sub-AV/ses-20111117/func/sub-AV_ses-20111117_task-hemi_run-02_bold.json\n",
      "/Users/smerdis/data/LGN/BIDS/AV_20111117/sub-AV/ses-20111117/func/sub-AV_ses-20111117_task-mp_run-07_bold.json\n",
      "/Users/smerdis/data/LGN/BIDS/AV_20111117_fromRD/sub-AV/ses-20111117/func/sub-AV_ses-20111117_task-mp_run-07_bold.json\n",
      "/Users/smerdis/data/LGN/BIDS/AV_20111117/sub-AV/ses-20111117/func/sub-AV_ses-20111117_task-mp_run-06_bold.json\n",
      "/Users/smerdis/data/LGN/BIDS/AV_20111117_fromRD/sub-AV/ses-20111117/func/sub-AV_ses-20111117_task-mp_run-06_bold.json\n",
      "/Users/smerdis/data/LGN/BIDS/AV_20111117/sub-AV/ses-20111117/func/sub-AV_ses-20111117_task-mp_run-03_bold.json\n",
      "/Users/smerdis/data/LGN/BIDS/AV_20111117_fromRD/sub-AV/ses-20111117/func/sub-AV_ses-20111117_task-mp_run-03_bold.json\n",
      "/Users/smerdis/data/LGN/BIDS/AV_20111117/sub-AV/ses-20111117/func/sub-AV_ses-20111117_task-mp_run-05_bold.json\n",
      "/Users/smerdis/data/LGN/BIDS/AV_20111117_fromRD/sub-AV/ses-20111117/func/sub-AV_ses-20111117_task-mp_run-05_bold.json\n",
      "/Users/smerdis/data/LGN/BIDS/AV_20111117/sub-AV/ses-20111117/func/sub-AV_ses-20111117_task-mp_run-08_bold.json\n",
      "/Users/smerdis/data/LGN/BIDS/AV_20111117_fromRD/sub-AV/ses-20111117/func/sub-AV_ses-20111117_task-mp_run-08_bold.json\n",
      "/Users/smerdis/data/LGN/BIDS/AV_20111117/sub-AV/ses-20111117/func/sub-AV_ses-20111117_task-mp_run-02_bold.json\n",
      "/Users/smerdis/data/LGN/BIDS/AV_20111117_fromRD/sub-AV/ses-20111117/func/sub-AV_ses-20111117_task-mp_run-02_bold.json\n",
      "/Users/smerdis/data/LGN/BIDS/AV_20111117/sub-AV/ses-20111117/func/sub-AV_ses-20111117_task-hemi_run-01_bold.json\n",
      "/Users/smerdis/data/LGN/BIDS/AV_20111117_fromRD/sub-AV/ses-20111117/func/sub-AV_ses-20111117_task-hemi_run-01_bold.json\n",
      "/Users/smerdis/data/LGN/BIDS/AV_20111117/sub-AV/ses-20111117/func/sub-AV_ses-20111117_task-mp_run-04_bold.json\n",
      "/Users/smerdis/data/LGN/BIDS/AV_20111117_fromRD/sub-AV/ses-20111117/func/sub-AV_ses-20111117_task-mp_run-04_bold.json\n"
     ]
    }
   ],
   "source": [
    "\n",
    "for e in glob.glob(task_json_glob):\n",
    "    fn = os.path.split(e)[-1]\n",
    "    new_file_name = f\"{raw_data_dir}/ses-{ses}/func/{fn}\"\n",
    "    print(e, new_file_name, sep=\"\\n\")\n",
    "    shutil.copyfile(e, new_file_name)"
   ]
  },
  {
   "cell_type": "markdown",
   "metadata": {
    "heading_collapsed": true
   },
   "source": [
    "### Fix the event files\n",
    "\n",
    "For this subject, I consulted the scan log to line up the scans to runs and moved the files around manually"
   ]
  },
  {
   "cell_type": "code",
   "execution_count": null,
   "metadata": {
    "code_folding": [],
    "hidden": true
   },
   "outputs": [],
   "source": [
    "blocks_in_order = ['L', 'R']\n",
    "for thisrun in [1, 2, 3, 4]:\n",
    "    events_fn = f\"{raw_data_dir}/ses-{ses}/func/sub-{sub}_ses-{ses}_task-hemi_run-{thisrun:02d}_events.tsv\"\n",
    "    events_file_contents = f\"onset\\tduration\\ttrial_type\\n\"\n",
    "    time_between_onsets = 13.5\n",
    "    for i in range(22):\n",
    "        events_file_contents += f\"{i*time_between_onsets:.2f}\\t{time_between_onsets}\\t{blocks_in_order[i%(len(blocks_in_order))]}\\n\"\n",
    "    with open(events_fn, 'w') as f:\n",
    "        f.write(events_file_contents)\n",
    "    #print(events_fn, '\\n', events_file_contents)"
   ]
  },
  {
   "cell_type": "markdown",
   "metadata": {},
   "source": [
    "## GLM invocation from a cell"
   ]
  },
  {
   "cell_type": "markdown",
   "metadata": {},
   "source": [
    "### Only run one of the next two cells! (Picks which task and runs to analyze)\n",
    "\n",
    "#### Hemifield"
   ]
  },
  {
   "cell_type": "code",
   "execution_count": 9,
   "metadata": {
    "ExecuteTime": {
     "end_time": "2019-12-06T21:30:24.800042Z",
     "start_time": "2019-12-06T21:30:24.749662Z"
    }
   },
   "outputs": [],
   "source": [
    "task = \"hemi\"\n",
    "runs = [1, 2]\n",
    "space=\"T1w\""
   ]
  },
  {
   "cell_type": "markdown",
   "metadata": {
    "heading_collapsed": true
   },
   "source": [
    "#### MP"
   ]
  },
  {
   "cell_type": "code",
   "execution_count": 14,
   "metadata": {
    "ExecuteTime": {
     "end_time": "2019-11-27T04:07:18.297885Z",
     "start_time": "2019-11-27T04:07:18.234804Z"
    },
    "hidden": true
   },
   "outputs": [],
   "source": [
    "task = \"mp\"\n",
    "runs = [1, 2, 3, 4, 5, 6, 7, 8]\n",
    "space=\"T1w\""
   ]
  },
  {
   "cell_type": "markdown",
   "metadata": {
    "heading_collapsed": true
   },
   "source": [
    "### Use functions from utils to get files that would be passed to workflow"
   ]
  },
  {
   "cell_type": "code",
   "execution_count": 12,
   "metadata": {
    "ExecuteTime": {
     "end_time": "2019-12-06T18:52:05.358342Z",
     "start_time": "2019-12-06T18:52:05.293458Z"
    },
    "hidden": true
   },
   "outputs": [],
   "source": [
    "from bids import BIDSLayout"
   ]
  },
  {
   "cell_type": "code",
   "execution_count": null,
   "metadata": {
    "hidden": true
   },
   "outputs": [],
   "source": [
    "BIDSLayout??"
   ]
  },
  {
   "cell_type": "code",
   "execution_count": 16,
   "metadata": {
    "ExecuteTime": {
     "end_time": "2019-12-06T18:52:27.225649Z",
     "start_time": "2019-12-06T18:52:26.913868Z"
    },
    "hidden": true
   },
   "outputs": [],
   "source": [
    "raw_layout = BIDSLayout(raw_data_dir, validate=False, derivatives=False)"
   ]
  },
  {
   "cell_type": "code",
   "execution_count": null,
   "metadata": {
    "hidden": true
   },
   "outputs": [],
   "source": [
    "raw_layout.files"
   ]
  },
  {
   "cell_type": "code",
   "execution_count": 27,
   "metadata": {
    "ExecuteTime": {
     "end_time": "2019-12-06T19:13:19.251412Z",
     "start_time": "2019-12-06T19:13:19.063464Z"
    },
    "hidden": true
   },
   "outputs": [],
   "source": [
    "preproc_layout = BIDSLayout(fmriprep_dir, validate=False)"
   ]
  },
  {
   "cell_type": "code",
   "execution_count": 32,
   "metadata": {
    "ExecuteTime": {
     "end_time": "2019-12-06T19:15:14.995174Z",
     "start_time": "2019-12-06T19:15:14.931843Z"
    },
    "hidden": true
   },
   "outputs": [],
   "source": [
    "masks = sorted([f for f in preproc_layout.get(subject=sub, suffix='mask',\n",
    "            session=ses, run=[], task=task, extension=['nii.gz'], return_type='file')])"
   ]
  },
  {
   "cell_type": "code",
   "execution_count": 33,
   "metadata": {
    "ExecuteTime": {
     "end_time": "2019-12-06T19:15:15.989705Z",
     "start_time": "2019-12-06T19:15:15.933289Z"
    },
    "hidden": true
   },
   "outputs": [
    {
     "data": {
      "text/plain": [
       "[]"
      ]
     },
     "execution_count": 33,
     "metadata": {},
     "output_type": "execute_result"
    }
   ],
   "source": [
    "masks * 2"
   ]
  },
  {
   "cell_type": "code",
   "execution_count": 14,
   "metadata": {
    "ExecuteTime": {
     "end_time": "2019-12-06T18:52:18.928857Z",
     "start_time": "2019-12-06T18:52:18.872155Z"
    },
    "hidden": true
   },
   "outputs": [
    {
     "data": {
      "text/plain": [
       "{'/Users/smerdis/data/LGN/BIDS/AV_20111117_fromRD/derivatives/RD_preproc/.DS_Store': <BIDSFile filename='/Users/smerdis/data/LGN/BIDS/AV_20111117_fromRD/derivatives/RD_preproc/.DS_Store'>,\n",
       " '/Users/smerdis/data/LGN/BIDS/AV_20111117_fromRD/derivatives/RD_preproc/sub-AV/.DS_Store': <BIDSFile filename='/Users/smerdis/data/LGN/BIDS/AV_20111117_fromRD/derivatives/RD_preproc/sub-AV/.DS_Store'>,\n",
       " '/Users/smerdis/data/LGN/BIDS/AV_20111117_fromRD/derivatives/RD_preproc/sub-AV/ses-20111117/.DS_Store': <BIDSFile filename='/Users/smerdis/data/LGN/BIDS/AV_20111117_fromRD/derivatives/RD_preproc/sub-AV/ses-20111117/.DS_Store'>,\n",
       " '/Users/smerdis/data/LGN/BIDS/AV_20111117_fromRD/derivatives/RD_preproc/sub-AV/ses-20111117/func/sub-AV_ses-20111117_task-mp_run-05_desc-preproc_bold.nii.gz': <BIDSImageFile filename='/Users/smerdis/data/LGN/BIDS/AV_20111117_fromRD/derivatives/RD_preproc/sub-AV/ses-20111117/func/sub-AV_ses-20111117_task-mp_run-05_desc-preproc_bold.nii.gz'>,\n",
       " '/Users/smerdis/data/LGN/BIDS/AV_20111117_fromRD/derivatives/RD_preproc/sub-AV/ses-20111117/func/sub-AV_ses-20111117_task-mp_run-01_desc-preproc_bold.nii.gz': <BIDSImageFile filename='/Users/smerdis/data/LGN/BIDS/AV_20111117_fromRD/derivatives/RD_preproc/sub-AV/ses-20111117/func/sub-AV_ses-20111117_task-mp_run-01_desc-preproc_bold.nii.gz'>,\n",
       " '/Users/smerdis/data/LGN/BIDS/AV_20111117_fromRD/derivatives/RD_preproc/sub-AV/ses-20111117/func/sub-AV_ses-20111117_task-hemi_run-01_desc-preproc_bold.nii.gz': <BIDSImageFile filename='/Users/smerdis/data/LGN/BIDS/AV_20111117_fromRD/derivatives/RD_preproc/sub-AV/ses-20111117/func/sub-AV_ses-20111117_task-hemi_run-01_desc-preproc_bold.nii.gz'>,\n",
       " '/Users/smerdis/data/LGN/BIDS/AV_20111117_fromRD/derivatives/RD_preproc/sub-AV/ses-20111117/func/sub-AV_ses-20111117_task-mp_run-04_desc-preproc_bold.nii.gz': <BIDSImageFile filename='/Users/smerdis/data/LGN/BIDS/AV_20111117_fromRD/derivatives/RD_preproc/sub-AV/ses-20111117/func/sub-AV_ses-20111117_task-mp_run-04_desc-preproc_bold.nii.gz'>,\n",
       " '/Users/smerdis/data/LGN/BIDS/AV_20111117_fromRD/derivatives/RD_preproc/sub-AV/ses-20111117/func/sub-AV_ses-20111117_task-mp_run-08_desc-preproc_bold.nii.gz': <BIDSImageFile filename='/Users/smerdis/data/LGN/BIDS/AV_20111117_fromRD/derivatives/RD_preproc/sub-AV/ses-20111117/func/sub-AV_ses-20111117_task-mp_run-08_desc-preproc_bold.nii.gz'>,\n",
       " '/Users/smerdis/data/LGN/BIDS/AV_20111117_fromRD/derivatives/RD_preproc/sub-AV/ses-20111117/func/sub-AV_ses-20111117_task-hemi_run-02_desc-preproc_bold.nii.gz': <BIDSImageFile filename='/Users/smerdis/data/LGN/BIDS/AV_20111117_fromRD/derivatives/RD_preproc/sub-AV/ses-20111117/func/sub-AV_ses-20111117_task-hemi_run-02_desc-preproc_bold.nii.gz'>,\n",
       " '/Users/smerdis/data/LGN/BIDS/AV_20111117_fromRD/derivatives/RD_preproc/sub-AV/ses-20111117/func/sub-AV_ses-20111117_task-mp_run-06_desc-preproc_bold.nii.gz': <BIDSImageFile filename='/Users/smerdis/data/LGN/BIDS/AV_20111117_fromRD/derivatives/RD_preproc/sub-AV/ses-20111117/func/sub-AV_ses-20111117_task-mp_run-06_desc-preproc_bold.nii.gz'>,\n",
       " '/Users/smerdis/data/LGN/BIDS/AV_20111117_fromRD/derivatives/RD_preproc/sub-AV/ses-20111117/func/sub-AV_ses-20111117_task-mp_run-02_desc-preproc_bold.nii.gz': <BIDSImageFile filename='/Users/smerdis/data/LGN/BIDS/AV_20111117_fromRD/derivatives/RD_preproc/sub-AV/ses-20111117/func/sub-AV_ses-20111117_task-mp_run-02_desc-preproc_bold.nii.gz'>,\n",
       " '/Users/smerdis/data/LGN/BIDS/AV_20111117_fromRD/derivatives/RD_preproc/sub-AV/ses-20111117/func/sub-AV_ses-20111117_task-mp_run-03_desc-preproc_bold.nii.gz': <BIDSImageFile filename='/Users/smerdis/data/LGN/BIDS/AV_20111117_fromRD/derivatives/RD_preproc/sub-AV/ses-20111117/func/sub-AV_ses-20111117_task-mp_run-03_desc-preproc_bold.nii.gz'>,\n",
       " '/Users/smerdis/data/LGN/BIDS/AV_20111117_fromRD/derivatives/RD_preproc/sub-AV/ses-20111117/func/sub-AV_ses-20111117_task-mp_run-07_desc-preproc_bold.nii.gz': <BIDSImageFile filename='/Users/smerdis/data/LGN/BIDS/AV_20111117_fromRD/derivatives/RD_preproc/sub-AV/ses-20111117/func/sub-AV_ses-20111117_task-mp_run-07_desc-preproc_bold.nii.gz'>}"
      ]
     },
     "execution_count": 14,
     "metadata": {},
     "output_type": "execute_result"
    }
   ],
   "source": [
    "preproc_layout.files"
   ]
  },
  {
   "cell_type": "code",
   "execution_count": 17,
   "metadata": {
    "ExecuteTime": {
     "end_time": "2019-12-06T18:52:29.290639Z",
     "start_time": "2019-12-06T18:52:29.158628Z"
    },
    "hidden": true
   },
   "outputs": [],
   "source": [
    "subjects = preproc_layout.get_subjects()\n",
    "assert sub in subjects and sub in raw_layout.get_subjects(), \"Subject not found!\"\n",
    "\n",
    "sessions = preproc_layout.get_sessions()\n",
    "assert ses in sessions, \"Session not found!\"\n",
    "\n",
    "tasks = preproc_layout.get_tasks()\n",
    "assert task in tasks, \"Task not found!\""
   ]
  },
  {
   "cell_type": "code",
   "execution_count": null,
   "metadata": {
    "hidden": true
   },
   "outputs": [],
   "source": [
    "preproc_layout.get??"
   ]
  },
  {
   "cell_type": "code",
   "execution_count": null,
   "metadata": {
    "hidden": true
   },
   "outputs": [],
   "source": [
    "bolds = [preproc_layout.get(subject=sub, suffix='preproc',\n",
    "                              session=ses, task=task, run=runs, extensions=['nii.gz'],\n",
    "                                               return_type='file')]\n",
    "print(f\"BOLDS: {len(bolds)}\\n{bolds}\")"
   ]
  },
  {
   "cell_type": "code",
   "execution_count": null,
   "metadata": {
    "hidden": true
   },
   "outputs": [],
   "source": [
    "raw_bolds = raw_layout.get(subject=sub, suffix=\"bold\",\n",
    "                           task=task, session=ses, run=runs, extensions=['nii.gz'])"
   ]
  },
  {
   "cell_type": "code",
   "execution_count": null,
   "metadata": {
    "hidden": true
   },
   "outputs": [],
   "source": [
    "raw_bolds"
   ]
  },
  {
   "cell_type": "code",
   "execution_count": null,
   "metadata": {
    "hidden": true
   },
   "outputs": [],
   "source": [
    "raw_layout.get_tr(raw_bolds[0].filename)"
   ]
  },
  {
   "cell_type": "code",
   "execution_count": null,
   "metadata": {
    "hidden": true
   },
   "outputs": [],
   "source": [
    "TRs = [raw_layout.get_tr(f.filename) for f in raw_bolds]"
   ]
  },
  {
   "cell_type": "code",
   "execution_count": null,
   "metadata": {
    "hidden": true
   },
   "outputs": [],
   "source": [
    "TRs"
   ]
  },
  {
   "cell_type": "markdown",
   "metadata": {},
   "source": [
    "### Use the actual utils.py function"
   ]
  },
  {
   "cell_type": "code",
   "execution_count": 10,
   "metadata": {
    "ExecuteTime": {
     "end_time": "2019-12-06T21:30:39.463297Z",
     "start_time": "2019-12-06T21:30:36.892669Z"
    }
   },
   "outputs": [
    {
     "name": "stdout",
     "output_type": "stream",
     "text": [
      "Space is None\n",
      "BOLDS: 2\n",
      "['/Users/smerdis/data/LGN/BIDS/AV_20111117_fromRD/derivatives/RD_preproc/sub-AV/ses-20111117/func/sub-AV_ses-20111117_task-hemi_run-01_desc-preproc_bold.nii.gz', '/Users/smerdis/data/LGN/BIDS/AV_20111117_fromRD/derivatives/RD_preproc/sub-AV/ses-20111117/func/sub-AV_ses-20111117_task-hemi_run-02_desc-preproc_bold.nii.gz']\n",
      "Masks: 2\n",
      "['/Users/smerdis/data/LGN/BIDS/AV_20111117_fromRD/derivatives/RD_preproc/sub-AV/ses-20111117/func/sub-AV_ses-20111117_task-hemi_desc-brain_mask.nii.gz', '/Users/smerdis/data/LGN/BIDS/AV_20111117_fromRD/derivatives/RD_preproc/sub-AV/ses-20111117/func/sub-AV_ses-20111117_task-hemi_desc-brain_mask.nii.gz']\n",
      "Eventfiles: 2\n",
      "['/Users/smerdis/data/LGN/BIDS/AV_20111117_fromRD/sub-AV/ses-20111117/func/sub-AV_ses-20111117_task-hemi_run-01_events.tsv', '/Users/smerdis/data/LGN/BIDS/AV_20111117_fromRD/sub-AV/ses-20111117/func/sub-AV_ses-20111117_task-hemi_run-02_events.tsv']\n",
      "[2.25, 2.25] 2\n",
      "Confounds: 0\n",
      "[]\n"
     ]
    }
   ],
   "source": [
    "bolds, masks, eventfiles, TR, confounds = utils.get_files_fmriprep14(sub, ses, task,\n",
    "    raw_data_dir, fmriprep_dir, run=runs)"
   ]
  },
  {
   "cell_type": "code",
   "execution_count": 11,
   "metadata": {
    "ExecuteTime": {
     "end_time": "2019-12-06T21:30:47.035587Z",
     "start_time": "2019-12-06T21:30:46.970819Z"
    }
   },
   "outputs": [
    {
     "name": "stdout",
     "output_type": "stream",
     "text": [
      "2\n",
      "/Users/smerdis/data/LGN/BIDS/AV_20111117_fromRD/derivatives/RD_preproc/sub-AV/ses-20111117/func/sub-AV_ses-20111117_task-hemi_run-02_desc-preproc_bold.nii.gz\n",
      "/Users/smerdis/data/LGN/BIDS/AV_20111117_fromRD/derivatives/RD_preproc/sub-AV/ses-20111117/func/sub-AV_ses-20111117_task-hemi_desc-brain_mask.nii.gz\n"
     ]
    }
   ],
   "source": [
    "# runs is a list containing the fmriprep run numbers we want to analyze\n",
    "# so run is the fmriprep run number, and run_idx is its position in runs\n",
    "run = 2\n",
    "if run not in runs:\n",
    "    print('Error, that run is not present for this task!')\n",
    "else:\n",
    "    run_idx = runs.index(run)\n",
    "    bold_file = bolds[run_idx]\n",
    "    mask_file = masks[run_idx]\n",
    "    print(run, bold_file, mask_file, sep=\"\\n\")"
   ]
  },
  {
   "cell_type": "markdown",
   "metadata": {
    "heading_collapsed": true
   },
   "source": [
    "### Just load the files directly"
   ]
  },
  {
   "cell_type": "code",
   "execution_count": 12,
   "metadata": {
    "ExecuteTime": {
     "end_time": "2019-12-06T21:06:23.785440Z",
     "start_time": "2019-12-06T21:06:23.727583Z"
    },
    "hidden": true
   },
   "outputs": [],
   "source": [
    "anat_file = os.path.join(fmriprep_dir, f\"sub-{sub}/ses-{ses}\", 'anat', f\"sub-{sub}_desc-preproc_T1w.nii.gz\")\n",
    "#func = os.path.join(fmriprep_dir, bolds[0])\n",
    "#mROI = os.path.join(fmriprep_dir, f\"sub-{sub}/ses-{ses}/func/sub-{sub}_ses-{ses}_task-{task}_run-01_lLGN_roi_manual.nii.gz\")"
   ]
  },
  {
   "cell_type": "code",
   "execution_count": 13,
   "metadata": {
    "ExecuteTime": {
     "end_time": "2019-12-06T21:06:24.206671Z",
     "start_time": "2019-12-06T21:06:24.148860Z"
    },
    "hidden": true
   },
   "outputs": [
    {
     "name": "stdout",
     "output_type": "stream",
     "text": [
      "/Users/smerdis/data/LGN/BIDS/AV_20111117_fromRD/derivatives/nipype_AV_20111117_hemi_rdpreproc_noconfounds/hemi/modelfit/datasink\n"
     ]
    }
   ],
   "source": [
    "# nipype_dir = f\"{out_dir}/nipype_AV_20111117_mp_2019-11-26_20-26-54\" #mp (update each time glm is run)\n",
    "# nipype_dir = f\"{out_dir}/nipype_AV_20111117_hemi_2019-11-26_21-06-50\" #hemi (update each time glm is run)\n",
    "nipype_dir = f\"{out_dir}/nipype_AV_20111117_{task}_rdpreproc_noconfounds\"\n",
    "wf_dir = f\"{nipype_dir}/{task}/modelfit\"\n",
    "datasink_dir = os.path.join(wf_dir, 'datasink')\n",
    "print(datasink_dir)"
   ]
  },
  {
   "cell_type": "code",
   "execution_count": 14,
   "metadata": {
    "ExecuteTime": {
     "end_time": "2019-12-06T21:00:42.481144Z",
     "start_time": "2019-12-06T21:00:42.425135Z"
    },
    "hidden": true
   },
   "outputs": [
    {
     "name": "stdout",
     "output_type": "stream",
     "text": [
      "python glm_hemi_AV20111117_rdpreproc.py /Users/smerdis/data/LGN/BIDS/AV_20111117_fromRD/sub-AV /Users/smerdis/data/LGN/BIDS/AV_20111117_fromRD/derivatives AV 20111117 hemi None /Users/smerdis/data/LGN/BIDS/AV_20111117_fromRD/derivatives/nipype_AV_20111117_hemi_rdpreproc_noconfounds \"[1, 2]\"\n",
      "python glm_mp_AV20111117.py /Users/smerdis/data/LGN/BIDS/AV_20111117_fromRD/sub-AV /Users/smerdis/data/LGN/BIDS/AV_20111117_fromRD/derivatives AV 20111117 mp T1w /Users/smerdis/data/LGN/BIDS/AV_20111117_fromRD/derivatives/nipype_AV_20111117_hemi_rdpreproc_noconfounds \"[1, 2]\"\n"
     ]
    }
   ],
   "source": [
    "hemi_command = f\"python glm_hemi_AV20111117_rdpreproc.py {raw_data_dir} \\\n",
    "{out_dir} {sub} {ses} hemi None {nipype_dir} \\\"[1, 2]\\\"\"\n",
    "mp_command = f\"python glm_mp_AV20111117.py {raw_data_dir} \\\n",
    "{out_dir} {sub} {ses} mp {space} {nipype_dir} \\\"{runs}\\\"\"\n",
    "print(hemi_command)\n",
    "print(mp_command)"
   ]
  },
  {
   "cell_type": "code",
   "execution_count": 15,
   "metadata": {
    "ExecuteTime": {
     "end_time": "2019-12-06T21:00:44.716529Z",
     "start_time": "2019-12-06T21:00:44.528064Z"
    },
    "hidden": true
   },
   "outputs": [
    {
     "name": "stdout",
     "output_type": "stream",
     "text": [
      "_0x6acfc816496280017a0e96ef63333b25.json\r\n",
      "_inputs.pklz\r\n",
      "_node.pklz\r\n",
      "\u001b[34m_report\u001b[m\u001b[m\r\n",
      "\u001b[34mdesign_file\u001b[m\u001b[m\r\n",
      "\u001b[34mdesign_image\u001b[m\u001b[m\r\n",
      "\u001b[34mepi_masked_trimmed\u001b[m\u001b[m\r\n",
      "result_datasink.pklz\r\n",
      "\u001b[34mresults_dir\u001b[m\u001b[m\r\n",
      "\u001b[34mstats_dir\u001b[m\u001b[m\r\n"
     ]
    }
   ],
   "source": [
    "!ls \"{datasink_dir}\""
   ]
  },
  {
   "cell_type": "code",
   "execution_count": 16,
   "metadata": {
    "ExecuteTime": {
     "end_time": "2019-12-06T21:00:45.758011Z",
     "start_time": "2019-12-06T21:00:45.563559Z"
    },
    "hidden": true
   },
   "outputs": [
    {
     "name": "stdout",
     "output_type": "stream",
     "text": [
      "\u001b[34m_modelestimate0\u001b[m\u001b[m \u001b[34m_modelestimate1\u001b[m\u001b[m\r\n"
     ]
    }
   ],
   "source": [
    "!ls \"{datasink_dir}/results_dir\""
   ]
  },
  {
   "cell_type": "markdown",
   "metadata": {
    "heading_collapsed": true
   },
   "source": [
    "### Filenames of other maps etc we want to overlay on our images"
   ]
  },
  {
   "cell_type": "code",
   "execution_count": 59,
   "metadata": {
    "ExecuteTime": {
     "end_time": "2019-12-06T20:05:40.870834Z",
     "start_time": "2019-12-06T20:05:40.685744Z"
    },
    "hidden": true
   },
   "outputs": [
    {
     "name": "stdout",
     "output_type": "stream",
     "text": [
      "/Users/smerdis/data/LGN/BIDS/AV_20111117_fromRD/derivatives/nitime/sub-AV_ses-20111117_task-hemi_run-02_desc-coherence_map.nii\n",
      "/Users/smerdis/data/LGN/BIDS/AV_20111117_fromRD/derivatives/nitime/sub-AV_ses-20111117_task-hemi_run-02_desc-coherence_map.nii\r\n"
     ]
    }
   ],
   "source": [
    "coh_fn = f\"{out_dir}/nitime/sub-{sub}_ses-{ses}_task-hemi_run-02_desc-coherence_map.nii\"\n",
    "print(coh_fn)\n",
    "!ls {coh_fn}"
   ]
  },
  {
   "cell_type": "code",
   "execution_count": 26,
   "metadata": {
    "ExecuteTime": {
     "end_time": "2019-11-28T00:21:52.221412Z",
     "start_time": "2019-11-28T00:21:52.142244Z"
    },
    "hidden": true
   },
   "outputs": [],
   "source": [
    "# from fsleyes 0.32\n",
    "def isBIDSFile(filename, strict=True):\n",
    "    \"\"\"Returns ``True`` if ``filename`` looks like a BIDS image or JSON file.\n",
    "\n",
    "    :arg filename: Name of file to check\n",
    "    :arg strict:   If ``True`` (the default), the file must be within a BIDS\n",
    "                   dataset directory, as defined by :func:`inBIDSDir`.\n",
    "    \"\"\"\n",
    "\n",
    "    name    = os.path.basename(filename)\n",
    "    pattern = r'([a-z0-9]+-[a-z0-9]+_)*([a-z0-9])+\\.(nii|nii\\.gz|json)'\n",
    "    flags   = re.ASCII | re.IGNORECASE\n",
    "    match   = re.fullmatch(pattern, name, flags) is not None\n",
    "    \n",
    "    print(name, match)\n",
    "\n",
    "    return ((not strict) or inBIDSDir(filename)) and match"
   ]
  },
  {
   "cell_type": "code",
   "execution_count": 27,
   "metadata": {
    "ExecuteTime": {
     "end_time": "2019-11-28T00:21:53.103312Z",
     "start_time": "2019-11-28T00:21:52.925406Z"
    },
    "hidden": true
   },
   "outputs": [
    {
     "name": "stdout",
     "output_type": "stream",
     "text": [
      "sub-AV_ses-20111117_task-hemi_desc-coherence_map.nii True\n"
     ]
    },
    {
     "ename": "NameError",
     "evalue": "name 'inBIDSDir' is not defined",
     "output_type": "error",
     "traceback": [
      "\u001b[0;31m---------------------------------------------------------------------------\u001b[0m",
      "\u001b[0;31mNameError\u001b[0m                                 Traceback (most recent call last)",
      "\u001b[0;32m<ipython-input-27-b230fd6f4688>\u001b[0m in \u001b[0;36m<module>\u001b[0;34m\u001b[0m\n\u001b[0;32m----> 1\u001b[0;31m \u001b[0misBIDSFile\u001b[0m\u001b[0;34m(\u001b[0m\u001b[0mcoh_fn\u001b[0m\u001b[0;34m)\u001b[0m\u001b[0;34m\u001b[0m\u001b[0;34m\u001b[0m\u001b[0m\n\u001b[0m",
      "\u001b[0;32m<ipython-input-26-8dda83977ee3>\u001b[0m in \u001b[0;36misBIDSFile\u001b[0;34m(filename, strict)\u001b[0m\n\u001b[1;32m     15\u001b[0m     \u001b[0mprint\u001b[0m\u001b[0;34m(\u001b[0m\u001b[0mname\u001b[0m\u001b[0;34m,\u001b[0m \u001b[0mmatch\u001b[0m\u001b[0;34m)\u001b[0m\u001b[0;34m\u001b[0m\u001b[0;34m\u001b[0m\u001b[0m\n\u001b[1;32m     16\u001b[0m \u001b[0;34m\u001b[0m\u001b[0m\n\u001b[0;32m---> 17\u001b[0;31m     \u001b[0;32mreturn\u001b[0m \u001b[0;34m(\u001b[0m\u001b[0;34m(\u001b[0m\u001b[0;32mnot\u001b[0m \u001b[0mstrict\u001b[0m\u001b[0;34m)\u001b[0m \u001b[0;32mor\u001b[0m \u001b[0minBIDSDir\u001b[0m\u001b[0;34m(\u001b[0m\u001b[0mfilename\u001b[0m\u001b[0;34m)\u001b[0m\u001b[0;34m)\u001b[0m \u001b[0;32mand\u001b[0m \u001b[0mmatch\u001b[0m\u001b[0;34m\u001b[0m\u001b[0;34m\u001b[0m\u001b[0m\n\u001b[0m",
      "\u001b[0;31mNameError\u001b[0m: name 'inBIDSDir' is not defined"
     ]
    }
   ],
   "source": [
    "isBIDSFile(coh_fn)"
   ]
  },
  {
   "cell_type": "markdown",
   "metadata": {
    "heading_collapsed": true
   },
   "source": [
    "### View the contrast beta maps overlaid on the functional and anatomical images"
   ]
  },
  {
   "cell_type": "code",
   "execution_count": 52,
   "metadata": {
    "ExecuteTime": {
     "end_time": "2019-12-06T20:02:29.051495Z",
     "start_time": "2019-12-06T20:02:28.987493Z"
    },
    "hidden": true
   },
   "outputs": [],
   "source": [
    "contrasts = utils.get_contrasts(task)"
   ]
  },
  {
   "cell_type": "code",
   "execution_count": 53,
   "metadata": {
    "ExecuteTime": {
     "end_time": "2019-12-06T20:02:30.544090Z",
     "start_time": "2019-12-06T20:02:30.486487Z"
    },
    "hidden": true
   },
   "outputs": [
    {
     "data": {
      "text/plain": [
       "[['L>Baseline', 'T', ['L', 'R'], [1, 0]],\n",
       " ['R>Baseline', 'T', ['L', 'R'], [0, 1]],\n",
       " ['R-L', 'T', ['L', 'R'], [-1, 1]],\n",
       " ['Task>Baseline', 'T', ['L', 'R'], [0.5, 0.5]]]"
      ]
     },
     "execution_count": 53,
     "metadata": {},
     "output_type": "execute_result"
    }
   ],
   "source": [
    "contrasts"
   ]
  },
  {
   "cell_type": "code",
   "execution_count": 54,
   "metadata": {
    "ExecuteTime": {
     "end_time": "2019-12-06T20:02:34.729820Z",
     "start_time": "2019-12-06T20:02:34.671294Z"
    },
    "hidden": true
   },
   "outputs": [],
   "source": [
    "contrast_idx = 2 # position in the list of contrasts (zero-indexed)\n",
    "contrast = contrast_idx + 1 # suffix number of the level 1 COPE file for that contrast\n",
    "l1copes, l2copes = utils.get_model_outputs(datasink_dir, [contrast])"
   ]
  },
  {
   "cell_type": "code",
   "execution_count": 55,
   "metadata": {
    "ExecuteTime": {
     "end_time": "2019-12-06T20:02:35.928132Z",
     "start_time": "2019-12-06T20:02:35.872205Z"
    },
    "hidden": true
   },
   "outputs": [
    {
     "data": {
      "text/plain": [
       "['/Users/smerdis/data/LGN/BIDS/AV_20111117_fromRD/derivatives/nipype_AV_20111117_hemi_rdpreproc_noconfounds/hemi/modelfit/datasink/results_dir/_modelestimate0/results/cope3.nii.gz',\n",
       " '/Users/smerdis/data/LGN/BIDS/AV_20111117_fromRD/derivatives/nipype_AV_20111117_hemi_rdpreproc_noconfounds/hemi/modelfit/datasink/results_dir/_modelestimate1/results/cope3.nii.gz']"
      ]
     },
     "execution_count": 55,
     "metadata": {},
     "output_type": "execute_result"
    }
   ],
   "source": [
    "l1copes"
   ]
  },
  {
   "cell_type": "code",
   "execution_count": 56,
   "metadata": {
    "ExecuteTime": {
     "end_time": "2019-12-06T20:02:36.725075Z",
     "start_time": "2019-12-06T20:02:36.668139Z"
    },
    "hidden": true
   },
   "outputs": [
    {
     "data": {
      "text/plain": [
       "['/Users/smerdis/data/LGN/BIDS/AV_20111117_fromRD/derivatives/nipype_AV_20111117_hemi_rdpreproc_noconfounds/hemi/modelfit/datasink/stats_dir/_flameo2/stats/cope1.nii.gz']"
      ]
     },
     "execution_count": 56,
     "metadata": {},
     "output_type": "execute_result"
    }
   ],
   "source": [
    "l2copes"
   ]
  },
  {
   "cell_type": "code",
   "execution_count": 57,
   "metadata": {
    "ExecuteTime": {
     "end_time": "2019-12-06T20:02:40.443895Z",
     "start_time": "2019-12-06T20:02:40.367708Z"
    },
    "hidden": true
   },
   "outputs": [
    {
     "data": {
      "text/plain": [
       "'fsleyes /Users/smerdis/data/LGN/BIDS/AV_20111117_fromRD/derivatives/RD_preproc/sub-AV/anat/sub-AV_desc-preproc_T1w.nii.gz /Users/smerdis/data/LGN/BIDS/AV_20111117_fromRD/derivatives/RD_preproc/sub-AV/ses-20111117/func/sub-AV_ses-20111117_task-hemi_run-01_desc-preproc_bold.nii.gz  /Users/smerdis/data/LGN/BIDS/AV_20111117_fromRD/derivatives/nipype_AV_20111117_hemi_rdpreproc_noconfounds/hemi/modelfit/datasink/results_dir/_modelestimate0/results/cope3.nii.gz /Users/smerdis/data/LGN/BIDS/AV_20111117_fromRD/derivatives/nipype_AV_20111117_hemi_rdpreproc_noconfounds/hemi/modelfit/datasink/results_dir/_modelestimate1/results/cope3.nii.gz /Users/smerdis/data/LGN/BIDS/AV_20111117_fromRD/derivatives/nipype_AV_20111117_hemi_rdpreproc_noconfounds/hemi/modelfit/datasink/stats_dir/_flameo2/stats/cope1.nii.gz'"
      ]
     },
     "execution_count": 57,
     "metadata": {},
     "output_type": "execute_result"
    }
   ],
   "source": [
    "utils.view_results(datasink_dir, [contrast], anat_file, bold_file)"
   ]
  },
  {
   "cell_type": "code",
   "execution_count": 64,
   "metadata": {
    "ExecuteTime": {
     "end_time": "2019-12-06T20:11:52.220246Z",
     "start_time": "2019-12-06T20:11:52.160455Z"
    },
    "hidden": true
   },
   "outputs": [
    {
     "name": "stdout",
     "output_type": "stream",
     "text": [
      "fsleyes /Users/smerdis/data/LGN/BIDS/AV_20111117_fromRD/derivatives/RD_preproc/sub-AV/ses-20111117/anat/sub-AV_desc-preproc_T1w.nii.gz /Users/smerdis/data/LGN/BIDS/AV_20111117_fromRD/derivatives/RD_preproc/sub-AV/ses-20111117/func/sub-AV_ses-20111117_task-hemi_run-01_desc-preproc_bold.nii.gz  /Users/smerdis/data/LGN/BIDS/AV_20111117_fromRD/derivatives/nipype_AV_20111117_hemi_rdpreproc_noconfounds/hemi/modelfit/datasink/results_dir/_modelestimate0/results/cope3.nii.gz /Users/smerdis/data/LGN/BIDS/AV_20111117_fromRD/derivatives/nipype_AV_20111117_hemi_rdpreproc_noconfounds/hemi/modelfit/datasink/results_dir/_modelestimate1/results/cope3.nii.gz /Users/smerdis/data/LGN/BIDS/AV_20111117_fromRD/derivatives/nipype_AV_20111117_hemi_rdpreproc_noconfounds/hemi/modelfit/datasink/stats_dir/_flameo2/stats/cope1.nii.gz /Users/smerdis/data/LGN/BIDS/AV_20111117_fromRD/derivatives/nitime/sub-AV_ses-20111117_task-hemi_run-02_desc-coherence_map.nii\n"
     ]
    }
   ],
   "source": [
    "print(f\"{utils.view_results(datasink_dir, [3], anat_file, bold_file)} {coh_fn}\") # R-L"
   ]
  },
  {
   "cell_type": "markdown",
   "metadata": {
    "heading_collapsed": true
   },
   "source": [
    "### View these files using nilearn tools"
   ]
  },
  {
   "cell_type": "markdown",
   "metadata": {
    "hidden": true
   },
   "source": [
    "#### First establish some coordinates to view at"
   ]
  },
  {
   "cell_type": "code",
   "execution_count": 99,
   "metadata": {
    "ExecuteTime": {
     "end_time": "2019-11-26T23:14:38.772707Z",
     "start_time": "2019-11-26T23:14:38.706923Z"
    },
    "hidden": true
   },
   "outputs": [],
   "source": [
    "# cut in x-direction\n",
    "sagittal = 43\n",
    "# cut in y-direction\n",
    "coronal = 27\n",
    "# cut in z-direction\n",
    "axial = -2\n",
    "\n",
    "# coordinates displaying should be prepared as a list\n",
    "cut_coords = [sagittal, coronal, axial]"
   ]
  },
  {
   "cell_type": "markdown",
   "metadata": {
    "hidden": true
   },
   "source": [
    "#### Now begin plotting"
   ]
  },
  {
   "cell_type": "code",
   "execution_count": 100,
   "metadata": {
    "ExecuteTime": {
     "end_time": "2019-11-26T23:14:42.944398Z",
     "start_time": "2019-11-26T23:14:40.221562Z"
    },
    "hidden": true
   },
   "outputs": [
    {
     "data": {
      "text/plain": [
       "<nilearn.plotting.displays.OrthoSlicer at 0x11c786160>"
      ]
     },
     "execution_count": 100,
     "metadata": {},
     "output_type": "execute_result"
    },
    {
     "data": {
      "image/png": "[encoded data removed]",
      "text/plain": [
       "<Figure size 475.2x187.2 with 4 Axes>"
      ]
     },
     "metadata": {},
     "output_type": "display_data"
    }
   ],
   "source": [
    "mean_bold = mean_img(bold_file)\n",
    "plot_epi(mean_bold, title=f\"Mean of BOLD run {run} of task {task}\", cut_coords=cut_coords)"
   ]
  },
  {
   "cell_type": "code",
   "execution_count": 101,
   "metadata": {
    "ExecuteTime": {
     "end_time": "2019-11-26T23:14:44.608269Z",
     "start_time": "2019-11-26T23:14:42.948752Z"
    },
    "hidden": true
   },
   "outputs": [
    {
     "data": {
      "text/plain": [
       "<nilearn.plotting.displays.OrthoSlicer at 0x1c27cf9940>"
      ]
     },
     "execution_count": 101,
     "metadata": {},
     "output_type": "execute_result"
    },
    {
     "data": {
      "image/png": "[encoded data removed]",
      "text/plain": [
       "<Figure size 475.2x187.2 with 4 Axes>"
      ]
     },
     "metadata": {},
     "output_type": "display_data"
    }
   ],
   "source": [
    "plot_roi(mask_file, mean_bold, title=f\"Brainmask of BOLD run {run} of task {task}\")"
   ]
  },
  {
   "cell_type": "code",
   "execution_count": 102,
   "metadata": {
    "ExecuteTime": {
     "end_time": "2019-11-26T23:14:47.996340Z",
     "start_time": "2019-11-26T23:14:44.611483Z"
    },
    "hidden": true
   },
   "outputs": [
    {
     "data": {
      "image/png": "[encoded data removed]",
      "text/plain": [
       "<Figure size 525.6x187.2 with 5 Axes>"
      ]
     },
     "metadata": {},
     "output_type": "display_data"
    },
    {
     "data": {
      "image/png": "[encoded data removed]",
      "text/plain": [
       "<Figure size 525.6x187.2 with 5 Axes>"
      ]
     },
     "metadata": {},
     "output_type": "display_data"
    }
   ],
   "source": [
    "for l1cope in l1copes:\n",
    "    plot_stat_map(l1cope, mean_bold,\n",
    "        title=f\"Level 1 COPE for contrast {contrast} of task {task}\",\n",
    "        threshold=10, cut_coords=cut_coords, colorbar=True)"
   ]
  },
  {
   "cell_type": "code",
   "execution_count": 103,
   "metadata": {
    "ExecuteTime": {
     "end_time": "2019-11-26T23:14:49.641718Z",
     "start_time": "2019-11-26T23:14:47.999931Z"
    },
    "hidden": true
   },
   "outputs": [
    {
     "data": {
      "text/plain": [
       "<nilearn.plotting.displays.OrthoSlicer at 0x11c6bb048>"
      ]
     },
     "execution_count": 103,
     "metadata": {},
     "output_type": "execute_result"
    },
    {
     "data": {
      "image/png": "[encoded data removed]",
      "text/plain": [
       "<Figure size 525.6x187.2 with 5 Axes>"
      ]
     },
     "metadata": {},
     "output_type": "display_data"
    }
   ],
   "source": [
    "plot_stat_map(l2copes[0], mean_bold,\n",
    "    title=f\"Level 2 COPE for contrast {contrast} of task {task}\",\n",
    "    threshold=10, cut_coords=[2, -5, -2])"
   ]
  },
  {
   "cell_type": "markdown",
   "metadata": {
    "heading_collapsed": true
   },
   "source": [
    "### LGN region drawing/manipulation!"
   ]
  },
  {
   "cell_type": "code",
   "execution_count": 31,
   "metadata": {
    "ExecuteTime": {
     "end_time": "2019-08-29T14:40:18.270334Z",
     "start_time": "2019-08-29T14:40:18.190413Z"
    },
    "hidden": true
   },
   "outputs": [],
   "source": [
    "manual_roi = f\"{out_dir}/sub-NB_R-LGN_mask_manual.nii.gz\""
   ]
  },
  {
   "cell_type": "code",
   "execution_count": 32,
   "metadata": {
    "ExecuteTime": {
     "end_time": "2019-08-29T14:40:19.168446Z",
     "start_time": "2019-08-29T14:40:18.275027Z"
    },
    "hidden": true
   },
   "outputs": [
    {
     "data": {
      "text/plain": [
       "<nilearn.plotting.displays.OrthoSlicer at 0x1c274686a0>"
      ]
     },
     "execution_count": 32,
     "metadata": {},
     "output_type": "execute_result"
    },
    {
     "data": {
      "image/png": "[encoded data removed]",
      "text/plain": [
       "<Figure size 475.2x187.2 with 4 Axes>"
      ]
     },
     "metadata": {},
     "output_type": "display_data"
    }
   ],
   "source": [
    "plot_roi(manual_roi, mean_bold, title=f\"Manual LGN mask\")"
   ]
  },
  {
   "cell_type": "code",
   "execution_count": 33,
   "metadata": {
    "ExecuteTime": {
     "end_time": "2019-08-29T14:40:19.294153Z",
     "start_time": "2019-08-29T14:40:19.171365Z"
    },
    "hidden": true
   },
   "outputs": [
    {
     "data": {
      "text/plain": [
       "(84, 102, 82)"
      ]
     },
     "execution_count": 33,
     "metadata": {},
     "output_type": "execute_result"
    }
   ],
   "source": [
    "r_lgn_mask_manual = load_img(manual_roi).get_data().astype(bool)\n",
    "r_lgn_mask_manual.shape"
   ]
  },
  {
   "cell_type": "markdown",
   "metadata": {
    "collapsed": true
   },
   "source": [
    "## Coherence analysis to identify LGN voxels responding at flicker frequency"
   ]
  },
  {
   "cell_type": "markdown",
   "metadata": {
    "heading_collapsed": true
   },
   "source": [
    "### raw nibabel"
   ]
  },
  {
   "cell_type": "code",
   "execution_count": null,
   "metadata": {
    "hidden": true
   },
   "outputs": [],
   "source": [
    "img = nib.load(bold_file)"
   ]
  },
  {
   "cell_type": "code",
   "execution_count": null,
   "metadata": {
    "hidden": true
   },
   "outputs": [],
   "source": [
    "print(img.header)"
   ]
  },
  {
   "cell_type": "code",
   "execution_count": null,
   "metadata": {
    "hidden": true
   },
   "outputs": [],
   "source": [
    "img_data = img.get_fdata()"
   ]
  },
  {
   "cell_type": "code",
   "execution_count": null,
   "metadata": {
    "hidden": true
   },
   "outputs": [],
   "source": [
    "plt.imshow(img_data[26, :, :, 44].T, cmap=\"gray\", origin=\"lower\")"
   ]
  },
  {
   "cell_type": "code",
   "execution_count": null,
   "metadata": {
    "hidden": true
   },
   "outputs": [],
   "source": [
    "nvox = img.shape[0] * img.shape[1] * img.shape[2]"
   ]
  },
  {
   "cell_type": "code",
   "execution_count": null,
   "metadata": {
    "hidden": true
   },
   "outputs": [],
   "source": [
    "n_timepoints = img.shape[-1]"
   ]
  },
  {
   "cell_type": "code",
   "execution_count": null,
   "metadata": {
    "hidden": true
   },
   "outputs": [],
   "source": [
    "print(nvox, n_timepoints)"
   ]
  },
  {
   "cell_type": "code",
   "execution_count": null,
   "metadata": {
    "hidden": true
   },
   "outputs": [],
   "source": [
    "img_flat = np.reshape(img_data, (nvox, -1))"
   ]
  },
  {
   "cell_type": "code",
   "execution_count": null,
   "metadata": {
    "hidden": true
   },
   "outputs": [],
   "source": [
    "img_flat[:10, 0]"
   ]
  },
  {
   "cell_type": "code",
   "execution_count": null,
   "metadata": {
    "hidden": true
   },
   "outputs": [],
   "source": [
    "#TR = 2.25 # seconds\n",
    "freq = 4 # Hz\n",
    "total_len = img.shape[-1]*TR # seconds\n",
    "fig, ax = plt.subplots(1)\n",
    "t = np.arange(0.0, total_len, 0.05)\n",
    "sinusoid = np.sin(freq*2*np.pi*t)\n",
    "print(sinusoid.shape)\n",
    "\n",
    "ax.set_xlim(0, 8)\n",
    "ax.plot(t, sinusoid)"
   ]
  },
  {
   "cell_type": "code",
   "execution_count": null,
   "metadata": {
    "hidden": true
   },
   "outputs": [],
   "source": [
    "2.25*139"
   ]
  },
  {
   "cell_type": "markdown",
   "metadata": {},
   "source": [
    "### Begin coherence analysis in nitime"
   ]
  },
  {
   "cell_type": "code",
   "execution_count": 12,
   "metadata": {
    "ExecuteTime": {
     "end_time": "2019-12-06T21:31:07.046765Z",
     "start_time": "2019-12-06T21:31:06.986286Z"
    }
   },
   "outputs": [],
   "source": [
    "#run = 2\n",
    "TR = 2.25\n",
    "#bold_file = f\"/Users/smerdis/data/LGN/BIDS/AV_20111117_fromRD/derivatives/RD_preproc/sub-AV/ses-20111117/func/sub-AV_ses-20111117_task-hemi_run-{run:02d}_desc-preproc_bold.nii.gz\""
   ]
  },
  {
   "cell_type": "code",
   "execution_count": 13,
   "metadata": {
    "ExecuteTime": {
     "end_time": "2019-12-06T21:31:11.501840Z",
     "start_time": "2019-12-06T21:31:11.248797Z"
    }
   },
   "outputs": [
    {
     "name": "stdout",
     "output_type": "stream",
     "text": [
      "0.037037037037037035\n",
      "[  0.     2.25   4.5    6.75   9.    11.25  13.5   15.75  18.    20.25\n",
      "  22.5   24.75  27.    29.25  31.5   33.75  36.    38.25  40.5   42.75\n",
      "  45.    47.25  49.5   51.75  54.    56.25  58.5   60.75  63.    65.25\n",
      "  67.5   69.75  72.    74.25  76.5   78.75  81.    83.25  85.5   87.75\n",
      "  90.    92.25  94.5   96.75  99.   101.25 103.5  105.75 108.   110.25\n",
      " 112.5  114.75 117.   119.25 121.5  123.75 126.   128.25 130.5  132.75\n",
      " 135.   137.25 139.5  141.75 144.   146.25 148.5  150.75 153.   155.25\n",
      " 157.5  159.75 162.   164.25 166.5  168.75 171.   173.25 175.5  177.75\n",
      " 180.   182.25 184.5  186.75 189.   191.25 193.5  195.75 198.   200.25\n",
      " 202.5  204.75 207.   209.25 211.5  213.75 216.   218.25 220.5  222.75\n",
      " 225.   227.25 229.5  231.75 234.   236.25 238.5  240.75 243.   245.25\n",
      " 247.5  249.75 252.   254.25 256.5  258.75 261.   263.25 265.5  267.75\n",
      " 270.   272.25 274.5  276.75 279.   281.25 283.5  285.75 288.   290.25\n",
      " 292.5  294.75 297.   299.25 301.5  303.75 306.   308.25 310.5 ] (139,)\n"
     ]
    },
    {
     "data": {
      "text/plain": [
       "[<matplotlib.lines.Line2D at 0x1c214442e8>]"
      ]
     },
     "execution_count": 13,
     "metadata": {},
     "output_type": "execute_result"
    },
    {
     "data": {
      "image/png": "[encoded data removed]",
      "text/plain": [
       "<Figure size 432x288 with 1 Axes>"
      ]
     },
     "metadata": {
      "needs_background": "light"
     },
     "output_type": "display_data"
    }
   ],
   "source": [
    "cycle_duration = 27 # (should be 27s)\n",
    "hemi_freq = (1.0/cycle_duration) # of hemifield alternation, in hertz\n",
    "n_trs_func = 139 # Length, in TRs, on a functional scan\n",
    "total_len = n_trs_func*TR # seconds\n",
    "\n",
    "trs_exc_beg = 6\n",
    "trs_exc_end = 1\n",
    "\n",
    "f_lb = 0.02\n",
    "f_ub = 0.15\n",
    "\n",
    "print(hemi_freq)\n",
    "\n",
    "t = np.arange(0.0, total_len, TR)\n",
    "t_trim = np.arange((trs_exc_beg-1)*TR, (total_len - trs_exc_beg - trs_exc_end)+1, TR)\n",
    "hemifield_alternation_sinusoid = np.sin(hemi_freq*2*np.pi*t)\n",
    "hemi_alt_trim = hemifield_alternation_sinusoid[trs_exc_beg:(-1*trs_exc_end)]\n",
    "print(t, hemifield_alternation_sinusoid.shape)\n",
    "\n",
    "fig, ax = plt.subplots(1)\n",
    "ax.set_xlim(0, 50)\n",
    "ax.plot(t, hemifield_alternation_sinusoid)\n",
    "ax.plot(t_trim, hemi_alt_trim)"
   ]
  },
  {
   "cell_type": "code",
   "execution_count": 14,
   "metadata": {
    "ExecuteTime": {
     "end_time": "2019-12-06T21:31:15.976052Z",
     "start_time": "2019-12-06T21:31:15.917417Z"
    }
   },
   "outputs": [],
   "source": [
    "hemi_ts = ts.TimeSeries(data=hemifield_alternation_sinusoid,\n",
    "                         sampling_interval=TR)\n",
    "hemi_ts_trim = ts.TimeSeries(data=hemi_alt_trim,\n",
    "                         sampling_interval=TR)"
   ]
  },
  {
   "cell_type": "code",
   "execution_count": 15,
   "metadata": {
    "ExecuteTime": {
     "end_time": "2019-12-06T21:31:16.376196Z",
     "start_time": "2019-12-06T21:31:16.314305Z"
    }
   },
   "outputs": [
    {
     "data": {
      "text/plain": [
       "((139,), (132,))"
      ]
     },
     "execution_count": 15,
     "metadata": {},
     "output_type": "execute_result"
    }
   ],
   "source": [
    "hemi_ts.shape, hemi_ts_trim.shape"
   ]
  },
  {
   "cell_type": "markdown",
   "metadata": {},
   "source": [
    "#### Using NiftiMasker"
   ]
  },
  {
   "cell_type": "code",
   "execution_count": 16,
   "metadata": {
    "ExecuteTime": {
     "end_time": "2019-12-06T21:31:44.187945Z",
     "start_time": "2019-12-06T21:31:29.594102Z"
    }
   },
   "outputs": [
    {
     "name": "stdout",
     "output_type": "stream",
     "text": [
      "[NiftiMasker.fit] Loading data from None\n",
      "[NiftiMasker.fit] Resampling mask\n",
      "[NiftiMasker.transform_single_imgs] Loading data from Nifti1Image('/Users/smerdis/data/LGN/BIDS/AV_20111117_fromRD/derivatives/RD_preproc/sub-AV/ses-20111117/func/sub-AV_ses-20111117_task-hemi_run-02_desc-preproc_bold.nii.gz')\n",
      "[NiftiMasker.transform_single_imgs] Extracting region signals\n",
      "[NiftiMasker.transform_single_imgs] Cleaning extracted signals\n"
     ]
    }
   ],
   "source": [
    "#masker = NiftiMasker(mask_img=mask_file, standardize=False, mask_strategy=\"epi\")\n",
    "masker = NiftiMasker(mask_img=mask_file, standardize=False, mask_strategy=\"epi\", detrend='mean',\n",
    "                     low_pass=f_ub, high_pass=f_lb, t_r=TR, verbose=3)\n",
    "masked_bold_nm = masker.fit_transform(bold_file)"
   ]
  },
  {
   "cell_type": "code",
   "execution_count": 17,
   "metadata": {
    "ExecuteTime": {
     "end_time": "2019-12-06T21:32:21.595256Z",
     "start_time": "2019-12-06T21:32:21.529342Z"
    }
   },
   "outputs": [
    {
     "data": {
      "text/plain": [
       "(139, 117635)"
      ]
     },
     "execution_count": 17,
     "metadata": {},
     "output_type": "execute_result"
    }
   ],
   "source": [
    "masked_bold_nm.shape"
   ]
  },
  {
   "cell_type": "code",
   "execution_count": 18,
   "metadata": {
    "ExecuteTime": {
     "end_time": "2019-12-06T21:32:22.686670Z",
     "start_time": "2019-12-06T21:32:22.628655Z"
    }
   },
   "outputs": [
    {
     "data": {
      "text/plain": [
       "(132, 117635)"
      ]
     },
     "execution_count": 18,
     "metadata": {},
     "output_type": "execute_result"
    }
   ],
   "source": [
    "trim_bold_nm = masked_bold_nm[trs_exc_beg:(-1*trs_exc_end),:]\n",
    "trim_bold_nm.shape"
   ]
  },
  {
   "cell_type": "code",
   "execution_count": 19,
   "metadata": {
    "ExecuteTime": {
     "end_time": "2019-12-06T21:32:25.950083Z",
     "start_time": "2019-12-06T21:32:25.891540Z"
    }
   },
   "outputs": [
    {
     "data": {
      "text/plain": [
       "array([[-12.291897  ,  -7.252282  ,  -2.408518  , ...,  -3.8619752 ,\n",
       "          0.9061406 ,  -2.753961  ],\n",
       "       [-20.27465   , -17.275951  ,  -8.43119   , ...,   1.8394167 ,\n",
       "         -7.4014916 , -13.734376  ],\n",
       "       [ -2.3305423 ,  -1.9527972 ,  -9.262912  , ...,   6.9776907 ,\n",
       "        -10.410575  ,  -7.4877114 ],\n",
       "       ...,\n",
       "       [  0.07672162,   7.588031  ,  -0.076931  , ...,   5.445324  ,\n",
       "        -10.105915  ,   1.7094467 ],\n",
       "       [ -5.5874233 ,   2.4686027 ,  -0.75264513, ...,   6.1878815 ,\n",
       "        -18.929157  ,   3.7713819 ],\n",
       "       [ -7.097235  ,  -3.020071  ,  -3.369966  , ...,   3.6446338 ,\n",
       "        -19.385977  ,  -2.129652  ]], dtype=float32)"
      ]
     },
     "execution_count": 19,
     "metadata": {},
     "output_type": "execute_result"
    }
   ],
   "source": [
    "trim_bold_nm[:, :10]"
   ]
  },
  {
   "cell_type": "code",
   "execution_count": 20,
   "metadata": {
    "ExecuteTime": {
     "end_time": "2019-12-06T21:32:34.898224Z",
     "start_time": "2019-12-06T21:32:34.825693Z"
    }
   },
   "outputs": [
    {
     "data": {
      "text/plain": [
       "-0.136867"
      ]
     },
     "execution_count": 20,
     "metadata": {},
     "output_type": "execute_result"
    }
   ],
   "source": [
    "voxel_means = np.mean(trim_bold_nm, axis=0)\n",
    "voxel_means[32]"
   ]
  },
  {
   "cell_type": "code",
   "execution_count": 21,
   "metadata": {
    "ExecuteTime": {
     "end_time": "2019-12-06T21:32:38.062532Z",
     "start_time": "2019-12-06T21:32:38.004513Z"
    }
   },
   "outputs": [
    {
     "data": {
      "text/plain": [
       "array([-0.22154498, -0.08300295, -0.28164604, ..., -0.05251158,\n",
       "        0.1098647 ,  0.0831864 ], dtype=float32)"
      ]
     },
     "execution_count": 21,
     "metadata": {},
     "output_type": "execute_result"
    }
   ],
   "source": [
    "voxel_means"
   ]
  },
  {
   "cell_type": "code",
   "execution_count": 22,
   "metadata": {
    "ExecuteTime": {
     "end_time": "2019-12-06T21:32:39.924832Z",
     "start_time": "2019-12-06T21:32:39.836196Z"
    }
   },
   "outputs": [],
   "source": [
    "demean = trim_bold_nm/voxel_means"
   ]
  },
  {
   "cell_type": "markdown",
   "metadata": {
    "heading_collapsed": true
   },
   "source": [
    "### figure out how to mask the whole bold timeseries with an roi\n",
    "\n",
    " * write a function to mask an ndarray of bold data wwith a binary ROI mask\n",
    "   * fsl ApplyMask() through nipype etc?\n",
    "     * just write it in the notebook at first\n",
    "     * but eventually this should run on nipype so it can be deployed on the server\n",
    " * apply this to each specified run and return the timeseries\n",
    " * do the coherence graphs and calculate coherence for all the voxels"
   ]
  },
  {
   "cell_type": "code",
   "execution_count": 78,
   "metadata": {
    "ExecuteTime": {
     "end_time": "2019-12-05T22:44:37.303965Z",
     "start_time": "2019-12-05T22:44:36.630196Z"
    },
    "hidden": true
   },
   "outputs": [],
   "source": [
    "import nipype.interfaces.fsl as fsl"
   ]
  },
  {
   "cell_type": "code",
   "execution_count": 79,
   "metadata": {
    "ExecuteTime": {
     "end_time": "2019-12-05T22:44:37.406244Z",
     "start_time": "2019-12-05T22:44:37.311939Z"
    },
    "hidden": true
   },
   "outputs": [
    {
     "name": "stdout",
     "output_type": "stream",
     "text": [
      "python mask_lgn.py /Users/smerdis/data/LGN/BIDS/NB_combined/sub-NB /Users/smerdis/data/LGN/BIDS/NB_combined/derivatives NB 20190205 hemi T1w \"[1]\"\n"
     ]
    }
   ],
   "source": [
    "print(f\"python mask_lgn.py \\\n",
    "/Users/smerdis/data/LGN/BIDS/NB_combined/sub-NB \\\n",
    "/Users/smerdis/data/LGN/BIDS/NB_combined/derivatives \\\n",
    "NB 20190205 hemi T1w \\\"[1]\\\"\")"
   ]
  },
  {
   "cell_type": "code",
   "execution_count": null,
   "metadata": {
    "hidden": true
   },
   "outputs": [],
   "source": [
    "masked_bold = f\"/Users/smerdis/data/LGN/BIDS/NB_combined/derivatives/nipype_NB_20190205_hemi/\\\n",
    "masking/masker/datasink/epi_masked/_applymask0/\\\n",
    "sub-NB_ses-20190205_task-hemi_acq-sbiso_run-01_bold_space-T1w_preproc_masked.nii.gz\""
   ]
  },
  {
   "cell_type": "code",
   "execution_count": null,
   "metadata": {
    "hidden": true
   },
   "outputs": [],
   "source": [
    "print(masked_bold)"
   ]
  },
  {
   "cell_type": "markdown",
   "metadata": {},
   "source": [
    "### begin coherence stuff"
   ]
  },
  {
   "cell_type": "markdown",
   "metadata": {
    "heading_collapsed": true
   },
   "source": [
    "#### dummy stuff to see how coherence works"
   ]
  },
  {
   "cell_type": "code",
   "execution_count": null,
   "metadata": {
    "hidden": true
   },
   "outputs": [],
   "source": [
    "timepad = np.pad(hemifield_alternation_sinusoid, (3,0), 'constant',\n",
    "                 constant_values=(0,0))[:hemifield_alternation_sinusoid.shape[0]]\n",
    "timepad2 = np.pad(hemifield_alternation_sinusoid, (6,0), 'constant',\n",
    "                 constant_values=(0,0))[:hemifield_alternation_sinusoid.shape[0]]\n",
    "timepad3 = np.pad(hemifield_alternation_sinusoid, (8,0), 'constant',\n",
    "                 constant_values=(0,0))[:hemifield_alternation_sinusoid.shape[0]]"
   ]
  },
  {
   "cell_type": "code",
   "execution_count": null,
   "metadata": {
    "hidden": true
   },
   "outputs": [],
   "source": [
    "fig, ax = plt.subplots(1)\n",
    "ax.set_xlim(0, 50)\n",
    "ax.plot(t, hemifield_alternation_sinusoid)\n",
    "ax.plot(t, timepad)\n",
    "ax.plot(t, timepad2)\n",
    "ax.plot(t, timepad3)"
   ]
  },
  {
   "cell_type": "markdown",
   "metadata": {},
   "source": [
    "#### analyze the real fmri data"
   ]
  },
  {
   "cell_type": "code",
   "execution_count": 23,
   "metadata": {
    "ExecuteTime": {
     "end_time": "2019-12-06T21:32:45.681146Z",
     "start_time": "2019-12-06T21:32:45.625818Z"
    }
   },
   "outputs": [],
   "source": [
    "masked_ts_flat = trim_bold_nm.T # want nvox, n_tp so transpose NiftiMasker result\n",
    "demean_ts_flat = demean.T"
   ]
  },
  {
   "cell_type": "code",
   "execution_count": 24,
   "metadata": {
    "ExecuteTime": {
     "end_time": "2019-12-06T21:32:47.429958Z",
     "start_time": "2019-12-06T21:32:47.214603Z"
    }
   },
   "outputs": [
    {
     "name": "stdout",
     "output_type": "stream",
     "text": [
      "[ 11.25  13.5   15.75  18.    20.25  22.5   24.75  27.    29.25  31.5\n",
      "  33.75  36.    38.25  40.5   42.75  45.    47.25  49.5   51.75  54.\n",
      "  56.25  58.5   60.75  63.    65.25  67.5   69.75  72.    74.25  76.5\n",
      "  78.75  81.    83.25  85.5   87.75  90.    92.25  94.5   96.75  99.\n",
      " 101.25 103.5  105.75 108.   110.25 112.5  114.75 117.   119.25 121.5\n",
      " 123.75 126.   128.25 130.5  132.75 135.   137.25 139.5  141.75 144.\n",
      " 146.25 148.5  150.75 153.   155.25 157.5  159.75 162.   164.25 166.5\n",
      " 168.75 171.   173.25 175.5  177.75 180.   182.25 184.5  186.75 189.\n",
      " 191.25 193.5  195.75 198.   200.25 202.5  204.75 207.   209.25 211.5\n",
      " 213.75 216.   218.25 220.5  222.75 225.   227.25 229.5  231.75 234.\n",
      " 236.25 238.5  240.75 243.   245.25 247.5  249.75 252.   254.25 256.5\n",
      " 258.75 261.   263.25 265.5  267.75 270.   272.25 274.5  276.75 279.\n",
      " 281.25 283.5  285.75 288.   290.25 292.5  294.75 297.   299.25 301.5\n",
      " 303.75 306.  ]\n"
     ]
    },
    {
     "data": {
      "text/plain": [
       "[<matplotlib.lines.Line2D at 0x1c21705f98>]"
      ]
     },
     "execution_count": 24,
     "metadata": {},
     "output_type": "execute_result"
    },
    {
     "data": {
      "image/png": "[encoded data removed]",
      "text/plain": [
       "<Figure size 432x288 with 1 Axes>"
      ]
     },
     "metadata": {
      "needs_background": "light"
     },
     "output_type": "display_data"
    }
   ],
   "source": [
    "t=t_trim\n",
    "print(t)\n",
    "fig, ax = plt.subplots(1)\n",
    "ax.set_xlim(0, 315)\n",
    "ax.plot(t, hemi_alt_trim)\n",
    "ax.plot(t, masked_ts_flat[32, :])\n",
    "ax.plot(t, demean_ts_flat[32, :])\n",
    "#ax.plot(t, masked_ts_flat[3222, :])\n",
    "#ax.plot(t, masked_ts_flat[11513, :])\n",
    "#ax.plot(t, masked_ts_flat[546434, :])"
   ]
  },
  {
   "cell_type": "markdown",
   "metadata": {
    "heading_collapsed": true
   },
   "source": [
    "#### Correlation and Coherence"
   ]
  },
  {
   "cell_type": "code",
   "execution_count": 65,
   "metadata": {
    "ExecuteTime": {
     "end_time": "2019-11-27T05:19:18.620553Z",
     "start_time": "2019-11-27T05:19:18.560742Z"
    },
    "hidden": true
   },
   "outputs": [],
   "source": [
    "full_stim = np.vstack((hemifield_alternation_sinusoid, masked_ts_flat[:1000,:]))"
   ]
  },
  {
   "cell_type": "code",
   "execution_count": 66,
   "metadata": {
    "ExecuteTime": {
     "end_time": "2019-11-27T05:19:20.806568Z",
     "start_time": "2019-11-27T05:19:20.742170Z"
    },
    "hidden": true
   },
   "outputs": [
    {
     "data": {
      "text/plain": [
       "(1001, 139)"
      ]
     },
     "execution_count": 66,
     "metadata": {},
     "output_type": "execute_result"
    }
   ],
   "source": [
    "full_stim.shape"
   ]
  },
  {
   "cell_type": "code",
   "execution_count": 67,
   "metadata": {
    "ExecuteTime": {
     "end_time": "2019-11-27T05:19:21.454614Z",
     "start_time": "2019-11-27T05:19:21.398367Z"
    },
    "hidden": true
   },
   "outputs": [],
   "source": [
    "test_ts = ts.TimeSeries(full_stim, sampling_interval=TR)"
   ]
  },
  {
   "cell_type": "code",
   "execution_count": 68,
   "metadata": {
    "ExecuteTime": {
     "end_time": "2019-11-27T05:19:22.548193Z",
     "start_time": "2019-11-27T05:19:22.123356Z"
    },
    "hidden": true
   },
   "outputs": [
    {
     "name": "stdout",
     "output_type": "stream",
     "text": [
      "[[ 1.00000000e+00  8.29684585e-02  7.55211906e-04 ...  1.18079183e-01\n",
      "   1.58933652e-01  1.39420560e-02]\n",
      " [ 8.29684585e-02  1.00000000e+00  1.09064749e-01 ... -6.18085188e-02\n",
      "   2.19062774e-02 -9.90514841e-02]\n",
      " [ 7.55211906e-04  1.09064749e-01  1.00000000e+00 ... -3.24374239e-02\n",
      "   1.39587294e-01 -1.61827793e-02]\n",
      " ...\n",
      " [ 1.18079183e-01 -6.18085188e-02 -3.24374239e-02 ...  1.00000000e+00\n",
      "   6.11915692e-01  2.73513879e-01]\n",
      " [ 1.58933652e-01  2.19062774e-02  1.39587294e-01 ...  6.11915692e-01\n",
      "   1.00000000e+00  2.87160514e-01]\n",
      " [ 1.39420560e-02 -9.90514841e-02 -1.61827793e-02 ...  2.73513879e-01\n",
      "   2.87160514e-01  1.00000000e+00]]\n"
     ]
    },
    {
     "data": {
      "image/png": "[encoded data removed]",
      "text/plain": [
       "<Figure size 432x288 with 2 Axes>"
      ]
     },
     "execution_count": 68,
     "metadata": {},
     "output_type": "execute_result"
    },
    {
     "data": {
      "image/png": "[encoded data removed]",
      "text/plain": [
       "<Figure size 432x288 with 2 Axes>"
      ]
     },
     "metadata": {
      "needs_background": "light"
     },
     "output_type": "display_data"
    }
   ],
   "source": [
    "cr1 = nta.CorrelationAnalyzer(test_ts)\n",
    "print(cr1.corrcoef)\n",
    "ntv.drawmatrix_channels(cr1.corrcoef, color_anchor=0)"
   ]
  },
  {
   "cell_type": "code",
   "execution_count": 69,
   "metadata": {
    "ExecuteTime": {
     "end_time": "2019-11-27T05:25:22.034899Z",
     "start_time": "2019-11-27T05:19:29.357764Z"
    },
    "hidden": true
   },
   "outputs": [
    {
     "data": {
      "text/plain": [
       "array([[1.        , 0.37779493, 0.32042683, ..., 0.38391423, 0.38991971,\n",
       "        0.41463472],\n",
       "       [0.37779493, 1.        , 0.23704471, ..., 0.24363067, 0.33610133,\n",
       "        0.34451442],\n",
       "       [0.32042683, 0.23704471, 1.        , ..., 0.35312785, 0.41603584,\n",
       "        0.38082879],\n",
       "       ...,\n",
       "       [0.38391423, 0.24363067, 0.35312785, ..., 1.        , 0.43222247,\n",
       "        0.33214463],\n",
       "       [0.38991971, 0.33610133, 0.41603584, ..., 0.43222247, 1.        ,\n",
       "        0.24316907],\n",
       "       [0.41463472, 0.34451442, 0.38082879, ..., 0.33214463, 0.24316907,\n",
       "        1.        ]])"
      ]
     },
     "execution_count": 69,
     "metadata": {},
     "output_type": "execute_result"
    }
   ],
   "source": [
    "ch1 = nta.CoherenceAnalyzer(test_ts)\n",
    "#physiologically relevant freq band\n",
    "freq_idx = np.where((ch1.frequencies > 0.02) * (ch1.frequencies < 0.15))[0]\n",
    "coh = np.mean(ch1.coherence[:,:,freq_idx], -1)\n",
    "coh"
   ]
  },
  {
   "cell_type": "code",
   "execution_count": 70,
   "metadata": {
    "ExecuteTime": {
     "end_time": "2019-11-27T05:25:22.328248Z",
     "start_time": "2019-11-27T05:25:22.037783Z"
    },
    "hidden": true
   },
   "outputs": [
    {
     "data": {
      "image/png": "[encoded data removed]",
      "text/plain": [
       "<Figure size 432x288 with 2 Axes>"
      ]
     },
     "metadata": {
      "needs_background": "light"
     },
     "output_type": "display_data"
    }
   ],
   "source": [
    "fig03 = ntv.drawmatrix_channels(coh)"
   ]
  },
  {
   "cell_type": "code",
   "execution_count": 71,
   "metadata": {
    "ExecuteTime": {
     "end_time": "2019-11-27T05:25:28.836014Z",
     "start_time": "2019-11-27T05:25:22.332715Z"
    },
    "hidden": true
   },
   "outputs": [
    {
     "data": {
      "text/plain": [
       "array([ 0.        , -3.04458014,  0.55163698, -1.62073307,  1.20172279,\n",
       "       -0.09583652, -0.70269503, -1.65437866,  0.96692921, -2.4791069 ,\n",
       "        0.86816817,  0.1629574 , -2.09225998,  2.02597435, -1.14352947,\n",
       "        0.75900993,  3.0932896 ,  1.43852122, -2.42888312, -1.19037202,\n",
       "        1.6443321 , -1.84944079,  1.36442218, -2.9199945 , -0.14467537,\n",
       "       -1.80231647,  2.41564131,  0.63751872, -1.82150506,  0.93343392,\n",
       "       -0.46201294, -3.00524765,  0.        ])"
      ]
     },
     "execution_count": 71,
     "metadata": {},
     "output_type": "execute_result"
    }
   ],
   "source": [
    "ch1.phase[0,1]"
   ]
  },
  {
   "cell_type": "markdown",
   "metadata": {},
   "source": [
    "#### SeedCoherenceAnalyzer"
   ]
  },
  {
   "cell_type": "code",
   "execution_count": 25,
   "metadata": {
    "ExecuteTime": {
     "end_time": "2019-12-06T21:33:06.110854Z",
     "start_time": "2019-12-06T21:33:06.042324Z"
    }
   },
   "outputs": [
    {
     "data": {
      "text/plain": [
       "2.25 s"
      ]
     },
     "execution_count": 25,
     "metadata": {},
     "output_type": "execute_result"
    }
   ],
   "source": [
    "hemi_ts.sampling_interval"
   ]
  },
  {
   "cell_type": "code",
   "execution_count": 26,
   "metadata": {
    "ExecuteTime": {
     "end_time": "2019-12-06T21:33:06.971930Z",
     "start_time": "2019-12-06T21:33:06.915815Z"
    }
   },
   "outputs": [],
   "source": [
    "bold_flat = ts.TimeSeries(masked_ts_flat[:, :], sampling_interval=TR)\n",
    "#bold_flat = ts.TimeSeries(demean_ts_flat[:, :], sampling_interval=TR)"
   ]
  },
  {
   "cell_type": "code",
   "execution_count": 27,
   "metadata": {
    "ExecuteTime": {
     "end_time": "2019-12-06T21:33:07.881518Z",
     "start_time": "2019-12-06T21:33:07.827044Z"
    }
   },
   "outputs": [],
   "source": [
    "n_seeds = 1"
   ]
  },
  {
   "cell_type": "code",
   "execution_count": 28,
   "metadata": {
    "ExecuteTime": {
     "end_time": "2019-12-06T21:33:24.800767Z",
     "start_time": "2019-12-06T21:33:14.657921Z"
    }
   },
   "outputs": [
    {
     "name": "stdout",
     "output_type": "stream",
     "text": [
      "[0.         0.00694444 0.01388889 0.02083333 0.02777778 0.03472222\n",
      " 0.04166667 0.04861111 0.05555556 0.0625     0.06944444 0.07638889\n",
      " 0.08333333 0.09027778 0.09722222 0.10416667 0.11111111 0.11805556\n",
      " 0.125      0.13194444 0.13888889 0.14583333 0.15277778 0.15972222\n",
      " 0.16666667 0.17361111 0.18055556 0.1875     0.19444444 0.20138889\n",
      " 0.20833333 0.21527778 0.22222222]\n",
      "[0.02083333 0.02777778 0.03472222 0.04166667 0.04861111 0.05555556\n",
      " 0.0625     0.06944444 0.07638889 0.08333333 0.09027778 0.09722222\n",
      " 0.10416667 0.11111111 0.11805556 0.125      0.13194444 0.13888889\n",
      " 0.14583333]\n",
      "(117635, 33)\n",
      "[[2.05045122e-03 3.35679286e-04 4.93420005e-02 ... 2.87638960e-01\n",
      "  5.91812273e-01 8.64693037e-01]\n",
      " [5.09762140e-02 4.03768245e-02 1.14993257e-01 ... 3.85209730e-01\n",
      "  2.00717915e-01 5.52117943e-01]\n",
      " [7.07227336e-01 4.51536802e-01 5.00803357e-01 ... 3.96372113e-01\n",
      "  9.15447495e-03 1.58517820e-01]\n",
      " ...\n",
      " [6.56566285e-01 4.78757298e-01 1.73747205e-01 ... 1.66109877e-01\n",
      "  3.97128860e-02 5.20631410e-01]\n",
      " [5.54126902e-01 2.22879951e-01 3.56757559e-01 ... 9.78221291e-02\n",
      "  3.35847820e-01 5.96014438e-01]\n",
      " [8.91110293e-01 4.92863061e-01 4.24906109e-01 ... 3.93094204e-01\n",
      "  1.88992725e-01 1.26919462e-01]]\n",
      "[array([0.3466268 , 0.40504117, 0.33011376, ..., 0.35044627, 0.33980734,\n",
      "       0.36871157])]\n",
      "[0.10102530474556062]\n"
     ]
    }
   ],
   "source": [
    "A = nta.SeedCoherenceAnalyzer(hemi_ts_trim, bold_flat)\n",
    "B = nta.SeedCorrelationAnalyzer(hemi_ts_trim, bold_flat)\n",
    "freq_idx = np.where((A.frequencies > f_lb) * (A.frequencies < f_ub))[0]\n",
    "print(A.frequencies, A.frequencies[freq_idx], sep=\"\\n\")\n",
    "cor = []\n",
    "coh = []\n",
    "\n",
    "for this_seed in range(n_seeds):\n",
    "    #print(this_seed, A.coherence[this_seed], A.coherence[this_seed][freq_idx])\n",
    "    # Extract the coherence and average across these frequency bands:\n",
    "    print(A.coherence.shape, A.coherence[:, freq_idx], sep=\"\\n\")\n",
    "    coh.append(np.mean(A.coherence[:, freq_idx], -1))  # Averaging on the last dimension\n",
    "    cor.append(B.corrcoef[this_seed])  # No need to do any additional computation\n",
    "        \n",
    "print(coh, cor, sep=\"\\n\")"
   ]
  },
  {
   "cell_type": "code",
   "execution_count": 29,
   "metadata": {
    "ExecuteTime": {
     "end_time": "2019-12-06T21:34:54.993546Z",
     "start_time": "2019-12-06T21:34:54.861663Z"
    }
   },
   "outputs": [
    {
     "data": {
      "text/plain": [
       "117635"
      ]
     },
     "execution_count": 29,
     "metadata": {},
     "output_type": "execute_result"
    }
   ],
   "source": [
    "len(coh[0])"
   ]
  },
  {
   "cell_type": "code",
   "execution_count": 30,
   "metadata": {
    "ExecuteTime": {
     "end_time": "2019-12-06T21:34:55.962835Z",
     "start_time": "2019-12-06T21:34:55.897321Z"
    }
   },
   "outputs": [
    {
     "data": {
      "text/plain": [
       "117635"
      ]
     },
     "execution_count": 30,
     "metadata": {},
     "output_type": "execute_result"
    }
   ],
   "source": [
    "np.count_nonzero(coh[0])"
   ]
  },
  {
   "cell_type": "markdown",
   "metadata": {},
   "source": [
    "#### Write coherence values to Nifti file"
   ]
  },
  {
   "cell_type": "code",
   "execution_count": 31,
   "metadata": {
    "ExecuteTime": {
     "end_time": "2019-12-06T21:34:58.996865Z",
     "start_time": "2019-12-06T21:34:58.930159Z"
    }
   },
   "outputs": [],
   "source": [
    "coherence_img = masker.inverse_transform(coh[0])"
   ]
  },
  {
   "cell_type": "code",
   "execution_count": 32,
   "metadata": {
    "ExecuteTime": {
     "end_time": "2019-12-06T21:34:59.620039Z",
     "start_time": "2019-12-06T21:34:59.562347Z"
    }
   },
   "outputs": [
    {
     "data": {
      "text/plain": [
       "(128, 128, 21)"
      ]
     },
     "execution_count": 32,
     "metadata": {},
     "output_type": "execute_result"
    }
   ],
   "source": [
    "coherence_img.shape"
   ]
  },
  {
   "cell_type": "code",
   "execution_count": 33,
   "metadata": {
    "ExecuteTime": {
     "end_time": "2019-12-06T21:35:00.249167Z",
     "start_time": "2019-12-06T21:35:00.193305Z"
    }
   },
   "outputs": [
    {
     "name": "stdout",
     "output_type": "stream",
     "text": [
      "run-02\n"
     ]
    }
   ],
   "source": [
    "print(f\"run-{run:02d}\")"
   ]
  },
  {
   "cell_type": "code",
   "execution_count": 34,
   "metadata": {
    "ExecuteTime": {
     "end_time": "2019-12-06T21:35:15.087185Z",
     "start_time": "2019-12-06T21:35:15.027793Z"
    }
   },
   "outputs": [
    {
     "name": "stdout",
     "output_type": "stream",
     "text": [
      "/Users/smerdis/data/LGN/BIDS/AV_20111117_fromRD/derivatives/nitime/sub-AV_ses-20111117_task-hemi_run-02_desc-coherence-detrendmean_map.nii\n"
     ]
    }
   ],
   "source": [
    "coh_fn = f\"/Users/smerdis/data/LGN/BIDS/AV_20111117_fromRD/derivatives/nitime/sub-{sub}_ses-{ses}_task-hemi_run-{run:02d}_desc-coherence-detrendmean_map.nii\"\n",
    "#coh_fn = f\"/Users/smerdis/data/LGN/BIDS/AV_20111117_fromRD/derivatives/nitime/sub-{sub}_ses-{ses}_task-hemi_run-{run:02d}_desc-coherence-demean_map.nii\"\n",
    "print(coh_fn)"
   ]
  },
  {
   "cell_type": "code",
   "execution_count": 35,
   "metadata": {
    "ExecuteTime": {
     "end_time": "2019-12-06T21:35:15.577668Z",
     "start_time": "2019-12-06T21:35:15.516960Z"
    }
   },
   "outputs": [],
   "source": [
    "coherence_img.to_filename(coh_fn)"
   ]
  },
  {
   "cell_type": "code",
   "execution_count": 36,
   "metadata": {
    "ExecuteTime": {
     "end_time": "2019-12-06T21:35:18.034989Z",
     "start_time": "2019-12-06T21:35:17.839581Z"
    }
   },
   "outputs": [
    {
     "name": "stdout",
     "output_type": "stream",
     "text": [
      "/Users/smerdis/data/LGN/BIDS/AV_20111117_fromRD/derivatives/nitime/sub-AV_ses-20111117_task-hemi_run-02_desc-coherence-detrendmean_map.nii\r\n"
     ]
    }
   ],
   "source": [
    "!ls \"{coh_fn}\""
   ]
  },
  {
   "cell_type": "code",
   "execution_count": 148,
   "metadata": {
    "ExecuteTime": {
     "end_time": "2019-12-05T23:15:35.969577Z",
     "start_time": "2019-12-05T23:15:35.903604Z"
    }
   },
   "outputs": [],
   "source": [
    "cmd = f\"fsleyes /Users/smerdis/data/LGN/BIDS/AV_20111117/sub-AV/ses-20111117/anat/sub-AV_ses-20111117_run-01_T1w.nii.gz \\\n",
    "{bold_file} \\\n",
    "{coh_fn}\""
   ]
  },
  {
   "cell_type": "code",
   "execution_count": 80,
   "metadata": {
    "ExecuteTime": {
     "end_time": "2019-12-05T02:42:36.978954Z",
     "start_time": "2019-12-05T02:42:36.930866Z"
    }
   },
   "outputs": [
    {
     "name": "stdout",
     "output_type": "stream",
     "text": [
      "fsleyes /Users/smerdis/data/LGN/BIDS/AV_20111117/sub-AV/ses-20111117/anat/sub-AV_ses-20111117_run-01_T1w.nii.gz /Users/smerdis/data/LGN/BIDS/AV_20111117_fromRD/derivatives/RD_preproc/sub-AV/ses-20111117/func/sub-AV_ses-20111117_task-hemi_run-02_desc-preproc_bold.nii.gz /Users/smerdis/data/LGN/BIDS/AV_20111117_fromRD/derivatives/nitime/sub-AV_ses-20111117_task-hemi_run-02_desc-coherence_map.nii\n"
     ]
    }
   ],
   "source": [
    "print(cmd)"
   ]
  },
  {
   "cell_type": "code",
   "execution_count": 39,
   "metadata": {
    "ExecuteTime": {
     "end_time": "2019-12-03T20:12:02.293652Z",
     "start_time": "2019-12-03T20:12:02.211088Z"
    }
   },
   "outputs": [
    {
     "ename": "NameError",
     "evalue": "name 'datasink_dir' is not defined",
     "output_type": "error",
     "traceback": [
      "\u001b[0;31m---------------------------------------------------------------------------\u001b[0m",
      "\u001b[0;31mNameError\u001b[0m                                 Traceback (most recent call last)",
      "\u001b[0;32m<ipython-input-39-b2c2805603cc>\u001b[0m in \u001b[0;36m<module>\u001b[0;34m\u001b[0m\n\u001b[0;32m----> 1\u001b[0;31m \u001b[0mprint\u001b[0m\u001b[0;34m(\u001b[0m\u001b[0;34mf\"{utils.view_results(datasink_dir, [3], anat_file, bold_file)} {coh_fn}\"\u001b[0m\u001b[0;34m)\u001b[0m \u001b[0;31m# R-L\u001b[0m\u001b[0;34m\u001b[0m\u001b[0;34m\u001b[0m\u001b[0m\n\u001b[0m",
      "\u001b[0;31mNameError\u001b[0m: name 'datasink_dir' is not defined"
     ]
    }
   ],
   "source": [
    "print(f\"{utils.view_results(datasink_dir, [3], anat_file, bold_file)} {coh_fn}\") # R-L"
   ]
  },
  {
   "cell_type": "markdown",
   "metadata": {},
   "source": [
    "### include an mrvista roi"
   ]
  },
  {
   "cell_type": "code",
   "execution_count": 56,
   "metadata": {
    "ExecuteTime": {
     "end_time": "2019-11-28T00:51:53.664592Z",
     "start_time": "2019-11-28T00:51:53.601678Z"
    }
   },
   "outputs": [
    {
     "name": "stdout",
     "output_type": "stream",
     "text": [
      "fsleyes /Users/smerdis/data/LGN/BIDS/AV_20111117/derivatives/fmriprep-1.4.1/fmriprep/sub-AV/anat/sub-AV_desc-preproc_T1w.nii.gz /Users/smerdis/data/LGN/BIDS/AV_20111117/derivatives/fmriprep-1.4.1/fmriprep/sub-AV/ses-20111117/func/sub-AV_ses-20111117_task-hemi_run-02_space-T1w_desc-preproc_bold.nii.gz  /Users/smerdis/data/LGN/BIDS/AV_20111117/derivatives/nipype_AV_20111117_hemi_motionconfounds/hemi/modelfit/datasink/results_dir/_modelestimate0/results/cope3.nii.gz /Users/smerdis/data/LGN/BIDS/AV_20111117/derivatives/nipype_AV_20111117_hemi_motionconfounds/hemi/modelfit/datasink/results_dir/_modelestimate1/results/cope3.nii.gz /Users/smerdis/data/LGN/BIDS/AV_20111117/derivatives/nipype_AV_20111117_hemi_motionconfounds/hemi/modelfit/datasink/stats_dir/_flameo2/stats/cope1.nii.gz /Users/smerdis/data/LGN/BIDS/AV_20111117/derivatives/nipype_AV_20111117_hemi_motionconfounds/sub-AV_ses-20111117_task-hemi_desc-coherence_map.nii /Users/smerdis/data/LGN/BIDS/AV_20111117/derivatives/mrvista/sub-AV_ses-20111117_desc-lgnROI1prop20var000P_roi.nii.gz\n"
     ]
    }
   ],
   "source": [
    "mrv_roi_file = f\"/Users/smerdis/data/LGN/BIDS/AV_20111117/derivatives/mrvista/sub-AV_ses-20111117_desc-lgnROI1prop20var000P_roi.nii.gz\"\n",
    "print(f\"{utils.view_results(datasink_dir, [3], anat_file, bold_file)} {coh_fn} {mrv_roi_file}\") # R-L"
   ]
  },
  {
   "cell_type": "markdown",
   "metadata": {},
   "source": [
    "#### Some visualizations"
   ]
  },
  {
   "cell_type": "code",
   "execution_count": 95,
   "metadata": {
    "ExecuteTime": {
     "end_time": "2019-12-05T22:45:08.515773Z",
     "start_time": "2019-12-05T22:45:08.272932Z"
    }
   },
   "outputs": [
    {
     "data": {
      "text/plain": [
       "(array([  143.,  2428., 11545., 24158., 28190., 18974.,  7683.,  1937.,\n",
       "          308.,    33.]),\n",
       " array([0.0896128 , 0.14752925, 0.2054457 , 0.26336215, 0.32127861,\n",
       "        0.37919506, 0.43711151, 0.49502796, 0.55294441, 0.61086086,\n",
       "        0.66877731]),\n",
       " <a list of 10 Patch objects>)"
      ]
     },
     "execution_count": 95,
     "metadata": {},
     "output_type": "execute_result"
    },
    {
     "data": {
      "image/png": "[encoded data removed]",
      "text/plain": [
       "<Figure size 432x288 with 1 Axes>"
      ]
     },
     "metadata": {
      "needs_background": "light"
     },
     "output_type": "display_data"
    }
   ],
   "source": [
    "plt.hist(coh[0])"
   ]
  },
  {
   "cell_type": "code",
   "execution_count": 96,
   "metadata": {
    "ExecuteTime": {
     "end_time": "2019-12-05T22:45:13.782276Z",
     "start_time": "2019-12-05T22:45:13.600113Z"
    }
   },
   "outputs": [
    {
     "data": {
      "text/plain": [
       "{'whiskers': [<matplotlib.lines.Line2D at 0x10ad908d0>,\n",
       "  <matplotlib.lines.Line2D at 0x10ad90c88>],\n",
       " 'caps': [<matplotlib.lines.Line2D at 0x10ad90fd0>,\n",
       "  <matplotlib.lines.Line2D at 0x1c22ca8358>],\n",
       " 'boxes': [<matplotlib.lines.Line2D at 0x10ad90780>],\n",
       " 'medians': [<matplotlib.lines.Line2D at 0x1c22ca86a0>],\n",
       " 'fliers': [<matplotlib.lines.Line2D at 0x1c22ca89e8>],\n",
       " 'means': []}"
      ]
     },
     "execution_count": 96,
     "metadata": {},
     "output_type": "execute_result"
    },
    {
     "data": {
      "image/png": "[encoded data removed]",
      "text/plain": [
       "<Figure size 432x288 with 1 Axes>"
      ]
     },
     "metadata": {
      "needs_background": "light"
     },
     "output_type": "display_data"
    }
   ],
   "source": [
    "plt.boxplot(coh[0])"
   ]
  },
  {
   "cell_type": "code",
   "execution_count": 73,
   "metadata": {
    "ExecuteTime": {
     "end_time": "2019-12-05T22:41:24.310987Z",
     "start_time": "2019-12-05T22:41:24.258284Z"
    }
   },
   "outputs": [
    {
     "data": {
      "text/plain": [
       "0"
      ]
     },
     "execution_count": 73,
     "metadata": {},
     "output_type": "execute_result"
    }
   ],
   "source": [
    "np.count_nonzero(coh[0]==0)"
   ]
  },
  {
   "cell_type": "markdown",
   "metadata": {},
   "source": [
    "### Continue from here..."
   ]
  },
  {
   "cell_type": "code",
   "execution_count": 74,
   "metadata": {
    "ExecuteTime": {
     "end_time": "2019-12-05T22:41:27.783490Z",
     "start_time": "2019-12-05T22:41:27.733067Z"
    }
   },
   "outputs": [],
   "source": [
    "lgn_coh_low = 0.17\n",
    "lgn_coh_high = 0.19\n",
    "lgn_voxel_mask_coh = np.logical_and((coh[0] > lgn_coh_low), (coh[0] < lgn_coh_high))"
   ]
  },
  {
   "cell_type": "code",
   "execution_count": 75,
   "metadata": {
    "ExecuteTime": {
     "end_time": "2019-12-05T22:41:28.134654Z",
     "start_time": "2019-12-05T22:41:28.080048Z"
    }
   },
   "outputs": [
    {
     "data": {
      "text/plain": [
       "873"
      ]
     },
     "execution_count": 75,
     "metadata": {},
     "output_type": "execute_result"
    }
   ],
   "source": [
    "np.count_nonzero(lgn_voxel_mask_coh)"
   ]
  },
  {
   "cell_type": "markdown",
   "metadata": {},
   "source": [
    "## Assigning voxels within an ROI to M/P"
   ]
  },
  {
   "cell_type": "code",
   "execution_count": null,
   "metadata": {},
   "outputs": [],
   "source": [
    "copefile = '/Users/smerdis/data/LGN/BIDS/MS_LGN_fp107/nipype_MS_20150401_mp/hemifield/modelfit/datasink/stats_dir/_flameo2/stats/cope1.nii.gz'\n",
    "ROIfile = mROI"
   ]
  },
  {
   "cell_type": "code",
   "execution_count": null,
   "metadata": {},
   "outputs": [],
   "source": [
    "def assign_mp_command(cope, roimask, pct_thresh, roi_below, roi_above, out_dir=None):\n",
    "    if out_dir is None:\n",
    "        out_dir = os.path.dirname(roimask)\n",
    "    print(f\"python assign_mp.py {cope} {roimask} {pct_thresh} {roi_below} {roi_above} {out_dir}\")\n",
    "\n",
    "def assign_voxels(infile, rois, split_pct):\n",
    "    \"\"\"Assign voxels to an ROI based on the percentile of intensity they fall in.\n",
    "    \n",
    "    rois should be a list of length 2, split_pcts should be a list of length 1\n",
    "    \n",
    "    e.g. assign_voxels_percentile(infile, ['M', 'P'], 80)\"\"\"\n",
    "    from nipype.interfaces.fsl import ImageMaths\n",
    "    stats = ImageMaths()\n",
    "    stats.inputs.in_file = infile\n",
    "    stats.inputs.op_string = f\"-thr {split_pct} -bin {roi_above}\"\n",
    "    print(stats.cmdline)"
   ]
  },
  {
   "cell_type": "code",
   "execution_count": null,
   "metadata": {},
   "outputs": [],
   "source": [
    "assign_mp_command(copefile, ROIfile, 80, 'M', 'P')"
   ]
  },
  {
   "cell_type": "code",
   "execution_count": null,
   "metadata": {},
   "outputs": [],
   "source": [
    "masked_cope = '/Users/smerdis/data/LGN/BIDS/MS_LGN_fp107/nipype_MS_20150401_hemi/hemifield/modelfit/datasink/cope_masked.nii.gz'"
   ]
  },
  {
   "cell_type": "code",
   "execution_count": null,
   "metadata": {},
   "outputs": [],
   "source": [
    "assign_voxels_percentile(masked_cope, ['M', 'P'], 80)"
   ]
  }
 ],
 "metadata": {
  "kernelspec": {
   "display_name": "Python 3",
   "language": "python",
   "name": "python3"
  },
  "language_info": {
   "codemirror_mode": {
    "name": "ipython",
    "version": 3
   },
   "file_extension": ".py",
   "mimetype": "text/x-python",
   "name": "python",
   "nbconvert_exporter": "python",
   "pygments_lexer": "ipython3",
   "version": "3.6.8"
  },
  "varInspector": {
   "cols": {
    "lenName": 16,
    "lenType": 16,
    "lenVar": 40
   },
   "kernels_config": {
    "python": {
     "delete_cmd_postfix": "",
     "delete_cmd_prefix": "del ",
     "library": "var_list.py",
     "varRefreshCmd": "print(var_dic_list())"
    },
    "r": {
     "delete_cmd_postfix": ") ",
     "delete_cmd_prefix": "rm(",
     "library": "var_list.r",
     "varRefreshCmd": "cat(var_dic_list()) "
    }
   },
   "types_to_exclude": [
    "module",
    "function",
    "builtin_function_or_method",
    "instance",
    "_Feature"
   ],
   "window_display": false
  }
 },
 "nbformat": 4,
 "nbformat_minor": 2
}
