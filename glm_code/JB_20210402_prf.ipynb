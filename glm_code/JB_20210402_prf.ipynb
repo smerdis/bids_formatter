{
 "cells": [
  {
   "cell_type": "markdown",
   "metadata": {},
   "source": [
    "# PRFs for subject JB collected 20210402, analyzed using popeye"
   ]
  },
  {
   "cell_type": "markdown",
   "metadata": {},
   "source": [
    "# Setup"
   ]
  },
  {
   "cell_type": "code",
   "execution_count": null,
   "metadata": {},
   "outputs": [],
   "source": [
    "import os, pickle, glob\n",
    "from bids import BIDSLayout\n",
    "\n",
    "import numpy as np\n",
    "\n",
    "import matplotlib.pyplot as plt\n",
    "\n",
    "import nibabel as nib\n",
    "\n",
    "import nilearn\n",
    "from nilearn.input_data import NiftiMasker\n",
    "from nilearn.image import get_data, math_img, index_img, load_img\n",
    "\n",
    "import utils\n",
    "\n",
    "from PIL import Image\n",
    "import cv2 as cv"
   ]
  },
  {
   "cell_type": "code",
   "execution_count": null,
   "metadata": {},
   "outputs": [],
   "source": [
    "print(' numpy: ', np.__version__, '\\n',\n",
    "      'nibabel: ', nib.__version__, '\\n',\n",
    "      'nilearn: ', nilearn.__version__, '\\n')"
   ]
  },
  {
   "cell_type": "code",
   "execution_count": null,
   "metadata": {},
   "outputs": [],
   "source": [
    "sub = \"JB\"\n",
    "ses = \"20210402\"\n",
    "\n",
    "root_dir = \"/Users/smerdis/data/LGN/BIDS/JB_combined\"\n",
    "raw_data_dir = os.path.abspath(f\"{root_dir}/sub-{sub}/\")\n",
    "raw_layout = BIDSLayout(raw_data_dir, validate=False, derivatives=False)\n",
    "derivs_dir = os.path.abspath(f\"{root_dir}/derivatives/prf\")\n",
    "freesurfer_dir = os.path.abspath(f\"{root_dir}/derivatives/freesurfer\")\n",
    "\n",
    "out_dir = os.path.abspath(f\"{derivs_dir}/sub-{sub}\")\n",
    "preproc_layout = BIDSLayout(out_dir, validate=False)\n",
    "\n",
    "anat_file = sorted([f for f in raw_layout.get(subject=sub, session=ses, suffix='T1w',\n",
    "            extension=['nii.gz'], return_type='file')])[0]\n",
    "print(f\"anat file: {anat_file}\")\n",
    "raw_bolds_prf = sorted([f for f in raw_layout.get(subject=sub, session=ses, task='prf', suffix='bold',\n",
    "            extension=['nii.gz'], return_type='file')])\n",
    "mcf_bolds_prf = sorted([f for f in preproc_layout.get(subject=sub, session=ses, task='prf', suffix='bold',\n",
    "            extension=['nii.gz'], return_type='file') if 'mcflirt' in f])\n",
    "\n",
    "prf_mask_file = os.path.abspath(f\"{out_dir}/sub-{sub}_ses-{ses}_mask.nii.gz\")\n"
   ]
  },
  {
   "cell_type": "code",
   "execution_count": null,
   "metadata": {},
   "outputs": [],
   "source": [
    "!ls {out_dir}"
   ]
  },
  {
   "cell_type": "code",
   "execution_count": null,
   "metadata": {},
   "outputs": [],
   "source": [
    "prf_ref_vol_noext = f\"sub-{sub}_ses-{ses}_refvol\"\n",
    "prf_ref_vol_name = f\"{prf_ref_vol_noext}.nii.gz\"\n",
    "prf_ref_vol_path = f\"{out_dir}/{prf_ref_vol_name}\"\n",
    "print(prf_ref_vol_path)\n",
    "!ls {prf_ref_vol_path}"
   ]
  },
  {
   "cell_type": "markdown",
   "metadata": {},
   "source": [
    "# Preprocessing"
   ]
  },
  {
   "cell_type": "markdown",
   "metadata": {},
   "source": [
    "## Make reference volume from first dicom"
   ]
  },
  {
   "cell_type": "code",
   "execution_count": null,
   "metadata": {},
   "outputs": [],
   "source": [
    "first_dicom_prf = \"/Users/smerdis/Dropbox/data/LGN/SubJb_Prf_Arjun/flat_dicoms/IM-0005-0001.dcm\""
   ]
  },
  {
   "cell_type": "code",
   "execution_count": null,
   "metadata": {},
   "outputs": [],
   "source": [
    "dcm2niix_cmd = f\"dcm2niix -v 2 -s y -f {prf_ref_vol_noext} -z y -o {out_dir} {first_dicom_prf}\"\n",
    "print(dcm2niix_cmd)"
   ]
  },
  {
   "cell_type": "markdown",
   "metadata": {},
   "source": [
    "## Motion correct BOLD runs to this refvol"
   ]
  },
  {
   "cell_type": "code",
   "execution_count": null,
   "metadata": {},
   "outputs": [],
   "source": [
    "for this_epi in raw_bolds_prf:\n",
    "    epi_stub_mcf = utils.change_bids_description(this_epi, 'desc-mcflirt')\n",
    "    if not os.path.isdir(os.path.join(out_dir, f\"ses-{ses}\", \"func\")):\n",
    "        os.makedirs(os.path.join(out_dir, f\"ses-{ses}\", \"func\"))\n",
    "    full_outpath = os.path.join(out_dir, f\"ses-{ses}\", \"func\", epi_stub_mcf)\n",
    "    mcflirt_cmd = f\"mcflirt -reffile {prf_ref_vol_path} -mats -plots -report -cost mutualinfo -smooth 16 -in {this_epi} -o {full_outpath}\"\n",
    "    print(mcflirt_cmd)\n",
    "    #os.system(mcflirt_cmd)"
   ]
  },
  {
   "cell_type": "markdown",
   "metadata": {},
   "source": [
    "## Make brainmask from first run"
   ]
  },
  {
   "cell_type": "code",
   "execution_count": null,
   "metadata": {},
   "outputs": [],
   "source": [
    "!ls {prf_mask_file}"
   ]
  },
  {
   "cell_type": "code",
   "execution_count": null,
   "metadata": {},
   "outputs": [],
   "source": [
    "prf_masker = NiftiMasker(detrend=False, standardize=False, mask_strategy=\"epi\", t_r=2.0)\n",
    "prf_masker.fit(mcf_bolds_prf[0])\n",
    "prf_masker.mask_img_.to_filename(prf_mask_file)\n",
    "prf_mask_img = prf_masker.mask_img_\n",
    "print(prf_mask_file, prf_mask_img.shape)"
   ]
  },
  {
   "cell_type": "markdown",
   "metadata": {},
   "source": [
    "## Read in, highpass filter, normalize to psc, and save"
   ]
  },
  {
   "cell_type": "code",
   "execution_count": null,
   "metadata": {},
   "outputs": [],
   "source": [
    "# m = NiftiMasker(mask_img=prf_mask_file, standardize='psc', detrend=True,\n",
    "#                 high_pass=0.02, t_r=2, mask_strategy='epi', verbose=1)\n",
    "# m = NiftiMasker(mask_img=prf_mask_file, standardize='psc', t_r=2,\n",
    "#                 verbose=1) # no highpass\n",
    "# preproc_desc = 'desc-preproc-nohighpass'\n",
    "m = NiftiMasker(mask_img=prf_mask_file, standardize=False, t_r=2, high_pass=0.02,\n",
    "                verbose=1) # highpass, no psc\n",
    "preproc_desc = 'desc-preproc-highpassnopsc'"
   ]
  },
  {
   "cell_type": "code",
   "execution_count": null,
   "metadata": {},
   "outputs": [],
   "source": [
    "for epi in mcf_bolds_prf:\n",
    "    preproc_fn = utils.change_bids_description(epi, preproc_desc)\n",
    "    print(preproc_fn)\n",
    "    preproc_func_dir = os.path.join(out_dir, f\"ses-{ses}\", \"func\")\n",
    "    if not os.path.isdir(preproc_func_dir):\n",
    "        os.mkdir(preproc_func_dir)\n",
    "    full_outpath = os.path.join(preproc_func_dir, preproc_fn)\n",
    "    preproc_data = m.fit_transform(epi)\n",
    "    preproc_img = m.inverse_transform(preproc_data)\n",
    "    print(full_outpath, preproc_img.shape)\n",
    "    preproc_img.to_filename(full_outpath)"
   ]
  },
  {
   "cell_type": "code",
   "execution_count": null,
   "metadata": {},
   "outputs": [],
   "source": [
    "!ls {preproc_func_dir}"
   ]
  },
  {
   "cell_type": "markdown",
   "metadata": {},
   "source": [
    "## Average"
   ]
  },
  {
   "cell_type": "code",
   "execution_count": null,
   "metadata": {},
   "outputs": [],
   "source": [
    "preproc_desc"
   ]
  },
  {
   "cell_type": "code",
   "execution_count": null,
   "metadata": {},
   "outputs": [],
   "source": [
    "preproc_bolds_prf = sorted([f for f in preproc_layout.get(subject=sub, session=ses, task='prf', suffix='bold',\n",
    "            extension=['nii'], return_type='file') if preproc_desc in f])\n",
    "print('\\n'.join(preproc_bolds_prf))"
   ]
  },
  {
   "cell_type": "code",
   "execution_count": null,
   "metadata": {},
   "outputs": [],
   "source": [
    "# have a look at the affine\n",
    "print(load_img(preproc_bolds_prf[0]).affine)"
   ]
  },
  {
   "cell_type": "code",
   "execution_count": null,
   "metadata": {
    "scrolled": true
   },
   "outputs": [],
   "source": [
    "prf_input_img = utils.make_timeseries_for_prf(preproc_bolds_prf)"
   ]
  },
  {
   "cell_type": "code",
   "execution_count": null,
   "metadata": {},
   "outputs": [],
   "source": [
    "prf_input_img.shape"
   ]
  },
  {
   "cell_type": "code",
   "execution_count": null,
   "metadata": {},
   "outputs": [],
   "source": [
    "nib.save(prf_input_img, \n",
    "         f\"{out_dir}/sub-{sub}_ses-{ses}_{preproc_desc}_mean_trim.nii\")"
   ]
  },
  {
   "cell_type": "markdown",
   "metadata": {},
   "source": [
    "## Try a different approach to see if this fixes prfs - just avg the motion-corrected runs, no conversion to % signal change, no highpass"
   ]
  },
  {
   "cell_type": "code",
   "execution_count": null,
   "metadata": {},
   "outputs": [],
   "source": [
    "mcf_bolds_prf"
   ]
  },
  {
   "cell_type": "code",
   "execution_count": null,
   "metadata": {},
   "outputs": [],
   "source": [
    "prf_input_mcflirtonly = utils.make_timeseries_for_prf(mcf_bolds_prf)\n",
    "nib.save(prf_input_mcflirtonly, \n",
    "         f\"{out_dir}/sub-{sub}_ses-{ses}_mcflirt_mean_trim.nii\")"
   ]
  },
  {
   "cell_type": "markdown",
   "metadata": {},
   "source": [
    "### Prf inputs from Dev for single session of his JB scans (not 20210402)\n",
    " * For comparison purposes - it looks like even one session of Dev's looks better than mine"
   ]
  },
  {
   "cell_type": "code",
   "execution_count": null,
   "metadata": {},
   "outputs": [],
   "source": [
    "dev_func = nib.load(\"/Users/smerdis/Desktop/JBdata-fromDev/sub-01_1s_prfmean_attfix.nii.gz\")"
   ]
  },
  {
   "cell_type": "code",
   "execution_count": null,
   "metadata": {},
   "outputs": [],
   "source": [
    "dev_func_trim = dev_func.get_fdata()[:, :, :, :138]"
   ]
  },
  {
   "cell_type": "code",
   "execution_count": null,
   "metadata": {},
   "outputs": [],
   "source": [
    "nib.save(nib.Nifti1Image(dev_func_trim, dev_func.affine), \"/Users/smerdis/Desktop/JBdata-fromDev/sub-01_1s_prfmean_attfix_trim138.nii.gz\")"
   ]
  },
  {
   "cell_type": "markdown",
   "metadata": {},
   "source": [
    "# Make cortical mask"
   ]
  },
  {
   "cell_type": "markdown",
   "metadata": {},
   "source": [
    "## Convert some freesurfer mgz files to nifti"
   ]
  },
  {
   "cell_type": "code",
   "execution_count": null,
   "metadata": {},
   "outputs": [],
   "source": [
    "ribbon_mgz = f\"{freesurfer_dir}/{sub}/mri/ribbon.mgz\"\n",
    "ribbon_nii = f\"{out_dir}/ribbon.nii.gz\"\n",
    "!ls {ribbon_mgz}"
   ]
  },
  {
   "cell_type": "code",
   "execution_count": null,
   "metadata": {},
   "outputs": [],
   "source": [
    "mriconv_cmd = f\"mri_convert --in_type mgz --out_type nii --out_orientation RAS \\\n",
    "{freesurfer_dir}/{sub}/mri/brain.mgz {out_dir}/brain.nii.gz\"\n",
    "print(mriconv_cmd)\n",
    "os.system(mriconv_cmd)\n",
    "mriconv_cmd = f\"mri_convert --in_type mgz --out_type nii --out_orientation RAS \\\n",
    "{freesurfer_dir}/{sub}/mri/wm.seg.mgz {out_dir}/wmseg.nii.gz\"\n",
    "print(mriconv_cmd)\n",
    "os.system(mriconv_cmd)\n",
    "mriconv_cmd = f\"mri_convert --in_type mgz --out_type nii --out_orientation RAS \\\n",
    "{ribbon_mgz} {ribbon_nii}\"\n",
    "print(mriconv_cmd)\n",
    "os.system(mriconv_cmd)"
   ]
  },
  {
   "cell_type": "markdown",
   "metadata": {},
   "source": [
    "## Use FLIRT to register func ref vol to anat, save transform"
   ]
  },
  {
   "cell_type": "code",
   "execution_count": null,
   "metadata": {},
   "outputs": [],
   "source": [
    "flirt_cmd = f\"flirt -in {prf_ref_vol_path} -ref {out_dir}/brain.nii.gz -wmseg \\\n",
    "{out_dir}/wmseg.nii.gz -dof 6 -omat {out_dir}/func2brain.mat \\\n",
    "-out {out_dir}/mb3refvol2t1\"\n",
    "print(flirt_cmd)\n",
    "os.system(flirt_cmd)"
   ]
  },
  {
   "cell_type": "code",
   "execution_count": null,
   "metadata": {},
   "outputs": [],
   "source": [
    "# # Register Dev's EPI to the anat and save it\n",
    "# flirt_cmd = f\"flirt -in {out_dir}/5_epi_retino.nii -ref {out_dir}/brain.nii.gz -wmseg \\\n",
    "# {out_dir}/wmseg.nii.gz -dof 6 -omat {out_dir}/func2brain_dev.mat \\\n",
    "# -out {out_dir}/devepi2t1\"\n",
    "# print(flirt_cmd)\n",
    "# os.system(flirt_cmd)"
   ]
  },
  {
   "cell_type": "markdown",
   "metadata": {},
   "source": [
    "## Invert the transform and save it"
   ]
  },
  {
   "cell_type": "code",
   "execution_count": null,
   "metadata": {},
   "outputs": [],
   "source": [
    "# For Dev's data\n",
    "# invxfm_cmd = f\"convert_xfm -omat {out_dir}/brain2func_dev.mat -inverse {out_dir}/func2brain_dev.mat\"\n",
    "# print(invxfm_cmd)\n",
    "# os.system(invxfm_cmd)"
   ]
  },
  {
   "cell_type": "code",
   "execution_count": null,
   "metadata": {},
   "outputs": [],
   "source": [
    "invxfm_cmd = f\"convert_xfm -omat {out_dir}/brain2func.mat -inverse {out_dir}/func2brain.mat\"\n",
    "print(invxfm_cmd)\n",
    "os.system(invxfm_cmd)"
   ]
  },
  {
   "cell_type": "markdown",
   "metadata": {},
   "source": [
    "## Apply inverse transform to convert freesurfer outputs to functional space"
   ]
  },
  {
   "cell_type": "code",
   "execution_count": null,
   "metadata": {},
   "outputs": [],
   "source": [
    "brain2func_cmd = f\"flirt -ref {prf_ref_vol_path} -in {out_dir}/brain.nii.gz -out {out_dir}/brain_funcspace.nii.gz \\\n",
    "-init {out_dir}/brain2func.mat -applyxfm\"\n",
    "print(brain2func_cmd)\n",
    "os.system(brain2func_cmd)"
   ]
  },
  {
   "cell_type": "code",
   "execution_count": null,
   "metadata": {},
   "outputs": [],
   "source": [
    "# For Dev's data\n",
    "# brain2func_cmd = f\"flirt -ref {out_dir}/5_epi_retino.nii -in {out_dir}/brain.nii.gz -out {out_dir}/brain_funcspace_dev.nii.gz \\\n",
    "# -init {out_dir}/brain2func_dev.mat -applyxfm\"\n",
    "# print(brain2func_cmd)\n",
    "# os.system(brain2func_cmd)"
   ]
  },
  {
   "cell_type": "markdown",
   "metadata": {},
   "source": [
    "## Load ribbon and extract cortex only"
   ]
  },
  {
   "cell_type": "code",
   "execution_count": null,
   "metadata": {},
   "outputs": [],
   "source": [
    "def make_func_parc_mask(ribbon_nii, parc_codes, out_fn):\n",
    "    ribbon_img = load_img(ribbon_nii)\n",
    "    ribbon_data = ribbon_img.get_fdata()\n",
    "    cortex_mask = np.zeros_like(ribbon_data)\n",
    "    print(np.count_nonzero(cortex_mask))\n",
    "    for c in parc_codes:\n",
    "        cortex_mask[ribbon_data==c] = 1\n",
    "    print(np.count_nonzero(cortex_mask))\n",
    "    cortex_mask_img = nib.Nifti1Image(cortex_mask, ribbon_img.affine)\n",
    "    nib.save(cortex_mask_img, out_fn)\n",
    "    cmd = f\"flirt -ref {prf_ref_vol_path} -in {out_fn} -out {out_fn}_funcspace.nii.gz -init {out_dir}/brain2func.mat -applyxfm\"\n",
    "    print(cmd)\n",
    "    os.system(cmd)"
   ]
  },
  {
   "cell_type": "code",
   "execution_count": null,
   "metadata": {},
   "outputs": [],
   "source": [
    "make_func_parc_mask(ribbon_nii, [3, 42], f\"{out_dir}/cortex_mask\")"
   ]
  },
  {
   "cell_type": "code",
   "execution_count": null,
   "metadata": {},
   "outputs": [],
   "source": [
    "make_func_parc_mask(ribbon_nii, [3], f\"{out_dir}/Lcortex_mask\")\n",
    "make_func_parc_mask(ribbon_nii, [42], f\"{out_dir}/Rcortex_mask\")"
   ]
  },
  {
   "cell_type": "code",
   "execution_count": null,
   "metadata": {},
   "outputs": [],
   "source": [
    "ribbon2func_cmd = f\"flirt -ref {prf_ref_vol_path} -in {out_dir}/ribbon.nii.gz -out {out_dir}/ribbon_funcspace.nii.gz \\\n",
    "-init {out_dir}/brain2func.mat -applyxfm\"\n",
    "print(ribbon2func_cmd)\n",
    "os.system(ribbon2func_cmd)"
   ]
  },
  {
   "cell_type": "code",
   "execution_count": null,
   "metadata": {},
   "outputs": [],
   "source": [
    "print(f\"fsleyes {anat_file} {out_dir}/wmseg.nii.gz {out_dir}/ribbon.nii.gz\")\n"
   ]
  },
  {
   "cell_type": "markdown",
   "metadata": {},
   "source": [
    "# Load Screenshots to make prfs better"
   ]
  },
  {
   "cell_type": "code",
   "execution_count": null,
   "metadata": {},
   "outputs": [],
   "source": [
    "sshots_dir = f\"{out_dir}/Screenshots\""
   ]
  },
  {
   "cell_type": "code",
   "execution_count": null,
   "metadata": {},
   "outputs": [],
   "source": [
    "sshots_dir = f\"{out_dir}/Screenshots\"\n",
    "imlist = [\n",
    "    f\"{sshots_dir}/Sc_3JBTest_B_001.png\",\n",
    "    f\"{sshots_dir}/Sc_3JBTest_B_002.png\",\n",
    "    f\"{sshots_dir}/Sc_3JBTest_B_003.png\",\n",
    "    f\"{sshots_dir}/Sc_3JBTest_B_004.png\",\n",
    "    f\"{sshots_dir}/Sc_3JBTest_B_005.png\",\n",
    "    f\"{sshots_dir}/Sc_3JBTest_B_006.png\",\n",
    "    f\"{sshots_dir}/Sc_3JBTest_B_007.png\",\n",
    "    f\"{sshots_dir}/Blank.png\",\n",
    "    f\"{sshots_dir}/Sc_3JBTest_B_008.png\",\n",
    "    f\"{sshots_dir}/Sc_3JBTest_B_009.png\",\n",
    "    f\"{sshots_dir}/Sc_3JBTest_B_010.png\",\n",
    "    f\"{sshots_dir}/Sc_3JBTest_B_011.png\",\n",
    "    f\"{sshots_dir}/Sc_3JBTest_B_012.png\",\n",
    "    f\"{sshots_dir}/Sc_3JBTest_B_013.png\",\n",
    "    f\"{sshots_dir}/Sc_3JBTest_B_014.png\",\n",
    "    f\"{sshots_dir}/Blank.png\",\n",
    "    f\"{sshots_dir}/Sc_3JBTest_B_015.png\",\n",
    "    f\"{sshots_dir}/Sc_3JBTest_B_016.png\",\n",
    "    f\"{sshots_dir}/Sc_3JBTest_B_017.png\",\n",
    "    f\"{sshots_dir}/Sc_3JBTest_B_018.png\",\n",
    "    f\"{sshots_dir}/Sc_3JBTest_B_019.png\",\n",
    "    f\"{sshots_dir}/Sc_3JBTest_B_020.png\",\n",
    "    f\"{sshots_dir}/Sc_3JBTest_B_021.png\",\n",
    "    f\"{sshots_dir}/Blank.png\",\n",
    "    f\"{sshots_dir}/Sc_3JBTest_B_022.png\",\n",
    "    f\"{sshots_dir}/Sc_3JBTest_B_023.png\",\n",
    "    f\"{sshots_dir}/Sc_3JBTest_B_024.png\",\n",
    "    f\"{sshots_dir}/Sc_3JBTest_B_025.png\",\n",
    "    f\"{sshots_dir}/Sc_3JBTest_B_026.png\",\n",
    "    f\"{sshots_dir}/Sc_3JBTest_B_027.png\",\n",
    "    f\"{sshots_dir}/Sc_3JBTest_B_028.png\",\n",
    "    f\"{sshots_dir}/Blank.png\",\n",
    "    f\"{sshots_dir}/Sc_3JBTest_B_029.png\",\n",
    "    f\"{sshots_dir}/Sc_3JBTest_B_030.png\",\n",
    "    f\"{sshots_dir}/Sc_3JBTest_B_031.png\",\n",
    "    f\"{sshots_dir}/Sc_3JBTest_B_032.png\",\n",
    "    f\"{sshots_dir}/Sc_3JBTest_B_033.png\",\n",
    "    f\"{sshots_dir}/Sc_3JBTest_B_034.png\",\n",
    "    f\"{sshots_dir}/Sc_3JBTest_B_035.png\",\n",
    "    f\"{sshots_dir}/Blank.png\",\n",
    "    f\"{sshots_dir}/Sc_3JBTest_B_036.png\",\n",
    "    f\"{sshots_dir}/Sc_3JBTest_B_037.png\",\n",
    "    f\"{sshots_dir}/Sc_3JBTest_B_038.png\",\n",
    "    f\"{sshots_dir}/Sc_3JBTest_B_039.png\",\n",
    "    f\"{sshots_dir}/Sc_3JBTest_B_040.png\",\n",
    "    f\"{sshots_dir}/Sc_3JBTest_B_041.png\",\n",
    "    f\"{sshots_dir}/Sc_3JBTest_B_042.png\",\n",
    "    f\"{sshots_dir}/Blank.png\",\n",
    "    f\"{sshots_dir}/Sc_3JBTest_B_043.png\",\n",
    "    f\"{sshots_dir}/Sc_3JBTest_B_044.png\",\n",
    "    f\"{sshots_dir}/Sc_3JBTest_B_045.png\",\n",
    "    f\"{sshots_dir}/Sc_3JBTest_B_046.png\",\n",
    "    f\"{sshots_dir}/Sc_3JBTest_B_047.png\",\n",
    "    f\"{sshots_dir}/Sc_3JBTest_B_048.png\",\n",
    "    f\"{sshots_dir}/Sc_3JBTest_B_049.png\",\n",
    "    f\"{sshots_dir}/Blank.png\",\n",
    "    f\"{sshots_dir}/Sc_3JBTest_B_050.png\",\n",
    "    f\"{sshots_dir}/Sc_3JBTest_B_051.png\",\n",
    "    f\"{sshots_dir}/Sc_3JBTest_B_052.png\",\n",
    "    f\"{sshots_dir}/Sc_3JBTest_B_053.png\",\n",
    "    f\"{sshots_dir}/Sc_3JBTest_B_054.png\",\n",
    "    f\"{sshots_dir}/Sc_3JBTest_B_055.png\",\n",
    "    f\"{sshots_dir}/Sc_3JBTest_B_056.png\",\n",
    "    f\"{sshots_dir}/Blank.png\",\n",
    "    f\"{sshots_dir}/Sc_3JBTest_B_001.png\",\n",
    "    f\"{sshots_dir}/Sc_3JBTest_B_002.png\",\n",
    "    f\"{sshots_dir}/Sc_3JBTest_B_003.png\",\n",
    "    f\"{sshots_dir}/Sc_3JBTest_B_004.png\",\n",
    "    f\"{sshots_dir}/Sc_3JBTest_B_005.png\",\n",
    "    f\"{sshots_dir}/Sc_3JBTest_B_006.png\",\n",
    "    f\"{sshots_dir}/Sc_3JBTest_B_007.png\",\n",
    "    f\"{sshots_dir}/Blank.png\",\n",
    "    f\"{sshots_dir}/Sc_3JBTest_B_008.png\",\n",
    "    f\"{sshots_dir}/Sc_3JBTest_B_009.png\",\n",
    "    f\"{sshots_dir}/Sc_3JBTest_B_010.png\",\n",
    "    f\"{sshots_dir}/Sc_3JBTest_B_011.png\",\n",
    "    f\"{sshots_dir}/Sc_3JBTest_B_012.png\",\n",
    "    f\"{sshots_dir}/Sc_3JBTest_B_013.png\",\n",
    "    f\"{sshots_dir}/Sc_3JBTest_B_014.png\",\n",
    "    f\"{sshots_dir}/Blank.png\",\n",
    "    f\"{sshots_dir}/Sc_3JBTest_B_015.png\",\n",
    "    f\"{sshots_dir}/Sc_3JBTest_B_016.png\",\n",
    "    f\"{sshots_dir}/Sc_3JBTest_B_017.png\",\n",
    "    f\"{sshots_dir}/Sc_3JBTest_B_018.png\",\n",
    "    f\"{sshots_dir}/Sc_3JBTest_B_019.png\",\n",
    "    f\"{sshots_dir}/Sc_3JBTest_B_020.png\",\n",
    "    f\"{sshots_dir}/Sc_3JBTest_B_021.png\",\n",
    "    f\"{sshots_dir}/Blank.png\",\n",
    "    f\"{sshots_dir}/Sc_3JBTest_B_022.png\",\n",
    "    f\"{sshots_dir}/Sc_3JBTest_B_023.png\",\n",
    "    f\"{sshots_dir}/Sc_3JBTest_B_024.png\",\n",
    "    f\"{sshots_dir}/Sc_3JBTest_B_025.png\",\n",
    "    f\"{sshots_dir}/Sc_3JBTest_B_026.png\",\n",
    "    f\"{sshots_dir}/Sc_3JBTest_B_027.png\",\n",
    "    f\"{sshots_dir}/Sc_3JBTest_B_028.png\",\n",
    "    f\"{sshots_dir}/Blank.png\",\n",
    "    f\"{sshots_dir}/Sc_3JBTest_B_029.png\",\n",
    "    f\"{sshots_dir}/Sc_3JBTest_B_030.png\",\n",
    "    f\"{sshots_dir}/Sc_3JBTest_B_031.png\",\n",
    "    f\"{sshots_dir}/Sc_3JBTest_B_032.png\",\n",
    "    f\"{sshots_dir}/Sc_3JBTest_B_033.png\",\n",
    "    f\"{sshots_dir}/Sc_3JBTest_B_034.png\",\n",
    "    f\"{sshots_dir}/Sc_3JBTest_B_035.png\",\n",
    "    f\"{sshots_dir}/Blank.png\",\n",
    "    f\"{sshots_dir}/Sc_3JBTest_B_036.png\",\n",
    "    f\"{sshots_dir}/Sc_3JBTest_B_037.png\",\n",
    "    f\"{sshots_dir}/Sc_3JBTest_B_038.png\",\n",
    "    f\"{sshots_dir}/Sc_3JBTest_B_039.png\",\n",
    "    f\"{sshots_dir}/Sc_3JBTest_B_040.png\",\n",
    "    f\"{sshots_dir}/Sc_3JBTest_B_041.png\",\n",
    "    f\"{sshots_dir}/Sc_3JBTest_B_042.png\",\n",
    "    f\"{sshots_dir}/Blank.png\",\n",
    "    f\"{sshots_dir}/Sc_3JBTest_B_043.png\",\n",
    "    f\"{sshots_dir}/Sc_3JBTest_B_044.png\",\n",
    "    f\"{sshots_dir}/Sc_3JBTest_B_045.png\",\n",
    "    f\"{sshots_dir}/Sc_3JBTest_B_046.png\",\n",
    "    f\"{sshots_dir}/Sc_3JBTest_B_047.png\",\n",
    "    f\"{sshots_dir}/Sc_3JBTest_B_048.png\",\n",
    "    f\"{sshots_dir}/Sc_3JBTest_B_049.png\",\n",
    "    f\"{sshots_dir}/Blank.png\",\n",
    "    f\"{sshots_dir}/Sc_3JBTest_B_050.png\",\n",
    "    f\"{sshots_dir}/Sc_3JBTest_B_051.png\",\n",
    "    f\"{sshots_dir}/Sc_3JBTest_B_052.png\",\n",
    "    f\"{sshots_dir}/Sc_3JBTest_B_053.png\",\n",
    "    f\"{sshots_dir}/Sc_3JBTest_B_054.png\",\n",
    "    f\"{sshots_dir}/Sc_3JBTest_B_055.png\",\n",
    "    f\"{sshots_dir}/Sc_3JBTest_B_056.png\",\n",
    "    f\"{sshots_dir}/Blank.png\",\n",
    "]"
   ]
  },
  {
   "cell_type": "code",
   "execution_count": null,
   "metadata": {},
   "outputs": [],
   "source": [
    "len(imlist)"
   ]
  },
  {
   "cell_type": "code",
   "execution_count": null,
   "metadata": {},
   "outputs": [],
   "source": [
    "save_dir = sshots_dir"
   ]
  },
  {
   "cell_type": "code",
   "execution_count": null,
   "metadata": {},
   "outputs": [],
   "source": [
    "for i in range(len(imlist)):\n",
    "    im = Image.open(imlist[i])\n",
    "    if 'Blank' in imlist[i]:\n",
    "        im.save(f\"{save_dir}/screen{i+1:03d}.png\",'PNG')\n",
    "    else:\n",
    "        im_mat = np.array(im)\n",
    "        im_mat[im_mat[:,:,0] != 128] = 0\n",
    "        im_mat[im_mat[:,:,1] != 128] = 0\n",
    "        im_mat[im_mat[:,:,2] != 128] = 0\n",
    "        #plt.imshow(im_mat)\n",
    "        im_mat[im_mat[:,:,0] == 128] = -1\n",
    "        im_mat[im_mat[:,:,1] == 128] = -1\n",
    "        im_mat[im_mat[:,:,2] == 128] = -1\n",
    "        #plt.imshow(im_mat)\n",
    "        img2ar = Image.fromarray(im_mat.astype('uint8'), 'RGB')\n",
    "        img2ar.save(f\"{save_dir}/screen{i+1:03d}.png\",'PNG')\n",
    "\n",
    "\n",
    "#This will make the images but you should go over them individually to make sure that there are no stray pixels..else it will mess you pRF models\n",
    "# The manual editing is required because of the complex visual stimuli."
   ]
  },
  {
   "cell_type": "code",
   "execution_count": null,
   "metadata": {},
   "outputs": [],
   "source": [
    "# #edited_sshots_dir = f\"{out_dir}/edited-screenshots\"\n",
    "# for i, s in enumerate(sorted(glob.glob(f\"{save_dir}/screen*.png\"))):\n",
    "#     print(i, s)\n",
    "#     im = Image.open(s)\n",
    "#     im.save(f\"{sshots_dir}/screen{i+65:03d}.png\")"
   ]
  },
  {
   "cell_type": "code",
   "execution_count": null,
   "metadata": {},
   "outputs": [],
   "source": [
    "img_list = sorted(glob.glob(f\"{save_dir}/screen*.png\"))\n",
    "blanks_to_pad = 138-len(img_list)\n",
    "img_list.extend([img_list[-1]] * blanks_to_pad)"
   ]
  },
  {
   "cell_type": "code",
   "execution_count": null,
   "metadata": {},
   "outputs": [],
   "source": [
    "len(img_list)"
   ]
  },
  {
   "cell_type": "code",
   "execution_count": null,
   "metadata": {},
   "outputs": [],
   "source": [
    "biglist= [np.array([]) for _ in range(len(img_list))]\n",
    "\n",
    "#This flips the images around to make it like how popeye uses it\n",
    "    \n",
    "for i in range(0,len(img_list)):\n",
    "    im_read = cv.imread(img_list[i])\n",
    "    im_rgb = cv.cvtColor(im_read, cv.COLOR_BGR2RGB)\n",
    "    im_gr = cv.cvtColor(im_rgb, cv.COLOR_BGR2GRAY)\n",
    "    # im_grd = np.divide(im_gr,255)\n",
    "    print(img_list[i])\n",
    "    ret,thresh = cv.threshold(im_gr,0,1,cv.THRESH_BINARY_INV)\n",
    "    biglist[i] = thresh\n",
    "\n",
    "bigstack = np.dstack((biglist))\n",
    "pickle.dump(bigstack, open(f\"{out_dir}/bigstack-{sub}.pkl\", 'wb'))\n"
   ]
  },
  {
   "cell_type": "markdown",
   "metadata": {},
   "source": [
    "## Mask manipulation"
   ]
  },
  {
   "cell_type": "code",
   "execution_count": null,
   "metadata": {},
   "outputs": [],
   "source": [
    "print(prf_mask_file)\n",
    "!ls {prf_mask_file}"
   ]
  },
  {
   "cell_type": "code",
   "execution_count": null,
   "metadata": {},
   "outputs": [],
   "source": [
    "m = nib.load(f\"{out_dir}/cortex_mask_funcspace.nii.gz\")\n",
    "#m = nib.load(prf_mask_file)\n",
    "m_chop = m.get_fdata().copy()\n",
    "m_chop[:, 40:, :] = 0\n",
    "chopped_mask_img = nib.Nifti1Image(m_chop, m.affine, m.header)\n",
    "chopped_mask_path = f\"{out_dir}/sub-{sub}_ses-{ses}_desc-cortex-mask-back40_roi.nii.gz\"\n",
    "nib.save(chopped_mask_img, chopped_mask_path)"
   ]
  },
  {
   "cell_type": "code",
   "execution_count": null,
   "metadata": {},
   "outputs": [],
   "source": [
    "print(f\"fsleyes {anat_file} {prf_ref_vol_path} {prf_mask_file} {chopped_mask_path}\")\n"
   ]
  },
  {
   "cell_type": "markdown",
   "metadata": {},
   "source": [
    "## Look at prf results (prfs run on cluster)"
   ]
  },
  {
   "cell_type": "code",
   "execution_count": null,
   "metadata": {},
   "outputs": [],
   "source": [
    "!ls {out_dir}"
   ]
  },
  {
   "cell_type": "code",
   "execution_count": null,
   "metadata": {},
   "outputs": [],
   "source": [
    "!ls {out_dir}/20210511-104720"
   ]
  },
  {
   "cell_type": "code",
   "execution_count": null,
   "metadata": {},
   "outputs": [],
   "source": [
    "# prf_dir = f\"{out_dir}/20210407-143953\" # Right hemisphere back 40\n",
    "# prf_dir = f\"{out_dir}/20210407-162615\" # Bilateral back 40\n",
    "# prf_dir = f\"{out_dir}/20210415-212542\" # Bilateral back 40, fixed prfs based on DV feedback 4/15\n",
    "# prf_dir = f\"{out_dir}/20210416-114708\" # Bilateral back 40, no psc/highpass\n",
    "# prf_dir = f\"{out_dir}/20210420-225751\" # Bilateral back 40, psc no highpass, mask 0.3 - spike is back! remove psc\n",
    "# prf_dir = f\"{out_dir}/20210421-100152\" # Bilateral back 40, no psc/highpass, mask 0.3 - no weird spike, more voxels\n",
    "# prf_dir = f\"{out_dir}/20210421-100528\" # Rcortex back40 no psc/highpass\n",
    "# prf_dir = f\"{out_dir}/20210421-224614\" # bilateral back40, highpass no psc\n",
    "# prf_dir = f\"{out_dir}/20210422-111325\" # mcflirt only, mask 0.3, right hemi\n",
    "# prf_dir = f\"{out_dir}/20210428-114114\" # mcflirt only, mask 0.3, left hemi\n",
    "# prf_dir = f\"{out_dir}/20210505-135723\"\n",
    "# prf_dir = f\"{out_dir}/20210511-104720\" # pRFs using Dev's inputs - can't use refvol and xfms\n",
    "# prf_dir = f\"{out_dir}/20210604-141348\" # bilateral back 40, mcflirt only, my data\n",
    "prf_dir = f\"{out_dir}/20210604-142202\" # whole brain (not just cortex, should include LGN), mcflirt only, my data"
   ]
  },
  {
   "cell_type": "code",
   "execution_count": null,
   "metadata": {},
   "outputs": [],
   "source": [
    "prf_outputs = glob.glob(f\"{prf_dir}/sub-{sub}*desc-prf[!mask]*map*\")\n",
    "print(\"\\n\".join(prf_outputs))"
   ]
  },
  {
   "cell_type": "code",
   "execution_count": null,
   "metadata": {},
   "outputs": [],
   "source": [
    "files_volspace = [x for x in prf_outputs if ('space-anat' not in x) \\\n",
    "        and (('rsq' in x) or ('rho' in x) or ('theta' in x)) \\\n",
    "        and 'thresh' not in x\n",
    "]\n",
    "print('\\n'.join(files_volspace))\n",
    "print(f\"fsleyes {anat_file} {prf_ref_vol_path} {' '.join(files_volspace)}\")"
   ]
  },
  {
   "cell_type": "markdown",
   "metadata": {},
   "source": [
    "#### Threshold by rsq"
   ]
  },
  {
   "cell_type": "code",
   "execution_count": null,
   "metadata": {},
   "outputs": [],
   "source": [
    "rsq_file = [f for f in prf_outputs if 'desc-prfrsq' in f and 'thresh' not in f][0]\n",
    "\n",
    "for output in glob.glob(f\"{prf_dir}/sub-{sub}*desc-prf[!mask]*map*\"):\n",
    "    if 'thresh-' not in output and 'space-func' in output:\n",
    "        print(output)\n",
    "        _ = utils.threshold(output, rsq_file, .1, prf_dir)"
   ]
  },
  {
   "cell_type": "markdown",
   "metadata": {},
   "source": [
    "#### Threshold by ecc (to filter out huge eccentricities that are a result of improper fits)"
   ]
  },
  {
   "cell_type": "code",
   "execution_count": null,
   "metadata": {},
   "outputs": [],
   "source": [
    "ecc_file = [f for f in prf_outputs if 'desc-prfrho' in f and 'thresh' not in f][0]\n",
    "max_ecc = 10\n",
    "for output in glob.glob(f\"{prf_dir}/sub-{sub}*desc-prf[!mask]*map*\"):\n",
    "    _ = utils.threshold(output, ecc_file, max_ecc, prf_dir, how='less')\n",
    "#     if f\"thresh-prfrsq-0.20\" not in output and f\"thresh-prfrho\" not in output:\n",
    "#         #_ = threshold(output, ecc_file, max_ecc, prf_dir, how='less')\n",
    "#         #_ = threshold(output, ecc_file, max_ecc, prf_dir, how='less')\n",
    "#         print(output)"
   ]
  },
  {
   "cell_type": "code",
   "execution_count": null,
   "metadata": {},
   "outputs": [],
   "source": [
    "files = [x for x in glob.glob(f\"{prf_dir}/sub-{sub}*desc-prf[!mask]*map*\") if ('space-anat' not in x)\n",
    "                      and (('desc-prfrsq' in x) or ('desc-prfrho' in x) or ('desc-prftheta' in x))\n",
    "        ] #and 'thresh-prfrsq' in x]\n",
    "print('\\n'.join(files))\n",
    "print(f\"fsleyes {anat_file} {prf_ref_vol_path} {' '.join(files)}\")"
   ]
  },
  {
   "cell_type": "code",
   "execution_count": null,
   "metadata": {},
   "outputs": [],
   "source": []
  },
  {
   "cell_type": "code",
   "execution_count": null,
   "metadata": {},
   "outputs": [],
   "source": [
    "for output in files:\n",
    "    print(output)\n",
    "    #if 'thresh-prfrsq' in output:\n",
    "    utils.prf_to_anat(sub, f\"{out_dir}/brain.nii.gz\", output, f\"{out_dir}/func2brain.mat\", prf_dir) # my data\n",
    "    #utils.prf_to_anat(sub, f\"{out_dir}/brain.nii.gz\", output, f\"{out_dir}/func2brain_dev.mat\", prf_dir) # dev's data"
   ]
  },
  {
   "cell_type": "code",
   "execution_count": null,
   "metadata": {},
   "outputs": [],
   "source": [
    "files"
   ]
  },
  {
   "cell_type": "code",
   "execution_count": null,
   "metadata": {},
   "outputs": [],
   "source": [
    "utils.freeview_prfs(sub, 'lh', prf_dir)"
   ]
  },
  {
   "cell_type": "code",
   "execution_count": null,
   "metadata": {},
   "outputs": [],
   "source": [
    "utils.freeview_prfs(sub, 'rh', prf_dir)"
   ]
  },
  {
   "cell_type": "code",
   "execution_count": null,
   "metadata": {},
   "outputs": [],
   "source": [
    "utils.freeview_prfs(sub, 'lh', f\"{out_dir}/20210428-114114\")"
   ]
  },
  {
   "cell_type": "code",
   "execution_count": null,
   "metadata": {},
   "outputs": [],
   "source": []
  }
 ],
 "metadata": {
  "kernelspec": {
   "display_name": "Python 3",
   "language": "python",
   "name": "python3"
  },
  "language_info": {
   "codemirror_mode": {
    "name": "ipython",
    "version": 3
   },
   "file_extension": ".py",
   "mimetype": "text/x-python",
   "name": "python",
   "nbconvert_exporter": "python",
   "pygments_lexer": "ipython3",
   "version": "3.7.9"
  }
 },
 "nbformat": 4,
 "nbformat_minor": 4
}
