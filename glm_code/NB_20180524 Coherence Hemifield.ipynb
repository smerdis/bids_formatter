{
 "cells": [
  {
   "cell_type": "code",
   "execution_count": 1,
   "metadata": {
    "collapsed": true
   },
   "outputs": [],
   "source": [
    "import os, glob, sys\n",
    "import numpy as np\n",
    "import pandas as pd\n",
    "import nitime\n",
    "#Import the time-series objects:\n",
    "from nitime.timeseries import TimeSeries\n",
    "#Import the analysis objects:\n",
    "from nitime.analysis import CorrelationAnalyzer, CoherenceAnalyzer\n",
    "#Import utility functions:\n",
    "from nitime.utils import percent_change\n",
    "from nitime.viz import drawmatrix_channels, drawgraph_channels, plot_xcorr\n",
    "%matplotlib inline  "
   ]
  }
 ],
 "metadata": {
  "kernelspec": {
   "display_name": "Python 3",
   "language": "python",
   "name": "python3"
  },
  "language_info": {
   "codemirror_mode": {
    "name": "ipython",
    "version": 3
   },
   "file_extension": ".py",
   "mimetype": "text/x-python",
   "name": "python",
   "nbconvert_exporter": "python",
   "pygments_lexer": "ipython3",
   "version": "3.6.2"
  }
 },
 "nbformat": 4,
 "nbformat_minor": 2
}
