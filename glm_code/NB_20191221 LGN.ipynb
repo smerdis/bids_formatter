{
 "cells": [
  {
   "cell_type": "code",
   "execution_count": null,
   "metadata": {
    "ExecuteTime": {
     "end_time": "2020-02-13T23:12:07.598262Z",
     "start_time": "2020-02-13T23:12:07.574216Z"
    }
   },
   "outputs": [],
   "source": [
    "%load_ext autoreload\n",
    "%autoreload 2"
   ]
  },
  {
   "cell_type": "code",
   "execution_count": null,
   "metadata": {
    "ExecuteTime": {
     "end_time": "2020-02-13T23:12:11.391485Z",
     "start_time": "2020-02-13T23:12:08.396764Z"
    }
   },
   "outputs": [],
   "source": [
    "import utils # stuff I've written for this project\n",
    "\n",
    "import os, sys, datetime, glob, re\n",
    "import os.path as op\n",
    "\n",
    "import numpy as np\n",
    "np.set_printoptions(precision=4)\n",
    "import pandas as pd\n",
    "import matplotlib.pyplot as plt\n",
    "import matplotlib.mlab as mlab\n",
    "import shutil\n",
    "\n",
    "import nibabel as nib\n",
    "\n",
    "import nilearn\n",
    "from nilearn.masking import apply_mask\n",
    "from nilearn.plotting import plot_img, plot_epi, plot_roi, plot_stat_map, view_img\n",
    "from nilearn.image import load_img, threshold_img, math_img\n",
    "from nilearn.input_data import NiftiMasker\n",
    "\n",
    "import nitime\n",
    "import nitime.fmri.io as nfio\n",
    "import nitime.timeseries as ts\n",
    "import nitime.analysis as nta\n",
    "import nitime.utils as ntu\n",
    "import nitime.viz as ntv\n",
    "\n",
    "import scipy\n",
    "\n",
    "from bids import BIDSLayout"
   ]
  },
  {
   "cell_type": "code",
   "execution_count": null,
   "metadata": {
    "ExecuteTime": {
     "end_time": "2020-02-13T23:12:12.022168Z",
     "start_time": "2020-02-13T23:12:11.964240Z"
    }
   },
   "outputs": [],
   "source": [
    "%matplotlib inline"
   ]
  },
  {
   "cell_type": "code",
   "execution_count": null,
   "metadata": {
    "ExecuteTime": {
     "end_time": "2020-02-13T23:12:12.502814Z",
     "start_time": "2020-02-13T23:12:12.444704Z"
    }
   },
   "outputs": [],
   "source": [
    "print('nibabel: ', nib.__version__, '\\n',\n",
    "      'nilearn: ', nilearn.__version__, '\\n',\n",
    "      'nitime: ', nitime.__version__, '\\n',\n",
    "      'scipy: ', scipy.__version__)"
   ]
  },
  {
   "cell_type": "markdown",
   "metadata": {
    "heading_collapsed": true
   },
   "source": [
    "### Test the confounds file exists"
   ]
  },
  {
   "cell_type": "code",
   "execution_count": null,
   "metadata": {
    "ExecuteTime": {
     "end_time": "2019-12-03T19:13:58.523201Z",
     "start_time": "2019-12-03T19:13:58.443448Z"
    },
    "hidden": true
   },
   "outputs": [],
   "source": [
    "confounds_file = \"/Users/smerdis/data/LGN/BIDS/AV_20111117_fromRD/derivatives/RD_preproc/sub-AV/ses-20111117/func/sub-AV_ses-20111117_task-mp_run-02_desc-confounds_regressors.tsv\""
   ]
  },
  {
   "cell_type": "code",
   "execution_count": null,
   "metadata": {
    "ExecuteTime": {
     "end_time": "2019-12-03T19:13:58.778215Z",
     "start_time": "2019-12-03T19:13:58.588344Z"
    },
    "hidden": true
   },
   "outputs": [],
   "source": [
    "confounds_df = pd.read_csv(confounds_file, sep=str('\\t'), na_values=\"n/a\")"
   ]
  },
  {
   "cell_type": "code",
   "execution_count": null,
   "metadata": {
    "ExecuteTime": {
     "end_time": "2019-11-28T00:05:33.551778Z",
     "start_time": "2019-11-28T00:05:33.474805Z"
    },
    "hidden": true
   },
   "outputs": [],
   "source": [
    "confounds_df.head()"
   ]
  },
  {
   "cell_type": "code",
   "execution_count": null,
   "metadata": {
    "ExecuteTime": {
     "end_time": "2019-11-28T00:05:43.831360Z",
     "start_time": "2019-11-28T00:05:43.777820Z"
    },
    "hidden": true
   },
   "outputs": [],
   "source": [
    "poss_confounds = list(confounds_df.columns)\n",
    "poss_confounds[:5]"
   ]
  },
  {
   "cell_type": "markdown",
   "metadata": {},
   "source": [
    "### Define paths etc"
   ]
  },
  {
   "cell_type": "code",
   "execution_count": null,
   "metadata": {
    "ExecuteTime": {
     "end_time": "2020-02-13T23:12:59.553399Z",
     "start_time": "2020-02-13T23:12:59.053269Z"
    }
   },
   "outputs": [],
   "source": [
    "sub = \"NB\"\n",
    "ses = \"20191221\"\n",
    "\n",
    "raw_data_dir = os.path.abspath(\"/Users/smerdis/data/LGN/BIDS/NB_20191221_odd/sub-NB/\")\n",
    "raw_layout = BIDSLayout(raw_data_dir, validate=False, derivatives=False)\n",
    "derivs_dir = os.path.abspath('/Users/smerdis/data/LGN/BIDS/NB_20191221_odd/derivatives/streams')\n",
    "out_dir = os.path.abspath(f\"{derivs_dir}/sub-{sub}\")\n",
    "if not os.path.isdir(out_dir):\n",
    "    os.mkdir(out_dir)\n",
    "preproc_layout = BIDSLayout(out_dir, validate=False)\n",
    "# get only the big LGN masks, not any smaller M/P rois already assigned\n",
    "rois = [f for f in\n",
    "        preproc_layout.get(subject=sub, session=ses, extension=['nii.gz'], suffix=\"roi\", return_type='file')\n",
    "        if \"desc-LLGN_\" in f or \"desc-RLGN_\" in f]\n",
    "ref_vol_name = f\"sub-{sub}_ses-{ses}_refvol\"\n",
    "ref_vol_path = os.path.abspath(f\"{out_dir}/{ref_vol_name}.nii.gz\")\n",
    "mask_file = os.path.join(out_dir, f\"sub-{sub}_ses-{ses}_mask.nii.gz\")\n",
    "coh_fn = os.path.join(out_dir, f\"sub-{sub}_ses-{ses}_task-hemi_desc-coherence_map.nii\")\n",
    "anat_file = raw_layout.get(subject=sub, session=ses, extension=['nii.gz'], suffix=\"T1w\", return_type='file')[0]\n",
    "\n",
    "print(\"LGN rois:\", rois, \"anat file: \", anat_file, sep=\"\\n\")"
   ]
  },
  {
   "cell_type": "markdown",
   "metadata": {
    "heading_collapsed": true
   },
   "source": [
    "#### For testing BIDS names"
   ]
  },
  {
   "cell_type": "code",
   "execution_count": null,
   "metadata": {
    "ExecuteTime": {
     "end_time": "2020-02-11T00:43:08.776178Z",
     "start_time": "2020-02-11T00:43:08.686747Z"
    },
    "hidden": true
   },
   "outputs": [],
   "source": [
    "utils.isBIDSFile(mask_file)\n",
    "utils.isBIDSFile(coh_fn)\n",
    "utils.isBIDSFile(ref_vol_path)\n",
    "utils.isBIDSFile(rois[0])"
   ]
  },
  {
   "cell_type": "markdown",
   "metadata": {
    "heading_collapsed": true
   },
   "source": [
    "#### Make ref_vol from first dicom"
   ]
  },
  {
   "cell_type": "code",
   "execution_count": null,
   "metadata": {
    "ExecuteTime": {
     "end_time": "2020-01-29T22:54:07.665170Z",
     "start_time": "2020-01-29T22:54:07.611446Z"
    },
    "hidden": true
   },
   "outputs": [],
   "source": [
    "first_dicom = \"/Users/smerdis/data/LGN/Nb_20191221/Silver_Arjun\\ -\\ 1/sb_bold_1p75mmISO_PSN_5/IM-0005-0001.dcm\"\n",
    "# first_dicom = \"/Users/smerdis/data/LGN/Nb_20191221/Silver_Arjun - 1/sb_bold_1p75mmISO_PSN_6/IM-0006-0001.dcm\""
   ]
  },
  {
   "cell_type": "code",
   "execution_count": null,
   "metadata": {
    "ExecuteTime": {
     "end_time": "2020-01-29T22:54:08.497099Z",
     "start_time": "2020-01-29T22:54:08.306179Z"
    },
    "hidden": true
   },
   "outputs": [],
   "source": [
    "!ls {first_dicom}"
   ]
  },
  {
   "cell_type": "code",
   "execution_count": null,
   "metadata": {
    "ExecuteTime": {
     "end_time": "2020-01-29T22:54:09.961215Z",
     "start_time": "2020-01-29T22:54:09.771173Z"
    },
    "hidden": true
   },
   "outputs": [],
   "source": [
    "!pwd"
   ]
  },
  {
   "cell_type": "code",
   "execution_count": null,
   "metadata": {
    "ExecuteTime": {
     "end_time": "2020-01-29T22:54:20.815606Z",
     "start_time": "2020-01-29T22:54:20.643774Z"
    },
    "hidden": true
   },
   "outputs": [],
   "source": [
    "dcm2niix_cmd = f\"dcm2niix -v 2 -s y -f {ref_vol_name} -z y -o {out_dir} {first_dicom}\"\n",
    "print(dcm2niix_cmd)\n",
    "os.system(dcm2niix_cmd)"
   ]
  },
  {
   "cell_type": "code",
   "execution_count": null,
   "metadata": {
    "ExecuteTime": {
     "end_time": "2020-01-25T20:47:03.276428Z",
     "start_time": "2020-01-25T20:47:03.093980Z"
    },
    "hidden": true
   },
   "outputs": [],
   "source": [
    "!ls {out_dir}"
   ]
  },
  {
   "cell_type": "markdown",
   "metadata": {
    "heading_collapsed": true
   },
   "source": [
    "#### mcflirt the bold files using ref_vol as the reference image, save them as _preproc"
   ]
  },
  {
   "cell_type": "code",
   "execution_count": null,
   "metadata": {
    "ExecuteTime": {
     "end_time": "2020-01-27T20:01:49.922292Z",
     "start_time": "2020-01-27T20:01:48.627760Z"
    },
    "hidden": true
   },
   "outputs": [],
   "source": [
    "from bids import BIDSLayout\n",
    "raw_layout = BIDSLayout(raw_data_dir, validate=False, derivatives=False)\n",
    "raw_bolds = sorted([f for f in raw_layout.get(subject=sub, session=ses, suffix='bold',\n",
    "            extension=['nii.gz'], return_type='file')])"
   ]
  },
  {
   "cell_type": "code",
   "execution_count": null,
   "metadata": {
    "ExecuteTime": {
     "end_time": "2020-01-27T20:01:51.006474Z",
     "start_time": "2020-01-27T20:01:50.940631Z"
    },
    "hidden": true
   },
   "outputs": [],
   "source": [
    "print(\"\\n\".join(raw_bolds))"
   ]
  },
  {
   "cell_type": "code",
   "execution_count": null,
   "metadata": {
    "ExecuteTime": {
     "end_time": "2020-01-27T20:16:55.516992Z",
     "start_time": "2020-01-27T20:12:48.776666Z"
    },
    "code_folding": [],
    "hidden": true
   },
   "outputs": [],
   "source": [
    "ref_vol_path = os.path.join(out_dir, ref_vol_name)\n",
    "for this_epi in raw_bolds:\n",
    "    epi_name = os.path.basename(this_epi)\n",
    "    epi_stub = epi_name.split('.')[0]\n",
    "    epi_stub_parts = epi_stub.split('_')\n",
    "    epi_stub_parts.insert(-1, 'desc-preproc')\n",
    "    epi_stub_mcf = '_'.join(epi_stub_parts)\n",
    "    full_outpath = os.path.join(out_dir, f\"sub-{sub}\", f\"ses-{ses}\", \"func\", epi_stub_mcf)\n",
    "    mcflirt_cmd = f\"mcflirt -reffile {ref_vol_path} -plots -report -cost mutualinfo -smooth 16 -in {this_epi} -o {full_outpath}\"\n",
    "    print(mcflirt_cmd)\n",
    "    os.system(mcflirt_cmd)"
   ]
  },
  {
   "cell_type": "code",
   "execution_count": null,
   "metadata": {
    "ExecuteTime": {
     "end_time": "2020-01-27T20:11:41.034878Z",
     "start_time": "2020-01-27T20:11:40.834512Z"
    },
    "hidden": true
   },
   "outputs": [],
   "source": [
    "!ls /Users/smerdis/data/LGN/BIDS/NB_20191221_odd/derivatives/streams/sub-NB/ses-20191221/func/"
   ]
  },
  {
   "cell_type": "markdown",
   "metadata": {
    "heading_collapsed": true
   },
   "source": [
    "#### Move event and json files"
   ]
  },
  {
   "cell_type": "code",
   "execution_count": null,
   "metadata": {
    "ExecuteTime": {
     "end_time": "2020-01-27T19:19:32.675087Z",
     "start_time": "2020-01-27T19:19:32.623862Z"
    },
    "hidden": true
   },
   "outputs": [],
   "source": [
    "events_glob = f\"{raw_data_dir}/ses-{ses}/func/*events*.tsv\"\n",
    "print(\"\\n\".join(glob.glob(events_glob)))\n",
    "task_json_glob = f\"{raw_data_dir}/ses-{ses}/func/*task*json\"\n",
    "print(\"\\n\".join(glob.glob(task_json_glob)))"
   ]
  },
  {
   "cell_type": "markdown",
   "metadata": {
    "heading_collapsed": true
   },
   "source": [
    "### Write hemifield event files (they are all identical)"
   ]
  },
  {
   "cell_type": "code",
   "execution_count": null,
   "metadata": {
    "ExecuteTime": {
     "end_time": "2020-01-27T19:15:15.775666Z",
     "start_time": "2020-01-27T19:15:15.715528Z"
    },
    "hidden": true
   },
   "outputs": [],
   "source": [
    "utils.write_hemifield_localizer_event_file(f\"{raw_data_dir}/ses-{ses}/func/sub-{sub}_ses-{ses}_task-hemi_run-01_events.tsv\")\n",
    "utils.write_hemifield_localizer_event_file(f\"{raw_data_dir}/ses-{ses}/func/sub-{sub}_ses-{ses}_task-hemi_run-02_events.tsv\")"
   ]
  },
  {
   "cell_type": "code",
   "execution_count": null,
   "metadata": {
    "ExecuteTime": {
     "end_time": "2020-01-27T19:15:26.708255Z",
     "start_time": "2020-01-27T19:15:26.528457Z"
    },
    "hidden": true
   },
   "outputs": [],
   "source": [
    "!cat /Users/smerdis/data/LGN/BIDS/NB_20191221_odd/sub-NB/ses-20191221/func/sub-NB_ses-20191221_task-hemi_run-02_events.tsv\n"
   ]
  },
  {
   "cell_type": "code",
   "execution_count": null,
   "metadata": {
    "ExecuteTime": {
     "end_time": "2020-01-24T21:48:08.043327Z",
     "start_time": "2020-01-24T21:48:07.983094Z"
    },
    "code_folding": [
     0
    ],
    "hidden": true
   },
   "outputs": [],
   "source": [
    "for e in glob.glob(events_glob):\n",
    "    fileparts = op.split(e)[-1].split('_')[:-1]\n",
    "    fileparts[0] = f\"sub-{sub}\"\n",
    "    #runpart = fileparts[-2]\n",
    "    #print('_'.join(fileparts), fileparts[-2])\n",
    "    fn = '_'.join(fileparts)\n",
    "    new_file_name = f\"{raw_data_dir}/ses-{ses}/func/{fn}.tsv\"\n",
    "    print(e, new_file_name, sep=\"\\n\")\n",
    "    #shutil.copyfile(e, new_file_name)"
   ]
  },
  {
   "cell_type": "code",
   "execution_count": null,
   "metadata": {
    "ExecuteTime": {
     "end_time": "2019-12-03T19:40:16.653586Z",
     "start_time": "2019-12-03T19:40:16.584357Z"
    },
    "code_folding": [
     1
    ],
    "hidden": true
   },
   "outputs": [],
   "source": [
    "\n",
    "for e in glob.glob(task_json_glob):\n",
    "    fn = os.path.split(e)[-1]\n",
    "    new_file_name = f\"{raw_data_dir}/ses-{ses}/func/{fn}\"\n",
    "    print(e, new_file_name, sep=\"\\n\")\n",
    "    #shutil.copyfile(e, new_file_name)"
   ]
  },
  {
   "cell_type": "code",
   "execution_count": null,
   "metadata": {
    "hidden": true
   },
   "outputs": [],
   "source": []
  },
  {
   "cell_type": "code",
   "execution_count": null,
   "metadata": {
    "ExecuteTime": {
     "end_time": "2020-01-27T19:17:02.994282Z",
     "start_time": "2020-01-27T19:17:02.936705Z"
    },
    "code_folding": [],
    "hidden": true
   },
   "outputs": [],
   "source": [
    "blocks_in_order = ['L', 'R']\n",
    "for thisrun in [1]:\n",
    "    events_fn = f\"{raw_data_dir}/ses-{ses}/func/sub-{sub}_ses-{ses}_task-hemi_run-{thisrun:02d}_events.tsv\"\n",
    "    events_file_contents = f\"onset\\tduration\\ttrial_type\\n\"\n",
    "    time_between_onsets = 13.5\n",
    "    for i in range(22):\n",
    "        events_file_contents += f\"{i*time_between_onsets:.2f}\\t{time_between_onsets}\\t{blocks_in_order[i%(len(blocks_in_order))]}\\n\"\n",
    "    #with open(events_fn, 'w') as f:\n",
    "        #f.write(events_file_contents)\n",
    "    print(events_fn, '\\n', events_file_contents)"
   ]
  },
  {
   "cell_type": "markdown",
   "metadata": {},
   "source": [
    "## GLM invocation from a cell"
   ]
  },
  {
   "cell_type": "code",
   "execution_count": null,
   "metadata": {
    "ExecuteTime": {
     "end_time": "2020-02-13T23:14:07.439298Z",
     "start_time": "2020-02-13T23:13:10.103695Z"
    }
   },
   "outputs": [],
   "source": [
    "hemi_workdir = utils.run_fixedeffects_glm(sub, ses, \"hemi\", [1, 2], raw_data_dir, out_dir)"
   ]
  },
  {
   "cell_type": "code",
   "execution_count": null,
   "metadata": {
    "ExecuteTime": {
     "end_time": "2020-02-13T23:14:07.652171Z",
     "start_time": "2020-02-13T23:14:07.443298Z"
    }
   },
   "outputs": [],
   "source": [
    "hemi_datasink = f\"{hemi_workdir}/fixedeffects/modelfit/datasink\"\n",
    "print(hemi_workdir, hemi_datasink, sep=\"\\n\")\n",
    "!ls {hemi_datasink}"
   ]
  },
  {
   "cell_type": "code",
   "execution_count": null,
   "metadata": {
    "ExecuteTime": {
     "end_time": "2020-02-13T23:15:32.866606Z",
     "start_time": "2020-02-13T23:14:07.657786Z"
    }
   },
   "outputs": [],
   "source": [
    "mp_workdir = utils.run_fixedeffects_glm(sub, ses, \"mp\", [1, 2, 3, 4, 5, 6, 7, 8], raw_data_dir, out_dir)"
   ]
  },
  {
   "cell_type": "code",
   "execution_count": null,
   "metadata": {
    "ExecuteTime": {
     "end_time": "2020-02-13T23:15:33.061847Z",
     "start_time": "2020-02-13T23:15:32.870904Z"
    }
   },
   "outputs": [],
   "source": [
    "mp_datasink = f\"{mp_workdir}/fixedeffects/modelfit/datasink\"\n",
    "print(mp_workdir, mp_datasink, sep=\"\\n\")\n",
    "!ls {mp_datasink}"
   ]
  },
  {
   "cell_type": "code",
   "execution_count": null,
   "metadata": {
    "ExecuteTime": {
     "end_time": "2020-02-13T23:15:33.135039Z",
     "start_time": "2020-02-13T23:15:33.065233Z"
    }
   },
   "outputs": [],
   "source": [
    "hemi_RL_l1, hemi_RL_l2 = utils.get_model_outputs(hemi_datasink, [3])\n",
    "hemi_LR_l1, hemi_LR_l2 = utils.get_model_outputs(hemi_datasink, [4])\n",
    "mp_l1, mp_l2 = utils.get_model_outputs(mp_datasink, [3])\n",
    "pm_l1, pm_l2 = utils.get_model_outputs(mp_datasink, [4])"
   ]
  },
  {
   "cell_type": "code",
   "execution_count": null,
   "metadata": {
    "ExecuteTime": {
     "end_time": "2020-02-13T23:15:33.191317Z",
     "start_time": "2020-02-13T23:15:33.137450Z"
    }
   },
   "outputs": [],
   "source": [
    "print(f\"fsleyes {ref_vol_path} {anat_file} {hemi_LR_l2[0]} {hemi_RL_l2[0]} {mp_l2[0]} {pm_l2[0]}\")"
   ]
  },
  {
   "cell_type": "code",
   "execution_count": null,
   "metadata": {
    "ExecuteTime": {
     "end_time": "2020-02-13T23:15:33.248150Z",
     "start_time": "2020-02-13T23:15:33.194820Z"
    }
   },
   "outputs": [],
   "source": [
    "beta_RL = hemi_RL_l2[0]\n",
    "beta_LR = hemi_LR_l2[0]\n",
    "beta_MP = mp_l2[0]\n",
    "beta_PM = pm_l2[0]"
   ]
  },
  {
   "cell_type": "code",
   "execution_count": null,
   "metadata": {
    "ExecuteTime": {
     "end_time": "2020-02-13T23:15:33.307674Z",
     "start_time": "2020-02-13T23:15:33.251573Z"
    }
   },
   "outputs": [],
   "source": [
    "beta_RL, beta_MP"
   ]
  },
  {
   "cell_type": "markdown",
   "metadata": {
    "heading_collapsed": true
   },
   "source": [
    "### Viewing and cutting etc"
   ]
  },
  {
   "cell_type": "code",
   "execution_count": null,
   "metadata": {
    "ExecuteTime": {
     "end_time": "2020-02-10T22:13:16.884737Z",
     "start_time": "2020-02-10T22:13:16.829850Z"
    },
    "hidden": true
   },
   "outputs": [],
   "source": [
    "cut = (-17, -3, 1)"
   ]
  },
  {
   "cell_type": "code",
   "execution_count": null,
   "metadata": {
    "ExecuteTime": {
     "end_time": "2020-02-10T22:13:20.340155Z",
     "start_time": "2020-02-10T22:13:20.157099Z"
    },
    "hidden": true
   },
   "outputs": [],
   "source": [
    "beta_RL_val = threshold_img(beta_RL, threshold=4.0)"
   ]
  },
  {
   "cell_type": "code",
   "execution_count": null,
   "metadata": {
    "ExecuteTime": {
     "end_time": "2020-02-10T22:13:59.417911Z",
     "start_time": "2020-02-10T22:13:58.599223Z"
    },
    "hidden": true
   },
   "outputs": [],
   "source": [
    "view_img(beta_RL_val, bg_img=ref_vol_path, cut_coords=cut)"
   ]
  },
  {
   "cell_type": "code",
   "execution_count": null,
   "metadata": {
    "ExecuteTime": {
     "end_time": "2020-02-10T22:14:07.116224Z",
     "start_time": "2020-02-10T22:14:07.060227Z"
    },
    "hidden": true
   },
   "outputs": [],
   "source": [
    "np.count_nonzero(beta_RL_val.dataobj)"
   ]
  },
  {
   "cell_type": "code",
   "execution_count": null,
   "metadata": {
    "ExecuteTime": {
     "end_time": "2020-01-31T22:36:54.304522Z",
     "start_time": "2020-01-31T22:36:52.265691Z"
    },
    "hidden": true
   },
   "outputs": [],
   "source": [
    "from nilearn.regions import connected_regions\n",
    "\n",
    "regions_value_img, index = connected_regions(beta_RL_val,\n",
    "                                             min_region_size=1500)\n",
    "title = (\"ROIs using image intensity thresholding. \"\n",
    "         \"\\n Each ROI in same color is an extracted region\")\n",
    "plotting.plot_prob_atlas(regions_value_img, bg_img=ref_vol_path,\n",
    "                         view_type='auto', display_mode='z',\n",
    "                         cut_coords=5, title=title)\n",
    "plotting.show()"
   ]
  },
  {
   "cell_type": "markdown",
   "metadata": {
    "heading_collapsed": true
   },
   "source": [
    "### Use BIDSLayout to get files that would be passed to workflow"
   ]
  },
  {
   "cell_type": "code",
   "execution_count": null,
   "metadata": {
    "ExecuteTime": {
     "end_time": "2020-02-10T23:10:12.085392Z",
     "start_time": "2020-02-10T23:10:11.962987Z"
    },
    "hidden": true
   },
   "outputs": [],
   "source": []
  },
  {
   "cell_type": "code",
   "execution_count": null,
   "metadata": {
    "ExecuteTime": {
     "end_time": "2020-02-10T23:10:15.113614Z",
     "start_time": "2020-02-10T23:10:15.054871Z"
    },
    "hidden": true
   },
   "outputs": [],
   "source": [
    "anat_file"
   ]
  },
  {
   "cell_type": "code",
   "execution_count": null,
   "metadata": {
    "ExecuteTime": {
     "end_time": "2020-01-27T20:30:57.895493Z",
     "start_time": "2020-01-27T20:30:57.826363Z"
    },
    "hidden": true
   },
   "outputs": [],
   "source": [
    "bolds = sorted(preproc_layout.get(subject=sub, session=ses, task=task, extension=['nii.gz'],\n",
    "                           desc=\"preproc\", return_type='file'))\n",
    "print(bolds)"
   ]
  },
  {
   "cell_type": "code",
   "execution_count": null,
   "metadata": {
    "ExecuteTime": {
     "end_time": "2020-01-27T20:30:59.575337Z",
     "start_time": "2020-01-27T20:30:59.519850Z"
    },
    "code_folding": [],
    "hidden": true
   },
   "outputs": [],
   "source": [
    "#masks = sorted([f for f in preproc_layout.get(subject=sub, suffix='mask',\n",
    "#            session=ses, run=[], extension=['nii.gz'], return_type='file')])\n",
    "\n",
    "masks = [mask_file]*2"
   ]
  },
  {
   "cell_type": "code",
   "execution_count": null,
   "metadata": {
    "ExecuteTime": {
     "end_time": "2020-01-27T20:31:00.791276Z",
     "start_time": "2020-01-27T20:31:00.732209Z"
    },
    "hidden": true
   },
   "outputs": [],
   "source": [
    "masks"
   ]
  },
  {
   "cell_type": "code",
   "execution_count": null,
   "metadata": {
    "ExecuteTime": {
     "end_time": "2020-01-27T20:31:12.062677Z",
     "start_time": "2020-01-27T20:31:11.880520Z"
    },
    "hidden": true
   },
   "outputs": [],
   "source": [
    "!ls {masks[0]}"
   ]
  },
  {
   "cell_type": "code",
   "execution_count": null,
   "metadata": {
    "ExecuteTime": {
     "end_time": "2020-01-27T20:31:15.126182Z",
     "start_time": "2020-01-27T20:31:14.841072Z"
    },
    "hidden": true
   },
   "outputs": [],
   "source": [
    "raw_bolds = raw_layout.get(subject=sub, suffix=\"bold\",\n",
    "                           task=task, session=ses, run=runs, extension=['nii.gz'], return_type='file')"
   ]
  },
  {
   "cell_type": "code",
   "execution_count": null,
   "metadata": {
    "ExecuteTime": {
     "end_time": "2020-01-27T20:31:15.288795Z",
     "start_time": "2020-01-27T20:31:15.232281Z"
    },
    "hidden": true
   },
   "outputs": [],
   "source": [
    "raw_bolds"
   ]
  },
  {
   "cell_type": "code",
   "execution_count": null,
   "metadata": {
    "ExecuteTime": {
     "end_time": "2020-01-25T21:45:14.487659Z",
     "start_time": "2020-01-25T21:45:13.395484Z"
    },
    "hidden": true
   },
   "outputs": [],
   "source": [
    "raw_layout.get_tr(raw_bolds[0])"
   ]
  },
  {
   "cell_type": "code",
   "execution_count": null,
   "metadata": {
    "ExecuteTime": {
     "end_time": "2020-01-25T21:45:17.015356Z",
     "start_time": "2020-01-25T21:45:15.340490Z"
    },
    "hidden": true
   },
   "outputs": [],
   "source": [
    "TRs = [raw_layout.get_tr(f) for f in raw_bolds]"
   ]
  },
  {
   "cell_type": "code",
   "execution_count": null,
   "metadata": {
    "ExecuteTime": {
     "end_time": "2020-01-25T21:45:17.543931Z",
     "start_time": "2020-01-25T21:45:17.462516Z"
    },
    "hidden": true
   },
   "outputs": [],
   "source": [
    "print(TRs)\n",
    "assert TRs.count(TRs[0])==len(TRs)"
   ]
  },
  {
   "cell_type": "markdown",
   "metadata": {
    "heading_collapsed": true
   },
   "source": [
    "### Use the actual utils.py function"
   ]
  },
  {
   "cell_type": "code",
   "execution_count": null,
   "metadata": {
    "ExecuteTime": {
     "end_time": "2020-02-13T23:16:19.386723Z",
     "start_time": "2020-02-13T23:16:11.672124Z"
    },
    "hidden": true
   },
   "outputs": [],
   "source": [
    "bolds, masks, eventfiles, TR, confounds = utils.get_files(sub, ses, \"mp\",\n",
    "    raw_data_dir, out_dir, run=[1, 2, 3, 4, 5, 6, 7, 8])"
   ]
  },
  {
   "cell_type": "markdown",
   "metadata": {
    "collapsed": true
   },
   "source": [
    "## Coherence analysis to identify LGN voxels responding at flicker frequency"
   ]
  },
  {
   "cell_type": "markdown",
   "metadata": {
    "heading_collapsed": true
   },
   "source": [
    "### raw nibabel"
   ]
  },
  {
   "cell_type": "code",
   "execution_count": null,
   "metadata": {
    "hidden": true
   },
   "outputs": [],
   "source": [
    "img = nib.load(bold_file)"
   ]
  },
  {
   "cell_type": "code",
   "execution_count": null,
   "metadata": {
    "hidden": true
   },
   "outputs": [],
   "source": [
    "print(img.header)"
   ]
  },
  {
   "cell_type": "code",
   "execution_count": null,
   "metadata": {
    "hidden": true
   },
   "outputs": [],
   "source": [
    "img_data = img.get_fdata()"
   ]
  },
  {
   "cell_type": "code",
   "execution_count": null,
   "metadata": {
    "hidden": true
   },
   "outputs": [],
   "source": [
    "plt.imshow(img_data[26, :, :, 44].T, cmap=\"gray\", origin=\"lower\")"
   ]
  },
  {
   "cell_type": "code",
   "execution_count": null,
   "metadata": {
    "hidden": true
   },
   "outputs": [],
   "source": [
    "nvox = img.shape[0] * img.shape[1] * img.shape[2]"
   ]
  },
  {
   "cell_type": "code",
   "execution_count": null,
   "metadata": {
    "hidden": true
   },
   "outputs": [],
   "source": [
    "n_timepoints = img.shape[-1]"
   ]
  },
  {
   "cell_type": "code",
   "execution_count": null,
   "metadata": {
    "hidden": true
   },
   "outputs": [],
   "source": [
    "print(nvox, n_timepoints)"
   ]
  },
  {
   "cell_type": "code",
   "execution_count": null,
   "metadata": {
    "hidden": true
   },
   "outputs": [],
   "source": [
    "img_flat = np.reshape(img_data, (nvox, -1))"
   ]
  },
  {
   "cell_type": "code",
   "execution_count": null,
   "metadata": {
    "hidden": true
   },
   "outputs": [],
   "source": [
    "img_flat[:10, 0]"
   ]
  },
  {
   "cell_type": "code",
   "execution_count": null,
   "metadata": {
    "hidden": true
   },
   "outputs": [],
   "source": [
    "#TR = 2.25 # seconds\n",
    "freq = 4 # Hz\n",
    "total_len = img.shape[-1]*TR # seconds\n",
    "fig, ax = plt.subplots(1)\n",
    "t = np.arange(0.0, total_len, 0.05)\n",
    "sinusoid = np.sin(freq*2*np.pi*t)\n",
    "print(sinusoid.shape)\n",
    "\n",
    "ax.set_xlim(0, 8)\n",
    "ax.plot(t, sinusoid)"
   ]
  },
  {
   "cell_type": "code",
   "execution_count": null,
   "metadata": {
    "hidden": true
   },
   "outputs": [],
   "source": [
    "2.25*139"
   ]
  },
  {
   "cell_type": "markdown",
   "metadata": {
    "heading_collapsed": true
   },
   "source": [
    "### Begin coherence analysis in nitime"
   ]
  },
  {
   "cell_type": "code",
   "execution_count": null,
   "metadata": {
    "ExecuteTime": {
     "end_time": "2020-01-27T20:31:23.850154Z",
     "start_time": "2020-01-27T20:31:23.781894Z"
    },
    "code_folding": [
     0
    ],
    "hidden": true
   },
   "outputs": [],
   "source": [
    "#run = 2\n",
    "if TRs:\n",
    "    TR = TRs[0]\n",
    "else:\n",
    "    TR = 2.25\n",
    "#bold_file = f\"/Users/smerdis/data/LGN/BIDS/AV_20111117_fromRD/derivatives/RD_preproc/sub-AV/ses-20111117/func/sub-AV_ses-20111117_task-hemi_run-{run:02d}_desc-preproc_bold.nii.gz\""
   ]
  },
  {
   "cell_type": "code",
   "execution_count": null,
   "metadata": {
    "ExecuteTime": {
     "end_time": "2020-01-27T20:34:21.626664Z",
     "start_time": "2020-01-27T20:34:21.366456Z"
    },
    "hidden": true
   },
   "outputs": [],
   "source": [
    "cycle_duration = 27 # (should be 27s)\n",
    "hemi_freq = (1.0/cycle_duration) # of hemifield alternation, in hertz\n",
    "n_trs_func = 139 # Length, in TRs, on a functional scan\n",
    "total_len = n_trs_func*TR # seconds\n",
    "Fs = 1/TR # Sampling freq\n",
    "trs_exc_beg = 6\n",
    "trs_exc_end = 1\n",
    "nperseg = n_trs_func - trs_exc_beg - trs_exc_end\n",
    "\n",
    "f_lb = 0.02\n",
    "f_ub = 0.15\n",
    "\n",
    "print(hemi_freq)\n",
    "\n",
    "t = np.arange(0.0, total_len, TR)\n",
    "t_trim = np.arange((trs_exc_beg-1)*TR, (total_len - trs_exc_beg - trs_exc_end)+1, TR)\n",
    "hemifield_alternation_sinusoid = np.sin(hemi_freq*2*np.pi*t)\n",
    "hemi_alt_trim = hemifield_alternation_sinusoid[trs_exc_beg:(-1*trs_exc_end)]\n",
    "print(t, hemifield_alternation_sinusoid.shape)\n",
    "\n",
    "fig, ax = plt.subplots(1)\n",
    "ax.set_xlim(0, 50)\n",
    "ax.plot(t, hemifield_alternation_sinusoid)\n",
    "ax.plot(t_trim, hemi_alt_trim)"
   ]
  },
  {
   "cell_type": "markdown",
   "metadata": {
    "heading_collapsed": true,
    "hidden": true
   },
   "source": [
    "#### average the runs"
   ]
  },
  {
   "cell_type": "code",
   "execution_count": null,
   "metadata": {
    "ExecuteTime": {
     "end_time": "2020-01-27T20:31:31.246207Z",
     "start_time": "2020-01-27T20:31:31.189935Z"
    },
    "hidden": true
   },
   "outputs": [],
   "source": [
    "masker = NiftiMasker(detrend=False, standardize=\"psc\", mask_strategy=\"epi\", high_pass=f_lb, low_pass=f_ub, t_r=TR) # "
   ]
  },
  {
   "cell_type": "code",
   "execution_count": null,
   "metadata": {
    "ExecuteTime": {
     "end_time": "2020-01-27T20:31:34.349183Z",
     "start_time": "2020-01-27T20:31:33.400197Z"
    },
    "hidden": true
   },
   "outputs": [],
   "source": [
    "masker.fit(bolds[0])"
   ]
  },
  {
   "cell_type": "code",
   "execution_count": null,
   "metadata": {
    "ExecuteTime": {
     "end_time": "2020-01-27T20:31:36.296698Z",
     "start_time": "2020-01-27T20:31:36.241446Z"
    },
    "hidden": true
   },
   "outputs": [],
   "source": [
    "print(mask_file)"
   ]
  },
  {
   "cell_type": "code",
   "execution_count": null,
   "metadata": {
    "ExecuteTime": {
     "end_time": "2020-01-27T20:31:43.223926Z",
     "start_time": "2020-01-27T20:31:43.041744Z"
    },
    "hidden": true
   },
   "outputs": [],
   "source": [
    "!ls {mask_file}"
   ]
  },
  {
   "cell_type": "code",
   "execution_count": null,
   "metadata": {
    "ExecuteTime": {
     "end_time": "2020-01-27T20:31:47.245433Z",
     "start_time": "2020-01-27T20:31:47.172284Z"
    },
    "hidden": true
   },
   "outputs": [],
   "source": [
    "masker.mask_img_.to_filename(mask_file)"
   ]
  },
  {
   "cell_type": "code",
   "execution_count": null,
   "metadata": {
    "ExecuteTime": {
     "end_time": "2020-01-27T20:31:48.188187Z",
     "start_time": "2020-01-27T20:31:48.129585Z"
    },
    "hidden": true
   },
   "outputs": [],
   "source": [
    "mask_img = masker.mask_img_\n",
    "mask_img.shape"
   ]
  },
  {
   "cell_type": "code",
   "execution_count": null,
   "metadata": {
    "ExecuteTime": {
     "end_time": "2020-01-25T21:46:32.630821Z",
     "start_time": "2020-01-25T21:45:55.534961Z"
    },
    "hidden": true
   },
   "outputs": [],
   "source": [
    "mean_bold_timeseries = utils.average_timeseries(bolds, masker)"
   ]
  },
  {
   "cell_type": "code",
   "execution_count": null,
   "metadata": {
    "ExecuteTime": {
     "end_time": "2020-01-25T21:46:32.754830Z",
     "start_time": "2020-01-25T21:46:32.633525Z"
    },
    "hidden": true
   },
   "outputs": [],
   "source": [
    "mean_bold_timeseries.shape"
   ]
  },
  {
   "cell_type": "code",
   "execution_count": null,
   "metadata": {
    "ExecuteTime": {
     "end_time": "2020-01-25T21:46:32.953427Z",
     "start_time": "2020-01-25T21:46:32.768388Z"
    },
    "hidden": true
   },
   "outputs": [],
   "source": [
    "mean_bold_timeseries[:5, :5]"
   ]
  },
  {
   "cell_type": "code",
   "execution_count": null,
   "metadata": {
    "ExecuteTime": {
     "end_time": "2020-01-25T21:46:33.124683Z",
     "start_time": "2020-01-25T21:46:32.970857Z"
    },
    "hidden": true
   },
   "outputs": [],
   "source": [
    "hemi_ts = ts.TimeSeries(data=hemifield_alternation_sinusoid,\n",
    "                         sampling_interval=TR)\n",
    "hemi_ts_trim = ts.TimeSeries(data=hemi_alt_trim,\n",
    "                         sampling_interval=TR)"
   ]
  },
  {
   "cell_type": "code",
   "execution_count": null,
   "metadata": {
    "ExecuteTime": {
     "end_time": "2020-01-25T21:46:33.240994Z",
     "start_time": "2020-01-25T21:46:33.127744Z"
    },
    "hidden": true
   },
   "outputs": [],
   "source": [
    "hemi_ts.shape, hemi_ts_trim.shape"
   ]
  },
  {
   "cell_type": "code",
   "execution_count": null,
   "metadata": {
    "ExecuteTime": {
     "end_time": "2020-01-25T21:46:33.378887Z",
     "start_time": "2020-01-25T21:46:33.252817Z"
    },
    "hidden": true
   },
   "outputs": [],
   "source": [
    "mean_bold_timeseries.shape"
   ]
  },
  {
   "cell_type": "code",
   "execution_count": null,
   "metadata": {
    "ExecuteTime": {
     "end_time": "2020-01-25T21:46:33.506888Z",
     "start_time": "2020-01-25T21:46:33.390924Z"
    },
    "hidden": true
   },
   "outputs": [],
   "source": [
    "trim_bold_nm = mean_bold_timeseries[trs_exc_beg:(-1*trs_exc_end),:] # note we are using the mean of the two runs\n",
    "trim_bold_nm.shape"
   ]
  },
  {
   "cell_type": "markdown",
   "metadata": {
    "heading_collapsed": true
   },
   "source": [
    "### begin coherence stuff"
   ]
  },
  {
   "cell_type": "markdown",
   "metadata": {
    "heading_collapsed": true,
    "hidden": true
   },
   "source": [
    "#### dummy stuff to see how coherence works"
   ]
  },
  {
   "cell_type": "code",
   "execution_count": null,
   "metadata": {
    "hidden": true
   },
   "outputs": [],
   "source": [
    "timepad = np.pad(hemifield_alternation_sinusoid, (3,0), 'constant',\n",
    "                 constant_values=(0,0))[:hemifield_alternation_sinusoid.shape[0]]\n",
    "timepad2 = np.pad(hemifield_alternation_sinusoid, (6,0), 'constant',\n",
    "                 constant_values=(0,0))[:hemifield_alternation_sinusoid.shape[0]]\n",
    "timepad3 = np.pad(hemifield_alternation_sinusoid, (8,0), 'constant',\n",
    "                 constant_values=(0,0))[:hemifield_alternation_sinusoid.shape[0]]"
   ]
  },
  {
   "cell_type": "code",
   "execution_count": null,
   "metadata": {
    "hidden": true
   },
   "outputs": [],
   "source": [
    "fig, ax = plt.subplots(1)\n",
    "ax.set_xlim(0, 50)\n",
    "ax.plot(t, hemifield_alternation_sinusoid)\n",
    "ax.plot(t, timepad)\n",
    "ax.plot(t, timepad2)\n",
    "ax.plot(t, timepad3)"
   ]
  },
  {
   "cell_type": "markdown",
   "metadata": {
    "hidden": true
   },
   "source": [
    "#### analyze the real fmri data"
   ]
  },
  {
   "cell_type": "code",
   "execution_count": null,
   "metadata": {
    "ExecuteTime": {
     "end_time": "2020-01-25T21:46:54.173654Z",
     "start_time": "2020-01-25T21:46:54.090107Z"
    },
    "hidden": true
   },
   "outputs": [],
   "source": [
    "masked_ts_flat = trim_bold_nm.T # want nvox, n_tp so transpose NiftiMasker result\n",
    "#demean_ts_flat = demean.T"
   ]
  },
  {
   "cell_type": "code",
   "execution_count": null,
   "metadata": {
    "ExecuteTime": {
     "end_time": "2020-01-25T21:46:55.173627Z",
     "start_time": "2020-01-25T21:46:54.769268Z"
    },
    "hidden": true
   },
   "outputs": [],
   "source": [
    "t=t_trim\n",
    "print(t)\n",
    "fig, ax = plt.subplots(1)\n",
    "ax.set_xlim(0, 315)\n",
    "ax.plot(t, hemi_alt_trim)\n",
    "ax.plot(t, masked_ts_flat[32, :])\n",
    "ax.plot(t, masked_ts_flat[3222, :])\n",
    "ax.plot(t, masked_ts_flat[11513, :])\n",
    "#ax.plot(t, masked_ts_flat[546434, :])"
   ]
  },
  {
   "cell_type": "markdown",
   "metadata": {
    "hidden": true
   },
   "source": [
    "#### SpectralAnalyzer"
   ]
  },
  {
   "cell_type": "code",
   "execution_count": null,
   "metadata": {
    "ExecuteTime": {
     "end_time": "2020-01-25T22:02:36.952234Z",
     "start_time": "2020-01-25T22:02:36.888222Z"
    },
    "hidden": true
   },
   "outputs": [],
   "source": [
    "bold_flat = ts.TimeSeries(masked_ts_flat[:, :], sampling_interval=TR)\n",
    "#bold_flat = ts.TimeSeries(demean_ts_flat[:, :], sampling_interval=TR)"
   ]
  },
  {
   "cell_type": "code",
   "execution_count": null,
   "metadata": {
    "ExecuteTime": {
     "end_time": "2020-01-25T22:02:38.069988Z",
     "start_time": "2020-01-25T22:02:38.011655Z"
    },
    "hidden": true
   },
   "outputs": [],
   "source": [
    "bold_flat.sampling_rate"
   ]
  },
  {
   "cell_type": "code",
   "execution_count": null,
   "metadata": {
    "ExecuteTime": {
     "end_time": "2020-01-25T22:02:39.201494Z",
     "start_time": "2020-01-25T22:02:39.143636Z"
    },
    "hidden": true
   },
   "outputs": [],
   "source": [
    "bold_flat.shape"
   ]
  },
  {
   "cell_type": "code",
   "execution_count": null,
   "metadata": {
    "ExecuteTime": {
     "end_time": "2020-01-25T22:02:40.706289Z",
     "start_time": "2020-01-25T22:02:40.649448Z"
    },
    "hidden": true
   },
   "outputs": [],
   "source": [
    "assert(nperseg == masked_ts_flat.shape[-1])"
   ]
  },
  {
   "cell_type": "code",
   "execution_count": null,
   "metadata": {
    "ExecuteTime": {
     "end_time": "2020-01-25T22:02:50.450195Z",
     "start_time": "2020-01-25T22:02:50.389360Z"
    },
    "hidden": true
   },
   "outputs": [],
   "source": [
    "S_original = nta.SpectralAnalyzer(bold_flat, method={'this_method':'welch', 'NFFT':nperseg, 'Fs':bold_flat.sampling_rate})"
   ]
  },
  {
   "cell_type": "code",
   "execution_count": null,
   "metadata": {
    "ExecuteTime": {
     "end_time": "2020-01-25T22:02:52.222448Z",
     "start_time": "2020-01-25T22:02:52.145026Z"
    },
    "hidden": true
   },
   "outputs": [],
   "source": [
    "print(S_original)"
   ]
  },
  {
   "cell_type": "code",
   "execution_count": null,
   "metadata": {
    "ExecuteTime": {
     "end_time": "2020-01-25T22:02:53.630910Z",
     "start_time": "2020-01-25T22:02:53.570465Z"
    },
    "hidden": true
   },
   "outputs": [],
   "source": [
    "def plot_spectra(S_original, voxid):\n",
    "    fig01 = plt.figure()\n",
    "    ax01 = fig01.add_subplot(1, 1, 1)\n",
    "    ax01.plot(S_original.psd[0],\n",
    "              S_original.psd[1][voxid],\n",
    "              label='Welch PSD')\n",
    "    print(S_original.psd[0], S_original.psd[1], len(S_original.psd[1]))\n",
    "\n",
    "    ax01.plot(S_original.spectrum_fourier[0],\n",
    "              np.abs(S_original.spectrum_fourier[1][voxid]),\n",
    "              label='FFT')\n",
    "    \n",
    "    ax01.set_xlabel('Frequency (Hz)')\n",
    "    ax01.set_ylabel('Power')\n",
    "\n",
    "    ax01.legend()"
   ]
  },
  {
   "cell_type": "code",
   "execution_count": null,
   "metadata": {
    "ExecuteTime": {
     "end_time": "2020-01-25T22:02:54.544126Z",
     "start_time": "2020-01-25T22:02:54.480640Z"
    },
    "hidden": true
   },
   "outputs": [],
   "source": [
    "voxid = 144"
   ]
  },
  {
   "cell_type": "code",
   "execution_count": null,
   "metadata": {
    "ExecuteTime": {
     "end_time": "2020-01-25T22:03:04.687435Z",
     "start_time": "2020-01-25T22:02:55.414520Z"
    },
    "hidden": true
   },
   "outputs": [],
   "source": [
    "plot_spectra(S_original, voxid)"
   ]
  },
  {
   "cell_type": "code",
   "execution_count": null,
   "metadata": {
    "ExecuteTime": {
     "end_time": "2020-01-25T22:03:04.756146Z",
     "start_time": "2020-01-25T22:03:04.690954Z"
    },
    "hidden": true
   },
   "outputs": [],
   "source": [
    "masked_ts_flat.shape"
   ]
  },
  {
   "cell_type": "code",
   "execution_count": null,
   "metadata": {
    "ExecuteTime": {
     "end_time": "2020-01-25T22:03:04.822808Z",
     "start_time": "2020-01-25T22:03:04.760496Z"
    },
    "hidden": true
   },
   "outputs": [],
   "source": [
    "bold_flat.data.shape"
   ]
  },
  {
   "cell_type": "code",
   "execution_count": null,
   "metadata": {
    "ExecuteTime": {
     "end_time": "2020-01-25T22:03:04.894508Z",
     "start_time": "2020-01-25T22:03:04.826177Z"
    },
    "hidden": true
   },
   "outputs": [],
   "source": [
    "def comparison_plots(masked_ts_flat, S_original, Fs, nperseg, voxid=1000):\n",
    "    # Compute PSD with `scipy.signal.welch`\n",
    "    f_welch, S_welch = scipy.signal.welch(\n",
    "        masked_ts_flat[voxid, :], fs=Fs, nperseg=nperseg, noverlap=(nperseg // 2),\n",
    "        detrend=None, scaling='density', window='hanning')\n",
    "\n",
    "    # Compute PSD with `matplotlib.mlab.psd`, using parameters that are\n",
    "    # *equivalent* to those used in `scipy.signal.welch` above\n",
    "    S_mlab, f_mlab = mlab.psd(\n",
    "        masked_ts_flat[voxid, :], Fs=Fs, NFFT=nperseg, noverlap=(nperseg // 2),\n",
    "        detrend=None, scale_by_freq=True, window=mlab.window_hanning)\n",
    "\n",
    "    fig, axes = plt.subplots(3, 1, sharex=True)\n",
    "\n",
    "    # Plot PSD computed via both methods\n",
    "    axes[0].plot(f_welch, S_welch, label='scipy.signal.welch')\n",
    "    axes[0].plot(f_mlab, S_mlab, label='mlab.psd')\n",
    "    axes[0].set_ylabel('PSD')\n",
    "    axes[0].legend()\n",
    "\n",
    "    axes[1].plot(S_original.spectrum_fourier[0],\n",
    "                  np.abs(S_original.spectrum_fourier[1][voxid]),\n",
    "                  label='nitime FFT')\n",
    "\n",
    "    freqs2 = nitime.utils.get_freqs(Fs, masked_ts_flat.shape[-1])\n",
    "    fft = scipy.fftpack.fft(bold_flat.data)\n",
    "    scaledAmp = np.abs(fft[:, :freqs2.shape[0]])\n",
    "    amp = 2*scaledAmp/masked_ts_flat.shape[-1]\n",
    "    sqrtsummagsq = np.sqrt(np.sum(scaledAmp[:, :]**2))\n",
    "    print(sqrtsummagsq)\n",
    "    co = scaledAmp[:,11]/sqrtsummagsq;\n",
    "\n",
    "    axes[1].plot(freqs2, scaledAmp[voxid], label='ScaledAmp')\n",
    "    axes[2].plot(freqs2, amp[voxid], label='Amp')\n",
    "    axes[2].set_xlabel('f')\n",
    "    axes[1].legend()\n",
    "    axes[2].legend()\n",
    "\n",
    "    plt.suptitle(f\"voxid {voxid}, co {co[voxid]}\")\n",
    "    plt.show()\n",
    "    \n",
    "    return [freqs2, amp, co]"
   ]
  },
  {
   "cell_type": "code",
   "execution_count": null,
   "metadata": {
    "ExecuteTime": {
     "end_time": "2020-01-25T22:03:08.026951Z",
     "start_time": "2020-01-25T22:03:04.896981Z"
    },
    "hidden": true
   },
   "outputs": [],
   "source": [
    "for v in [155, 1555, 12224]:\n",
    "    _ = comparison_plots(masked_ts_flat, S_original, Fs, nperseg, v)"
   ]
  },
  {
   "cell_type": "code",
   "execution_count": null,
   "metadata": {
    "ExecuteTime": {
     "end_time": "2020-01-25T22:03:09.239180Z",
     "start_time": "2020-01-25T22:03:08.030385Z"
    },
    "hidden": true
   },
   "outputs": [],
   "source": [
    "[f, a, co] = comparison_plots(masked_ts_flat, S_original, Fs, nperseg, 1000)"
   ]
  },
  {
   "cell_type": "code",
   "execution_count": null,
   "metadata": {
    "ExecuteTime": {
     "end_time": "2020-01-25T22:03:09.545447Z",
     "start_time": "2020-01-25T22:03:09.243261Z"
    },
    "hidden": true
   },
   "outputs": [],
   "source": [
    "plt.hist(co)"
   ]
  },
  {
   "cell_type": "code",
   "execution_count": null,
   "metadata": {
    "ExecuteTime": {
     "end_time": "2020-01-25T22:03:09.626748Z",
     "start_time": "2020-01-25T22:03:09.548825Z"
    },
    "hidden": true
   },
   "outputs": [],
   "source": [
    "coh_amp_map = masker.inverse_transform(co)"
   ]
  },
  {
   "cell_type": "code",
   "execution_count": null,
   "metadata": {
    "ExecuteTime": {
     "end_time": "2020-01-25T22:03:09.699042Z",
     "start_time": "2020-01-25T22:03:09.629502Z"
    },
    "hidden": true
   },
   "outputs": [],
   "source": [
    "coh_amp_map.to_filename(coh_fn)"
   ]
  },
  {
   "cell_type": "markdown",
   "metadata": {
    "heading_collapsed": true,
    "hidden": true
   },
   "source": [
    "#### Correlation and Coherence"
   ]
  },
  {
   "cell_type": "code",
   "execution_count": null,
   "metadata": {
    "ExecuteTime": {
     "start_time": "2019-12-17T21:41:10.852Z"
    },
    "hidden": true
   },
   "outputs": [],
   "source": [
    "full_stim = np.vstack((hemifield_alternation_sinusoid, masked_ts_flat[:1000,:]))"
   ]
  },
  {
   "cell_type": "code",
   "execution_count": null,
   "metadata": {
    "ExecuteTime": {
     "start_time": "2019-12-17T21:41:11.010Z"
    },
    "hidden": true
   },
   "outputs": [],
   "source": [
    "full_stim.shape"
   ]
  },
  {
   "cell_type": "code",
   "execution_count": null,
   "metadata": {
    "ExecuteTime": {
     "start_time": "2019-12-17T21:41:11.208Z"
    },
    "hidden": true
   },
   "outputs": [],
   "source": [
    "test_ts = ts.TimeSeries(full_stim, sampling_interval=TR)"
   ]
  },
  {
   "cell_type": "code",
   "execution_count": null,
   "metadata": {
    "ExecuteTime": {
     "end_time": "2019-11-27T05:19:22.548193Z",
     "start_time": "2019-11-27T05:19:22.123356Z"
    },
    "hidden": true
   },
   "outputs": [],
   "source": [
    "cr1 = nta.CorrelationAnalyzer(test_ts)\n",
    "print(cr1.corrcoef)\n",
    "ntv.drawmatrix_channels(cr1.corrcoef, color_anchor=0)"
   ]
  },
  {
   "cell_type": "code",
   "execution_count": null,
   "metadata": {
    "ExecuteTime": {
     "end_time": "2019-11-27T05:25:22.034899Z",
     "start_time": "2019-11-27T05:19:29.357764Z"
    },
    "hidden": true
   },
   "outputs": [],
   "source": [
    "ch1 = nta.CoherenceAnalyzer(test_ts)\n",
    "#physiologically relevant freq band\n",
    "freq_idx = np.where((ch1.frequencies > 0.02) * (ch1.frequencies < 0.15))[0]\n",
    "coh = np.mean(ch1.coherence[:,:,freq_idx], -1)\n",
    "coh"
   ]
  },
  {
   "cell_type": "code",
   "execution_count": null,
   "metadata": {
    "ExecuteTime": {
     "end_time": "2019-11-27T05:25:22.328248Z",
     "start_time": "2019-11-27T05:25:22.037783Z"
    },
    "hidden": true
   },
   "outputs": [],
   "source": [
    "fig03 = ntv.drawmatrix_channels(coh)"
   ]
  },
  {
   "cell_type": "code",
   "execution_count": null,
   "metadata": {
    "ExecuteTime": {
     "end_time": "2019-11-27T05:25:28.836014Z",
     "start_time": "2019-11-27T05:25:22.332715Z"
    },
    "hidden": true
   },
   "outputs": [],
   "source": [
    "ch1.phase[0,1]"
   ]
  },
  {
   "cell_type": "markdown",
   "metadata": {
    "hidden": true
   },
   "source": [
    "#### SeedCoherenceAnalyzer"
   ]
  },
  {
   "cell_type": "code",
   "execution_count": null,
   "metadata": {
    "ExecuteTime": {
     "end_time": "2020-01-25T22:17:59.074622Z",
     "start_time": "2020-01-25T22:17:50.546652Z"
    },
    "hidden": true
   },
   "outputs": [],
   "source": [
    "n_seeds = 1\n",
    "A = nta.SeedCoherenceAnalyzer(hemi_ts_trim, bold_flat)#, method=dict(NFFT=32))\n",
    "B = nta.SeedCorrelationAnalyzer(hemi_ts_trim, bold_flat)\n",
    "freq_idx = np.where((A.frequencies > f_lb) * (A.frequencies < f_ub))[0]\n",
    "#freq_idx_hemionly = np.where((np.isclose(A.frequencies, hemi_freq)))[0]\n",
    "#print(freq_idx, freq_idx_hemionly)\n",
    "print(A.frequencies, A.frequencies[freq_idx], f_lb, f_ub, sep=\"\\n\")\n",
    "cor = []\n",
    "coh = []\n",
    "\n",
    "for this_seed in range(n_seeds):\n",
    "    #print(this_seed, A.coherence[this_seed], A.coherence[this_seed][freq_idx])\n",
    "    # Extract the coherence and average across these frequency bands:\n",
    "    print(A.coherence.shape, A.coherence[:, :], A.coherence[:, freq_idx_hemionly], sep=\"\\n\")\n",
    "    coh.append(np.mean(A.coherence[:, freq_idx], -1))  # Averaging on the last dimension\n",
    "    cor.append(B.corrcoef[this_seed])  # No need to do any additional computation\n",
    "        \n",
    "print(f\"coh: {coh}\", f\"cor: {cor}\", sep=\"\\n\")"
   ]
  },
  {
   "cell_type": "code",
   "execution_count": null,
   "metadata": {
    "ExecuteTime": {
     "end_time": "2020-01-25T22:09:33.063277Z",
     "start_time": "2020-01-25T22:09:33.002308Z"
    },
    "hidden": true
   },
   "outputs": [],
   "source": [
    "len(coh[0])"
   ]
  },
  {
   "cell_type": "code",
   "execution_count": null,
   "metadata": {
    "ExecuteTime": {
     "end_time": "2020-01-25T22:09:33.949756Z",
     "start_time": "2020-01-25T22:09:33.885741Z"
    },
    "hidden": true
   },
   "outputs": [],
   "source": [
    "np.count_nonzero(coh[0])"
   ]
  },
  {
   "cell_type": "markdown",
   "metadata": {
    "hidden": true
   },
   "source": [
    "#### Write coherence values to Nifti file"
   ]
  },
  {
   "cell_type": "code",
   "execution_count": null,
   "metadata": {
    "ExecuteTime": {
     "end_time": "2020-01-22T17:54:23.313468Z",
     "start_time": "2020-01-22T17:54:23.250220Z"
    },
    "hidden": true
   },
   "outputs": [],
   "source": [
    "coherence_img = masker.inverse_transform(coh[0])\n",
    "coherence_img.shape"
   ]
  },
  {
   "cell_type": "code",
   "execution_count": null,
   "metadata": {
    "ExecuteTime": {
     "end_time": "2020-01-22T17:54:24.449809Z",
     "start_time": "2020-01-22T17:54:24.391167Z"
    },
    "hidden": true
   },
   "outputs": [],
   "source": [
    "print(coh_fn)"
   ]
  },
  {
   "cell_type": "code",
   "execution_count": null,
   "metadata": {
    "ExecuteTime": {
     "end_time": "2020-01-22T17:54:27.974412Z",
     "start_time": "2020-01-22T17:54:27.910600Z"
    },
    "hidden": true
   },
   "outputs": [],
   "source": [
    "coherence_img.to_filename(coh_fn)"
   ]
  },
  {
   "cell_type": "code",
   "execution_count": null,
   "metadata": {
    "ExecuteTime": {
     "end_time": "2020-01-22T17:54:29.752314Z",
     "start_time": "2020-01-22T17:54:29.547189Z"
    },
    "hidden": true
   },
   "outputs": [],
   "source": [
    "!ls \"{coh_fn}\""
   ]
  },
  {
   "cell_type": "code",
   "execution_count": null,
   "metadata": {
    "ExecuteTime": {
     "end_time": "2020-01-22T17:54:33.473897Z",
     "start_time": "2020-01-22T17:54:33.410093Z"
    },
    "hidden": true
   },
   "outputs": [],
   "source": [
    "cmd = f\"fsleyes {bolds[0]} {coh_fn}\""
   ]
  },
  {
   "cell_type": "code",
   "execution_count": null,
   "metadata": {
    "ExecuteTime": {
     "end_time": "2020-01-22T17:55:05.339043Z",
     "start_time": "2020-01-22T17:54:34.763074Z"
    },
    "hidden": true
   },
   "outputs": [],
   "source": [
    "os.system(cmd)"
   ]
  },
  {
   "cell_type": "markdown",
   "metadata": {
    "hidden": true
   },
   "source": [
    "#### Some visualizations"
   ]
  },
  {
   "cell_type": "code",
   "execution_count": null,
   "metadata": {
    "ExecuteTime": {
     "end_time": "2020-01-26T17:16:44.434300Z",
     "start_time": "2020-01-26T17:16:44.066209Z"
    },
    "hidden": true
   },
   "outputs": [],
   "source": [
    "plt.hist(coh[0])"
   ]
  },
  {
   "cell_type": "code",
   "execution_count": null,
   "metadata": {
    "ExecuteTime": {
     "end_time": "2020-01-26T17:16:46.681905Z",
     "start_time": "2020-01-26T17:16:46.491649Z"
    },
    "hidden": true
   },
   "outputs": [],
   "source": [
    "plt.boxplot(coh[0])"
   ]
  },
  {
   "cell_type": "code",
   "execution_count": null,
   "metadata": {
    "ExecuteTime": {
     "end_time": "2020-01-26T17:16:49.341364Z",
     "start_time": "2020-01-26T17:16:49.280637Z"
    },
    "hidden": true
   },
   "outputs": [],
   "source": [
    "np.count_nonzero(coh[0]==0)"
   ]
  },
  {
   "cell_type": "markdown",
   "metadata": {
    "heading_collapsed": true
   },
   "source": [
    "### Continue from here..."
   ]
  },
  {
   "cell_type": "code",
   "execution_count": null,
   "metadata": {
    "ExecuteTime": {
     "end_time": "2019-12-17T21:29:49.451678Z",
     "start_time": "2019-12-17T21:29:49.396345Z"
    },
    "hidden": true
   },
   "outputs": [],
   "source": [
    "lgn_coh_low = 0.17\n",
    "lgn_coh_high = 0.19\n",
    "lgn_voxel_mask_coh = np.logical_and((coh[0] > lgn_coh_low), (coh[0] < lgn_coh_high))"
   ]
  },
  {
   "cell_type": "code",
   "execution_count": null,
   "metadata": {
    "ExecuteTime": {
     "end_time": "2019-12-17T21:29:49.807677Z",
     "start_time": "2019-12-17T21:29:49.746983Z"
    },
    "hidden": true
   },
   "outputs": [],
   "source": [
    "np.count_nonzero(lgn_voxel_mask_coh)"
   ]
  },
  {
   "cell_type": "markdown",
   "metadata": {},
   "source": [
    "## Assigning voxels within an ROI to M/P"
   ]
  },
  {
   "cell_type": "code",
   "execution_count": null,
   "metadata": {
    "ExecuteTime": {
     "end_time": "2020-02-13T22:03:13.290093Z",
     "start_time": "2020-02-13T22:03:12.460710Z"
    }
   },
   "outputs": [],
   "source": [
    "LP_roi, LM_roi = utils.assign_roi_percentile(rois[0], beta_MP, 20)"
   ]
  },
  {
   "cell_type": "code",
   "execution_count": null,
   "metadata": {
    "ExecuteTime": {
     "end_time": "2020-02-13T22:03:16.391727Z",
     "start_time": "2020-02-13T22:03:15.594475Z"
    }
   },
   "outputs": [],
   "source": [
    "RP_roi, RM_roi = utils.assign_roi_percentile(rois[1], beta_MP, 20)"
   ]
  },
  {
   "cell_type": "markdown",
   "metadata": {},
   "source": [
    "## GLM"
   ]
  },
  {
   "cell_type": "code",
   "execution_count": null,
   "metadata": {
    "ExecuteTime": {
     "end_time": "2020-01-30T23:56:27.995470Z",
     "start_time": "2020-01-30T23:56:27.933744Z"
    }
   },
   "outputs": [],
   "source": [
    "def view_copes(datasink, contrasts, **kwargs):\n",
    "    l1copes, l2copes = utils.get_model_outputs(datasink, contrasts)\n",
    "    return nilearn.plotting.view_img(l2copes[0], **kwargs)"
   ]
  },
  {
   "cell_type": "code",
   "execution_count": null,
   "metadata": {
    "ExecuteTime": {
     "end_time": "2020-01-31T20:51:49.099335Z",
     "start_time": "2020-01-31T20:51:47.923530Z"
    }
   },
   "outputs": [],
   "source": [
    "view_copes(mp_datasink, [3], bg_img=ref_vol_path, threshold=\"90%\", vmax=3, cut_coords=cut)"
   ]
  },
  {
   "cell_type": "code",
   "execution_count": null,
   "metadata": {
    "ExecuteTime": {
     "end_time": "2020-01-31T00:42:37.199575Z",
     "start_time": "2020-01-31T00:42:37.146562Z"
    }
   },
   "outputs": [],
   "source": [
    "def plot_lgn(datasink, contrasts, **kwargs):\n",
    "    l1copes, l2copes = utils.get_model_outputs(datasink, contrasts)\n",
    "    return nilearn.plotting.plot_img(l2copes[0], **kwargs)"
   ]
  },
  {
   "cell_type": "code",
   "execution_count": null,
   "metadata": {
    "ExecuteTime": {
     "end_time": "2020-01-31T00:44:55.090816Z",
     "start_time": "2020-01-31T00:44:54.072397Z"
    }
   },
   "outputs": [],
   "source": [
    "plot_lgn(mp_datasink, [3], threshold=2, cut_coords=cut, bg_img=ref_vol_path)"
   ]
  },
  {
   "cell_type": "code",
   "execution_count": null,
   "metadata": {
    "ExecuteTime": {
     "end_time": "2020-01-31T00:38:38.877150Z",
     "start_time": "2020-01-31T00:38:38.052800Z"
    }
   },
   "outputs": [],
   "source": [
    "view_copes(hemi_datasink, [3], bg_img=ref_vol_path, threshold=2, vmax=5, cut_coords=(-17, -3, 1))"
   ]
  }
 ],
 "metadata": {
  "kernelspec": {
   "display_name": "Python 3",
   "language": "python",
   "name": "python3"
  },
  "language_info": {
   "codemirror_mode": {
    "name": "ipython",
    "version": 3
   },
   "file_extension": ".py",
   "mimetype": "text/x-python",
   "name": "python",
   "nbconvert_exporter": "python",
   "pygments_lexer": "ipython3",
   "version": "3.6.8"
  },
  "varInspector": {
   "cols": {
    "lenName": 16,
    "lenType": 16,
    "lenVar": 40
   },
   "kernels_config": {
    "python": {
     "delete_cmd_postfix": "",
     "delete_cmd_prefix": "del ",
     "library": "var_list.py",
     "varRefreshCmd": "print(var_dic_list())"
    },
    "r": {
     "delete_cmd_postfix": ") ",
     "delete_cmd_prefix": "rm(",
     "library": "var_list.r",
     "varRefreshCmd": "cat(var_dic_list()) "
    }
   },
   "types_to_exclude": [
    "module",
    "function",
    "builtin_function_or_method",
    "instance",
    "_Feature"
   ],
   "window_display": false
  }
 },
 "nbformat": 4,
 "nbformat_minor": 2
}
