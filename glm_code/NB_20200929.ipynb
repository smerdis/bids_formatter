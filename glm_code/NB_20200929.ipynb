{
 "cells": [
  {
   "cell_type": "code",
   "execution_count": null,
   "metadata": {
    "ExecuteTime": {
     "end_time": "2020-08-28T16:44:23.892127Z",
     "start_time": "2020-08-28T16:44:23.850145Z"
    },
    "scrolled": true
   },
   "outputs": [],
   "source": [
    "%load_ext autoreload\n",
    "%autoreload 2"
   ]
  },
  {
   "cell_type": "code",
   "execution_count": null,
   "metadata": {
    "ExecuteTime": {
     "end_time": "2020-08-28T16:44:30.534247Z",
     "start_time": "2020-08-28T16:44:24.433003Z"
    },
    "scrolled": true
   },
   "outputs": [],
   "source": [
    "import utils # stuff I've written for this project\n",
    "\n",
    "import os, sys, datetime, glob, re\n",
    "import os.path as op\n",
    "\n",
    "import numpy as np\n",
    "np.set_printoptions(precision=6)\n",
    "import pandas as pd\n",
    "import matplotlib.pyplot as plt\n",
    "import matplotlib.mlab as mlab\n",
    "import shutil\n",
    "\n",
    "import nibabel as nib\n",
    "\n",
    "import nilearn\n",
    "from nilearn.masking import apply_mask\n",
    "from nilearn.plotting import plot_img, plot_epi, plot_roi, plot_stat_map, view_img, plot_anat\n",
    "from nilearn.image import load_img, threshold_img, math_img, resample_to_img, new_img_like\n",
    "from nilearn.input_data import NiftiMasker\n",
    "\n",
    "import nitime\n",
    "import nitime.fmri.io as nfio\n",
    "import nitime.timeseries as ts\n",
    "import nitime.analysis as nta\n",
    "import nitime.utils as ntu\n",
    "import nitime.viz as ntv\n",
    "import nitime.algorithms as ntalg\n",
    "\n",
    "import scipy\n",
    "\n",
    "from bids import BIDSLayout"
   ]
  },
  {
   "cell_type": "code",
   "execution_count": null,
   "metadata": {
    "ExecuteTime": {
     "end_time": "2020-08-28T16:44:30.611464Z",
     "start_time": "2020-08-28T16:44:30.537190Z"
    },
    "scrolled": true
   },
   "outputs": [],
   "source": [
    "%matplotlib inline"
   ]
  },
  {
   "cell_type": "code",
   "execution_count": null,
   "metadata": {
    "ExecuteTime": {
     "end_time": "2020-08-28T16:44:30.683866Z",
     "start_time": "2020-08-28T16:44:30.614803Z"
    },
    "scrolled": true
   },
   "outputs": [],
   "source": [
    "print(' numpy: ', np.__version__, '\\n',\n",
    "      'nibabel: ', nib.__version__, '\\n',\n",
    "      'nilearn: ', nilearn.__version__, '\\n',\n",
    "      'nitime: ', nitime.__version__, '\\n',\n",
    "      'scipy: ', scipy.__version__)"
   ]
  },
  {
   "cell_type": "markdown",
   "metadata": {},
   "source": [
    "### Initial definitions (before any preprocessing)"
   ]
  },
  {
   "cell_type": "code",
   "execution_count": null,
   "metadata": {},
   "outputs": [],
   "source": [
    "sub = \"NB\"\n",
    "ses = \"20200929\"\n",
    "\n",
    "raw_data_dir = os.path.abspath(\"/Users/smerdis/data/LGN/BIDS/NB_20200929/sub-NB/\")\n",
    "raw_layout = BIDSLayout(raw_data_dir, validate=False, derivatives=False)\n",
    "derivs_dir = os.path.abspath('/Users/smerdis/data/LGN/BIDS/NB_20200929/derivatives/streams')\n",
    "out_dir = os.path.abspath(f\"{derivs_dir}/sub-{sub}\")\n",
    "if not os.path.isdir(out_dir):\n",
    "    os.makedirs(out_dir)"
   ]
  },
  {
   "cell_type": "markdown",
   "metadata": {},
   "source": [
    "### Begin Preprocessing"
   ]
  },
  {
   "cell_type": "markdown",
   "metadata": {
    "heading_collapsed": true
   },
   "source": [
    "#### Make ref_vol from first dicom"
   ]
  },
  {
   "cell_type": "code",
   "execution_count": null,
   "metadata": {
    "ExecuteTime": {
     "end_time": "2020-01-29T22:54:07.665170Z",
     "start_time": "2020-01-29T22:54:07.611446Z"
    },
    "hidden": true,
    "scrolled": true
   },
   "outputs": [],
   "source": [
    "first_dicom = \"/Users/smerdis/data/LGN/Nb_20200929/Silver_Arjun\\ -\\ 1/mb_bold_mb3_1p75mm_PSN_5/IM-0005-0001.dcm\"\n",
    "# first_dicom = \"/Users/smerdis/data/LGN/Nb_20191221/Silver_Arjun - 1/sb_bold_1p75mmISO_PSN_6/IM-0006-0001.dcm\""
   ]
  },
  {
   "cell_type": "code",
   "execution_count": null,
   "metadata": {
    "ExecuteTime": {
     "end_time": "2020-01-29T22:54:08.497099Z",
     "start_time": "2020-01-29T22:54:08.306179Z"
    },
    "hidden": true,
    "scrolled": true
   },
   "outputs": [],
   "source": [
    "!ls {first_dicom}"
   ]
  },
  {
   "cell_type": "code",
   "execution_count": null,
   "metadata": {
    "ExecuteTime": {
     "end_time": "2020-01-29T22:54:09.961215Z",
     "start_time": "2020-01-29T22:54:09.771173Z"
    },
    "hidden": true,
    "scrolled": true
   },
   "outputs": [],
   "source": [
    "!pwd"
   ]
  },
  {
   "cell_type": "code",
   "execution_count": null,
   "metadata": {
    "ExecuteTime": {
     "end_time": "2020-01-29T22:54:20.815606Z",
     "start_time": "2020-01-29T22:54:20.643774Z"
    },
    "hidden": true,
    "scrolled": true
   },
   "outputs": [],
   "source": [
    "dcm2niix_cmd = f\"dcm2niix -v 2 -s y -f {ref_vol_name} -z y -o {out_dir} {first_dicom}\"\n",
    "print(dcm2niix_cmd)\n",
    "os.system(dcm2niix_cmd)"
   ]
  },
  {
   "cell_type": "code",
   "execution_count": null,
   "metadata": {
    "ExecuteTime": {
     "end_time": "2020-01-25T20:47:03.276428Z",
     "start_time": "2020-01-25T20:47:03.093980Z"
    },
    "hidden": true,
    "scrolled": true
   },
   "outputs": [],
   "source": [
    "!ls {out_dir}"
   ]
  },
  {
   "cell_type": "markdown",
   "metadata": {
    "heading_collapsed": true,
    "hidden": true
   },
   "source": [
    "#### make brainmask if it doesn't exist already -- needs work"
   ]
  },
  {
   "cell_type": "code",
   "execution_count": null,
   "metadata": {
    "ExecuteTime": {
     "end_time": "2020-01-27T20:31:31.246207Z",
     "start_time": "2020-01-27T20:31:31.189935Z"
    },
    "hidden": true,
    "scrolled": true
   },
   "outputs": [],
   "source": [
    "masker = NiftiMasker(detrend=False, standardize=False, mask_strategy=\"epi\", t_r=TR)"
   ]
  },
  {
   "cell_type": "code",
   "execution_count": null,
   "metadata": {},
   "outputs": [],
   "source": [
    "ref_bold_run = sorted(preproc_layout.get(subject=sub, session=ses, task=\"conn\", extension=['nii.gz'],\n",
    "                           run=1, return_type='file'))"
   ]
  },
  {
   "cell_type": "code",
   "execution_count": null,
   "metadata": {
    "ExecuteTime": {
     "end_time": "2020-01-27T20:31:34.349183Z",
     "start_time": "2020-01-27T20:31:33.400197Z"
    },
    "hidden": true,
    "scrolled": true
   },
   "outputs": [],
   "source": [
    "masker.fit(ref_bold_run)"
   ]
  },
  {
   "cell_type": "code",
   "execution_count": null,
   "metadata": {
    "ExecuteTime": {
     "end_time": "2020-01-27T20:31:36.296698Z",
     "start_time": "2020-01-27T20:31:36.241446Z"
    },
    "hidden": true,
    "scrolled": true
   },
   "outputs": [],
   "source": [
    "print(mask_file)"
   ]
  },
  {
   "cell_type": "code",
   "execution_count": null,
   "metadata": {
    "ExecuteTime": {
     "end_time": "2020-01-27T20:31:43.223926Z",
     "start_time": "2020-01-27T20:31:43.041744Z"
    },
    "hidden": true,
    "scrolled": true
   },
   "outputs": [],
   "source": [
    "!ls {mask_file}"
   ]
  },
  {
   "cell_type": "code",
   "execution_count": null,
   "metadata": {
    "ExecuteTime": {
     "end_time": "2020-01-27T20:31:47.245433Z",
     "start_time": "2020-01-27T20:31:47.172284Z"
    },
    "hidden": true,
    "scrolled": true
   },
   "outputs": [],
   "source": [
    "masker.mask_img_.to_filename(mask_file)"
   ]
  },
  {
   "cell_type": "code",
   "execution_count": null,
   "metadata": {
    "ExecuteTime": {
     "end_time": "2020-01-27T20:31:48.188187Z",
     "start_time": "2020-01-27T20:31:48.129585Z"
    },
    "hidden": true,
    "scrolled": true
   },
   "outputs": [],
   "source": [
    "mask_img = masker.mask_img_\n",
    "mask_img.shape"
   ]
  },
  {
   "cell_type": "markdown",
   "metadata": {},
   "source": [
    "### Define refence volume"
   ]
  },
  {
   "cell_type": "code",
   "execution_count": null,
   "metadata": {},
   "outputs": [],
   "source": [
    "ref_vol_name = f\"sub-{sub}_ses-{ses}_refvol\"\n",
    "ref_vol_path = os.path.abspath(f\"{out_dir}/{ref_vol_name}.nii.gz\")\n",
    "ref_vol_img = load_img(ref_vol_path)"
   ]
  },
  {
   "cell_type": "markdown",
   "metadata": {
    "heading_collapsed": true
   },
   "source": [
    "#### mcflirt the bold files using ref_vol as the reference image, save them as _preproc"
   ]
  },
  {
   "cell_type": "code",
   "execution_count": null,
   "metadata": {
    "ExecuteTime": {
     "end_time": "2020-01-27T20:01:49.922292Z",
     "start_time": "2020-01-27T20:01:48.627760Z"
    },
    "hidden": true,
    "scrolled": true
   },
   "outputs": [],
   "source": [
    "raw_bolds = sorted([f for f in raw_layout.get(subject=sub, session=ses, suffix='bold',\n",
    "            extension=['nii.gz'], return_type='file')])"
   ]
  },
  {
   "cell_type": "code",
   "execution_count": null,
   "metadata": {
    "ExecuteTime": {
     "end_time": "2020-01-27T20:01:51.006474Z",
     "start_time": "2020-01-27T20:01:50.940631Z"
    },
    "hidden": true,
    "scrolled": true
   },
   "outputs": [],
   "source": [
    "print(\"\\n\".join(raw_bolds))"
   ]
  },
  {
   "cell_type": "code",
   "execution_count": null,
   "metadata": {
    "ExecuteTime": {
     "end_time": "2020-01-27T20:16:55.516992Z",
     "start_time": "2020-01-27T20:12:48.776666Z"
    },
    "code_folding": [],
    "hidden": true,
    "scrolled": true
   },
   "outputs": [],
   "source": [
    "for this_epi in raw_bolds:\n",
    "    align_to = 'refvol' #'refvol' # or 'anat'\n",
    "    epi_name = os.path.basename(this_epi)\n",
    "    epi_stub = epi_name.split('.')[0]\n",
    "    epi_stub_parts = epi_stub.split('_')\n",
    "    epi_stub_parts.insert(-1, 'desc-preproc')\n",
    "    epi_stub_mcf = '_'.join(epi_stub_parts)\n",
    "    if not os.path.isdir(os.path.join(out_dir, f\"ses-{ses}\", \"func\")):\n",
    "        os.makedirs(os.path.join(out_dir, f\"ses-{ses}\", \"func\"))\n",
    "    full_outpath = os.path.join(out_dir, f\"ses-{ses}\", \"func\", epi_stub_mcf)\n",
    "    if align_to == 'refvol':\n",
    "        mcflirt_cmd = f\"mcflirt -reffile {ref_vol_path} -mats -plots -report -cost mutualinfo -smooth 16 -in {this_epi} -o {full_outpath}\"\n",
    "    elif align_to == 'anat':\n",
    "        mcflirt_cmd = f\"mcflirt -reffile {anat_file} -mats -plots -report -cost mutualinfo -smooth 16 -in {this_epi} -o {full_outpath}_anatalign\"\n",
    "    print(mcflirt_cmd)\n",
    "    os.system(mcflirt_cmd)"
   ]
  },
  {
   "cell_type": "code",
   "execution_count": null,
   "metadata": {
    "ExecuteTime": {
     "end_time": "2020-01-27T20:11:41.034878Z",
     "start_time": "2020-01-27T20:11:40.834512Z"
    },
    "hidden": true,
    "scrolled": true
   },
   "outputs": [],
   "source": [
    "!ls /Users/smerdis/data/LGN/BIDS/NB_20200929/derivatives/streams/sub-NB"
   ]
  },
  {
   "cell_type": "markdown",
   "metadata": {
    "heading_collapsed": true
   },
   "source": [
    "#### Move event and json files"
   ]
  },
  {
   "cell_type": "code",
   "execution_count": null,
   "metadata": {
    "ExecuteTime": {
     "end_time": "2020-01-27T19:19:32.675087Z",
     "start_time": "2020-01-27T19:19:32.623862Z"
    },
    "hidden": true,
    "scrolled": true
   },
   "outputs": [],
   "source": [
    "events_glob = f\"{raw_data_dir}/ses-{ses}/func/*events*.tsv\"\n",
    "print(\"\\n\".join(glob.glob(events_glob)))\n",
    "task_json_glob = f\"{raw_data_dir}/ses-{ses}/func/*task*json\"\n",
    "print(\"\\n\".join(glob.glob(task_json_glob)))"
   ]
  },
  {
   "cell_type": "markdown",
   "metadata": {},
   "source": [
    "### Define paths etc"
   ]
  },
  {
   "cell_type": "code",
   "execution_count": null,
   "metadata": {
    "ExecuteTime": {
     "end_time": "2020-08-28T16:44:33.547536Z",
     "start_time": "2020-08-28T16:44:32.947982Z"
    },
    "scrolled": true
   },
   "outputs": [],
   "source": [
    "preproc_layout = BIDSLayout(out_dir, validate=False)\n",
    "# get only the big LGN masks, not any smaller M/P rois already assigned\n",
    "rois = [f for f in\n",
    "        preproc_layout.get(subject=sub, extension=['.nii.gz'], suffix='roi', return_type='file')\n",
    "        if (\"desc-LLGN\" in f or \"desc-RLGN\" in f) and ('T1w' not in f)]\n",
    "big_rois = [f for f in\n",
    "        preproc_layout.get(subject=sub, extension=['.nii.gz'], suffix='roi', return_type='file')\n",
    "        if (\"desc-LLGN\" in f or \"desc-RLGN\" in f) and ('P' not in f and 'M' not in f and 'T1w' not in f)]\n",
    "cortical_rois = [f for f in\n",
    "        preproc_layout.get(subject=sub, extension=['.nii.gz'], suffix='roi', return_type='file')\n",
    "        if (\"desc-visualcortex\" in f)]\n",
    "lgn_ref_vol = os.path.abspath(f\"{out_dir}/sub-{sub}_ses-20191221_refvol.nii.gz\")\n",
    "mask_file = os.path.join(out_dir, f\"sub-{sub}_ses-{ses}_mask.nii.gz\")\n",
    "lgn_coh_fn = os.path.join(out_dir, f\"sub-{sub}_ses-20191221_task-hemi_desc-LGNcoherence_map.nii\")\n",
    "cortex_coh_fn = os.path.join(out_dir, f\"sub-{sub}_ses-20191221_task-hemi_desc-cortexcoherence_map.nii\")\n",
    "anat_file = raw_layout.get(subject=sub, session='20191221', extension=['nii.gz'], suffix=\"T1w\", return_type='file')[0]\n",
    "anat_img = load_img(anat_file)\n",
    "\n",
    "print(\"LGN rois (including M/P):\", '\\n'.join(rois), \"LGN rois (LGN only):\", '\\n'.join(big_rois),\n",
    "      \"Cortical rois: \", '\\n'.join(cortical_rois), \"Reference BOLD volume:\", ref_vol_path,\n",
    "      \"LGN refvol: \", lgn_ref_vol, \"anat file: \", anat_file, sep=\"\\n\")"
   ]
  },
  {
   "cell_type": "code",
   "execution_count": null,
   "metadata": {},
   "outputs": [],
   "source": [
    "print(f\"fsleyes {anat_file} {ref_vol_path}\")"
   ]
  },
  {
   "cell_type": "markdown",
   "metadata": {},
   "source": [
    "### FLIRT to get everything in the same space"
   ]
  },
  {
   "cell_type": "markdown",
   "metadata": {},
   "source": [
    "#### flirt first MB3 epi to T1"
   ]
  },
  {
   "cell_type": "code",
   "execution_count": null,
   "metadata": {},
   "outputs": [],
   "source": [
    "print(out_dir)"
   ]
  },
  {
   "cell_type": "code",
   "execution_count": null,
   "metadata": {},
   "outputs": [],
   "source": [
    "bold_to_t1_xfm_path = f\"{out_dir}/mb3fmri2t1.mat\"\n",
    "t1_to_bold_xfm_path = f\"{out_dir}/t12mb3fmri.mat\""
   ]
  },
  {
   "cell_type": "code",
   "execution_count": null,
   "metadata": {},
   "outputs": [],
   "source": [
    "flirt_cmd = f\"flirt -in {ref_vol_path} -ref {anat_file} -omat {bold_to_t1_xfm_path} -out {out_dir}/mb3refvol2t1\"\n",
    "print(flirt_cmd)\n",
    "os.system(flirt_cmd)"
   ]
  },
  {
   "cell_type": "code",
   "execution_count": null,
   "metadata": {},
   "outputs": [],
   "source": [
    "inverse_cmd = f\"convert_xfm -omat {t1_to_bold_xfm_path} -inverse {bold_to_t1_xfm_path}\"\n",
    "os.system(inverse_cmd)"
   ]
  },
  {
   "cell_type": "markdown",
   "metadata": {},
   "source": [
    "#### flirt ROIs to T1 using reference volume of LGN scan"
   ]
  },
  {
   "cell_type": "code",
   "execution_count": null,
   "metadata": {},
   "outputs": [],
   "source": [
    "!ls {lgn_ref_vol}"
   ]
  },
  {
   "cell_type": "code",
   "execution_count": null,
   "metadata": {},
   "outputs": [],
   "source": [
    "roi_to_t1_xfm_path = f\"{out_dir}/lgnfmri2t1.mat\"\n",
    "t1_to_roi_xfm_path = f\"{out_dir}/t12lgnfmri.mat\""
   ]
  },
  {
   "cell_type": "code",
   "execution_count": null,
   "metadata": {},
   "outputs": [],
   "source": [
    "flirt_cmd = f\"flirt -in {roi_ref_vol} -ref {anat_file} -omat {roi_to_t1_xfm_path} -out {out_dir}/lgnfmri2t1\"\n",
    "print(flirt_cmd)\n",
    "os.system(flirt_cmd)"
   ]
  },
  {
   "cell_type": "code",
   "execution_count": null,
   "metadata": {},
   "outputs": [],
   "source": [
    "inverse_cmd = f\"convert_xfm -omat {t1_to_roi_xfm_path} -inverse {roi_to_t1_xfm_path}\"\n",
    "os.system(inverse_cmd)"
   ]
  },
  {
   "cell_type": "markdown",
   "metadata": {},
   "source": [
    "#### Convert rois to space of structural T1 scan"
   ]
  },
  {
   "cell_type": "code",
   "execution_count": null,
   "metadata": {},
   "outputs": [],
   "source": [
    "## 10/9 - this doesn't appear to work right, but the resampling using nilearn below does"
   ]
  },
  {
   "cell_type": "code",
   "execution_count": null,
   "metadata": {},
   "outputs": [],
   "source": [
    "# for roi in rois:\n",
    "#     roi_fn_parts = roi.split('_')\n",
    "#     roi_fn_parts.insert(-1, 'space-T1w')\n",
    "#     resampled_roi_fn = '_'.join(roi_fn_parts)\n",
    "#     roi_flirt_cmd = f\"flirt -ref {anat_file} -in {roi} -applyxfm -init {roi_to_t1_xfm_path} -out\\\n",
    "#                 {resampled_roi_fn}\"\n",
    "#     print(roi_flirt_cmd)\n",
    "#     os.system(roi_flirt_cmd)"
   ]
  },
  {
   "cell_type": "code",
   "execution_count": null,
   "metadata": {},
   "outputs": [],
   "source": [
    "print(f\"fsleyes {anat_file} {ref_vol_path} {roi_ref_vol}\")"
   ]
  },
  {
   "cell_type": "markdown",
   "metadata": {
    "heading_collapsed": true
   },
   "source": [
    "#### For testing BIDS names"
   ]
  },
  {
   "cell_type": "code",
   "execution_count": null,
   "metadata": {
    "ExecuteTime": {
     "end_time": "2020-02-11T00:43:08.776178Z",
     "start_time": "2020-02-11T00:43:08.686747Z"
    },
    "hidden": true
   },
   "outputs": [],
   "source": [
    "utils.isBIDSFile(mask_file)\n",
    "utils.isBIDSFile(coh_fn)\n",
    "utils.isBIDSFile(ref_vol_path)\n",
    "for roi in rois:\n",
    "    utils.isBIDSFile(roi)"
   ]
  },
  {
   "cell_type": "markdown",
   "metadata": {
    "heading_collapsed": true
   },
   "source": [
    "### Write hemifield event files (they are all identical)"
   ]
  },
  {
   "cell_type": "code",
   "execution_count": null,
   "metadata": {
    "ExecuteTime": {
     "end_time": "2020-01-27T19:15:15.775666Z",
     "start_time": "2020-01-27T19:15:15.715528Z"
    },
    "hidden": true,
    "scrolled": true
   },
   "outputs": [],
   "source": [
    "utils.write_hemifield_localizer_event_file(f\"{raw_data_dir}/ses-{ses}/func/sub-{sub}_ses-{ses}_task-hemi_run-01_events.tsv\")\n",
    "utils.write_hemifield_localizer_event_file(f\"{raw_data_dir}/ses-{ses}/func/sub-{sub}_ses-{ses}_task-hemi_run-02_events.tsv\")"
   ]
  },
  {
   "cell_type": "code",
   "execution_count": null,
   "metadata": {
    "ExecuteTime": {
     "end_time": "2020-01-24T21:48:08.043327Z",
     "start_time": "2020-01-24T21:48:07.983094Z"
    },
    "code_folding": [
     0
    ],
    "hidden": true,
    "scrolled": true
   },
   "outputs": [],
   "source": [
    "for e in glob.glob(events_glob):\n",
    "    fileparts = op.split(e)[-1].split('_')[:-1]\n",
    "    fileparts[0] = f\"sub-{sub}\"\n",
    "    #runpart = fileparts[-2]\n",
    "    #print('_'.join(fileparts), fileparts[-2])\n",
    "    fn = '_'.join(fileparts)\n",
    "    new_file_name = f\"{raw_data_dir}/ses-{ses}/func/{fn}.tsv\"\n",
    "    print(e, new_file_name, sep=\"\\n\")\n",
    "    #shutil.copyfile(e, new_file_name)"
   ]
  },
  {
   "cell_type": "code",
   "execution_count": null,
   "metadata": {
    "ExecuteTime": {
     "end_time": "2019-12-03T19:40:16.653586Z",
     "start_time": "2019-12-03T19:40:16.584357Z"
    },
    "code_folding": [
     1
    ],
    "hidden": true,
    "scrolled": true
   },
   "outputs": [],
   "source": [
    "\n",
    "for e in glob.glob(task_json_glob):\n",
    "    fn = os.path.split(e)[-1]\n",
    "    new_file_name = f\"{raw_data_dir}/ses-{ses}/func/{fn}\"\n",
    "    print(e, new_file_name, sep=\"\\n\")\n",
    "    #shutil.copyfile(e, new_file_name)"
   ]
  },
  {
   "cell_type": "code",
   "execution_count": null,
   "metadata": {
    "ExecuteTime": {
     "end_time": "2020-01-27T19:17:02.994282Z",
     "start_time": "2020-01-27T19:17:02.936705Z"
    },
    "code_folding": [],
    "hidden": true,
    "scrolled": true
   },
   "outputs": [],
   "source": [
    "blocks_in_order = ['L', 'R']\n",
    "for thisrun in [1]:\n",
    "    events_fn = f\"{raw_data_dir}/ses-{ses}/func/sub-{sub}_ses-{ses}_task-hemi_run-{thisrun:02d}_events.tsv\"\n",
    "    events_file_contents = f\"onset\\tduration\\ttrial_type\\n\"\n",
    "    time_between_onsets = 13.5\n",
    "    for i in range(22):\n",
    "        events_file_contents += f\"{i*time_between_onsets:.2f}\\t{time_between_onsets}\\t{blocks_in_order[i%(len(blocks_in_order))]}\\n\"\n",
    "    #with open(events_fn, 'w') as f:\n",
    "        #f.write(events_file_contents)\n",
    "    print(events_fn, '\\n', events_file_contents)"
   ]
  },
  {
   "cell_type": "markdown",
   "metadata": {},
   "source": [
    "## GLM invocation from a cell"
   ]
  },
  {
   "cell_type": "markdown",
   "metadata": {
    "heading_collapsed": true
   },
   "source": [
    "### Individual GLMs\n",
    "\n",
    "Run the GLMs for each task using all runs"
   ]
  },
  {
   "cell_type": "code",
   "execution_count": null,
   "metadata": {
    "ExecuteTime": {
     "end_time": "2020-03-10T20:30:55.980181Z",
     "start_time": "2020-03-10T20:29:58.008266Z"
    },
    "hidden": true,
    "scrolled": true
   },
   "outputs": [],
   "source": [
    "hemi_workdir = utils.run_fixedeffects_glm(sub, ses, \"hemi\", [1, 2], raw_data_dir, out_dir)"
   ]
  },
  {
   "cell_type": "code",
   "execution_count": null,
   "metadata": {
    "ExecuteTime": {
     "end_time": "2020-02-24T21:51:55.588204Z",
     "start_time": "2020-02-24T21:51:55.363559Z"
    },
    "hidden": true,
    "scrolled": true
   },
   "outputs": [],
   "source": [
    "hemi_datasink = f\"{hemi_workdir}/fixedeffects/modelfit/datasink\"\n",
    "print(hemi_workdir, hemi_datasink, sep=\"\\n\")\n",
    "!ls {hemi_datasink}"
   ]
  },
  {
   "cell_type": "code",
   "execution_count": null,
   "metadata": {
    "ExecuteTime": {
     "end_time": "2020-02-24T21:53:20.803973Z",
     "start_time": "2020-02-24T21:51:55.593713Z"
    },
    "hidden": true,
    "scrolled": true
   },
   "outputs": [],
   "source": [
    "mp_workdir = utils.run_fixedeffects_glm(sub, ses, \"mp\", [1, 2, 3, 4, 5, 6, 7, 8], raw_data_dir, out_dir)"
   ]
  },
  {
   "cell_type": "code",
   "execution_count": null,
   "metadata": {
    "ExecuteTime": {
     "end_time": "2020-02-24T21:53:21.033620Z",
     "start_time": "2020-02-24T21:53:20.809001Z"
    },
    "hidden": true,
    "scrolled": true
   },
   "outputs": [],
   "source": [
    "mp_datasink = f\"{mp_workdir}/fixedeffects/modelfit/datasink\"\n",
    "print(mp_workdir, mp_datasink, sep=\"\\n\")\n",
    "!ls {mp_datasink}"
   ]
  },
  {
   "cell_type": "code",
   "execution_count": null,
   "metadata": {
    "ExecuteTime": {
     "end_time": "2020-02-24T21:53:21.126707Z",
     "start_time": "2020-02-24T21:53:21.038566Z"
    },
    "hidden": true,
    "scrolled": true
   },
   "outputs": [],
   "source": [
    "hemi_RL_l1, hemi_RL_l2 = utils.get_model_outputs(hemi_datasink, [1])\n",
    "hemi_LR_l1, hemi_LR_l2 = utils.get_model_outputs(hemi_datasink, [2])\n",
    "mp_l1, mp_l2 = utils.get_model_outputs(mp_datasink, [1])\n",
    "pm_l1, pm_l2 = utils.get_model_outputs(mp_datasink, [2])\n",
    "visresp_l1, visresp_l2 = utils.get_model_outputs(mp_datasink, [3])"
   ]
  },
  {
   "cell_type": "code",
   "execution_count": null,
   "metadata": {
    "ExecuteTime": {
     "end_time": "2020-02-24T21:53:21.206747Z",
     "start_time": "2020-02-24T21:53:21.131153Z"
    },
    "hidden": true,
    "scrolled": true
   },
   "outputs": [],
   "source": [
    "#print(f\"fsleyes {ref_vol_path} {anat_file} {hemi_LR_l2[0]} {hemi_RL_l2[0]} {mp_l2[0]} {pm_l2[0]}\")\n",
    "print(f\"fsleyes {ref_vol_path} {anat_file} {hemi_LR_l2[0]} {hemi_RL_l2[0]} {visresp_l2[0]}\")"
   ]
  },
  {
   "cell_type": "code",
   "execution_count": null,
   "metadata": {
    "ExecuteTime": {
     "end_time": "2020-02-27T23:47:11.605262Z",
     "start_time": "2020-02-27T23:47:11.514339Z"
    },
    "hidden": true,
    "scrolled": true
   },
   "outputs": [],
   "source": [
    "beta_RL = hemi_RL_l2[0]\n",
    "beta_LR = hemi_LR_l2[0]\n",
    "beta_MP = mp_l2[0]\n",
    "beta_PM = pm_l2[0]\n",
    "beta_MP_img = load_img(beta_MP)"
   ]
  },
  {
   "cell_type": "code",
   "execution_count": null,
   "metadata": {
    "ExecuteTime": {
     "end_time": "2020-02-24T21:53:21.364728Z",
     "start_time": "2020-02-24T21:53:21.295931Z"
    },
    "hidden": true,
    "scrolled": true
   },
   "outputs": [],
   "source": [
    "beta_RL, beta_MP"
   ]
  },
  {
   "cell_type": "markdown",
   "metadata": {},
   "source": [
    "### Grab the affine transformation matrix so we can convert EPI to scanner space"
   ]
  },
  {
   "cell_type": "code",
   "execution_count": null,
   "metadata": {},
   "outputs": [],
   "source": [
    "epi_vox_center = (np.array(ref_vol_img.get_fdata().shape) - 1) / 2.\n",
    "print('epi vox center: ', epi_vox_center)\n",
    "print(ref_vol_path)"
   ]
  },
  {
   "cell_type": "markdown",
   "metadata": {},
   "source": [
    "#### resample ROIs"
   ]
  },
  {
   "cell_type": "code",
   "execution_count": null,
   "metadata": {},
   "outputs": [],
   "source": [
    "print(ref_vol_img.shape, ref_vol_img.affine, sep='\\n')"
   ]
  },
  {
   "cell_type": "code",
   "execution_count": null,
   "metadata": {},
   "outputs": [],
   "source": [
    "print(out_dir)"
   ]
  },
  {
   "cell_type": "code",
   "execution_count": null,
   "metadata": {},
   "outputs": [],
   "source": [
    "!ls {out_dir}"
   ]
  },
  {
   "cell_type": "code",
   "execution_count": null,
   "metadata": {},
   "outputs": [],
   "source": [
    "resampled_rois = []\n",
    "for roi in rois:\n",
    "    roi_img = load_img(roi)\n",
    "    print(roi_img.shape, roi_img.affine, sep='\\n')\n",
    "    roi_fn_parts = roi.split('_')\n",
    "    roi_fn_parts.insert(-1, 'space-T1w_nilearn')\n",
    "    resampled_roi_fn = '_'.join(roi_fn_parts)\n",
    "    resampled_roi_img = resample_to_img(roi_img, anat_img, 'nearest')\n",
    "    resampled_roi_img.to_filename(resampled_roi_fn)\n",
    "    resampled_rois.append(resampled_roi_fn)\n",
    "    print(resampled_roi_img.shape, resampled_roi_img.affine, sep='\\n')\n",
    "    plot_roi(resampled_roi_img, bg_img=anat_img)"
   ]
  },
  {
   "cell_type": "code",
   "execution_count": null,
   "metadata": {},
   "outputs": [],
   "source": [
    "try:\n",
    "    if resampled_rois:\n",
    "        pass\n",
    "    else:\n",
    "        resampled_rois = [f for f in\n",
    "        preproc_layout.get(subject=sub, extension=['.nii.gz'], suffix='roi', return_type='file')\n",
    "        if (\"desc-LLGN\" in f or \"desc-RLGN\" in f) and ('T1w_nilearn' in f)]\n",
    "except NameError:\n",
    "    resampled_rois = [f for f in\n",
    "        preproc_layout.get(subject=sub, extension=['.nii.gz'], suffix='roi', return_type='file')\n",
    "        if (\"desc-LLGN\" in f or \"desc-RLGN\" in f) and ('T1w_nilearn' in f)]\n",
    "print('\\n'.join(resampled_rois))"
   ]
  },
  {
   "cell_type": "markdown",
   "metadata": {},
   "source": [
    "### Assign 80/20 or whatever"
   ]
  },
  {
   "cell_type": "code",
   "execution_count": null,
   "metadata": {},
   "outputs": [],
   "source": [
    "print(rois)"
   ]
  },
  {
   "cell_type": "code",
   "execution_count": null,
   "metadata": {},
   "outputs": [],
   "source": [
    "print(roi_ref_vol)"
   ]
  },
  {
   "cell_type": "code",
   "execution_count": null,
   "metadata": {},
   "outputs": [],
   "source": [
    "for roi in rois:\n",
    "    utils.roi_stats({roi:load_img(roi)}, load_img(roi_ref_vol))"
   ]
  },
  {
   "cell_type": "code",
   "execution_count": null,
   "metadata": {},
   "outputs": [],
   "source": [
    "for roi in big_rois:\n",
    "    big_roi_stub = op.basename(roi).split('_')[-2]\n",
    "    subdivision_rois = [f for f in rois if big_roi_stub in f and ('P' in f or 'M' in f)]\n",
    "    utils.roi_centers(roi, subdivision_rois, load_img(roi_ref_vol))"
   ]
  },
  {
   "cell_type": "code",
   "execution_count": null,
   "metadata": {},
   "outputs": [],
   "source": [
    "for roi in resampled_rois:\n",
    "    utils.roi_stats({roi:load_img(roi)}, anat_img)"
   ]
  },
  {
   "cell_type": "code",
   "execution_count": null,
   "metadata": {},
   "outputs": [],
   "source": [
    "_, mp_l2 = utils.get_model_outputs(mp_datasink, [1])\n",
    "beta_MP_img = load_img(beta_MP)"
   ]
  },
  {
   "cell_type": "code",
   "execution_count": null,
   "metadata": {
    "scrolled": false
   },
   "outputs": [],
   "source": [
    "for roi in big_rois:\n",
    "    roi_stats({roi:load_img(roi)})\n",
    "    if 'desc-L' in roi:\n",
    "        M_roi, P_roi, threshold = utils.assign_roi_percentile(roi, beta_MP, 80, ref_vol_img, 'L')\n",
    "    elif 'desc-R' in roi:\n",
    "        M_roi, P_roi, threshold = utils.assign_roi_percentile(roi, beta_MP, 80, ref_vol_img, 'R')\n",
    "    else:\n",
    "        print('Error - not sure which hemisphere roi is in')\n",
    "    roi_stats({'M':load_img(M_roi), 'P':load_img(P_roi)})"
   ]
  },
  {
   "cell_type": "markdown",
   "metadata": {},
   "source": [
    "### Cross-validation"
   ]
  },
  {
   "cell_type": "code",
   "execution_count": null,
   "metadata": {
    "ExecuteTime": {
     "end_time": "2020-08-30T17:39:05.928141Z",
     "start_time": "2020-08-30T17:39:05.857568Z"
    },
    "scrolled": true
   },
   "outputs": [],
   "source": [
    "# add code to:\n",
    "# compute threshold statistics (variance etc) across xval runs\n",
    "# \n",
    "def cross_val_glm(sub, ses, task, runs, raw_layout, preproc_layout):\n",
    "    print(raw_layout, preproc_layout, sep=\"\\n\")\n",
    "    raw_data_dir = raw_layout.root\n",
    "    out_dir = preproc_layout.root\n",
    "    working_dirs = []\n",
    "    for i,r in enumerate(runs):\n",
    "        other_runs = [*runs[0:i], *runs[i+1:]]\n",
    "        print(i, r, other_runs)\n",
    "        wdir = utils.run_fixedeffects_glm(sub, ses, task, other_runs,\n",
    "                    raw_data_dir, out_dir, working_dir_suffix=f\"excrun{r}\")\n",
    "        working_dirs.append(wdir)\n",
    "    return working_dirs"
   ]
  },
  {
   "cell_type": "code",
   "execution_count": null,
   "metadata": {},
   "outputs": [],
   "source": [
    "# beta_imgs = []\n",
    "# threshold = 6.0\n",
    "# for workdir in hemi_xval_outputs:\n",
    "#     datasink = f\"{workdir}/fixedeffects/modelfit/datasink\"\n",
    "#     xval_suffix = op.split(workdir)[-1].split('_')[-1] # e.g. 'excrun1'\n",
    "#     print(\"xvalRUN\", workdir) #, datasink, sep=\"\\n\")\n",
    "#     #!ls {mp_datasink}\n",
    "#     l1, l2 = utils.get_model_outputs(datasink, [1])\n",
    "#     beta = l2[0]\n",
    "#     beta_img = load_img(beta)\n",
    "#     print(beta, beta_img.shape)\n",
    "#     #thresholded_beta = threshold_img(beta_img, threshold, copy=True)\n",
    "#     bin_beta = math_img(f'img > {threshold}', img=beta_img)\n",
    "#     bin_beta.to_filename(f\"{out_dir}/sub-{sub}_ses-{ses}_hemi_mask_{xval_suffix}_thr{threshold:.0f}.nii.gz\")\n",
    "#     #print(np.count_nonzero(thresholded_beta.get_fdata()), np.count_nonzero(bin_beta.get_fdata()))\n",
    "#     beta_imgs.append(bin_beta)\n",
    "# print(beta_imgs)\n",
    "# intersect_img = nilearn.masking.intersect_masks(beta_imgs, threshold=1)\n",
    "# intersect_img.to_filename(f\"{out_dir}/sub-{sub}-ses-{ses}_hemi_intersect_mask_thr{threshold:.0f}.nii.gz\")\n",
    "# print((np.logical_and(*[b.get_fdata() for b in beta_imgs])).to_filename)"
   ]
  },
  {
   "cell_type": "code",
   "execution_count": null,
   "metadata": {
    "ExecuteTime": {
     "end_time": "2020-08-30T19:14:08.160927Z",
     "start_time": "2020-08-30T17:39:06.515893Z"
    }
   },
   "outputs": [],
   "source": [
    "mp_xval_outputs = cross_val_glm(sub, \"20191221\", \"mp\", [1, 2, 3, 4, 5, 6, 7, 8], raw_layout, preproc_layout)"
   ]
  },
  {
   "cell_type": "code",
   "execution_count": null,
   "metadata": {
    "ExecuteTime": {
     "end_time": "2020-08-30T19:17:43.464874Z",
     "start_time": "2020-08-30T19:17:43.251682Z"
    },
    "scrolled": true
   },
   "outputs": [],
   "source": [
    "mp_xval_outputs"
   ]
  },
  {
   "cell_type": "code",
   "execution_count": null,
   "metadata": {
    "ExecuteTime": {
     "end_time": "2020-08-30T19:17:48.689438Z",
     "start_time": "2020-08-30T19:17:48.358902Z"
    }
   },
   "outputs": [],
   "source": [
    "plt.imshow(ref_vol_img.get_data()[:,:,13])"
   ]
  },
  {
   "cell_type": "code",
   "execution_count": null,
   "metadata": {
    "ExecuteTime": {
     "end_time": "2020-08-31T23:05:26.709716Z",
     "start_time": "2020-08-31T23:05:26.391244Z"
    },
    "scrolled": false
   },
   "outputs": [],
   "source": [
    "thresholds = np.empty((2, len(mp_xval_outputs)))\n",
    "for (i, mp_workdir) in enumerate(mp_xval_outputs):\n",
    "    mp_datasink = f\"{mp_workdir}/fixedeffects/modelfit/datasink\"\n",
    "    print(\"xvalRUN\", mp_workdir, mp_datasink, sep=\"\\n\")\n",
    "    #!ls {mp_datasink}\n",
    "    _, mp_l2 = utils.get_model_outputs(mp_datasink, [1])\n",
    "    beta_MP = mp_l2[0]\n",
    "    beta_MP_img = load_img(beta_MP)\n",
    "    print(\"Left:\")\n",
    "    LP_roi, LM_roi, Lthreshold = utils.assign_roi_percentile(rois[0], beta_MP, 20, ref_vol_img, 'L')\n",
    "    thresholds[0, i] = Lthreshold\n",
    "    print(\"Right:\")\n",
    "    RP_roi, RM_roi, Rthreshold = utils.assign_roi_percentile(rois[1], beta_MP, 20, ref_vol_img, 'R')\n",
    "    thresholds[1, i] = Rthreshold\n",
    "    print(\"*********\\n\")"
   ]
  },
  {
   "cell_type": "code",
   "execution_count": null,
   "metadata": {},
   "outputs": [],
   "source": [
    "np.mean(thresholds, axis=1)"
   ]
  },
  {
   "cell_type": "code",
   "execution_count": null,
   "metadata": {},
   "outputs": [],
   "source": [
    "np.std(thresholds, axis=1)"
   ]
  },
  {
   "cell_type": "markdown",
   "metadata": {
    "heading_collapsed": true
   },
   "source": [
    "### Viewing and cutting etc"
   ]
  },
  {
   "cell_type": "code",
   "execution_count": null,
   "metadata": {
    "ExecuteTime": {
     "end_time": "2020-02-10T22:13:16.884737Z",
     "start_time": "2020-02-10T22:13:16.829850Z"
    },
    "hidden": true,
    "scrolled": true
   },
   "outputs": [],
   "source": [
    "cut = (-17, -3, 1)"
   ]
  },
  {
   "cell_type": "code",
   "execution_count": null,
   "metadata": {
    "ExecuteTime": {
     "end_time": "2020-02-10T22:13:20.340155Z",
     "start_time": "2020-02-10T22:13:20.157099Z"
    },
    "hidden": true,
    "scrolled": true
   },
   "outputs": [],
   "source": [
    "beta_RL_val = threshold_img(beta_RL, threshold=4.0)"
   ]
  },
  {
   "cell_type": "code",
   "execution_count": null,
   "metadata": {
    "ExecuteTime": {
     "end_time": "2020-02-10T22:13:59.417911Z",
     "start_time": "2020-02-10T22:13:58.599223Z"
    },
    "hidden": true,
    "scrolled": true
   },
   "outputs": [],
   "source": [
    "view_img(beta_RL_val, bg_img=ref_vol_path, cut_coords=cut)"
   ]
  },
  {
   "cell_type": "code",
   "execution_count": null,
   "metadata": {
    "ExecuteTime": {
     "end_time": "2020-02-10T22:14:07.116224Z",
     "start_time": "2020-02-10T22:14:07.060227Z"
    },
    "hidden": true,
    "scrolled": true
   },
   "outputs": [],
   "source": [
    "np.count_nonzero(beta_RL_val.dataobj)"
   ]
  },
  {
   "cell_type": "code",
   "execution_count": null,
   "metadata": {
    "ExecuteTime": {
     "end_time": "2020-01-31T22:36:54.304522Z",
     "start_time": "2020-01-31T22:36:52.265691Z"
    },
    "hidden": true,
    "scrolled": true
   },
   "outputs": [],
   "source": [
    "from nilearn.regions import connected_regions\n",
    "\n",
    "regions_value_img, index = connected_regions(beta_RL_val,\n",
    "                                             min_region_size=1500)\n",
    "title = (\"ROIs using image intensity thresholding. \"\n",
    "         \"\\n Each ROI in same color is an extracted region\")\n",
    "plotting.plot_prob_atlas(regions_value_img, bg_img=ref_vol_path,\n",
    "                         view_type='auto', display_mode='z',\n",
    "                         cut_coords=5, title=title)\n",
    "plotting.show()"
   ]
  },
  {
   "cell_type": "markdown",
   "metadata": {
    "collapsed": true
   },
   "source": [
    "## Coherence analysis to identify LGN voxels responding at flicker frequency"
   ]
  },
  {
   "cell_type": "markdown",
   "metadata": {
    "heading_collapsed": true
   },
   "source": [
    "### Use the actual utils.py function"
   ]
  },
  {
   "cell_type": "code",
   "execution_count": null,
   "metadata": {
    "ExecuteTime": {
     "end_time": "2020-02-13T23:16:19.386723Z",
     "start_time": "2020-02-13T23:16:11.672124Z"
    },
    "hidden": true,
    "scrolled": true
   },
   "outputs": [],
   "source": [
    "hemi_bolds, hemi_masks, hemi_eventfiles, hemi_TR, hemi_confounds = utils.get_files(sub, \"20191221\", \"hemi\",\n",
    "    raw_data_dir, out_dir, run=[1, 2])"
   ]
  },
  {
   "cell_type": "markdown",
   "metadata": {
    "heading_collapsed": true
   },
   "source": [
    "### Define hemifield alternation time series etc"
   ]
  },
  {
   "cell_type": "code",
   "execution_count": null,
   "metadata": {
    "ExecuteTime": {
     "end_time": "2020-01-27T20:34:21.626664Z",
     "start_time": "2020-01-27T20:34:21.366456Z"
    },
    "hidden": true,
    "scrolled": false
   },
   "outputs": [],
   "source": [
    "cycle_duration = 27 # (should be 27s)\n",
    "hemi_freq = (1.0/cycle_duration) # of hemifield alternation, in hertz\n",
    "n_trs_func = 139 # Length, in TRs, on a functional scan\n",
    "total_len = n_trs_func*hemi_TR # seconds\n",
    "Fs = 1/hemi_TR # Sampling freq\n",
    "trs_exc_beg = 6\n",
    "trs_exc_end = 1\n",
    "nfft = 61 #Number of time points to use in the window - 61 gives a band centered at .037037...\n",
    "#nperseg = n_trs_func - trs_exc_beg - trs_exc_end\n",
    "\n",
    "# frequency band of physiological relevance\n",
    "f_lb = 0.02\n",
    "f_ub = 0.15\n",
    "\n",
    "# frequency band within which hemifield alternation related activity exists\n",
    "f_lb_hemi = 0.035\n",
    "f_ub_hemi = 0.038\n",
    "\n",
    "print(hemi_freq)\n",
    "\n",
    "t = np.arange(0.0, total_len, hemi_TR)\n",
    "t_trim = np.arange((trs_exc_beg-1)*hemi_TR, (total_len - trs_exc_beg - trs_exc_end)+1, hemi_TR)\n",
    "hemifield_alternation_sinusoid = np.sin(hemi_freq*2*np.pi*t)\n",
    "hemi_alt_trim = hemifield_alternation_sinusoid[trs_exc_beg:(-1*trs_exc_end)]\n",
    "print(t, hemifield_alternation_sinusoid.shape)\n",
    "\n",
    "hemi_ts = ts.TimeSeries(data=hemifield_alternation_sinusoid,\n",
    "                         sampling_interval=hemi_TR)\n",
    "hemi_ts_trim = ts.TimeSeries(data=hemi_alt_trim,\n",
    "                         sampling_interval=hemi_TR)\n",
    "\n",
    "fig, ax = plt.subplots(1)\n",
    "ax.set_xlim(0, 50)\n",
    "ax.plot(t, hemifield_alternation_sinusoid)\n",
    "ax.plot(t_trim, hemi_alt_trim)"
   ]
  },
  {
   "cell_type": "markdown",
   "metadata": {},
   "source": [
    "##### Run 1 of hemifield"
   ]
  },
  {
   "cell_type": "code",
   "execution_count": null,
   "metadata": {},
   "outputs": [],
   "source": [
    "_, lgn_ts_run1 = utils.get_timeseries_from_file(hemi_bolds[0], rois[0], hemi_TR,\n",
    "                                detrend=False, standardize=False, high_pass=f_lb, low_pass=f_ub)"
   ]
  },
  {
   "cell_type": "code",
   "execution_count": null,
   "metadata": {},
   "outputs": [],
   "source": [
    "_, hemi_coh_by_voxel = utils.seed_coherence_timeseries(hemi_ts, lgn_ts_run1, f_ub, f_lb, dict(NFFT=nfft))"
   ]
  },
  {
   "cell_type": "markdown",
   "metadata": {},
   "source": [
    "##### Run 2 of hemifield"
   ]
  },
  {
   "cell_type": "code",
   "execution_count": null,
   "metadata": {},
   "outputs": [],
   "source": [
    "lgn_masker, lgn_ts_run2 = utils.get_timeseries_from_file(hemi_bolds[1], rois[0], hemi_TR,\n",
    "                                detrend=False, standardize=False, high_pass=f_lb, low_pass=f_ub)\n",
    "_, hemi_coh_by_voxel = utils.seed_coherence_timeseries(hemi_ts, lgn_ts_run2, f_ub, f_lb, dict(NFFT=nfft))"
   ]
  },
  {
   "cell_type": "markdown",
   "metadata": {},
   "source": [
    "#### Average the runs for better SNR"
   ]
  },
  {
   "cell_type": "code",
   "execution_count": null,
   "metadata": {
    "ExecuteTime": {
     "end_time": "2020-01-25T21:46:32.630821Z",
     "start_time": "2020-01-25T21:45:55.534961Z"
    },
    "hidden": true,
    "scrolled": true
   },
   "outputs": [],
   "source": [
    "mean_bold_timeseries = utils.average_timeseries(hemi_bolds, lgn_masker)"
   ]
  },
  {
   "cell_type": "code",
   "execution_count": null,
   "metadata": {
    "ExecuteTime": {
     "end_time": "2020-01-25T21:46:32.754830Z",
     "start_time": "2020-01-25T21:46:32.633525Z"
    },
    "hidden": true,
    "scrolled": true
   },
   "outputs": [],
   "source": [
    "mean_bold_timeseries.shape"
   ]
  },
  {
   "cell_type": "code",
   "execution_count": null,
   "metadata": {
    "ExecuteTime": {
     "end_time": "2020-01-25T21:46:33.506888Z",
     "start_time": "2020-01-25T21:46:33.390924Z"
    },
    "hidden": true,
    "scrolled": true
   },
   "outputs": [],
   "source": [
    "trim_bold_nm = mean_bold_timeseries[trs_exc_beg:(-1*trs_exc_end),:] # note we are using the mean of the two runs\n",
    "trim_bold_nm.shape"
   ]
  },
  {
   "cell_type": "code",
   "execution_count": null,
   "metadata": {},
   "outputs": [],
   "source": [
    "mean_lgn_ts = ts.TimeSeries(data=trim_bold_nm.T, sampling_interval=hemi_TR)\n",
    "hemi_analyzer, hemi_coh_by_voxel = utils.seed_coherence_timeseries(hemi_ts_trim, mean_lgn_ts, f_ub, f_lb, dict(NFFT=nfft))"
   ]
  },
  {
   "cell_type": "markdown",
   "metadata": {},
   "source": [
    "##### Run it again but this time with a narrow frequency range for just hemifield alternation"
   ]
  },
  {
   "cell_type": "code",
   "execution_count": null,
   "metadata": {},
   "outputs": [],
   "source": [
    "mean_lgn_ts = ts.TimeSeries(data=trim_bold_nm.T, sampling_interval=hemi_TR)\n",
    "hemi_analyzer, hemi_coh_by_voxel = utils.seed_coherence_timeseries(hemi_ts_trim, mean_lgn_ts,\n",
    "                                                                   f_ub_hemi, f_lb_hemi, dict(NFFT=nfft))"
   ]
  },
  {
   "cell_type": "markdown",
   "metadata": {
    "hidden": true
   },
   "source": [
    "#### Write coherence values to Nifti file"
   ]
  },
  {
   "cell_type": "code",
   "execution_count": null,
   "metadata": {
    "ExecuteTime": {
     "end_time": "2020-01-22T17:54:23.313468Z",
     "start_time": "2020-01-22T17:54:23.250220Z"
    },
    "hidden": true,
    "scrolled": true
   },
   "outputs": [],
   "source": [
    "coherence_img = lgn_masker.inverse_transform(hemi_coh_by_voxel)\n",
    "coherence_img.shape"
   ]
  },
  {
   "cell_type": "code",
   "execution_count": null,
   "metadata": {
    "ExecuteTime": {
     "end_time": "2020-01-22T17:54:24.449809Z",
     "start_time": "2020-01-22T17:54:24.391167Z"
    },
    "hidden": true,
    "scrolled": true
   },
   "outputs": [],
   "source": [
    "print(lgn_coh_fn)"
   ]
  },
  {
   "cell_type": "code",
   "execution_count": null,
   "metadata": {
    "ExecuteTime": {
     "end_time": "2020-01-22T17:54:27.974412Z",
     "start_time": "2020-01-22T17:54:27.910600Z"
    },
    "hidden": true,
    "scrolled": true
   },
   "outputs": [],
   "source": [
    "coherence_img.to_filename(lgn_coh_fn)"
   ]
  },
  {
   "cell_type": "markdown",
   "metadata": {},
   "source": [
    "#### Look at cortical ROI coherence with hemifield alternations"
   ]
  },
  {
   "cell_type": "code",
   "execution_count": null,
   "metadata": {},
   "outputs": [],
   "source": [
    "cortical_masker, cortical_ts_run2 = utils.get_timeseries_from_file(hemi_bolds[1], cortical_rois[0], hemi_TR,\n",
    "                                detrend=False, standardize='zscore', high_pass=f_lb, low_pass=f_ub)\n",
    "_, hemi_coh_by_voxel = utils.seed_coherence_timeseries(hemi_ts, cortical_ts_run2, f_ub_hemi, f_lb_hemi, dict(NFFT=nfft))"
   ]
  },
  {
   "cell_type": "markdown",
   "metadata": {
    "hidden": true
   },
   "source": [
    "#### Write coherence values to Nifti file"
   ]
  },
  {
   "cell_type": "code",
   "execution_count": null,
   "metadata": {
    "ExecuteTime": {
     "end_time": "2020-01-22T17:54:23.313468Z",
     "start_time": "2020-01-22T17:54:23.250220Z"
    },
    "hidden": true,
    "scrolled": true
   },
   "outputs": [],
   "source": [
    "coherence_img = cortical_masker.inverse_transform(hemi_coh_by_voxel)\n",
    "coherence_img.shape"
   ]
  },
  {
   "cell_type": "code",
   "execution_count": null,
   "metadata": {
    "ExecuteTime": {
     "end_time": "2020-01-22T17:54:24.449809Z",
     "start_time": "2020-01-22T17:54:24.391167Z"
    },
    "hidden": true,
    "scrolled": true
   },
   "outputs": [],
   "source": [
    "print(cortex_coh_fn)"
   ]
  },
  {
   "cell_type": "code",
   "execution_count": null,
   "metadata": {
    "ExecuteTime": {
     "end_time": "2020-01-22T17:54:27.974412Z",
     "start_time": "2020-01-22T17:54:27.910600Z"
    },
    "hidden": true,
    "scrolled": true
   },
   "outputs": [],
   "source": [
    "coherence_img.to_filename(cortex_coh_fn)"
   ]
  },
  {
   "cell_type": "markdown",
   "metadata": {
    "hidden": true
   },
   "source": [
    "#### SpectralAnalyzer - view and plot FFT, PSD, etc."
   ]
  },
  {
   "cell_type": "code",
   "execution_count": null,
   "metadata": {
    "ExecuteTime": {
     "end_time": "2020-01-25T22:02:53.630910Z",
     "start_time": "2020-01-25T22:02:53.570465Z"
    },
    "hidden": true,
    "scrolled": true
   },
   "outputs": [],
   "source": [
    "def plot_spectra(S_original, voxid):\n",
    "    fig01 = plt.figure()\n",
    "    ax01 = fig01.add_subplot(1, 1, 1)\n",
    "    if voxid is None:\n",
    "        ax01.plot(S_original.psd[0],\n",
    "                  S_original.psd[1],\n",
    "                  label='PSD')\n",
    "        ax01.plot(S_original.spectrum_fourier[0],\n",
    "              np.abs(S_original.spectrum_fourier[1]),\n",
    "              label='FFT')\n",
    "#         ax01.plot(S_original.spectrum_multi_taper[0],\n",
    "#               np.abs(S_original.spectrum_multi_taper[1]),\n",
    "#               label='Multitaper')\n",
    "        \n",
    "    else:\n",
    "        ax01.plot(S_original.psd[0],\n",
    "                  S_original.psd[1][voxid],\n",
    "                  label='PSD')\n",
    "        ax01.plot(S_original.spectrum_fourier[0],\n",
    "              np.abs(S_original.spectrum_fourier[1][voxid]),\n",
    "              label='FFT')\n",
    "#         ax01.plot(S_original.spectrum_multi_taper[0],\n",
    "#               np.abs(S_original.spectrum_multi_taper[1][voxid]),\n",
    "#               label='Multitaper')\n",
    "    print(S_original.psd[0], S_original.psd[1], len(S_original.psd[1]), sep='\\n')\n",
    "\n",
    "    ax01.set_xlabel('Frequency (Hz)')\n",
    "    ax01.set_ylabel('Power')\n",
    "\n",
    "    ax01.legend()"
   ]
  },
  {
   "cell_type": "code",
   "execution_count": null,
   "metadata": {
    "ExecuteTime": {
     "end_time": "2020-01-25T22:03:04.687435Z",
     "start_time": "2020-01-25T22:02:55.414520Z"
    },
    "hidden": true,
    "scrolled": false
   },
   "outputs": [],
   "source": [
    "plot_spectra(\n",
    "    nta.SpectralAnalyzer(hemi_ts_trim, method={#'this_method':'welch',\n",
    "                                                        'NFFT':nfft,\n",
    "                                                        'Fs':hemi_ts_trim.sampling_rate})\n",
    "    , None)\n",
    "plot_spectra(\n",
    "    nta.SpectralAnalyzer(mean_lgn_ts, method={#'this_method':'welch',\n",
    "                                                        'NFFT':nfft,\n",
    "                                                        'Fs':hemi_ts_trim.sampling_rate})\n",
    "    , 15)"
   ]
  },
  {
   "cell_type": "code",
   "execution_count": null,
   "metadata": {},
   "outputs": [],
   "source": [
    "lgn_roi_mean_timeseries = ts.TimeSeries(np.mean(mean_lgn_ts.data, axis=0), sampling_interval=hemi_TR)"
   ]
  },
  {
   "cell_type": "code",
   "execution_count": null,
   "metadata": {},
   "outputs": [],
   "source": [
    "lgn_roi_mean_timeseries.data.shape"
   ]
  },
  {
   "cell_type": "code",
   "execution_count": null,
   "metadata": {},
   "outputs": [],
   "source": [
    "plot_spectra(\n",
    "    nta.SpectralAnalyzer(hemi_ts_trim, method={#'this_method':'welch',\n",
    "                                                        'NFFT':132,\n",
    "                                                        'Fs':hemi_ts_trim.sampling_rate})\n",
    "    , None)\n",
    "plot_spectra(\n",
    "    nta.SpectralAnalyzer(lgn_roi_mean_timeseries, method={#'this_method':'welch',\n",
    "                                                        'NFFT':132,\n",
    "                                                        'Fs':hemi_ts_trim.sampling_rate}), None)"
   ]
  },
  {
   "cell_type": "markdown",
   "metadata": {},
   "source": [
    "### SeedCoherenceAnalyzer for connectivity"
   ]
  },
  {
   "cell_type": "code",
   "execution_count": null,
   "metadata": {},
   "outputs": [],
   "source": [
    "conn_bolds, conn_masks, conn_eventfiles, conn_TR, conn_confounds = utils.get_files(sub, ses, \"conn\",\n",
    "    raw_data_dir, out_dir, run=[1, 5,])"
   ]
  },
  {
   "cell_type": "code",
   "execution_count": null,
   "metadata": {},
   "outputs": [],
   "source": [
    "f_lb = 0.02\n",
    "f_ub = 0.15"
   ]
  },
  {
   "cell_type": "code",
   "execution_count": null,
   "metadata": {},
   "outputs": [],
   "source": [
    "print(rois[1])"
   ]
  },
  {
   "cell_type": "code",
   "execution_count": null,
   "metadata": {
    "scrolled": false
   },
   "outputs": [],
   "source": [
    "for roi in [rois[1]]:\n",
    "    if 'M' in roi or 'P' in roi:\n",
    "        bn = op.basename(roi)\n",
    "        parts = bn.split('_')\n",
    "        print(parts)\n",
    "        conn_coh_fn = os.path.join(out_dir, f\"sub-{sub}_ses-{ses}_task-conn_{parts[-2]}_coherence_map.nii\")\n",
    "        print(conn_coh_fn)\n",
    "        cohs = []\n",
    "        for i, bold in enumerate(conn_bolds):\n",
    "            print(i, bold)\n",
    "            #below: wholebrain mask with mean of seed roi\n",
    "            #a = utils.seed_coherence_analysis(bold, conn_masks[i], roi,\n",
    "            #                  conn_TR, f_ub, f_lb, conn_coh_fn, mean_seed=True)\n",
    "            # below: roi with the mean of that roi\n",
    "            #a = utils.seed_coherence_analysis(bold, roi, roi,\n",
    "            #      conn_TR, f_ub, f_lb, conn_coh_fn, mean_seed=True)\n",
    "            # below: cortical roi (hand-defined and hardcoded) with mean of seed ROI\n",
    "            a, _ = utils.seed_coherence_analysis(bold, cortical_rois[0], roi,\n",
    "                  conn_TR, f_ub, f_lb, conn_coh_fn, mean_seed=True)\n",
    "\n",
    "            cohs.append(a.coherence)"
   ]
  },
  {
   "cell_type": "code",
   "execution_count": null,
   "metadata": {},
   "outputs": [],
   "source": [
    "for coh in cohs:\n",
    "    print(coh.shape)"
   ]
  },
  {
   "cell_type": "markdown",
   "metadata": {},
   "source": [
    "## ROI plotting"
   ]
  },
  {
   "cell_type": "code",
   "execution_count": null,
   "metadata": {
    "ExecuteTime": {
     "end_time": "2020-02-28T22:00:17.675487Z",
     "start_time": "2020-02-28T22:00:16.748278Z"
    },
    "scrolled": true
   },
   "outputs": [],
   "source": [
    "imgs_in_order = [RP_roi, RM_roi, beta_MP_img]\n",
    "r = 5\n",
    "c = 3\n",
    "fig, ax = plt.subplots(nrows=r, figsize=(10,10))\n",
    "img_data = [img.get_data() for img in imgs_in_order]\n",
    "p_roi, m_roi, beta_mp = img_data\n",
    "print([np.count_nonzero(x) for x in img_data])\n",
    "p_roi_masked = np.ma.masked_where(p_roi==0, p_roi)\n",
    "m_roi_masked = np.ma.masked_where(m_roi==0, m_roi)\n",
    "p_mask = np.ma.getmask(p_roi_masked)\n",
    "m_mask = np.ma.getmask(m_roi_masked)\n",
    "both_mask = np.logical_and(p_mask,m_mask)\n",
    "beta_masked = np.ma.masked_array(beta_mp, mask=both_mask)\n",
    "print([np.count_nonzero(~m) for m in [p_mask, m_mask, both_mask]])\n",
    "ref_vol_data = ref_vol_img.get_data()\n",
    "for ri in range(r):\n",
    "    #ax[ri].imshow(ref_vol_data[10:64,50:70,14-ri])\n",
    "    pos = ax[ri].imshow(beta_masked[40:64,50:70,14-ri], cmap=\"cyan_orange\")\n",
    "    plt.colorbar(pos, ax=ax[ri])"
   ]
  },
  {
   "cell_type": "code",
   "execution_count": null,
   "metadata": {
    "ExecuteTime": {
     "end_time": "2020-02-28T00:12:54.553707Z",
     "start_time": "2020-02-28T00:12:52.782875Z"
    },
    "scrolled": true
   },
   "outputs": [],
   "source": [
    "imgs_in_order = [LP_roi, LM_roi]\n",
    "r = 5\n",
    "c = 2\n",
    "fig, ax = plt.subplots(nrows=r, ncols=c, figsize=(10,10))\n",
    "img_data = [img.get_data() for img in imgs_in_order]\n",
    "img_data_masked = [np.ma.masked_where(img==0, img) for img in img_data]\n",
    "ref_vol_data = ref_vol_img.get_data()\n",
    "    #plot_roi(imgdata[slice(70,80), slice(55,65), slice(10,15)])\n",
    "for ri in range(r):\n",
    "    for ci in range(c):\n",
    "        ax[ri, ci].imshow(ref_vol_data[64:-20,:,14-ri])\n",
    "        ax[ri, ci].imshow(img_data_masked[ci][64:-20,:,14-ri], cmap=\"binary\")"
   ]
  },
  {
   "cell_type": "code",
   "execution_count": null,
   "metadata": {
    "ExecuteTime": {
     "end_time": "2020-02-27T20:17:42.026530Z",
     "start_time": "2020-02-27T20:17:40.658643Z"
    },
    "scrolled": true
   },
   "outputs": [],
   "source": [
    "imgs_in_order=[RP_roi, RM_roi]\n",
    "r = 5\n",
    "c = 2\n",
    "fig, ax = plt.subplots(nrows=r, ncols=c, figsize=(10,10))\n",
    "img_data = [img.get_data() for img in imgs_in_order]\n",
    "img_data_masked = [np.ma.masked_where(img==0, img) for img in img_data]\n",
    "ref_vol_data = ref_vol_img.get_data()\n",
    "    #plot_roi(imgdata[slice(70,80), slice(55,65), slice(10,15)])\n",
    "for ri in range(r):\n",
    "    for ci in range(c):\n",
    "        ax[ri, ci].imshow(ref_vol_data[10:64,:,14-ri])\n",
    "        ax[ri, ci].imshow(img_data_masked[ci][10:64,:,14-ri], cmap=\"binary\")"
   ]
  },
  {
   "cell_type": "code",
   "execution_count": null,
   "metadata": {
    "ExecuteTime": {
     "end_time": "2020-02-27T19:00:47.188182Z",
     "start_time": "2020-02-27T19:00:47.114352Z"
    },
    "scrolled": true
   },
   "outputs": [],
   "source": [
    "def view_copes(datasink, contrasts, **kwargs):\n",
    "    l1copes, l2copes = utils.get_model_outputs(datasink, contrasts)\n",
    "    return nilearn.plotting.view_img(l2copes[0], **kwargs)"
   ]
  },
  {
   "cell_type": "code",
   "execution_count": null,
   "metadata": {
    "ExecuteTime": {
     "end_time": "2020-02-27T19:00:48.707094Z",
     "start_time": "2020-02-27T19:00:47.514737Z"
    },
    "scrolled": true
   },
   "outputs": [],
   "source": [
    "view_copes(mp_datasink, [3], bg_img=ref_vol_path, threshold=\"90%\", vmax=3, cut_coords=cut)"
   ]
  },
  {
   "cell_type": "code",
   "execution_count": null,
   "metadata": {
    "ExecuteTime": {
     "end_time": "2020-02-27T19:00:52.644118Z",
     "start_time": "2020-02-27T19:00:52.585376Z"
    },
    "scrolled": true
   },
   "outputs": [],
   "source": [
    "def plot_lgn(datasink, contrasts, **kwargs):\n",
    "    l1copes, l2copes = utils.get_model_outputs(datasink, contrasts)\n",
    "    return nilearn.plotting.plot_img(l2copes[0], **kwargs)"
   ]
  },
  {
   "cell_type": "code",
   "execution_count": null,
   "metadata": {
    "ExecuteTime": {
     "end_time": "2020-02-27T19:00:54.429616Z",
     "start_time": "2020-02-27T19:00:53.497004Z"
    },
    "scrolled": true
   },
   "outputs": [],
   "source": [
    "plot_lgn(mp_datasink, [3], threshold=2, cut_coords=cut, bg_img=ref_vol_path)"
   ]
  },
  {
   "cell_type": "code",
   "execution_count": null,
   "metadata": {
    "ExecuteTime": {
     "end_time": "2020-02-27T19:03:02.421130Z",
     "start_time": "2020-02-27T19:03:01.487943Z"
    },
    "scrolled": true
   },
   "outputs": [],
   "source": [
    "view_copes(hemi_datasink, [3], bg_img=ref_vol_path, threshold=2, vmax=5, cut_coords=(-17, -3, 1))"
   ]
  },
  {
   "cell_type": "code",
   "execution_count": null,
   "metadata": {
    "ExecuteTime": {
     "end_time": "2020-02-27T19:12:23.011827Z",
     "start_time": "2020-02-27T19:12:22.951822Z"
    },
    "scrolled": true
   },
   "outputs": [],
   "source": [
    "LP_roi.get_data().shape"
   ]
  },
  {
   "cell_type": "code",
   "execution_count": null,
   "metadata": {
    "scrolled": true
   },
   "outputs": [],
   "source": []
  },
  {
   "cell_type": "code",
   "execution_count": null,
   "metadata": {
    "ExecuteTime": {
     "end_time": "2020-02-27T19:21:15.856414Z",
     "start_time": "2020-02-27T19:21:10.704137Z"
    },
    "scrolled": true
   },
   "outputs": [],
   "source": [
    "roi_fig = plt.figure(figsize=(10, 5))\n",
    "plot_roi(LP_roi, bg_img=ref_vol_path, display_mode='x',\n",
    "         cut_coords=range(-23, -14), cmap=plt.get_cmap(\"brown_cyan\"),\n",
    "        figure=roi_fig)\n",
    "roi_fig2 = plt.figure(figsize=(10, 5))\n",
    "plot_roi(LP_roi, bg_img=anat_file, display_mode='x',\n",
    "         cut_coords=range(-23, -14), cmap=plt.get_cmap(\"brown_cyan\"),\n",
    "        figure=roi_fig2)"
   ]
  },
  {
   "cell_type": "code",
   "execution_count": null,
   "metadata": {
    "ExecuteTime": {
     "end_time": "2020-02-27T19:07:37.164242Z",
     "start_time": "2020-02-27T19:07:35.953313Z"
    },
    "scrolled": true
   },
   "outputs": [],
   "source": [
    "plot_roi(LP_roi, bg_img=ref_vol_path, cut_coords=cut)"
   ]
  }
 ],
 "metadata": {
  "kernelspec": {
   "display_name": "Python 3",
   "language": "python",
   "name": "python3"
  },
  "language_info": {
   "codemirror_mode": {
    "name": "ipython",
    "version": 3
   },
   "file_extension": ".py",
   "mimetype": "text/x-python",
   "name": "python",
   "nbconvert_exporter": "python",
   "pygments_lexer": "ipython3",
   "version": "3.7.8"
  },
  "varInspector": {
   "cols": {
    "lenName": 16,
    "lenType": 16,
    "lenVar": 40
   },
   "kernels_config": {
    "python": {
     "delete_cmd_postfix": "",
     "delete_cmd_prefix": "del ",
     "library": "var_list.py",
     "varRefreshCmd": "print(var_dic_list())"
    },
    "r": {
     "delete_cmd_postfix": ") ",
     "delete_cmd_prefix": "rm(",
     "library": "var_list.r",
     "varRefreshCmd": "cat(var_dic_list()) "
    }
   },
   "types_to_exclude": [
    "module",
    "function",
    "builtin_function_or_method",
    "instance",
    "_Feature"
   ],
   "window_display": false
  }
 },
 "nbformat": 4,
 "nbformat_minor": 2
}
