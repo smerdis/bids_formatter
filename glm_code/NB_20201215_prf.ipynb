{
 "cells": [
  {
   "cell_type": "markdown",
   "metadata": {},
   "source": [
    "# Setup"
   ]
  },
  {
   "cell_type": "code",
   "execution_count": null,
   "metadata": {},
   "outputs": [],
   "source": [
    "import os, pickle, glob\n",
    "from bids import BIDSLayout\n",
    "\n",
    "import numpy as np\n",
    "\n",
    "import matplotlib.pyplot as plt\n",
    "\n",
    "import nibabel as nib\n",
    "\n",
    "import nilearn\n",
    "from nilearn.input_data import NiftiMasker\n",
    "from nilearn.image import get_data, math_img, index_img, load_img\n",
    "\n",
    "import utils\n",
    "\n",
    "from PIL import Image\n",
    "import cv2 as cv"
   ]
  },
  {
   "cell_type": "code",
   "execution_count": null,
   "metadata": {},
   "outputs": [],
   "source": [
    "print(' numpy: ', np.__version__, '\\n',\n",
    "      'nibabel: ', nib.__version__, '\\n',\n",
    "      'nilearn: ', nilearn.__version__, '\\n')"
   ]
  },
  {
   "cell_type": "code",
   "execution_count": null,
   "metadata": {},
   "outputs": [],
   "source": [
    "sub = \"NB\"\n",
    "ses = \"20201215\"\n",
    "\n",
    "raw_data_dir = os.path.abspath(\"/Users/smerdis/data/LGN/BIDS/NB_20201215/sub-NB/\")\n",
    "raw_layout = BIDSLayout(raw_data_dir, validate=False, derivatives=False)\n",
    "derivs_dir = os.path.abspath('/Users/smerdis/data/LGN/BIDS/NB_20201215/derivatives/prf')\n",
    "freesurfer_dir = os.path.abspath('/Users/smerdis/data/LGN/BIDS/NB_20201215/derivatives/freesurfer')\n",
    "\n",
    "out_dir = os.path.abspath(f\"{derivs_dir}/sub-{sub}\")\n",
    "preproc_layout = BIDSLayout(out_dir, validate=False)\n",
    "\n",
    "anat_file = sorted([f for f in raw_layout.get(subject=sub, session=ses, suffix='T1w',\n",
    "            extension=['nii.gz'], return_type='file')])[0]\n",
    "print(f\"anat file: {anat_file}\")\n",
    "raw_bolds_prf = sorted([f for f in raw_layout.get(subject=sub, session=ses, task='prf', suffix='bold',\n",
    "            extension=['nii.gz'], return_type='file')])\n",
    "mcf_bolds_prf = sorted([f for f in preproc_layout.get(subject=sub, session=ses, task='prf', suffix='bold',\n",
    "            extension=['nii.gz'], return_type='file') if 'mcflirt' in f])\n",
    "\n",
    "prf_mask_file = os.path.abspath(f\"{out_dir}/sub-{sub}_ses-{ses}_mask.nii.gz\")\n"
   ]
  },
  {
   "cell_type": "code",
   "execution_count": null,
   "metadata": {},
   "outputs": [],
   "source": [
    "print('\\n'.join(raw_bolds_prf))"
   ]
  },
  {
   "cell_type": "code",
   "execution_count": null,
   "metadata": {},
   "outputs": [],
   "source": [
    "print('\\n'.join(mcf_bolds_prf))"
   ]
  },
  {
   "cell_type": "code",
   "execution_count": null,
   "metadata": {},
   "outputs": [],
   "source": [
    "prf_ref_vol_name = f\"sub-{sub}_ses-{ses}_refvol.nii.gz\"\n",
    "prf_ref_vol_path = f\"{out_dir}/{prf_ref_vol_name}\"\n",
    "print(prf_ref_vol_path)\n",
    "!ls {prf_ref_vol_path}"
   ]
  },
  {
   "cell_type": "markdown",
   "metadata": {},
   "source": [
    "# Preprocessing"
   ]
  },
  {
   "cell_type": "markdown",
   "metadata": {},
   "source": [
    "## Make reference volume from first dicom"
   ]
  },
  {
   "cell_type": "code",
   "execution_count": null,
   "metadata": {},
   "outputs": [],
   "source": [
    "first_dicom_prf = \"/Users/smerdis/Dropbox/data/LGN/Nb_Prf_20201215/Silver_Arjun\\ -\\ 1/mb_bold_mb3_175iso_2sTR_5/IM-0005-0001.dcm\""
   ]
  },
  {
   "cell_type": "code",
   "execution_count": null,
   "metadata": {},
   "outputs": [],
   "source": [
    "dcm2niix_cmd = f\"dcm2niix -v 2 -s y -f {prf_ref_vol_name} -z y -o {out_dir} {first_dicom_prf}\"\n",
    "print(dcm2niix_cmd)"
   ]
  },
  {
   "cell_type": "markdown",
   "metadata": {},
   "source": [
    "## Motion correct BOLD runs to this refvol"
   ]
  },
  {
   "cell_type": "code",
   "execution_count": null,
   "metadata": {},
   "outputs": [],
   "source": [
    "def make_preproc_name(this_epi, desc, insert=True):\n",
    "    epi_name = os.path.basename(this_epi)\n",
    "    epi_stub = epi_name.split('.')[0]\n",
    "    epi_stub_parts = epi_stub.split('_')\n",
    "    if insert:\n",
    "        epi_stub_parts.insert(-1, desc)\n",
    "    else:\n",
    "        epi_stub_parts[-2] = desc\n",
    "    epi_stub_mcf = '_'.join(epi_stub_parts)\n",
    "    return epi_stub_mcf"
   ]
  },
  {
   "cell_type": "code",
   "execution_count": null,
   "metadata": {},
   "outputs": [],
   "source": [
    "for this_epi in raw_bolds_prf:\n",
    "    epi_stub_mcf = make_preproc_name(this_epi, 'desc-mcflirt')\n",
    "    if not os.path.isdir(os.path.join(out_dir, f\"ses-{ses}\", \"func\")):\n",
    "        os.makedirs(os.path.join(out_dir, f\"ses-{ses}\", \"func\"))\n",
    "    full_outpath = os.path.join(out_dir, f\"ses-{ses}\", \"func\", epi_stub_mcf)\n",
    "    mcflirt_cmd = f\"mcflirt -reffile {prf_ref_vol_path} -mats -plots -report -cost mutualinfo -smooth 16 -in {this_epi} -o {full_outpath}\"\n",
    "    print(mcflirt_cmd)\n",
    "    #os.system(mcflirt_cmd)"
   ]
  },
  {
   "cell_type": "markdown",
   "metadata": {},
   "source": [
    "## Make brainmask from first run"
   ]
  },
  {
   "cell_type": "code",
   "execution_count": null,
   "metadata": {},
   "outputs": [],
   "source": [
    "!ls {prf_mask_file}"
   ]
  },
  {
   "cell_type": "code",
   "execution_count": null,
   "metadata": {},
   "outputs": [],
   "source": [
    "prf_masker = NiftiMasker(detrend=False, standardize=False, mask_strategy=\"epi\", t_r=2.0)\n",
    "prf_masker.fit(mcf_bolds_prf[0])\n",
    "prf_masker.mask_img_.to_filename(prf_mask_file)\n",
    "prf_mask_img = prf_masker.mask_img_\n",
    "print(prf_mask_file, prf_mask_img.shape)"
   ]
  },
  {
   "cell_type": "markdown",
   "metadata": {},
   "source": [
    "## Read in, highpass filter, normalize to psc, and save"
   ]
  },
  {
   "cell_type": "code",
   "execution_count": null,
   "metadata": {},
   "outputs": [],
   "source": [
    "m = NiftiMasker(mask_img=prf_mask_file, standardize='psc', detrend=True,\n",
    "                high_pass=0.02, t_r=2, mask_strategy='epi', verbose=1)"
   ]
  },
  {
   "cell_type": "code",
   "execution_count": null,
   "metadata": {},
   "outputs": [],
   "source": [
    "for epi in mcf_bolds_prf:\n",
    "    preproc_fn = make_preproc_name(epi, 'desc-preproc', insert=False)\n",
    "    full_outpath = os.path.join(out_dir, f\"ses-{ses}\", \"func\", preproc_fn)\n",
    "    #preproc_data = m.fit_transform(epi)\n",
    "    #preproc_img = m.inverse_transform(preproc_data)\n",
    "    #print(full_outpath, preproc_img.shape)\n",
    "    #preproc_img.to_filename(full_outpath)"
   ]
  },
  {
   "cell_type": "code",
   "execution_count": null,
   "metadata": {},
   "outputs": [],
   "source": [
    "!ls /Users/smerdis/data/LGN/BIDS/NB_20201215/derivatives/prf/sub-NB/ses-20201215/func/sub-NB_ses-20201215_task-prf_run-01_desc-preproc_bold.nii"
   ]
  },
  {
   "cell_type": "markdown",
   "metadata": {},
   "source": [
    "## Average"
   ]
  },
  {
   "cell_type": "code",
   "execution_count": null,
   "metadata": {},
   "outputs": [],
   "source": [
    "i = load_img(preproc_bolds_prf[0])\n",
    "print(i.affine)"
   ]
  },
  {
   "cell_type": "code",
   "execution_count": null,
   "metadata": {
    "scrolled": true
   },
   "outputs": [],
   "source": [
    "preproc_bolds_prf = sorted([f for f in preproc_layout.get(subject=sub, session=ses, task='prf', suffix='bold',\n",
    "            extension=['nii'], return_type='file') if 'preproc' in f])\n",
    "\n",
    "print('\\n'.join(preproc_bolds_prf))\n",
    "prf_input_img = utils.make_timeseries_for_prf(preproc_bolds_prf)"
   ]
  },
  {
   "cell_type": "code",
   "execution_count": null,
   "metadata": {},
   "outputs": [],
   "source": [
    "prf_input_img"
   ]
  },
  {
   "cell_type": "code",
   "execution_count": null,
   "metadata": {},
   "outputs": [],
   "source": [
    "nib.save(prf_input_img, \n",
    "         f\"{out_dir}/sub-{sub}_ses-{ses}_preproc_mean_trim.nii\")"
   ]
  },
  {
   "cell_type": "markdown",
   "metadata": {},
   "source": [
    "# Make cortical mask"
   ]
  },
  {
   "cell_type": "markdown",
   "metadata": {},
   "source": [
    "## Convert some freesurfer mgz files to nifti"
   ]
  },
  {
   "cell_type": "code",
   "execution_count": null,
   "metadata": {},
   "outputs": [],
   "source": [
    "ribbon_mgz = f\"{freesurfer_dir}/{sub}/mri/ribbon.mgz\"\n",
    "ribbon_nii = f\"{out_dir}/ribbon.nii.gz\"\n",
    "brain_mgz = f\"{freesurfer_dir}/{sub}/mri/brain.mgz\"\n",
    "brain_nii = f\"{out_dir}/brain.nii.gz\""
   ]
  },
  {
   "cell_type": "code",
   "execution_count": null,
   "metadata": {},
   "outputs": [],
   "source": [
    "print(f\"cd {out_dir}\")\n",
    "print(f\"freeview {brain_mgz} {ribbon_mgz}\")"
   ]
  },
  {
   "cell_type": "code",
   "execution_count": null,
   "metadata": {},
   "outputs": [],
   "source": [
    "mriconv_cmd = f\"mri_convert --in_type mgz --out_type nii --out_orientation RAS \\\n",
    "{brain_mgz} {brain_nii}\"\n",
    "print(mriconv_cmd)\n",
    "os.system(mriconv_cmd)\n",
    "mriconv_cmd = f\"mri_convert --in_type mgz --out_type nii --out_orientation RAS \\\n",
    "{freesurfer_dir}/{sub}/mri/wm.seg.mgz {out_dir}/wmseg.nii.gz\"\n",
    "print(mriconv_cmd)\n",
    "os.system(mriconv_cmd)\n",
    "mriconv_cmd = f\"mri_convert --in_type mgz --out_type nii --out_orientation RAS \\\n",
    "{ribbon_mgz} {ribbon_nii}\"\n",
    "print(mriconv_cmd)\n",
    "os.system(mriconv_cmd)"
   ]
  },
  {
   "cell_type": "markdown",
   "metadata": {},
   "source": [
    "## Use FLIRT to register func ref vol to anat, save transform"
   ]
  },
  {
   "cell_type": "code",
   "execution_count": null,
   "metadata": {},
   "outputs": [],
   "source": [
    "epi2struct_xfm = f\"{out_dir}/epi2struct.mat\"\n",
    "struct2epi_xfm = f\"{out_dir}/struct2epi.mat\""
   ]
  },
  {
   "cell_type": "code",
   "execution_count": null,
   "metadata": {},
   "outputs": [],
   "source": [
    "flirt_cmd = f\"flirt -in {prf_ref_vol_path} -ref {brain_nii} -wmseg \\\n",
    "{out_dir}/wmseg.nii.gz -dof 6 -omat {epi2struct_xfm} \\\n",
    "-out {out_dir}/mb3refvol2t1\"\n",
    "print(flirt_cmd)\n",
    "os.system(flirt_cmd)"
   ]
  },
  {
   "cell_type": "markdown",
   "metadata": {},
   "source": [
    "## Invert the transform and save it"
   ]
  },
  {
   "cell_type": "code",
   "execution_count": null,
   "metadata": {},
   "outputs": [],
   "source": [
    "invxfm_cmd = f\"convert_xfm -omat {struct2epi_xfm} -inverse {epi2struct_xfm}\"\n",
    "print(invxfm_cmd)\n",
    "os.system(invxfm_cmd)"
   ]
  },
  {
   "cell_type": "markdown",
   "metadata": {},
   "source": [
    "## Apply inverse transform to convert freesurfer outputs to functional space"
   ]
  },
  {
   "cell_type": "code",
   "execution_count": null,
   "metadata": {},
   "outputs": [],
   "source": [
    "brain2func_cmd = f\"flirt -ref {prf_ref_vol_path} -in {brain_nii} -out {out_dir}/brain_funcspace.nii.gz \\\n",
    "-init {struct2epi_xfm} -applyxfm\"\n",
    "print(brain2func_cmd)\n",
    "os.system(brain2func_cmd)"
   ]
  },
  {
   "cell_type": "markdown",
   "metadata": {},
   "source": [
    "## Try epi_reg from FSL to register epi to struct"
   ]
  },
  {
   "cell_type": "code",
   "execution_count": null,
   "metadata": {},
   "outputs": [],
   "source": [
    "bet_t1_file = f\"{out_dir}/sub-{sub}_ses-{ses}_desc-T1-bet.nii.gz\"\n",
    "print(f\"bet {anat_file} {bet_t1_file}\")"
   ]
  },
  {
   "cell_type": "code",
   "execution_count": null,
   "metadata": {},
   "outputs": [],
   "source": [
    "epi2struct_epireg_xfm = f\"{out_dir}/epi2struct_epireg.mat\"\n",
    "struct2epi_epireg_xfm = f\"{out_dir}/struct2epi_epireg.mat\""
   ]
  },
  {
   "cell_type": "code",
   "execution_count": null,
   "metadata": {},
   "outputs": [],
   "source": [
    "# uses FSL's FAST segmentation\n",
    "epi_reg_cmd = f\"epi_reg -v --epi={prf_ref_vol_path} --t1={anat_file} --t1brain={bet_t1_file} --out={epi2struct_epireg_xfm}\"\n",
    "print(epi_reg_cmd)"
   ]
  },
  {
   "cell_type": "code",
   "execution_count": null,
   "metadata": {},
   "outputs": [],
   "source": [
    "# # with wmseg from freesurfer\n",
    "# epi_reg_cmd2 = f\"epi_reg -v --epi={prf_ref_vol_path} --t1={anat_file} --t1brain={bet_t1_file} --wmseg={out_dir}/wmseg.nii.gz --out=epi2struct_epireg\"\n",
    "# print(epi_reg_cmd2)"
   ]
  },
  {
   "cell_type": "code",
   "execution_count": null,
   "metadata": {},
   "outputs": [],
   "source": [
    "# invert transform\n",
    "invxfm_cmd = f\"convert_xfm -omat {struct2epi_epireg_xfm} -inverse {epi2struct_epireg_xfm}\"\n",
    "print(invxfm_cmd)\n",
    "os.system(invxfm_cmd)"
   ]
  },
  {
   "cell_type": "code",
   "execution_count": null,
   "metadata": {},
   "outputs": [],
   "source": [
    "struct2epi_epireg_cmd = f\"flirt -ref {prf_ref_vol_path} -in {brain_nii} -out {out_dir}/brain_funcspace_epireg.nii.gz \\\n",
    "-init {struct2epi_epireg_xfm} -applyxfm\"\n",
    "print(struct2epi_epireg_cmd)\n",
    "os.system(struct2epi_epireg_cmd)"
   ]
  },
  {
   "cell_type": "markdown",
   "metadata": {},
   "source": [
    "## Load ribbon and extract cortex only"
   ]
  },
  {
   "cell_type": "code",
   "execution_count": null,
   "metadata": {},
   "outputs": [],
   "source": [
    "def make_func_parc_mask(ribbon_nii, parc_codes, xfm, out_fn):\n",
    "    ribbon_img = load_img(ribbon_nii)\n",
    "    ribbon_data = ribbon_img.get_data()\n",
    "    cortex_mask = np.zeros_like(ribbon_data)\n",
    "    print(np.count_nonzero(cortex_mask))\n",
    "    for c in parc_codes:\n",
    "        cortex_mask[ribbon_data==c] = 1\n",
    "    print(np.count_nonzero(cortex_mask))\n",
    "    cortex_mask_img = nib.Nifti1Image(cortex_mask, ribbon_img.affine)\n",
    "    nib.save(cortex_mask_img, out_fn)\n",
    "    cmd = f\"flirt -ref {prf_ref_vol_path} -in {out_fn} -out {out_fn}_funcspace.nii.gz -init {xfm} -applyxfm\"\n",
    "    print(cmd)\n",
    "    os.system(cmd)"
   ]
  },
  {
   "cell_type": "code",
   "execution_count": null,
   "metadata": {},
   "outputs": [],
   "source": [
    "make_func_parc_mask(ribbon_nii, [3, 42], f\"{out_dir}/cortex_mask\")"
   ]
  },
  {
   "cell_type": "code",
   "execution_count": null,
   "metadata": {},
   "outputs": [],
   "source": [
    "make_func_parc_mask(ribbon_nii, [3], f\"{out_dir}/Lcortex_mask\")\n",
    "make_func_parc_mask(ribbon_nii, [42], f\"{out_dir}/Rcortex_mask\")"
   ]
  },
  {
   "cell_type": "code",
   "execution_count": null,
   "metadata": {},
   "outputs": [],
   "source": [
    "ribbon2func_cmd = f\"flirt -ref {prf_ref_vol_path} -in {ribbon_nii} -out {out_dir}/ribbon_funcspace.nii.gz \\\n",
    "-init {out_dir}/brain2func.mat -applyxfm\"\n",
    "print(ribbon2func_cmd)\n",
    "os.system(ribbon2func_cmd)"
   ]
  },
  {
   "cell_type": "code",
   "execution_count": null,
   "metadata": {},
   "outputs": [],
   "source": [
    "print(f\"fsleyes {anat_file} {ribbon_nii}\")"
   ]
  },
  {
   "cell_type": "markdown",
   "metadata": {},
   "source": [
    "# Load Screenshots to make prfs better"
   ]
  },
  {
   "cell_type": "code",
   "execution_count": null,
   "metadata": {},
   "outputs": [],
   "source": [
    "sshots_dir = f\"{out_dir}/Screenshots\"\n",
    "imlist = [\n",
    "    f\"{sshots_dir}/Blank.png\",\n",
    "    f\"{sshots_dir}/Sc_1NBTest_A_001.png\",\n",
    "    f\"{sshots_dir}/Sc_1NBTest_A_002.png\",\n",
    "    f\"{sshots_dir}/Sc_1NBTest_A_003.png\",\n",
    "    f\"{sshots_dir}/Sc_1NBTest_A_004.png\",\n",
    "    f\"{sshots_dir}/Sc_1NBTest_A_005.png\",\n",
    "    f\"{sshots_dir}/Sc_1NBTest_A_006.png\",\n",
    "    f\"{sshots_dir}/Sc_1NBTest_A_007.png\",\n",
    "    f\"{sshots_dir}/Blank.png\",\n",
    "    f\"{sshots_dir}/Sc_1NBTest_A_008.png\",\n",
    "    f\"{sshots_dir}/Sc_1NBTest_A_009.png\",\n",
    "    f\"{sshots_dir}/Sc_1NBTest_A_010.png\",\n",
    "    f\"{sshots_dir}/Sc_1NBTest_A_011.png\",\n",
    "    f\"{sshots_dir}/Sc_1NBTest_A_012.png\",\n",
    "    f\"{sshots_dir}/Sc_1NBTest_A_013.png\",\n",
    "    f\"{sshots_dir}/Sc_1NBTest_A_014.png\",\n",
    "    f\"{sshots_dir}/Blank.png\",\n",
    "    f\"{sshots_dir}/Sc_1NBTest_A_015.png\",\n",
    "    f\"{sshots_dir}/Sc_1NBTest_A_016.png\",\n",
    "    f\"{sshots_dir}/Sc_1NBTest_A_017.png\",\n",
    "    f\"{sshots_dir}/Sc_1NBTest_A_018.png\",\n",
    "    f\"{sshots_dir}/Sc_1NBTest_A_019.png\",\n",
    "    f\"{sshots_dir}/Sc_1NBTest_A_020.png\",\n",
    "    f\"{sshots_dir}/Sc_1NBTest_A_021.png\",\n",
    "    f\"{sshots_dir}/Blank.png\",\n",
    "    f\"{sshots_dir}/Sc_1NBTest_A_022.png\",\n",
    "    f\"{sshots_dir}/Sc_1NBTest_A_023.png\",\n",
    "    f\"{sshots_dir}/Sc_1NBTest_A_024.png\",\n",
    "    f\"{sshots_dir}/Sc_1NBTest_A_025.png\",\n",
    "    f\"{sshots_dir}/Sc_1NBTest_A_026.png\",\n",
    "    f\"{sshots_dir}/Sc_1NBTest_A_027.png\",\n",
    "    f\"{sshots_dir}/Sc_1NBTest_A_028.png\",\n",
    "    f\"{sshots_dir}/Blank.png\",\n",
    "    f\"{sshots_dir}/Sc_1NBTest_A_029.png\",\n",
    "    f\"{sshots_dir}/Sc_1NBTest_A_030.png\",\n",
    "    f\"{sshots_dir}/Sc_1NBTest_A_031.png\",\n",
    "    f\"{sshots_dir}/Sc_1NBTest_A_032.png\",\n",
    "    f\"{sshots_dir}/Sc_1NBTest_A_033.png\",\n",
    "    f\"{sshots_dir}/Sc_1NBTest_A_034.png\",\n",
    "    f\"{sshots_dir}/Sc_1NBTest_A_035.png\",\n",
    "    f\"{sshots_dir}/Blank.png\",\n",
    "    f\"{sshots_dir}/Sc_1NBTest_A_036.png\",\n",
    "    f\"{sshots_dir}/Sc_1NBTest_A_037.png\",\n",
    "    f\"{sshots_dir}/Sc_1NBTest_A_038.png\",\n",
    "    f\"{sshots_dir}/Sc_1NBTest_A_039.png\",\n",
    "    f\"{sshots_dir}/Sc_1NBTest_A_040.png\",\n",
    "    f\"{sshots_dir}/Sc_1NBTest_A_041.png\",\n",
    "    f\"{sshots_dir}/Sc_1NBTest_A_042.png\",\n",
    "    f\"{sshots_dir}/Blank.png\",\n",
    "    f\"{sshots_dir}/Sc_1NBTest_A_043.png\",\n",
    "    f\"{sshots_dir}/Sc_1NBTest_A_044.png\",\n",
    "    f\"{sshots_dir}/Sc_1NBTest_A_045.png\",\n",
    "    f\"{sshots_dir}/Sc_1NBTest_A_046.png\",\n",
    "    f\"{sshots_dir}/Sc_1NBTest_A_047.png\",\n",
    "    f\"{sshots_dir}/Sc_1NBTest_A_048.png\",\n",
    "    f\"{sshots_dir}/Sc_1NBTest_A_049.png\",\n",
    "    f\"{sshots_dir}/Blank.png\",\n",
    "    f\"{sshots_dir}/Sc_1NBTest_A_050.png\",\n",
    "    f\"{sshots_dir}/Sc_1NBTest_A_051.png\",\n",
    "    f\"{sshots_dir}/Sc_1NBTest_A_052.png\",\n",
    "    f\"{sshots_dir}/Sc_1NBTest_A_053.png\",\n",
    "    f\"{sshots_dir}/Sc_1NBTest_A_054.png\",\n",
    "    f\"{sshots_dir}/Sc_1NBTest_A_055.png\",\n",
    "    f\"{sshots_dir}/Sc_1NBTest_A_056.png\",\n",
    "    f\"{sshots_dir}/Blank.png\",\n",
    "    f\"{sshots_dir}/Sc_1NBTest_A_001.png\",\n",
    "    f\"{sshots_dir}/Sc_1NBTest_A_002.png\",\n",
    "    f\"{sshots_dir}/Sc_1NBTest_A_003.png\",\n",
    "    f\"{sshots_dir}/Sc_1NBTest_A_004.png\",\n",
    "    f\"{sshots_dir}/Sc_1NBTest_A_005.png\",\n",
    "    f\"{sshots_dir}/Sc_1NBTest_A_006.png\",\n",
    "    f\"{sshots_dir}/Sc_1NBTest_A_007.png\",\n",
    "    f\"{sshots_dir}/Blank.png\",\n",
    "    f\"{sshots_dir}/Sc_1NBTest_A_008.png\",\n",
    "    f\"{sshots_dir}/Sc_1NBTest_A_009.png\",\n",
    "    f\"{sshots_dir}/Sc_1NBTest_A_010.png\",\n",
    "    f\"{sshots_dir}/Sc_1NBTest_A_011.png\",\n",
    "    f\"{sshots_dir}/Sc_1NBTest_A_012.png\",\n",
    "    f\"{sshots_dir}/Sc_1NBTest_A_013.png\",\n",
    "    f\"{sshots_dir}/Sc_1NBTest_A_014.png\",\n",
    "    f\"{sshots_dir}/Blank.png\",\n",
    "    f\"{sshots_dir}/Sc_1NBTest_A_015.png\",\n",
    "    f\"{sshots_dir}/Sc_1NBTest_A_016.png\",\n",
    "    f\"{sshots_dir}/Sc_1NBTest_A_017.png\",\n",
    "    f\"{sshots_dir}/Sc_1NBTest_A_018.png\",\n",
    "    f\"{sshots_dir}/Sc_1NBTest_A_019.png\",\n",
    "    f\"{sshots_dir}/Sc_1NBTest_A_020.png\",\n",
    "    f\"{sshots_dir}/Sc_1NBTest_A_021.png\",\n",
    "    f\"{sshots_dir}/Blank.png\",\n",
    "    f\"{sshots_dir}/Sc_1NBTest_A_022.png\",\n",
    "    f\"{sshots_dir}/Sc_1NBTest_A_023.png\",\n",
    "    f\"{sshots_dir}/Sc_1NBTest_A_024.png\",\n",
    "    f\"{sshots_dir}/Sc_1NBTest_A_025.png\",\n",
    "    f\"{sshots_dir}/Sc_1NBTest_A_026.png\",\n",
    "    f\"{sshots_dir}/Sc_1NBTest_A_027.png\",\n",
    "    f\"{sshots_dir}/Sc_1NBTest_A_028.png\",\n",
    "    f\"{sshots_dir}/Blank.png\",\n",
    "    f\"{sshots_dir}/Sc_1NBTest_A_029.png\",\n",
    "    f\"{sshots_dir}/Sc_1NBTest_A_030.png\",\n",
    "    f\"{sshots_dir}/Sc_1NBTest_A_031.png\",\n",
    "    f\"{sshots_dir}/Sc_1NBTest_A_032.png\",\n",
    "    f\"{sshots_dir}/Sc_1NBTest_A_033.png\",\n",
    "    f\"{sshots_dir}/Sc_1NBTest_A_034.png\",\n",
    "    f\"{sshots_dir}/Sc_1NBTest_A_035.png\",\n",
    "    f\"{sshots_dir}/Blank.png\",\n",
    "    f\"{sshots_dir}/Sc_1NBTest_A_036.png\",\n",
    "    f\"{sshots_dir}/Sc_1NBTest_A_037.png\",\n",
    "    f\"{sshots_dir}/Sc_1NBTest_A_038.png\",\n",
    "    f\"{sshots_dir}/Sc_1NBTest_A_039.png\",\n",
    "    f\"{sshots_dir}/Sc_1NBTest_A_040.png\",\n",
    "    f\"{sshots_dir}/Sc_1NBTest_A_041.png\",\n",
    "    f\"{sshots_dir}/Sc_1NBTest_A_042.png\",\n",
    "    f\"{sshots_dir}/Blank.png\",\n",
    "    f\"{sshots_dir}/Sc_1NBTest_A_043.png\",\n",
    "    f\"{sshots_dir}/Sc_1NBTest_A_044.png\",\n",
    "    f\"{sshots_dir}/Sc_1NBTest_A_045.png\",\n",
    "    f\"{sshots_dir}/Sc_1NBTest_A_046.png\",\n",
    "    f\"{sshots_dir}/Sc_1NBTest_A_047.png\",\n",
    "    f\"{sshots_dir}/Sc_1NBTest_A_048.png\",\n",
    "    f\"{sshots_dir}/Sc_1NBTest_A_049.png\",\n",
    "    f\"{sshots_dir}/Blank.png\",\n",
    "    f\"{sshots_dir}/Sc_1NBTest_A_050.png\",\n",
    "    f\"{sshots_dir}/Sc_1NBTest_A_051.png\",\n",
    "    f\"{sshots_dir}/Sc_1NBTest_A_052.png\",\n",
    "    f\"{sshots_dir}/Sc_1NBTest_A_053.png\",\n",
    "    f\"{sshots_dir}/Sc_1NBTest_A_054.png\",\n",
    "    f\"{sshots_dir}/Sc_1NBTest_A_055.png\",\n",
    "    f\"{sshots_dir}/Sc_1NBTest_A_056.png\",\n",
    "    f\"{sshots_dir}/Blank.png\",\n",
    "]"
   ]
  },
  {
   "cell_type": "code",
   "execution_count": null,
   "metadata": {},
   "outputs": [],
   "source": [
    "save_dir = sshots_dir\n",
    "\n",
    "for i in range(len(imlist)):\n",
    "    im = Image.open(imlist[i])\n",
    "    if 'Blank' in imlist[i]:\n",
    "        im.save(f\"{save_dir}/screen{i+1:03d}.png\",'PNG')\n",
    "#     else:\n",
    "#         im_mat = np.array(im)\n",
    "#         im_mat[im_mat[:,:,0] != 128] = 0\n",
    "#         im_mat[im_mat[:,:,1] != 128] = 0\n",
    "#         im_mat[im_mat[:,:,2] != 128] = 0\n",
    "#         plt.imshow(im_mat)\n",
    "#         im_mat[im_mat[:,:,0] == 128] = -1\n",
    "#         im_mat[im_mat[:,:,1] == 128] = -1\n",
    "#         im_mat[im_mat[:,:,2] == 128] = -1\n",
    "#         plt.imshow(im_mat)\n",
    "#         img2ar = Image.fromarray(im_mat.astype('uint8'), 'RGB')\n",
    "#         img2ar.save(f\"{save_dir}/screen{i+1:03d}.png\",'PNG')\n",
    "\n",
    "\n",
    "#This will make the images but you should go over them individually to make sure that there are no stray pixels..\n",
    "# else it will mess you pRF models\n",
    "# The manual editing is required because of the complex visual stimuli."
   ]
  },
  {
   "cell_type": "code",
   "execution_count": null,
   "metadata": {},
   "outputs": [],
   "source": [
    "edited_sshots_dir = f\"{sshots_dir}/edited\"\n",
    "for i, s in enumerate(sorted(glob.glob(f\"{edited_sshots_dir}/screen*.png\"))):\n",
    "    print(i, s)\n",
    "    im = Image.open(s)\n",
    "    im.save(f\"{sshots_dir}/screen{i+65:03d}.png\")"
   ]
  },
  {
   "cell_type": "code",
   "execution_count": null,
   "metadata": {},
   "outputs": [],
   "source": [
    "img_list = sorted(glob.glob(f\"{sshots_dir}/screen*.png\"))\n",
    "blanks_to_pad = 138-len(img_list)\n",
    "img_list.extend([img_list[-1]] * blanks_to_pad)"
   ]
  },
  {
   "cell_type": "code",
   "execution_count": null,
   "metadata": {},
   "outputs": [],
   "source": [
    "len(img_list)"
   ]
  },
  {
   "cell_type": "code",
   "execution_count": null,
   "metadata": {},
   "outputs": [],
   "source": [
    "#%%\n",
    "biglist= [np.array([]) for _ in range(len(img_list))]\n",
    "#%%\n",
    "\n",
    "#This flips the images around to make it like how popeye uses it\n",
    "    \n",
    "for i in range(0,len(img_list)):\n",
    "    im_read = cv.imread(img_list[i])\n",
    "    im_rgb = cv.cvtColor(im_read, cv.COLOR_BGR2RGB)\n",
    "    im_gr = cv.cvtColor(im_rgb, cv.COLOR_BGR2GRAY)\n",
    "    # im_grd = np.divide(im_gr,255)\n",
    "    print(img_list[i])\n",
    "    ret,thresh = cv.threshold(im_gr,0,1,cv.THRESH_BINARY_INV)\n",
    "    biglist[i] = thresh\n",
    "\n",
    "bigstack = np.dstack((biglist))\n",
    "pickle.dump(bigstack, open(f\"{out_dir}/bigstack.pkl\", 'wb'))\n"
   ]
  },
  {
   "cell_type": "markdown",
   "metadata": {},
   "source": [
    "## Mask manipulation"
   ]
  },
  {
   "cell_type": "code",
   "execution_count": null,
   "metadata": {},
   "outputs": [],
   "source": [
    "#m = nib.load(f\"{out_dir}/cortex_mask_funcspace.nii.gz\")\n",
    "m = nib.load(f\"{out_dir}/cortex_mask_funcspace.nii.gz\")\n",
    "m_chop = m.get_data().copy()\n",
    "m_chop[:, 40:, :] = 0\n",
    "chopped_mask_img = nib.Nifti1Image(m_chop, m.affine, m.header)\n",
    "nib.save(chopped_mask_img, f\"{out_dir}/sub-NB_ses-20201215_desc-cortexmask-back40_roi.nii.gz\")"
   ]
  },
  {
   "cell_type": "markdown",
   "metadata": {},
   "source": [
    "# Analyze the prfs"
   ]
  },
  {
   "cell_type": "code",
   "execution_count": null,
   "metadata": {},
   "outputs": [],
   "source": [
    "# # import popeye\n",
    "# # prf_file = f\"{out_dir}/prf_20210202-231902.p\"\n",
    "\n",
    "# # with open(prf_file, 'rb') as file:\n",
    "# #     prfs = pickle.load(file)\n",
    "\n",
    "# # len(prfs)\n",
    "\n",
    "# func_file = f\"{out_dir}/sub-NB_ses-20201215_preproc_mean_trim.nii\"\n",
    "# func_img = nib.load(func_file)\n",
    "\n",
    "# func_img.shape\n",
    "\n",
    "# mask_factor = 0.5\n",
    "# mask = nib.load(f\"{out_dir}/cortex_mask_funcspace.nii.gz\").get_data()#.astype(bool)\n",
    "# mask = mask > mask_factor\n",
    "# [xi,yi,zi] = np.where(mask)\n",
    "\n",
    "\n",
    "# datadump = prfs\n",
    "\n",
    "# #Make arrays to save as NIFTI file\n",
    "# rsq = np.zeros(mask.shape)\n",
    "# sig = np.zeros(mask.shape)\n",
    "# rho = np.zeros(mask.shape)\n",
    "# theta= np.zeros(mask.shape)\n",
    "# x_x = np.zeros(mask.shape)\n",
    "# y_y = np.zeros(mask.shape)\n",
    "\n",
    "# for i in range(1,len(datadump),1):\n",
    "#     rsq[datadump[i].voxel_index] = datadump[i].rsquared\n",
    "#     sig[datadump[i].voxel_index] = datadump[i].sigma\n",
    "#     rho[datadump[i].voxel_index] = datadump[i].rho\n",
    "#     theta[datadump[i].voxel_index] = datadump[i].theta\n",
    "#     # x_0[datadump[i].voxel_index] = datadump[i].x0\n",
    "#     # y_0[datadump[i].voxel_index] = datadump[i].y0\n",
    "#     x_x[datadump[i].voxel_index] = datadump[i].x\n",
    "#     y_y[datadump[i].voxel_index] = datadump[i].y\n",
    "# #%%\n",
    "# rsq_img = nib.Nifti1Image(rsq,func_img.affine,header=func_img.header)\n",
    "# sig_img = nib.Nifti1Image(sig,func_img.affine,header=func_img.header)\n",
    "# rho_img = nib.Nifti1Image(rho,func_img.affine,header=func_img.header)\n",
    "# theta_img = nib.Nifti1Image(theta,func_img.affine,header=func_img.header)\n",
    "# # x_0_img = nb.Nifti1Image(x_0,func_img.affine)\n",
    "# # y_0_img = nb.Nifti1Image(y_0,func_img.affine)\n",
    "# x_x_img = nib.Nifti1Image(x_x,func_img.affine,header=func_img.header)\n",
    "# y_y_img = nib.Nifti1Image(y_y,func_img.affine,header=func_img.header)\n",
    "# mask_img = nib.Nifti1Image(mask,func_img.affine,header=func_img.header)\n",
    "# imgs = (rsq_img, sig_img, rho_img, theta_img, x_x_img, y_y_img,mask_img)\n",
    "# names = ('rsq','sig','rho','theta','xx','yy','mask')\n",
    "\n",
    "# for (img, name) in zip(imgs, names):\n",
    "#     print(img.shape, name)\n",
    "#     nib.save(img, f\"{out_dir}/sub-NB_ses-20201215_desc-prf{name}_space-func_map.nii.gz\")"
   ]
  },
  {
   "cell_type": "markdown",
   "metadata": {},
   "source": [
    "## Transform the prfs back to anatomical space for freeview"
   ]
  },
  {
   "cell_type": "code",
   "execution_count": null,
   "metadata": {},
   "outputs": [],
   "source": [
    "prf_dir = f\"{out_dir}/20210331-143142\" # no screenshots, L cortex"
   ]
  },
  {
   "cell_type": "code",
   "execution_count": null,
   "metadata": {},
   "outputs": [],
   "source": [
    "prf_outputs = glob.glob(f\"{prf_dir}/sub-{sub}*desc-prf[!mask]*map*\")\n",
    "print(\"\\n\".join(prf_outputs))"
   ]
  },
  {
   "cell_type": "code",
   "execution_count": null,
   "metadata": {},
   "outputs": [],
   "source": [
    "files_volspace = [x for x in prf_outputs if ('space-anat' not in x) and \\\n",
    "        (('rsq' in x) or ('rho' in x) or ('theta' in x)) \\\n",
    "                  and 'thresh' not in x\n",
    "]\n",
    "print('\\n'.join(files_volspace))\n",
    "print(f\"fsleyes {anat_file} {prf_ref_vol_path} {' '.join(files_volspace)}\")"
   ]
  },
  {
   "cell_type": "code",
   "execution_count": null,
   "metadata": {},
   "outputs": [],
   "source": [
    "def threshold(what, by, at, out_dir, how='more'):\n",
    "    \"\"\"Threshold a given prf output (what) by another (by, usually rsq) at a specific value\"\"\"\n",
    "    w = load_img(what)\n",
    "    b = load_img(by)\n",
    "    assert(w.shape == b.shape)\n",
    "    if how=='more':\n",
    "        mask = b.get_fdata() < at\n",
    "    elif how=='less':\n",
    "        mask = b.get_fdata() > at\n",
    "    marray = np.ma.masked_array(w.get_fdata(), mask)\n",
    "    out_data = np.ma.filled(marray, fill_value=0)\n",
    "    print(f\"Thresholding {what} by {by} at thresh {at:.2f}...\\n\", \n",
    "        mask.shape, out_data.shape, np.count_nonzero(mask), np.count_nonzero(out_data))\n",
    "    out_img = nib.Nifti1Image(out_data, w.affine)\n",
    "    parts_by = os.path.basename(by).split('_')\n",
    "    desc_by = [p for p in parts_by if 'desc' in p][0].split('-')[1] # gets whatever is after desc-\n",
    "    parts = os.path.basename(what).split('_')\n",
    "    parts.insert(-1, f\"thresh-{desc_by}-{at:.2f}\")\n",
    "    out_file = '_'.join(parts)\n",
    "    print(desc_by, parts, out_file, sep='\\n')\n",
    "    nib.save(out_img, f\"{out_dir}/{out_file}\")"
   ]
  },
  {
   "cell_type": "code",
   "execution_count": null,
   "metadata": {},
   "outputs": [],
   "source": [
    "rsq_file = [f for f in prf_outputs if 'desc-prfrsq' in f and 'thresh' not in f][0]\n",
    "\n",
    "for output in glob.glob(f\"{prf_dir}/sub-{sub}*desc-prf[!mask]*map*\"):\n",
    "    if 'thresh-' not in output:\n",
    "        print(output)\n",
    "        #_ = threshold(output, rsq_file, .2, prf_dir)\n",
    "        _ = threshold(output, rsq_file, .2, prf_dir)"
   ]
  },
  {
   "cell_type": "code",
   "execution_count": null,
   "metadata": {},
   "outputs": [],
   "source": [
    "actual_mask = glob.glob(f\"{prf_dir}/sub-{sub}*desc-prfmask*space-func*map*\")[0]\n",
    "\n",
    "files = [x for x in glob.glob(f\"{prf_dir}/sub-{sub}*desc-prf[!mask]*map*\") if ('space-anat' not in x)\n",
    "                      and (('desc-prfrsq' in x) or ('desc-prfrho' in x) or ('desc-prftheta' in x))]\n",
    "print('\\n'.join(files))\n",
    "print(f\"fsleyes {anat_file} {prf_ref_vol_path} {actual_mask} {' '.join(files)}\")"
   ]
  },
  {
   "cell_type": "code",
   "execution_count": null,
   "metadata": {},
   "outputs": [],
   "source": []
  },
  {
   "cell_type": "code",
   "execution_count": null,
   "metadata": {},
   "outputs": [],
   "source": [
    "print(f\"fsleyes {anat_file} {out_dir}/brain.nii.gz {prf_ref_vol_path}\")"
   ]
  },
  {
   "cell_type": "code",
   "execution_count": null,
   "metadata": {},
   "outputs": [],
   "source": []
  },
  {
   "cell_type": "code",
   "execution_count": null,
   "metadata": {},
   "outputs": [],
   "source": []
  },
  {
   "cell_type": "code",
   "execution_count": null,
   "metadata": {},
   "outputs": [],
   "source": []
  },
  {
   "cell_type": "code",
   "execution_count": null,
   "metadata": {},
   "outputs": [],
   "source": [
    "def prf_to_anat(brain_file, in_file, func2brain, out_dir):\n",
    "    # put space-anat in there, replacing space-* if it exists\n",
    "    parts = os.path.basename(in_file).split('_')\n",
    "    parts = [p if 'space-' not in p else 'space-anat' for p in parts]\n",
    "    if 'space-anat' not in parts:\n",
    "        parts.insert(-1, 'space-anat')\n",
    "    desc = [p for p in parts if 'desc' in p][0]\n",
    "    try:\n",
    "        thresh = [p for p in parts if 'thresh' in p][0]\n",
    "    except IndexError as inst:\n",
    "        thresh = 'nothresh'\n",
    "    outname = f\"{desc}-{thresh}\"\n",
    "    print(parts, outname)\n",
    "    out_file = '_'.join(parts)\n",
    "    cmd = f\"flirt -ref {brain_file} -out {out_dir}/{out_file} -in {in_file} -init {func2brain} -applyxfm\"\n",
    "    print(cmd)\n",
    "    os.system(cmd)\n",
    "    for hemi in (\"lh\", \"rh\"):\n",
    "        cmd2 = f\"mri_vol2surf --src {out_dir}/{out_file} --o {out_dir}/{hemi}.{outname}.mgz --hemi {hemi} --regheader {sub} --projfrac 0.5\"\n",
    "        print(cmd2)\n",
    "        os.system(cmd2)"
   ]
  },
  {
   "cell_type": "code",
   "execution_count": null,
   "metadata": {},
   "outputs": [],
   "source": [
    "for output in prf_outputs:\n",
    "    prf_to_anat(f\"{out_dir}/brain.nii.gz\", output, f\"{out_dir}/func2brain.mat\", prf_dir)"
   ]
  },
  {
   "cell_type": "code",
   "execution_count": null,
   "metadata": {},
   "outputs": [],
   "source": [
    "def freeview_prfs(sub, hemi, prf_dir):\n",
    "    \"\"\"View prfs on surface in freeview with good colormap\"\"\"\n",
    "    overlays = sorted(glob.glob(f\"{prf_dir}/?h.desc-*.mgz\"))\n",
    "    disp_overlays = [x for x in overlays if ('rho' in x or 'theta' in x) and f\"{hemi}.\" in x]\n",
    "    print('\\n'.join(disp_overlays))\n",
    "    hemi_surf = f\"$SUBJECTS_DIR/{sub}/surf/{hemi}.inflated\"\n",
    "    freeview_cmd = f\"freeview -f {hemi_surf}\"\n",
    "    for x in disp_overlays:\n",
    "        x_color = 'overlay_custom=0.01,255,0,0,1.57,125,255,0,3.14,0,255,255,4.71,125,0,255,6.28,255,0,0' if 'theta' in x else 'overlay_color=colorwheel'\n",
    "        freeview_cmd = freeview_cmd + f\":overlay={x}:{x_color}\"\n",
    "    print(freeview_cmd)"
   ]
  },
  {
   "cell_type": "code",
   "execution_count": null,
   "metadata": {},
   "outputs": [],
   "source": [
    "utils.freeview_prfs(sub, 'lh', prf_dir)"
   ]
  },
  {
   "cell_type": "code",
   "execution_count": null,
   "metadata": {},
   "outputs": [],
   "source": [
    "utils.freeview_prfs(sub, 'lh', prf_dir)"
   ]
  },
  {
   "cell_type": "code",
   "execution_count": null,
   "metadata": {},
   "outputs": [],
   "source": []
  }
 ],
 "metadata": {
  "kernelspec": {
   "display_name": "Python 3",
   "language": "python",
   "name": "python3"
  },
  "language_info": {
   "codemirror_mode": {
    "name": "ipython",
    "version": 3
   },
   "file_extension": ".py",
   "mimetype": "text/x-python",
   "name": "python",
   "nbconvert_exporter": "python",
   "pygments_lexer": "ipython3",
   "version": "3.7.9"
  }
 },
 "nbformat": 4,
 "nbformat_minor": 4
}
