{
 "cells": [
  {
   "cell_type": "code",
   "execution_count": null,
   "metadata": {},
   "outputs": [],
   "source": [
    "%load_ext autoreload\n",
    "%autoreload 2"
   ]
  },
  {
   "cell_type": "code",
   "execution_count": 3,
   "metadata": {
    "collapsed": true
   },
   "outputs": [],
   "source": [
    "%matplotlib inline"
   ]
  },
  {
   "cell_type": "code",
   "execution_count": 4,
   "metadata": {
    "collapsed": true
   },
   "outputs": [],
   "source": [
    "import utils\n",
    "\n",
    "import os, sys, datetime, glob\n",
    "\n",
    "import numpy as np\n",
    "import pandas as pd\n",
    "import matplotlib.pyplot as plt\n",
    "\n",
    "import nibabel as nib"
   ]
  },
  {
   "cell_type": "code",
   "execution_count": 5,
   "metadata": {},
   "outputs": [
    {
     "data": {
      "text/plain": [
       "'2.3.0'"
      ]
     },
     "execution_count": 5,
     "metadata": {},
     "output_type": "execute_result"
    }
   ],
   "source": [
    "nib.__version__"
   ]
  },
  {
   "cell_type": "markdown",
   "metadata": {},
   "source": [
    "## Identify data location, subject, run, etc"
   ]
  },
  {
   "cell_type": "code",
   "execution_count": 6,
   "metadata": {
    "collapsed": true
   },
   "outputs": [],
   "source": [
    "raw_data_dir = os.path.abspath(\"/Users/smerdis/data/LGN/NB_LGN_20180524/Nb_20180524/sub-NB/\")"
   ]
  },
  {
   "cell_type": "code",
   "execution_count": 7,
   "metadata": {
    "collapsed": true
   },
   "outputs": [],
   "source": [
    "out_dir = os.path.abspath('/Users/smerdis/data/LGN/BIDS/NB_20180524/derivatives/')"
   ]
  },
  {
   "cell_type": "code",
   "execution_count": 8,
   "metadata": {
    "collapsed": true
   },
   "outputs": [],
   "source": [
    "fmriprep_dir = os.path.abspath(os.path.join(out_dir, 'fmriprep'))"
   ]
  },
  {
   "cell_type": "code",
   "execution_count": 9,
   "metadata": {
    "collapsed": true
   },
   "outputs": [],
   "source": [
    "sub = \"NB\"\n",
    "ses = \"20180524\"\n",
    "task = \"hemi\""
   ]
  },
  {
   "cell_type": "markdown",
   "metadata": {},
   "source": [
    "### Current progress as of 20181212\n",
    "\n",
    " * The goal is to compare the GLM and coherence approaches to identifying visually responsive voxels\n",
    " * But the GLM approach cannot be done here because the event files don't exist, and can't be recreated\n",
    "   * Well, we have some of the hemifield outputs in .mat, but not all... and the ones we have weren't run with the correct parameters (cycle duration, # cycles, length etc)\n",
    "   * So we'd have to trim an unknown amount etc to make the data worth analyzing\n",
    " * So, do the coherence approach based on the cycle duration we have so at least that code works\n",
    " * BUT ALSO, make sure to fix the hemifield and mp code to generate events files\n",
    " * And also fix the presentation code to have it trigger on a TTL"
   ]
  },
  {
   "cell_type": "code",
   "execution_count": 10,
   "metadata": {
    "collapsed": true
   },
   "outputs": [],
   "source": [
    "anat = os.path.join(fmriprep_dir, f\"sub-{sub}\", 'anat', f\"sub-{sub}_T1w_preproc.nii.gz\")"
   ]
  },
  {
   "cell_type": "code",
   "execution_count": 11,
   "metadata": {},
   "outputs": [
    {
     "name": "stdout",
     "output_type": "stream",
     "text": [
      "BOLDS: 4\n",
      "['/Users/smerdis/data/LGN/BIDS/NB_20180524/derivatives/fmriprep/sub-NB/ses-20180524/func/sub-NB_ses-20180524_task-hemi_run-01_bold_space-T1w_preproc.nii.gz', '/Users/smerdis/data/LGN/BIDS/NB_20180524/derivatives/fmriprep/sub-NB/ses-20180524/func/sub-NB_ses-20180524_task-hemi_run-02_bold_space-T1w_preproc.nii.gz', '/Users/smerdis/data/LGN/BIDS/NB_20180524/derivatives/fmriprep/sub-NB/ses-20180524/func/sub-NB_ses-20180524_task-hemi_run-03_bold_space-T1w_preproc.nii.gz', '/Users/smerdis/data/LGN/BIDS/NB_20180524/derivatives/fmriprep/sub-NB/ses-20180524/func/sub-NB_ses-20180524_task-hemi_run-04_bold_space-T1w_preproc.nii.gz']\n",
      "Masks: 4\n",
      "['/Users/smerdis/data/LGN/BIDS/NB_20180524/derivatives/fmriprep/sub-NB/ses-20180524/func/sub-NB_ses-20180524_task-hemi_run-01_bold_space-T1w_brainmask.nii.gz', '/Users/smerdis/data/LGN/BIDS/NB_20180524/derivatives/fmriprep/sub-NB/ses-20180524/func/sub-NB_ses-20180524_task-hemi_run-02_bold_space-T1w_brainmask.nii.gz', '/Users/smerdis/data/LGN/BIDS/NB_20180524/derivatives/fmriprep/sub-NB/ses-20180524/func/sub-NB_ses-20180524_task-hemi_run-03_bold_space-T1w_brainmask.nii.gz', '/Users/smerdis/data/LGN/BIDS/NB_20180524/derivatives/fmriprep/sub-NB/ses-20180524/func/sub-NB_ses-20180524_task-hemi_run-04_bold_space-T1w_brainmask.nii.gz']\n",
      "Eventfiles: 0\n",
      "[]\n",
      "[2.25, 2.25, 2.25, 2.25] 4\n",
      "Confounds: 4\n",
      "['/Users/smerdis/data/LGN/BIDS/NB_20180524/derivatives/fmriprep/sub-NB/ses-20180524/func/sub-NB_ses-20180524_task-hemi_run-01_bold_confounds.tsv', '/Users/smerdis/data/LGN/BIDS/NB_20180524/derivatives/fmriprep/sub-NB/ses-20180524/func/sub-NB_ses-20180524_task-hemi_run-02_bold_confounds.tsv', '/Users/smerdis/data/LGN/BIDS/NB_20180524/derivatives/fmriprep/sub-NB/ses-20180524/func/sub-NB_ses-20180524_task-hemi_run-03_bold_confounds.tsv', '/Users/smerdis/data/LGN/BIDS/NB_20180524/derivatives/fmriprep/sub-NB/ses-20180524/func/sub-NB_ses-20180524_task-hemi_run-04_bold_confounds.tsv']\n",
      "[]\n",
      "Some functional runs do not have corresponding event files!\n"
     ]
    }
   ],
   "source": [
    "bolds, masks, eventfiles, TR, confounds = utils.get_files(sub, ses, task, raw_data_dir, fmriprep_dir)"
   ]
  },
  {
   "cell_type": "code",
   "execution_count": 11,
   "metadata": {},
   "outputs": [
    {
     "data": {
      "text/plain": [
       "['/Users/smerdis/data/LGN/BIDS/NB_20180524/derivatives/fmriprep/sub-NB/ses-20180524/func/sub-NB_ses-20180524_task-hemi_run-01_bold_space-T1w_preproc.nii.gz',\n",
       " '/Users/smerdis/data/LGN/BIDS/NB_20180524/derivatives/fmriprep/sub-NB/ses-20180524/func/sub-NB_ses-20180524_task-hemi_run-02_bold_space-T1w_preproc.nii.gz',\n",
       " '/Users/smerdis/data/LGN/BIDS/NB_20180524/derivatives/fmriprep/sub-NB/ses-20180524/func/sub-NB_ses-20180524_task-hemi_run-03_bold_space-T1w_preproc.nii.gz',\n",
       " '/Users/smerdis/data/LGN/BIDS/NB_20180524/derivatives/fmriprep/sub-NB/ses-20180524/func/sub-NB_ses-20180524_task-hemi_run-04_bold_space-T1w_preproc.nii.gz']"
      ]
     },
     "execution_count": 11,
     "metadata": {},
     "output_type": "execute_result"
    }
   ],
   "source": [
    "bolds"
   ]
  },
  {
   "cell_type": "markdown",
   "metadata": {},
   "source": [
    "### Run the GLM"
   ]
  },
  {
   "cell_type": "code",
   "execution_count": 12,
   "metadata": {
    "collapsed": true
   },
   "outputs": [],
   "source": [
    "glm_command = f\"python glm_fixedeffects_level12.py {raw_data_dir} {out_dir} {sub} {ses} {task} T1w\""
   ]
  },
  {
   "cell_type": "code",
   "execution_count": 13,
   "metadata": {},
   "outputs": [
    {
     "name": "stdout",
     "output_type": "stream",
     "text": [
      "python glm_fixedeffects_level12.py /Users/smerdis/data/LGN/NB_LGN_20180524/Nb_20180524/sub-NB /Users/smerdis/data/LGN/BIDS/NB_20180524/derivatives NB 20180524 hemi T1w\n"
     ]
    }
   ],
   "source": [
    "print(glm_command)"
   ]
  },
  {
   "cell_type": "markdown",
   "metadata": {
    "collapsed": true
   },
   "source": [
    "### View the results"
   ]
  },
  {
   "cell_type": "code",
   "execution_count": null,
   "metadata": {
    "collapsed": true
   },
   "outputs": [],
   "source": [
    "#mrvanat = os.path.join(out_dir, \"mrvista\", \"T1w.nii.gz\")\n",
    "#func = os.path.join(fmriprep_dir, f\"sub-{sub}/ses-{ses}/func/sub-{sub}_ses-{ses}_task-{task}_run-01_bold_space-T1w_preproc.nii.gz\")\n",
    "#vROI = os.path.join(out_dir, \"mrvista\", \"vROI1.nii.gz\")\n",
    "#mROI = os.path.join(fmriprep_dir, f\"sub-{sub}/ses-{ses}/func/sub-{sub}_ses-{ses}_task-{task}_run-01_lLGN_roi_manual.nii.gz\")"
   ]
  },
  {
   "cell_type": "code",
   "execution_count": 14,
   "metadata": {},
   "outputs": [
    {
     "name": "stdout",
     "output_type": "stream",
     "text": [
      "/Users/smerdis/data/LGN/BIDS/NB_20180524/derivatives/nipype_NB_20180524_hemi/hemifield/modelfit/datasink\n"
     ]
    }
   ],
   "source": [
    "wf_dir = f\"{out_dir}/nipype_{sub}_{ses}_{task}/hemifield/modelfit\"\n",
    "datasink_dir = os.path.join(wf_dir, 'datasink')\n",
    "print(datasink_dir)"
   ]
  },
  {
   "cell_type": "code",
   "execution_count": 15,
   "metadata": {},
   "outputs": [
    {
     "name": "stdout",
     "output_type": "stream",
     "text": [
      "ls: /Users/smerdis/data/LGN/BIDS/NB_20180524/derivatives/nipype_NB_20180524_hemi/hemifield/modelfit/datasink: No such file or directory\r\n"
     ]
    }
   ],
   "source": [
    "!ls \"{datasink_dir}\""
   ]
  },
  {
   "cell_type": "code",
   "execution_count": null,
   "metadata": {
    "collapsed": true
   },
   "outputs": [],
   "source": [
    "utils.view_results(datasink_dir, [3], anat, func)"
   ]
  },
  {
   "cell_type": "markdown",
   "metadata": {
    "collapsed": true
   },
   "source": [
    "## Coherence analysis to identify LGN voxels responding at hemifield alternation frequency"
   ]
  },
  {
   "cell_type": "code",
   "execution_count": 15,
   "metadata": {
    "collapsed": true
   },
   "outputs": [],
   "source": [
    "bold_file = bolds[0]"
   ]
  },
  {
   "cell_type": "code",
   "execution_count": 17,
   "metadata": {
    "collapsed": true
   },
   "outputs": [],
   "source": [
    "img = nib.load(bold_file)"
   ]
  },
  {
   "cell_type": "code",
   "execution_count": 18,
   "metadata": {},
   "outputs": [
    {
     "name": "stdout",
     "output_type": "stream",
     "text": [
      "<class 'nibabel.nifti1.Nifti1Header'> object, endian='<'\n",
      "sizeof_hdr      : 348\n",
      "data_type       : b''\n",
      "db_name         : b''\n",
      "extents         : 0\n",
      "session_error   : 0\n",
      "regular         : b'r'\n",
      "dim_info        : 0\n",
      "dim             : [  4  81 102  92 139   1   1   1]\n",
      "intent_p1       : 0.0\n",
      "intent_p2       : 0.0\n",
      "intent_p3       : 0.0\n",
      "intent_code     : none\n",
      "datatype        : int16\n",
      "bitpix          : 16\n",
      "slice_start     : 0\n",
      "pixdim          : [ 1.          1.75        1.75        1.57500005  2.25        1.          1.\n",
      "  1.        ]\n",
      "vox_offset      : 0.0\n",
      "scl_slope       : nan\n",
      "scl_inter       : nan\n",
      "slice_end       : 0\n",
      "slice_code      : unknown\n",
      "xyzt_units      : 8\n",
      "cal_max         : 2058.864990234375\n",
      "cal_min         : -83.84920501708984\n",
      "slice_duration  : 0.0\n",
      "toffset         : 0.0\n",
      "glmax           : 0\n",
      "glmin           : 0\n",
      "descrip         : b'xform matrices modified by FixHeaderApplyTransforms (niworkflows v0.4.1).'\n",
      "aux_file        : b''\n",
      "qform_code      : aligned\n",
      "sform_code      : aligned\n",
      "quatern_b       : 0.0\n",
      "quatern_c       : 0.0\n",
      "quatern_d       : 0.0\n",
      "qoffset_x       : -69.61041259765625\n",
      "qoffset_y       : -86.5606460571289\n",
      "qoffset_z       : -58.340240478515625\n",
      "srow_x          : [  1.75        0.          0.        -69.6104126]\n",
      "srow_y          : [  0.           1.75         0.         -86.56064606]\n",
      "srow_z          : [  0.           0.           1.57500005 -58.34024048]\n",
      "intent_name     : b''\n",
      "magic           : b'n+1'\n"
     ]
    }
   ],
   "source": [
    "print(img.header)"
   ]
  },
  {
   "cell_type": "code",
   "execution_count": 17,
   "metadata": {
    "collapsed": true
   },
   "outputs": [],
   "source": [
    "img_data = img.get_fdata()"
   ]
  },
  {
   "cell_type": "code",
   "execution_count": 18,
   "metadata": {},
   "outputs": [
    {
     "data": {
      "text/plain": [
       "<matplotlib.image.AxesImage at 0x113770f60>"
      ]
     },
     "execution_count": 18,
     "metadata": {},
     "output_type": "execute_result"
    },
    {
     "data": {
      "image/png": "[encoded data removed]",
      "text/plain": [
       "<matplotlib.figure.Figure at 0x1136a8208>"
      ]
     },
     "metadata": {},
     "output_type": "display_data"
    }
   ],
   "source": [
    "plt.imshow(img_data[:, :, 40, 44].T, cmap=\"gray\", origin=\"lower\")"
   ]
  },
  {
   "cell_type": "code",
   "execution_count": 19,
   "metadata": {
    "collapsed": true
   },
   "outputs": [],
   "source": [
    "nvox = img.shape[0] * img.shape[1] * img.shape[2]"
   ]
  },
  {
   "cell_type": "code",
   "execution_count": 20,
   "metadata": {
    "collapsed": true
   },
   "outputs": [],
   "source": [
    "n_timepoints = img.shape[-1]"
   ]
  },
  {
   "cell_type": "code",
   "execution_count": 21,
   "metadata": {},
   "outputs": [
    {
     "name": "stdout",
     "output_type": "stream",
     "text": [
      "760104 139\n"
     ]
    }
   ],
   "source": [
    "print(nvox, n_timepoints)"
   ]
  },
  {
   "cell_type": "code",
   "execution_count": 22,
   "metadata": {},
   "outputs": [
    {
     "data": {
      "text/plain": [
       "13.5"
      ]
     },
     "execution_count": 22,
     "metadata": {},
     "output_type": "execute_result"
    }
   ],
   "source": [
    "#img_flat = np.reshape(img_data, (nvox, -1))\n",
    "#img_flat[:10, 0]\n",
    "2.25*6"
   ]
  },
  {
   "cell_type": "markdown",
   "metadata": {},
   "source": [
    "### Begin Coherence analysis in nitime"
   ]
  },
  {
   "cell_type": "code",
   "execution_count": 13,
   "metadata": {
    "collapsed": true
   },
   "outputs": [],
   "source": [
    "import nitime.fmri.io as nfio\n",
    "import nitime.timeseries as ts\n",
    "import nitime.analysis as nta"
   ]
  },
  {
   "cell_type": "markdown",
   "metadata": {},
   "source": [
    "#### build a timeseries object out of the stimulus alternation waveform"
   ]
  },
  {
   "cell_type": "code",
   "execution_count": 14,
   "metadata": {},
   "outputs": [
    {
     "ename": "NameError",
     "evalue": "name 'img' is not defined",
     "output_type": "error",
     "traceback": [
      "\u001b[0;31m---------------------------------------------------------------------------\u001b[0m",
      "\u001b[0;31mNameError\u001b[0m                                 Traceback (most recent call last)",
      "\u001b[0;32m<ipython-input-14-3c04048919d6>\u001b[0m in \u001b[0;36m<module>\u001b[0;34m()\u001b[0m\n\u001b[1;32m      1\u001b[0m \u001b[0mcycle_duration\u001b[0m \u001b[0;34m=\u001b[0m \u001b[0;36m32\u001b[0m \u001b[0;31m# This was the 7T setting I accidentally ran for NB (should be 27s)\u001b[0m\u001b[0;34m\u001b[0m\u001b[0m\n\u001b[1;32m      2\u001b[0m \u001b[0mfreq\u001b[0m \u001b[0;34m=\u001b[0m \u001b[0;34m(\u001b[0m\u001b[0;36m1.0\u001b[0m\u001b[0;34m/\u001b[0m\u001b[0mcycle_duration\u001b[0m\u001b[0;34m)\u001b[0m \u001b[0;31m# of hemifield alternation, in hertz\u001b[0m\u001b[0;34m\u001b[0m\u001b[0m\n\u001b[0;32m----> 3\u001b[0;31m \u001b[0mtotal_len\u001b[0m \u001b[0;34m=\u001b[0m \u001b[0mimg\u001b[0m\u001b[0;34m.\u001b[0m\u001b[0mshape\u001b[0m\u001b[0;34m[\u001b[0m\u001b[0;34m-\u001b[0m\u001b[0;36m1\u001b[0m\u001b[0;34m]\u001b[0m\u001b[0;34m*\u001b[0m\u001b[0mTR\u001b[0m \u001b[0;31m# seconds\u001b[0m\u001b[0;34m\u001b[0m\u001b[0m\n\u001b[0m\u001b[1;32m      4\u001b[0m \u001b[0;34m\u001b[0m\u001b[0m\n\u001b[1;32m      5\u001b[0m \u001b[0mt\u001b[0m \u001b[0;34m=\u001b[0m \u001b[0mnp\u001b[0m\u001b[0;34m.\u001b[0m\u001b[0marange\u001b[0m\u001b[0;34m(\u001b[0m\u001b[0;36m0.0\u001b[0m\u001b[0;34m,\u001b[0m \u001b[0mtotal_len\u001b[0m\u001b[0;34m,\u001b[0m \u001b[0mTR\u001b[0m\u001b[0;34m)\u001b[0m\u001b[0;34m\u001b[0m\u001b[0m\n",
      "\u001b[0;31mNameError\u001b[0m: name 'img' is not defined"
     ]
    }
   ],
   "source": [
    "cycle_duration = 32 # This was the 7T setting I accidentally ran for NB (should be 27s)\n",
    "freq = (1.0/cycle_duration) # of hemifield alternation, in hertz\n",
    "total_len = img.shape[-1]*TR # seconds\n",
    "\n",
    "t = np.arange(0.0, total_len, TR)\n",
    "hemifield_alternation_sinusoid = np.sin(freq*2*np.pi*t)\n",
    "print(t, hemifield_alternation_sinusoid.shape)\n",
    "\n",
    "fig, ax = plt.subplots(1)\n",
    "ax.set_xlim(0, 50)\n",
    "ax.plot(t, hemifield_alternation_sinusoid)"
   ]
  },
  {
   "cell_type": "code",
   "execution_count": null,
   "metadata": {
    "collapsed": true
   },
   "outputs": [],
   "source": [
    "ts.UniformTime??"
   ]
  },
  {
   "cell_type": "code",
   "execution_count": 38,
   "metadata": {
    "collapsed": true
   },
   "outputs": [],
   "source": [
    "hemi_ts = ts.TimeSeries(data=hemifield_alternation_sinusoid,\n",
    "                         sampling_interval=TR)"
   ]
  },
  {
   "cell_type": "code",
   "execution_count": 39,
   "metadata": {
    "collapsed": true
   },
   "outputs": [],
   "source": [
    "hemi_ts??"
   ]
  },
  {
   "cell_type": "code",
   "execution_count": 40,
   "metadata": {},
   "outputs": [
    {
     "data": {
      "text/plain": [
       "UniformTime([   0.  ,    2.25,    4.5 ,    6.75,    9.  ,   11.25,   13.5 ,\n",
       "               15.75,   18.  ,   20.25,   22.5 ,   24.75,   27.  ,   29.25,\n",
       "               31.5 ,   33.75,   36.  ,   38.25,   40.5 ,   42.75,   45.  ,\n",
       "               47.25,   49.5 ,   51.75,   54.  ,   56.25,   58.5 ,   60.75,\n",
       "               63.  ,   65.25,   67.5 ,   69.75,   72.  ,   74.25,   76.5 ,\n",
       "               78.75,   81.  ,   83.25,   85.5 ,   87.75,   90.  ,   92.25,\n",
       "               94.5 ,   96.75,   99.  ,  101.25,  103.5 ,  105.75,  108.  ,\n",
       "              110.25,  112.5 ,  114.75,  117.  ,  119.25,  121.5 ,  123.75,\n",
       "              126.  ,  128.25,  130.5 ,  132.75,  135.  ,  137.25,  139.5 ,\n",
       "              141.75,  144.  ,  146.25,  148.5 ,  150.75,  153.  ,  155.25,\n",
       "              157.5 ,  159.75,  162.  ,  164.25,  166.5 ,  168.75,  171.  ,\n",
       "              173.25,  175.5 ,  177.75,  180.  ,  182.25,  184.5 ,  186.75,\n",
       "              189.  ,  191.25,  193.5 ,  195.75,  198.  ,  200.25,  202.5 ,\n",
       "              204.75,  207.  ,  209.25,  211.5 ,  213.75,  216.  ,  218.25,\n",
       "              220.5 ,  222.75,  225.  ,  227.25,  229.5 ,  231.75,  234.  ,\n",
       "              236.25,  238.5 ,  240.75,  243.  ,  245.25,  247.5 ,  249.75,\n",
       "              252.  ,  254.25,  256.5 ,  258.75,  261.  ,  263.25,  265.5 ,\n",
       "              267.75,  270.  ,  272.25,  274.5 ,  276.75,  279.  ,  281.25,\n",
       "              283.5 ,  285.75,  288.  ,  290.25,  292.5 ,  294.75,  297.  ,\n",
       "              299.25,  301.5 ,  303.75,  306.  ,  308.25,  310.5 ], time_unit='s')"
      ]
     },
     "execution_count": 40,
     "metadata": {},
     "output_type": "execute_result"
    }
   ],
   "source": [
    "hemi_ts.time"
   ]
  },
  {
   "cell_type": "markdown",
   "metadata": {},
   "source": [
    "#### build a timeseries object out of the fmri data"
   ]
  },
  {
   "cell_type": "code",
   "execution_count": 34,
   "metadata": {},
   "outputs": [
    {
     "name": "stdout",
     "output_type": "stream",
     "text": [
      "Reading /Users/smerdis/data/LGN/BIDS/NB_20180524/derivatives/fmriprep/sub-NB/ses-20180524/func/sub-NB_ses-20180524_task-hemi_run-01_bold_space-T1w_preproc.nii.gz\n"
     ]
    }
   ],
   "source": [
    "bold_time_series = nfio.time_series_from_file(bold_file, TR=TR, normalize='percent', verbose=True)"
   ]
  },
  {
   "cell_type": "code",
   "execution_count": 35,
   "metadata": {
    "collapsed": true
   },
   "outputs": [],
   "source": [
    "# Verify timeseries laoded by nitime is same size as that loaded by base nibabel above\n",
    "assert(np.all(bold_time_series.shape==img.shape))"
   ]
  },
  {
   "cell_type": "code",
   "execution_count": 36,
   "metadata": {},
   "outputs": [
    {
     "data": {
      "text/plain": [
       "TimeSeries:UniformTime([   0.  ,    2.25,    4.5 ,    6.75,    9.  ,   11.25,   13.5 ,\n",
       "               15.75,   18.  ,   20.25,   22.5 ,   24.75,   27.  ,   29.25,\n",
       "               31.5 ,   33.75,   36.  ,   38.25,   40.5 ,   42.75,   45.  ,\n",
       "               47.25,   49.5 ,   51.75,   54.  ,   56.25,   58.5 ,   60.75,\n",
       "               63.  ,   65.25,   67.5 ,   69.75,   72.  ,   74.25,   76.5 ,\n",
       "               78.75,   81.  ,   83.25,   85.5 ,   87.75,   90.  ,   92.25,\n",
       "               94.5 ,   96.75,   99.  ,  101.25,  103.5 ,  105.75,  108.  ,\n",
       "              110.25,  112.5 ,  114.75,  117.  ,  119.25,  121.5 ,  123.75,\n",
       "              126.  ,  128.25,  130.5 ,  132.75,  135.  ,  137.25,  139.5 ,\n",
       "              141.75,  144.  ,  146.25,  148.5 ,  150.75,  153.  ,  155.25,\n",
       "              157.5 ,  159.75,  162.  ,  164.25,  166.5 ,  168.75,  171.  ,\n",
       "              173.25,  175.5 ,  177.75,  180.  ,  182.25,  184.5 ,  186.75,\n",
       "              189.  ,  191.25,  193.5 ,  195.75,  198.  ,  200.25,  202.5 ,\n",
       "              204.75,  207.  ,  209.25,  211.5 ,  213.75,  216.  ,  218.25,\n",
       "              220.5 ,  222.75,  225.  ,  227.25,  229.5 ,  231.75,  234.  ,\n",
       "              236.25,  238.5 ,  240.75,  243.  ,  245.25,  247.5 ,  249.75,\n",
       "              252.  ,  254.25,  256.5 ,  258.75,  261.  ,  263.25,  265.5 ,\n",
       "              267.75,  270.  ,  272.25,  274.5 ,  276.75,  279.  ,  281.25,\n",
       "              283.5 ,  285.75,  288.  ,  290.25,  292.5 ,  294.75,  297.  ,\n",
       "              299.25,  301.5 ,  303.75,  306.  ,  308.25,  310.5 ], time_unit='s')array([[[[-214.8399259 , -214.8399259 , -214.8399259 , ..., -214.8399259 ,\n",
       "          -214.8399259 , -214.8399259 ],\n",
       "         [-214.8399259 , -214.8399259 , -214.8399259 , ..., -214.8399259 ,\n",
       "          -214.8399259 , -214.8399259 ],\n",
       "         [-214.8399259 , -214.8399259 , -214.8399259 , ..., -214.8399259 ,\n",
       "          -214.8399259 , -214.8399259 ],\n",
       "         ..., \n",
       "         [-214.8399259 , -214.8399259 , -214.8399259 , ..., -214.8399259 ,\n",
       "          -214.8399259 , -214.8399259 ],\n",
       "         [-214.8399259 , -214.8399259 , -214.8399259 , ..., -214.8399259 ,\n",
       "          -214.8399259 , -214.8399259 ],\n",
       "         [-214.8399259 , -214.8399259 , -214.8399259 , ..., -214.8399259 ,\n",
       "          -214.8399259 , -214.8399259 ]],\n",
       "\n",
       "        [[-214.8399259 , -214.8399259 , -214.8399259 , ..., -214.8399259 ,\n",
       "          -214.8399259 , -214.8399259 ],\n",
       "         [-214.8399259 , -214.8399259 , -214.8399259 , ..., -214.8399259 ,\n",
       "          -214.8399259 , -214.8399259 ],\n",
       "         [-214.8399259 , -214.8399259 , -214.8399259 , ..., -214.8399259 ,\n",
       "          -214.8399259 , -214.8399259 ],\n",
       "         ..., \n",
       "         [-214.8399259 , -214.8399259 , -214.8399259 , ..., -214.8399259 ,\n",
       "          -214.8399259 , -214.8399259 ],\n",
       "         [-214.8399259 , -214.8399259 , -214.8399259 , ..., -214.8399259 ,\n",
       "          -214.8399259 , -214.8399259 ],\n",
       "         [-214.8399259 , -214.8399259 , -214.8399259 , ..., -214.8399259 ,\n",
       "          -214.8399259 , -214.8399259 ]],\n",
       "\n",
       "        [[-214.8399259 , -214.8399259 , -214.8399259 , ..., -214.8399259 ,\n",
       "          -214.8399259 , -214.8399259 ],\n",
       "         [-214.8399259 , -214.8399259 , -214.8399259 , ..., -214.8399259 ,\n",
       "          -214.8399259 , -214.8399259 ],\n",
       "         [-214.8399259 , -214.8399259 , -214.8399259 , ..., -214.8399259 ,\n",
       "          -214.8399259 , -214.8399259 ],\n",
       "         ..., \n",
       "         [-214.8399259 , -214.8399259 , -214.8399259 , ..., -214.8399259 ,\n",
       "          -214.8399259 , -214.8399259 ],\n",
       "         [-214.8399259 , -214.8399259 , -214.8399259 , ..., -214.8399259 ,\n",
       "          -214.8399259 , -214.8399259 ],\n",
       "         [-214.8399259 , -214.8399259 , -214.8399259 , ..., -214.8399259 ,\n",
       "          -214.8399259 , -214.8399259 ]],\n",
       "\n",
       "        ..., \n",
       "        [[-214.8399259 , -214.8399259 , -214.8399259 , ..., -214.8399259 ,\n",
       "          -214.8399259 , -214.8399259 ],\n",
       "         [-214.8399259 , -214.8399259 , -214.8399259 , ..., -214.8399259 ,\n",
       "          -214.8399259 , -214.8399259 ],\n",
       "         [-214.8399259 , -214.8399259 , -214.8399259 , ..., -214.8399259 ,\n",
       "          -214.8399259 , -214.8399259 ],\n",
       "         ..., \n",
       "         [-214.8399259 , -214.8399259 , -214.8399259 , ..., -214.8399259 ,\n",
       "          -214.8399259 , -214.8399259 ],\n",
       "         [-214.8399259 , -214.8399259 , -214.8399259 , ..., -214.8399259 ,\n",
       "          -214.8399259 , -214.8399259 ],\n",
       "         [-214.8399259 , -214.8399259 , -214.8399259 , ..., -214.8399259 ,\n",
       "          -214.8399259 , -214.8399259 ]],\n",
       "\n",
       "        [[-214.8399259 , -214.8399259 , -214.8399259 , ..., -214.8399259 ,\n",
       "          -214.8399259 , -214.8399259 ],\n",
       "         [-214.8399259 , -214.8399259 , -214.8399259 , ..., -214.8399259 ,\n",
       "          -214.8399259 , -214.8399259 ],\n",
       "         [-214.8399259 , -214.8399259 , -214.8399259 , ..., -214.8399259 ,\n",
       "          -214.8399259 , -214.8399259 ],\n",
       "         ..., \n",
       "         [-214.8399259 , -214.8399259 , -214.8399259 , ..., -214.8399259 ,\n",
       "          -214.8399259 , -214.8399259 ],\n",
       "         [-214.8399259 , -214.8399259 , -214.8399259 , ..., -214.8399259 ,\n",
       "          -214.8399259 , -214.8399259 ],\n",
       "         [-214.8399259 , -214.8399259 , -214.8399259 , ..., -214.8399259 ,\n",
       "          -214.8399259 , -214.8399259 ]],\n",
       "\n",
       "        [[-214.8399259 , -214.8399259 , -214.8399259 , ..., -214.8399259 ,\n",
       "          -214.8399259 , -214.8399259 ],\n",
       "         [-214.8399259 , -214.8399259 , -214.8399259 , ..., -214.8399259 ,\n",
       "          -214.8399259 , -214.8399259 ],\n",
       "         [-214.8399259 , -214.8399259 , -214.8399259 , ..., -214.8399259 ,\n",
       "          -214.8399259 , -214.8399259 ],\n",
       "         ..., \n",
       "         [-214.8399259 , -214.8399259 , -214.8399259 , ..., -214.8399259 ,\n",
       "          -214.8399259 , -214.8399259 ],\n",
       "         [-214.8399259 , -214.8399259 , -214.8399259 , ..., -214.8399259 ,\n",
       "          -214.8399259 , -214.8399259 ],\n",
       "         [-214.8399259 , -214.8399259 , -214.8399259 , ..., -214.8399259 ,\n",
       "          -214.8399259 , -214.8399259 ]]],\n",
       "\n",
       "\n",
       "       [[[   1.55681106,    1.55681106,    1.55681106, ...,    1.55681106,\n",
       "             1.55681106,    1.55681106],\n",
       "         [   1.55681106,    1.55681106,    1.55681106, ...,    1.55681106,\n",
       "             1.55681106,    1.55681106],\n",
       "         [   1.55681106,    1.55681106,    1.55681106, ...,    1.55681106,\n",
       "             1.55681106,    1.55681106],\n",
       "         ..., \n",
       "         [   1.55681106,    1.55681106,    1.55681106, ...,    1.55681106,\n",
       "             1.55681106,    1.55681106],\n",
       "         [   1.55681106,    1.55681106,    1.55681106, ...,    1.55681106,\n",
       "             1.55681106,    1.55681106],\n",
       "         [   1.55681106,    1.55681106,    1.55681106, ...,    1.55681106,\n",
       "             1.55681106,    1.55681106]],\n",
       "\n",
       "        [[   1.55681106,    1.55681106,    1.55681106, ...,    1.55681106,\n",
       "             1.55681106,    1.55681106],\n",
       "         [   1.55681106,    1.55681106,    1.55681106, ...,    1.55681106,\n",
       "             1.55681106,    1.55681106],\n",
       "         [   1.55681106,    1.55681106,    1.55681106, ...,    1.55681106,\n",
       "             1.55681106,    1.55681106],\n",
       "         ..., \n",
       "         [   1.55681106,    1.55681106,    1.55681106, ...,    1.55681106,\n",
       "             1.55681106,    1.55681106],\n",
       "         [   1.55681106,    1.55681106,    1.55681106, ...,    1.55681106,\n",
       "             1.55681106,    1.55681106],\n",
       "         [   1.55681106,    1.55681106,    1.55681106, ...,    1.55681106,\n",
       "             1.55681106,    1.55681106]],\n",
       "\n",
       "        [[   1.55681106,    1.55681106,    1.55681106, ...,    1.55681106,\n",
       "             1.55681106,    1.55681106],\n",
       "         [   1.55681106,    1.55681106,    1.55681106, ...,    1.55681106,\n",
       "             1.55681106,    1.55681106],\n",
       "         [   1.55681106,    1.55681106,    1.55681106, ...,    1.55681106,\n",
       "             1.55681106,    1.55681106],\n",
       "         ..., \n",
       "         [   1.55681106,    1.55681106,    1.55681106, ...,    1.55681106,\n",
       "             1.55681106,    1.55681106],\n",
       "         [   1.55681106,    1.55681106,    1.55681106, ...,    1.55681106,\n",
       "             1.55681106,    1.55681106],\n",
       "         [   1.55681106,    1.55681106,    1.55681106, ...,    1.55681106,\n",
       "             1.55681106,    1.55681106]],\n",
       "\n",
       "        ..., \n",
       "        [[   1.55681106,    1.55681106,    1.55681106, ...,    1.55681106,\n",
       "             1.55681106,    1.55681106],\n",
       "         [   1.55681106,    1.55681106,    1.55681106, ...,    1.55681106,\n",
       "             1.55681106,    1.55681106],\n",
       "         [   1.55681106,    1.55681106,    1.55681106, ...,    1.55681106,\n",
       "             1.55681106,    1.55681106],\n",
       "         ..., \n",
       "         [   1.55681106,    1.55681106,    1.55681106, ...,    1.55681106,\n",
       "             1.55681106,    1.55681106],\n",
       "         [   1.55681106,    1.55681106,    1.55681106, ...,    1.55681106,\n",
       "             1.55681106,    1.55681106],\n",
       "         [   1.55681106,    1.55681106,    1.55681106, ...,    1.55681106,\n",
       "             1.55681106,    1.55681106]],\n",
       "\n",
       "        [[   1.55681106,    1.55681106,    1.55681106, ...,    1.55681106,\n",
       "             1.55681106,    1.55681106],\n",
       "         [   1.55681106,    1.55681106,    1.55681106, ...,    1.55681106,\n",
       "             1.55681106,    1.55681106],\n",
       "         [   1.55681106,    1.55681106,    1.55681106, ...,    1.55681106,\n",
       "             1.55681106,    1.55681106],\n",
       "         ..., \n",
       "         [   1.55681106,    1.55681106,    1.55681106, ...,    1.55681106,\n",
       "             1.55681106,    1.55681106],\n",
       "         [   1.55681106,    1.55681106,    1.55681106, ...,    1.55681106,\n",
       "             1.55681106,    1.55681106],\n",
       "         [   1.55681106,    1.55681106,    1.55681106, ...,    1.55681106,\n",
       "             1.55681106,    1.55681106]],\n",
       "\n",
       "        [[   1.55681106,    1.55681106,    1.55681106, ...,    1.55681106,\n",
       "             1.55681106,    1.55681106],\n",
       "         [   1.55681106,    1.55681106,    1.55681106, ...,    1.55681106,\n",
       "             1.55681106,    1.55681106],\n",
       "         [   1.55681106,    1.55681106,    1.55681106, ...,    1.55681106,\n",
       "             1.55681106,    1.55681106],\n",
       "         ..., \n",
       "         [   1.55681106,    1.55681106,    1.55681106, ...,    1.55681106,\n",
       "             1.55681106,    1.55681106],\n",
       "         [   1.55681106,    1.55681106,    1.55681106, ...,    1.55681106,\n",
       "             1.55681106,    1.55681106],\n",
       "         [   1.55681106,    1.55681106,    1.55681106, ...,    1.55681106,\n",
       "             1.55681106,    1.55681106]]],\n",
       "\n",
       "\n",
       "       [[[   1.55681106,    1.55681106,    1.55681106, ...,    1.55681106,\n",
       "             1.55681106,    1.55681106],\n",
       "         [   1.55681106,    1.55681106,    1.55681106, ...,    1.55681106,\n",
       "             1.55681106,    1.55681106],\n",
       "         [   1.55681106,    1.55681106,    1.55681106, ...,    1.55681106,\n",
       "             1.55681106,    1.55681106],\n",
       "         ..., \n",
       "         [   1.55681106,    1.55681106,    1.55681106, ...,    1.55681106,\n",
       "             1.55681106,    1.55681106],\n",
       "         [   1.55681106,    1.55681106,    1.55681106, ...,    1.55681106,\n",
       "             1.55681106,    1.55681106],\n",
       "         [   1.55681106,    1.55681106,    1.55681106, ...,    1.55681106,\n",
       "             1.55681106,    1.55681106]],\n",
       "\n",
       "        [[   1.55681106,    1.55681106,    1.55681106, ...,    1.55681106,\n",
       "             1.55681106,    1.55681106],\n",
       "         [   1.55681106,    1.55681106,    1.55681106, ...,    1.55681106,\n",
       "             1.55681106,    1.55681106],\n",
       "         [   1.55681106,    1.55681106,    1.55681106, ...,    1.55681106,\n",
       "             1.55681106,    1.55681106],\n",
       "         ..., \n",
       "         [   1.55681106,    1.55681106,    1.55681106, ...,    1.55681106,\n",
       "             1.55681106,    1.55681106],\n",
       "         [   1.55681106,    1.55681106,    1.55681106, ...,    1.55681106,\n",
       "             1.55681106,    1.55681106],\n",
       "         [   1.55681106,    1.55681106,    1.55681106, ...,    1.55681106,\n",
       "             1.55681106,    1.55681106]],\n",
       "\n",
       "        [[   1.55681106,    1.55681106,    1.55681106, ...,    1.55681106,\n",
       "             1.55681106,    1.55681106],\n",
       "         [   1.55681106,    1.55681106,    1.55681106, ...,    1.55681106,\n",
       "             1.55681106,    1.55681106],\n",
       "         [   1.55681106,    1.55681106,    1.55681106, ...,    1.55681106,\n",
       "             1.55681106,    1.55681106],\n",
       "         ..., \n",
       "         [   1.55681106,    1.55681106,    1.55681106, ...,    1.55681106,\n",
       "             1.55681106,    1.55681106],\n",
       "         [   1.55681106,    1.55681106,    1.55681106, ...,    1.55681106,\n",
       "             1.55681106,    1.55681106],\n",
       "         [   1.55681106,    1.55681106,    1.55681106, ...,    1.55681106,\n",
       "             1.55681106,    1.55681106]],\n",
       "\n",
       "        ..., \n",
       "        [[   1.55681106,    1.55681106,    1.55681106, ...,    1.55681106,\n",
       "             1.55681106,    1.55681106],\n",
       "         [   1.55681106,    1.55681106,    1.55681106, ...,    1.55681106,\n",
       "             1.55681106,    1.55681106],\n",
       "         [   1.55681106,    1.55681106,    1.55681106, ...,    1.55681106,\n",
       "             1.55681106,    1.55681106],\n",
       "         ..., \n",
       "         [   1.55681106,    1.55681106,    1.55681106, ...,    1.55681106,\n",
       "             1.55681106,    1.55681106],\n",
       "         [   1.55681106,    1.55681106,    1.55681106, ...,    1.55681106,\n",
       "             1.55681106,    1.55681106],\n",
       "         [   1.55681106,    1.55681106,    1.55681106, ...,    1.55681106,\n",
       "             1.55681106,    1.55681106]],\n",
       "\n",
       "        [[   1.55681106,    1.55681106,    1.55681106, ...,    1.55681106,\n",
       "             1.55681106,    1.55681106],\n",
       "         [   1.55681106,    1.55681106,    1.55681106, ...,    1.55681106,\n",
       "             1.55681106,    1.55681106],\n",
       "         [   1.55681106,    1.55681106,    1.55681106, ...,    1.55681106,\n",
       "             1.55681106,    1.55681106],\n",
       "         ..., \n",
       "         [   1.55681106,    1.55681106,    1.55681106, ...,    1.55681106,\n",
       "             1.55681106,    1.55681106],\n",
       "         [   1.55681106,    1.55681106,    1.55681106, ...,    1.55681106,\n",
       "             1.55681106,    1.55681106],\n",
       "         [   1.55681106,    1.55681106,    1.55681106, ...,    1.55681106,\n",
       "             1.55681106,    1.55681106]],\n",
       "\n",
       "        [[   1.55681106,    1.55681106,    1.55681106, ...,    1.55681106,\n",
       "             1.55681106,    1.55681106],\n",
       "         [   1.55681106,    1.55681106,    1.55681106, ...,    1.55681106,\n",
       "             1.55681106,    1.55681106],\n",
       "         [   1.55681106,    1.55681106,    1.55681106, ...,    1.55681106,\n",
       "             1.55681106,    1.55681106],\n",
       "         ..., \n",
       "         [   1.55681106,    1.55681106,    1.55681106, ...,    1.55681106,\n",
       "             1.55681106,    1.55681106],\n",
       "         [   1.55681106,    1.55681106,    1.55681106, ...,    1.55681106,\n",
       "             1.55681106,    1.55681106],\n",
       "         [   1.55681106,    1.55681106,    1.55681106, ...,    1.55681106,\n",
       "             1.55681106,    1.55681106]]],\n",
       "\n",
       "\n",
       "       ..., \n",
       "       [[[   1.55681106,    1.55681106,    1.55681106, ...,    1.55681106,\n",
       "             1.55681106,    1.55681106],\n",
       "         [   1.55681106,    1.55681106,    1.55681106, ...,    1.55681106,\n",
       "             1.55681106,    1.55681106],\n",
       "         [   1.55681106,    1.55681106,    1.55681106, ...,    1.55681106,\n",
       "             1.55681106,    1.55681106],\n",
       "         ..., \n",
       "         [   1.55681106,    1.55681106,    1.55681106, ...,    1.55681106,\n",
       "             1.55681106,    1.55681106],\n",
       "         [   1.55681106,    1.55681106,    1.55681106, ...,    1.55681106,\n",
       "             1.55681106,    1.55681106],\n",
       "         [   1.55681106,    1.55681106,    1.55681106, ...,    1.55681106,\n",
       "             1.55681106,    1.55681106]],\n",
       "\n",
       "        [[   1.55681106,    1.55681106,    1.55681106, ...,    1.55681106,\n",
       "             1.55681106,    1.55681106],\n",
       "         [   1.55681106,    1.55681106,    1.55681106, ...,    1.55681106,\n",
       "             1.55681106,    1.55681106],\n",
       "         [   1.55681106,    1.55681106,    1.55681106, ...,    1.55681106,\n",
       "             1.55681106,    1.55681106],\n",
       "         ..., \n",
       "         [   1.55681106,    1.55681106,    1.55681106, ...,    1.55681106,\n",
       "             1.55681106,    1.55681106],\n",
       "         [   1.55681106,    1.55681106,    1.55681106, ...,    1.55681106,\n",
       "             1.55681106,    1.55681106],\n",
       "         [   1.55681106,    1.55681106,    1.55681106, ...,    1.55681106,\n",
       "             1.55681106,    1.55681106]],\n",
       "\n",
       "        [[   1.55681106,    1.55681106,    1.55681106, ...,    1.55681106,\n",
       "             1.55681106,    1.55681106],\n",
       "         [   1.55681106,    1.55681106,    1.55681106, ...,    1.55681106,\n",
       "             1.55681106,    1.55681106],\n",
       "         [   1.55681106,    1.55681106,    1.55681106, ...,    1.55681106,\n",
       "             1.55681106,    1.55681106],\n",
       "         ..., \n",
       "         [   1.55681106,    1.55681106,    1.55681106, ...,    1.55681106,\n",
       "             1.55681106,    1.55681106],\n",
       "         [   1.55681106,    1.55681106,    1.55681106, ...,    1.55681106,\n",
       "             1.55681106,    1.55681106],\n",
       "         [   1.55681106,    1.55681106,    1.55681106, ...,    1.55681106,\n",
       "             1.55681106,    1.55681106]],\n",
       "\n",
       "        ..., \n",
       "        [[   1.55681106,    1.55681106,    1.55681106, ...,    1.55681106,\n",
       "             1.55681106,    1.55681106],\n",
       "         [   1.55681106,    1.55681106,    1.55681106, ...,    1.55681106,\n",
       "             1.55681106,    1.55681106],\n",
       "         [   1.55681106,    1.55681106,    1.55681106, ...,    1.55681106,\n",
       "             1.55681106,    1.55681106],\n",
       "         ..., \n",
       "         [   1.55681106,    1.55681106,    1.55681106, ...,    1.55681106,\n",
       "             1.55681106,    1.55681106],\n",
       "         [   1.55681106,    1.55681106,    1.55681106, ...,    1.55681106,\n",
       "             1.55681106,    1.55681106],\n",
       "         [   1.55681106,    1.55681106,    1.55681106, ...,    1.55681106,\n",
       "             1.55681106,    1.55681106]],\n",
       "\n",
       "        [[   1.55681106,    1.55681106,    1.55681106, ...,    1.55681106,\n",
       "             1.55681106,    1.55681106],\n",
       "         [   1.55681106,    1.55681106,    1.55681106, ...,    1.55681106,\n",
       "             1.55681106,    1.55681106],\n",
       "         [   1.55681106,    1.55681106,    1.55681106, ...,    1.55681106,\n",
       "             1.55681106,    1.55681106],\n",
       "         ..., \n",
       "         [   1.55681106,    1.55681106,    1.55681106, ...,    1.55681106,\n",
       "             1.55681106,    1.55681106],\n",
       "         [   1.55681106,    1.55681106,    1.55681106, ...,    1.55681106,\n",
       "             1.55681106,    1.55681106],\n",
       "         [   1.55681106,    1.55681106,    1.55681106, ...,    1.55681106,\n",
       "             1.55681106,    1.55681106]],\n",
       "\n",
       "        [[   1.55681106,    1.55681106,    1.55681106, ...,    1.55681106,\n",
       "             1.55681106,    1.55681106],\n",
       "         [   1.55681106,    1.55681106,    1.55681106, ...,    1.55681106,\n",
       "             1.55681106,    1.55681106],\n",
       "         [   1.55681106,    1.55681106,    1.55681106, ...,    1.55681106,\n",
       "             1.55681106,    1.55681106],\n",
       "         ..., \n",
       "         [   1.55681106,    1.55681106,    1.55681106, ...,    1.55681106,\n",
       "             1.55681106,    1.55681106],\n",
       "         [   1.55681106,    1.55681106,    1.55681106, ...,    1.55681106,\n",
       "             1.55681106,    1.55681106],\n",
       "         [   1.55681106,    1.55681106,    1.55681106, ...,    1.55681106,\n",
       "             1.55681106,    1.55681106]]],\n",
       "\n",
       "\n",
       "       [[[   1.55681106,    1.55681106,    1.55681106, ...,    1.55681106,\n",
       "             1.55681106,    1.55681106],\n",
       "         [   1.55681106,    1.55681106,    1.55681106, ...,    1.55681106,\n",
       "             1.55681106,    1.55681106],\n",
       "         [   1.55681106,    1.55681106,    1.55681106, ...,    1.55681106,\n",
       "             1.55681106,    1.55681106],\n",
       "         ..., \n",
       "         [   1.55681106,    1.55681106,    1.55681106, ...,    1.55681106,\n",
       "             1.55681106,    1.55681106],\n",
       "         [   1.55681106,    1.55681106,    1.55681106, ...,    1.55681106,\n",
       "             1.55681106,    1.55681106],\n",
       "         [   1.55681106,    1.55681106,    1.55681106, ...,    1.55681106,\n",
       "             1.55681106,    1.55681106]],\n",
       "\n",
       "        [[   1.55681106,    1.55681106,    1.55681106, ...,    1.55681106,\n",
       "             1.55681106,    1.55681106],\n",
       "         [   1.55681106,    1.55681106,    1.55681106, ...,    1.55681106,\n",
       "             1.55681106,    1.55681106],\n",
       "         [   1.55681106,    1.55681106,    1.55681106, ...,    1.55681106,\n",
       "             1.55681106,    1.55681106],\n",
       "         ..., \n",
       "         [   1.55681106,    1.55681106,    1.55681106, ...,    1.55681106,\n",
       "             1.55681106,    1.55681106],\n",
       "         [   1.55681106,    1.55681106,    1.55681106, ...,    1.55681106,\n",
       "             1.55681106,    1.55681106],\n",
       "         [   1.55681106,    1.55681106,    1.55681106, ...,    1.55681106,\n",
       "             1.55681106,    1.55681106]],\n",
       "\n",
       "        [[   1.55681106,    1.55681106,    1.55681106, ...,    1.55681106,\n",
       "             1.55681106,    1.55681106],\n",
       "         [   1.55681106,    1.55681106,    1.55681106, ...,    1.55681106,\n",
       "             1.55681106,    1.55681106],\n",
       "         [   1.55681106,    1.55681106,    1.55681106, ...,    1.55681106,\n",
       "             1.55681106,    1.55681106],\n",
       "         ..., \n",
       "         [   1.55681106,    1.55681106,    1.55681106, ...,    1.55681106,\n",
       "             1.55681106,    1.55681106],\n",
       "         [   1.55681106,    1.55681106,    1.55681106, ...,    1.55681106,\n",
       "             1.55681106,    1.55681106],\n",
       "         [   1.55681106,    1.55681106,    1.55681106, ...,    1.55681106,\n",
       "             1.55681106,    1.55681106]],\n",
       "\n",
       "        ..., \n",
       "        [[   1.55681106,    1.55681106,    1.55681106, ...,    1.55681106,\n",
       "             1.55681106,    1.55681106],\n",
       "         [   1.55681106,    1.55681106,    1.55681106, ...,    1.55681106,\n",
       "             1.55681106,    1.55681106],\n",
       "         [   1.55681106,    1.55681106,    1.55681106, ...,    1.55681106,\n",
       "             1.55681106,    1.55681106],\n",
       "         ..., \n",
       "         [   1.55681106,    1.55681106,    1.55681106, ...,    1.55681106,\n",
       "             1.55681106,    1.55681106],\n",
       "         [   1.55681106,    1.55681106,    1.55681106, ...,    1.55681106,\n",
       "             1.55681106,    1.55681106],\n",
       "         [   1.55681106,    1.55681106,    1.55681106, ...,    1.55681106,\n",
       "             1.55681106,    1.55681106]],\n",
       "\n",
       "        [[   1.55681106,    1.55681106,    1.55681106, ...,    1.55681106,\n",
       "             1.55681106,    1.55681106],\n",
       "         [   1.55681106,    1.55681106,    1.55681106, ...,    1.55681106,\n",
       "             1.55681106,    1.55681106],\n",
       "         [   1.55681106,    1.55681106,    1.55681106, ...,    1.55681106,\n",
       "             1.55681106,    1.55681106],\n",
       "         ..., \n",
       "         [   1.55681106,    1.55681106,    1.55681106, ...,    1.55681106,\n",
       "             1.55681106,    1.55681106],\n",
       "         [   1.55681106,    1.55681106,    1.55681106, ...,    1.55681106,\n",
       "             1.55681106,    1.55681106],\n",
       "         [   1.55681106,    1.55681106,    1.55681106, ...,    1.55681106,\n",
       "             1.55681106,    1.55681106]],\n",
       "\n",
       "        [[   1.55681106,    1.55681106,    1.55681106, ...,    1.55681106,\n",
       "             1.55681106,    1.55681106],\n",
       "         [   1.55681106,    1.55681106,    1.55681106, ...,    1.55681106,\n",
       "             1.55681106,    1.55681106],\n",
       "         [   1.55681106,    1.55681106,    1.55681106, ...,    1.55681106,\n",
       "             1.55681106,    1.55681106],\n",
       "         ..., \n",
       "         [   1.55681106,    1.55681106,    1.55681106, ...,    1.55681106,\n",
       "             1.55681106,    1.55681106],\n",
       "         [   1.55681106,    1.55681106,    1.55681106, ...,    1.55681106,\n",
       "             1.55681106,    1.55681106],\n",
       "         [   1.55681106,    1.55681106,    1.55681106, ...,    1.55681106,\n",
       "             1.55681106,    1.55681106]]],\n",
       "\n",
       "\n",
       "       [[[   1.55681106,    1.55681106,    1.55681106, ...,    1.55681106,\n",
       "             1.55681106,    1.55681106],\n",
       "         [   1.55681106,    1.55681106,    1.55681106, ...,    1.55681106,\n",
       "             1.55681106,    1.55681106],\n",
       "         [   1.55681106,    1.55681106,    1.55681106, ...,    1.55681106,\n",
       "             1.55681106,    1.55681106],\n",
       "         ..., \n",
       "         [   1.55681106,    1.55681106,    1.55681106, ...,    1.55681106,\n",
       "             1.55681106,    1.55681106],\n",
       "         [   1.55681106,    1.55681106,    1.55681106, ...,    1.55681106,\n",
       "             1.55681106,    1.55681106],\n",
       "         [   1.55681106,    1.55681106,    1.55681106, ...,    1.55681106,\n",
       "             1.55681106,    1.55681106]],\n",
       "\n",
       "        [[   1.55681106,    1.55681106,    1.55681106, ...,    1.55681106,\n",
       "             1.55681106,    1.55681106],\n",
       "         [   1.55681106,    1.55681106,    1.55681106, ...,    1.55681106,\n",
       "             1.55681106,    1.55681106],\n",
       "         [   1.55681106,    1.55681106,    1.55681106, ...,    1.55681106,\n",
       "             1.55681106,    1.55681106],\n",
       "         ..., \n",
       "         [   1.55681106,    1.55681106,    1.55681106, ...,    1.55681106,\n",
       "             1.55681106,    1.55681106],\n",
       "         [   1.55681106,    1.55681106,    1.55681106, ...,    1.55681106,\n",
       "             1.55681106,    1.55681106],\n",
       "         [   1.55681106,    1.55681106,    1.55681106, ...,    1.55681106,\n",
       "             1.55681106,    1.55681106]],\n",
       "\n",
       "        [[   1.55681106,    1.55681106,    1.55681106, ...,    1.55681106,\n",
       "             1.55681106,    1.55681106],\n",
       "         [   1.55681106,    1.55681106,    1.55681106, ...,    1.55681106,\n",
       "             1.55681106,    1.55681106],\n",
       "         [   1.55681106,    1.55681106,    1.55681106, ...,    1.55681106,\n",
       "             1.55681106,    1.55681106],\n",
       "         ..., \n",
       "         [   1.55681106,    1.55681106,    1.55681106, ...,    1.55681106,\n",
       "             1.55681106,    1.55681106],\n",
       "         [   1.55681106,    1.55681106,    1.55681106, ...,    1.55681106,\n",
       "             1.55681106,    1.55681106],\n",
       "         [   1.55681106,    1.55681106,    1.55681106, ...,    1.55681106,\n",
       "             1.55681106,    1.55681106]],\n",
       "\n",
       "        ..., \n",
       "        [[   1.55681106,    1.55681106,    1.55681106, ...,    1.55681106,\n",
       "             1.55681106,    1.55681106],\n",
       "         [   1.55681106,    1.55681106,    1.55681106, ...,    1.55681106,\n",
       "             1.55681106,    1.55681106],\n",
       "         [   1.55681106,    1.55681106,    1.55681106, ...,    1.55681106,\n",
       "             1.55681106,    1.55681106],\n",
       "         ..., \n",
       "         [   1.55681106,    1.55681106,    1.55681106, ...,    1.55681106,\n",
       "             1.55681106,    1.55681106],\n",
       "         [   1.55681106,    1.55681106,    1.55681106, ...,    1.55681106,\n",
       "             1.55681106,    1.55681106],\n",
       "         [   1.55681106,    1.55681106,    1.55681106, ...,    1.55681106,\n",
       "             1.55681106,    1.55681106]],\n",
       "\n",
       "        [[   1.55681106,    1.55681106,    1.55681106, ...,    1.55681106,\n",
       "             1.55681106,    1.55681106],\n",
       "         [   1.55681106,    1.55681106,    1.55681106, ...,    1.55681106,\n",
       "             1.55681106,    1.55681106],\n",
       "         [   1.55681106,    1.55681106,    1.55681106, ...,    1.55681106,\n",
       "             1.55681106,    1.55681106],\n",
       "         ..., \n",
       "         [   1.55681106,    1.55681106,    1.55681106, ...,    1.55681106,\n",
       "             1.55681106,    1.55681106],\n",
       "         [   1.55681106,    1.55681106,    1.55681106, ...,    1.55681106,\n",
       "             1.55681106,    1.55681106],\n",
       "         [   1.55681106,    1.55681106,    1.55681106, ...,    1.55681106,\n",
       "             1.55681106,    1.55681106]],\n",
       "\n",
       "        [[   1.55681106,    1.55681106,    1.55681106, ...,    1.55681106,\n",
       "             1.55681106,    1.55681106],\n",
       "         [   1.55681106,    1.55681106,    1.55681106, ...,    1.55681106,\n",
       "             1.55681106,    1.55681106],\n",
       "         [   1.55681106,    1.55681106,    1.55681106, ...,    1.55681106,\n",
       "             1.55681106,    1.55681106],\n",
       "         ..., \n",
       "         [   1.55681106,    1.55681106,    1.55681106, ...,    1.55681106,\n",
       "             1.55681106,    1.55681106],\n",
       "         [   1.55681106,    1.55681106,    1.55681106, ...,    1.55681106,\n",
       "             1.55681106,    1.55681106],\n",
       "         [   1.55681106,    1.55681106,    1.55681106, ...,    1.55681106,\n",
       "             1.55681106,    1.55681106]]]])"
      ]
     },
     "execution_count": 36,
     "metadata": {},
     "output_type": "execute_result"
    }
   ],
   "source": [
    "bold_time_series"
   ]
  },
  {
   "cell_type": "markdown",
   "metadata": {},
   "source": [
    "### begin coherence analysis"
   ]
  },
  {
   "cell_type": "code",
   "execution_count": 53,
   "metadata": {
    "collapsed": true
   },
   "outputs": [],
   "source": [
    "test_hemi_stim = np.vstack((hemifield_alternation_sinusoid, hemifield_alternation_sinusoid))"
   ]
  },
  {
   "cell_type": "code",
   "execution_count": 54,
   "metadata": {},
   "outputs": [
    {
     "data": {
      "text/plain": [
       "(2, 139)"
      ]
     },
     "execution_count": 54,
     "metadata": {},
     "output_type": "execute_result"
    }
   ],
   "source": [
    "test_hemi_stim.shape"
   ]
  },
  {
   "cell_type": "code",
   "execution_count": 63,
   "metadata": {
    "collapsed": true
   },
   "outputs": [],
   "source": [
    "test_ts = ts.TimeSeries(test_hemi_stim, sampling_interval=TR)"
   ]
  },
  {
   "cell_type": "code",
   "execution_count": 64,
   "metadata": {
    "collapsed": true
   },
   "outputs": [],
   "source": [
    "corr_analyzer = nta.CorrelationAnalyzer(test_hemi_stim)"
   ]
  },
  {
   "cell_type": "code",
   "execution_count": 65,
   "metadata": {},
   "outputs": [
    {
     "data": {
      "text/plain": [
       "CorrelationAnalyzer()"
      ]
     },
     "execution_count": 65,
     "metadata": {},
     "output_type": "execute_result"
    }
   ],
   "source": [
    "corr_analyzer"
   ]
  },
  {
   "cell_type": "code",
   "execution_count": 66,
   "metadata": {
    "scrolled": true
   },
   "outputs": [
    {
     "data": {
      "text/plain": [
       "array([[ 1.,  1.],\n",
       "       [ 1.,  1.]])"
      ]
     },
     "execution_count": 66,
     "metadata": {},
     "output_type": "execute_result"
    }
   ],
   "source": [
    "corr_analyzer.corrcoef"
   ]
  },
  {
   "cell_type": "code",
   "execution_count": 12,
   "metadata": {},
   "outputs": [
    {
     "ename": "NameError",
     "evalue": "name 'nta' is not defined",
     "output_type": "error",
     "traceback": [
      "\u001b[0;31m---------------------------------------------------------------------------\u001b[0m",
      "\u001b[0;31mNameError\u001b[0m                                 Traceback (most recent call last)",
      "\u001b[0;32m<ipython-input-12-fecd16671299>\u001b[0m in \u001b[0;36m<module>\u001b[0;34m()\u001b[0m\n\u001b[0;32m----> 1\u001b[0;31m \u001b[0mc1\u001b[0m \u001b[0;34m=\u001b[0m \u001b[0mnta\u001b[0m\u001b[0;34m.\u001b[0m\u001b[0mCoherenceAnalyzer\u001b[0m\u001b[0;34m(\u001b[0m\u001b[0mtest_hemi_stim\u001b[0m\u001b[0;34m)\u001b[0m\u001b[0;34m\u001b[0m\u001b[0m\n\u001b[0m",
      "\u001b[0;31mNameError\u001b[0m: name 'nta' is not defined"
     ]
    }
   ],
   "source": [
    "c1 = nta.CoherenceAnalyzer(test_hemi_stim)"
   ]
  },
  {
   "cell_type": "markdown",
   "metadata": {},
   "source": [
    "## Assigning voxels within an ROI to M/P"
   ]
  },
  {
   "cell_type": "code",
   "execution_count": null,
   "metadata": {
    "collapsed": true
   },
   "outputs": [],
   "source": [
    "copefile = '/Users/smerdis/data/LGN/BIDS/MS_LGN_fp107/nipype_MS_20150401_mp/hemifield/modelfit/datasink/stats_dir/_flameo2/stats/cope1.nii.gz'\n",
    "ROIfile = mROI"
   ]
  },
  {
   "cell_type": "code",
   "execution_count": null,
   "metadata": {
    "collapsed": true
   },
   "outputs": [],
   "source": [
    "def assign_mp_command(cope, roimask, pct_thresh, roi_below, roi_above, out_dir=None):\n",
    "    if out_dir is None:\n",
    "        out_dir = os.path.dirname(roimask)\n",
    "    print(f\"python assign_mp.py {cope} {roimask} {pct_thresh} {roi_below} {roi_above} {out_dir}\")\n",
    "\n",
    "def assign_voxels(infile, rois, split_pct):\n",
    "    \"\"\"Assign voxels to an ROI based on the percentile of intensity they fall in.\n",
    "    \n",
    "    rois should be a list of length 2, split_pcts should be a list of length 1\n",
    "    \n",
    "    e.g. assign_voxels_percentile(infile, ['M', 'P'], 80)\"\"\"\n",
    "    from nipype.interfaces.fsl import ImageMaths\n",
    "    stats = ImageMaths()\n",
    "    stats.inputs.in_file = infile\n",
    "    stats.inputs.op_string = f\"-thr {split_pct} -bin {roi_above}\"\n",
    "    print(stats.cmdline)"
   ]
  },
  {
   "cell_type": "code",
   "execution_count": null,
   "metadata": {
    "collapsed": true
   },
   "outputs": [],
   "source": [
    "assign_mp_command(copefile, ROIfile, 80, 'M', 'P')"
   ]
  },
  {
   "cell_type": "code",
   "execution_count": null,
   "metadata": {
    "collapsed": true
   },
   "outputs": [],
   "source": [
    "masked_cope = '/Users/smerdis/data/LGN/BIDS/MS_LGN_fp107/nipype_MS_20150401_hemi/hemifield/modelfit/datasink/cope_masked.nii.gz'"
   ]
  },
  {
   "cell_type": "code",
   "execution_count": null,
   "metadata": {
    "collapsed": true
   },
   "outputs": [],
   "source": [
    "assign_voxels_percentile(masked_cope, ['M', 'P'], 80)"
   ]
  },
  {
   "cell_type": "code",
   "execution_count": null,
   "metadata": {
    "collapsed": true
   },
   "outputs": [],
   "source": []
  },
  {
   "cell_type": "code",
   "execution_count": null,
   "metadata": {
    "collapsed": true
   },
   "outputs": [],
   "source": []
  },
  {
   "cell_type": "code",
   "execution_count": null,
   "metadata": {
    "collapsed": true
   },
   "outputs": [],
   "source": []
  },
  {
   "cell_type": "markdown",
   "metadata": {},
   "source": [
    "### Plotting stat maps"
   ]
  },
  {
   "cell_type": "code",
   "execution_count": null,
   "metadata": {
    "collapsed": true
   },
   "outputs": [],
   "source": [
    "from nilearn.plotting import plot_stat_map"
   ]
  },
  {
   "cell_type": "code",
   "execution_count": null,
   "metadata": {
    "collapsed": true
   },
   "outputs": [],
   "source": [
    "cc=(22, -16, -10)"
   ]
  },
  {
   "cell_type": "code",
   "execution_count": null,
   "metadata": {
    "collapsed": true
   },
   "outputs": [],
   "source": [
    "tstat = \"/Users/smerdis/data/LGN/BIDS/NB_20180524/derivatives/nipype_NB_20180524_mp/hemifield/modelfit/datasink/results_dir/_modelestimate4/results/cope3.nii.gz\""
   ]
  },
  {
   "cell_type": "code",
   "execution_count": null,
   "metadata": {
    "collapsed": true
   },
   "outputs": [],
   "source": [
    "plot_stat_map(\n",
    "    tstat, title='tstat1 for modelestimate0',\n",
    "    bg_img=anat, threshold=5, cut_coords=cc, display_mode='ortho', dim=-1)"
   ]
  },
  {
   "cell_type": "code",
   "execution_count": null,
   "metadata": {
    "collapsed": true
   },
   "outputs": [],
   "source": [
    "plot_stat_map(\n",
    "    tstat, title='tstat1 for modelestimate0',\n",
    "    bg_img=anat, threshold=1.5, cut_coords=cc, display_mode='ortho', dim=-1)"
   ]
  },
  {
   "cell_type": "code",
   "execution_count": null,
   "metadata": {
    "collapsed": true
   },
   "outputs": [],
   "source": [
    "plot_stat_map(\n",
    "    tstat, title='tstat1 for modelestimate0',\n",
    "    bg_img=anat, threshold=2, cut_coords=cc, display_mode='ortho', dim=-1)"
   ]
  },
  {
   "cell_type": "code",
   "execution_count": null,
   "metadata": {
    "collapsed": true
   },
   "outputs": [],
   "source": [
    "plot_stat_map(\n",
    "    tstat, title='tstat1 for modelestimate0',\n",
    "    bg_img=anat, threshold=2, display_mode='x', cut_coords=range(20, 27), dim=-1, output_file='lgn_slices_x_thr2.png')"
   ]
  },
  {
   "cell_type": "code",
   "execution_count": null,
   "metadata": {
    "collapsed": true
   },
   "outputs": [],
   "source": [
    "plot_stat_map(\n",
    "    tstat, title='tstat1 for modelestimate0',\n",
    "    bg_img=anat, threshold=2, display_mode='y', cut_coords=range(-18, -14), dim=-1, output_file='lgn_slices_y_thr2.png')"
   ]
  }
 ],
 "metadata": {
  "kernelspec": {
   "display_name": "Python 3",
   "language": "python",
   "name": "python3"
  },
  "language_info": {
   "codemirror_mode": {
    "name": "ipython",
    "version": 3
   },
   "file_extension": ".py",
   "mimetype": "text/x-python",
   "name": "python",
   "nbconvert_exporter": "python",
   "pygments_lexer": "ipython3",
   "version": "3.6.2"
  },
  "varInspector": {
   "cols": {
    "lenName": 16,
    "lenType": 16,
    "lenVar": 40
   },
   "kernels_config": {
    "python": {
     "delete_cmd_postfix": "",
     "delete_cmd_prefix": "del ",
     "library": "var_list.py",
     "varRefreshCmd": "print(var_dic_list())"
    },
    "r": {
     "delete_cmd_postfix": ") ",
     "delete_cmd_prefix": "rm(",
     "library": "var_list.r",
     "varRefreshCmd": "cat(var_dic_list()) "
    }
   },
   "types_to_exclude": [
    "module",
    "function",
    "builtin_function_or_method",
    "instance",
    "_Feature"
   ],
   "window_display": false
  }
 },
 "nbformat": 4,
 "nbformat_minor": 2
}
