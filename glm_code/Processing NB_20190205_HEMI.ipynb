{
 "cells": [
  {
   "cell_type": "code",
   "execution_count": 1,
   "metadata": {
    "ExecuteTime": {
     "end_time": "2020-08-27T01:05:36.313991Z",
     "start_time": "2020-08-27T01:05:36.261847Z"
    }
   },
   "outputs": [],
   "source": [
    "%load_ext autoreload\n",
    "%autoreload 2"
   ]
  },
  {
   "cell_type": "code",
   "execution_count": 2,
   "metadata": {
    "ExecuteTime": {
     "end_time": "2020-08-27T01:05:40.717902Z",
     "start_time": "2020-08-27T01:05:36.598745Z"
    }
   },
   "outputs": [
    {
     "name": "stderr",
     "output_type": "stream",
     "text": [
      "//anaconda/envs/py36/lib/python3.6/site-packages/sklearn/externals/joblib/__init__.py:15: DeprecationWarning: sklearn.externals.joblib is deprecated in 0.21 and will be removed in 0.23. Please import this functionality directly from joblib, which can be installed with: pip install joblib. If this warning is raised when loading pickled models, you may need to re-serialize those models with scikit-learn 0.21+.\n",
      "  warnings.warn(msg, category=DeprecationWarning)\n"
     ]
    }
   ],
   "source": [
    "import utils # stuff I've written for this project\n",
    "\n",
    "import os, sys, datetime, glob\n",
    "\n",
    "import numpy as np\n",
    "import pandas as pd\n",
    "import matplotlib.pyplot as plt\n",
    "\n",
    "import nibabel as nib\n",
    "\n",
    "import nilearn\n",
    "from nilearn.masking import apply_mask\n",
    "from nilearn.plotting import plot_img, plot_epi, plot_roi, plot_stat_map\n",
    "from nilearn.image import load_img\n",
    "from nilearn.image.image import mean_img\n",
    "from nilearn.input_data import NiftiMasker\n",
    "\n",
    "import nitime\n",
    "import nitime.fmri.io as nfio\n",
    "import nitime.timeseries as ts\n",
    "import nitime.analysis as nta\n",
    "import nitime.utils as ntu\n",
    "import nitime.viz as ntv"
   ]
  },
  {
   "cell_type": "code",
   "execution_count": 3,
   "metadata": {
    "ExecuteTime": {
     "end_time": "2020-08-27T01:05:40.836947Z",
     "start_time": "2020-08-27T01:05:40.726515Z"
    }
   },
   "outputs": [],
   "source": [
    "%matplotlib inline"
   ]
  },
  {
   "cell_type": "code",
   "execution_count": 4,
   "metadata": {
    "ExecuteTime": {
     "end_time": "2020-08-27T01:05:40.957935Z",
     "start_time": "2020-08-27T01:05:40.848364Z"
    }
   },
   "outputs": [
    {
     "data": {
      "text/plain": [
       "'2.4.1'"
      ]
     },
     "execution_count": 4,
     "metadata": {},
     "output_type": "execute_result"
    }
   ],
   "source": [
    "nib.__version__"
   ]
  },
  {
   "cell_type": "code",
   "execution_count": 5,
   "metadata": {
    "ExecuteTime": {
     "end_time": "2020-08-27T01:05:41.068726Z",
     "start_time": "2020-08-27T01:05:40.970868Z"
    }
   },
   "outputs": [
    {
     "data": {
      "text/plain": [
       "'0.5.2'"
      ]
     },
     "execution_count": 5,
     "metadata": {},
     "output_type": "execute_result"
    }
   ],
   "source": [
    "nilearn.__version__"
   ]
  },
  {
   "cell_type": "code",
   "execution_count": 6,
   "metadata": {
    "ExecuteTime": {
     "end_time": "2020-08-27T01:05:41.164775Z",
     "start_time": "2020-08-27T01:05:41.074658Z"
    }
   },
   "outputs": [
    {
     "data": {
      "text/plain": [
       "'0.8.1'"
      ]
     },
     "execution_count": 6,
     "metadata": {},
     "output_type": "execute_result"
    }
   ],
   "source": [
    "nitime.__version__"
   ]
  },
  {
   "cell_type": "markdown",
   "metadata": {
    "heading_collapsed": true
   },
   "source": [
    "### Test the confounds file exists"
   ]
  },
  {
   "cell_type": "code",
   "execution_count": 7,
   "metadata": {
    "ExecuteTime": {
     "end_time": "2020-08-27T01:05:41.254169Z",
     "start_time": "2020-08-27T01:05:41.169183Z"
    },
    "hidden": true
   },
   "outputs": [],
   "source": [
    "confounds_file = \"/Users/smerdis/data/LGN/BIDS/NB_combined/derivatives/fmriprep/sub-NB/ses-20190205/func/sub-NB_ses-20190205_task-hemi_acq-sbiso_run-02_bold_confounds.tsv\""
   ]
  },
  {
   "cell_type": "code",
   "execution_count": 8,
   "metadata": {
    "ExecuteTime": {
     "end_time": "2020-08-27T01:05:41.414562Z",
     "start_time": "2020-08-27T01:05:41.267007Z"
    },
    "hidden": true
   },
   "outputs": [],
   "source": [
    "confounds = pd.read_csv(confounds_file, sep=str('\\t'), na_values=\"n/a\")"
   ]
  },
  {
   "cell_type": "code",
   "execution_count": 9,
   "metadata": {
    "ExecuteTime": {
     "end_time": "2020-08-27T01:05:43.915563Z",
     "start_time": "2020-08-27T01:05:43.756559Z"
    },
    "hidden": true
   },
   "outputs": [
    {
     "data": {
      "text/html": [
       "<div>\n",
       "<style scoped>\n",
       "    .dataframe tbody tr th:only-of-type {\n",
       "        vertical-align: middle;\n",
       "    }\n",
       "\n",
       "    .dataframe tbody tr th {\n",
       "        vertical-align: top;\n",
       "    }\n",
       "\n",
       "    .dataframe thead th {\n",
       "        text-align: right;\n",
       "    }\n",
       "</style>\n",
       "<table border=\"1\" class=\"dataframe\">\n",
       "  <thead>\n",
       "    <tr style=\"text-align: right;\">\n",
       "      <th></th>\n",
       "      <th>CSF</th>\n",
       "      <th>WhiteMatter</th>\n",
       "      <th>GlobalSignal</th>\n",
       "      <th>stdDVARS</th>\n",
       "      <th>non-stdDVARS</th>\n",
       "      <th>vx-wisestdDVARS</th>\n",
       "      <th>FramewiseDisplacement</th>\n",
       "      <th>tCompCor00</th>\n",
       "      <th>tCompCor01</th>\n",
       "      <th>tCompCor02</th>\n",
       "      <th>...</th>\n",
       "      <th>aCompCor05</th>\n",
       "      <th>Cosine00</th>\n",
       "      <th>Cosine01</th>\n",
       "      <th>Cosine02</th>\n",
       "      <th>X</th>\n",
       "      <th>Y</th>\n",
       "      <th>Z</th>\n",
       "      <th>RotX</th>\n",
       "      <th>RotY</th>\n",
       "      <th>RotZ</th>\n",
       "    </tr>\n",
       "  </thead>\n",
       "  <tbody>\n",
       "    <tr>\n",
       "      <th>0</th>\n",
       "      <td>770.379856</td>\n",
       "      <td>454.938977</td>\n",
       "      <td>494.840445</td>\n",
       "      <td>NaN</td>\n",
       "      <td>NaN</td>\n",
       "      <td>NaN</td>\n",
       "      <td>NaN</td>\n",
       "      <td>0.010041</td>\n",
       "      <td>-0.120498</td>\n",
       "      <td>0.003100</td>\n",
       "      <td>...</td>\n",
       "      <td>0.008933</td>\n",
       "      <td>0.119944</td>\n",
       "      <td>0.119921</td>\n",
       "      <td>0.119883</td>\n",
       "      <td>-0.034431</td>\n",
       "      <td>-0.051267</td>\n",
       "      <td>-0.011951</td>\n",
       "      <td>-0.000071</td>\n",
       "      <td>0.001487</td>\n",
       "      <td>0.000000</td>\n",
       "    </tr>\n",
       "    <tr>\n",
       "      <th>1</th>\n",
       "      <td>767.582785</td>\n",
       "      <td>455.264943</td>\n",
       "      <td>493.836516</td>\n",
       "      <td>1.055039</td>\n",
       "      <td>39.965763</td>\n",
       "      <td>0.982809</td>\n",
       "      <td>0.074973</td>\n",
       "      <td>-0.096891</td>\n",
       "      <td>-0.012785</td>\n",
       "      <td>-0.080445</td>\n",
       "      <td>...</td>\n",
       "      <td>0.056169</td>\n",
       "      <td>0.119883</td>\n",
       "      <td>0.119676</td>\n",
       "      <td>0.119332</td>\n",
       "      <td>-0.036248</td>\n",
       "      <td>-0.027296</td>\n",
       "      <td>-0.005500</td>\n",
       "      <td>0.000370</td>\n",
       "      <td>0.001189</td>\n",
       "      <td>0.000116</td>\n",
       "    </tr>\n",
       "    <tr>\n",
       "      <th>2</th>\n",
       "      <td>767.373203</td>\n",
       "      <td>455.415570</td>\n",
       "      <td>493.607939</td>\n",
       "      <td>1.120969</td>\n",
       "      <td>42.463257</td>\n",
       "      <td>1.002035</td>\n",
       "      <td>0.058792</td>\n",
       "      <td>-0.056158</td>\n",
       "      <td>0.201913</td>\n",
       "      <td>-0.066696</td>\n",
       "      <td>...</td>\n",
       "      <td>-0.074910</td>\n",
       "      <td>0.119761</td>\n",
       "      <td>0.119187</td>\n",
       "      <td>0.118233</td>\n",
       "      <td>-0.034499</td>\n",
       "      <td>0.005578</td>\n",
       "      <td>0.003651</td>\n",
       "      <td>0.000553</td>\n",
       "      <td>0.001189</td>\n",
       "      <td>0.000000</td>\n",
       "    </tr>\n",
       "    <tr>\n",
       "      <th>3</th>\n",
       "      <td>765.404096</td>\n",
       "      <td>455.044005</td>\n",
       "      <td>493.714727</td>\n",
       "      <td>1.212368</td>\n",
       "      <td>45.925529</td>\n",
       "      <td>1.040752</td>\n",
       "      <td>0.103944</td>\n",
       "      <td>0.037910</td>\n",
       "      <td>-0.031049</td>\n",
       "      <td>0.187014</td>\n",
       "      <td>...</td>\n",
       "      <td>-0.090526</td>\n",
       "      <td>0.119577</td>\n",
       "      <td>0.118454</td>\n",
       "      <td>0.116590</td>\n",
       "      <td>-0.034868</td>\n",
       "      <td>-0.076532</td>\n",
       "      <td>-0.000039</td>\n",
       "      <td>0.000198</td>\n",
       "      <td>0.001189</td>\n",
       "      <td>0.000000</td>\n",
       "    </tr>\n",
       "    <tr>\n",
       "      <th>4</th>\n",
       "      <td>762.848614</td>\n",
       "      <td>454.438328</td>\n",
       "      <td>492.589410</td>\n",
       "      <td>1.194874</td>\n",
       "      <td>45.262840</td>\n",
       "      <td>1.048662</td>\n",
       "      <td>0.180629</td>\n",
       "      <td>-0.026411</td>\n",
       "      <td>-0.118262</td>\n",
       "      <td>-0.001785</td>\n",
       "      <td>...</td>\n",
       "      <td>0.027028</td>\n",
       "      <td>0.119332</td>\n",
       "      <td>0.117479</td>\n",
       "      <td>0.114412</td>\n",
       "      <td>-0.038471</td>\n",
       "      <td>0.047847</td>\n",
       "      <td>-0.022795</td>\n",
       "      <td>0.000796</td>\n",
       "      <td>0.001189</td>\n",
       "      <td>0.000000</td>\n",
       "    </tr>\n",
       "  </tbody>\n",
       "</table>\n",
       "<p>5 rows × 28 columns</p>\n",
       "</div>"
      ],
      "text/plain": [
       "          CSF  WhiteMatter  GlobalSignal  stdDVARS  non-stdDVARS  \\\n",
       "0  770.379856   454.938977    494.840445       NaN           NaN   \n",
       "1  767.582785   455.264943    493.836516  1.055039     39.965763   \n",
       "2  767.373203   455.415570    493.607939  1.120969     42.463257   \n",
       "3  765.404096   455.044005    493.714727  1.212368     45.925529   \n",
       "4  762.848614   454.438328    492.589410  1.194874     45.262840   \n",
       "\n",
       "   vx-wisestdDVARS  FramewiseDisplacement  tCompCor00  tCompCor01  tCompCor02  \\\n",
       "0              NaN                    NaN    0.010041   -0.120498    0.003100   \n",
       "1         0.982809               0.074973   -0.096891   -0.012785   -0.080445   \n",
       "2         1.002035               0.058792   -0.056158    0.201913   -0.066696   \n",
       "3         1.040752               0.103944    0.037910   -0.031049    0.187014   \n",
       "4         1.048662               0.180629   -0.026411   -0.118262   -0.001785   \n",
       "\n",
       "   ...  aCompCor05  Cosine00  Cosine01  Cosine02         X         Y  \\\n",
       "0  ...    0.008933  0.119944  0.119921  0.119883 -0.034431 -0.051267   \n",
       "1  ...    0.056169  0.119883  0.119676  0.119332 -0.036248 -0.027296   \n",
       "2  ...   -0.074910  0.119761  0.119187  0.118233 -0.034499  0.005578   \n",
       "3  ...   -0.090526  0.119577  0.118454  0.116590 -0.034868 -0.076532   \n",
       "4  ...    0.027028  0.119332  0.117479  0.114412 -0.038471  0.047847   \n",
       "\n",
       "          Z      RotX      RotY      RotZ  \n",
       "0 -0.011951 -0.000071  0.001487  0.000000  \n",
       "1 -0.005500  0.000370  0.001189  0.000116  \n",
       "2  0.003651  0.000553  0.001189  0.000000  \n",
       "3 -0.000039  0.000198  0.001189  0.000000  \n",
       "4 -0.022795  0.000796  0.001189  0.000000  \n",
       "\n",
       "[5 rows x 28 columns]"
      ]
     },
     "execution_count": 9,
     "metadata": {},
     "output_type": "execute_result"
    }
   ],
   "source": [
    "confounds.head()"
   ]
  },
  {
   "cell_type": "markdown",
   "metadata": {},
   "source": [
    "### Define paths etc"
   ]
  },
  {
   "cell_type": "code",
   "execution_count": 10,
   "metadata": {
    "ExecuteTime": {
     "end_time": "2020-08-27T01:05:47.344929Z",
     "start_time": "2020-08-27T01:05:47.250089Z"
    }
   },
   "outputs": [],
   "source": [
    "raw_data_dir = os.path.abspath(\"/Users/smerdis/data/LGN/BIDS/NB_combined/sub-NB/\")\n",
    "out_dir = os.path.abspath('/Users/smerdis/data/LGN/BIDS/NB_combined/derivatives/')\n",
    "fmriprep_dir = os.path.abspath(os.path.join(out_dir, 'fmriprep'))\n",
    "sub = \"NB\"\n",
    "ses = \"20190205\""
   ]
  },
  {
   "cell_type": "markdown",
   "metadata": {
    "heading_collapsed": true
   },
   "source": [
    "### Fix the event files\n",
    "\n",
    "For this subject, I consulted the scan log to line up the scans to runs and moved the files around manually"
   ]
  },
  {
   "cell_type": "code",
   "execution_count": null,
   "metadata": {
    "code_folding": [],
    "hidden": true
   },
   "outputs": [],
   "source": [
    "blocks_in_order = ['L', 'R']\n",
    "for thisrun in [1, 2, 3, 4]:\n",
    "    events_fn = f\"{raw_data_dir}/ses-{ses}/func/sub-{sub}_ses-{ses}_task-hemi_run-{thisrun:02d}_events.tsv\"\n",
    "    events_file_contents = f\"onset\\tduration\\ttrial_type\\n\"\n",
    "    time_between_onsets = 13.5\n",
    "    for i in range(22):\n",
    "        events_file_contents += f\"{i*time_between_onsets:.2f}\\t{time_between_onsets}\\t{blocks_in_order[i%(len(blocks_in_order))]}\\n\"\n",
    "    with open(events_fn, 'w') as f:\n",
    "        f.write(events_file_contents)\n",
    "    #print(events_fn, '\\n', events_file_contents)"
   ]
  },
  {
   "cell_type": "markdown",
   "metadata": {},
   "source": [
    "## GLM invocation from a cell"
   ]
  },
  {
   "cell_type": "markdown",
   "metadata": {},
   "source": [
    "### Only run one of the next two cells! (Picks which task and runs to analyze)\n",
    "\n",
    "#### Hemifield"
   ]
  },
  {
   "cell_type": "code",
   "execution_count": 11,
   "metadata": {
    "ExecuteTime": {
     "end_time": "2020-08-27T01:05:49.415973Z",
     "start_time": "2020-08-27T01:05:49.334016Z"
    }
   },
   "outputs": [],
   "source": [
    "task = \"hemi\"\n",
    "runs = [1, 3, 4]"
   ]
  },
  {
   "cell_type": "markdown",
   "metadata": {
    "heading_collapsed": true
   },
   "source": [
    "#### MP"
   ]
  },
  {
   "cell_type": "code",
   "execution_count": null,
   "metadata": {
    "hidden": true
   },
   "outputs": [],
   "source": [
    "task = \"mp\"\n",
    "runs = [1, 3, 5, 7, 9]"
   ]
  },
  {
   "cell_type": "markdown",
   "metadata": {},
   "source": [
    "### Use functions from utils to get files that would be passed to workflow"
   ]
  },
  {
   "cell_type": "code",
   "execution_count": 13,
   "metadata": {
    "ExecuteTime": {
     "end_time": "2020-08-27T01:06:34.828823Z",
     "start_time": "2020-08-27T01:06:34.715477Z"
    }
   },
   "outputs": [],
   "source": [
    "from bids import BIDSLayout"
   ]
  },
  {
   "cell_type": "code",
   "execution_count": 14,
   "metadata": {
    "ExecuteTime": {
     "end_time": "2020-08-27T01:06:36.703887Z",
     "start_time": "2020-08-27T01:06:35.785974Z"
    }
   },
   "outputs": [],
   "source": [
    "raw_layout = BIDSLayout(raw_data_dir, validate=False, derivatives=False)"
   ]
  },
  {
   "cell_type": "code",
   "execution_count": 15,
   "metadata": {
    "ExecuteTime": {
     "end_time": "2020-08-27T01:06:36.833774Z",
     "start_time": "2020-08-27T01:06:36.708425Z"
    }
   },
   "outputs": [
    {
     "data": {
      "text/plain": [
       "{'/Users/smerdis/data/LGN/BIDS/NB_combined/sub-NB/.DS_Store': <BIDSFile filename='/Users/smerdis/data/LGN/BIDS/NB_combined/sub-NB/.DS_Store'>,\n",
       " '/Users/smerdis/data/LGN/BIDS/NB_combined/sub-NB/ses-20180803/.DS_Store': <BIDSFile filename='/Users/smerdis/data/LGN/BIDS/NB_combined/sub-NB/ses-20180803/.DS_Store'>,\n",
       " '/Users/smerdis/data/LGN/BIDS/NB_combined/sub-NB/ses-20180803/anat/sub-NB_ses-20180803_T1w.nii.gz': <BIDSImageFile filename='/Users/smerdis/data/LGN/BIDS/NB_combined/sub-NB/ses-20180803/anat/sub-NB_ses-20180803_T1w.nii.gz'>,\n",
       " '/Users/smerdis/data/LGN/BIDS/NB_combined/sub-NB/ses-20180803/anat/sub-NB_ses-20180803_T1w.json': <BIDSFile filename='/Users/smerdis/data/LGN/BIDS/NB_combined/sub-NB/ses-20180803/anat/sub-NB_ses-20180803_T1w.json'>,\n",
       " '/Users/smerdis/data/LGN/BIDS/NB_combined/sub-NB/ses-20180803/func/sub-NB_ses-20180803_task-mp_run-02_bold.nii.gz': <BIDSImageFile filename='/Users/smerdis/data/LGN/BIDS/NB_combined/sub-NB/ses-20180803/func/sub-NB_ses-20180803_task-mp_run-02_bold.nii.gz'>,\n",
       " '/Users/smerdis/data/LGN/BIDS/NB_combined/sub-NB/ses-20180803/func/sub-NB_ses-20180803_task-mp_run-07_bold.json': <BIDSFile filename='/Users/smerdis/data/LGN/BIDS/NB_combined/sub-NB/ses-20180803/func/sub-NB_ses-20180803_task-mp_run-07_bold.json'>,\n",
       " '/Users/smerdis/data/LGN/BIDS/NB_combined/sub-NB/ses-20180803/func/sub-NB_ses-20180803_task-mp_run-08_events.tsv': <BIDSDataFile filename='/Users/smerdis/data/LGN/BIDS/NB_combined/sub-NB/ses-20180803/func/sub-NB_ses-20180803_task-mp_run-08_events.tsv'>,\n",
       " '/Users/smerdis/data/LGN/BIDS/NB_combined/sub-NB/ses-20180803/func/sub-NB_ses-20180803_task-mp_run-07_bold.nii.gz': <BIDSImageFile filename='/Users/smerdis/data/LGN/BIDS/NB_combined/sub-NB/ses-20180803/func/sub-NB_ses-20180803_task-mp_run-07_bold.nii.gz'>,\n",
       " '/Users/smerdis/data/LGN/BIDS/NB_combined/sub-NB/ses-20180803/func/sub-NB_ses-20180803_task-mp_run-01_bold.json': <BIDSFile filename='/Users/smerdis/data/LGN/BIDS/NB_combined/sub-NB/ses-20180803/func/sub-NB_ses-20180803_task-mp_run-01_bold.json'>,\n",
       " '/Users/smerdis/data/LGN/BIDS/NB_combined/sub-NB/ses-20180803/func/sub-NB_ses-20180803_task-mp_run-05_events.tsv': <BIDSDataFile filename='/Users/smerdis/data/LGN/BIDS/NB_combined/sub-NB/ses-20180803/func/sub-NB_ses-20180803_task-mp_run-05_events.tsv'>,\n",
       " '/Users/smerdis/data/LGN/BIDS/NB_combined/sub-NB/ses-20180803/func/sub-NB_ses-20180803_task-mp_run-02_events.tsv': <BIDSDataFile filename='/Users/smerdis/data/LGN/BIDS/NB_combined/sub-NB/ses-20180803/func/sub-NB_ses-20180803_task-mp_run-02_events.tsv'>,\n",
       " '/Users/smerdis/data/LGN/BIDS/NB_combined/sub-NB/ses-20180803/func/sub-NB_ses-20180803_task-mp_run-04_bold.nii.gz': <BIDSImageFile filename='/Users/smerdis/data/LGN/BIDS/NB_combined/sub-NB/ses-20180803/func/sub-NB_ses-20180803_task-mp_run-04_bold.nii.gz'>,\n",
       " '/Users/smerdis/data/LGN/BIDS/NB_combined/sub-NB/ses-20180803/func/sub-NB_ses-20180803_task-mp_run-06_bold.json': <BIDSFile filename='/Users/smerdis/data/LGN/BIDS/NB_combined/sub-NB/ses-20180803/func/sub-NB_ses-20180803_task-mp_run-06_bold.json'>,\n",
       " '/Users/smerdis/data/LGN/BIDS/NB_combined/sub-NB/ses-20180803/func/sub-NB_ses-20180803_task-mp_run-08_bold.nii.gz': <BIDSImageFile filename='/Users/smerdis/data/LGN/BIDS/NB_combined/sub-NB/ses-20180803/func/sub-NB_ses-20180803_task-mp_run-08_bold.nii.gz'>,\n",
       " '/Users/smerdis/data/LGN/BIDS/NB_combined/sub-NB/ses-20180803/func/sub-NB_ses-20180803_task-mp_run-07_events.tsv': <BIDSDataFile filename='/Users/smerdis/data/LGN/BIDS/NB_combined/sub-NB/ses-20180803/func/sub-NB_ses-20180803_task-mp_run-07_events.tsv'>,\n",
       " '/Users/smerdis/data/LGN/BIDS/NB_combined/sub-NB/ses-20180803/func/sub-NB_ses-20180803_task-mp_run-01_bold.nii.gz': <BIDSImageFile filename='/Users/smerdis/data/LGN/BIDS/NB_combined/sub-NB/ses-20180803/func/sub-NB_ses-20180803_task-mp_run-01_bold.nii.gz'>,\n",
       " '/Users/smerdis/data/LGN/BIDS/NB_combined/sub-NB/ses-20180803/func/sub-NB_ses-20180803_task-mp_run-06_bold.nii.gz': <BIDSImageFile filename='/Users/smerdis/data/LGN/BIDS/NB_combined/sub-NB/ses-20180803/func/sub-NB_ses-20180803_task-mp_run-06_bold.nii.gz'>,\n",
       " '/Users/smerdis/data/LGN/BIDS/NB_combined/sub-NB/ses-20180803/func/sub-NB_ses-20180803_task-mp_run-09_events.tsv': <BIDSDataFile filename='/Users/smerdis/data/LGN/BIDS/NB_combined/sub-NB/ses-20180803/func/sub-NB_ses-20180803_task-mp_run-09_events.tsv'>,\n",
       " '/Users/smerdis/data/LGN/BIDS/NB_combined/sub-NB/ses-20180803/func/sub-NB_ses-20180803_task-mp_run-08_bold.json': <BIDSFile filename='/Users/smerdis/data/LGN/BIDS/NB_combined/sub-NB/ses-20180803/func/sub-NB_ses-20180803_task-mp_run-08_bold.json'>,\n",
       " '/Users/smerdis/data/LGN/BIDS/NB_combined/sub-NB/ses-20180803/func/sub-NB_ses-20180803_task-mp_run-04_events.tsv': <BIDSDataFile filename='/Users/smerdis/data/LGN/BIDS/NB_combined/sub-NB/ses-20180803/func/sub-NB_ses-20180803_task-mp_run-04_events.tsv'>,\n",
       " '/Users/smerdis/data/LGN/BIDS/NB_combined/sub-NB/ses-20180803/func/sub-NB_ses-20180803_task-mp_run-05_bold.json': <BIDSFile filename='/Users/smerdis/data/LGN/BIDS/NB_combined/sub-NB/ses-20180803/func/sub-NB_ses-20180803_task-mp_run-05_bold.json'>,\n",
       " '/Users/smerdis/data/LGN/BIDS/NB_combined/sub-NB/ses-20180803/func/sub-NB_ses-20180803_task-mp_run-10_events.tsv': <BIDSDataFile filename='/Users/smerdis/data/LGN/BIDS/NB_combined/sub-NB/ses-20180803/func/sub-NB_ses-20180803_task-mp_run-10_events.tsv'>,\n",
       " '/Users/smerdis/data/LGN/BIDS/NB_combined/sub-NB/ses-20180803/func/sub-NB_ses-20180803_task-mp_run-03_bold.json': <BIDSFile filename='/Users/smerdis/data/LGN/BIDS/NB_combined/sub-NB/ses-20180803/func/sub-NB_ses-20180803_task-mp_run-03_bold.json'>,\n",
       " '/Users/smerdis/data/LGN/BIDS/NB_combined/sub-NB/ses-20180803/func/sub-NB_ses-20180803_task-mp_run-03_bold.nii.gz': <BIDSImageFile filename='/Users/smerdis/data/LGN/BIDS/NB_combined/sub-NB/ses-20180803/func/sub-NB_ses-20180803_task-mp_run-03_bold.nii.gz'>,\n",
       " '/Users/smerdis/data/LGN/BIDS/NB_combined/sub-NB/ses-20180803/func/sub-NB_ses-20180803_task-mp_run-09_bold.json': <BIDSFile filename='/Users/smerdis/data/LGN/BIDS/NB_combined/sub-NB/ses-20180803/func/sub-NB_ses-20180803_task-mp_run-09_bold.json'>,\n",
       " '/Users/smerdis/data/LGN/BIDS/NB_combined/sub-NB/ses-20180803/func/sub-NB_ses-20180803_task-mp_run-06_events.tsv': <BIDSDataFile filename='/Users/smerdis/data/LGN/BIDS/NB_combined/sub-NB/ses-20180803/func/sub-NB_ses-20180803_task-mp_run-06_events.tsv'>,\n",
       " '/Users/smerdis/data/LGN/BIDS/NB_combined/sub-NB/ses-20180803/func/sub-NB_ses-20180803_task-mp_run-09_bold.nii.gz': <BIDSImageFile filename='/Users/smerdis/data/LGN/BIDS/NB_combined/sub-NB/ses-20180803/func/sub-NB_ses-20180803_task-mp_run-09_bold.nii.gz'>,\n",
       " '/Users/smerdis/data/LGN/BIDS/NB_combined/sub-NB/ses-20180803/func/sub-NB_ses-20180803_task-mp_run-04_bold.json': <BIDSFile filename='/Users/smerdis/data/LGN/BIDS/NB_combined/sub-NB/ses-20180803/func/sub-NB_ses-20180803_task-mp_run-04_bold.json'>,\n",
       " '/Users/smerdis/data/LGN/BIDS/NB_combined/sub-NB/ses-20180803/func/sub-NB_ses-20180803_task-mp_run-10_bold.json': <BIDSFile filename='/Users/smerdis/data/LGN/BIDS/NB_combined/sub-NB/ses-20180803/func/sub-NB_ses-20180803_task-mp_run-10_bold.json'>,\n",
       " '/Users/smerdis/data/LGN/BIDS/NB_combined/sub-NB/ses-20180803/func/sub-NB_ses-20180803_task-mp_run-03_events.tsv': <BIDSDataFile filename='/Users/smerdis/data/LGN/BIDS/NB_combined/sub-NB/ses-20180803/func/sub-NB_ses-20180803_task-mp_run-03_events.tsv'>,\n",
       " '/Users/smerdis/data/LGN/BIDS/NB_combined/sub-NB/ses-20180803/func/sub-NB_ses-20180803_task-mp_run-10_bold.nii.gz': <BIDSImageFile filename='/Users/smerdis/data/LGN/BIDS/NB_combined/sub-NB/ses-20180803/func/sub-NB_ses-20180803_task-mp_run-10_bold.nii.gz'>,\n",
       " '/Users/smerdis/data/LGN/BIDS/NB_combined/sub-NB/ses-20180803/func/sub-NB_ses-20180803_task-mp_run-02_bold.json': <BIDSFile filename='/Users/smerdis/data/LGN/BIDS/NB_combined/sub-NB/ses-20180803/func/sub-NB_ses-20180803_task-mp_run-02_bold.json'>,\n",
       " '/Users/smerdis/data/LGN/BIDS/NB_combined/sub-NB/ses-20180803/func/sub-NB_ses-20180803_task-mp_run-05_bold.nii.gz': <BIDSImageFile filename='/Users/smerdis/data/LGN/BIDS/NB_combined/sub-NB/ses-20180803/func/sub-NB_ses-20180803_task-mp_run-05_bold.nii.gz'>,\n",
       " '/Users/smerdis/data/LGN/BIDS/NB_combined/sub-NB/ses-20190205/.DS_Store': <BIDSFile filename='/Users/smerdis/data/LGN/BIDS/NB_combined/sub-NB/ses-20190205/.DS_Store'>,\n",
       " '/Users/smerdis/data/LGN/BIDS/NB_combined/sub-NB/ses-20190205/func/sub-NB_ses-20190205_task-mp_acq-sbiso_run-09_bold.json': <BIDSFile filename='/Users/smerdis/data/LGN/BIDS/NB_combined/sub-NB/ses-20190205/func/sub-NB_ses-20190205_task-mp_acq-sbiso_run-09_bold.json'>,\n",
       " '/Users/smerdis/data/LGN/BIDS/NB_combined/sub-NB/ses-20190205/func/sub-NB_ses-20190205_task-mp_acq-sbiso_run-10_bold.nii.gz': <BIDSImageFile filename='/Users/smerdis/data/LGN/BIDS/NB_combined/sub-NB/ses-20190205/func/sub-NB_ses-20190205_task-mp_acq-sbiso_run-10_bold.nii.gz'>,\n",
       " '/Users/smerdis/data/LGN/BIDS/NB_combined/sub-NB/ses-20190205/func/sub-NB_ses-20190205_task-hemi_acq-sbiso_run-03_bold.json': <BIDSFile filename='/Users/smerdis/data/LGN/BIDS/NB_combined/sub-NB/ses-20190205/func/sub-NB_ses-20190205_task-hemi_acq-sbiso_run-03_bold.json'>,\n",
       " '/Users/smerdis/data/LGN/BIDS/NB_combined/sub-NB/ses-20190205/func/sub-NB_ses-20190205_task-mp_acq-sbiso_run-04_bold.json': <BIDSFile filename='/Users/smerdis/data/LGN/BIDS/NB_combined/sub-NB/ses-20190205/func/sub-NB_ses-20190205_task-mp_acq-sbiso_run-04_bold.json'>,\n",
       " '/Users/smerdis/data/LGN/BIDS/NB_combined/sub-NB/ses-20190205/func/sub-NB_ses-20190205_task-mp_acq-sbiso_run-10_bold.json': <BIDSFile filename='/Users/smerdis/data/LGN/BIDS/NB_combined/sub-NB/ses-20190205/func/sub-NB_ses-20190205_task-mp_acq-sbiso_run-10_bold.json'>,\n",
       " '/Users/smerdis/data/LGN/BIDS/NB_combined/sub-NB/ses-20190205/func/sub-NB_ses-20190205_task-mp_acq-sbiso_run-05_bold.nii.gz': <BIDSImageFile filename='/Users/smerdis/data/LGN/BIDS/NB_combined/sub-NB/ses-20190205/func/sub-NB_ses-20190205_task-mp_acq-sbiso_run-05_bold.nii.gz'>,\n",
       " '/Users/smerdis/data/LGN/BIDS/NB_combined/sub-NB/ses-20190205/func/sub-NB_ses-20190205_task-mp_acq-sbiso_run-05_events.tsv': <BIDSDataFile filename='/Users/smerdis/data/LGN/BIDS/NB_combined/sub-NB/ses-20190205/func/sub-NB_ses-20190205_task-mp_acq-sbiso_run-05_events.tsv'>,\n",
       " '/Users/smerdis/data/LGN/BIDS/NB_combined/sub-NB/ses-20190205/func/.DS_Store': <BIDSFile filename='/Users/smerdis/data/LGN/BIDS/NB_combined/sub-NB/ses-20190205/func/.DS_Store'>,\n",
       " '/Users/smerdis/data/LGN/BIDS/NB_combined/sub-NB/ses-20190205/func/sub-NB_ses-20190205_task-hemi_acq-sbiso_run-03_bold.nii.gz': <BIDSImageFile filename='/Users/smerdis/data/LGN/BIDS/NB_combined/sub-NB/ses-20190205/func/sub-NB_ses-20190205_task-hemi_acq-sbiso_run-03_bold.nii.gz'>,\n",
       " '/Users/smerdis/data/LGN/BIDS/NB_combined/sub-NB/ses-20190205/func/sub-NB_ses-20190205_task-mp_acq-sbiso_run-09_bold.nii.gz': <BIDSImageFile filename='/Users/smerdis/data/LGN/BIDS/NB_combined/sub-NB/ses-20190205/func/sub-NB_ses-20190205_task-mp_acq-sbiso_run-09_bold.nii.gz'>,\n",
       " '/Users/smerdis/data/LGN/BIDS/NB_combined/sub-NB/ses-20190205/func/sub-NB_ses-20190205_task-mp_acq-sbiso_run-02_bold.json': <BIDSFile filename='/Users/smerdis/data/LGN/BIDS/NB_combined/sub-NB/ses-20190205/func/sub-NB_ses-20190205_task-mp_acq-sbiso_run-02_bold.json'>,\n",
       " '/Users/smerdis/data/LGN/BIDS/NB_combined/sub-NB/ses-20190205/func/sub-NB_ses-20190205_task-mp_acq-sbiso_run-08_bold.json': <BIDSFile filename='/Users/smerdis/data/LGN/BIDS/NB_combined/sub-NB/ses-20190205/func/sub-NB_ses-20190205_task-mp_acq-sbiso_run-08_bold.json'>,\n",
       " '/Users/smerdis/data/LGN/BIDS/NB_combined/sub-NB/ses-20190205/func/sub-NB_ses-20190205_task-hemi_acq-sbiso_run-02_bold.json': <BIDSFile filename='/Users/smerdis/data/LGN/BIDS/NB_combined/sub-NB/ses-20190205/func/sub-NB_ses-20190205_task-hemi_acq-sbiso_run-02_bold.json'>,\n",
       " '/Users/smerdis/data/LGN/BIDS/NB_combined/sub-NB/ses-20190205/func/sub-NB_ses-20190205_task-mp_acq-sbiso_run-05_bold.json': <BIDSFile filename='/Users/smerdis/data/LGN/BIDS/NB_combined/sub-NB/ses-20190205/func/sub-NB_ses-20190205_task-mp_acq-sbiso_run-05_bold.json'>,\n",
       " '/Users/smerdis/data/LGN/BIDS/NB_combined/sub-NB/ses-20190205/func/sub-NB_ses-20190205_task-hemi_run-02_events.tsv': <BIDSDataFile filename='/Users/smerdis/data/LGN/BIDS/NB_combined/sub-NB/ses-20190205/func/sub-NB_ses-20190205_task-hemi_run-02_events.tsv'>,\n",
       " '/Users/smerdis/data/LGN/BIDS/NB_combined/sub-NB/ses-20190205/func/sub-NB_ses-20190205_task-mp_acq-sbiso_run-03_bold.nii.gz': <BIDSImageFile filename='/Users/smerdis/data/LGN/BIDS/NB_combined/sub-NB/ses-20190205/func/sub-NB_ses-20190205_task-mp_acq-sbiso_run-03_bold.nii.gz'>,\n",
       " '/Users/smerdis/data/LGN/BIDS/NB_combined/sub-NB/ses-20190205/func/sub-NB_ses-20190205_task-mp_acq-sbiso_run-07_events.tsv': <BIDSDataFile filename='/Users/smerdis/data/LGN/BIDS/NB_combined/sub-NB/ses-20190205/func/sub-NB_ses-20190205_task-mp_acq-sbiso_run-07_events.tsv'>,\n",
       " '/Users/smerdis/data/LGN/BIDS/NB_combined/sub-NB/ses-20190205/func/sub-NB_ses-20190205_task-mp_acq-sbiso_run-06_bold.nii.gz': <BIDSImageFile filename='/Users/smerdis/data/LGN/BIDS/NB_combined/sub-NB/ses-20190205/func/sub-NB_ses-20190205_task-mp_acq-sbiso_run-06_bold.nii.gz'>,\n",
       " '/Users/smerdis/data/LGN/BIDS/NB_combined/sub-NB/ses-20190205/func/sub-NB_ses-20190205_task-mp_acq-sbiso_run-03_bold.json': <BIDSFile filename='/Users/smerdis/data/LGN/BIDS/NB_combined/sub-NB/ses-20190205/func/sub-NB_ses-20190205_task-mp_acq-sbiso_run-03_bold.json'>,\n",
       " '/Users/smerdis/data/LGN/BIDS/NB_combined/sub-NB/ses-20190205/func/sub-NB_ses-20190205_task-hemi_acq-sbiso_run-04_bold.json': <BIDSFile filename='/Users/smerdis/data/LGN/BIDS/NB_combined/sub-NB/ses-20190205/func/sub-NB_ses-20190205_task-hemi_acq-sbiso_run-04_bold.json'>,\n",
       " '/Users/smerdis/data/LGN/BIDS/NB_combined/sub-NB/ses-20190205/func/sub-NB_ses-20190205_task-hemi_run-04_events.tsv': <BIDSDataFile filename='/Users/smerdis/data/LGN/BIDS/NB_combined/sub-NB/ses-20190205/func/sub-NB_ses-20190205_task-hemi_run-04_events.tsv'>,\n",
       " '/Users/smerdis/data/LGN/BIDS/NB_combined/sub-NB/ses-20190205/func/sub-NB_ses-20190205_task-mp_acq-sbiso_run-08_bold.nii.gz': <BIDSImageFile filename='/Users/smerdis/data/LGN/BIDS/NB_combined/sub-NB/ses-20190205/func/sub-NB_ses-20190205_task-mp_acq-sbiso_run-08_bold.nii.gz'>,\n",
       " '/Users/smerdis/data/LGN/BIDS/NB_combined/sub-NB/ses-20190205/func/sub-NB_ses-20190205_task-mp_acq-sbiso_run-09_events.tsv': <BIDSDataFile filename='/Users/smerdis/data/LGN/BIDS/NB_combined/sub-NB/ses-20190205/func/sub-NB_ses-20190205_task-mp_acq-sbiso_run-09_events.tsv'>,\n",
       " '/Users/smerdis/data/LGN/BIDS/NB_combined/sub-NB/ses-20190205/func/sub-NB_ses-20190205_task-hemi_acq-sbiso_run-02_bold.nii.gz': <BIDSImageFile filename='/Users/smerdis/data/LGN/BIDS/NB_combined/sub-NB/ses-20190205/func/sub-NB_ses-20190205_task-hemi_acq-sbiso_run-02_bold.nii.gz'>,\n",
       " '/Users/smerdis/data/LGN/BIDS/NB_combined/sub-NB/ses-20190205/func/sub-NB_ses-20190205_task-hemi_acq-sbiso_run-01_bold.json': <BIDSFile filename='/Users/smerdis/data/LGN/BIDS/NB_combined/sub-NB/ses-20190205/func/sub-NB_ses-20190205_task-hemi_acq-sbiso_run-01_bold.json'>,\n",
       " '/Users/smerdis/data/LGN/BIDS/NB_combined/sub-NB/ses-20190205/func/sub-NB_ses-20190205_task-mp_acq-sbiso_run-06_bold.json': <BIDSFile filename='/Users/smerdis/data/LGN/BIDS/NB_combined/sub-NB/ses-20190205/func/sub-NB_ses-20190205_task-mp_acq-sbiso_run-06_bold.json'>,\n",
       " '/Users/smerdis/data/LGN/BIDS/NB_combined/sub-NB/ses-20190205/func/sub-NB_ses-20190205_task-mp_acq-sbiso_run-01_bold.nii.gz': <BIDSImageFile filename='/Users/smerdis/data/LGN/BIDS/NB_combined/sub-NB/ses-20190205/func/sub-NB_ses-20190205_task-mp_acq-sbiso_run-01_bold.nii.gz'>,\n",
       " '/Users/smerdis/data/LGN/BIDS/NB_combined/sub-NB/ses-20190205/func/sub-NB_ses-20190205_task-mp_acq-sbiso_run-04_bold.nii.gz': <BIDSImageFile filename='/Users/smerdis/data/LGN/BIDS/NB_combined/sub-NB/ses-20190205/func/sub-NB_ses-20190205_task-mp_acq-sbiso_run-04_bold.nii.gz'>,\n",
       " '/Users/smerdis/data/LGN/BIDS/NB_combined/sub-NB/ses-20190205/func/sub-NB_ses-20190205_task-mp_acq-sbiso_run-01_events.tsv': <BIDSDataFile filename='/Users/smerdis/data/LGN/BIDS/NB_combined/sub-NB/ses-20190205/func/sub-NB_ses-20190205_task-mp_acq-sbiso_run-01_events.tsv'>,\n",
       " '/Users/smerdis/data/LGN/BIDS/NB_combined/sub-NB/ses-20190205/func/sub-NB_ses-20190205_task-hemi_run-01_events.tsv': <BIDSDataFile filename='/Users/smerdis/data/LGN/BIDS/NB_combined/sub-NB/ses-20190205/func/sub-NB_ses-20190205_task-hemi_run-01_events.tsv'>,\n",
       " '/Users/smerdis/data/LGN/BIDS/NB_combined/sub-NB/ses-20190205/func/sub-NB_ses-20190205_task-mp_acq-sbiso_run-07_bold.nii.gz': <BIDSImageFile filename='/Users/smerdis/data/LGN/BIDS/NB_combined/sub-NB/ses-20190205/func/sub-NB_ses-20190205_task-mp_acq-sbiso_run-07_bold.nii.gz'>,\n",
       " '/Users/smerdis/data/LGN/BIDS/NB_combined/sub-NB/ses-20190205/func/sub-NB_ses-20190205_task-hemi_acq-sbiso_run-04_bold.nii.gz': <BIDSImageFile filename='/Users/smerdis/data/LGN/BIDS/NB_combined/sub-NB/ses-20190205/func/sub-NB_ses-20190205_task-hemi_acq-sbiso_run-04_bold.nii.gz'>,\n",
       " '/Users/smerdis/data/LGN/BIDS/NB_combined/sub-NB/ses-20190205/func/sub-NB_ses-20190205_task-mp_acq-sbiso_run-07_bold.json': <BIDSFile filename='/Users/smerdis/data/LGN/BIDS/NB_combined/sub-NB/ses-20190205/func/sub-NB_ses-20190205_task-mp_acq-sbiso_run-07_bold.json'>,\n",
       " '/Users/smerdis/data/LGN/BIDS/NB_combined/sub-NB/ses-20190205/func/sub-NB_ses-20190205_task-mp_acq-sbiso_run-02_bold.nii.gz': <BIDSImageFile filename='/Users/smerdis/data/LGN/BIDS/NB_combined/sub-NB/ses-20190205/func/sub-NB_ses-20190205_task-mp_acq-sbiso_run-02_bold.nii.gz'>,\n",
       " '/Users/smerdis/data/LGN/BIDS/NB_combined/sub-NB/ses-20190205/func/sub-NB_ses-20190205_task-hemi_acq-sbiso_run-01_bold.nii.gz': <BIDSImageFile filename='/Users/smerdis/data/LGN/BIDS/NB_combined/sub-NB/ses-20190205/func/sub-NB_ses-20190205_task-hemi_acq-sbiso_run-01_bold.nii.gz'>,\n",
       " '/Users/smerdis/data/LGN/BIDS/NB_combined/sub-NB/ses-20190205/func/sub-NB_ses-20190205_task-mp_acq-sbiso_run-01_bold.json': <BIDSFile filename='/Users/smerdis/data/LGN/BIDS/NB_combined/sub-NB/ses-20190205/func/sub-NB_ses-20190205_task-mp_acq-sbiso_run-01_bold.json'>,\n",
       " '/Users/smerdis/data/LGN/BIDS/NB_combined/sub-NB/ses-20190205/func/sub-NB_ses-20190205_task-mp_acq-sbiso_run-03_events.tsv': <BIDSDataFile filename='/Users/smerdis/data/LGN/BIDS/NB_combined/sub-NB/ses-20190205/func/sub-NB_ses-20190205_task-mp_acq-sbiso_run-03_events.tsv'>,\n",
       " '/Users/smerdis/data/LGN/BIDS/NB_combined/sub-NB/ses-20190205/func/sub-NB_ses-20190205_task-hemi_run-03_events.tsv': <BIDSDataFile filename='/Users/smerdis/data/LGN/BIDS/NB_combined/sub-NB/ses-20190205/func/sub-NB_ses-20190205_task-hemi_run-03_events.tsv'>,\n",
       " '/Users/smerdis/data/LGN/BIDS/NB_combined/sub-NB/ses-20190205/func/hidden/sub-NB_ses-20190205_task-mp_acq-mb5gap_run-02_bold.json': <BIDSFile filename='/Users/smerdis/data/LGN/BIDS/NB_combined/sub-NB/ses-20190205/func/hidden/sub-NB_ses-20190205_task-mp_acq-mb5gap_run-02_bold.json'>,\n",
       " '/Users/smerdis/data/LGN/BIDS/NB_combined/sub-NB/ses-20190205/func/hidden/sub-NB_ses-20190205_task-mp_acq-mb5iso_run-02_bold.nii.gz': <BIDSImageFile filename='/Users/smerdis/data/LGN/BIDS/NB_combined/sub-NB/ses-20190205/func/hidden/sub-NB_ses-20190205_task-mp_acq-mb5iso_run-02_bold.nii.gz'>,\n",
       " '/Users/smerdis/data/LGN/BIDS/NB_combined/sub-NB/ses-20190205/func/hidden/sub-NB_ses-20190205_task-mp_acq-mb5iso_run-01_bold.json': <BIDSFile filename='/Users/smerdis/data/LGN/BIDS/NB_combined/sub-NB/ses-20190205/func/hidden/sub-NB_ses-20190205_task-mp_acq-mb5iso_run-01_bold.json'>,\n",
       " '/Users/smerdis/data/LGN/BIDS/NB_combined/sub-NB/ses-20190205/func/hidden/sub-NB_ses-20190205_task-hemi_acq-sb165nogap_bold.nii.gz': <BIDSImageFile filename='/Users/smerdis/data/LGN/BIDS/NB_combined/sub-NB/ses-20190205/func/hidden/sub-NB_ses-20190205_task-hemi_acq-sb165nogap_bold.nii.gz'>,\n",
       " '/Users/smerdis/data/LGN/BIDS/NB_combined/sub-NB/ses-20190205/func/hidden/sub-NB_ses-20190205_task-mp_acq-mb5gap_run-02_bold.nii.gz': <BIDSImageFile filename='/Users/smerdis/data/LGN/BIDS/NB_combined/sub-NB/ses-20190205/func/hidden/sub-NB_ses-20190205_task-mp_acq-mb5gap_run-02_bold.nii.gz'>,\n",
       " '/Users/smerdis/data/LGN/BIDS/NB_combined/sub-NB/ses-20190205/func/hidden/sub-NB_ses-20190205_task-hemi_acq-sb165nogap_bold.json': <BIDSFile filename='/Users/smerdis/data/LGN/BIDS/NB_combined/sub-NB/ses-20190205/func/hidden/sub-NB_ses-20190205_task-hemi_acq-sb165nogap_bold.json'>,\n",
       " '/Users/smerdis/data/LGN/BIDS/NB_combined/sub-NB/ses-20190205/func/hidden/sub-NB_ses-20190205_task-mp_acq-mb5gap_run-04_bold.json': <BIDSFile filename='/Users/smerdis/data/LGN/BIDS/NB_combined/sub-NB/ses-20190205/func/hidden/sub-NB_ses-20190205_task-mp_acq-mb5gap_run-04_bold.json'>,\n",
       " '/Users/smerdis/data/LGN/BIDS/NB_combined/sub-NB/ses-20190205/func/hidden/sub-NB_ses-20190205_task-mp_acq-mb5gap_run-03_bold.json': <BIDSFile filename='/Users/smerdis/data/LGN/BIDS/NB_combined/sub-NB/ses-20190205/func/hidden/sub-NB_ses-20190205_task-mp_acq-mb5gap_run-03_bold.json'>,\n",
       " '/Users/smerdis/data/LGN/BIDS/NB_combined/sub-NB/ses-20190205/func/hidden/sub-NB_ses-20190205_task-mp_acq-mb5iso_run-04_bold.nii.gz': <BIDSImageFile filename='/Users/smerdis/data/LGN/BIDS/NB_combined/sub-NB/ses-20190205/func/hidden/sub-NB_ses-20190205_task-mp_acq-mb5iso_run-04_bold.nii.gz'>,\n",
       " '/Users/smerdis/data/LGN/BIDS/NB_combined/sub-NB/ses-20190205/func/hidden/sub-NB_ses-20190205_task-mp_acq-mb5gap_run-04_bold.nii.gz': <BIDSImageFile filename='/Users/smerdis/data/LGN/BIDS/NB_combined/sub-NB/ses-20190205/func/hidden/sub-NB_ses-20190205_task-mp_acq-mb5gap_run-04_bold.nii.gz'>,\n",
       " '/Users/smerdis/data/LGN/BIDS/NB_combined/sub-NB/ses-20190205/func/hidden/sub-NB_ses-20190205_task-mp_acq-mb5gap_run-01_bold.nii.gz': <BIDSImageFile filename='/Users/smerdis/data/LGN/BIDS/NB_combined/sub-NB/ses-20190205/func/hidden/sub-NB_ses-20190205_task-mp_acq-mb5gap_run-01_bold.nii.gz'>,\n",
       " '/Users/smerdis/data/LGN/BIDS/NB_combined/sub-NB/ses-20190205/func/hidden/sub-NB_ses-20190205_task-mp_acq-mb5iso_run-01_bold.nii.gz': <BIDSImageFile filename='/Users/smerdis/data/LGN/BIDS/NB_combined/sub-NB/ses-20190205/func/hidden/sub-NB_ses-20190205_task-mp_acq-mb5iso_run-01_bold.nii.gz'>,\n",
       " '/Users/smerdis/data/LGN/BIDS/NB_combined/sub-NB/ses-20190205/func/hidden/sub-NB_ses-20190205_task-mp_acq-sb165nogap_bold.nii.gz': <BIDSImageFile filename='/Users/smerdis/data/LGN/BIDS/NB_combined/sub-NB/ses-20190205/func/hidden/sub-NB_ses-20190205_task-mp_acq-sb165nogap_bold.nii.gz'>,\n",
       " '/Users/smerdis/data/LGN/BIDS/NB_combined/sub-NB/ses-20190205/func/hidden/sub-NB_ses-20190205_task-mp_acq-mb5iso_run-03_bold.json': <BIDSFile filename='/Users/smerdis/data/LGN/BIDS/NB_combined/sub-NB/ses-20190205/func/hidden/sub-NB_ses-20190205_task-mp_acq-mb5iso_run-03_bold.json'>,\n",
       " '/Users/smerdis/data/LGN/BIDS/NB_combined/sub-NB/ses-20190205/func/hidden/sub-NB_ses-20190205_task-mp_acq-mb5gap_run-03_bold.nii.gz': <BIDSImageFile filename='/Users/smerdis/data/LGN/BIDS/NB_combined/sub-NB/ses-20190205/func/hidden/sub-NB_ses-20190205_task-mp_acq-mb5gap_run-03_bold.nii.gz'>,\n",
       " '/Users/smerdis/data/LGN/BIDS/NB_combined/sub-NB/ses-20190205/func/hidden/sub-NB_ses-20190205_task-mp_acq-sb165nogap_bold.json': <BIDSFile filename='/Users/smerdis/data/LGN/BIDS/NB_combined/sub-NB/ses-20190205/func/hidden/sub-NB_ses-20190205_task-mp_acq-sb165nogap_bold.json'>,\n",
       " '/Users/smerdis/data/LGN/BIDS/NB_combined/sub-NB/ses-20190205/func/hidden/sub-NB_ses-20190205_task-mp_acq-mb5iso_run-03_bold.nii.gz': <BIDSImageFile filename='/Users/smerdis/data/LGN/BIDS/NB_combined/sub-NB/ses-20190205/func/hidden/sub-NB_ses-20190205_task-mp_acq-mb5iso_run-03_bold.nii.gz'>,\n",
       " '/Users/smerdis/data/LGN/BIDS/NB_combined/sub-NB/ses-20190205/func/hidden/sub-NB_ses-20190205_task-mp_acq-mb5iso_run-02_bold.json': <BIDSFile filename='/Users/smerdis/data/LGN/BIDS/NB_combined/sub-NB/ses-20190205/func/hidden/sub-NB_ses-20190205_task-mp_acq-mb5iso_run-02_bold.json'>,\n",
       " '/Users/smerdis/data/LGN/BIDS/NB_combined/sub-NB/ses-20190205/func/hidden/sub-NB_ses-20190205_task-mp_acq-mb5gap_run-01_bold.json': <BIDSFile filename='/Users/smerdis/data/LGN/BIDS/NB_combined/sub-NB/ses-20190205/func/hidden/sub-NB_ses-20190205_task-mp_acq-mb5gap_run-01_bold.json'>,\n",
       " '/Users/smerdis/data/LGN/BIDS/NB_combined/sub-NB/ses-20190205/func/hidden/sub-NB_ses-20190205_task-mp_acq-sb165nogap_events.tsv': <BIDSDataFile filename='/Users/smerdis/data/LGN/BIDS/NB_combined/sub-NB/ses-20190205/func/hidden/sub-NB_ses-20190205_task-mp_acq-sb165nogap_events.tsv'>,\n",
       " '/Users/smerdis/data/LGN/BIDS/NB_combined/sub-NB/ses-20190205/func/hidden/sub-NB_ses-20190205_task-mp_acq-mb5iso_run-04_bold.json': <BIDSFile filename='/Users/smerdis/data/LGN/BIDS/NB_combined/sub-NB/ses-20190205/func/hidden/sub-NB_ses-20190205_task-mp_acq-mb5iso_run-04_bold.json'>}"
      ]
     },
     "execution_count": 15,
     "metadata": {},
     "output_type": "execute_result"
    }
   ],
   "source": [
    "raw_layout.files"
   ]
  },
  {
   "cell_type": "code",
   "execution_count": 16,
   "metadata": {
    "ExecuteTime": {
     "end_time": "2020-08-27T01:06:38.040977Z",
     "start_time": "2020-08-27T01:06:36.838823Z"
    }
   },
   "outputs": [],
   "source": [
    "preproc_layout = BIDSLayout(fmriprep_dir, validate=False)"
   ]
  },
  {
   "cell_type": "code",
   "execution_count": 17,
   "metadata": {
    "ExecuteTime": {
     "end_time": "2020-08-27T01:06:40.373682Z",
     "start_time": "2020-08-27T01:06:40.189173Z"
    }
   },
   "outputs": [
    {
     "data": {
      "text/plain": [
       "{'/Users/smerdis/data/LGN/BIDS/NB_combined/derivatives/fmriprep/sub-NB.html': <BIDSFile filename='/Users/smerdis/data/LGN/BIDS/NB_combined/derivatives/fmriprep/sub-NB.html'>,\n",
       " '/Users/smerdis/data/LGN/BIDS/NB_combined/derivatives/fmriprep/.DS_Store': <BIDSFile filename='/Users/smerdis/data/LGN/BIDS/NB_combined/derivatives/fmriprep/.DS_Store'>,\n",
       " '/Users/smerdis/data/LGN/BIDS/NB_combined/derivatives/fmriprep/sub-NB/.DS_Store': <BIDSFile filename='/Users/smerdis/data/LGN/BIDS/NB_combined/derivatives/fmriprep/sub-NB/.DS_Store'>,\n",
       " '/Users/smerdis/data/LGN/BIDS/NB_combined/derivatives/fmriprep/sub-NB/anat/sub-NB_T1w_label-aseg_roi.nii.gz': <BIDSImageFile filename='/Users/smerdis/data/LGN/BIDS/NB_combined/derivatives/fmriprep/sub-NB/anat/sub-NB_T1w_label-aseg_roi.nii.gz'>,\n",
       " '/Users/smerdis/data/LGN/BIDS/NB_combined/derivatives/fmriprep/sub-NB/anat/sub-NB_T1w_class-CSF_probtissue.nii.gz': <BIDSImageFile filename='/Users/smerdis/data/LGN/BIDS/NB_combined/derivatives/fmriprep/sub-NB/anat/sub-NB_T1w_class-CSF_probtissue.nii.gz'>,\n",
       " '/Users/smerdis/data/LGN/BIDS/NB_combined/derivatives/fmriprep/sub-NB/anat/sub-NB_T1w_class-WM_probtissue.nii.gz': <BIDSImageFile filename='/Users/smerdis/data/LGN/BIDS/NB_combined/derivatives/fmriprep/sub-NB/anat/sub-NB_T1w_class-WM_probtissue.nii.gz'>,\n",
       " '/Users/smerdis/data/LGN/BIDS/NB_combined/derivatives/fmriprep/sub-NB/anat/sub-NB_T1w_target-fsnative_affine.txt': <BIDSFile filename='/Users/smerdis/data/LGN/BIDS/NB_combined/derivatives/fmriprep/sub-NB/anat/sub-NB_T1w_target-fsnative_affine.txt'>,\n",
       " '/Users/smerdis/data/LGN/BIDS/NB_combined/derivatives/fmriprep/sub-NB/anat/sub-NB_T1w_dtissue.nii.gz': <BIDSImageFile filename='/Users/smerdis/data/LGN/BIDS/NB_combined/derivatives/fmriprep/sub-NB/anat/sub-NB_T1w_dtissue.nii.gz'>,\n",
       " '/Users/smerdis/data/LGN/BIDS/NB_combined/derivatives/fmriprep/sub-NB/anat/sub-NB_T1w_label-aparcaseg_roi.nii.gz': <BIDSImageFile filename='/Users/smerdis/data/LGN/BIDS/NB_combined/derivatives/fmriprep/sub-NB/anat/sub-NB_T1w_label-aparcaseg_roi.nii.gz'>,\n",
       " '/Users/smerdis/data/LGN/BIDS/NB_combined/derivatives/fmriprep/sub-NB/anat/sub-NB_T1w_brainmask.nii.gz': <BIDSImageFile filename='/Users/smerdis/data/LGN/BIDS/NB_combined/derivatives/fmriprep/sub-NB/anat/sub-NB_T1w_brainmask.nii.gz'>,\n",
       " '/Users/smerdis/data/LGN/BIDS/NB_combined/derivatives/fmriprep/sub-NB/anat/sub-NB_T1w_midthickness.L.surf.gii': <BIDSFile filename='/Users/smerdis/data/LGN/BIDS/NB_combined/derivatives/fmriprep/sub-NB/anat/sub-NB_T1w_midthickness.L.surf.gii'>,\n",
       " '/Users/smerdis/data/LGN/BIDS/NB_combined/derivatives/fmriprep/sub-NB/anat/sub-NB_T1w_pial.L.surf.gii': <BIDSFile filename='/Users/smerdis/data/LGN/BIDS/NB_combined/derivatives/fmriprep/sub-NB/anat/sub-NB_T1w_pial.L.surf.gii'>,\n",
       " '/Users/smerdis/data/LGN/BIDS/NB_combined/derivatives/fmriprep/sub-NB/anat/sub-NB_T1w_class-GM_probtissue.nii.gz': <BIDSImageFile filename='/Users/smerdis/data/LGN/BIDS/NB_combined/derivatives/fmriprep/sub-NB/anat/sub-NB_T1w_class-GM_probtissue.nii.gz'>,\n",
       " '/Users/smerdis/data/LGN/BIDS/NB_combined/derivatives/fmriprep/sub-NB/anat/sub-NB_T1w_pial.R.surf.gii': <BIDSFile filename='/Users/smerdis/data/LGN/BIDS/NB_combined/derivatives/fmriprep/sub-NB/anat/sub-NB_T1w_pial.R.surf.gii'>,\n",
       " '/Users/smerdis/data/LGN/BIDS/NB_combined/derivatives/fmriprep/sub-NB/anat/sub-NB_T1w_midthickness.R.surf.gii': <BIDSFile filename='/Users/smerdis/data/LGN/BIDS/NB_combined/derivatives/fmriprep/sub-NB/anat/sub-NB_T1w_midthickness.R.surf.gii'>,\n",
       " '/Users/smerdis/data/LGN/BIDS/NB_combined/derivatives/fmriprep/sub-NB/anat/sub-NB_T1w_inflated.L.surf.gii': <BIDSFile filename='/Users/smerdis/data/LGN/BIDS/NB_combined/derivatives/fmriprep/sub-NB/anat/sub-NB_T1w_inflated.L.surf.gii'>,\n",
       " '/Users/smerdis/data/LGN/BIDS/NB_combined/derivatives/fmriprep/sub-NB/anat/sub-NB_T1w_smoothwm.R.surf.gii': <BIDSFile filename='/Users/smerdis/data/LGN/BIDS/NB_combined/derivatives/fmriprep/sub-NB/anat/sub-NB_T1w_smoothwm.R.surf.gii'>,\n",
       " '/Users/smerdis/data/LGN/BIDS/NB_combined/derivatives/fmriprep/sub-NB/anat/sub-NB_T1w_preproc.nii.gz': <BIDSImageFile filename='/Users/smerdis/data/LGN/BIDS/NB_combined/derivatives/fmriprep/sub-NB/anat/sub-NB_T1w_preproc.nii.gz'>,\n",
       " '/Users/smerdis/data/LGN/BIDS/NB_combined/derivatives/fmriprep/sub-NB/anat/sub-NB_T1w_smoothwm.L.surf.gii': <BIDSFile filename='/Users/smerdis/data/LGN/BIDS/NB_combined/derivatives/fmriprep/sub-NB/anat/sub-NB_T1w_smoothwm.L.surf.gii'>,\n",
       " '/Users/smerdis/data/LGN/BIDS/NB_combined/derivatives/fmriprep/sub-NB/anat/sub-NB_T1w_inflated.R.surf.gii': <BIDSFile filename='/Users/smerdis/data/LGN/BIDS/NB_combined/derivatives/fmriprep/sub-NB/anat/sub-NB_T1w_inflated.R.surf.gii'>,\n",
       " '/Users/smerdis/data/LGN/BIDS/NB_combined/derivatives/fmriprep/sub-NB/figures/sub-NB_T1w_seg_brainmask.svg': <BIDSFile filename='/Users/smerdis/data/LGN/BIDS/NB_combined/derivatives/fmriprep/sub-NB/figures/sub-NB_T1w_seg_brainmask.svg'>,\n",
       " '/Users/smerdis/data/LGN/BIDS/NB_combined/derivatives/fmriprep/sub-NB/figures/sub-NB_ses-20180803_task-mp_run-09_bold_bbr.svg': <BIDSFile filename='/Users/smerdis/data/LGN/BIDS/NB_combined/derivatives/fmriprep/sub-NB/figures/sub-NB_ses-20180803_task-mp_run-09_bold_bbr.svg'>,\n",
       " '/Users/smerdis/data/LGN/BIDS/NB_combined/derivatives/fmriprep/sub-NB/figures/sub-NB_ses-20190205_task-mp_acq-sbiso_run-01_bold_bbr.svg': <BIDSFile filename='/Users/smerdis/data/LGN/BIDS/NB_combined/derivatives/fmriprep/sub-NB/figures/sub-NB_ses-20190205_task-mp_acq-sbiso_run-01_bold_bbr.svg'>,\n",
       " '/Users/smerdis/data/LGN/BIDS/NB_combined/derivatives/fmriprep/sub-NB/figures/sub-NB_ses-20190205_task-mp_acq-sbiso_run-06_bold_bbr.svg': <BIDSFile filename='/Users/smerdis/data/LGN/BIDS/NB_combined/derivatives/fmriprep/sub-NB/figures/sub-NB_ses-20190205_task-mp_acq-sbiso_run-06_bold_bbr.svg'>,\n",
       " '/Users/smerdis/data/LGN/BIDS/NB_combined/derivatives/fmriprep/sub-NB/figures/sub-NB_ses-20190205_task-mp_acq-sbiso_run-04_bold_rois.svg': <BIDSFile filename='/Users/smerdis/data/LGN/BIDS/NB_combined/derivatives/fmriprep/sub-NB/figures/sub-NB_ses-20190205_task-mp_acq-sbiso_run-04_bold_rois.svg'>,\n",
       " '/Users/smerdis/data/LGN/BIDS/NB_combined/derivatives/fmriprep/sub-NB/figures/sub-NB_ses-20190205_task-mp_acq-sbiso_run-03_bold_rois.svg': <BIDSFile filename='/Users/smerdis/data/LGN/BIDS/NB_combined/derivatives/fmriprep/sub-NB/figures/sub-NB_ses-20190205_task-mp_acq-sbiso_run-03_bold_rois.svg'>,\n",
       " '/Users/smerdis/data/LGN/BIDS/NB_combined/derivatives/fmriprep/sub-NB/figures/sub-NB_ses-20180803_task-mp_run-08_bold_bbr.svg': <BIDSFile filename='/Users/smerdis/data/LGN/BIDS/NB_combined/derivatives/fmriprep/sub-NB/figures/sub-NB_ses-20180803_task-mp_run-08_bold_bbr.svg'>,\n",
       " '/Users/smerdis/data/LGN/BIDS/NB_combined/derivatives/fmriprep/sub-NB/figures/sub-NB_ses-20180803_task-mp_run-08_bold_rois.svg': <BIDSFile filename='/Users/smerdis/data/LGN/BIDS/NB_combined/derivatives/fmriprep/sub-NB/figures/sub-NB_ses-20180803_task-mp_run-08_bold_rois.svg'>,\n",
       " '/Users/smerdis/data/LGN/BIDS/NB_combined/derivatives/fmriprep/sub-NB/figures/sub-NB_ses-20190205_task-mp_acq-sbiso_run-10_bold_rois.svg': <BIDSFile filename='/Users/smerdis/data/LGN/BIDS/NB_combined/derivatives/fmriprep/sub-NB/figures/sub-NB_ses-20190205_task-mp_acq-sbiso_run-10_bold_rois.svg'>,\n",
       " '/Users/smerdis/data/LGN/BIDS/NB_combined/derivatives/fmriprep/sub-NB/figures/sub-NB_ses-20190205_task-mp_acq-sbiso_run-07_bold_rois.svg': <BIDSFile filename='/Users/smerdis/data/LGN/BIDS/NB_combined/derivatives/fmriprep/sub-NB/figures/sub-NB_ses-20190205_task-mp_acq-sbiso_run-07_bold_rois.svg'>,\n",
       " '/Users/smerdis/data/LGN/BIDS/NB_combined/derivatives/fmriprep/sub-NB/figures/sub-NB_ses-20190205_task-mp_acq-sbiso_run-07_bold_bbr.svg': <BIDSFile filename='/Users/smerdis/data/LGN/BIDS/NB_combined/derivatives/fmriprep/sub-NB/figures/sub-NB_ses-20190205_task-mp_acq-sbiso_run-07_bold_bbr.svg'>,\n",
       " '/Users/smerdis/data/LGN/BIDS/NB_combined/derivatives/fmriprep/sub-NB/figures/sub-NB_ses-20190205_task-hemi_acq-sb165nogap_bold_coreg.svg': <BIDSFile filename='/Users/smerdis/data/LGN/BIDS/NB_combined/derivatives/fmriprep/sub-NB/figures/sub-NB_ses-20190205_task-hemi_acq-sb165nogap_bold_coreg.svg'>,\n",
       " '/Users/smerdis/data/LGN/BIDS/NB_combined/derivatives/fmriprep/sub-NB/figures/sub-NB_ses-20190205_task-hemi_acq-sbiso_run-03_bold_rois.svg': <BIDSFile filename='/Users/smerdis/data/LGN/BIDS/NB_combined/derivatives/fmriprep/sub-NB/figures/sub-NB_ses-20190205_task-hemi_acq-sbiso_run-03_bold_rois.svg'>,\n",
       " '/Users/smerdis/data/LGN/BIDS/NB_combined/derivatives/fmriprep/sub-NB/figures/sub-NB_ses-20180803_task-mp_run-10_bold_bbr.svg': <BIDSFile filename='/Users/smerdis/data/LGN/BIDS/NB_combined/derivatives/fmriprep/sub-NB/figures/sub-NB_ses-20180803_task-mp_run-10_bold_bbr.svg'>,\n",
       " '/Users/smerdis/data/LGN/BIDS/NB_combined/derivatives/fmriprep/sub-NB/figures/sub-NB_ses-20180803_task-mp_run-06_bold_rois.svg': <BIDSFile filename='/Users/smerdis/data/LGN/BIDS/NB_combined/derivatives/fmriprep/sub-NB/figures/sub-NB_ses-20180803_task-mp_run-06_bold_rois.svg'>,\n",
       " '/Users/smerdis/data/LGN/BIDS/NB_combined/derivatives/fmriprep/sub-NB/figures/sub-NB_ses-20180803_task-mp_run-05_bold_bbr.svg': <BIDSFile filename='/Users/smerdis/data/LGN/BIDS/NB_combined/derivatives/fmriprep/sub-NB/figures/sub-NB_ses-20180803_task-mp_run-05_bold_bbr.svg'>,\n",
       " '/Users/smerdis/data/LGN/BIDS/NB_combined/derivatives/fmriprep/sub-NB/figures/sub-NB_ses-20180803_task-mp_run-02_bold_rois.svg': <BIDSFile filename='/Users/smerdis/data/LGN/BIDS/NB_combined/derivatives/fmriprep/sub-NB/figures/sub-NB_ses-20180803_task-mp_run-02_bold_rois.svg'>,\n",
       " '/Users/smerdis/data/LGN/BIDS/NB_combined/derivatives/fmriprep/sub-NB/figures/sub-NB_ses-20180803_task-mp_run-02_bold_bbr.svg': <BIDSFile filename='/Users/smerdis/data/LGN/BIDS/NB_combined/derivatives/fmriprep/sub-NB/figures/sub-NB_ses-20180803_task-mp_run-02_bold_bbr.svg'>,\n",
       " '/Users/smerdis/data/LGN/BIDS/NB_combined/derivatives/fmriprep/sub-NB/figures/sub-NB_ses-20190205_task-mp_acq-sbiso_run-09_bold_rois.svg': <BIDSFile filename='/Users/smerdis/data/LGN/BIDS/NB_combined/derivatives/fmriprep/sub-NB/figures/sub-NB_ses-20190205_task-mp_acq-sbiso_run-09_bold_rois.svg'>,\n",
       " '/Users/smerdis/data/LGN/BIDS/NB_combined/derivatives/fmriprep/sub-NB/figures/sub-NB_ses-20180803_task-mp_run-05_bold_rois.svg': <BIDSFile filename='/Users/smerdis/data/LGN/BIDS/NB_combined/derivatives/fmriprep/sub-NB/figures/sub-NB_ses-20180803_task-mp_run-05_bold_rois.svg'>,\n",
       " '/Users/smerdis/data/LGN/BIDS/NB_combined/derivatives/fmriprep/sub-NB/figures/sub-NB_ses-20190205_task-hemi_acq-sbiso_run-04_bold_rois.svg': <BIDSFile filename='/Users/smerdis/data/LGN/BIDS/NB_combined/derivatives/fmriprep/sub-NB/figures/sub-NB_ses-20190205_task-hemi_acq-sbiso_run-04_bold_rois.svg'>,\n",
       " '/Users/smerdis/data/LGN/BIDS/NB_combined/derivatives/fmriprep/sub-NB/figures/sub-NB_ses-20180803_task-mp_run-01_bold_rois.svg': <BIDSFile filename='/Users/smerdis/data/LGN/BIDS/NB_combined/derivatives/fmriprep/sub-NB/figures/sub-NB_ses-20180803_task-mp_run-01_bold_rois.svg'>,\n",
       " '/Users/smerdis/data/LGN/BIDS/NB_combined/derivatives/fmriprep/sub-NB/figures/sub-NB_ses-20180803_task-mp_run-03_bold_bbr.svg': <BIDSFile filename='/Users/smerdis/data/LGN/BIDS/NB_combined/derivatives/fmriprep/sub-NB/figures/sub-NB_ses-20180803_task-mp_run-03_bold_bbr.svg'>,\n",
       " '/Users/smerdis/data/LGN/BIDS/NB_combined/derivatives/fmriprep/sub-NB/figures/sub-NB_ses-20190205_task-mp_acq-mb5gap_run-03_bold_bbr.svg': <BIDSFile filename='/Users/smerdis/data/LGN/BIDS/NB_combined/derivatives/fmriprep/sub-NB/figures/sub-NB_ses-20190205_task-mp_acq-mb5gap_run-03_bold_bbr.svg'>,\n",
       " '/Users/smerdis/data/LGN/BIDS/NB_combined/derivatives/fmriprep/sub-NB/figures/sub-NB_ses-20180803_task-mp_run-04_bold_bbr.svg': <BIDSFile filename='/Users/smerdis/data/LGN/BIDS/NB_combined/derivatives/fmriprep/sub-NB/figures/sub-NB_ses-20180803_task-mp_run-04_bold_bbr.svg'>,\n",
       " '/Users/smerdis/data/LGN/BIDS/NB_combined/derivatives/fmriprep/sub-NB/figures/sub-NB_ses-20190205_task-mp_acq-mb5gap_run-04_bold_bbr.svg': <BIDSFile filename='/Users/smerdis/data/LGN/BIDS/NB_combined/derivatives/fmriprep/sub-NB/figures/sub-NB_ses-20190205_task-mp_acq-mb5gap_run-04_bold_bbr.svg'>,\n",
       " '/Users/smerdis/data/LGN/BIDS/NB_combined/derivatives/fmriprep/sub-NB/figures/sub-NB_ses-20190205_task-hemi_acq-sbiso_run-01_bold_bbr.svg': <BIDSFile filename='/Users/smerdis/data/LGN/BIDS/NB_combined/derivatives/fmriprep/sub-NB/figures/sub-NB_ses-20190205_task-hemi_acq-sbiso_run-01_bold_bbr.svg'>,\n",
       " '/Users/smerdis/data/LGN/BIDS/NB_combined/derivatives/fmriprep/sub-NB/figures/sub-NB_ses-20190205_task-mp_acq-mb5gap_run-03_bold_rois.svg': <BIDSFile filename='/Users/smerdis/data/LGN/BIDS/NB_combined/derivatives/fmriprep/sub-NB/figures/sub-NB_ses-20190205_task-mp_acq-mb5gap_run-03_bold_rois.svg'>,\n",
       " '/Users/smerdis/data/LGN/BIDS/NB_combined/derivatives/fmriprep/sub-NB/figures/sub-NB_T1w_reconall.svg': <BIDSFile filename='/Users/smerdis/data/LGN/BIDS/NB_combined/derivatives/fmriprep/sub-NB/figures/sub-NB_T1w_reconall.svg'>,\n",
       " '/Users/smerdis/data/LGN/BIDS/NB_combined/derivatives/fmriprep/sub-NB/figures/sub-NB_ses-20190205_task-mp_acq-sbiso_run-09_bold_bbr.svg': <BIDSFile filename='/Users/smerdis/data/LGN/BIDS/NB_combined/derivatives/fmriprep/sub-NB/figures/sub-NB_ses-20190205_task-mp_acq-sbiso_run-09_bold_bbr.svg'>,\n",
       " '/Users/smerdis/data/LGN/BIDS/NB_combined/derivatives/fmriprep/sub-NB/figures/sub-NB_ses-20190205_task-hemi_acq-sbiso_run-01_bold_rois.svg': <BIDSFile filename='/Users/smerdis/data/LGN/BIDS/NB_combined/derivatives/fmriprep/sub-NB/figures/sub-NB_ses-20190205_task-hemi_acq-sbiso_run-01_bold_rois.svg'>,\n",
       " '/Users/smerdis/data/LGN/BIDS/NB_combined/derivatives/fmriprep/sub-NB/figures/sub-NB_ses-20180803_task-mp_run-04_bold_rois.svg': <BIDSFile filename='/Users/smerdis/data/LGN/BIDS/NB_combined/derivatives/fmriprep/sub-NB/figures/sub-NB_ses-20180803_task-mp_run-04_bold_rois.svg'>,\n",
       " '/Users/smerdis/data/LGN/BIDS/NB_combined/derivatives/fmriprep/sub-NB/figures/sub-NB_ses-20180803_task-mp_run-06_bold_bbr.svg': <BIDSFile filename='/Users/smerdis/data/LGN/BIDS/NB_combined/derivatives/fmriprep/sub-NB/figures/sub-NB_ses-20180803_task-mp_run-06_bold_bbr.svg'>,\n",
       " '/Users/smerdis/data/LGN/BIDS/NB_combined/derivatives/fmriprep/sub-NB/figures/sub-NB_ses-20180803_task-mp_run-01_bold_bbr.svg': <BIDSFile filename='/Users/smerdis/data/LGN/BIDS/NB_combined/derivatives/fmriprep/sub-NB/figures/sub-NB_ses-20180803_task-mp_run-01_bold_bbr.svg'>,\n",
       " '/Users/smerdis/data/LGN/BIDS/NB_combined/derivatives/fmriprep/sub-NB/figures/sub-NB_ses-20190205_task-hemi_acq-sbiso_run-04_bold_bbr.svg': <BIDSFile filename='/Users/smerdis/data/LGN/BIDS/NB_combined/derivatives/fmriprep/sub-NB/figures/sub-NB_ses-20190205_task-hemi_acq-sbiso_run-04_bold_bbr.svg'>,\n",
       " '/Users/smerdis/data/LGN/BIDS/NB_combined/derivatives/fmriprep/sub-NB/figures/sub-NB_ses-20190205_task-hemi_acq-sbiso_run-03_bold_bbr.svg': <BIDSFile filename='/Users/smerdis/data/LGN/BIDS/NB_combined/derivatives/fmriprep/sub-NB/figures/sub-NB_ses-20190205_task-hemi_acq-sbiso_run-03_bold_bbr.svg'>,\n",
       " '/Users/smerdis/data/LGN/BIDS/NB_combined/derivatives/fmriprep/sub-NB/figures/sub-NB_ses-20190205_task-mp_acq-sbiso_run-08_bold_bbr.svg': <BIDSFile filename='/Users/smerdis/data/LGN/BIDS/NB_combined/derivatives/fmriprep/sub-NB/figures/sub-NB_ses-20190205_task-mp_acq-sbiso_run-08_bold_bbr.svg'>,\n",
       " '/Users/smerdis/data/LGN/BIDS/NB_combined/derivatives/fmriprep/sub-NB/figures/sub-NB_ses-20190205_task-hemi_acq-sb165nogap_bold_rois.svg': <BIDSFile filename='/Users/smerdis/data/LGN/BIDS/NB_combined/derivatives/fmriprep/sub-NB/figures/sub-NB_ses-20190205_task-hemi_acq-sb165nogap_bold_rois.svg'>,\n",
       " '/Users/smerdis/data/LGN/BIDS/NB_combined/derivatives/fmriprep/sub-NB/figures/sub-NB_ses-20190205_task-mp_acq-mb5iso_run-03_bold_bbr.svg': <BIDSFile filename='/Users/smerdis/data/LGN/BIDS/NB_combined/derivatives/fmriprep/sub-NB/figures/sub-NB_ses-20190205_task-mp_acq-mb5iso_run-03_bold_bbr.svg'>,\n",
       " '/Users/smerdis/data/LGN/BIDS/NB_combined/derivatives/fmriprep/sub-NB/figures/sub-NB_ses-20190205_task-mp_acq-mb5iso_run-04_bold_bbr.svg': <BIDSFile filename='/Users/smerdis/data/LGN/BIDS/NB_combined/derivatives/fmriprep/sub-NB/figures/sub-NB_ses-20190205_task-mp_acq-mb5iso_run-04_bold_bbr.svg'>,\n",
       " '/Users/smerdis/data/LGN/BIDS/NB_combined/derivatives/fmriprep/sub-NB/figures/sub-NB_ses-20190205_task-hemi_acq-sbiso_run-02_bold_bbr.svg': <BIDSFile filename='/Users/smerdis/data/LGN/BIDS/NB_combined/derivatives/fmriprep/sub-NB/figures/sub-NB_ses-20190205_task-hemi_acq-sbiso_run-02_bold_bbr.svg'>,\n",
       " '/Users/smerdis/data/LGN/BIDS/NB_combined/derivatives/fmriprep/sub-NB/figures/sub-NB_ses-20190205_task-mp_acq-sbiso_run-08_bold_rois.svg': <BIDSFile filename='/Users/smerdis/data/LGN/BIDS/NB_combined/derivatives/fmriprep/sub-NB/figures/sub-NB_ses-20190205_task-mp_acq-sbiso_run-08_bold_rois.svg'>,\n",
       " '/Users/smerdis/data/LGN/BIDS/NB_combined/derivatives/fmriprep/sub-NB/figures/sub-NB_ses-20180803_task-mp_run-03_bold_rois.svg': <BIDSFile filename='/Users/smerdis/data/LGN/BIDS/NB_combined/derivatives/fmriprep/sub-NB/figures/sub-NB_ses-20180803_task-mp_run-03_bold_rois.svg'>,\n",
       " '/Users/smerdis/data/LGN/BIDS/NB_combined/derivatives/fmriprep/sub-NB/figures/sub-NB_ses-20190205_task-mp_acq-mb5gap_run-04_bold_rois.svg': <BIDSFile filename='/Users/smerdis/data/LGN/BIDS/NB_combined/derivatives/fmriprep/sub-NB/figures/sub-NB_ses-20190205_task-mp_acq-mb5gap_run-04_bold_rois.svg'>,\n",
       " '/Users/smerdis/data/LGN/BIDS/NB_combined/derivatives/fmriprep/sub-NB/figures/sub-NB_ses-20180803_task-mp_run-07_bold_rois.svg': <BIDSFile filename='/Users/smerdis/data/LGN/BIDS/NB_combined/derivatives/fmriprep/sub-NB/figures/sub-NB_ses-20180803_task-mp_run-07_bold_rois.svg'>,\n",
       " '/Users/smerdis/data/LGN/BIDS/NB_combined/derivatives/fmriprep/sub-NB/figures/sub-NB_ses-20180803_task-mp_run-07_bold_bbr.svg': <BIDSFile filename='/Users/smerdis/data/LGN/BIDS/NB_combined/derivatives/fmriprep/sub-NB/figures/sub-NB_ses-20180803_task-mp_run-07_bold_bbr.svg'>,\n",
       " '/Users/smerdis/data/LGN/BIDS/NB_combined/derivatives/fmriprep/sub-NB/figures/sub-NB_ses-20190205_task-hemi_acq-sbiso_run-02_bold_rois.svg': <BIDSFile filename='/Users/smerdis/data/LGN/BIDS/NB_combined/derivatives/fmriprep/sub-NB/figures/sub-NB_ses-20190205_task-hemi_acq-sbiso_run-02_bold_rois.svg'>,\n",
       " '/Users/smerdis/data/LGN/BIDS/NB_combined/derivatives/fmriprep/sub-NB/figures/sub-NB_ses-20180803_task-mp_run-10_bold_rois.svg': <BIDSFile filename='/Users/smerdis/data/LGN/BIDS/NB_combined/derivatives/fmriprep/sub-NB/figures/sub-NB_ses-20180803_task-mp_run-10_bold_rois.svg'>,\n",
       " '/Users/smerdis/data/LGN/BIDS/NB_combined/derivatives/fmriprep/sub-NB/figures/sub-NB_ses-20190205_task-mp_acq-sbiso_run-06_bold_rois.svg': <BIDSFile filename='/Users/smerdis/data/LGN/BIDS/NB_combined/derivatives/fmriprep/sub-NB/figures/sub-NB_ses-20190205_task-mp_acq-sbiso_run-06_bold_rois.svg'>,\n",
       " '/Users/smerdis/data/LGN/BIDS/NB_combined/derivatives/fmriprep/sub-NB/figures/sub-NB_ses-20180803_task-mp_run-09_bold_rois.svg': <BIDSFile filename='/Users/smerdis/data/LGN/BIDS/NB_combined/derivatives/fmriprep/sub-NB/figures/sub-NB_ses-20180803_task-mp_run-09_bold_rois.svg'>,\n",
       " '/Users/smerdis/data/LGN/BIDS/NB_combined/derivatives/fmriprep/sub-NB/figures/sub-NB_ses-20190205_task-mp_acq-sbiso_run-02_bold_rois.svg': <BIDSFile filename='/Users/smerdis/data/LGN/BIDS/NB_combined/derivatives/fmriprep/sub-NB/figures/sub-NB_ses-20190205_task-mp_acq-sbiso_run-02_bold_rois.svg'>,\n",
       " '/Users/smerdis/data/LGN/BIDS/NB_combined/derivatives/fmriprep/sub-NB/figures/sub-NB_ses-20190205_task-mp_acq-sbiso_run-10_bold_bbr.svg': <BIDSFile filename='/Users/smerdis/data/LGN/BIDS/NB_combined/derivatives/fmriprep/sub-NB/figures/sub-NB_ses-20190205_task-mp_acq-sbiso_run-10_bold_bbr.svg'>,\n",
       " '/Users/smerdis/data/LGN/BIDS/NB_combined/derivatives/fmriprep/sub-NB/figures/sub-NB_ses-20190205_task-mp_acq-sb165nogap_bold_rois.svg': <BIDSFile filename='/Users/smerdis/data/LGN/BIDS/NB_combined/derivatives/fmriprep/sub-NB/figures/sub-NB_ses-20190205_task-mp_acq-sb165nogap_bold_rois.svg'>,\n",
       " '/Users/smerdis/data/LGN/BIDS/NB_combined/derivatives/fmriprep/sub-NB/figures/sub-NB_ses-20190205_task-mp_acq-sbiso_run-02_bold_bbr.svg': <BIDSFile filename='/Users/smerdis/data/LGN/BIDS/NB_combined/derivatives/fmriprep/sub-NB/figures/sub-NB_ses-20190205_task-mp_acq-sbiso_run-02_bold_bbr.svg'>,\n",
       " '/Users/smerdis/data/LGN/BIDS/NB_combined/derivatives/fmriprep/sub-NB/figures/sub-NB_ses-20190205_task-mp_acq-sbiso_run-05_bold_bbr.svg': <BIDSFile filename='/Users/smerdis/data/LGN/BIDS/NB_combined/derivatives/fmriprep/sub-NB/figures/sub-NB_ses-20190205_task-mp_acq-sbiso_run-05_bold_bbr.svg'>,\n",
       " '/Users/smerdis/data/LGN/BIDS/NB_combined/derivatives/fmriprep/sub-NB/figures/sub-NB_ses-20190205_task-mp_acq-sbiso_run-04_bold_bbr.svg': <BIDSFile filename='/Users/smerdis/data/LGN/BIDS/NB_combined/derivatives/fmriprep/sub-NB/figures/sub-NB_ses-20190205_task-mp_acq-sbiso_run-04_bold_bbr.svg'>,\n",
       " '/Users/smerdis/data/LGN/BIDS/NB_combined/derivatives/fmriprep/sub-NB/figures/sub-NB_ses-20190205_task-mp_acq-sbiso_run-03_bold_bbr.svg': <BIDSFile filename='/Users/smerdis/data/LGN/BIDS/NB_combined/derivatives/fmriprep/sub-NB/figures/sub-NB_ses-20190205_task-mp_acq-sbiso_run-03_bold_bbr.svg'>,\n",
       " '/Users/smerdis/data/LGN/BIDS/NB_combined/derivatives/fmriprep/sub-NB/figures/sub-NB_ses-20190205_task-mp_acq-sbiso_run-05_bold_rois.svg': <BIDSFile filename='/Users/smerdis/data/LGN/BIDS/NB_combined/derivatives/fmriprep/sub-NB/figures/sub-NB_ses-20190205_task-mp_acq-sbiso_run-05_bold_rois.svg'>,\n",
       " '/Users/smerdis/data/LGN/BIDS/NB_combined/derivatives/fmriprep/sub-NB/figures/sub-NB_ses-20190205_task-mp_acq-sbiso_run-01_bold_rois.svg': <BIDSFile filename='/Users/smerdis/data/LGN/BIDS/NB_combined/derivatives/fmriprep/sub-NB/figures/sub-NB_ses-20190205_task-mp_acq-sbiso_run-01_bold_rois.svg'>,\n",
       " '/Users/smerdis/data/LGN/BIDS/NB_combined/derivatives/fmriprep/sub-NB/figures/sub-NB_ses-20190205_task-mp_acq-sb165nogap_bold_bbr.svg': <BIDSFile filename='/Users/smerdis/data/LGN/BIDS/NB_combined/derivatives/fmriprep/sub-NB/figures/sub-NB_ses-20190205_task-mp_acq-sb165nogap_bold_bbr.svg'>,\n",
       " '/Users/smerdis/data/LGN/BIDS/NB_combined/derivatives/fmriprep/sub-NB/log/20190310-174737_0f4c93f3-0d59-4f44-a4ed-59b628ea3595/crash-20190310-175333-arjunm-gen_ref-be9e9b40-b1c3-430a-8921-e897a9bc514d.txt': <BIDSFile filename='/Users/smerdis/data/LGN/BIDS/NB_combined/derivatives/fmriprep/sub-NB/log/20190310-174737_0f4c93f3-0d59-4f44-a4ed-59b628ea3595/crash-20190310-175333-arjunm-gen_ref-be9e9b40-b1c3-430a-8921-e897a9bc514d.txt'>,\n",
       " '/Users/smerdis/data/LGN/BIDS/NB_combined/derivatives/fmriprep/sub-NB/log/20190310-174737_0f4c93f3-0d59-4f44-a4ed-59b628ea3595/crash-20190310-175341-arjunm-slice_timing_correction-0fbae39c-a6b6-4655-bc47-c8f6aef2706c.txt': <BIDSFile filename='/Users/smerdis/data/LGN/BIDS/NB_combined/derivatives/fmriprep/sub-NB/log/20190310-174737_0f4c93f3-0d59-4f44-a4ed-59b628ea3595/crash-20190310-175341-arjunm-slice_timing_correction-0fbae39c-a6b6-4655-bc47-c8f6aef2706c.txt'>,\n",
       " '/Users/smerdis/data/LGN/BIDS/NB_combined/derivatives/fmriprep/sub-NB/log/20190310-174737_0f4c93f3-0d59-4f44-a4ed-59b628ea3595/crash-20190310-175117-arjunm-gen_ref-466e0093-47ea-470d-a8d9-de7b649a14ce.txt': <BIDSFile filename='/Users/smerdis/data/LGN/BIDS/NB_combined/derivatives/fmriprep/sub-NB/log/20190310-174737_0f4c93f3-0d59-4f44-a4ed-59b628ea3595/crash-20190310-175117-arjunm-gen_ref-466e0093-47ea-470d-a8d9-de7b649a14ce.txt'>,\n",
       " '/Users/smerdis/data/LGN/BIDS/NB_combined/derivatives/fmriprep/sub-NB/log/20190310-174737_0f4c93f3-0d59-4f44-a4ed-59b628ea3595/crash-20190310-175337-arjunm-gen_ref-ab2c70c1-2a3d-4563-ac14-cb634d396d71.txt': <BIDSFile filename='/Users/smerdis/data/LGN/BIDS/NB_combined/derivatives/fmriprep/sub-NB/log/20190310-174737_0f4c93f3-0d59-4f44-a4ed-59b628ea3595/crash-20190310-175337-arjunm-gen_ref-ab2c70c1-2a3d-4563-ac14-cb634d396d71.txt'>,\n",
       " '/Users/smerdis/data/LGN/BIDS/NB_combined/derivatives/fmriprep/sub-NB/log/20190310-174737_0f4c93f3-0d59-4f44-a4ed-59b628ea3595/crash-20190310-175117-arjunm-gen_ref-e7fbe8ae-cbfb-4f67-b4f9-348260f86eeb.txt': <BIDSFile filename='/Users/smerdis/data/LGN/BIDS/NB_combined/derivatives/fmriprep/sub-NB/log/20190310-174737_0f4c93f3-0d59-4f44-a4ed-59b628ea3595/crash-20190310-175117-arjunm-gen_ref-e7fbe8ae-cbfb-4f67-b4f9-348260f86eeb.txt'>,\n",
       " '/Users/smerdis/data/LGN/BIDS/NB_combined/derivatives/fmriprep/sub-NB/log/20190310-174737_0f4c93f3-0d59-4f44-a4ed-59b628ea3595/crash-20190310-175357-arjunm-slice_timing_correction-c7245678-ff74-448e-9d63-9fc8f930a981.txt': <BIDSFile filename='/Users/smerdis/data/LGN/BIDS/NB_combined/derivatives/fmriprep/sub-NB/log/20190310-174737_0f4c93f3-0d59-4f44-a4ed-59b628ea3595/crash-20190310-175357-arjunm-slice_timing_correction-c7245678-ff74-448e-9d63-9fc8f930a981.txt'>,\n",
       " '/Users/smerdis/data/LGN/BIDS/NB_combined/derivatives/fmriprep/sub-NB/ses-20180803/.DS_Store': <BIDSFile filename='/Users/smerdis/data/LGN/BIDS/NB_combined/derivatives/fmriprep/sub-NB/ses-20180803/.DS_Store'>,\n",
       " '/Users/smerdis/data/LGN/BIDS/NB_combined/derivatives/fmriprep/sub-NB/ses-20180803/anat/sub-NB_ses-20180803_T1w_space-orig_target-T1w_affine.txt': <BIDSFile filename='/Users/smerdis/data/LGN/BIDS/NB_combined/derivatives/fmriprep/sub-NB/ses-20180803/anat/sub-NB_ses-20180803_T1w_space-orig_target-T1w_affine.txt'>,\n",
       " '/Users/smerdis/data/LGN/BIDS/NB_combined/derivatives/fmriprep/sub-NB/ses-20180803/func/sub-NB_ses-20180803_task-mp_run-08_bold_space-T1w_preproc.nii.gz': <BIDSImageFile filename='/Users/smerdis/data/LGN/BIDS/NB_combined/derivatives/fmriprep/sub-NB/ses-20180803/func/sub-NB_ses-20180803_task-mp_run-08_bold_space-T1w_preproc.nii.gz'>,\n",
       " '/Users/smerdis/data/LGN/BIDS/NB_combined/derivatives/fmriprep/sub-NB/ses-20180803/func/sub-NB_ses-20180803_task-mp_run-02_bold_confounds.tsv': <BIDSDataFile filename='/Users/smerdis/data/LGN/BIDS/NB_combined/derivatives/fmriprep/sub-NB/ses-20180803/func/sub-NB_ses-20180803_task-mp_run-02_bold_confounds.tsv'>,\n",
       " '/Users/smerdis/data/LGN/BIDS/NB_combined/derivatives/fmriprep/sub-NB/ses-20180803/func/sub-NB_ses-20180803_task-mp_run-02_bold_space-T1w_label-aparcaseg_roi.nii.gz': <BIDSImageFile filename='/Users/smerdis/data/LGN/BIDS/NB_combined/derivatives/fmriprep/sub-NB/ses-20180803/func/sub-NB_ses-20180803_task-mp_run-02_bold_space-T1w_label-aparcaseg_roi.nii.gz'>,\n",
       " '/Users/smerdis/data/LGN/BIDS/NB_combined/derivatives/fmriprep/sub-NB/ses-20180803/func/sub-NB_ses-20180803_task-mp_run-08_bold_space-T1w_label-aseg_roi.nii.gz': <BIDSImageFile filename='/Users/smerdis/data/LGN/BIDS/NB_combined/derivatives/fmriprep/sub-NB/ses-20180803/func/sub-NB_ses-20180803_task-mp_run-08_bold_space-T1w_label-aseg_roi.nii.gz'>,\n",
       " '/Users/smerdis/data/LGN/BIDS/NB_combined/derivatives/fmriprep/sub-NB/ses-20180803/func/sub-NB_ses-20180803_task-mp_run-07_bold_space-T1w_preproc.nii.gz': <BIDSImageFile filename='/Users/smerdis/data/LGN/BIDS/NB_combined/derivatives/fmriprep/sub-NB/ses-20180803/func/sub-NB_ses-20180803_task-mp_run-07_bold_space-T1w_preproc.nii.gz'>,\n",
       " '/Users/smerdis/data/LGN/BIDS/NB_combined/derivatives/fmriprep/sub-NB/ses-20180803/func/sub-NB_ses-20180803_task-mp_run-03_bold_space-T1w_label-aparcaseg_roi.nii.gz': <BIDSImageFile filename='/Users/smerdis/data/LGN/BIDS/NB_combined/derivatives/fmriprep/sub-NB/ses-20180803/func/sub-NB_ses-20180803_task-mp_run-03_bold_space-T1w_label-aparcaseg_roi.nii.gz'>,\n",
       " '/Users/smerdis/data/LGN/BIDS/NB_combined/derivatives/fmriprep/sub-NB/ses-20180803/func/sub-NB_ses-20180803_task-mp_run-03_bold_space-T1w_brainmask.nii.gz': <BIDSImageFile filename='/Users/smerdis/data/LGN/BIDS/NB_combined/derivatives/fmriprep/sub-NB/ses-20180803/func/sub-NB_ses-20180803_task-mp_run-03_bold_space-T1w_brainmask.nii.gz'>,\n",
       " '/Users/smerdis/data/LGN/BIDS/NB_combined/derivatives/fmriprep/sub-NB/ses-20180803/func/sub-NB_ses-20180803_task-mp_run-05_bold_space-T1w_label-aparcaseg_roi.nii.gz': <BIDSImageFile filename='/Users/smerdis/data/LGN/BIDS/NB_combined/derivatives/fmriprep/sub-NB/ses-20180803/func/sub-NB_ses-20180803_task-mp_run-05_bold_space-T1w_label-aparcaseg_roi.nii.gz'>,\n",
       " '/Users/smerdis/data/LGN/BIDS/NB_combined/derivatives/fmriprep/sub-NB/ses-20180803/func/sub-NB_ses-20180803_task-mp_run-04_bold_space-T1w_label-aparcaseg_roi.nii.gz': <BIDSImageFile filename='/Users/smerdis/data/LGN/BIDS/NB_combined/derivatives/fmriprep/sub-NB/ses-20180803/func/sub-NB_ses-20180803_task-mp_run-04_bold_space-T1w_label-aparcaseg_roi.nii.gz'>,\n",
       " '/Users/smerdis/data/LGN/BIDS/NB_combined/derivatives/fmriprep/sub-NB/ses-20180803/func/sub-NB_ses-20180803_task-mp_run-06_bold_space-T1w_brainmask.nii.gz': <BIDSImageFile filename='/Users/smerdis/data/LGN/BIDS/NB_combined/derivatives/fmriprep/sub-NB/ses-20180803/func/sub-NB_ses-20180803_task-mp_run-06_bold_space-T1w_brainmask.nii.gz'>,\n",
       " '/Users/smerdis/data/LGN/BIDS/NB_combined/derivatives/fmriprep/sub-NB/ses-20180803/func/sub-NB_ses-20180803_task-mp_run-01_bold_confounds.tsv': <BIDSDataFile filename='/Users/smerdis/data/LGN/BIDS/NB_combined/derivatives/fmriprep/sub-NB/ses-20180803/func/sub-NB_ses-20180803_task-mp_run-01_bold_confounds.tsv'>,\n",
       " '/Users/smerdis/data/LGN/BIDS/NB_combined/derivatives/fmriprep/sub-NB/ses-20180803/func/sub-NB_ses-20180803_task-mp_run-09_bold_space-T1w_label-aseg_roi.nii.gz': <BIDSImageFile filename='/Users/smerdis/data/LGN/BIDS/NB_combined/derivatives/fmriprep/sub-NB/ses-20180803/func/sub-NB_ses-20180803_task-mp_run-09_bold_space-T1w_label-aseg_roi.nii.gz'>,\n",
       " '/Users/smerdis/data/LGN/BIDS/NB_combined/derivatives/fmriprep/sub-NB/ses-20180803/func/sub-NB_ses-20180803_task-mp_run-06_bold_space-T1w_preproc.nii.gz': <BIDSImageFile filename='/Users/smerdis/data/LGN/BIDS/NB_combined/derivatives/fmriprep/sub-NB/ses-20180803/func/sub-NB_ses-20180803_task-mp_run-06_bold_space-T1w_preproc.nii.gz'>,\n",
       " '/Users/smerdis/data/LGN/BIDS/NB_combined/derivatives/fmriprep/sub-NB/ses-20180803/func/sub-NB_ses-20180803_task-mp_run-03_bold_space-T1w_label-aseg_roi.nii.gz': <BIDSImageFile filename='/Users/smerdis/data/LGN/BIDS/NB_combined/derivatives/fmriprep/sub-NB/ses-20180803/func/sub-NB_ses-20180803_task-mp_run-03_bold_space-T1w_label-aseg_roi.nii.gz'>,\n",
       " '/Users/smerdis/data/LGN/BIDS/NB_combined/derivatives/fmriprep/sub-NB/ses-20180803/func/sub-NB_ses-20180803_task-mp_run-07_bold_confounds.tsv': <BIDSDataFile filename='/Users/smerdis/data/LGN/BIDS/NB_combined/derivatives/fmriprep/sub-NB/ses-20180803/func/sub-NB_ses-20180803_task-mp_run-07_bold_confounds.tsv'>,\n",
       " '/Users/smerdis/data/LGN/BIDS/NB_combined/derivatives/fmriprep/sub-NB/ses-20180803/func/sub-NB_ses-20180803_task-mp_run-04_bold_space-T1w_label-aseg_roi.nii.gz': <BIDSImageFile filename='/Users/smerdis/data/LGN/BIDS/NB_combined/derivatives/fmriprep/sub-NB/ses-20180803/func/sub-NB_ses-20180803_task-mp_run-04_bold_space-T1w_label-aseg_roi.nii.gz'>,\n",
       " '/Users/smerdis/data/LGN/BIDS/NB_combined/derivatives/fmriprep/sub-NB/ses-20180803/func/sub-NB_ses-20180803_task-mp_run-05_bold_space-T1w_brainmask.nii.gz': <BIDSImageFile filename='/Users/smerdis/data/LGN/BIDS/NB_combined/derivatives/fmriprep/sub-NB/ses-20180803/func/sub-NB_ses-20180803_task-mp_run-05_bold_space-T1w_brainmask.nii.gz'>,\n",
       " '/Users/smerdis/data/LGN/BIDS/NB_combined/derivatives/fmriprep/sub-NB/ses-20180803/func/sub-NB_ses-20180803_task-mp_run-09_bold_space-T1w_preproc.nii.gz': <BIDSImageFile filename='/Users/smerdis/data/LGN/BIDS/NB_combined/derivatives/fmriprep/sub-NB/ses-20180803/func/sub-NB_ses-20180803_task-mp_run-09_bold_space-T1w_preproc.nii.gz'>,\n",
       " '/Users/smerdis/data/LGN/BIDS/NB_combined/derivatives/fmriprep/sub-NB/ses-20180803/func/sub-NB_ses-20180803_task-mp_run-02_bold_space-T1w_label-aseg_roi.nii.gz': <BIDSImageFile filename='/Users/smerdis/data/LGN/BIDS/NB_combined/derivatives/fmriprep/sub-NB/ses-20180803/func/sub-NB_ses-20180803_task-mp_run-02_bold_space-T1w_label-aseg_roi.nii.gz'>,\n",
       " '/Users/smerdis/data/LGN/BIDS/NB_combined/derivatives/fmriprep/sub-NB/ses-20180803/func/sub-NB_ses-20180803_task-mp_run-05_bold_space-T1w_label-aseg_roi.nii.gz': <BIDSImageFile filename='/Users/smerdis/data/LGN/BIDS/NB_combined/derivatives/fmriprep/sub-NB/ses-20180803/func/sub-NB_ses-20180803_task-mp_run-05_bold_space-T1w_label-aseg_roi.nii.gz'>,\n",
       " '/Users/smerdis/data/LGN/BIDS/NB_combined/derivatives/fmriprep/sub-NB/ses-20180803/func/sub-NB_ses-20180803_task-mp_run-08_bold_space-T1w_brainmask.nii.gz': <BIDSImageFile filename='/Users/smerdis/data/LGN/BIDS/NB_combined/derivatives/fmriprep/sub-NB/ses-20180803/func/sub-NB_ses-20180803_task-mp_run-08_bold_space-T1w_brainmask.nii.gz'>,\n",
       " '/Users/smerdis/data/LGN/BIDS/NB_combined/derivatives/fmriprep/sub-NB/ses-20180803/func/sub-NB_ses-20180803_task-mp_run-01_bold_space-T1w_preproc.nii.gz': <BIDSImageFile filename='/Users/smerdis/data/LGN/BIDS/NB_combined/derivatives/fmriprep/sub-NB/ses-20180803/func/sub-NB_ses-20180803_task-mp_run-01_bold_space-T1w_preproc.nii.gz'>,\n",
       " '/Users/smerdis/data/LGN/BIDS/NB_combined/derivatives/fmriprep/sub-NB/ses-20180803/func/sub-NB_ses-20180803_task-mp_run-09_bold_confounds.tsv': <BIDSDataFile filename='/Users/smerdis/data/LGN/BIDS/NB_combined/derivatives/fmriprep/sub-NB/ses-20180803/func/sub-NB_ses-20180803_task-mp_run-09_bold_confounds.tsv'>,\n",
       " '/Users/smerdis/data/LGN/BIDS/NB_combined/derivatives/fmriprep/sub-NB/ses-20180803/func/sub-NB_ses-20180803_task-mp_run-04_bold_confounds.tsv': <BIDSDataFile filename='/Users/smerdis/data/LGN/BIDS/NB_combined/derivatives/fmriprep/sub-NB/ses-20180803/func/sub-NB_ses-20180803_task-mp_run-04_bold_confounds.tsv'>,\n",
       " '/Users/smerdis/data/LGN/BIDS/NB_combined/derivatives/fmriprep/sub-NB/ses-20180803/func/sub-NB_ses-20180803_task-mp_run-10_bold_space-T1w_preproc.nii.gz': <BIDSImageFile filename='/Users/smerdis/data/LGN/BIDS/NB_combined/derivatives/fmriprep/sub-NB/ses-20180803/func/sub-NB_ses-20180803_task-mp_run-10_bold_space-T1w_preproc.nii.gz'>,\n",
       " '/Users/smerdis/data/LGN/BIDS/NB_combined/derivatives/fmriprep/sub-NB/ses-20180803/func/sub-NB_ses-20180803_task-mp_run-07_bold_space-T1w_label-aseg_roi.nii.gz': <BIDSImageFile filename='/Users/smerdis/data/LGN/BIDS/NB_combined/derivatives/fmriprep/sub-NB/ses-20180803/func/sub-NB_ses-20180803_task-mp_run-07_bold_space-T1w_label-aseg_roi.nii.gz'>,\n",
       " '/Users/smerdis/data/LGN/BIDS/NB_combined/derivatives/fmriprep/sub-NB/ses-20180803/func/sub-NB_ses-20180803_task-mp_run-10_bold_space-T1w_label-aseg_roi.nii.gz': <BIDSImageFile filename='/Users/smerdis/data/LGN/BIDS/NB_combined/derivatives/fmriprep/sub-NB/ses-20180803/func/sub-NB_ses-20180803_task-mp_run-10_bold_space-T1w_label-aseg_roi.nii.gz'>,\n",
       " '/Users/smerdis/data/LGN/BIDS/NB_combined/derivatives/fmriprep/sub-NB/ses-20180803/func/sub-NB_ses-20180803_task-mp_run-04_bold_space-T1w_brainmask.nii.gz': <BIDSImageFile filename='/Users/smerdis/data/LGN/BIDS/NB_combined/derivatives/fmriprep/sub-NB/ses-20180803/func/sub-NB_ses-20180803_task-mp_run-04_bold_space-T1w_brainmask.nii.gz'>,\n",
       " '/Users/smerdis/data/LGN/BIDS/NB_combined/derivatives/fmriprep/sub-NB/ses-20180803/func/sub-NB_ses-20180803_task-mp_run-02_bold_space-T1w_preproc.nii.gz': <BIDSImageFile filename='/Users/smerdis/data/LGN/BIDS/NB_combined/derivatives/fmriprep/sub-NB/ses-20180803/func/sub-NB_ses-20180803_task-mp_run-02_bold_space-T1w_preproc.nii.gz'>,\n",
       " '/Users/smerdis/data/LGN/BIDS/NB_combined/derivatives/fmriprep/sub-NB/ses-20180803/func/sub-NB_ses-20180803_task-mp_run-01_bold_space-T1w_brainmask.nii.gz': <BIDSImageFile filename='/Users/smerdis/data/LGN/BIDS/NB_combined/derivatives/fmriprep/sub-NB/ses-20180803/func/sub-NB_ses-20180803_task-mp_run-01_bold_space-T1w_brainmask.nii.gz'>,\n",
       " '/Users/smerdis/data/LGN/BIDS/NB_combined/derivatives/fmriprep/sub-NB/ses-20180803/func/sub-NB_ses-20180803_task-mp_run-01_bold_space-T1w_label-aparcaseg_roi.nii.gz': <BIDSImageFile filename='/Users/smerdis/data/LGN/BIDS/NB_combined/derivatives/fmriprep/sub-NB/ses-20180803/func/sub-NB_ses-20180803_task-mp_run-01_bold_space-T1w_label-aparcaseg_roi.nii.gz'>,\n",
       " '/Users/smerdis/data/LGN/BIDS/NB_combined/derivatives/fmriprep/sub-NB/ses-20180803/func/sub-NB_ses-20180803_task-mp_run-08_bold_confounds.tsv': <BIDSDataFile filename='/Users/smerdis/data/LGN/BIDS/NB_combined/derivatives/fmriprep/sub-NB/ses-20180803/func/sub-NB_ses-20180803_task-mp_run-08_bold_confounds.tsv'>,\n",
       " '/Users/smerdis/data/LGN/BIDS/NB_combined/derivatives/fmriprep/sub-NB/ses-20180803/func/sub-NB_ses-20180803_task-mp_run-05_bold_confounds.tsv': <BIDSDataFile filename='/Users/smerdis/data/LGN/BIDS/NB_combined/derivatives/fmriprep/sub-NB/ses-20180803/func/sub-NB_ses-20180803_task-mp_run-05_bold_confounds.tsv'>,\n",
       " '/Users/smerdis/data/LGN/BIDS/NB_combined/derivatives/fmriprep/sub-NB/ses-20180803/func/sub-NB_ses-20180803_task-mp_run-06_bold_confounds.tsv': <BIDSDataFile filename='/Users/smerdis/data/LGN/BIDS/NB_combined/derivatives/fmriprep/sub-NB/ses-20180803/func/sub-NB_ses-20180803_task-mp_run-06_bold_confounds.tsv'>,\n",
       " '/Users/smerdis/data/LGN/BIDS/NB_combined/derivatives/fmriprep/sub-NB/ses-20180803/func/sub-NB_ses-20180803_task-mp_run-06_bold_space-T1w_label-aseg_roi.nii.gz': <BIDSImageFile filename='/Users/smerdis/data/LGN/BIDS/NB_combined/derivatives/fmriprep/sub-NB/ses-20180803/func/sub-NB_ses-20180803_task-mp_run-06_bold_space-T1w_label-aseg_roi.nii.gz'>,\n",
       " '/Users/smerdis/data/LGN/BIDS/NB_combined/derivatives/fmriprep/sub-NB/ses-20180803/func/sub-NB_ses-20180803_task-mp_run-05_bold_space-T1w_preproc.nii.gz': <BIDSImageFile filename='/Users/smerdis/data/LGN/BIDS/NB_combined/derivatives/fmriprep/sub-NB/ses-20180803/func/sub-NB_ses-20180803_task-mp_run-05_bold_space-T1w_preproc.nii.gz'>,\n",
       " '/Users/smerdis/data/LGN/BIDS/NB_combined/derivatives/fmriprep/sub-NB/ses-20180803/func/sub-NB_ses-20180803_task-mp_run-07_bold_space-T1w_label-aparcaseg_roi.nii.gz': <BIDSImageFile filename='/Users/smerdis/data/LGN/BIDS/NB_combined/derivatives/fmriprep/sub-NB/ses-20180803/func/sub-NB_ses-20180803_task-mp_run-07_bold_space-T1w_label-aparcaseg_roi.nii.gz'>,\n",
       " '/Users/smerdis/data/LGN/BIDS/NB_combined/derivatives/fmriprep/sub-NB/ses-20180803/func/sub-NB_ses-20180803_task-mp_run-01_bold_space-T1w_label-aseg_roi.nii.gz': <BIDSImageFile filename='/Users/smerdis/data/LGN/BIDS/NB_combined/derivatives/fmriprep/sub-NB/ses-20180803/func/sub-NB_ses-20180803_task-mp_run-01_bold_space-T1w_label-aseg_roi.nii.gz'>,\n",
       " '/Users/smerdis/data/LGN/BIDS/NB_combined/derivatives/fmriprep/sub-NB/ses-20180803/func/sub-NB_ses-20180803_task-mp_run-09_bold_space-T1w_brainmask.nii.gz': <BIDSImageFile filename='/Users/smerdis/data/LGN/BIDS/NB_combined/derivatives/fmriprep/sub-NB/ses-20180803/func/sub-NB_ses-20180803_task-mp_run-09_bold_space-T1w_brainmask.nii.gz'>,\n",
       " '/Users/smerdis/data/LGN/BIDS/NB_combined/derivatives/fmriprep/sub-NB/ses-20180803/func/sub-NB_ses-20180803_task-mp_run-06_bold_space-T1w_label-aparcaseg_roi.nii.gz': <BIDSImageFile filename='/Users/smerdis/data/LGN/BIDS/NB_combined/derivatives/fmriprep/sub-NB/ses-20180803/func/sub-NB_ses-20180803_task-mp_run-06_bold_space-T1w_label-aparcaseg_roi.nii.gz'>,\n",
       " '/Users/smerdis/data/LGN/BIDS/NB_combined/derivatives/fmriprep/sub-NB/ses-20180803/func/sub-NB_ses-20180803_task-mp_run-10_bold_space-T1w_label-aparcaseg_roi.nii.gz': <BIDSImageFile filename='/Users/smerdis/data/LGN/BIDS/NB_combined/derivatives/fmriprep/sub-NB/ses-20180803/func/sub-NB_ses-20180803_task-mp_run-10_bold_space-T1w_label-aparcaseg_roi.nii.gz'>,\n",
       " '/Users/smerdis/data/LGN/BIDS/NB_combined/derivatives/fmriprep/sub-NB/ses-20180803/func/sub-NB_ses-20180803_task-mp_run-03_bold_space-T1w_preproc.nii.gz': <BIDSImageFile filename='/Users/smerdis/data/LGN/BIDS/NB_combined/derivatives/fmriprep/sub-NB/ses-20180803/func/sub-NB_ses-20180803_task-mp_run-03_bold_space-T1w_preproc.nii.gz'>,\n",
       " '/Users/smerdis/data/LGN/BIDS/NB_combined/derivatives/fmriprep/sub-NB/ses-20180803/func/sub-NB_ses-20180803_task-mp_run-10_bold_confounds.tsv': <BIDSDataFile filename='/Users/smerdis/data/LGN/BIDS/NB_combined/derivatives/fmriprep/sub-NB/ses-20180803/func/sub-NB_ses-20180803_task-mp_run-10_bold_confounds.tsv'>,\n",
       " '/Users/smerdis/data/LGN/BIDS/NB_combined/derivatives/fmriprep/sub-NB/ses-20180803/func/sub-NB_ses-20180803_task-mp_run-08_bold_space-T1w_label-aparcaseg_roi.nii.gz': <BIDSImageFile filename='/Users/smerdis/data/LGN/BIDS/NB_combined/derivatives/fmriprep/sub-NB/ses-20180803/func/sub-NB_ses-20180803_task-mp_run-08_bold_space-T1w_label-aparcaseg_roi.nii.gz'>,\n",
       " '/Users/smerdis/data/LGN/BIDS/NB_combined/derivatives/fmriprep/sub-NB/ses-20180803/func/sub-NB_ses-20180803_task-mp_run-07_bold_space-T1w_brainmask.nii.gz': <BIDSImageFile filename='/Users/smerdis/data/LGN/BIDS/NB_combined/derivatives/fmriprep/sub-NB/ses-20180803/func/sub-NB_ses-20180803_task-mp_run-07_bold_space-T1w_brainmask.nii.gz'>,\n",
       " '/Users/smerdis/data/LGN/BIDS/NB_combined/derivatives/fmriprep/sub-NB/ses-20180803/func/sub-NB_ses-20180803_task-mp_run-03_bold_confounds.tsv': <BIDSDataFile filename='/Users/smerdis/data/LGN/BIDS/NB_combined/derivatives/fmriprep/sub-NB/ses-20180803/func/sub-NB_ses-20180803_task-mp_run-03_bold_confounds.tsv'>,\n",
       " '/Users/smerdis/data/LGN/BIDS/NB_combined/derivatives/fmriprep/sub-NB/ses-20180803/func/sub-NB_ses-20180803_task-mp_run-04_bold_space-T1w_preproc.nii.gz': <BIDSImageFile filename='/Users/smerdis/data/LGN/BIDS/NB_combined/derivatives/fmriprep/sub-NB/ses-20180803/func/sub-NB_ses-20180803_task-mp_run-04_bold_space-T1w_preproc.nii.gz'>,\n",
       " '/Users/smerdis/data/LGN/BIDS/NB_combined/derivatives/fmriprep/sub-NB/ses-20180803/func/sub-NB_ses-20180803_task-mp_run-02_bold_space-T1w_brainmask.nii.gz': <BIDSImageFile filename='/Users/smerdis/data/LGN/BIDS/NB_combined/derivatives/fmriprep/sub-NB/ses-20180803/func/sub-NB_ses-20180803_task-mp_run-02_bold_space-T1w_brainmask.nii.gz'>,\n",
       " '/Users/smerdis/data/LGN/BIDS/NB_combined/derivatives/fmriprep/sub-NB/ses-20180803/func/sub-NB_ses-20180803_task-mp_run-09_bold_space-T1w_label-aparcaseg_roi.nii.gz': <BIDSImageFile filename='/Users/smerdis/data/LGN/BIDS/NB_combined/derivatives/fmriprep/sub-NB/ses-20180803/func/sub-NB_ses-20180803_task-mp_run-09_bold_space-T1w_label-aparcaseg_roi.nii.gz'>,\n",
       " '/Users/smerdis/data/LGN/BIDS/NB_combined/derivatives/fmriprep/sub-NB/ses-20180803/func/sub-NB_ses-20180803_task-mp_run-10_bold_space-T1w_brainmask.nii.gz': <BIDSImageFile filename='/Users/smerdis/data/LGN/BIDS/NB_combined/derivatives/fmriprep/sub-NB/ses-20180803/func/sub-NB_ses-20180803_task-mp_run-10_bold_space-T1w_brainmask.nii.gz'>,\n",
       " '/Users/smerdis/data/LGN/BIDS/NB_combined/derivatives/fmriprep/sub-NB/ses-20190205/.DS_Store': <BIDSFile filename='/Users/smerdis/data/LGN/BIDS/NB_combined/derivatives/fmriprep/sub-NB/ses-20190205/.DS_Store'>,\n",
       " '/Users/smerdis/data/LGN/BIDS/NB_combined/derivatives/fmriprep/sub-NB/ses-20190205/func/sub-NB_ses-20190205_task-mp_acq-sbiso_run-08_bold_space-T1w_preproc.nii.gz': <BIDSImageFile filename='/Users/smerdis/data/LGN/BIDS/NB_combined/derivatives/fmriprep/sub-NB/ses-20190205/func/sub-NB_ses-20190205_task-mp_acq-sbiso_run-08_bold_space-T1w_preproc.nii.gz'>,\n",
       " '/Users/smerdis/data/LGN/BIDS/NB_combined/derivatives/fmriprep/sub-NB/ses-20190205/func/sub-NB_ses-20190205_task-mp_acq-sbiso_run-03_bold_confounds.tsv': <BIDSDataFile filename='/Users/smerdis/data/LGN/BIDS/NB_combined/derivatives/fmriprep/sub-NB/ses-20190205/func/sub-NB_ses-20190205_task-mp_acq-sbiso_run-03_bold_confounds.tsv'>,\n",
       " '/Users/smerdis/data/LGN/BIDS/NB_combined/derivatives/fmriprep/sub-NB/ses-20190205/func/sub-NB_ses-20190205_task-hemi_acq-sbiso_run-02_bold_space-T1w_label-aparcaseg_roi.nii.gz': <BIDSImageFile filename='/Users/smerdis/data/LGN/BIDS/NB_combined/derivatives/fmriprep/sub-NB/ses-20190205/func/sub-NB_ses-20190205_task-hemi_acq-sbiso_run-02_bold_space-T1w_label-aparcaseg_roi.nii.gz'>,\n",
       " '/Users/smerdis/data/LGN/BIDS/NB_combined/derivatives/fmriprep/sub-NB/ses-20190205/func/sub-NB_ses-20190205_task-hemi_acq-sbiso_run-03_bold_space-T1w_brainmask.nii.gz': <BIDSImageFile filename='/Users/smerdis/data/LGN/BIDS/NB_combined/derivatives/fmriprep/sub-NB/ses-20190205/func/sub-NB_ses-20190205_task-hemi_acq-sbiso_run-03_bold_space-T1w_brainmask.nii.gz'>,\n",
       " '/Users/smerdis/data/LGN/BIDS/NB_combined/derivatives/fmriprep/sub-NB/ses-20190205/func/sub-NB_ses-20190205_task-hemi_acq-sbiso_run-03_bold_space-T1w_label-aparcaseg_roi.nii.gz': <BIDSImageFile filename='/Users/smerdis/data/LGN/BIDS/NB_combined/derivatives/fmriprep/sub-NB/ses-20190205/func/sub-NB_ses-20190205_task-hemi_acq-sbiso_run-03_bold_space-T1w_label-aparcaseg_roi.nii.gz'>,\n",
       " '/Users/smerdis/data/LGN/BIDS/NB_combined/derivatives/fmriprep/sub-NB/ses-20190205/func/sub-NB_ses-20190205_task-mp_acq-sbiso_run-07_bold_space-T1w_preproc.nii.gz': <BIDSImageFile filename='/Users/smerdis/data/LGN/BIDS/NB_combined/derivatives/fmriprep/sub-NB/ses-20190205/func/sub-NB_ses-20190205_task-mp_acq-sbiso_run-07_bold_space-T1w_preproc.nii.gz'>,\n",
       " '/Users/smerdis/data/LGN/BIDS/NB_combined/derivatives/fmriprep/sub-NB/ses-20190205/func/sub-NB_ses-20190205_task-hemi_acq-sbiso_run-01_bold_space-T1w_label-aseg_roi.nii.gz': <BIDSImageFile filename='/Users/smerdis/data/LGN/BIDS/NB_combined/derivatives/fmriprep/sub-NB/ses-20190205/func/sub-NB_ses-20190205_task-hemi_acq-sbiso_run-01_bold_space-T1w_label-aseg_roi.nii.gz'>,\n",
       " '/Users/smerdis/data/LGN/BIDS/NB_combined/derivatives/fmriprep/sub-NB/ses-20190205/func/sub-NB_ses-20190205_task-mp_acq-sbiso_run-07_bold_space-T1w_brainmask.nii.gz': <BIDSImageFile filename='/Users/smerdis/data/LGN/BIDS/NB_combined/derivatives/fmriprep/sub-NB/ses-20190205/func/sub-NB_ses-20190205_task-mp_acq-sbiso_run-07_bold_space-T1w_brainmask.nii.gz'>,\n",
       " '/Users/smerdis/data/LGN/BIDS/NB_combined/derivatives/fmriprep/sub-NB/ses-20190205/func/sub-NB_ses-20190205_task-hemi_acq-sbiso_run-03_bold_confounds.tsv': <BIDSDataFile filename='/Users/smerdis/data/LGN/BIDS/NB_combined/derivatives/fmriprep/sub-NB/ses-20190205/func/sub-NB_ses-20190205_task-hemi_acq-sbiso_run-03_bold_confounds.tsv'>,\n",
       " '/Users/smerdis/data/LGN/BIDS/NB_combined/derivatives/fmriprep/sub-NB/ses-20190205/func/.DS_Store': <BIDSFile filename='/Users/smerdis/data/LGN/BIDS/NB_combined/derivatives/fmriprep/sub-NB/ses-20190205/func/.DS_Store'>,\n",
       " '/Users/smerdis/data/LGN/BIDS/NB_combined/derivatives/fmriprep/sub-NB/ses-20190205/func/sub-NB_ses-20190205_task-mp_acq-sbiso_run-02_bold_space-T1w_brainmask.nii.gz': <BIDSImageFile filename='/Users/smerdis/data/LGN/BIDS/NB_combined/derivatives/fmriprep/sub-NB/ses-20190205/func/sub-NB_ses-20190205_task-mp_acq-sbiso_run-02_bold_space-T1w_brainmask.nii.gz'>,\n",
       " '/Users/smerdis/data/LGN/BIDS/NB_combined/derivatives/fmriprep/sub-NB/ses-20190205/func/sub-NB_ses-20190205_task-mp_acq-sbiso_run-10_bold_confounds.tsv': <BIDSDataFile filename='/Users/smerdis/data/LGN/BIDS/NB_combined/derivatives/fmriprep/sub-NB/ses-20190205/func/sub-NB_ses-20190205_task-mp_acq-sbiso_run-10_bold_confounds.tsv'>,\n",
       " '/Users/smerdis/data/LGN/BIDS/NB_combined/derivatives/fmriprep/sub-NB/ses-20190205/func/sub-NB_ses-20190205_task-hemi_acq-sbiso_run-04_bold_space-T1w_label-aparcaseg_roi.nii.gz': <BIDSImageFile filename='/Users/smerdis/data/LGN/BIDS/NB_combined/derivatives/fmriprep/sub-NB/ses-20190205/func/sub-NB_ses-20190205_task-hemi_acq-sbiso_run-04_bold_space-T1w_label-aparcaseg_roi.nii.gz'>,\n",
       " '/Users/smerdis/data/LGN/BIDS/NB_combined/derivatives/fmriprep/sub-NB/ses-20190205/func/sub-NB_ses-20190205_task-mp_acq-sbiso_run-10_bold_space-T1w_brainmask.nii.gz': <BIDSImageFile filename='/Users/smerdis/data/LGN/BIDS/NB_combined/derivatives/fmriprep/sub-NB/ses-20190205/func/sub-NB_ses-20190205_task-mp_acq-sbiso_run-10_bold_space-T1w_brainmask.nii.gz'>,\n",
       " '/Users/smerdis/data/LGN/BIDS/NB_combined/derivatives/fmriprep/sub-NB/ses-20190205/func/sub-NB_ses-20190205_task-mp_acq-sbiso_run-04_bold_space-T1w_brainmask.nii.gz': <BIDSImageFile filename='/Users/smerdis/data/LGN/BIDS/NB_combined/derivatives/fmriprep/sub-NB/ses-20190205/func/sub-NB_ses-20190205_task-mp_acq-sbiso_run-04_bold_space-T1w_brainmask.nii.gz'>,\n",
       " '/Users/smerdis/data/LGN/BIDS/NB_combined/derivatives/fmriprep/sub-NB/ses-20190205/func/sub-NB_ses-20190205_task-mp_acq-sbiso_run-06_bold_confounds.tsv': <BIDSDataFile filename='/Users/smerdis/data/LGN/BIDS/NB_combined/derivatives/fmriprep/sub-NB/ses-20190205/func/sub-NB_ses-20190205_task-mp_acq-sbiso_run-06_bold_confounds.tsv'>,\n",
       " '/Users/smerdis/data/LGN/BIDS/NB_combined/derivatives/fmriprep/sub-NB/ses-20190205/func/sub-NB_ses-20190205_task-mp_acq-sbiso_run-06_bold_space-T1w_preproc.nii.gz': <BIDSImageFile filename='/Users/smerdis/data/LGN/BIDS/NB_combined/derivatives/fmriprep/sub-NB/ses-20190205/func/sub-NB_ses-20190205_task-mp_acq-sbiso_run-06_bold_space-T1w_preproc.nii.gz'>,\n",
       " '/Users/smerdis/data/LGN/BIDS/NB_combined/derivatives/fmriprep/sub-NB/ses-20190205/func/sub-NB_ses-20190205_task-mp_acq-sbiso_run-04_bold_space-T1w_label-aparcaseg_roi.nii.gz': <BIDSImageFile filename='/Users/smerdis/data/LGN/BIDS/NB_combined/derivatives/fmriprep/sub-NB/ses-20190205/func/sub-NB_ses-20190205_task-mp_acq-sbiso_run-04_bold_space-T1w_label-aparcaseg_roi.nii.gz'>,\n",
       " '/Users/smerdis/data/LGN/BIDS/NB_combined/derivatives/fmriprep/sub-NB/ses-20190205/func/sub-NB_ses-20190205_task-mp_acq-sbiso_run-06_bold_space-T1w_label-aseg_roi.nii.gz': <BIDSImageFile filename='/Users/smerdis/data/LGN/BIDS/NB_combined/derivatives/fmriprep/sub-NB/ses-20190205/func/sub-NB_ses-20190205_task-mp_acq-sbiso_run-06_bold_space-T1w_label-aseg_roi.nii.gz'>,\n",
       " '/Users/smerdis/data/LGN/BIDS/NB_combined/derivatives/fmriprep/sub-NB/ses-20190205/func/sub-NB_ses-20190205_task-mp_acq-sbiso_run-05_bold_space-T1w_label-aparcaseg_roi.nii.gz': <BIDSImageFile filename='/Users/smerdis/data/LGN/BIDS/NB_combined/derivatives/fmriprep/sub-NB/ses-20190205/func/sub-NB_ses-20190205_task-mp_acq-sbiso_run-05_bold_space-T1w_label-aparcaseg_roi.nii.gz'>,\n",
       " '/Users/smerdis/data/LGN/BIDS/NB_combined/derivatives/fmriprep/sub-NB/ses-20190205/func/sub-NB_ses-20190205_task-mp_acq-sbiso_run-01_bold_space-T1w_label-aseg_roi.nii.gz': <BIDSImageFile filename='/Users/smerdis/data/LGN/BIDS/NB_combined/derivatives/fmriprep/sub-NB/ses-20190205/func/sub-NB_ses-20190205_task-mp_acq-sbiso_run-01_bold_space-T1w_label-aseg_roi.nii.gz'>,\n",
       " '/Users/smerdis/data/LGN/BIDS/NB_combined/derivatives/fmriprep/sub-NB/ses-20190205/func/sub-NB_ses-20190205_task-mp_acq-sbiso_run-01_bold_space-T1w_brainmask.nii.gz': <BIDSImageFile filename='/Users/smerdis/data/LGN/BIDS/NB_combined/derivatives/fmriprep/sub-NB/ses-20190205/func/sub-NB_ses-20190205_task-mp_acq-sbiso_run-01_bold_space-T1w_brainmask.nii.gz'>,\n",
       " '/Users/smerdis/data/LGN/BIDS/NB_combined/derivatives/fmriprep/sub-NB/ses-20190205/func/sub-NB_ses-20190205_task-mp_acq-sbiso_run-09_bold_space-T1w_preproc.nii.gz': <BIDSImageFile filename='/Users/smerdis/data/LGN/BIDS/NB_combined/derivatives/fmriprep/sub-NB/ses-20190205/func/sub-NB_ses-20190205_task-mp_acq-sbiso_run-09_bold_space-T1w_preproc.nii.gz'>,\n",
       " '/Users/smerdis/data/LGN/BIDS/NB_combined/derivatives/fmriprep/sub-NB/ses-20190205/func/sub-NB_ses-20190205_task-mp_acq-sbiso_run-03_bold_space-T1w_label-aparcaseg_roi.nii.gz': <BIDSImageFile filename='/Users/smerdis/data/LGN/BIDS/NB_combined/derivatives/fmriprep/sub-NB/ses-20190205/func/sub-NB_ses-20190205_task-mp_acq-sbiso_run-03_bold_space-T1w_label-aparcaseg_roi.nii.gz'>,\n",
       " '/Users/smerdis/data/LGN/BIDS/NB_combined/derivatives/fmriprep/sub-NB/ses-20190205/func/sub-NB_ses-20190205_task-hemi_acq-sbiso_run-01_bold_space-T1w_preproc.nii.gz': <BIDSImageFile filename='/Users/smerdis/data/LGN/BIDS/NB_combined/derivatives/fmriprep/sub-NB/ses-20190205/func/sub-NB_ses-20190205_task-hemi_acq-sbiso_run-01_bold_space-T1w_preproc.nii.gz'>,\n",
       " '/Users/smerdis/data/LGN/BIDS/NB_combined/derivatives/fmriprep/sub-NB/ses-20190205/func/sub-NB_ses-20190205_task-mp_acq-sbiso_run-01_bold_space-T1w_preproc.nii.gz': <BIDSImageFile filename='/Users/smerdis/data/LGN/BIDS/NB_combined/derivatives/fmriprep/sub-NB/ses-20190205/func/sub-NB_ses-20190205_task-mp_acq-sbiso_run-01_bold_space-T1w_preproc.nii.gz'>,\n",
       " '/Users/smerdis/data/LGN/BIDS/NB_combined/derivatives/fmriprep/sub-NB/ses-20190205/func/sub-NB_ses-20190205_task-mp_acq-sbiso_run-08_bold_confounds.tsv': <BIDSDataFile filename='/Users/smerdis/data/LGN/BIDS/NB_combined/derivatives/fmriprep/sub-NB/ses-20190205/func/sub-NB_ses-20190205_task-mp_acq-sbiso_run-08_bold_confounds.tsv'>,\n",
       " '/Users/smerdis/data/LGN/BIDS/NB_combined/derivatives/fmriprep/sub-NB/ses-20190205/func/sub-NB_ses-20190205_task-mp_acq-sbiso_run-05_bold_confounds.tsv': <BIDSDataFile filename='/Users/smerdis/data/LGN/BIDS/NB_combined/derivatives/fmriprep/sub-NB/ses-20190205/func/sub-NB_ses-20190205_task-mp_acq-sbiso_run-05_bold_confounds.tsv'>,\n",
       " '/Users/smerdis/data/LGN/BIDS/NB_combined/derivatives/fmriprep/sub-NB/ses-20190205/func/sub-NB_ses-20190205_task-mp_acq-sbiso_run-09_bold_space-T1w_brainmask.nii.gz': <BIDSImageFile filename='/Users/smerdis/data/LGN/BIDS/NB_combined/derivatives/fmriprep/sub-NB/ses-20190205/func/sub-NB_ses-20190205_task-mp_acq-sbiso_run-09_bold_space-T1w_brainmask.nii.gz'>,\n",
       " '/Users/smerdis/data/LGN/BIDS/NB_combined/derivatives/fmriprep/sub-NB/ses-20190205/func/sub-NB_ses-20190205_task-mp_acq-sbiso_run-10_bold_space-T1w_preproc.nii.gz': <BIDSImageFile filename='/Users/smerdis/data/LGN/BIDS/NB_combined/derivatives/fmriprep/sub-NB/ses-20190205/func/sub-NB_ses-20190205_task-mp_acq-sbiso_run-10_bold_space-T1w_preproc.nii.gz'>,\n",
       " '/Users/smerdis/data/LGN/BIDS/NB_combined/derivatives/fmriprep/sub-NB/ses-20190205/func/sub-NB_ses-20190205_task-mp_acq-sbiso_run-07_bold_space-T1w_label-aseg_roi.nii.gz': <BIDSImageFile filename='/Users/smerdis/data/LGN/BIDS/NB_combined/derivatives/fmriprep/sub-NB/ses-20190205/func/sub-NB_ses-20190205_task-mp_acq-sbiso_run-07_bold_space-T1w_label-aseg_roi.nii.gz'>,\n",
       " '/Users/smerdis/data/LGN/BIDS/NB_combined/derivatives/fmriprep/sub-NB/ses-20190205/func/sub-NB_ses-20190205_task-mp_acq-sbiso_run-10_bold_space-T1w_label-aseg_roi.nii.gz': <BIDSImageFile filename='/Users/smerdis/data/LGN/BIDS/NB_combined/derivatives/fmriprep/sub-NB/ses-20190205/func/sub-NB_ses-20190205_task-mp_acq-sbiso_run-10_bold_space-T1w_label-aseg_roi.nii.gz'>,\n",
       " '/Users/smerdis/data/LGN/BIDS/NB_combined/derivatives/fmriprep/sub-NB/ses-20190205/func/sub-NB_ses-20190205_task-mp_acq-sbiso_run-02_bold_space-T1w_label-aparcaseg_roi.nii.gz': <BIDSImageFile filename='/Users/smerdis/data/LGN/BIDS/NB_combined/derivatives/fmriprep/sub-NB/ses-20190205/func/sub-NB_ses-20190205_task-mp_acq-sbiso_run-02_bold_space-T1w_label-aparcaseg_roi.nii.gz'>,\n",
       " '/Users/smerdis/data/LGN/BIDS/NB_combined/derivatives/fmriprep/sub-NB/ses-20190205/func/sub-NB_ses-20190205_task-mp_acq-sbiso_run-09_bold_space-T1w_label-aparcaseg_roi.nii.gz': <BIDSImageFile filename='/Users/smerdis/data/LGN/BIDS/NB_combined/derivatives/fmriprep/sub-NB/ses-20190205/func/sub-NB_ses-20190205_task-mp_acq-sbiso_run-09_bold_space-T1w_label-aparcaseg_roi.nii.gz'>,\n",
       " '/Users/smerdis/data/LGN/BIDS/NB_combined/derivatives/fmriprep/sub-NB/ses-20190205/func/sub-NB_ses-20190205_task-mp_acq-sbiso_run-02_bold_space-T1w_preproc.nii.gz': <BIDSImageFile filename='/Users/smerdis/data/LGN/BIDS/NB_combined/derivatives/fmriprep/sub-NB/ses-20190205/func/sub-NB_ses-20190205_task-mp_acq-sbiso_run-02_bold_space-T1w_preproc.nii.gz'>,\n",
       " '/Users/smerdis/data/LGN/BIDS/NB_combined/derivatives/fmriprep/sub-NB/ses-20190205/func/sub-NB_ses-20190205_task-hemi_acq-sbiso_run-02_bold_space-T1w_preproc.nii.gz': <BIDSImageFile filename='/Users/smerdis/data/LGN/BIDS/NB_combined/derivatives/fmriprep/sub-NB/ses-20190205/func/sub-NB_ses-20190205_task-hemi_acq-sbiso_run-02_bold_space-T1w_preproc.nii.gz'>,\n",
       " '/Users/smerdis/data/LGN/BIDS/NB_combined/derivatives/fmriprep/sub-NB/ses-20190205/func/sub-NB_ses-20190205_task-hemi_acq-sbiso_run-01_bold_space-T1w_label-aparcaseg_roi.nii.gz': <BIDSImageFile filename='/Users/smerdis/data/LGN/BIDS/NB_combined/derivatives/fmriprep/sub-NB/ses-20190205/func/sub-NB_ses-20190205_task-hemi_acq-sbiso_run-01_bold_space-T1w_label-aparcaseg_roi.nii.gz'>,\n",
       " '/Users/smerdis/data/LGN/BIDS/NB_combined/derivatives/fmriprep/sub-NB/ses-20190205/func/sub-NB_ses-20190205_task-mp_acq-sbiso_run-09_bold_confounds.tsv': <BIDSDataFile filename='/Users/smerdis/data/LGN/BIDS/NB_combined/derivatives/fmriprep/sub-NB/ses-20190205/func/sub-NB_ses-20190205_task-mp_acq-sbiso_run-09_bold_confounds.tsv'>,\n",
       " '/Users/smerdis/data/LGN/BIDS/NB_combined/derivatives/fmriprep/sub-NB/ses-20190205/func/sub-NB_ses-20190205_task-mp_acq-sbiso_run-02_bold_space-T1w_label-aseg_roi.nii.gz': <BIDSImageFile filename='/Users/smerdis/data/LGN/BIDS/NB_combined/derivatives/fmriprep/sub-NB/ses-20190205/func/sub-NB_ses-20190205_task-mp_acq-sbiso_run-02_bold_space-T1w_label-aseg_roi.nii.gz'>,\n",
       " '/Users/smerdis/data/LGN/BIDS/NB_combined/derivatives/fmriprep/sub-NB/ses-20190205/func/sub-NB_ses-20190205_task-mp_acq-sbiso_run-08_bold_space-T1w_label-aparcaseg_roi.nii.gz': <BIDSImageFile filename='/Users/smerdis/data/LGN/BIDS/NB_combined/derivatives/fmriprep/sub-NB/ses-20190205/func/sub-NB_ses-20190205_task-mp_acq-sbiso_run-08_bold_space-T1w_label-aparcaseg_roi.nii.gz'>,\n",
       " '/Users/smerdis/data/LGN/BIDS/NB_combined/derivatives/fmriprep/sub-NB/ses-20190205/func/sub-NB_ses-20190205_task-mp_acq-sbiso_run-04_bold_confounds.tsv': <BIDSDataFile filename='/Users/smerdis/data/LGN/BIDS/NB_combined/derivatives/fmriprep/sub-NB/ses-20190205/func/sub-NB_ses-20190205_task-mp_acq-sbiso_run-04_bold_confounds.tsv'>,\n",
       " '/Users/smerdis/data/LGN/BIDS/NB_combined/derivatives/fmriprep/sub-NB/ses-20190205/func/sub-NB_ses-20190205_task-mp_acq-sbiso_run-05_bold_space-T1w_label-aseg_roi.nii.gz': <BIDSImageFile filename='/Users/smerdis/data/LGN/BIDS/NB_combined/derivatives/fmriprep/sub-NB/ses-20190205/func/sub-NB_ses-20190205_task-mp_acq-sbiso_run-05_bold_space-T1w_label-aseg_roi.nii.gz'>,\n",
       " '/Users/smerdis/data/LGN/BIDS/NB_combined/derivatives/fmriprep/sub-NB/ses-20190205/func/sub-NB_ses-20190205_task-mp_acq-sbiso_run-05_bold_space-T1w_brainmask.nii.gz': <BIDSImageFile filename='/Users/smerdis/data/LGN/BIDS/NB_combined/derivatives/fmriprep/sub-NB/ses-20190205/func/sub-NB_ses-20190205_task-mp_acq-sbiso_run-05_bold_space-T1w_brainmask.nii.gz'>,\n",
       " '/Users/smerdis/data/LGN/BIDS/NB_combined/derivatives/fmriprep/sub-NB/ses-20190205/func/sub-NB_ses-20190205_task-mp_acq-sbiso_run-07_bold_confounds.tsv': <BIDSDataFile filename='/Users/smerdis/data/LGN/BIDS/NB_combined/derivatives/fmriprep/sub-NB/ses-20190205/func/sub-NB_ses-20190205_task-mp_acq-sbiso_run-07_bold_confounds.tsv'>,\n",
       " '/Users/smerdis/data/LGN/BIDS/NB_combined/derivatives/fmriprep/sub-NB/ses-20190205/func/sub-NB_ses-20190205_task-hemi_acq-sbiso_run-04_bold_space-T1w_brainmask.nii.gz': <BIDSImageFile filename='/Users/smerdis/data/LGN/BIDS/NB_combined/derivatives/fmriprep/sub-NB/ses-20190205/func/sub-NB_ses-20190205_task-hemi_acq-sbiso_run-04_bold_space-T1w_brainmask.nii.gz'>,\n",
       " '/Users/smerdis/data/LGN/BIDS/NB_combined/derivatives/fmriprep/sub-NB/ses-20190205/func/sub-NB_ses-20190205_task-mp_acq-sbiso_run-08_bold_space-T1w_brainmask.nii.gz': <BIDSImageFile filename='/Users/smerdis/data/LGN/BIDS/NB_combined/derivatives/fmriprep/sub-NB/ses-20190205/func/sub-NB_ses-20190205_task-mp_acq-sbiso_run-08_bold_space-T1w_brainmask.nii.gz'>,\n",
       " '/Users/smerdis/data/LGN/BIDS/NB_combined/derivatives/fmriprep/sub-NB/ses-20190205/func/sub-NB_ses-20190205_task-mp_acq-sbiso_run-05_bold_space-T1w_preproc.nii.gz': <BIDSImageFile filename='/Users/smerdis/data/LGN/BIDS/NB_combined/derivatives/fmriprep/sub-NB/ses-20190205/func/sub-NB_ses-20190205_task-mp_acq-sbiso_run-05_bold_space-T1w_preproc.nii.gz'>,\n",
       " '/Users/smerdis/data/LGN/BIDS/NB_combined/derivatives/fmriprep/sub-NB/ses-20190205/func/sub-NB_ses-20190205_task-mp_acq-sbiso_run-03_bold_space-T1w_label-aseg_roi.nii.gz': <BIDSImageFile filename='/Users/smerdis/data/LGN/BIDS/NB_combined/derivatives/fmriprep/sub-NB/ses-20190205/func/sub-NB_ses-20190205_task-mp_acq-sbiso_run-03_bold_space-T1w_label-aseg_roi.nii.gz'>,\n",
       " '/Users/smerdis/data/LGN/BIDS/NB_combined/derivatives/fmriprep/sub-NB/ses-20190205/func/sub-NB_ses-20190205_task-mp_acq-sbiso_run-04_bold_space-T1w_label-aseg_roi.nii.gz': <BIDSImageFile filename='/Users/smerdis/data/LGN/BIDS/NB_combined/derivatives/fmriprep/sub-NB/ses-20190205/func/sub-NB_ses-20190205_task-mp_acq-sbiso_run-04_bold_space-T1w_label-aseg_roi.nii.gz'>,\n",
       " '/Users/smerdis/data/LGN/BIDS/NB_combined/derivatives/fmriprep/sub-NB/ses-20190205/func/sub-NB_ses-20190205_task-hemi_acq-sbiso_run-01_bold_space-T1w_brainmask.nii.gz': <BIDSImageFile filename='/Users/smerdis/data/LGN/BIDS/NB_combined/derivatives/fmriprep/sub-NB/ses-20190205/func/sub-NB_ses-20190205_task-hemi_acq-sbiso_run-01_bold_space-T1w_brainmask.nii.gz'>,\n",
       " '/Users/smerdis/data/LGN/BIDS/NB_combined/derivatives/fmriprep/sub-NB/ses-20190205/func/sub-NB_ses-20190205_task-hemi_acq-sbiso_run-04_bold_confounds.tsv': <BIDSDataFile filename='/Users/smerdis/data/LGN/BIDS/NB_combined/derivatives/fmriprep/sub-NB/ses-20190205/func/sub-NB_ses-20190205_task-hemi_acq-sbiso_run-04_bold_confounds.tsv'>,\n",
       " '/Users/smerdis/data/LGN/BIDS/NB_combined/derivatives/fmriprep/sub-NB/ses-20190205/func/sub-NB_ses-20190205_task-mp_acq-sbiso_run-10_bold_space-T1w_label-aparcaseg_roi.nii.gz': <BIDSImageFile filename='/Users/smerdis/data/LGN/BIDS/NB_combined/derivatives/fmriprep/sub-NB/ses-20190205/func/sub-NB_ses-20190205_task-mp_acq-sbiso_run-10_bold_space-T1w_label-aparcaseg_roi.nii.gz'>,\n",
       " '/Users/smerdis/data/LGN/BIDS/NB_combined/derivatives/fmriprep/sub-NB/ses-20190205/func/sub-NB_ses-20190205_task-mp_acq-sbiso_run-09_bold_space-T1w_label-aseg_roi.nii.gz': <BIDSImageFile filename='/Users/smerdis/data/LGN/BIDS/NB_combined/derivatives/fmriprep/sub-NB/ses-20190205/func/sub-NB_ses-20190205_task-mp_acq-sbiso_run-09_bold_space-T1w_label-aseg_roi.nii.gz'>,\n",
       " '/Users/smerdis/data/LGN/BIDS/NB_combined/derivatives/fmriprep/sub-NB/ses-20190205/func/sub-NB_ses-20190205_task-hemi_acq-sbiso_run-02_bold_confounds.tsv': <BIDSDataFile filename='/Users/smerdis/data/LGN/BIDS/NB_combined/derivatives/fmriprep/sub-NB/ses-20190205/func/sub-NB_ses-20190205_task-hemi_acq-sbiso_run-02_bold_confounds.tsv'>,\n",
       " '/Users/smerdis/data/LGN/BIDS/NB_combined/derivatives/fmriprep/sub-NB/ses-20190205/func/sub-NB_ses-20190205_task-mp_acq-sbiso_run-06_bold_space-T1w_label-aparcaseg_roi.nii.gz': <BIDSImageFile filename='/Users/smerdis/data/LGN/BIDS/NB_combined/derivatives/fmriprep/sub-NB/ses-20190205/func/sub-NB_ses-20190205_task-mp_acq-sbiso_run-06_bold_space-T1w_label-aparcaseg_roi.nii.gz'>,\n",
       " '/Users/smerdis/data/LGN/BIDS/NB_combined/derivatives/fmriprep/sub-NB/ses-20190205/func/sub-NB_ses-20190205_task-hemi_acq-sbiso_run-02_bold_space-T1w_label-aseg_roi.nii.gz': <BIDSImageFile filename='/Users/smerdis/data/LGN/BIDS/NB_combined/derivatives/fmriprep/sub-NB/ses-20190205/func/sub-NB_ses-20190205_task-hemi_acq-sbiso_run-02_bold_space-T1w_label-aseg_roi.nii.gz'>,\n",
       " '/Users/smerdis/data/LGN/BIDS/NB_combined/derivatives/fmriprep/sub-NB/ses-20190205/func/sub-NB_ses-20190205_task-hemi_acq-sbiso_run-03_bold_space-T1w_preproc.nii.gz': <BIDSImageFile filename='/Users/smerdis/data/LGN/BIDS/NB_combined/derivatives/fmriprep/sub-NB/ses-20190205/func/sub-NB_ses-20190205_task-hemi_acq-sbiso_run-03_bold_space-T1w_preproc.nii.gz'>,\n",
       " '/Users/smerdis/data/LGN/BIDS/NB_combined/derivatives/fmriprep/sub-NB/ses-20190205/func/sub-NB_ses-20190205_task-mp_acq-sbiso_run-01_bold_confounds.tsv': <BIDSDataFile filename='/Users/smerdis/data/LGN/BIDS/NB_combined/derivatives/fmriprep/sub-NB/ses-20190205/func/sub-NB_ses-20190205_task-mp_acq-sbiso_run-01_bold_confounds.tsv'>,\n",
       " '/Users/smerdis/data/LGN/BIDS/NB_combined/derivatives/fmriprep/sub-NB/ses-20190205/func/sub-NB_ses-20190205_task-hemi_acq-sbiso_run-02_bold_space-T1w_brainmask.nii.gz': <BIDSImageFile filename='/Users/smerdis/data/LGN/BIDS/NB_combined/derivatives/fmriprep/sub-NB/ses-20190205/func/sub-NB_ses-20190205_task-hemi_acq-sbiso_run-02_bold_space-T1w_brainmask.nii.gz'>,\n",
       " '/Users/smerdis/data/LGN/BIDS/NB_combined/derivatives/fmriprep/sub-NB/ses-20190205/func/sub-NB_ses-20190205_task-mp_acq-sbiso_run-07_bold_space-T1w_label-aparcaseg_roi.nii.gz': <BIDSImageFile filename='/Users/smerdis/data/LGN/BIDS/NB_combined/derivatives/fmriprep/sub-NB/ses-20190205/func/sub-NB_ses-20190205_task-mp_acq-sbiso_run-07_bold_space-T1w_label-aparcaseg_roi.nii.gz'>,\n",
       " '/Users/smerdis/data/LGN/BIDS/NB_combined/derivatives/fmriprep/sub-NB/ses-20190205/func/sub-NB_ses-20190205_task-mp_acq-sbiso_run-03_bold_space-T1w_preproc.nii.gz': <BIDSImageFile filename='/Users/smerdis/data/LGN/BIDS/NB_combined/derivatives/fmriprep/sub-NB/ses-20190205/func/sub-NB_ses-20190205_task-mp_acq-sbiso_run-03_bold_space-T1w_preproc.nii.gz'>,\n",
       " '/Users/smerdis/data/LGN/BIDS/NB_combined/derivatives/fmriprep/sub-NB/ses-20190205/func/sub-NB_ses-20190205_task-mp_acq-sbiso_run-01_bold_space-T1w_label-aparcaseg_roi.nii.gz': <BIDSImageFile filename='/Users/smerdis/data/LGN/BIDS/NB_combined/derivatives/fmriprep/sub-NB/ses-20190205/func/sub-NB_ses-20190205_task-mp_acq-sbiso_run-01_bold_space-T1w_label-aparcaseg_roi.nii.gz'>,\n",
       " '/Users/smerdis/data/LGN/BIDS/NB_combined/derivatives/fmriprep/sub-NB/ses-20190205/func/sub-NB_ses-20190205_task-mp_acq-sbiso_run-08_bold_space-T1w_label-aseg_roi.nii.gz': <BIDSImageFile filename='/Users/smerdis/data/LGN/BIDS/NB_combined/derivatives/fmriprep/sub-NB/ses-20190205/func/sub-NB_ses-20190205_task-mp_acq-sbiso_run-08_bold_space-T1w_label-aseg_roi.nii.gz'>,\n",
       " '/Users/smerdis/data/LGN/BIDS/NB_combined/derivatives/fmriprep/sub-NB/ses-20190205/func/sub-NB_ses-20190205_task-mp_acq-sbiso_run-03_bold_space-T1w_brainmask.nii.gz': <BIDSImageFile filename='/Users/smerdis/data/LGN/BIDS/NB_combined/derivatives/fmriprep/sub-NB/ses-20190205/func/sub-NB_ses-20190205_task-mp_acq-sbiso_run-03_bold_space-T1w_brainmask.nii.gz'>,\n",
       " '/Users/smerdis/data/LGN/BIDS/NB_combined/derivatives/fmriprep/sub-NB/ses-20190205/func/sub-NB_ses-20190205_task-mp_acq-sbiso_run-02_bold_confounds.tsv': <BIDSDataFile filename='/Users/smerdis/data/LGN/BIDS/NB_combined/derivatives/fmriprep/sub-NB/ses-20190205/func/sub-NB_ses-20190205_task-mp_acq-sbiso_run-02_bold_confounds.tsv'>,\n",
       " '/Users/smerdis/data/LGN/BIDS/NB_combined/derivatives/fmriprep/sub-NB/ses-20190205/func/sub-NB_ses-20190205_task-mp_acq-sbiso_run-04_bold_space-T1w_preproc.nii.gz': <BIDSImageFile filename='/Users/smerdis/data/LGN/BIDS/NB_combined/derivatives/fmriprep/sub-NB/ses-20190205/func/sub-NB_ses-20190205_task-mp_acq-sbiso_run-04_bold_space-T1w_preproc.nii.gz'>,\n",
       " '/Users/smerdis/data/LGN/BIDS/NB_combined/derivatives/fmriprep/sub-NB/ses-20190205/func/sub-NB_ses-20190205_task-hemi_acq-sbiso_run-04_bold_space-T1w_preproc.nii.gz': <BIDSImageFile filename='/Users/smerdis/data/LGN/BIDS/NB_combined/derivatives/fmriprep/sub-NB/ses-20190205/func/sub-NB_ses-20190205_task-hemi_acq-sbiso_run-04_bold_space-T1w_preproc.nii.gz'>,\n",
       " '/Users/smerdis/data/LGN/BIDS/NB_combined/derivatives/fmriprep/sub-NB/ses-20190205/func/sub-NB_ses-20190205_task-hemi_acq-sbiso_run-01_bold_confounds.tsv': <BIDSDataFile filename='/Users/smerdis/data/LGN/BIDS/NB_combined/derivatives/fmriprep/sub-NB/ses-20190205/func/sub-NB_ses-20190205_task-hemi_acq-sbiso_run-01_bold_confounds.tsv'>,\n",
       " '/Users/smerdis/data/LGN/BIDS/NB_combined/derivatives/fmriprep/sub-NB/ses-20190205/func/sub-NB_ses-20190205_task-hemi_acq-sbiso_run-03_bold_space-T1w_label-aseg_roi.nii.gz': <BIDSImageFile filename='/Users/smerdis/data/LGN/BIDS/NB_combined/derivatives/fmriprep/sub-NB/ses-20190205/func/sub-NB_ses-20190205_task-hemi_acq-sbiso_run-03_bold_space-T1w_label-aseg_roi.nii.gz'>,\n",
       " '/Users/smerdis/data/LGN/BIDS/NB_combined/derivatives/fmriprep/sub-NB/ses-20190205/func/sub-NB_ses-20190205_task-hemi_acq-sbiso_run-04_bold_space-T1w_label-aseg_roi.nii.gz': <BIDSImageFile filename='/Users/smerdis/data/LGN/BIDS/NB_combined/derivatives/fmriprep/sub-NB/ses-20190205/func/sub-NB_ses-20190205_task-hemi_acq-sbiso_run-04_bold_space-T1w_label-aseg_roi.nii.gz'>,\n",
       " '/Users/smerdis/data/LGN/BIDS/NB_combined/derivatives/fmriprep/sub-NB/ses-20190205/func/sub-NB_ses-20190205_task-mp_acq-sbiso_run-06_bold_space-T1w_brainmask.nii.gz': <BIDSImageFile filename='/Users/smerdis/data/LGN/BIDS/NB_combined/derivatives/fmriprep/sub-NB/ses-20190205/func/sub-NB_ses-20190205_task-mp_acq-sbiso_run-06_bold_space-T1w_brainmask.nii.gz'>}"
      ]
     },
     "execution_count": 17,
     "metadata": {},
     "output_type": "execute_result"
    }
   ],
   "source": [
    "preproc_layout.files"
   ]
  },
  {
   "cell_type": "code",
   "execution_count": 18,
   "metadata": {
    "ExecuteTime": {
     "end_time": "2020-08-27T01:06:45.705849Z",
     "start_time": "2020-08-27T01:06:45.077304Z"
    }
   },
   "outputs": [],
   "source": [
    "subjects = preproc_layout.get_subjects()\n",
    "assert sub in subjects and sub in raw_layout.get_subjects(), \"Subject not found!\"\n",
    "\n",
    "sessions = preproc_layout.get_sessions()\n",
    "assert ses in sessions, \"Session not found!\"\n",
    "\n",
    "tasks = preproc_layout.get_tasks()\n",
    "assert task in tasks, \"Task not found!\""
   ]
  },
  {
   "cell_type": "code",
   "execution_count": 19,
   "metadata": {
    "ExecuteTime": {
     "end_time": "2020-08-27T01:06:45.984972Z",
     "start_time": "2020-08-27T01:06:45.799185Z"
    }
   },
   "outputs": [
    {
     "name": "stdout",
     "output_type": "stream",
     "text": [
      "BOLDS: 3\n",
      "['/Users/smerdis/data/LGN/BIDS/NB_combined/derivatives/fmriprep/sub-NB/ses-20190205/func/sub-NB_ses-20190205_task-hemi_acq-sbiso_run-01_bold_space-T1w_preproc.nii.gz', '/Users/smerdis/data/LGN/BIDS/NB_combined/derivatives/fmriprep/sub-NB/ses-20190205/func/sub-NB_ses-20190205_task-hemi_acq-sbiso_run-03_bold_space-T1w_preproc.nii.gz', '/Users/smerdis/data/LGN/BIDS/NB_combined/derivatives/fmriprep/sub-NB/ses-20190205/func/sub-NB_ses-20190205_task-hemi_acq-sbiso_run-04_bold_space-T1w_preproc.nii.gz']\n"
     ]
    },
    {
     "name": "stderr",
     "output_type": "stream",
     "text": [
      "//anaconda/envs/py36/lib/python3.6/site-packages/bids/layout/layout.py:659: UserWarning: In pybids 0.9.0, the 'extensions' filter was deprecated in favor of 'extension'. The former will stop working in 0.11.0.\n",
      "  warnings.warn(\"In pybids 0.9.0, the 'extensions' filter was \"\n"
     ]
    }
   ],
   "source": [
    "bolds = preproc_layout.get(subject=sub, suffix='preproc',\n",
    "                              session=ses, task=task, run=runs, extensions=['nii.gz'],\n",
    "                                               return_type='file')\n",
    "print(f\"BOLDS: {len(bolds)}\\n{bolds}\")"
   ]
  },
  {
   "cell_type": "code",
   "execution_count": 20,
   "metadata": {
    "ExecuteTime": {
     "end_time": "2020-08-27T01:06:51.110568Z",
     "start_time": "2020-08-27T01:06:50.955294Z"
    }
   },
   "outputs": [
    {
     "data": {
      "text/plain": [
       "['/Users/smerdis/data/LGN/BIDS/NB_combined/derivatives/fmriprep/sub-NB/ses-20190205/func/sub-NB_ses-20190205_task-hemi_acq-sbiso_run-01_bold_space-T1w_preproc.nii.gz',\n",
       " '/Users/smerdis/data/LGN/BIDS/NB_combined/derivatives/fmriprep/sub-NB/ses-20190205/func/sub-NB_ses-20190205_task-hemi_acq-sbiso_run-03_bold_space-T1w_preproc.nii.gz',\n",
       " '/Users/smerdis/data/LGN/BIDS/NB_combined/derivatives/fmriprep/sub-NB/ses-20190205/func/sub-NB_ses-20190205_task-hemi_acq-sbiso_run-04_bold_space-T1w_preproc.nii.gz']"
      ]
     },
     "execution_count": 20,
     "metadata": {},
     "output_type": "execute_result"
    }
   ],
   "source": [
    "sorted([f for f in preproc_layout.get(subject=sub, session=ses, task=task, run=runs, desc='preproc', suffix='preproc',\n",
    "            extension=['nii.gz'], return_type='file')])"
   ]
  },
  {
   "cell_type": "code",
   "execution_count": 21,
   "metadata": {
    "ExecuteTime": {
     "end_time": "2020-08-27T01:07:10.623685Z",
     "start_time": "2020-08-27T01:07:10.492234Z"
    }
   },
   "outputs": [
    {
     "name": "stdout",
     "output_type": "stream",
     "text": [
      "['/Users/smerdis/data/LGN/BIDS/NB_combined/derivatives/fmriprep/sub-NB/ses-20190205/func/sub-NB_ses-20190205_task-hemi_acq-sbiso_run-01_bold_space-T1w_brainmask.nii.gz', '/Users/smerdis/data/LGN/BIDS/NB_combined/derivatives/fmriprep/sub-NB/ses-20190205/func/sub-NB_ses-20190205_task-hemi_acq-sbiso_run-03_bold_space-T1w_brainmask.nii.gz', '/Users/smerdis/data/LGN/BIDS/NB_combined/derivatives/fmriprep/sub-NB/ses-20190205/func/sub-NB_ses-20190205_task-hemi_acq-sbiso_run-04_bold_space-T1w_brainmask.nii.gz']\n"
     ]
    }
   ],
   "source": [
    "masks = sorted([f for f in preproc_layout.get(subject=sub, suffix='brainmask',\n",
    "            session=ses, task=task, run=runs, extension=['nii.gz'], return_type='file')])\n",
    "\n",
    "print(masks)"
   ]
  },
  {
   "cell_type": "code",
   "execution_count": 22,
   "metadata": {
    "ExecuteTime": {
     "end_time": "2020-08-27T01:07:12.074200Z",
     "start_time": "2020-08-27T01:07:11.884826Z"
    }
   },
   "outputs": [],
   "source": [
    "raw_bolds = raw_layout.get(subject=sub, suffix=\"bold\",\n",
    "                           task=task, session=ses, run=runs, extensions=['nii.gz'])"
   ]
  },
  {
   "cell_type": "code",
   "execution_count": 23,
   "metadata": {
    "ExecuteTime": {
     "end_time": "2020-08-27T01:07:12.429849Z",
     "start_time": "2020-08-27T01:07:12.341415Z"
    }
   },
   "outputs": [
    {
     "data": {
      "text/plain": [
       "[<BIDSImageFile filename='/Users/smerdis/data/LGN/BIDS/NB_combined/sub-NB/ses-20190205/func/sub-NB_ses-20190205_task-hemi_acq-sbiso_run-01_bold.nii.gz'>,\n",
       " <BIDSImageFile filename='/Users/smerdis/data/LGN/BIDS/NB_combined/sub-NB/ses-20190205/func/sub-NB_ses-20190205_task-hemi_acq-sbiso_run-03_bold.nii.gz'>,\n",
       " <BIDSImageFile filename='/Users/smerdis/data/LGN/BIDS/NB_combined/sub-NB/ses-20190205/func/sub-NB_ses-20190205_task-hemi_acq-sbiso_run-04_bold.nii.gz'>]"
      ]
     },
     "execution_count": 23,
     "metadata": {},
     "output_type": "execute_result"
    }
   ],
   "source": [
    "raw_bolds"
   ]
  },
  {
   "cell_type": "code",
   "execution_count": 24,
   "metadata": {
    "ExecuteTime": {
     "end_time": "2020-08-27T01:07:13.628637Z",
     "start_time": "2020-08-27T01:07:13.169879Z"
    }
   },
   "outputs": [
    {
     "data": {
      "text/plain": [
       "2.25"
      ]
     },
     "execution_count": 24,
     "metadata": {},
     "output_type": "execute_result"
    }
   ],
   "source": [
    "raw_layout.get_tr(raw_bolds[0].filename)"
   ]
  },
  {
   "cell_type": "code",
   "execution_count": 25,
   "metadata": {
    "ExecuteTime": {
     "end_time": "2020-08-27T01:07:14.853180Z",
     "start_time": "2020-08-27T01:07:13.633029Z"
    }
   },
   "outputs": [],
   "source": [
    "TRs = [raw_layout.get_tr(f.filename) for f in raw_bolds]"
   ]
  },
  {
   "cell_type": "code",
   "execution_count": 26,
   "metadata": {
    "ExecuteTime": {
     "end_time": "2020-08-27T01:07:15.029632Z",
     "start_time": "2020-08-27T01:07:14.862358Z"
    }
   },
   "outputs": [
    {
     "data": {
      "text/plain": [
       "[2.25, 2.25, 2.25]"
      ]
     },
     "execution_count": 26,
     "metadata": {},
     "output_type": "execute_result"
    }
   ],
   "source": [
    "TRs"
   ]
  },
  {
   "cell_type": "markdown",
   "metadata": {},
   "source": [
    "### Use the actual utils.py function"
   ]
  },
  {
   "cell_type": "code",
   "execution_count": 12,
   "metadata": {
    "ExecuteTime": {
     "end_time": "2020-08-27T01:06:01.506737Z",
     "start_time": "2020-08-27T01:05:57.664227Z"
    }
   },
   "outputs": [
    {
     "name": "stdout",
     "output_type": "stream",
     "text": [
      "Space is None\n",
      "BOLDS: 0\n",
      "[]\n",
      "Masks: 0\n",
      "[]\n",
      "Eventfiles: 3\n",
      "['/Users/smerdis/data/LGN/BIDS/NB_combined/sub-NB/ses-20190205/func/sub-NB_ses-20190205_task-hemi_run-01_events.tsv', '/Users/smerdis/data/LGN/BIDS/NB_combined/sub-NB/ses-20190205/func/sub-NB_ses-20190205_task-hemi_run-03_events.tsv', '/Users/smerdis/data/LGN/BIDS/NB_combined/sub-NB/ses-20190205/func/sub-NB_ses-20190205_task-hemi_run-04_events.tsv']\n",
      "[2.25, 2.25, 2.25] 3\n",
      "Confounds: 0\n",
      "[]\n",
      "Some functional runs do not have corresponding event files!\n"
     ]
    },
    {
     "ename": "AssertionError",
     "evalue": "Input lists are not the same length!",
     "output_type": "error",
     "traceback": [
      "\u001b[0;31m---------------------------------------------------------------------------\u001b[0m",
      "\u001b[0;31mAssertionError\u001b[0m                            Traceback (most recent call last)",
      "\u001b[0;32m<ipython-input-12-c471ba3290ce>\u001b[0m in \u001b[0;36m<module>\u001b[0;34m\u001b[0m\n\u001b[1;32m      1\u001b[0m bolds, masks, eventfiles, TR, confounds = utils.get_files(sub, ses, task,\n\u001b[0;32m----> 2\u001b[0;31m     raw_data_dir, fmriprep_dir, run=runs)\n\u001b[0m",
      "\u001b[0;32m~/code/coupling/streams/glm_code/utils.py\u001b[0m in \u001b[0;36mget_files\u001b[0;34m(subject_id, session, task, raw_data_dir, preprocessed_data_dir, space, run, **kwargs)\u001b[0m\n\u001b[1;32m    296\u001b[0m         \u001b[0mprint\u001b[0m\u001b[0;34m(\u001b[0m\u001b[0;34m\"Some functional runs do not have corresponding event files!\"\u001b[0m\u001b[0;34m)\u001b[0m\u001b[0;34m\u001b[0m\u001b[0;34m\u001b[0m\u001b[0m\n\u001b[1;32m    297\u001b[0m     \u001b[0;32massert\u001b[0m \u001b[0mTRs\u001b[0m\u001b[0;34m.\u001b[0m\u001b[0mcount\u001b[0m\u001b[0;34m(\u001b[0m\u001b[0mTRs\u001b[0m\u001b[0;34m[\u001b[0m\u001b[0;36m0\u001b[0m\u001b[0;34m]\u001b[0m\u001b[0;34m)\u001b[0m\u001b[0;34m==\u001b[0m\u001b[0mlen\u001b[0m\u001b[0;34m(\u001b[0m\u001b[0mTRs\u001b[0m\u001b[0;34m)\u001b[0m\u001b[0;34m,\u001b[0m \u001b[0;34m\"Not all TRs are the same!\"\u001b[0m \u001b[0;31m# all runs for a particular task must have same TR\u001b[0m\u001b[0;34m\u001b[0m\u001b[0;34m\u001b[0m\u001b[0m\n\u001b[0;32m--> 298\u001b[0;31m     \u001b[0;32massert\u001b[0m \u001b[0mlen\u001b[0m\u001b[0;34m(\u001b[0m\u001b[0mbolds\u001b[0m\u001b[0;34m)\u001b[0m\u001b[0;34m==\u001b[0m\u001b[0mlen\u001b[0m\u001b[0;34m(\u001b[0m\u001b[0mmasks\u001b[0m\u001b[0;34m)\u001b[0m\u001b[0;34m>\u001b[0m\u001b[0;36m0\u001b[0m\u001b[0;34m,\u001b[0m \u001b[0;34m\"Input lists are not the same length!\"\u001b[0m \u001b[0;31m# used to also check for ==len(confounds)\u001b[0m\u001b[0;34m\u001b[0m\u001b[0;34m\u001b[0m\u001b[0m\n\u001b[0m\u001b[1;32m    299\u001b[0m     \u001b[0mTR\u001b[0m \u001b[0;34m=\u001b[0m \u001b[0mTRs\u001b[0m\u001b[0;34m[\u001b[0m\u001b[0;36m0\u001b[0m\u001b[0;34m]\u001b[0m\u001b[0;34m\u001b[0m\u001b[0;34m\u001b[0m\u001b[0m\n\u001b[1;32m    300\u001b[0m     \u001b[0;32mreturn\u001b[0m \u001b[0mbolds\u001b[0m\u001b[0;34m,\u001b[0m \u001b[0mmasks\u001b[0m\u001b[0;34m,\u001b[0m \u001b[0meventfiles\u001b[0m\u001b[0;34m,\u001b[0m \u001b[0mTR\u001b[0m\u001b[0;34m,\u001b[0m \u001b[0mconfounds\u001b[0m\u001b[0;34m\u001b[0m\u001b[0;34m\u001b[0m\u001b[0m\n",
      "\u001b[0;31mAssertionError\u001b[0m: Input lists are not the same length!"
     ]
    }
   ],
   "source": [
    "bolds, masks, eventfiles, TR, confounds = utils.get_files(sub, ses, task,\n",
    "    raw_data_dir, fmriprep_dir, run=runs)"
   ]
  },
  {
   "cell_type": "markdown",
   "metadata": {},
   "source": [
    "### GLM command"
   ]
  },
  {
   "cell_type": "code",
   "execution_count": 41,
   "metadata": {
    "ExecuteTime": {
     "end_time": "2020-08-27T01:17:18.027557Z",
     "start_time": "2020-08-27T01:17:17.901858Z"
    }
   },
   "outputs": [],
   "source": [
    "glm_command = f\"python glm_fixedeffects_level12.py {raw_data_dir} \\\n",
    "{out_dir} {sub} {ses} {task} T1w \\\"{runs}\\\"\""
   ]
  },
  {
   "cell_type": "code",
   "execution_count": 42,
   "metadata": {
    "ExecuteTime": {
     "end_time": "2020-08-27T01:17:19.409846Z",
     "start_time": "2020-08-27T01:17:19.318138Z"
    },
    "scrolled": true
   },
   "outputs": [
    {
     "name": "stdout",
     "output_type": "stream",
     "text": [
      "python glm_fixedeffects_level12.py /Users/smerdis/data/LGN/BIDS/NB_combined/sub-NB /Users/smerdis/data/LGN/BIDS/NB_combined/derivatives NB 20190205 hemi T1w \"[1, 3, 4]\"\n"
     ]
    }
   ],
   "source": [
    "print(glm_command)"
   ]
  },
  {
   "cell_type": "code",
   "execution_count": 31,
   "metadata": {
    "ExecuteTime": {
     "end_time": "2020-08-27T01:08:04.505034Z",
     "start_time": "2020-08-27T01:08:04.400407Z"
    }
   },
   "outputs": [
    {
     "name": "stdout",
     "output_type": "stream",
     "text": [
      "3\n",
      "/Users/smerdis/data/LGN/BIDS/NB_combined/derivatives/fmriprep/sub-NB/ses-20190205/func/sub-NB_ses-20190205_task-hemi_acq-sbiso_run-03_bold_space-T1w_preproc.nii.gz\n",
      "/Users/smerdis/data/LGN/BIDS/NB_combined/derivatives/fmriprep/sub-NB/ses-20190205/func/sub-NB_ses-20190205_task-hemi_acq-sbiso_run-03_bold_space-T1w_brainmask.nii.gz\n"
     ]
    }
   ],
   "source": [
    "# runs is a list containing the fmriprep run numbers we want to analyze\n",
    "# so run is the fmriprep run number, and run_idx is its position in runs\n",
    "run = 3\n",
    "if run not in runs:\n",
    "    print('Error, that run is not present for this task!')\n",
    "else:\n",
    "    run_idx = runs.index(run)\n",
    "    bold_file = bolds[run_idx]\n",
    "    mask_file = masks[run_idx]\n",
    "    print(run, bold_file, mask_file, sep=\"\\n\")"
   ]
  },
  {
   "cell_type": "code",
   "execution_count": 32,
   "metadata": {
    "ExecuteTime": {
     "end_time": "2020-08-27T01:08:09.899791Z",
     "start_time": "2020-08-27T01:08:09.800934Z"
    }
   },
   "outputs": [],
   "source": [
    "anat_file = os.path.join(fmriprep_dir, f\"sub-{sub}\", 'anat', f\"sub-{sub}_T1w_preproc.nii.gz\")\n",
    "#func = os.path.join(fmriprep_dir, bolds[0])\n",
    "#mROI = os.path.join(fmriprep_dir, f\"sub-{sub}/ses-{ses}/func/sub-{sub}_ses-{ses}_task-{task}_run-01_lLGN_roi_manual.nii.gz\")"
   ]
  },
  {
   "cell_type": "code",
   "execution_count": 33,
   "metadata": {
    "ExecuteTime": {
     "end_time": "2020-08-27T01:08:11.984934Z",
     "start_time": "2020-08-27T01:08:11.881523Z"
    }
   },
   "outputs": [
    {
     "name": "stdout",
     "output_type": "stream",
     "text": [
      "/Users/smerdis/data/LGN/BIDS/NB_combined/derivatives/nipype_NB_20190205_hemi/hemifield/modelfit/datasink\n"
     ]
    }
   ],
   "source": [
    "nipype_dir = f\"{out_dir}/nipype_{sub}_{ses}_{task}\"\n",
    "wf_dir = f\"{nipype_dir}/hemifield/modelfit\"\n",
    "datasink_dir = os.path.join(wf_dir, 'datasink')\n",
    "print(datasink_dir)"
   ]
  },
  {
   "cell_type": "code",
   "execution_count": 34,
   "metadata": {
    "ExecuteTime": {
     "end_time": "2020-08-27T01:08:14.068210Z",
     "start_time": "2020-08-27T01:08:13.821841Z"
    }
   },
   "outputs": [
    {
     "name": "stdout",
     "output_type": "stream",
     "text": [
      "_0x2c2a51c589ed82cad063ddb1e3b3395d.json\r\n",
      "_inputs.pklz\r\n",
      "_node.pklz\r\n",
      "\u001b[34m_report\u001b[m\u001b[m\r\n",
      "\u001b[34mdesign_file\u001b[m\u001b[m\r\n",
      "\u001b[34mdesign_image\u001b[m\u001b[m\r\n",
      "\u001b[34mepi_masked_trimmed\u001b[m\u001b[m\r\n",
      "result_datasink.pklz\r\n",
      "\u001b[34mresults_dir\u001b[m\u001b[m\r\n",
      "\u001b[34mstats_dir\u001b[m\u001b[m\r\n"
     ]
    }
   ],
   "source": [
    "!ls \"{datasink_dir}\""
   ]
  },
  {
   "cell_type": "code",
   "execution_count": 35,
   "metadata": {
    "ExecuteTime": {
     "end_time": "2020-08-27T01:08:15.471404Z",
     "start_time": "2020-08-27T01:08:15.215658Z"
    }
   },
   "outputs": [
    {
     "name": "stdout",
     "output_type": "stream",
     "text": [
      "\u001b[34m_modelestimate0\u001b[m\u001b[m \u001b[34m_modelestimate1\u001b[m\u001b[m \u001b[34m_modelestimate2\u001b[m\u001b[m\r\n"
     ]
    }
   ],
   "source": [
    "!ls \"{datasink_dir}/results_dir\""
   ]
  },
  {
   "cell_type": "markdown",
   "metadata": {},
   "source": [
    "### Filenames of other maps etc we want to overlay on our images"
   ]
  },
  {
   "cell_type": "code",
   "execution_count": 36,
   "metadata": {
    "ExecuteTime": {
     "end_time": "2020-08-27T01:08:18.897103Z",
     "start_time": "2020-08-27T01:08:18.773137Z"
    }
   },
   "outputs": [
    {
     "name": "stdout",
     "output_type": "stream",
     "text": [
      "/Users/smerdis/data/LGN/BIDS/NB_combined/derivatives/nipype_NB_20190205_hemi/seed_coherence_hemifield.nii\n"
     ]
    }
   ],
   "source": [
    "coh_fn = f\"{nipype_dir}/seed_coherence_hemifield.nii\"\n",
    "print(coh_fn)"
   ]
  },
  {
   "cell_type": "markdown",
   "metadata": {},
   "source": [
    "### View the contrast beta maps overlaid on the functional and anatomical images"
   ]
  },
  {
   "cell_type": "code",
   "execution_count": 37,
   "metadata": {
    "ExecuteTime": {
     "end_time": "2020-08-27T01:13:59.153754Z",
     "start_time": "2020-08-27T01:13:59.059231Z"
    }
   },
   "outputs": [],
   "source": [
    "contrasts = utils.get_contrasts(task)"
   ]
  },
  {
   "cell_type": "code",
   "execution_count": 38,
   "metadata": {
    "ExecuteTime": {
     "end_time": "2020-08-27T01:13:59.649496Z",
     "start_time": "2020-08-27T01:13:59.549945Z"
    }
   },
   "outputs": [
    {
     "data": {
      "text/plain": [
       "[['R-L', 'T', ['L', 'R'], [-1, 1]], ['L-R', 'T', ['L', 'R'], [1, -1]]]"
      ]
     },
     "execution_count": 38,
     "metadata": {},
     "output_type": "execute_result"
    }
   ],
   "source": [
    "contrasts"
   ]
  },
  {
   "cell_type": "code",
   "execution_count": 39,
   "metadata": {
    "ExecuteTime": {
     "end_time": "2020-08-27T01:14:30.398658Z",
     "start_time": "2020-08-27T01:14:30.306381Z"
    }
   },
   "outputs": [],
   "source": [
    "contrast_idx = 1 # position in the list of contrasts\n",
    "contrast = contrast_idx + 1 # suffix number of the level 1 COPE file for that contrast\n",
    "l1copes, l2copes = utils.get_model_outputs(datasink_dir, [contrast])"
   ]
  },
  {
   "cell_type": "code",
   "execution_count": 40,
   "metadata": {
    "ExecuteTime": {
     "end_time": "2020-08-27T01:14:30.994328Z",
     "start_time": "2020-08-27T01:14:30.903528Z"
    }
   },
   "outputs": [
    {
     "data": {
      "text/plain": [
       "['/Users/smerdis/data/LGN/BIDS/NB_combined/derivatives/nipype_NB_20190205_hemi/hemifield/modelfit/datasink/results_dir/_modelestimate0/results/cope2.nii.gz',\n",
       " '/Users/smerdis/data/LGN/BIDS/NB_combined/derivatives/nipype_NB_20190205_hemi/hemifield/modelfit/datasink/results_dir/_modelestimate1/results/cope2.nii.gz',\n",
       " '/Users/smerdis/data/LGN/BIDS/NB_combined/derivatives/nipype_NB_20190205_hemi/hemifield/modelfit/datasink/results_dir/_modelestimate2/results/cope2.nii.gz']"
      ]
     },
     "execution_count": 40,
     "metadata": {},
     "output_type": "execute_result"
    }
   ],
   "source": [
    "l1copes"
   ]
  },
  {
   "cell_type": "code",
   "execution_count": 20,
   "metadata": {
    "ExecuteTime": {
     "end_time": "2019-10-29T15:37:45.866772Z",
     "start_time": "2019-10-29T15:37:45.808088Z"
    }
   },
   "outputs": [
    {
     "data": {
      "text/plain": [
       "['/Users/smerdis/data/LGN/BIDS/NB_combined/derivatives/nipype_NB_20190205_hemi/hemifield/modelfit/datasink/stats_dir/_flameo2/stats/cope1.nii.gz']"
      ]
     },
     "execution_count": 20,
     "metadata": {},
     "output_type": "execute_result"
    }
   ],
   "source": [
    "l2copes"
   ]
  },
  {
   "cell_type": "code",
   "execution_count": 21,
   "metadata": {
    "ExecuteTime": {
     "end_time": "2019-10-29T15:37:49.508038Z",
     "start_time": "2019-10-29T15:37:49.451709Z"
    }
   },
   "outputs": [
    {
     "data": {
      "text/plain": [
       "'fsleyes /Users/smerdis/data/LGN/BIDS/NB_combined/derivatives/fmriprep/sub-NB/anat/sub-NB_T1w_preproc.nii.gz /Users/smerdis/data/LGN/BIDS/NB_combined/derivatives/fmriprep/sub-NB/ses-20190205/func/sub-NB_ses-20190205_task-hemi_acq-sbiso_run-03_bold_space-T1w_preproc.nii.gz  /Users/smerdis/data/LGN/BIDS/NB_combined/derivatives/nipype_NB_20190205_hemi/hemifield/modelfit/datasink/results_dir/_modelestimate0/results/cope3.nii.gz /Users/smerdis/data/LGN/BIDS/NB_combined/derivatives/nipype_NB_20190205_hemi/hemifield/modelfit/datasink/results_dir/_modelestimate1/results/cope3.nii.gz /Users/smerdis/data/LGN/BIDS/NB_combined/derivatives/nipype_NB_20190205_hemi/hemifield/modelfit/datasink/results_dir/_modelestimate2/results/cope3.nii.gz /Users/smerdis/data/LGN/BIDS/NB_combined/derivatives/nipype_NB_20190205_hemi/hemifield/modelfit/datasink/stats_dir/_flameo2/stats/cope1.nii.gz'"
      ]
     },
     "execution_count": 21,
     "metadata": {},
     "output_type": "execute_result"
    }
   ],
   "source": [
    "utils.view_results(datasink_dir, [contrast], anat_file, bold_file)"
   ]
  },
  {
   "cell_type": "code",
   "execution_count": 23,
   "metadata": {
    "ExecuteTime": {
     "end_time": "2019-10-29T15:38:42.597839Z",
     "start_time": "2019-10-29T15:38:42.541314Z"
    }
   },
   "outputs": [
    {
     "name": "stdout",
     "output_type": "stream",
     "text": [
      "fsleyes /Users/smerdis/data/LGN/BIDS/NB_combined/derivatives/fmriprep/sub-NB/anat/sub-NB_T1w_preproc.nii.gz /Users/smerdis/data/LGN/BIDS/NB_combined/derivatives/fmriprep/sub-NB/ses-20190205/func/sub-NB_ses-20190205_task-hemi_acq-sbiso_run-03_bold_space-T1w_preproc.nii.gz  /Users/smerdis/data/LGN/BIDS/NB_combined/derivatives/nipype_NB_20190205_hemi/hemifield/modelfit/datasink/results_dir/_modelestimate0/results/cope3.nii.gz /Users/smerdis/data/LGN/BIDS/NB_combined/derivatives/nipype_NB_20190205_hemi/hemifield/modelfit/datasink/results_dir/_modelestimate1/results/cope3.nii.gz /Users/smerdis/data/LGN/BIDS/NB_combined/derivatives/nipype_NB_20190205_hemi/hemifield/modelfit/datasink/results_dir/_modelestimate2/results/cope3.nii.gz /Users/smerdis/data/LGN/BIDS/NB_combined/derivatives/nipype_NB_20190205_hemi/hemifield/modelfit/datasink/stats_dir/_flameo2/stats/cope1.nii.gz /Users/smerdis/data/LGN/BIDS/NB_combined/derivatives/nipype_NB_20190205_hemi/seed_coherence_hemifield.nii\n"
     ]
    }
   ],
   "source": [
    "print(f\"{utils.view_results(datasink_dir, [3], anat_file, bold_file)} {coh_fn}\") # R-L"
   ]
  },
  {
   "cell_type": "code",
   "execution_count": 41,
   "metadata": {
    "ExecuteTime": {
     "end_time": "2019-09-17T20:23:03.116366Z",
     "start_time": "2019-09-17T20:23:03.043709Z"
    }
   },
   "outputs": [
    {
     "name": "stdout",
     "output_type": "stream",
     "text": [
      "fsleyes /Users/smerdis/data/LGN/BIDS/NB_combined/derivatives/fmriprep/sub-NB/anat/sub-NB_T1w_preproc.nii.gz /Users/smerdis/data/LGN/BIDS/NB_combined/derivatives/fmriprep/sub-NB/ses-20190205/func/sub-NB_ses-20190205_task-hemi_acq-sbiso_run-03_bold_space-T1w_preproc.nii.gz /Users/smerdis/data/LGN/BIDS/NB_combined/derivatives/nipype_NB_20190205_hemi/hemifield/modelfit/datasink/results_dir/_modelestimate1/results/cope3.nii.gz /Users/smerdis/data/LGN/BIDS/NB_combined/derivatives/nipype_NB_20190205_hemi/hemifield/modelfit/datasink/results_dir/_modelestimate1/results/tstat3.nii.gz /Users/smerdis/data/LGN/BIDS/NB_combined/derivatives/nipype_NB_20190205_hemi/seed_coherence_hemifield.nii\n"
     ]
    }
   ],
   "source": [
    "print(f\"fsleyes /Users/smerdis/data/LGN/BIDS/NB_combined/derivatives/fmriprep/sub-NB/anat/sub-NB_T1w_preproc.nii.gz \\\n",
    "/Users/smerdis/data/LGN/BIDS/NB_combined/derivatives/fmriprep/sub-NB/ses-20190205/func/sub-NB_ses-20190205_task-hemi_acq-sbiso_run-03_bold_space-T1w_preproc.nii.gz \\\n",
    "/Users/smerdis/data/LGN/BIDS/NB_combined/derivatives/nipype_NB_20190205_hemi/hemifield/modelfit/datasink/results_dir/_modelestimate1/results/cope3.nii.gz \\\n",
    "/Users/smerdis/data/LGN/BIDS/NB_combined/derivatives/nipype_NB_20190205_hemi/hemifield/modelfit/datasink/results_dir/_modelestimate1/results/tstat3.nii.gz \\\n",
    "/Users/smerdis/data/LGN/BIDS/NB_combined/derivatives/nipype_NB_20190205_hemi/seed_coherence_hemifield.nii\")"
   ]
  },
  {
   "cell_type": "markdown",
   "metadata": {},
   "source": [
    "### View these files using nilearn tools"
   ]
  },
  {
   "cell_type": "markdown",
   "metadata": {},
   "source": [
    "#### First establish some coordinates to view at"
   ]
  },
  {
   "cell_type": "code",
   "execution_count": 26,
   "metadata": {
    "ExecuteTime": {
     "end_time": "2019-08-29T14:40:08.346310Z",
     "start_time": "2019-08-29T14:40:08.282661Z"
    }
   },
   "outputs": [],
   "source": [
    "# cut in x-direction\n",
    "sagittal = 43\n",
    "# cut in y-direction\n",
    "coronal = 27\n",
    "# cut in z-direction\n",
    "axial = -2\n",
    "\n",
    "# coordinates displaying should be prepared as a list\n",
    "cut_coords = [sagittal, coronal, axial]"
   ]
  },
  {
   "cell_type": "markdown",
   "metadata": {},
   "source": [
    "#### Now begin plotting"
   ]
  },
  {
   "cell_type": "code",
   "execution_count": 26,
   "metadata": {
    "ExecuteTime": {
     "end_time": "2020-08-21T20:49:15.515944Z",
     "start_time": "2020-08-21T20:49:15.444653Z"
    }
   },
   "outputs": [
    {
     "ename": "NameError",
     "evalue": "name 'bold_file' is not defined",
     "output_type": "error",
     "traceback": [
      "\u001b[0;31m---------------------------------------------------------------------------\u001b[0m",
      "\u001b[0;31mNameError\u001b[0m                                 Traceback (most recent call last)",
      "\u001b[0;32m<ipython-input-26-f3b9239daa32>\u001b[0m in \u001b[0;36m<module>\u001b[0;34m\u001b[0m\n\u001b[0;32m----> 1\u001b[0;31m \u001b[0mmean_bold\u001b[0m \u001b[0;34m=\u001b[0m \u001b[0mmean_img\u001b[0m\u001b[0;34m(\u001b[0m\u001b[0mbold_file\u001b[0m\u001b[0;34m)\u001b[0m\u001b[0;34m\u001b[0m\u001b[0;34m\u001b[0m\u001b[0m\n\u001b[0m\u001b[1;32m      2\u001b[0m \u001b[0mplot_epi\u001b[0m\u001b[0;34m(\u001b[0m\u001b[0mmean_bold\u001b[0m\u001b[0;34m,\u001b[0m \u001b[0mtitle\u001b[0m\u001b[0;34m=\u001b[0m\u001b[0;34mf\"Mean of BOLD run {run} of task {task}\"\u001b[0m\u001b[0;34m,\u001b[0m \u001b[0mcut_coords\u001b[0m\u001b[0;34m=\u001b[0m\u001b[0mcut_coords\u001b[0m\u001b[0;34m)\u001b[0m\u001b[0;34m\u001b[0m\u001b[0;34m\u001b[0m\u001b[0m\n",
      "\u001b[0;31mNameError\u001b[0m: name 'bold_file' is not defined"
     ]
    }
   ],
   "source": [
    "mean_bold = mean_img(bold_file)\n",
    "plot_epi(mean_bold, title=f\"Mean of BOLD run {run} of task {task}\", cut_coords=cut_coords)"
   ]
  },
  {
   "cell_type": "code",
   "execution_count": 28,
   "metadata": {
    "ExecuteTime": {
     "end_time": "2019-08-29T14:40:13.810996Z",
     "start_time": "2019-08-29T14:40:12.626827Z"
    }
   },
   "outputs": [
    {
     "data": {
      "text/plain": [
       "<nilearn.plotting.displays.OrthoSlicer at 0x1c27287f98>"
      ]
     },
     "execution_count": 28,
     "metadata": {},
     "output_type": "execute_result"
    },
    {
     "data": {
      "image/png": "[encoded data removed]",
      "text/plain": [
       "<Figure size 475.2x187.2 with 4 Axes>"
      ]
     },
     "metadata": {},
     "output_type": "display_data"
    }
   ],
   "source": [
    "plot_roi(mask_file, mean_bold, title=f\"Brainmask of BOLD run {run} of task {task}\")"
   ]
  },
  {
   "cell_type": "code",
   "execution_count": 29,
   "metadata": {
    "ExecuteTime": {
     "end_time": "2019-08-29T14:40:17.197675Z",
     "start_time": "2019-08-29T14:40:13.823554Z"
    }
   },
   "outputs": [
    {
     "data": {
      "image/png": "[encoded data removed]",
      "text/plain": [
       "<Figure size 525.6x187.2 with 5 Axes>"
      ]
     },
     "metadata": {},
     "output_type": "display_data"
    },
    {
     "data": {
      "image/png": "[encoded data removed]",
      "text/plain": [
       "<Figure size 525.6x187.2 with 5 Axes>"
      ]
     },
     "metadata": {},
     "output_type": "display_data"
    },
    {
     "data": {
      "image/png": "[encoded data removed]",
      "text/plain": [
       "<Figure size 525.6x187.2 with 5 Axes>"
      ]
     },
     "metadata": {},
     "output_type": "display_data"
    }
   ],
   "source": [
    "for l1cope in l1copes:\n",
    "    plot_stat_map(l1cope, mean_bold,\n",
    "        title=f\"Level 1 COPE for contrast {contrast} of task {task}\",\n",
    "        threshold=10, cut_coords=cut_coords, colorbar=True)"
   ]
  },
  {
   "cell_type": "code",
   "execution_count": 30,
   "metadata": {
    "ExecuteTime": {
     "end_time": "2019-08-29T14:40:18.187363Z",
     "start_time": "2019-08-29T14:40:17.201018Z"
    }
   },
   "outputs": [
    {
     "data": {
      "text/plain": [
       "<nilearn.plotting.displays.OrthoSlicer at 0x1c2723c048>"
      ]
     },
     "execution_count": 30,
     "metadata": {},
     "output_type": "execute_result"
    },
    {
     "data": {
      "image/png": "[encoded data removed]",
      "text/plain": [
       "<Figure size 525.6x187.2 with 5 Axes>"
      ]
     },
     "metadata": {},
     "output_type": "display_data"
    }
   ],
   "source": [
    "plot_stat_map(l2copes[0], mean_bold,\n",
    "    title=f\"Level 2 COPE for contrast {contrast} of task {task}\",\n",
    "    threshold=10, cut_coords=[2, -5, -2])"
   ]
  },
  {
   "cell_type": "markdown",
   "metadata": {},
   "source": [
    "### LGN region drawing/manipulation!"
   ]
  },
  {
   "cell_type": "code",
   "execution_count": 24,
   "metadata": {
    "ExecuteTime": {
     "end_time": "2020-08-21T20:49:09.084766Z",
     "start_time": "2020-08-21T20:49:09.026425Z"
    }
   },
   "outputs": [],
   "source": [
    "manual_roi = f\"{out_dir}/sub-NB_R-LGN_mask_manual.nii.gz\""
   ]
  },
  {
   "cell_type": "code",
   "execution_count": 25,
   "metadata": {
    "ExecuteTime": {
     "end_time": "2020-08-21T20:49:09.639027Z",
     "start_time": "2020-08-21T20:49:09.568732Z"
    }
   },
   "outputs": [
    {
     "ename": "NameError",
     "evalue": "name 'mean_bold' is not defined",
     "output_type": "error",
     "traceback": [
      "\u001b[0;31m---------------------------------------------------------------------------\u001b[0m",
      "\u001b[0;31mNameError\u001b[0m                                 Traceback (most recent call last)",
      "\u001b[0;32m<ipython-input-25-80ce76df69d3>\u001b[0m in \u001b[0;36m<module>\u001b[0;34m\u001b[0m\n\u001b[0;32m----> 1\u001b[0;31m \u001b[0mplot_roi\u001b[0m\u001b[0;34m(\u001b[0m\u001b[0mmanual_roi\u001b[0m\u001b[0;34m,\u001b[0m \u001b[0mmean_bold\u001b[0m\u001b[0;34m,\u001b[0m \u001b[0mtitle\u001b[0m\u001b[0;34m=\u001b[0m\u001b[0;34mf\"Manual LGN mask\"\u001b[0m\u001b[0;34m)\u001b[0m\u001b[0;34m\u001b[0m\u001b[0;34m\u001b[0m\u001b[0m\n\u001b[0m",
      "\u001b[0;31mNameError\u001b[0m: name 'mean_bold' is not defined"
     ]
    }
   ],
   "source": [
    "plot_roi(manual_roi, mean_bold, title=f\"Manual LGN mask\")"
   ]
  },
  {
   "cell_type": "code",
   "execution_count": 33,
   "metadata": {
    "ExecuteTime": {
     "end_time": "2019-08-29T14:40:19.294153Z",
     "start_time": "2019-08-29T14:40:19.171365Z"
    }
   },
   "outputs": [
    {
     "data": {
      "text/plain": [
       "(84, 102, 82)"
      ]
     },
     "execution_count": 33,
     "metadata": {},
     "output_type": "execute_result"
    }
   ],
   "source": [
    "r_lgn_mask_manual = load_img(manual_roi).get_data().astype(bool)\n",
    "r_lgn_mask_manual.shape"
   ]
  },
  {
   "cell_type": "markdown",
   "metadata": {
    "collapsed": true
   },
   "source": [
    "## Coherence analysis to identify LGN voxels responding at flicker frequency"
   ]
  },
  {
   "cell_type": "markdown",
   "metadata": {
    "heading_collapsed": true
   },
   "source": [
    "### raw nibabel"
   ]
  },
  {
   "cell_type": "code",
   "execution_count": null,
   "metadata": {
    "hidden": true
   },
   "outputs": [],
   "source": [
    "img = nib.load(bold_file)"
   ]
  },
  {
   "cell_type": "code",
   "execution_count": null,
   "metadata": {
    "hidden": true
   },
   "outputs": [],
   "source": [
    "print(img.header)"
   ]
  },
  {
   "cell_type": "code",
   "execution_count": null,
   "metadata": {
    "hidden": true
   },
   "outputs": [],
   "source": [
    "img_data = img.get_fdata()"
   ]
  },
  {
   "cell_type": "code",
   "execution_count": null,
   "metadata": {
    "hidden": true
   },
   "outputs": [],
   "source": [
    "plt.imshow(img_data[26, :, :, 44].T, cmap=\"gray\", origin=\"lower\")"
   ]
  },
  {
   "cell_type": "code",
   "execution_count": null,
   "metadata": {
    "hidden": true
   },
   "outputs": [],
   "source": [
    "nvox = img.shape[0] * img.shape[1] * img.shape[2]"
   ]
  },
  {
   "cell_type": "code",
   "execution_count": null,
   "metadata": {
    "hidden": true
   },
   "outputs": [],
   "source": [
    "n_timepoints = img.shape[-1]"
   ]
  },
  {
   "cell_type": "code",
   "execution_count": null,
   "metadata": {
    "hidden": true
   },
   "outputs": [],
   "source": [
    "print(nvox, n_timepoints)"
   ]
  },
  {
   "cell_type": "code",
   "execution_count": null,
   "metadata": {
    "hidden": true
   },
   "outputs": [],
   "source": [
    "img_flat = np.reshape(img_data, (nvox, -1))"
   ]
  },
  {
   "cell_type": "code",
   "execution_count": null,
   "metadata": {
    "hidden": true
   },
   "outputs": [],
   "source": [
    "img_flat[:10, 0]"
   ]
  },
  {
   "cell_type": "code",
   "execution_count": null,
   "metadata": {
    "hidden": true
   },
   "outputs": [],
   "source": [
    "#TR = 2.25 # seconds\n",
    "freq = 4 # Hz\n",
    "total_len = img.shape[-1]*TR # seconds\n",
    "fig, ax = plt.subplots(1)\n",
    "t = np.arange(0.0, total_len, 0.05)\n",
    "sinusoid = np.sin(freq*2*np.pi*t)\n",
    "print(sinusoid.shape)\n",
    "\n",
    "ax.set_xlim(0, 8)\n",
    "ax.plot(t, sinusoid)"
   ]
  },
  {
   "cell_type": "code",
   "execution_count": null,
   "metadata": {
    "hidden": true
   },
   "outputs": [],
   "source": [
    "2.25*139"
   ]
  },
  {
   "cell_type": "markdown",
   "metadata": {},
   "source": [
    "### Begin coherence analysis in nitime"
   ]
  },
  {
   "cell_type": "code",
   "execution_count": 32,
   "metadata": {
    "ExecuteTime": {
     "end_time": "2019-08-22T15:50:34.774437Z",
     "start_time": "2019-08-22T15:50:34.520720Z"
    }
   },
   "outputs": [
    {
     "name": "stdout",
     "output_type": "stream",
     "text": [
      "0.037037037037037035\n",
      "[  0.     2.25   4.5    6.75   9.    11.25  13.5   15.75  18.    20.25\n",
      "  22.5   24.75  27.    29.25  31.5   33.75  36.    38.25  40.5   42.75\n",
      "  45.    47.25  49.5   51.75  54.    56.25  58.5   60.75  63.    65.25\n",
      "  67.5   69.75  72.    74.25  76.5   78.75  81.    83.25  85.5   87.75\n",
      "  90.    92.25  94.5   96.75  99.   101.25 103.5  105.75 108.   110.25\n",
      " 112.5  114.75 117.   119.25 121.5  123.75 126.   128.25 130.5  132.75\n",
      " 135.   137.25 139.5  141.75 144.   146.25 148.5  150.75 153.   155.25\n",
      " 157.5  159.75 162.   164.25 166.5  168.75 171.   173.25 175.5  177.75\n",
      " 180.   182.25 184.5  186.75 189.   191.25 193.5  195.75 198.   200.25\n",
      " 202.5  204.75 207.   209.25 211.5  213.75 216.   218.25 220.5  222.75\n",
      " 225.   227.25 229.5  231.75 234.   236.25 238.5  240.75 243.   245.25\n",
      " 247.5  249.75 252.   254.25 256.5  258.75 261.   263.25 265.5  267.75\n",
      " 270.   272.25 274.5  276.75 279.   281.25 283.5  285.75 288.   290.25\n",
      " 292.5  294.75 297.   299.25 301.5  303.75 306.   308.25 310.5 ] (139,)\n"
     ]
    },
    {
     "data": {
      "text/plain": [
       "[<matplotlib.lines.Line2D at 0x1c1a37c160>]"
      ]
     },
     "execution_count": 32,
     "metadata": {},
     "output_type": "execute_result"
    },
    {
     "data": {
      "image/png": "[encoded data removed]",
      "text/plain": [
       "<Figure size 432x288 with 1 Axes>"
      ]
     },
     "metadata": {
      "needs_background": "light"
     },
     "output_type": "display_data"
    }
   ],
   "source": [
    "cycle_duration = 27 # (should be 27s)\n",
    "hemi_freq = (1.0/cycle_duration) # of hemifield alternation, in hertz\n",
    "n_trs_func = 139 # Length, in TRs, on a functional scan\n",
    "total_len = n_trs_func*TR # seconds\n",
    "\n",
    "f_lb = 0.02\n",
    "f_ub = 0.15\n",
    "\n",
    "print(hemi_freq)\n",
    "\n",
    "t = np.arange(0.0, total_len, TR)\n",
    "hemifield_alternation_sinusoid = np.sin(hemi_freq*2*np.pi*t)\n",
    "print(t, hemifield_alternation_sinusoid.shape)\n",
    "\n",
    "fig, ax = plt.subplots(1)\n",
    "ax.set_xlim(0, 50)\n",
    "ax.plot(t, hemifield_alternation_sinusoid)"
   ]
  },
  {
   "cell_type": "code",
   "execution_count": 33,
   "metadata": {
    "ExecuteTime": {
     "end_time": "2019-08-22T15:50:50.843955Z",
     "start_time": "2019-08-22T15:50:50.783494Z"
    }
   },
   "outputs": [],
   "source": [
    "hemi_ts = ts.TimeSeries(data=hemifield_alternation_sinusoid,\n",
    "                         sampling_interval=TR)"
   ]
  },
  {
   "cell_type": "code",
   "execution_count": 34,
   "metadata": {
    "ExecuteTime": {
     "end_time": "2019-08-22T15:50:57.900847Z",
     "start_time": "2019-08-22T15:50:57.829713Z"
    }
   },
   "outputs": [
    {
     "data": {
      "text/plain": [
       "((139,), 2.25 s)"
      ]
     },
     "execution_count": 34,
     "metadata": {},
     "output_type": "execute_result"
    }
   ],
   "source": [
    "hemi_ts.shape, hemi_ts.sampling_interval"
   ]
  },
  {
   "cell_type": "markdown",
   "metadata": {},
   "source": [
    "#### Using NiftiMasker"
   ]
  },
  {
   "cell_type": "code",
   "execution_count": 36,
   "metadata": {
    "ExecuteTime": {
     "end_time": "2019-08-22T15:51:42.485515Z",
     "start_time": "2019-08-22T15:51:37.633013Z"
    }
   },
   "outputs": [],
   "source": [
    "masker = NiftiMasker(mask_img=mask_file, standardize=False, mask_strategy=\"epi\")\n",
    "masked_bold_nm = masker.fit_transform(bold_file)"
   ]
  },
  {
   "cell_type": "code",
   "execution_count": 37,
   "metadata": {
    "ExecuteTime": {
     "end_time": "2019-08-22T15:51:43.990390Z",
     "start_time": "2019-08-22T15:51:43.923942Z"
    }
   },
   "outputs": [
    {
     "data": {
      "text/plain": [
       "(139, 116960)"
      ]
     },
     "execution_count": 37,
     "metadata": {},
     "output_type": "execute_result"
    }
   ],
   "source": [
    "masked_bold_nm.shape"
   ]
  },
  {
   "cell_type": "markdown",
   "metadata": {
    "heading_collapsed": true
   },
   "source": [
    "### figure out how to mask the whole bold timeseries with an roi\n",
    "\n",
    " * write a function to mask an ndarray of bold data wwith a binary ROI mask\n",
    "   * fsl ApplyMask() through nipype etc?\n",
    "     * just write it in the notebook at first\n",
    "     * but eventually this should run on nipype so it can be deployed on the server\n",
    " * apply this to each specified run and return the timeseries\n",
    " * do the coherence graphs and calculate coherence for all the voxels"
   ]
  },
  {
   "cell_type": "code",
   "execution_count": null,
   "metadata": {
    "hidden": true
   },
   "outputs": [],
   "source": [
    "import nipype.interfaces.fsl as fsl"
   ]
  },
  {
   "cell_type": "code",
   "execution_count": null,
   "metadata": {
    "hidden": true
   },
   "outputs": [],
   "source": [
    "print(f\"python mask_lgn.py \\\n",
    "/Users/smerdis/data/LGN/BIDS/NB_combined/sub-NB \\\n",
    "/Users/smerdis/data/LGN/BIDS/NB_combined/derivatives \\\n",
    "NB 20190205 hemi T1w \\\"[1]\\\"\")"
   ]
  },
  {
   "cell_type": "code",
   "execution_count": null,
   "metadata": {
    "hidden": true
   },
   "outputs": [],
   "source": [
    "masked_bold = f\"/Users/smerdis/data/LGN/BIDS/NB_combined/derivatives/nipype_NB_20190205_hemi/\\\n",
    "masking/masker/datasink/epi_masked/_applymask0/\\\n",
    "sub-NB_ses-20190205_task-hemi_acq-sbiso_run-01_bold_space-T1w_preproc_masked.nii.gz\""
   ]
  },
  {
   "cell_type": "code",
   "execution_count": null,
   "metadata": {
    "hidden": true
   },
   "outputs": [],
   "source": [
    "print(masked_bold)"
   ]
  },
  {
   "cell_type": "markdown",
   "metadata": {},
   "source": [
    "### begin coherence stuff"
   ]
  },
  {
   "cell_type": "markdown",
   "metadata": {
    "heading_collapsed": true
   },
   "source": [
    "#### dummy stuff to see how coherence works"
   ]
  },
  {
   "cell_type": "code",
   "execution_count": null,
   "metadata": {
    "hidden": true
   },
   "outputs": [],
   "source": [
    "timepad = np.pad(hemifield_alternation_sinusoid, (3,0), 'constant',\n",
    "                 constant_values=(0,0))[:hemifield_alternation_sinusoid.shape[0]]\n",
    "timepad2 = np.pad(hemifield_alternation_sinusoid, (6,0), 'constant',\n",
    "                 constant_values=(0,0))[:hemifield_alternation_sinusoid.shape[0]]\n",
    "timepad3 = np.pad(hemifield_alternation_sinusoid, (8,0), 'constant',\n",
    "                 constant_values=(0,0))[:hemifield_alternation_sinusoid.shape[0]]"
   ]
  },
  {
   "cell_type": "code",
   "execution_count": null,
   "metadata": {
    "hidden": true
   },
   "outputs": [],
   "source": [
    "fig, ax = plt.subplots(1)\n",
    "ax.set_xlim(0, 50)\n",
    "ax.plot(t, hemifield_alternation_sinusoid)\n",
    "ax.plot(t, timepad)\n",
    "ax.plot(t, timepad2)\n",
    "ax.plot(t, timepad3)"
   ]
  },
  {
   "cell_type": "markdown",
   "metadata": {},
   "source": [
    "#### analyze the real fmri data"
   ]
  },
  {
   "cell_type": "code",
   "execution_count": 38,
   "metadata": {
    "ExecuteTime": {
     "end_time": "2019-08-22T15:52:07.564882Z",
     "start_time": "2019-08-22T15:52:07.507276Z"
    }
   },
   "outputs": [],
   "source": [
    "masked_ts_flat = masked_bold_nm.T # want nvox, n_tp so transpose NiftiMasker result"
   ]
  },
  {
   "cell_type": "code",
   "execution_count": 7,
   "metadata": {
    "ExecuteTime": {
     "end_time": "2020-08-21T19:25:33.446219Z",
     "start_time": "2020-08-21T19:25:33.151968Z"
    }
   },
   "outputs": [
    {
     "ename": "NameError",
     "evalue": "name 't' is not defined",
     "output_type": "error",
     "traceback": [
      "\u001b[0;31m---------------------------------------------------------------------------\u001b[0m",
      "\u001b[0;31mNameError\u001b[0m                                 Traceback (most recent call last)",
      "\u001b[0;32m<ipython-input-7-6e8521113dc2>\u001b[0m in \u001b[0;36m<module>\u001b[0;34m\u001b[0m\n\u001b[1;32m      1\u001b[0m \u001b[0mfig\u001b[0m\u001b[0;34m,\u001b[0m \u001b[0max\u001b[0m \u001b[0;34m=\u001b[0m \u001b[0mplt\u001b[0m\u001b[0;34m.\u001b[0m\u001b[0msubplots\u001b[0m\u001b[0;34m(\u001b[0m\u001b[0;36m1\u001b[0m\u001b[0;34m)\u001b[0m\u001b[0;34m\u001b[0m\u001b[0;34m\u001b[0m\u001b[0m\n\u001b[1;32m      2\u001b[0m \u001b[0max\u001b[0m\u001b[0;34m.\u001b[0m\u001b[0mset_xlim\u001b[0m\u001b[0;34m(\u001b[0m\u001b[0;36m0\u001b[0m\u001b[0;34m,\u001b[0m \u001b[0;36m315\u001b[0m\u001b[0;34m)\u001b[0m\u001b[0;34m\u001b[0m\u001b[0;34m\u001b[0m\u001b[0m\n\u001b[0;32m----> 3\u001b[0;31m \u001b[0max\u001b[0m\u001b[0;34m.\u001b[0m\u001b[0mplot\u001b[0m\u001b[0;34m(\u001b[0m\u001b[0mt\u001b[0m\u001b[0;34m,\u001b[0m \u001b[0mhemifield_alternation_sinusoid\u001b[0m\u001b[0;34m)\u001b[0m\u001b[0;34m\u001b[0m\u001b[0;34m\u001b[0m\u001b[0m\n\u001b[0m\u001b[1;32m      4\u001b[0m \u001b[0max\u001b[0m\u001b[0;34m.\u001b[0m\u001b[0mplot\u001b[0m\u001b[0;34m(\u001b[0m\u001b[0mt\u001b[0m\u001b[0;34m,\u001b[0m \u001b[0mmasked_ts_flat\u001b[0m\u001b[0;34m[\u001b[0m\u001b[0;36m32\u001b[0m\u001b[0;34m,\u001b[0m \u001b[0;34m:\u001b[0m\u001b[0;34m]\u001b[0m\u001b[0;34m)\u001b[0m\u001b[0;34m\u001b[0m\u001b[0;34m\u001b[0m\u001b[0m\n\u001b[1;32m      5\u001b[0m \u001b[0max\u001b[0m\u001b[0;34m.\u001b[0m\u001b[0mplot\u001b[0m\u001b[0;34m(\u001b[0m\u001b[0mt\u001b[0m\u001b[0;34m,\u001b[0m \u001b[0mmasked_ts_flat\u001b[0m\u001b[0;34m[\u001b[0m\u001b[0;36m11513\u001b[0m\u001b[0;34m,\u001b[0m \u001b[0;34m:\u001b[0m\u001b[0;34m]\u001b[0m\u001b[0;34m)\u001b[0m\u001b[0;34m\u001b[0m\u001b[0;34m\u001b[0m\u001b[0m\n",
      "\u001b[0;31mNameError\u001b[0m: name 't' is not defined"
     ]
    },
    {
     "data": {
      "image/png": "[encoded data removed]",
      "text/plain": [
       "<Figure size 432x288 with 1 Axes>"
      ]
     },
     "metadata": {
      "needs_background": "light"
     },
     "output_type": "display_data"
    }
   ],
   "source": [
    "fig, ax = plt.subplots(1)\n",
    "ax.set_xlim(0, 315)\n",
    "ax.plot(t, hemifield_alternation_sinusoid)\n",
    "ax.plot(t, masked_ts_flat[32, :])\n",
    "ax.plot(t, masked_ts_flat[11513, :])\n",
    "#ax.plot(t, masked_ts_flat[546434, :])"
   ]
  },
  {
   "cell_type": "markdown",
   "metadata": {
    "heading_collapsed": true
   },
   "source": [
    "#### Correlation and Coherence"
   ]
  },
  {
   "cell_type": "code",
   "execution_count": null,
   "metadata": {
    "hidden": true
   },
   "outputs": [],
   "source": [
    "full_stim = np.vstack((hemifield_alternation_sinusoid, masked_ts_flat[:1000,:]))"
   ]
  },
  {
   "cell_type": "code",
   "execution_count": null,
   "metadata": {
    "hidden": true
   },
   "outputs": [],
   "source": [
    "full_stim.shape"
   ]
  },
  {
   "cell_type": "code",
   "execution_count": null,
   "metadata": {
    "hidden": true
   },
   "outputs": [],
   "source": [
    "test_ts = ts.TimeSeries(full_stim, sampling_interval=TR)"
   ]
  },
  {
   "cell_type": "code",
   "execution_count": null,
   "metadata": {
    "hidden": true
   },
   "outputs": [],
   "source": [
    "cr1 = nta.CorrelationAnalyzer(test_ts)\n",
    "print(cr1.corrcoef)\n",
    "ntv.drawmatrix_channels(cr1.corrcoef, color_anchor=0)"
   ]
  },
  {
   "cell_type": "code",
   "execution_count": null,
   "metadata": {
    "hidden": true
   },
   "outputs": [],
   "source": [
    "ch1 = nta.CoherenceAnalyzer(test_ts)\n",
    "#physiologically relevant freq band\n",
    "freq_idx = np.where((ch1.frequencies > 0.02) * (ch1.frequencies < 0.15))[0]\n",
    "coh = np.mean(ch1.coherence[:,:,freq_idx], -1)\n",
    "coh"
   ]
  },
  {
   "cell_type": "code",
   "execution_count": null,
   "metadata": {
    "hidden": true
   },
   "outputs": [],
   "source": [
    "fig03 = ntv.drawmatrix_channels(coh)"
   ]
  },
  {
   "cell_type": "code",
   "execution_count": null,
   "metadata": {
    "hidden": true
   },
   "outputs": [],
   "source": [
    "ch1.phase[0,1]"
   ]
  },
  {
   "cell_type": "markdown",
   "metadata": {},
   "source": [
    "#### SeedCoherenceAnalyzer"
   ]
  },
  {
   "cell_type": "code",
   "execution_count": 40,
   "metadata": {
    "ExecuteTime": {
     "end_time": "2019-08-22T15:52:22.690199Z",
     "start_time": "2019-08-22T15:52:22.619554Z"
    }
   },
   "outputs": [
    {
     "data": {
      "text/plain": [
       "2.25 s"
      ]
     },
     "execution_count": 40,
     "metadata": {},
     "output_type": "execute_result"
    }
   ],
   "source": [
    "hemi_ts.sampling_interval"
   ]
  },
  {
   "cell_type": "code",
   "execution_count": 41,
   "metadata": {
    "ExecuteTime": {
     "end_time": "2019-08-22T15:52:24.001066Z",
     "start_time": "2019-08-22T15:52:23.939536Z"
    }
   },
   "outputs": [],
   "source": [
    "bold_flat = ts.TimeSeries(masked_ts_flat[:, :], sampling_interval=TR)"
   ]
  },
  {
   "cell_type": "code",
   "execution_count": 42,
   "metadata": {
    "ExecuteTime": {
     "end_time": "2019-08-22T15:52:31.859145Z",
     "start_time": "2019-08-22T15:52:31.801246Z"
    }
   },
   "outputs": [],
   "source": [
    "n_seeds = 1"
   ]
  },
  {
   "cell_type": "code",
   "execution_count": 43,
   "metadata": {
    "ExecuteTime": {
     "end_time": "2019-08-22T15:52:53.399907Z",
     "start_time": "2019-08-22T15:52:33.244164Z"
    }
   },
   "outputs": [
    {
     "name": "stdout",
     "output_type": "stream",
     "text": [
      "[array([0.08664355, 0.08278181, 0.03343943, ..., 0.04717788, 0.11355432,\n",
      "       0.02198593])] [0.05443844809662735]\n"
     ]
    }
   ],
   "source": [
    "A = nta.SeedCoherenceAnalyzer(hemi_ts, bold_flat,\n",
    "                            method=dict(NFFT=20))\n",
    "B = nta.SeedCorrelationAnalyzer(hemi_ts, bold_flat)\n",
    "freq_idx = np.where((A.frequencies > f_lb) * (A.frequencies < f_ub))[0]\n",
    "cor = []\n",
    "coh = []\n",
    "\n",
    "for this_seed in range(n_seeds):\n",
    "    #print(this_seed, A.coherence[this_seed], A.coherence[this_seed][freq_idx])\n",
    "    # Extract the coherence and average across these frequency bands:\n",
    "    coh.append(np.mean(A.coherence[:, freq_idx], -1))  # Averaging on the\n",
    "                                                                 # last dimension\n",
    "\n",
    "    cor.append(B.corrcoef[this_seed])  # No need to do any additional\n",
    "                                       # computation\n",
    "        \n",
    "print(coh, cor)"
   ]
  },
  {
   "cell_type": "code",
   "execution_count": 44,
   "metadata": {
    "ExecuteTime": {
     "end_time": "2019-08-22T15:54:01.824749Z",
     "start_time": "2019-08-22T15:54:01.765968Z"
    }
   },
   "outputs": [
    {
     "data": {
      "text/plain": [
       "116960"
      ]
     },
     "execution_count": 44,
     "metadata": {},
     "output_type": "execute_result"
    }
   ],
   "source": [
    "len(coh[0])"
   ]
  },
  {
   "cell_type": "markdown",
   "metadata": {},
   "source": [
    "#### Write coherence values to Nifti file"
   ]
  },
  {
   "cell_type": "code",
   "execution_count": 37,
   "metadata": {
    "ExecuteTime": {
     "end_time": "2019-08-29T15:09:49.085776Z",
     "start_time": "2019-08-29T15:09:49.013287Z"
    }
   },
   "outputs": [
    {
     "ename": "NameError",
     "evalue": "name 'masker' is not defined",
     "output_type": "error",
     "traceback": [
      "\u001b[0;31m---------------------------------------------------------------------------\u001b[0m",
      "\u001b[0;31mNameError\u001b[0m                                 Traceback (most recent call last)",
      "\u001b[0;32m<ipython-input-37-df0258c610a2>\u001b[0m in \u001b[0;36m<module>\u001b[0;34m\u001b[0m\n\u001b[0;32m----> 1\u001b[0;31m \u001b[0mcoherence_img\u001b[0m \u001b[0;34m=\u001b[0m \u001b[0mmasker\u001b[0m\u001b[0;34m.\u001b[0m\u001b[0minverse_transform\u001b[0m\u001b[0;34m(\u001b[0m\u001b[0mcoh\u001b[0m\u001b[0;34m[\u001b[0m\u001b[0;36m0\u001b[0m\u001b[0;34m]\u001b[0m\u001b[0;34m)\u001b[0m\u001b[0;34m\u001b[0m\u001b[0;34m\u001b[0m\u001b[0m\n\u001b[0m",
      "\u001b[0;31mNameError\u001b[0m: name 'masker' is not defined"
     ]
    }
   ],
   "source": [
    "coherence_img = masker.inverse_transform(coh[0])"
   ]
  },
  {
   "cell_type": "code",
   "execution_count": 38,
   "metadata": {
    "ExecuteTime": {
     "end_time": "2019-08-29T15:10:05.151565Z",
     "start_time": "2019-08-29T15:10:05.094567Z"
    }
   },
   "outputs": [],
   "source": []
  },
  {
   "cell_type": "code",
   "execution_count": null,
   "metadata": {},
   "outputs": [],
   "source": [
    "coherence_img.to_filename(coh_fn)"
   ]
  },
  {
   "cell_type": "code",
   "execution_count": 55,
   "metadata": {
    "ExecuteTime": {
     "end_time": "2019-08-22T16:08:42.621935Z",
     "start_time": "2019-08-22T16:08:42.426331Z"
    }
   },
   "outputs": [
    {
     "name": "stdout",
     "output_type": "stream",
     "text": [
      "/Users/smerdis/data/LGN/BIDS/NB_combined/derivatives/nipype_NB_20190205_hemi/seed_coherence_hemifield.nii\r\n"
     ]
    }
   ],
   "source": [
    "!ls \"{coh_fn}\""
   ]
  },
  {
   "cell_type": "code",
   "execution_count": 39,
   "metadata": {
    "ExecuteTime": {
     "end_time": "2019-08-29T15:10:07.529112Z",
     "start_time": "2019-08-29T15:10:07.459501Z"
    }
   },
   "outputs": [
    {
     "name": "stdout",
     "output_type": "stream",
     "text": [
      "fsleyes /Users/smerdis/data/LGN/BIDS/NB_combined/derivatives/fmriprep/sub-NB/anat/sub-NB_T1w_preproc.nii.gz /Users/smerdis/data/LGN/BIDS/NB_combined/derivatives/fmriprep/sub-NB/ses-20190205/func/sub-NB_ses-20190205_task-hemi_acq-sbiso_run-03_bold_space-T1w_preproc.nii.gz  /Users/smerdis/data/LGN/BIDS/NB_combined/derivatives/nipype_NB_20190205_hemi/hemifield/modelfit/datasink/results_dir/_modelestimate0/results/cope3.nii.gz /Users/smerdis/data/LGN/BIDS/NB_combined/derivatives/nipype_NB_20190205_hemi/hemifield/modelfit/datasink/results_dir/_modelestimate1/results/cope3.nii.gz /Users/smerdis/data/LGN/BIDS/NB_combined/derivatives/nipype_NB_20190205_hemi/hemifield/modelfit/datasink/results_dir/_modelestimate2/results/cope3.nii.gz /Users/smerdis/data/LGN/BIDS/NB_combined/derivatives/nipype_NB_20190205_hemi/hemifield/modelfit/datasink/stats_dir/_flameo2/stats/cope1.nii.gz\n"
     ]
    },
    {
     "data": {
      "text/plain": [
       "'None /Users/smerdis/data/LGN/BIDS/NB_combined/derivatives/nipype_NB_20190205_hemi/seed_coherence_hemifield.nii'"
      ]
     },
     "execution_count": 39,
     "metadata": {},
     "output_type": "execute_result"
    }
   ],
   "source": [
    "f\"{utils.view_results(datasink_dir, [3], anat_file, bold_file)} {coh_fn}\" # R-L"
   ]
  },
  {
   "cell_type": "markdown",
   "metadata": {},
   "source": [
    "#### Some visualizations"
   ]
  },
  {
   "cell_type": "code",
   "execution_count": 43,
   "metadata": {},
   "outputs": [
    {
     "data": {
      "text/plain": [
       "(array([4.9810e+04, 4.3908e+04, 1.6701e+04, 4.9090e+03, 1.2060e+03,\n",
       "        2.8000e+02, 9.1000e+01, 3.8000e+01, 1.0000e+01, 7.0000e+00]),\n",
       " array([0.00049462, 0.03370798, 0.06692134, 0.10013469, 0.13334805,\n",
       "        0.1665614 , 0.19977476, 0.23298811, 0.26620147, 0.29941482,\n",
       "        0.33262818]),\n",
       " <a list of 10 Patch objects>)"
      ]
     },
     "execution_count": 43,
     "metadata": {},
     "output_type": "execute_result"
    },
    {
     "data": {
      "image/png": "[encoded data removed]",
      "text/plain": [
       "<Figure size 432x288 with 1 Axes>"
      ]
     },
     "metadata": {
      "needs_background": "light"
     },
     "output_type": "display_data"
    }
   ],
   "source": [
    "plt.hist(coh[0])"
   ]
  },
  {
   "cell_type": "code",
   "execution_count": 44,
   "metadata": {},
   "outputs": [
    {
     "data": {
      "text/plain": [
       "{'whiskers': [<matplotlib.lines.Line2D at 0x1c221cf8d0>,\n",
       "  <matplotlib.lines.Line2D at 0x1c221cfc18>],\n",
       " 'caps': [<matplotlib.lines.Line2D at 0x1c221cff60>,\n",
       "  <matplotlib.lines.Line2D at 0x1c226482e8>],\n",
       " 'boxes': [<matplotlib.lines.Line2D at 0x1c221cf6d8>],\n",
       " 'medians': [<matplotlib.lines.Line2D at 0x1c22648630>],\n",
       " 'fliers': [<matplotlib.lines.Line2D at 0x1c22648978>],\n",
       " 'means': []}"
      ]
     },
     "execution_count": 44,
     "metadata": {},
     "output_type": "execute_result"
    },
    {
     "data": {
      "image/png": "[encoded data removed]",
      "text/plain": [
       "<Figure size 432x288 with 1 Axes>"
      ]
     },
     "metadata": {
      "needs_background": "light"
     },
     "output_type": "display_data"
    }
   ],
   "source": [
    "plt.boxplot(coh[0])"
   ]
  },
  {
   "cell_type": "code",
   "execution_count": 45,
   "metadata": {},
   "outputs": [
    {
     "data": {
      "text/plain": [
       "0"
      ]
     },
     "execution_count": 45,
     "metadata": {},
     "output_type": "execute_result"
    }
   ],
   "source": [
    "np.count_nonzero(coh[0]==0)"
   ]
  },
  {
   "cell_type": "markdown",
   "metadata": {},
   "source": [
    "### Continue from here..."
   ]
  },
  {
   "cell_type": "code",
   "execution_count": 49,
   "metadata": {},
   "outputs": [],
   "source": [
    "lgn_coh_low = 0.17\n",
    "lgn_coh_high = 0.19\n",
    "lgn_voxel_mask_coh = np.logical_and((coh[0] > lgn_coh_low), (coh[0] < lgn_coh_high))"
   ]
  },
  {
   "cell_type": "markdown",
   "metadata": {},
   "source": [
    "## Assigning voxels within an ROI to M/P"
   ]
  },
  {
   "cell_type": "code",
   "execution_count": null,
   "metadata": {},
   "outputs": [],
   "source": [
    "copefile = '/Users/smerdis/data/LGN/BIDS/MS_LGN_fp107/nipype_MS_20150401_mp/hemifield/modelfit/datasink/stats_dir/_flameo2/stats/cope1.nii.gz'\n",
    "ROIfile = mROI"
   ]
  },
  {
   "cell_type": "code",
   "execution_count": null,
   "metadata": {},
   "outputs": [],
   "source": [
    "def assign_mp_command(cope, roimask, pct_thresh, roi_below, roi_above, out_dir=None):\n",
    "    if out_dir is None:\n",
    "        out_dir = os.path.dirname(roimask)\n",
    "    print(f\"python assign_mp.py {cope} {roimask} {pct_thresh} {roi_below} {roi_above} {out_dir}\")\n",
    "\n",
    "def assign_voxels(infile, rois, split_pct):\n",
    "    \"\"\"Assign voxels to an ROI based on the percentile of intensity they fall in.\n",
    "    \n",
    "    rois should be a list of length 2, split_pcts should be a list of length 1\n",
    "    \n",
    "    e.g. assign_voxels_percentile(infile, ['M', 'P'], 80)\"\"\"\n",
    "    from nipype.interfaces.fsl import ImageMaths\n",
    "    stats = ImageMaths()\n",
    "    stats.inputs.in_file = infile\n",
    "    stats.inputs.op_string = f\"-thr {split_pct} -bin {roi_above}\"\n",
    "    print(stats.cmdline)"
   ]
  },
  {
   "cell_type": "code",
   "execution_count": null,
   "metadata": {},
   "outputs": [],
   "source": [
    "assign_mp_command(copefile, ROIfile, 80, 'M', 'P')"
   ]
  },
  {
   "cell_type": "code",
   "execution_count": null,
   "metadata": {},
   "outputs": [],
   "source": [
    "masked_cope = '/Users/smerdis/data/LGN/BIDS/MS_LGN_fp107/nipype_MS_20150401_hemi/hemifield/modelfit/datasink/cope_masked.nii.gz'"
   ]
  },
  {
   "cell_type": "code",
   "execution_count": null,
   "metadata": {},
   "outputs": [],
   "source": [
    "assign_voxels_percentile(masked_cope, ['M', 'P'], 80)"
   ]
  }
 ],
 "metadata": {
  "kernelspec": {
   "display_name": "Python 3",
   "language": "python",
   "name": "python3"
  },
  "language_info": {
   "codemirror_mode": {
    "name": "ipython",
    "version": 3
   },
   "file_extension": ".py",
   "mimetype": "text/x-python",
   "name": "python",
   "nbconvert_exporter": "python",
   "pygments_lexer": "ipython3",
   "version": "3.6.8"
  },
  "varInspector": {
   "cols": {
    "lenName": 16,
    "lenType": 16,
    "lenVar": 40
   },
   "kernels_config": {
    "python": {
     "delete_cmd_postfix": "",
     "delete_cmd_prefix": "del ",
     "library": "var_list.py",
     "varRefreshCmd": "print(var_dic_list())"
    },
    "r": {
     "delete_cmd_postfix": ") ",
     "delete_cmd_prefix": "rm(",
     "library": "var_list.r",
     "varRefreshCmd": "cat(var_dic_list()) "
    }
   },
   "types_to_exclude": [
    "module",
    "function",
    "builtin_function_or_method",
    "instance",
    "_Feature"
   ],
   "window_display": false
  }
 },
 "nbformat": 4,
 "nbformat_minor": 2
}
