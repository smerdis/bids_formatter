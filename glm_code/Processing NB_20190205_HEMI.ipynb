{
 "cells": [
  {
   "cell_type": "code",
   "execution_count": 1,
   "metadata": {},
   "outputs": [],
   "source": [
    "%load_ext autoreload\n",
    "%autoreload 2"
   ]
  },
  {
   "cell_type": "code",
   "execution_count": 21,
   "metadata": {},
   "outputs": [],
   "source": [
    "%matplotlib inline"
   ]
  },
  {
   "cell_type": "code",
   "execution_count": 3,
   "metadata": {},
   "outputs": [],
   "source": [
    "import utils\n",
    "\n",
    "import os, sys, datetime, glob\n",
    "\n",
    "import numpy as np\n",
    "import pandas as pd\n",
    "import matplotlib.pyplot as plt\n",
    "\n",
    "import nibabel as nib\n",
    "from nilearn.masking import apply_mask"
   ]
  },
  {
   "cell_type": "code",
   "execution_count": 4,
   "metadata": {},
   "outputs": [
    {
     "data": {
      "text/plain": [
       "'2.4.1'"
      ]
     },
     "execution_count": 4,
     "metadata": {},
     "output_type": "execute_result"
    }
   ],
   "source": [
    "nib.__version__"
   ]
  },
  {
   "cell_type": "markdown",
   "metadata": {
    "heading_collapsed": true
   },
   "source": [
    "### Test the confounds file exists"
   ]
  },
  {
   "cell_type": "code",
   "execution_count": 5,
   "metadata": {
    "hidden": true
   },
   "outputs": [],
   "source": [
    "confounds_file = \"/Users/smerdis/data/LGN/BIDS/NB_combined/derivatives/fmriprep/sub-NB/ses-20190205/func/sub-NB_ses-20190205_task-hemi_acq-sbiso_run-02_bold_confounds.tsv\""
   ]
  },
  {
   "cell_type": "code",
   "execution_count": 6,
   "metadata": {
    "hidden": true
   },
   "outputs": [],
   "source": [
    "confounds = pd.read_csv(confounds_file, sep=str('\\t'), na_values=\"n/a\")"
   ]
  },
  {
   "cell_type": "code",
   "execution_count": 7,
   "metadata": {
    "hidden": true
   },
   "outputs": [
    {
     "data": {
      "text/html": [
       "<div>\n",
       "<style scoped>\n",
       "    .dataframe tbody tr th:only-of-type {\n",
       "        vertical-align: middle;\n",
       "    }\n",
       "\n",
       "    .dataframe tbody tr th {\n",
       "        vertical-align: top;\n",
       "    }\n",
       "\n",
       "    .dataframe thead th {\n",
       "        text-align: right;\n",
       "    }\n",
       "</style>\n",
       "<table border=\"1\" class=\"dataframe\">\n",
       "  <thead>\n",
       "    <tr style=\"text-align: right;\">\n",
       "      <th></th>\n",
       "      <th>CSF</th>\n",
       "      <th>WhiteMatter</th>\n",
       "      <th>GlobalSignal</th>\n",
       "      <th>stdDVARS</th>\n",
       "      <th>non-stdDVARS</th>\n",
       "      <th>vx-wisestdDVARS</th>\n",
       "      <th>FramewiseDisplacement</th>\n",
       "      <th>tCompCor00</th>\n",
       "      <th>tCompCor01</th>\n",
       "      <th>tCompCor02</th>\n",
       "      <th>...</th>\n",
       "      <th>aCompCor05</th>\n",
       "      <th>Cosine00</th>\n",
       "      <th>Cosine01</th>\n",
       "      <th>Cosine02</th>\n",
       "      <th>X</th>\n",
       "      <th>Y</th>\n",
       "      <th>Z</th>\n",
       "      <th>RotX</th>\n",
       "      <th>RotY</th>\n",
       "      <th>RotZ</th>\n",
       "    </tr>\n",
       "  </thead>\n",
       "  <tbody>\n",
       "    <tr>\n",
       "      <th>0</th>\n",
       "      <td>770.379856</td>\n",
       "      <td>454.938977</td>\n",
       "      <td>494.840445</td>\n",
       "      <td>NaN</td>\n",
       "      <td>NaN</td>\n",
       "      <td>NaN</td>\n",
       "      <td>NaN</td>\n",
       "      <td>0.010041</td>\n",
       "      <td>-0.120498</td>\n",
       "      <td>0.003100</td>\n",
       "      <td>...</td>\n",
       "      <td>0.008933</td>\n",
       "      <td>0.119944</td>\n",
       "      <td>0.119921</td>\n",
       "      <td>0.119883</td>\n",
       "      <td>-0.034431</td>\n",
       "      <td>-0.051267</td>\n",
       "      <td>-0.011951</td>\n",
       "      <td>-0.000071</td>\n",
       "      <td>0.001487</td>\n",
       "      <td>0.000000</td>\n",
       "    </tr>\n",
       "    <tr>\n",
       "      <th>1</th>\n",
       "      <td>767.582785</td>\n",
       "      <td>455.264943</td>\n",
       "      <td>493.836516</td>\n",
       "      <td>1.055039</td>\n",
       "      <td>39.965763</td>\n",
       "      <td>0.982809</td>\n",
       "      <td>0.074973</td>\n",
       "      <td>-0.096891</td>\n",
       "      <td>-0.012785</td>\n",
       "      <td>-0.080445</td>\n",
       "      <td>...</td>\n",
       "      <td>0.056169</td>\n",
       "      <td>0.119883</td>\n",
       "      <td>0.119676</td>\n",
       "      <td>0.119332</td>\n",
       "      <td>-0.036248</td>\n",
       "      <td>-0.027296</td>\n",
       "      <td>-0.005500</td>\n",
       "      <td>0.000370</td>\n",
       "      <td>0.001189</td>\n",
       "      <td>0.000116</td>\n",
       "    </tr>\n",
       "    <tr>\n",
       "      <th>2</th>\n",
       "      <td>767.373203</td>\n",
       "      <td>455.415570</td>\n",
       "      <td>493.607939</td>\n",
       "      <td>1.120969</td>\n",
       "      <td>42.463257</td>\n",
       "      <td>1.002035</td>\n",
       "      <td>0.058792</td>\n",
       "      <td>-0.056158</td>\n",
       "      <td>0.201913</td>\n",
       "      <td>-0.066696</td>\n",
       "      <td>...</td>\n",
       "      <td>-0.074910</td>\n",
       "      <td>0.119761</td>\n",
       "      <td>0.119187</td>\n",
       "      <td>0.118233</td>\n",
       "      <td>-0.034499</td>\n",
       "      <td>0.005578</td>\n",
       "      <td>0.003651</td>\n",
       "      <td>0.000553</td>\n",
       "      <td>0.001189</td>\n",
       "      <td>0.000000</td>\n",
       "    </tr>\n",
       "    <tr>\n",
       "      <th>3</th>\n",
       "      <td>765.404096</td>\n",
       "      <td>455.044005</td>\n",
       "      <td>493.714727</td>\n",
       "      <td>1.212368</td>\n",
       "      <td>45.925529</td>\n",
       "      <td>1.040752</td>\n",
       "      <td>0.103944</td>\n",
       "      <td>0.037910</td>\n",
       "      <td>-0.031049</td>\n",
       "      <td>0.187014</td>\n",
       "      <td>...</td>\n",
       "      <td>-0.090526</td>\n",
       "      <td>0.119577</td>\n",
       "      <td>0.118454</td>\n",
       "      <td>0.116590</td>\n",
       "      <td>-0.034868</td>\n",
       "      <td>-0.076532</td>\n",
       "      <td>-0.000039</td>\n",
       "      <td>0.000198</td>\n",
       "      <td>0.001189</td>\n",
       "      <td>0.000000</td>\n",
       "    </tr>\n",
       "    <tr>\n",
       "      <th>4</th>\n",
       "      <td>762.848614</td>\n",
       "      <td>454.438328</td>\n",
       "      <td>492.589410</td>\n",
       "      <td>1.194874</td>\n",
       "      <td>45.262840</td>\n",
       "      <td>1.048662</td>\n",
       "      <td>0.180629</td>\n",
       "      <td>-0.026411</td>\n",
       "      <td>-0.118262</td>\n",
       "      <td>-0.001785</td>\n",
       "      <td>...</td>\n",
       "      <td>0.027028</td>\n",
       "      <td>0.119332</td>\n",
       "      <td>0.117479</td>\n",
       "      <td>0.114412</td>\n",
       "      <td>-0.038471</td>\n",
       "      <td>0.047847</td>\n",
       "      <td>-0.022795</td>\n",
       "      <td>0.000796</td>\n",
       "      <td>0.001189</td>\n",
       "      <td>0.000000</td>\n",
       "    </tr>\n",
       "  </tbody>\n",
       "</table>\n",
       "<p>5 rows × 28 columns</p>\n",
       "</div>"
      ],
      "text/plain": [
       "          CSF  WhiteMatter  GlobalSignal  stdDVARS  non-stdDVARS  \\\n",
       "0  770.379856   454.938977    494.840445       NaN           NaN   \n",
       "1  767.582785   455.264943    493.836516  1.055039     39.965763   \n",
       "2  767.373203   455.415570    493.607939  1.120969     42.463257   \n",
       "3  765.404096   455.044005    493.714727  1.212368     45.925529   \n",
       "4  762.848614   454.438328    492.589410  1.194874     45.262840   \n",
       "\n",
       "   vx-wisestdDVARS  FramewiseDisplacement  tCompCor00  tCompCor01  tCompCor02  \\\n",
       "0              NaN                    NaN    0.010041   -0.120498    0.003100   \n",
       "1         0.982809               0.074973   -0.096891   -0.012785   -0.080445   \n",
       "2         1.002035               0.058792   -0.056158    0.201913   -0.066696   \n",
       "3         1.040752               0.103944    0.037910   -0.031049    0.187014   \n",
       "4         1.048662               0.180629   -0.026411   -0.118262   -0.001785   \n",
       "\n",
       "   ...  aCompCor05  Cosine00  Cosine01  Cosine02         X         Y  \\\n",
       "0  ...    0.008933  0.119944  0.119921  0.119883 -0.034431 -0.051267   \n",
       "1  ...    0.056169  0.119883  0.119676  0.119332 -0.036248 -0.027296   \n",
       "2  ...   -0.074910  0.119761  0.119187  0.118233 -0.034499  0.005578   \n",
       "3  ...   -0.090526  0.119577  0.118454  0.116590 -0.034868 -0.076532   \n",
       "4  ...    0.027028  0.119332  0.117479  0.114412 -0.038471  0.047847   \n",
       "\n",
       "          Z      RotX      RotY      RotZ  \n",
       "0 -0.011951 -0.000071  0.001487  0.000000  \n",
       "1 -0.005500  0.000370  0.001189  0.000116  \n",
       "2  0.003651  0.000553  0.001189  0.000000  \n",
       "3 -0.000039  0.000198  0.001189  0.000000  \n",
       "4 -0.022795  0.000796  0.001189  0.000000  \n",
       "\n",
       "[5 rows x 28 columns]"
      ]
     },
     "execution_count": 7,
     "metadata": {},
     "output_type": "execute_result"
    }
   ],
   "source": [
    "confounds.head()"
   ]
  },
  {
   "cell_type": "markdown",
   "metadata": {},
   "source": [
    "### Define paths etc"
   ]
  },
  {
   "cell_type": "code",
   "execution_count": 5,
   "metadata": {},
   "outputs": [],
   "source": [
    "raw_data_dir = os.path.abspath(\"/Users/smerdis/data/LGN/BIDS/NB_combined/sub-NB/\")"
   ]
  },
  {
   "cell_type": "code",
   "execution_count": 6,
   "metadata": {},
   "outputs": [],
   "source": [
    "out_dir = os.path.abspath('/Users/smerdis/data/LGN/BIDS/NB_combined/derivatives/')"
   ]
  },
  {
   "cell_type": "code",
   "execution_count": 7,
   "metadata": {},
   "outputs": [],
   "source": [
    "fmriprep_dir = os.path.abspath(os.path.join(out_dir, 'fmriprep'))"
   ]
  },
  {
   "cell_type": "code",
   "execution_count": 8,
   "metadata": {},
   "outputs": [],
   "source": [
    "sub = \"NB\"\n",
    "ses = \"20190205\""
   ]
  },
  {
   "cell_type": "markdown",
   "metadata": {
    "heading_collapsed": true
   },
   "source": [
    "### Fix the event files\n",
    "\n",
    "For this subject, I consulted the scan log to line up the scans to runs and moved the files around manually"
   ]
  },
  {
   "cell_type": "code",
   "execution_count": 12,
   "metadata": {
    "code_folding": [],
    "hidden": true
   },
   "outputs": [],
   "source": [
    "blocks_in_order = ['L', 'R']\n",
    "for thisrun in [1, 2, 3, 4]:\n",
    "    events_fn = f\"{raw_data_dir}/ses-{ses}/func/sub-{sub}_ses-{ses}_task-hemi_run-{thisrun:02d}_events.tsv\"\n",
    "    events_file_contents = f\"onset\\tduration\\ttrial_type\\n\"\n",
    "    time_between_onsets = 13.5\n",
    "    for i in range(22):\n",
    "        events_file_contents += f\"{i*time_between_onsets:.2f}\\t{time_between_onsets}\\t{blocks_in_order[i%(len(blocks_in_order))]}\\n\"\n",
    "    with open(events_fn, 'w') as f:\n",
    "        f.write(events_file_contents)\n",
    "    #print(events_fn, '\\n', events_file_contents)"
   ]
  },
  {
   "cell_type": "markdown",
   "metadata": {},
   "source": [
    "## GLM invocation from a cell"
   ]
  },
  {
   "cell_type": "markdown",
   "metadata": {},
   "source": [
    "### Only run one of the next two cells! (Picks which task and runs to analyze)\n",
    "\n",
    "#### Hemifield"
   ]
  },
  {
   "cell_type": "code",
   "execution_count": 9,
   "metadata": {},
   "outputs": [],
   "source": [
    "task = \"hemi\"\n",
    "runs = [1, 3, 4]"
   ]
  },
  {
   "cell_type": "markdown",
   "metadata": {
    "heading_collapsed": true
   },
   "source": [
    "#### MP"
   ]
  },
  {
   "cell_type": "code",
   "execution_count": 14,
   "metadata": {
    "hidden": true
   },
   "outputs": [],
   "source": [
    "task = \"mp\"\n",
    "runs = [1, 3, 5, 7, 9]"
   ]
  },
  {
   "cell_type": "markdown",
   "metadata": {
    "heading_collapsed": true
   },
   "source": [
    "### Use functions from utils to get files that would be passed to workflow"
   ]
  },
  {
   "cell_type": "code",
   "execution_count": 15,
   "metadata": {
    "hidden": true
   },
   "outputs": [],
   "source": [
    "from bids import BIDSLayout"
   ]
  },
  {
   "cell_type": "code",
   "execution_count": 16,
   "metadata": {
    "hidden": true
   },
   "outputs": [],
   "source": [
    "BIDSLayout??"
   ]
  },
  {
   "cell_type": "code",
   "execution_count": 16,
   "metadata": {
    "hidden": true
   },
   "outputs": [],
   "source": [
    "raw_layout = BIDSLayout(raw_data_dir, validate=False, derivatives=False)"
   ]
  },
  {
   "cell_type": "code",
   "execution_count": 17,
   "metadata": {
    "hidden": true
   },
   "outputs": [
    {
     "data": {
      "text/plain": [
       "{'/Users/smerdis/data/LGN/BIDS/NB_combined/sub-NB/.DS_Store': <BIDSFile filename='/Users/smerdis/data/LGN/BIDS/NB_combined/sub-NB/.DS_Store'>,\n",
       " '/Users/smerdis/data/LGN/BIDS/NB_combined/sub-NB/ses-20180803/.DS_Store': <BIDSFile filename='/Users/smerdis/data/LGN/BIDS/NB_combined/sub-NB/ses-20180803/.DS_Store'>,\n",
       " '/Users/smerdis/data/LGN/BIDS/NB_combined/sub-NB/ses-20180803/anat/sub-NB_ses-20180803_T1w.nii.gz': <BIDSImageFile filename='/Users/smerdis/data/LGN/BIDS/NB_combined/sub-NB/ses-20180803/anat/sub-NB_ses-20180803_T1w.nii.gz'>,\n",
       " '/Users/smerdis/data/LGN/BIDS/NB_combined/sub-NB/ses-20180803/anat/sub-NB_ses-20180803_T1w.json': <BIDSFile filename='/Users/smerdis/data/LGN/BIDS/NB_combined/sub-NB/ses-20180803/anat/sub-NB_ses-20180803_T1w.json'>,\n",
       " '/Users/smerdis/data/LGN/BIDS/NB_combined/sub-NB/ses-20180803/func/sub-NB_ses-20180803_task-mp_run-02_bold.nii.gz': <BIDSImageFile filename='/Users/smerdis/data/LGN/BIDS/NB_combined/sub-NB/ses-20180803/func/sub-NB_ses-20180803_task-mp_run-02_bold.nii.gz'>,\n",
       " '/Users/smerdis/data/LGN/BIDS/NB_combined/sub-NB/ses-20180803/func/sub-NB_ses-20180803_task-mp_run-07_bold.json': <BIDSFile filename='/Users/smerdis/data/LGN/BIDS/NB_combined/sub-NB/ses-20180803/func/sub-NB_ses-20180803_task-mp_run-07_bold.json'>,\n",
       " '/Users/smerdis/data/LGN/BIDS/NB_combined/sub-NB/ses-20180803/func/sub-NB_ses-20180803_task-mp_run-08_events.tsv': <BIDSDataFile filename='/Users/smerdis/data/LGN/BIDS/NB_combined/sub-NB/ses-20180803/func/sub-NB_ses-20180803_task-mp_run-08_events.tsv'>,\n",
       " '/Users/smerdis/data/LGN/BIDS/NB_combined/sub-NB/ses-20180803/func/sub-NB_ses-20180803_task-mp_run-07_bold.nii.gz': <BIDSImageFile filename='/Users/smerdis/data/LGN/BIDS/NB_combined/sub-NB/ses-20180803/func/sub-NB_ses-20180803_task-mp_run-07_bold.nii.gz'>,\n",
       " '/Users/smerdis/data/LGN/BIDS/NB_combined/sub-NB/ses-20180803/func/sub-NB_ses-20180803_task-mp_run-01_bold.json': <BIDSFile filename='/Users/smerdis/data/LGN/BIDS/NB_combined/sub-NB/ses-20180803/func/sub-NB_ses-20180803_task-mp_run-01_bold.json'>,\n",
       " '/Users/smerdis/data/LGN/BIDS/NB_combined/sub-NB/ses-20180803/func/sub-NB_ses-20180803_task-mp_run-05_events.tsv': <BIDSDataFile filename='/Users/smerdis/data/LGN/BIDS/NB_combined/sub-NB/ses-20180803/func/sub-NB_ses-20180803_task-mp_run-05_events.tsv'>,\n",
       " '/Users/smerdis/data/LGN/BIDS/NB_combined/sub-NB/ses-20180803/func/sub-NB_ses-20180803_task-mp_run-02_events.tsv': <BIDSDataFile filename='/Users/smerdis/data/LGN/BIDS/NB_combined/sub-NB/ses-20180803/func/sub-NB_ses-20180803_task-mp_run-02_events.tsv'>,\n",
       " '/Users/smerdis/data/LGN/BIDS/NB_combined/sub-NB/ses-20180803/func/sub-NB_ses-20180803_task-mp_run-04_bold.nii.gz': <BIDSImageFile filename='/Users/smerdis/data/LGN/BIDS/NB_combined/sub-NB/ses-20180803/func/sub-NB_ses-20180803_task-mp_run-04_bold.nii.gz'>,\n",
       " '/Users/smerdis/data/LGN/BIDS/NB_combined/sub-NB/ses-20180803/func/sub-NB_ses-20180803_task-mp_run-06_bold.json': <BIDSFile filename='/Users/smerdis/data/LGN/BIDS/NB_combined/sub-NB/ses-20180803/func/sub-NB_ses-20180803_task-mp_run-06_bold.json'>,\n",
       " '/Users/smerdis/data/LGN/BIDS/NB_combined/sub-NB/ses-20180803/func/sub-NB_ses-20180803_task-mp_run-08_bold.nii.gz': <BIDSImageFile filename='/Users/smerdis/data/LGN/BIDS/NB_combined/sub-NB/ses-20180803/func/sub-NB_ses-20180803_task-mp_run-08_bold.nii.gz'>,\n",
       " '/Users/smerdis/data/LGN/BIDS/NB_combined/sub-NB/ses-20180803/func/sub-NB_ses-20180803_task-mp_run-07_events.tsv': <BIDSDataFile filename='/Users/smerdis/data/LGN/BIDS/NB_combined/sub-NB/ses-20180803/func/sub-NB_ses-20180803_task-mp_run-07_events.tsv'>,\n",
       " '/Users/smerdis/data/LGN/BIDS/NB_combined/sub-NB/ses-20180803/func/sub-NB_ses-20180803_task-mp_run-01_bold.nii.gz': <BIDSImageFile filename='/Users/smerdis/data/LGN/BIDS/NB_combined/sub-NB/ses-20180803/func/sub-NB_ses-20180803_task-mp_run-01_bold.nii.gz'>,\n",
       " '/Users/smerdis/data/LGN/BIDS/NB_combined/sub-NB/ses-20180803/func/sub-NB_ses-20180803_task-mp_run-06_bold.nii.gz': <BIDSImageFile filename='/Users/smerdis/data/LGN/BIDS/NB_combined/sub-NB/ses-20180803/func/sub-NB_ses-20180803_task-mp_run-06_bold.nii.gz'>,\n",
       " '/Users/smerdis/data/LGN/BIDS/NB_combined/sub-NB/ses-20180803/func/sub-NB_ses-20180803_task-mp_run-09_events.tsv': <BIDSDataFile filename='/Users/smerdis/data/LGN/BIDS/NB_combined/sub-NB/ses-20180803/func/sub-NB_ses-20180803_task-mp_run-09_events.tsv'>,\n",
       " '/Users/smerdis/data/LGN/BIDS/NB_combined/sub-NB/ses-20180803/func/sub-NB_ses-20180803_task-mp_run-08_bold.json': <BIDSFile filename='/Users/smerdis/data/LGN/BIDS/NB_combined/sub-NB/ses-20180803/func/sub-NB_ses-20180803_task-mp_run-08_bold.json'>,\n",
       " '/Users/smerdis/data/LGN/BIDS/NB_combined/sub-NB/ses-20180803/func/sub-NB_ses-20180803_task-mp_run-04_events.tsv': <BIDSDataFile filename='/Users/smerdis/data/LGN/BIDS/NB_combined/sub-NB/ses-20180803/func/sub-NB_ses-20180803_task-mp_run-04_events.tsv'>,\n",
       " '/Users/smerdis/data/LGN/BIDS/NB_combined/sub-NB/ses-20180803/func/sub-NB_ses-20180803_task-mp_run-05_bold.json': <BIDSFile filename='/Users/smerdis/data/LGN/BIDS/NB_combined/sub-NB/ses-20180803/func/sub-NB_ses-20180803_task-mp_run-05_bold.json'>,\n",
       " '/Users/smerdis/data/LGN/BIDS/NB_combined/sub-NB/ses-20180803/func/sub-NB_ses-20180803_task-mp_run-10_events.tsv': <BIDSDataFile filename='/Users/smerdis/data/LGN/BIDS/NB_combined/sub-NB/ses-20180803/func/sub-NB_ses-20180803_task-mp_run-10_events.tsv'>,\n",
       " '/Users/smerdis/data/LGN/BIDS/NB_combined/sub-NB/ses-20180803/func/sub-NB_ses-20180803_task-mp_run-03_bold.json': <BIDSFile filename='/Users/smerdis/data/LGN/BIDS/NB_combined/sub-NB/ses-20180803/func/sub-NB_ses-20180803_task-mp_run-03_bold.json'>,\n",
       " '/Users/smerdis/data/LGN/BIDS/NB_combined/sub-NB/ses-20180803/func/sub-NB_ses-20180803_task-mp_run-03_bold.nii.gz': <BIDSImageFile filename='/Users/smerdis/data/LGN/BIDS/NB_combined/sub-NB/ses-20180803/func/sub-NB_ses-20180803_task-mp_run-03_bold.nii.gz'>,\n",
       " '/Users/smerdis/data/LGN/BIDS/NB_combined/sub-NB/ses-20180803/func/sub-NB_ses-20180803_task-mp_run-09_bold.json': <BIDSFile filename='/Users/smerdis/data/LGN/BIDS/NB_combined/sub-NB/ses-20180803/func/sub-NB_ses-20180803_task-mp_run-09_bold.json'>,\n",
       " '/Users/smerdis/data/LGN/BIDS/NB_combined/sub-NB/ses-20180803/func/sub-NB_ses-20180803_task-mp_run-06_events.tsv': <BIDSDataFile filename='/Users/smerdis/data/LGN/BIDS/NB_combined/sub-NB/ses-20180803/func/sub-NB_ses-20180803_task-mp_run-06_events.tsv'>,\n",
       " '/Users/smerdis/data/LGN/BIDS/NB_combined/sub-NB/ses-20180803/func/sub-NB_ses-20180803_task-mp_run-09_bold.nii.gz': <BIDSImageFile filename='/Users/smerdis/data/LGN/BIDS/NB_combined/sub-NB/ses-20180803/func/sub-NB_ses-20180803_task-mp_run-09_bold.nii.gz'>,\n",
       " '/Users/smerdis/data/LGN/BIDS/NB_combined/sub-NB/ses-20180803/func/sub-NB_ses-20180803_task-mp_run-04_bold.json': <BIDSFile filename='/Users/smerdis/data/LGN/BIDS/NB_combined/sub-NB/ses-20180803/func/sub-NB_ses-20180803_task-mp_run-04_bold.json'>,\n",
       " '/Users/smerdis/data/LGN/BIDS/NB_combined/sub-NB/ses-20180803/func/sub-NB_ses-20180803_task-mp_run-10_bold.json': <BIDSFile filename='/Users/smerdis/data/LGN/BIDS/NB_combined/sub-NB/ses-20180803/func/sub-NB_ses-20180803_task-mp_run-10_bold.json'>,\n",
       " '/Users/smerdis/data/LGN/BIDS/NB_combined/sub-NB/ses-20180803/func/sub-NB_ses-20180803_task-mp_run-03_events.tsv': <BIDSDataFile filename='/Users/smerdis/data/LGN/BIDS/NB_combined/sub-NB/ses-20180803/func/sub-NB_ses-20180803_task-mp_run-03_events.tsv'>,\n",
       " '/Users/smerdis/data/LGN/BIDS/NB_combined/sub-NB/ses-20180803/func/sub-NB_ses-20180803_task-mp_run-10_bold.nii.gz': <BIDSImageFile filename='/Users/smerdis/data/LGN/BIDS/NB_combined/sub-NB/ses-20180803/func/sub-NB_ses-20180803_task-mp_run-10_bold.nii.gz'>,\n",
       " '/Users/smerdis/data/LGN/BIDS/NB_combined/sub-NB/ses-20180803/func/sub-NB_ses-20180803_task-mp_run-02_bold.json': <BIDSFile filename='/Users/smerdis/data/LGN/BIDS/NB_combined/sub-NB/ses-20180803/func/sub-NB_ses-20180803_task-mp_run-02_bold.json'>,\n",
       " '/Users/smerdis/data/LGN/BIDS/NB_combined/sub-NB/ses-20180803/func/sub-NB_ses-20180803_task-mp_run-05_bold.nii.gz': <BIDSImageFile filename='/Users/smerdis/data/LGN/BIDS/NB_combined/sub-NB/ses-20180803/func/sub-NB_ses-20180803_task-mp_run-05_bold.nii.gz'>,\n",
       " '/Users/smerdis/data/LGN/BIDS/NB_combined/sub-NB/ses-20190205/.DS_Store': <BIDSFile filename='/Users/smerdis/data/LGN/BIDS/NB_combined/sub-NB/ses-20190205/.DS_Store'>,\n",
       " '/Users/smerdis/data/LGN/BIDS/NB_combined/sub-NB/ses-20190205/func/sub-NB_ses-20190205_task-mp_acq-sbiso_run-09_bold.json': <BIDSFile filename='/Users/smerdis/data/LGN/BIDS/NB_combined/sub-NB/ses-20190205/func/sub-NB_ses-20190205_task-mp_acq-sbiso_run-09_bold.json'>,\n",
       " '/Users/smerdis/data/LGN/BIDS/NB_combined/sub-NB/ses-20190205/func/sub-NB_ses-20190205_task-mp_acq-sbiso_run-10_bold.nii.gz': <BIDSImageFile filename='/Users/smerdis/data/LGN/BIDS/NB_combined/sub-NB/ses-20190205/func/sub-NB_ses-20190205_task-mp_acq-sbiso_run-10_bold.nii.gz'>,\n",
       " '/Users/smerdis/data/LGN/BIDS/NB_combined/sub-NB/ses-20190205/func/sub-NB_ses-20190205_task-hemi_acq-sbiso_run-03_bold.json': <BIDSFile filename='/Users/smerdis/data/LGN/BIDS/NB_combined/sub-NB/ses-20190205/func/sub-NB_ses-20190205_task-hemi_acq-sbiso_run-03_bold.json'>,\n",
       " '/Users/smerdis/data/LGN/BIDS/NB_combined/sub-NB/ses-20190205/func/sub-NB_ses-20190205_task-mp_acq-sbiso_run-04_bold.json': <BIDSFile filename='/Users/smerdis/data/LGN/BIDS/NB_combined/sub-NB/ses-20190205/func/sub-NB_ses-20190205_task-mp_acq-sbiso_run-04_bold.json'>,\n",
       " '/Users/smerdis/data/LGN/BIDS/NB_combined/sub-NB/ses-20190205/func/sub-NB_ses-20190205_task-mp_acq-sbiso_run-10_bold.json': <BIDSFile filename='/Users/smerdis/data/LGN/BIDS/NB_combined/sub-NB/ses-20190205/func/sub-NB_ses-20190205_task-mp_acq-sbiso_run-10_bold.json'>,\n",
       " '/Users/smerdis/data/LGN/BIDS/NB_combined/sub-NB/ses-20190205/func/sub-NB_ses-20190205_task-mp_acq-sbiso_run-05_bold.nii.gz': <BIDSImageFile filename='/Users/smerdis/data/LGN/BIDS/NB_combined/sub-NB/ses-20190205/func/sub-NB_ses-20190205_task-mp_acq-sbiso_run-05_bold.nii.gz'>,\n",
       " '/Users/smerdis/data/LGN/BIDS/NB_combined/sub-NB/ses-20190205/func/sub-NB_ses-20190205_task-mp_acq-sbiso_run-05_events.tsv': <BIDSDataFile filename='/Users/smerdis/data/LGN/BIDS/NB_combined/sub-NB/ses-20190205/func/sub-NB_ses-20190205_task-mp_acq-sbiso_run-05_events.tsv'>,\n",
       " '/Users/smerdis/data/LGN/BIDS/NB_combined/sub-NB/ses-20190205/func/.DS_Store': <BIDSFile filename='/Users/smerdis/data/LGN/BIDS/NB_combined/sub-NB/ses-20190205/func/.DS_Store'>,\n",
       " '/Users/smerdis/data/LGN/BIDS/NB_combined/sub-NB/ses-20190205/func/sub-NB_ses-20190205_task-hemi_acq-sbiso_run-03_bold.nii.gz': <BIDSImageFile filename='/Users/smerdis/data/LGN/BIDS/NB_combined/sub-NB/ses-20190205/func/sub-NB_ses-20190205_task-hemi_acq-sbiso_run-03_bold.nii.gz'>,\n",
       " '/Users/smerdis/data/LGN/BIDS/NB_combined/sub-NB/ses-20190205/func/sub-NB_ses-20190205_task-mp_acq-sbiso_run-09_bold.nii.gz': <BIDSImageFile filename='/Users/smerdis/data/LGN/BIDS/NB_combined/sub-NB/ses-20190205/func/sub-NB_ses-20190205_task-mp_acq-sbiso_run-09_bold.nii.gz'>,\n",
       " '/Users/smerdis/data/LGN/BIDS/NB_combined/sub-NB/ses-20190205/func/sub-NB_ses-20190205_task-mp_acq-sbiso_run-02_bold.json': <BIDSFile filename='/Users/smerdis/data/LGN/BIDS/NB_combined/sub-NB/ses-20190205/func/sub-NB_ses-20190205_task-mp_acq-sbiso_run-02_bold.json'>,\n",
       " '/Users/smerdis/data/LGN/BIDS/NB_combined/sub-NB/ses-20190205/func/sub-NB_ses-20190205_task-mp_acq-sbiso_run-08_bold.json': <BIDSFile filename='/Users/smerdis/data/LGN/BIDS/NB_combined/sub-NB/ses-20190205/func/sub-NB_ses-20190205_task-mp_acq-sbiso_run-08_bold.json'>,\n",
       " '/Users/smerdis/data/LGN/BIDS/NB_combined/sub-NB/ses-20190205/func/sub-NB_ses-20190205_task-hemi_acq-sbiso_run-02_bold.json': <BIDSFile filename='/Users/smerdis/data/LGN/BIDS/NB_combined/sub-NB/ses-20190205/func/sub-NB_ses-20190205_task-hemi_acq-sbiso_run-02_bold.json'>,\n",
       " '/Users/smerdis/data/LGN/BIDS/NB_combined/sub-NB/ses-20190205/func/sub-NB_ses-20190205_task-mp_acq-sbiso_run-05_bold.json': <BIDSFile filename='/Users/smerdis/data/LGN/BIDS/NB_combined/sub-NB/ses-20190205/func/sub-NB_ses-20190205_task-mp_acq-sbiso_run-05_bold.json'>,\n",
       " '/Users/smerdis/data/LGN/BIDS/NB_combined/sub-NB/ses-20190205/func/sub-NB_ses-20190205_task-hemi_run-02_events.tsv': <BIDSDataFile filename='/Users/smerdis/data/LGN/BIDS/NB_combined/sub-NB/ses-20190205/func/sub-NB_ses-20190205_task-hemi_run-02_events.tsv'>,\n",
       " '/Users/smerdis/data/LGN/BIDS/NB_combined/sub-NB/ses-20190205/func/sub-NB_ses-20190205_task-mp_acq-sbiso_run-03_bold.nii.gz': <BIDSImageFile filename='/Users/smerdis/data/LGN/BIDS/NB_combined/sub-NB/ses-20190205/func/sub-NB_ses-20190205_task-mp_acq-sbiso_run-03_bold.nii.gz'>,\n",
       " '/Users/smerdis/data/LGN/BIDS/NB_combined/sub-NB/ses-20190205/func/sub-NB_ses-20190205_task-mp_acq-sbiso_run-07_events.tsv': <BIDSDataFile filename='/Users/smerdis/data/LGN/BIDS/NB_combined/sub-NB/ses-20190205/func/sub-NB_ses-20190205_task-mp_acq-sbiso_run-07_events.tsv'>,\n",
       " '/Users/smerdis/data/LGN/BIDS/NB_combined/sub-NB/ses-20190205/func/sub-NB_ses-20190205_task-mp_acq-sbiso_run-06_bold.nii.gz': <BIDSImageFile filename='/Users/smerdis/data/LGN/BIDS/NB_combined/sub-NB/ses-20190205/func/sub-NB_ses-20190205_task-mp_acq-sbiso_run-06_bold.nii.gz'>,\n",
       " '/Users/smerdis/data/LGN/BIDS/NB_combined/sub-NB/ses-20190205/func/sub-NB_ses-20190205_task-mp_acq-sbiso_run-03_bold.json': <BIDSFile filename='/Users/smerdis/data/LGN/BIDS/NB_combined/sub-NB/ses-20190205/func/sub-NB_ses-20190205_task-mp_acq-sbiso_run-03_bold.json'>,\n",
       " '/Users/smerdis/data/LGN/BIDS/NB_combined/sub-NB/ses-20190205/func/sub-NB_ses-20190205_task-hemi_acq-sbiso_run-04_bold.json': <BIDSFile filename='/Users/smerdis/data/LGN/BIDS/NB_combined/sub-NB/ses-20190205/func/sub-NB_ses-20190205_task-hemi_acq-sbiso_run-04_bold.json'>,\n",
       " '/Users/smerdis/data/LGN/BIDS/NB_combined/sub-NB/ses-20190205/func/sub-NB_ses-20190205_task-hemi_run-04_events.tsv': <BIDSDataFile filename='/Users/smerdis/data/LGN/BIDS/NB_combined/sub-NB/ses-20190205/func/sub-NB_ses-20190205_task-hemi_run-04_events.tsv'>,\n",
       " '/Users/smerdis/data/LGN/BIDS/NB_combined/sub-NB/ses-20190205/func/sub-NB_ses-20190205_task-mp_acq-sbiso_run-08_bold.nii.gz': <BIDSImageFile filename='/Users/smerdis/data/LGN/BIDS/NB_combined/sub-NB/ses-20190205/func/sub-NB_ses-20190205_task-mp_acq-sbiso_run-08_bold.nii.gz'>,\n",
       " '/Users/smerdis/data/LGN/BIDS/NB_combined/sub-NB/ses-20190205/func/sub-NB_ses-20190205_task-mp_acq-sbiso_run-09_events.tsv': <BIDSDataFile filename='/Users/smerdis/data/LGN/BIDS/NB_combined/sub-NB/ses-20190205/func/sub-NB_ses-20190205_task-mp_acq-sbiso_run-09_events.tsv'>,\n",
       " '/Users/smerdis/data/LGN/BIDS/NB_combined/sub-NB/ses-20190205/func/sub-NB_ses-20190205_task-hemi_acq-sbiso_run-02_bold.nii.gz': <BIDSImageFile filename='/Users/smerdis/data/LGN/BIDS/NB_combined/sub-NB/ses-20190205/func/sub-NB_ses-20190205_task-hemi_acq-sbiso_run-02_bold.nii.gz'>,\n",
       " '/Users/smerdis/data/LGN/BIDS/NB_combined/sub-NB/ses-20190205/func/sub-NB_ses-20190205_task-hemi_acq-sbiso_run-01_bold.json': <BIDSFile filename='/Users/smerdis/data/LGN/BIDS/NB_combined/sub-NB/ses-20190205/func/sub-NB_ses-20190205_task-hemi_acq-sbiso_run-01_bold.json'>,\n",
       " '/Users/smerdis/data/LGN/BIDS/NB_combined/sub-NB/ses-20190205/func/sub-NB_ses-20190205_task-mp_acq-sbiso_run-06_bold.json': <BIDSFile filename='/Users/smerdis/data/LGN/BIDS/NB_combined/sub-NB/ses-20190205/func/sub-NB_ses-20190205_task-mp_acq-sbiso_run-06_bold.json'>,\n",
       " '/Users/smerdis/data/LGN/BIDS/NB_combined/sub-NB/ses-20190205/func/sub-NB_ses-20190205_task-mp_acq-sbiso_run-01_bold.nii.gz': <BIDSImageFile filename='/Users/smerdis/data/LGN/BIDS/NB_combined/sub-NB/ses-20190205/func/sub-NB_ses-20190205_task-mp_acq-sbiso_run-01_bold.nii.gz'>,\n",
       " '/Users/smerdis/data/LGN/BIDS/NB_combined/sub-NB/ses-20190205/func/sub-NB_ses-20190205_task-mp_acq-sbiso_run-04_bold.nii.gz': <BIDSImageFile filename='/Users/smerdis/data/LGN/BIDS/NB_combined/sub-NB/ses-20190205/func/sub-NB_ses-20190205_task-mp_acq-sbiso_run-04_bold.nii.gz'>,\n",
       " '/Users/smerdis/data/LGN/BIDS/NB_combined/sub-NB/ses-20190205/func/sub-NB_ses-20190205_task-mp_acq-sbiso_run-01_events.tsv': <BIDSDataFile filename='/Users/smerdis/data/LGN/BIDS/NB_combined/sub-NB/ses-20190205/func/sub-NB_ses-20190205_task-mp_acq-sbiso_run-01_events.tsv'>,\n",
       " '/Users/smerdis/data/LGN/BIDS/NB_combined/sub-NB/ses-20190205/func/sub-NB_ses-20190205_task-hemi_run-01_events.tsv': <BIDSDataFile filename='/Users/smerdis/data/LGN/BIDS/NB_combined/sub-NB/ses-20190205/func/sub-NB_ses-20190205_task-hemi_run-01_events.tsv'>,\n",
       " '/Users/smerdis/data/LGN/BIDS/NB_combined/sub-NB/ses-20190205/func/sub-NB_ses-20190205_task-mp_acq-sbiso_run-07_bold.nii.gz': <BIDSImageFile filename='/Users/smerdis/data/LGN/BIDS/NB_combined/sub-NB/ses-20190205/func/sub-NB_ses-20190205_task-mp_acq-sbiso_run-07_bold.nii.gz'>,\n",
       " '/Users/smerdis/data/LGN/BIDS/NB_combined/sub-NB/ses-20190205/func/sub-NB_ses-20190205_task-hemi_acq-sbiso_run-04_bold.nii.gz': <BIDSImageFile filename='/Users/smerdis/data/LGN/BIDS/NB_combined/sub-NB/ses-20190205/func/sub-NB_ses-20190205_task-hemi_acq-sbiso_run-04_bold.nii.gz'>,\n",
       " '/Users/smerdis/data/LGN/BIDS/NB_combined/sub-NB/ses-20190205/func/sub-NB_ses-20190205_task-mp_acq-sbiso_run-07_bold.json': <BIDSFile filename='/Users/smerdis/data/LGN/BIDS/NB_combined/sub-NB/ses-20190205/func/sub-NB_ses-20190205_task-mp_acq-sbiso_run-07_bold.json'>,\n",
       " '/Users/smerdis/data/LGN/BIDS/NB_combined/sub-NB/ses-20190205/func/sub-NB_ses-20190205_task-mp_acq-sbiso_run-02_bold.nii.gz': <BIDSImageFile filename='/Users/smerdis/data/LGN/BIDS/NB_combined/sub-NB/ses-20190205/func/sub-NB_ses-20190205_task-mp_acq-sbiso_run-02_bold.nii.gz'>,\n",
       " '/Users/smerdis/data/LGN/BIDS/NB_combined/sub-NB/ses-20190205/func/sub-NB_ses-20190205_task-hemi_acq-sbiso_run-01_bold.nii.gz': <BIDSImageFile filename='/Users/smerdis/data/LGN/BIDS/NB_combined/sub-NB/ses-20190205/func/sub-NB_ses-20190205_task-hemi_acq-sbiso_run-01_bold.nii.gz'>,\n",
       " '/Users/smerdis/data/LGN/BIDS/NB_combined/sub-NB/ses-20190205/func/sub-NB_ses-20190205_task-mp_acq-sbiso_run-01_bold.json': <BIDSFile filename='/Users/smerdis/data/LGN/BIDS/NB_combined/sub-NB/ses-20190205/func/sub-NB_ses-20190205_task-mp_acq-sbiso_run-01_bold.json'>,\n",
       " '/Users/smerdis/data/LGN/BIDS/NB_combined/sub-NB/ses-20190205/func/sub-NB_ses-20190205_task-mp_acq-sbiso_run-03_events.tsv': <BIDSDataFile filename='/Users/smerdis/data/LGN/BIDS/NB_combined/sub-NB/ses-20190205/func/sub-NB_ses-20190205_task-mp_acq-sbiso_run-03_events.tsv'>,\n",
       " '/Users/smerdis/data/LGN/BIDS/NB_combined/sub-NB/ses-20190205/func/sub-NB_ses-20190205_task-hemi_run-03_events.tsv': <BIDSDataFile filename='/Users/smerdis/data/LGN/BIDS/NB_combined/sub-NB/ses-20190205/func/sub-NB_ses-20190205_task-hemi_run-03_events.tsv'>,\n",
       " '/Users/smerdis/data/LGN/BIDS/NB_combined/sub-NB/ses-20190205/func/hidden/sub-NB_ses-20190205_task-mp_acq-mb5gap_run-02_bold.json': <BIDSFile filename='/Users/smerdis/data/LGN/BIDS/NB_combined/sub-NB/ses-20190205/func/hidden/sub-NB_ses-20190205_task-mp_acq-mb5gap_run-02_bold.json'>,\n",
       " '/Users/smerdis/data/LGN/BIDS/NB_combined/sub-NB/ses-20190205/func/hidden/sub-NB_ses-20190205_task-mp_acq-mb5iso_run-02_bold.nii.gz': <BIDSImageFile filename='/Users/smerdis/data/LGN/BIDS/NB_combined/sub-NB/ses-20190205/func/hidden/sub-NB_ses-20190205_task-mp_acq-mb5iso_run-02_bold.nii.gz'>,\n",
       " '/Users/smerdis/data/LGN/BIDS/NB_combined/sub-NB/ses-20190205/func/hidden/sub-NB_ses-20190205_task-mp_acq-mb5iso_run-01_bold.json': <BIDSFile filename='/Users/smerdis/data/LGN/BIDS/NB_combined/sub-NB/ses-20190205/func/hidden/sub-NB_ses-20190205_task-mp_acq-mb5iso_run-01_bold.json'>,\n",
       " '/Users/smerdis/data/LGN/BIDS/NB_combined/sub-NB/ses-20190205/func/hidden/sub-NB_ses-20190205_task-hemi_acq-sb165nogap_bold.nii.gz': <BIDSImageFile filename='/Users/smerdis/data/LGN/BIDS/NB_combined/sub-NB/ses-20190205/func/hidden/sub-NB_ses-20190205_task-hemi_acq-sb165nogap_bold.nii.gz'>,\n",
       " '/Users/smerdis/data/LGN/BIDS/NB_combined/sub-NB/ses-20190205/func/hidden/sub-NB_ses-20190205_task-mp_acq-mb5gap_run-02_bold.nii.gz': <BIDSImageFile filename='/Users/smerdis/data/LGN/BIDS/NB_combined/sub-NB/ses-20190205/func/hidden/sub-NB_ses-20190205_task-mp_acq-mb5gap_run-02_bold.nii.gz'>,\n",
       " '/Users/smerdis/data/LGN/BIDS/NB_combined/sub-NB/ses-20190205/func/hidden/sub-NB_ses-20190205_task-hemi_acq-sb165nogap_bold.json': <BIDSFile filename='/Users/smerdis/data/LGN/BIDS/NB_combined/sub-NB/ses-20190205/func/hidden/sub-NB_ses-20190205_task-hemi_acq-sb165nogap_bold.json'>,\n",
       " '/Users/smerdis/data/LGN/BIDS/NB_combined/sub-NB/ses-20190205/func/hidden/sub-NB_ses-20190205_task-mp_acq-mb5gap_run-04_bold.json': <BIDSFile filename='/Users/smerdis/data/LGN/BIDS/NB_combined/sub-NB/ses-20190205/func/hidden/sub-NB_ses-20190205_task-mp_acq-mb5gap_run-04_bold.json'>,\n",
       " '/Users/smerdis/data/LGN/BIDS/NB_combined/sub-NB/ses-20190205/func/hidden/sub-NB_ses-20190205_task-mp_acq-mb5gap_run-03_bold.json': <BIDSFile filename='/Users/smerdis/data/LGN/BIDS/NB_combined/sub-NB/ses-20190205/func/hidden/sub-NB_ses-20190205_task-mp_acq-mb5gap_run-03_bold.json'>,\n",
       " '/Users/smerdis/data/LGN/BIDS/NB_combined/sub-NB/ses-20190205/func/hidden/sub-NB_ses-20190205_task-mp_acq-mb5iso_run-04_bold.nii.gz': <BIDSImageFile filename='/Users/smerdis/data/LGN/BIDS/NB_combined/sub-NB/ses-20190205/func/hidden/sub-NB_ses-20190205_task-mp_acq-mb5iso_run-04_bold.nii.gz'>,\n",
       " '/Users/smerdis/data/LGN/BIDS/NB_combined/sub-NB/ses-20190205/func/hidden/sub-NB_ses-20190205_task-mp_acq-mb5gap_run-04_bold.nii.gz': <BIDSImageFile filename='/Users/smerdis/data/LGN/BIDS/NB_combined/sub-NB/ses-20190205/func/hidden/sub-NB_ses-20190205_task-mp_acq-mb5gap_run-04_bold.nii.gz'>,\n",
       " '/Users/smerdis/data/LGN/BIDS/NB_combined/sub-NB/ses-20190205/func/hidden/sub-NB_ses-20190205_task-mp_acq-mb5gap_run-01_bold.nii.gz': <BIDSImageFile filename='/Users/smerdis/data/LGN/BIDS/NB_combined/sub-NB/ses-20190205/func/hidden/sub-NB_ses-20190205_task-mp_acq-mb5gap_run-01_bold.nii.gz'>,\n",
       " '/Users/smerdis/data/LGN/BIDS/NB_combined/sub-NB/ses-20190205/func/hidden/sub-NB_ses-20190205_task-mp_acq-mb5iso_run-01_bold.nii.gz': <BIDSImageFile filename='/Users/smerdis/data/LGN/BIDS/NB_combined/sub-NB/ses-20190205/func/hidden/sub-NB_ses-20190205_task-mp_acq-mb5iso_run-01_bold.nii.gz'>,\n",
       " '/Users/smerdis/data/LGN/BIDS/NB_combined/sub-NB/ses-20190205/func/hidden/sub-NB_ses-20190205_task-mp_acq-sb165nogap_bold.nii.gz': <BIDSImageFile filename='/Users/smerdis/data/LGN/BIDS/NB_combined/sub-NB/ses-20190205/func/hidden/sub-NB_ses-20190205_task-mp_acq-sb165nogap_bold.nii.gz'>,\n",
       " '/Users/smerdis/data/LGN/BIDS/NB_combined/sub-NB/ses-20190205/func/hidden/sub-NB_ses-20190205_task-mp_acq-mb5iso_run-03_bold.json': <BIDSFile filename='/Users/smerdis/data/LGN/BIDS/NB_combined/sub-NB/ses-20190205/func/hidden/sub-NB_ses-20190205_task-mp_acq-mb5iso_run-03_bold.json'>,\n",
       " '/Users/smerdis/data/LGN/BIDS/NB_combined/sub-NB/ses-20190205/func/hidden/sub-NB_ses-20190205_task-mp_acq-mb5gap_run-03_bold.nii.gz': <BIDSImageFile filename='/Users/smerdis/data/LGN/BIDS/NB_combined/sub-NB/ses-20190205/func/hidden/sub-NB_ses-20190205_task-mp_acq-mb5gap_run-03_bold.nii.gz'>,\n",
       " '/Users/smerdis/data/LGN/BIDS/NB_combined/sub-NB/ses-20190205/func/hidden/sub-NB_ses-20190205_task-mp_acq-sb165nogap_bold.json': <BIDSFile filename='/Users/smerdis/data/LGN/BIDS/NB_combined/sub-NB/ses-20190205/func/hidden/sub-NB_ses-20190205_task-mp_acq-sb165nogap_bold.json'>,\n",
       " '/Users/smerdis/data/LGN/BIDS/NB_combined/sub-NB/ses-20190205/func/hidden/sub-NB_ses-20190205_task-mp_acq-mb5iso_run-03_bold.nii.gz': <BIDSImageFile filename='/Users/smerdis/data/LGN/BIDS/NB_combined/sub-NB/ses-20190205/func/hidden/sub-NB_ses-20190205_task-mp_acq-mb5iso_run-03_bold.nii.gz'>,\n",
       " '/Users/smerdis/data/LGN/BIDS/NB_combined/sub-NB/ses-20190205/func/hidden/sub-NB_ses-20190205_task-mp_acq-mb5iso_run-02_bold.json': <BIDSFile filename='/Users/smerdis/data/LGN/BIDS/NB_combined/sub-NB/ses-20190205/func/hidden/sub-NB_ses-20190205_task-mp_acq-mb5iso_run-02_bold.json'>,\n",
       " '/Users/smerdis/data/LGN/BIDS/NB_combined/sub-NB/ses-20190205/func/hidden/sub-NB_ses-20190205_task-mp_acq-mb5gap_run-01_bold.json': <BIDSFile filename='/Users/smerdis/data/LGN/BIDS/NB_combined/sub-NB/ses-20190205/func/hidden/sub-NB_ses-20190205_task-mp_acq-mb5gap_run-01_bold.json'>,\n",
       " '/Users/smerdis/data/LGN/BIDS/NB_combined/sub-NB/ses-20190205/func/hidden/sub-NB_ses-20190205_task-mp_acq-sb165nogap_events.tsv': <BIDSDataFile filename='/Users/smerdis/data/LGN/BIDS/NB_combined/sub-NB/ses-20190205/func/hidden/sub-NB_ses-20190205_task-mp_acq-sb165nogap_events.tsv'>,\n",
       " '/Users/smerdis/data/LGN/BIDS/NB_combined/sub-NB/ses-20190205/func/hidden/sub-NB_ses-20190205_task-mp_acq-mb5iso_run-04_bold.json': <BIDSFile filename='/Users/smerdis/data/LGN/BIDS/NB_combined/sub-NB/ses-20190205/func/hidden/sub-NB_ses-20190205_task-mp_acq-mb5iso_run-04_bold.json'>}"
      ]
     },
     "execution_count": 17,
     "metadata": {},
     "output_type": "execute_result"
    }
   ],
   "source": [
    "raw_layout.files"
   ]
  },
  {
   "cell_type": "code",
   "execution_count": 18,
   "metadata": {
    "hidden": true
   },
   "outputs": [],
   "source": [
    "preproc_layout = BIDSLayout(fmriprep_dir, validate=False)"
   ]
  },
  {
   "cell_type": "code",
   "execution_count": 19,
   "metadata": {
    "hidden": true
   },
   "outputs": [
    {
     "data": {
      "text/plain": [
       "{'/Users/smerdis/data/LGN/BIDS/NB_combined/derivatives/fmriprep/sub-NB.html': <BIDSFile filename='/Users/smerdis/data/LGN/BIDS/NB_combined/derivatives/fmriprep/sub-NB.html'>,\n",
       " '/Users/smerdis/data/LGN/BIDS/NB_combined/derivatives/fmriprep/.DS_Store': <BIDSFile filename='/Users/smerdis/data/LGN/BIDS/NB_combined/derivatives/fmriprep/.DS_Store'>,\n",
       " '/Users/smerdis/data/LGN/BIDS/NB_combined/derivatives/fmriprep/sub-NB/.DS_Store': <BIDSFile filename='/Users/smerdis/data/LGN/BIDS/NB_combined/derivatives/fmriprep/sub-NB/.DS_Store'>,\n",
       " '/Users/smerdis/data/LGN/BIDS/NB_combined/derivatives/fmriprep/sub-NB/anat/sub-NB_T1w_label-aseg_roi.nii.gz': <BIDSImageFile filename='/Users/smerdis/data/LGN/BIDS/NB_combined/derivatives/fmriprep/sub-NB/anat/sub-NB_T1w_label-aseg_roi.nii.gz'>,\n",
       " '/Users/smerdis/data/LGN/BIDS/NB_combined/derivatives/fmriprep/sub-NB/anat/sub-NB_T1w_class-CSF_probtissue.nii.gz': <BIDSImageFile filename='/Users/smerdis/data/LGN/BIDS/NB_combined/derivatives/fmriprep/sub-NB/anat/sub-NB_T1w_class-CSF_probtissue.nii.gz'>,\n",
       " '/Users/smerdis/data/LGN/BIDS/NB_combined/derivatives/fmriprep/sub-NB/anat/sub-NB_T1w_class-WM_probtissue.nii.gz': <BIDSImageFile filename='/Users/smerdis/data/LGN/BIDS/NB_combined/derivatives/fmriprep/sub-NB/anat/sub-NB_T1w_class-WM_probtissue.nii.gz'>,\n",
       " '/Users/smerdis/data/LGN/BIDS/NB_combined/derivatives/fmriprep/sub-NB/anat/sub-NB_T1w_target-fsnative_affine.txt': <BIDSFile filename='/Users/smerdis/data/LGN/BIDS/NB_combined/derivatives/fmriprep/sub-NB/anat/sub-NB_T1w_target-fsnative_affine.txt'>,\n",
       " '/Users/smerdis/data/LGN/BIDS/NB_combined/derivatives/fmriprep/sub-NB/anat/sub-NB_T1w_dtissue.nii.gz': <BIDSImageFile filename='/Users/smerdis/data/LGN/BIDS/NB_combined/derivatives/fmriprep/sub-NB/anat/sub-NB_T1w_dtissue.nii.gz'>,\n",
       " '/Users/smerdis/data/LGN/BIDS/NB_combined/derivatives/fmriprep/sub-NB/anat/sub-NB_T1w_label-aparcaseg_roi.nii.gz': <BIDSImageFile filename='/Users/smerdis/data/LGN/BIDS/NB_combined/derivatives/fmriprep/sub-NB/anat/sub-NB_T1w_label-aparcaseg_roi.nii.gz'>,\n",
       " '/Users/smerdis/data/LGN/BIDS/NB_combined/derivatives/fmriprep/sub-NB/anat/sub-NB_T1w_brainmask.nii.gz': <BIDSImageFile filename='/Users/smerdis/data/LGN/BIDS/NB_combined/derivatives/fmriprep/sub-NB/anat/sub-NB_T1w_brainmask.nii.gz'>,\n",
       " '/Users/smerdis/data/LGN/BIDS/NB_combined/derivatives/fmriprep/sub-NB/anat/sub-NB_T1w_midthickness.L.surf.gii': <BIDSFile filename='/Users/smerdis/data/LGN/BIDS/NB_combined/derivatives/fmriprep/sub-NB/anat/sub-NB_T1w_midthickness.L.surf.gii'>,\n",
       " '/Users/smerdis/data/LGN/BIDS/NB_combined/derivatives/fmriprep/sub-NB/anat/sub-NB_T1w_pial.L.surf.gii': <BIDSFile filename='/Users/smerdis/data/LGN/BIDS/NB_combined/derivatives/fmriprep/sub-NB/anat/sub-NB_T1w_pial.L.surf.gii'>,\n",
       " '/Users/smerdis/data/LGN/BIDS/NB_combined/derivatives/fmriprep/sub-NB/anat/sub-NB_T1w_class-GM_probtissue.nii.gz': <BIDSImageFile filename='/Users/smerdis/data/LGN/BIDS/NB_combined/derivatives/fmriprep/sub-NB/anat/sub-NB_T1w_class-GM_probtissue.nii.gz'>,\n",
       " '/Users/smerdis/data/LGN/BIDS/NB_combined/derivatives/fmriprep/sub-NB/anat/sub-NB_T1w_pial.R.surf.gii': <BIDSFile filename='/Users/smerdis/data/LGN/BIDS/NB_combined/derivatives/fmriprep/sub-NB/anat/sub-NB_T1w_pial.R.surf.gii'>,\n",
       " '/Users/smerdis/data/LGN/BIDS/NB_combined/derivatives/fmriprep/sub-NB/anat/sub-NB_T1w_midthickness.R.surf.gii': <BIDSFile filename='/Users/smerdis/data/LGN/BIDS/NB_combined/derivatives/fmriprep/sub-NB/anat/sub-NB_T1w_midthickness.R.surf.gii'>,\n",
       " '/Users/smerdis/data/LGN/BIDS/NB_combined/derivatives/fmriprep/sub-NB/anat/sub-NB_T1w_inflated.L.surf.gii': <BIDSFile filename='/Users/smerdis/data/LGN/BIDS/NB_combined/derivatives/fmriprep/sub-NB/anat/sub-NB_T1w_inflated.L.surf.gii'>,\n",
       " '/Users/smerdis/data/LGN/BIDS/NB_combined/derivatives/fmriprep/sub-NB/anat/sub-NB_T1w_smoothwm.R.surf.gii': <BIDSFile filename='/Users/smerdis/data/LGN/BIDS/NB_combined/derivatives/fmriprep/sub-NB/anat/sub-NB_T1w_smoothwm.R.surf.gii'>,\n",
       " '/Users/smerdis/data/LGN/BIDS/NB_combined/derivatives/fmriprep/sub-NB/anat/sub-NB_T1w_preproc.nii.gz': <BIDSImageFile filename='/Users/smerdis/data/LGN/BIDS/NB_combined/derivatives/fmriprep/sub-NB/anat/sub-NB_T1w_preproc.nii.gz'>,\n",
       " '/Users/smerdis/data/LGN/BIDS/NB_combined/derivatives/fmriprep/sub-NB/anat/sub-NB_T1w_smoothwm.L.surf.gii': <BIDSFile filename='/Users/smerdis/data/LGN/BIDS/NB_combined/derivatives/fmriprep/sub-NB/anat/sub-NB_T1w_smoothwm.L.surf.gii'>,\n",
       " '/Users/smerdis/data/LGN/BIDS/NB_combined/derivatives/fmriprep/sub-NB/anat/sub-NB_T1w_inflated.R.surf.gii': <BIDSFile filename='/Users/smerdis/data/LGN/BIDS/NB_combined/derivatives/fmriprep/sub-NB/anat/sub-NB_T1w_inflated.R.surf.gii'>,\n",
       " '/Users/smerdis/data/LGN/BIDS/NB_combined/derivatives/fmriprep/sub-NB/figures/sub-NB_T1w_seg_brainmask.svg': <BIDSFile filename='/Users/smerdis/data/LGN/BIDS/NB_combined/derivatives/fmriprep/sub-NB/figures/sub-NB_T1w_seg_brainmask.svg'>,\n",
       " '/Users/smerdis/data/LGN/BIDS/NB_combined/derivatives/fmriprep/sub-NB/figures/sub-NB_ses-20180803_task-mp_run-09_bold_bbr.svg': <BIDSFile filename='/Users/smerdis/data/LGN/BIDS/NB_combined/derivatives/fmriprep/sub-NB/figures/sub-NB_ses-20180803_task-mp_run-09_bold_bbr.svg'>,\n",
       " '/Users/smerdis/data/LGN/BIDS/NB_combined/derivatives/fmriprep/sub-NB/figures/sub-NB_ses-20190205_task-mp_acq-sbiso_run-01_bold_bbr.svg': <BIDSFile filename='/Users/smerdis/data/LGN/BIDS/NB_combined/derivatives/fmriprep/sub-NB/figures/sub-NB_ses-20190205_task-mp_acq-sbiso_run-01_bold_bbr.svg'>,\n",
       " '/Users/smerdis/data/LGN/BIDS/NB_combined/derivatives/fmriprep/sub-NB/figures/sub-NB_ses-20190205_task-mp_acq-sbiso_run-06_bold_bbr.svg': <BIDSFile filename='/Users/smerdis/data/LGN/BIDS/NB_combined/derivatives/fmriprep/sub-NB/figures/sub-NB_ses-20190205_task-mp_acq-sbiso_run-06_bold_bbr.svg'>,\n",
       " '/Users/smerdis/data/LGN/BIDS/NB_combined/derivatives/fmriprep/sub-NB/figures/sub-NB_ses-20190205_task-mp_acq-sbiso_run-04_bold_rois.svg': <BIDSFile filename='/Users/smerdis/data/LGN/BIDS/NB_combined/derivatives/fmriprep/sub-NB/figures/sub-NB_ses-20190205_task-mp_acq-sbiso_run-04_bold_rois.svg'>,\n",
       " '/Users/smerdis/data/LGN/BIDS/NB_combined/derivatives/fmriprep/sub-NB/figures/sub-NB_ses-20190205_task-mp_acq-sbiso_run-03_bold_rois.svg': <BIDSFile filename='/Users/smerdis/data/LGN/BIDS/NB_combined/derivatives/fmriprep/sub-NB/figures/sub-NB_ses-20190205_task-mp_acq-sbiso_run-03_bold_rois.svg'>,\n",
       " '/Users/smerdis/data/LGN/BIDS/NB_combined/derivatives/fmriprep/sub-NB/figures/sub-NB_ses-20180803_task-mp_run-08_bold_bbr.svg': <BIDSFile filename='/Users/smerdis/data/LGN/BIDS/NB_combined/derivatives/fmriprep/sub-NB/figures/sub-NB_ses-20180803_task-mp_run-08_bold_bbr.svg'>,\n",
       " '/Users/smerdis/data/LGN/BIDS/NB_combined/derivatives/fmriprep/sub-NB/figures/sub-NB_ses-20180803_task-mp_run-08_bold_rois.svg': <BIDSFile filename='/Users/smerdis/data/LGN/BIDS/NB_combined/derivatives/fmriprep/sub-NB/figures/sub-NB_ses-20180803_task-mp_run-08_bold_rois.svg'>,\n",
       " '/Users/smerdis/data/LGN/BIDS/NB_combined/derivatives/fmriprep/sub-NB/figures/sub-NB_ses-20190205_task-mp_acq-sbiso_run-10_bold_rois.svg': <BIDSFile filename='/Users/smerdis/data/LGN/BIDS/NB_combined/derivatives/fmriprep/sub-NB/figures/sub-NB_ses-20190205_task-mp_acq-sbiso_run-10_bold_rois.svg'>,\n",
       " '/Users/smerdis/data/LGN/BIDS/NB_combined/derivatives/fmriprep/sub-NB/figures/sub-NB_ses-20190205_task-mp_acq-sbiso_run-07_bold_rois.svg': <BIDSFile filename='/Users/smerdis/data/LGN/BIDS/NB_combined/derivatives/fmriprep/sub-NB/figures/sub-NB_ses-20190205_task-mp_acq-sbiso_run-07_bold_rois.svg'>,\n",
       " '/Users/smerdis/data/LGN/BIDS/NB_combined/derivatives/fmriprep/sub-NB/figures/sub-NB_ses-20190205_task-mp_acq-sbiso_run-07_bold_bbr.svg': <BIDSFile filename='/Users/smerdis/data/LGN/BIDS/NB_combined/derivatives/fmriprep/sub-NB/figures/sub-NB_ses-20190205_task-mp_acq-sbiso_run-07_bold_bbr.svg'>,\n",
       " '/Users/smerdis/data/LGN/BIDS/NB_combined/derivatives/fmriprep/sub-NB/figures/sub-NB_ses-20190205_task-hemi_acq-sb165nogap_bold_coreg.svg': <BIDSFile filename='/Users/smerdis/data/LGN/BIDS/NB_combined/derivatives/fmriprep/sub-NB/figures/sub-NB_ses-20190205_task-hemi_acq-sb165nogap_bold_coreg.svg'>,\n",
       " '/Users/smerdis/data/LGN/BIDS/NB_combined/derivatives/fmriprep/sub-NB/figures/sub-NB_ses-20190205_task-hemi_acq-sbiso_run-03_bold_rois.svg': <BIDSFile filename='/Users/smerdis/data/LGN/BIDS/NB_combined/derivatives/fmriprep/sub-NB/figures/sub-NB_ses-20190205_task-hemi_acq-sbiso_run-03_bold_rois.svg'>,\n",
       " '/Users/smerdis/data/LGN/BIDS/NB_combined/derivatives/fmriprep/sub-NB/figures/sub-NB_ses-20180803_task-mp_run-10_bold_bbr.svg': <BIDSFile filename='/Users/smerdis/data/LGN/BIDS/NB_combined/derivatives/fmriprep/sub-NB/figures/sub-NB_ses-20180803_task-mp_run-10_bold_bbr.svg'>,\n",
       " '/Users/smerdis/data/LGN/BIDS/NB_combined/derivatives/fmriprep/sub-NB/figures/sub-NB_ses-20180803_task-mp_run-06_bold_rois.svg': <BIDSFile filename='/Users/smerdis/data/LGN/BIDS/NB_combined/derivatives/fmriprep/sub-NB/figures/sub-NB_ses-20180803_task-mp_run-06_bold_rois.svg'>,\n",
       " '/Users/smerdis/data/LGN/BIDS/NB_combined/derivatives/fmriprep/sub-NB/figures/sub-NB_ses-20180803_task-mp_run-05_bold_bbr.svg': <BIDSFile filename='/Users/smerdis/data/LGN/BIDS/NB_combined/derivatives/fmriprep/sub-NB/figures/sub-NB_ses-20180803_task-mp_run-05_bold_bbr.svg'>,\n",
       " '/Users/smerdis/data/LGN/BIDS/NB_combined/derivatives/fmriprep/sub-NB/figures/sub-NB_ses-20180803_task-mp_run-02_bold_rois.svg': <BIDSFile filename='/Users/smerdis/data/LGN/BIDS/NB_combined/derivatives/fmriprep/sub-NB/figures/sub-NB_ses-20180803_task-mp_run-02_bold_rois.svg'>,\n",
       " '/Users/smerdis/data/LGN/BIDS/NB_combined/derivatives/fmriprep/sub-NB/figures/sub-NB_ses-20180803_task-mp_run-02_bold_bbr.svg': <BIDSFile filename='/Users/smerdis/data/LGN/BIDS/NB_combined/derivatives/fmriprep/sub-NB/figures/sub-NB_ses-20180803_task-mp_run-02_bold_bbr.svg'>,\n",
       " '/Users/smerdis/data/LGN/BIDS/NB_combined/derivatives/fmriprep/sub-NB/figures/sub-NB_ses-20190205_task-mp_acq-sbiso_run-09_bold_rois.svg': <BIDSFile filename='/Users/smerdis/data/LGN/BIDS/NB_combined/derivatives/fmriprep/sub-NB/figures/sub-NB_ses-20190205_task-mp_acq-sbiso_run-09_bold_rois.svg'>,\n",
       " '/Users/smerdis/data/LGN/BIDS/NB_combined/derivatives/fmriprep/sub-NB/figures/sub-NB_ses-20180803_task-mp_run-05_bold_rois.svg': <BIDSFile filename='/Users/smerdis/data/LGN/BIDS/NB_combined/derivatives/fmriprep/sub-NB/figures/sub-NB_ses-20180803_task-mp_run-05_bold_rois.svg'>,\n",
       " '/Users/smerdis/data/LGN/BIDS/NB_combined/derivatives/fmriprep/sub-NB/figures/sub-NB_ses-20190205_task-hemi_acq-sbiso_run-04_bold_rois.svg': <BIDSFile filename='/Users/smerdis/data/LGN/BIDS/NB_combined/derivatives/fmriprep/sub-NB/figures/sub-NB_ses-20190205_task-hemi_acq-sbiso_run-04_bold_rois.svg'>,\n",
       " '/Users/smerdis/data/LGN/BIDS/NB_combined/derivatives/fmriprep/sub-NB/figures/sub-NB_ses-20180803_task-mp_run-01_bold_rois.svg': <BIDSFile filename='/Users/smerdis/data/LGN/BIDS/NB_combined/derivatives/fmriprep/sub-NB/figures/sub-NB_ses-20180803_task-mp_run-01_bold_rois.svg'>,\n",
       " '/Users/smerdis/data/LGN/BIDS/NB_combined/derivatives/fmriprep/sub-NB/figures/sub-NB_ses-20180803_task-mp_run-03_bold_bbr.svg': <BIDSFile filename='/Users/smerdis/data/LGN/BIDS/NB_combined/derivatives/fmriprep/sub-NB/figures/sub-NB_ses-20180803_task-mp_run-03_bold_bbr.svg'>,\n",
       " '/Users/smerdis/data/LGN/BIDS/NB_combined/derivatives/fmriprep/sub-NB/figures/sub-NB_ses-20190205_task-mp_acq-mb5gap_run-03_bold_bbr.svg': <BIDSFile filename='/Users/smerdis/data/LGN/BIDS/NB_combined/derivatives/fmriprep/sub-NB/figures/sub-NB_ses-20190205_task-mp_acq-mb5gap_run-03_bold_bbr.svg'>,\n",
       " '/Users/smerdis/data/LGN/BIDS/NB_combined/derivatives/fmriprep/sub-NB/figures/sub-NB_ses-20180803_task-mp_run-04_bold_bbr.svg': <BIDSFile filename='/Users/smerdis/data/LGN/BIDS/NB_combined/derivatives/fmriprep/sub-NB/figures/sub-NB_ses-20180803_task-mp_run-04_bold_bbr.svg'>,\n",
       " '/Users/smerdis/data/LGN/BIDS/NB_combined/derivatives/fmriprep/sub-NB/figures/sub-NB_ses-20190205_task-mp_acq-mb5gap_run-04_bold_bbr.svg': <BIDSFile filename='/Users/smerdis/data/LGN/BIDS/NB_combined/derivatives/fmriprep/sub-NB/figures/sub-NB_ses-20190205_task-mp_acq-mb5gap_run-04_bold_bbr.svg'>,\n",
       " '/Users/smerdis/data/LGN/BIDS/NB_combined/derivatives/fmriprep/sub-NB/figures/sub-NB_ses-20190205_task-hemi_acq-sbiso_run-01_bold_bbr.svg': <BIDSFile filename='/Users/smerdis/data/LGN/BIDS/NB_combined/derivatives/fmriprep/sub-NB/figures/sub-NB_ses-20190205_task-hemi_acq-sbiso_run-01_bold_bbr.svg'>,\n",
       " '/Users/smerdis/data/LGN/BIDS/NB_combined/derivatives/fmriprep/sub-NB/figures/sub-NB_ses-20190205_task-mp_acq-mb5gap_run-03_bold_rois.svg': <BIDSFile filename='/Users/smerdis/data/LGN/BIDS/NB_combined/derivatives/fmriprep/sub-NB/figures/sub-NB_ses-20190205_task-mp_acq-mb5gap_run-03_bold_rois.svg'>,\n",
       " '/Users/smerdis/data/LGN/BIDS/NB_combined/derivatives/fmriprep/sub-NB/figures/sub-NB_T1w_reconall.svg': <BIDSFile filename='/Users/smerdis/data/LGN/BIDS/NB_combined/derivatives/fmriprep/sub-NB/figures/sub-NB_T1w_reconall.svg'>,\n",
       " '/Users/smerdis/data/LGN/BIDS/NB_combined/derivatives/fmriprep/sub-NB/figures/sub-NB_ses-20190205_task-mp_acq-sbiso_run-09_bold_bbr.svg': <BIDSFile filename='/Users/smerdis/data/LGN/BIDS/NB_combined/derivatives/fmriprep/sub-NB/figures/sub-NB_ses-20190205_task-mp_acq-sbiso_run-09_bold_bbr.svg'>,\n",
       " '/Users/smerdis/data/LGN/BIDS/NB_combined/derivatives/fmriprep/sub-NB/figures/sub-NB_ses-20190205_task-hemi_acq-sbiso_run-01_bold_rois.svg': <BIDSFile filename='/Users/smerdis/data/LGN/BIDS/NB_combined/derivatives/fmriprep/sub-NB/figures/sub-NB_ses-20190205_task-hemi_acq-sbiso_run-01_bold_rois.svg'>,\n",
       " '/Users/smerdis/data/LGN/BIDS/NB_combined/derivatives/fmriprep/sub-NB/figures/sub-NB_ses-20180803_task-mp_run-04_bold_rois.svg': <BIDSFile filename='/Users/smerdis/data/LGN/BIDS/NB_combined/derivatives/fmriprep/sub-NB/figures/sub-NB_ses-20180803_task-mp_run-04_bold_rois.svg'>,\n",
       " '/Users/smerdis/data/LGN/BIDS/NB_combined/derivatives/fmriprep/sub-NB/figures/sub-NB_ses-20180803_task-mp_run-06_bold_bbr.svg': <BIDSFile filename='/Users/smerdis/data/LGN/BIDS/NB_combined/derivatives/fmriprep/sub-NB/figures/sub-NB_ses-20180803_task-mp_run-06_bold_bbr.svg'>,\n",
       " '/Users/smerdis/data/LGN/BIDS/NB_combined/derivatives/fmriprep/sub-NB/figures/sub-NB_ses-20180803_task-mp_run-01_bold_bbr.svg': <BIDSFile filename='/Users/smerdis/data/LGN/BIDS/NB_combined/derivatives/fmriprep/sub-NB/figures/sub-NB_ses-20180803_task-mp_run-01_bold_bbr.svg'>,\n",
       " '/Users/smerdis/data/LGN/BIDS/NB_combined/derivatives/fmriprep/sub-NB/figures/sub-NB_ses-20190205_task-hemi_acq-sbiso_run-04_bold_bbr.svg': <BIDSFile filename='/Users/smerdis/data/LGN/BIDS/NB_combined/derivatives/fmriprep/sub-NB/figures/sub-NB_ses-20190205_task-hemi_acq-sbiso_run-04_bold_bbr.svg'>,\n",
       " '/Users/smerdis/data/LGN/BIDS/NB_combined/derivatives/fmriprep/sub-NB/figures/sub-NB_ses-20190205_task-hemi_acq-sbiso_run-03_bold_bbr.svg': <BIDSFile filename='/Users/smerdis/data/LGN/BIDS/NB_combined/derivatives/fmriprep/sub-NB/figures/sub-NB_ses-20190205_task-hemi_acq-sbiso_run-03_bold_bbr.svg'>,\n",
       " '/Users/smerdis/data/LGN/BIDS/NB_combined/derivatives/fmriprep/sub-NB/figures/sub-NB_ses-20190205_task-mp_acq-sbiso_run-08_bold_bbr.svg': <BIDSFile filename='/Users/smerdis/data/LGN/BIDS/NB_combined/derivatives/fmriprep/sub-NB/figures/sub-NB_ses-20190205_task-mp_acq-sbiso_run-08_bold_bbr.svg'>,\n",
       " '/Users/smerdis/data/LGN/BIDS/NB_combined/derivatives/fmriprep/sub-NB/figures/sub-NB_ses-20190205_task-hemi_acq-sb165nogap_bold_rois.svg': <BIDSFile filename='/Users/smerdis/data/LGN/BIDS/NB_combined/derivatives/fmriprep/sub-NB/figures/sub-NB_ses-20190205_task-hemi_acq-sb165nogap_bold_rois.svg'>,\n",
       " '/Users/smerdis/data/LGN/BIDS/NB_combined/derivatives/fmriprep/sub-NB/figures/sub-NB_ses-20190205_task-mp_acq-mb5iso_run-03_bold_bbr.svg': <BIDSFile filename='/Users/smerdis/data/LGN/BIDS/NB_combined/derivatives/fmriprep/sub-NB/figures/sub-NB_ses-20190205_task-mp_acq-mb5iso_run-03_bold_bbr.svg'>,\n",
       " '/Users/smerdis/data/LGN/BIDS/NB_combined/derivatives/fmriprep/sub-NB/figures/sub-NB_ses-20190205_task-mp_acq-mb5iso_run-04_bold_bbr.svg': <BIDSFile filename='/Users/smerdis/data/LGN/BIDS/NB_combined/derivatives/fmriprep/sub-NB/figures/sub-NB_ses-20190205_task-mp_acq-mb5iso_run-04_bold_bbr.svg'>,\n",
       " '/Users/smerdis/data/LGN/BIDS/NB_combined/derivatives/fmriprep/sub-NB/figures/sub-NB_ses-20190205_task-hemi_acq-sbiso_run-02_bold_bbr.svg': <BIDSFile filename='/Users/smerdis/data/LGN/BIDS/NB_combined/derivatives/fmriprep/sub-NB/figures/sub-NB_ses-20190205_task-hemi_acq-sbiso_run-02_bold_bbr.svg'>,\n",
       " '/Users/smerdis/data/LGN/BIDS/NB_combined/derivatives/fmriprep/sub-NB/figures/sub-NB_ses-20190205_task-mp_acq-sbiso_run-08_bold_rois.svg': <BIDSFile filename='/Users/smerdis/data/LGN/BIDS/NB_combined/derivatives/fmriprep/sub-NB/figures/sub-NB_ses-20190205_task-mp_acq-sbiso_run-08_bold_rois.svg'>,\n",
       " '/Users/smerdis/data/LGN/BIDS/NB_combined/derivatives/fmriprep/sub-NB/figures/sub-NB_ses-20180803_task-mp_run-03_bold_rois.svg': <BIDSFile filename='/Users/smerdis/data/LGN/BIDS/NB_combined/derivatives/fmriprep/sub-NB/figures/sub-NB_ses-20180803_task-mp_run-03_bold_rois.svg'>,\n",
       " '/Users/smerdis/data/LGN/BIDS/NB_combined/derivatives/fmriprep/sub-NB/figures/sub-NB_ses-20190205_task-mp_acq-mb5gap_run-04_bold_rois.svg': <BIDSFile filename='/Users/smerdis/data/LGN/BIDS/NB_combined/derivatives/fmriprep/sub-NB/figures/sub-NB_ses-20190205_task-mp_acq-mb5gap_run-04_bold_rois.svg'>,\n",
       " '/Users/smerdis/data/LGN/BIDS/NB_combined/derivatives/fmriprep/sub-NB/figures/sub-NB_ses-20180803_task-mp_run-07_bold_rois.svg': <BIDSFile filename='/Users/smerdis/data/LGN/BIDS/NB_combined/derivatives/fmriprep/sub-NB/figures/sub-NB_ses-20180803_task-mp_run-07_bold_rois.svg'>,\n",
       " '/Users/smerdis/data/LGN/BIDS/NB_combined/derivatives/fmriprep/sub-NB/figures/sub-NB_ses-20180803_task-mp_run-07_bold_bbr.svg': <BIDSFile filename='/Users/smerdis/data/LGN/BIDS/NB_combined/derivatives/fmriprep/sub-NB/figures/sub-NB_ses-20180803_task-mp_run-07_bold_bbr.svg'>,\n",
       " '/Users/smerdis/data/LGN/BIDS/NB_combined/derivatives/fmriprep/sub-NB/figures/sub-NB_ses-20190205_task-hemi_acq-sbiso_run-02_bold_rois.svg': <BIDSFile filename='/Users/smerdis/data/LGN/BIDS/NB_combined/derivatives/fmriprep/sub-NB/figures/sub-NB_ses-20190205_task-hemi_acq-sbiso_run-02_bold_rois.svg'>,\n",
       " '/Users/smerdis/data/LGN/BIDS/NB_combined/derivatives/fmriprep/sub-NB/figures/sub-NB_ses-20180803_task-mp_run-10_bold_rois.svg': <BIDSFile filename='/Users/smerdis/data/LGN/BIDS/NB_combined/derivatives/fmriprep/sub-NB/figures/sub-NB_ses-20180803_task-mp_run-10_bold_rois.svg'>,\n",
       " '/Users/smerdis/data/LGN/BIDS/NB_combined/derivatives/fmriprep/sub-NB/figures/sub-NB_ses-20190205_task-mp_acq-sbiso_run-06_bold_rois.svg': <BIDSFile filename='/Users/smerdis/data/LGN/BIDS/NB_combined/derivatives/fmriprep/sub-NB/figures/sub-NB_ses-20190205_task-mp_acq-sbiso_run-06_bold_rois.svg'>,\n",
       " '/Users/smerdis/data/LGN/BIDS/NB_combined/derivatives/fmriprep/sub-NB/figures/sub-NB_ses-20180803_task-mp_run-09_bold_rois.svg': <BIDSFile filename='/Users/smerdis/data/LGN/BIDS/NB_combined/derivatives/fmriprep/sub-NB/figures/sub-NB_ses-20180803_task-mp_run-09_bold_rois.svg'>,\n",
       " '/Users/smerdis/data/LGN/BIDS/NB_combined/derivatives/fmriprep/sub-NB/figures/sub-NB_ses-20190205_task-mp_acq-sbiso_run-02_bold_rois.svg': <BIDSFile filename='/Users/smerdis/data/LGN/BIDS/NB_combined/derivatives/fmriprep/sub-NB/figures/sub-NB_ses-20190205_task-mp_acq-sbiso_run-02_bold_rois.svg'>,\n",
       " '/Users/smerdis/data/LGN/BIDS/NB_combined/derivatives/fmriprep/sub-NB/figures/sub-NB_ses-20190205_task-mp_acq-sbiso_run-10_bold_bbr.svg': <BIDSFile filename='/Users/smerdis/data/LGN/BIDS/NB_combined/derivatives/fmriprep/sub-NB/figures/sub-NB_ses-20190205_task-mp_acq-sbiso_run-10_bold_bbr.svg'>,\n",
       " '/Users/smerdis/data/LGN/BIDS/NB_combined/derivatives/fmriprep/sub-NB/figures/sub-NB_ses-20190205_task-mp_acq-sb165nogap_bold_rois.svg': <BIDSFile filename='/Users/smerdis/data/LGN/BIDS/NB_combined/derivatives/fmriprep/sub-NB/figures/sub-NB_ses-20190205_task-mp_acq-sb165nogap_bold_rois.svg'>,\n",
       " '/Users/smerdis/data/LGN/BIDS/NB_combined/derivatives/fmriprep/sub-NB/figures/sub-NB_ses-20190205_task-mp_acq-sbiso_run-02_bold_bbr.svg': <BIDSFile filename='/Users/smerdis/data/LGN/BIDS/NB_combined/derivatives/fmriprep/sub-NB/figures/sub-NB_ses-20190205_task-mp_acq-sbiso_run-02_bold_bbr.svg'>,\n",
       " '/Users/smerdis/data/LGN/BIDS/NB_combined/derivatives/fmriprep/sub-NB/figures/sub-NB_ses-20190205_task-mp_acq-sbiso_run-05_bold_bbr.svg': <BIDSFile filename='/Users/smerdis/data/LGN/BIDS/NB_combined/derivatives/fmriprep/sub-NB/figures/sub-NB_ses-20190205_task-mp_acq-sbiso_run-05_bold_bbr.svg'>,\n",
       " '/Users/smerdis/data/LGN/BIDS/NB_combined/derivatives/fmriprep/sub-NB/figures/sub-NB_ses-20190205_task-mp_acq-sbiso_run-04_bold_bbr.svg': <BIDSFile filename='/Users/smerdis/data/LGN/BIDS/NB_combined/derivatives/fmriprep/sub-NB/figures/sub-NB_ses-20190205_task-mp_acq-sbiso_run-04_bold_bbr.svg'>,\n",
       " '/Users/smerdis/data/LGN/BIDS/NB_combined/derivatives/fmriprep/sub-NB/figures/sub-NB_ses-20190205_task-mp_acq-sbiso_run-03_bold_bbr.svg': <BIDSFile filename='/Users/smerdis/data/LGN/BIDS/NB_combined/derivatives/fmriprep/sub-NB/figures/sub-NB_ses-20190205_task-mp_acq-sbiso_run-03_bold_bbr.svg'>,\n",
       " '/Users/smerdis/data/LGN/BIDS/NB_combined/derivatives/fmriprep/sub-NB/figures/sub-NB_ses-20190205_task-mp_acq-sbiso_run-05_bold_rois.svg': <BIDSFile filename='/Users/smerdis/data/LGN/BIDS/NB_combined/derivatives/fmriprep/sub-NB/figures/sub-NB_ses-20190205_task-mp_acq-sbiso_run-05_bold_rois.svg'>,\n",
       " '/Users/smerdis/data/LGN/BIDS/NB_combined/derivatives/fmriprep/sub-NB/figures/sub-NB_ses-20190205_task-mp_acq-sbiso_run-01_bold_rois.svg': <BIDSFile filename='/Users/smerdis/data/LGN/BIDS/NB_combined/derivatives/fmriprep/sub-NB/figures/sub-NB_ses-20190205_task-mp_acq-sbiso_run-01_bold_rois.svg'>,\n",
       " '/Users/smerdis/data/LGN/BIDS/NB_combined/derivatives/fmriprep/sub-NB/figures/sub-NB_ses-20190205_task-mp_acq-sb165nogap_bold_bbr.svg': <BIDSFile filename='/Users/smerdis/data/LGN/BIDS/NB_combined/derivatives/fmriprep/sub-NB/figures/sub-NB_ses-20190205_task-mp_acq-sb165nogap_bold_bbr.svg'>,\n",
       " '/Users/smerdis/data/LGN/BIDS/NB_combined/derivatives/fmriprep/sub-NB/log/20190310-174737_0f4c93f3-0d59-4f44-a4ed-59b628ea3595/crash-20190310-175333-arjunm-gen_ref-be9e9b40-b1c3-430a-8921-e897a9bc514d.txt': <BIDSFile filename='/Users/smerdis/data/LGN/BIDS/NB_combined/derivatives/fmriprep/sub-NB/log/20190310-174737_0f4c93f3-0d59-4f44-a4ed-59b628ea3595/crash-20190310-175333-arjunm-gen_ref-be9e9b40-b1c3-430a-8921-e897a9bc514d.txt'>,\n",
       " '/Users/smerdis/data/LGN/BIDS/NB_combined/derivatives/fmriprep/sub-NB/log/20190310-174737_0f4c93f3-0d59-4f44-a4ed-59b628ea3595/crash-20190310-175341-arjunm-slice_timing_correction-0fbae39c-a6b6-4655-bc47-c8f6aef2706c.txt': <BIDSFile filename='/Users/smerdis/data/LGN/BIDS/NB_combined/derivatives/fmriprep/sub-NB/log/20190310-174737_0f4c93f3-0d59-4f44-a4ed-59b628ea3595/crash-20190310-175341-arjunm-slice_timing_correction-0fbae39c-a6b6-4655-bc47-c8f6aef2706c.txt'>,\n",
       " '/Users/smerdis/data/LGN/BIDS/NB_combined/derivatives/fmriprep/sub-NB/log/20190310-174737_0f4c93f3-0d59-4f44-a4ed-59b628ea3595/crash-20190310-175117-arjunm-gen_ref-466e0093-47ea-470d-a8d9-de7b649a14ce.txt': <BIDSFile filename='/Users/smerdis/data/LGN/BIDS/NB_combined/derivatives/fmriprep/sub-NB/log/20190310-174737_0f4c93f3-0d59-4f44-a4ed-59b628ea3595/crash-20190310-175117-arjunm-gen_ref-466e0093-47ea-470d-a8d9-de7b649a14ce.txt'>,\n",
       " '/Users/smerdis/data/LGN/BIDS/NB_combined/derivatives/fmriprep/sub-NB/log/20190310-174737_0f4c93f3-0d59-4f44-a4ed-59b628ea3595/crash-20190310-175337-arjunm-gen_ref-ab2c70c1-2a3d-4563-ac14-cb634d396d71.txt': <BIDSFile filename='/Users/smerdis/data/LGN/BIDS/NB_combined/derivatives/fmriprep/sub-NB/log/20190310-174737_0f4c93f3-0d59-4f44-a4ed-59b628ea3595/crash-20190310-175337-arjunm-gen_ref-ab2c70c1-2a3d-4563-ac14-cb634d396d71.txt'>,\n",
       " '/Users/smerdis/data/LGN/BIDS/NB_combined/derivatives/fmriprep/sub-NB/log/20190310-174737_0f4c93f3-0d59-4f44-a4ed-59b628ea3595/crash-20190310-175117-arjunm-gen_ref-e7fbe8ae-cbfb-4f67-b4f9-348260f86eeb.txt': <BIDSFile filename='/Users/smerdis/data/LGN/BIDS/NB_combined/derivatives/fmriprep/sub-NB/log/20190310-174737_0f4c93f3-0d59-4f44-a4ed-59b628ea3595/crash-20190310-175117-arjunm-gen_ref-e7fbe8ae-cbfb-4f67-b4f9-348260f86eeb.txt'>,\n",
       " '/Users/smerdis/data/LGN/BIDS/NB_combined/derivatives/fmriprep/sub-NB/log/20190310-174737_0f4c93f3-0d59-4f44-a4ed-59b628ea3595/crash-20190310-175357-arjunm-slice_timing_correction-c7245678-ff74-448e-9d63-9fc8f930a981.txt': <BIDSFile filename='/Users/smerdis/data/LGN/BIDS/NB_combined/derivatives/fmriprep/sub-NB/log/20190310-174737_0f4c93f3-0d59-4f44-a4ed-59b628ea3595/crash-20190310-175357-arjunm-slice_timing_correction-c7245678-ff74-448e-9d63-9fc8f930a981.txt'>,\n",
       " '/Users/smerdis/data/LGN/BIDS/NB_combined/derivatives/fmriprep/sub-NB/ses-20180803/.DS_Store': <BIDSFile filename='/Users/smerdis/data/LGN/BIDS/NB_combined/derivatives/fmriprep/sub-NB/ses-20180803/.DS_Store'>,\n",
       " '/Users/smerdis/data/LGN/BIDS/NB_combined/derivatives/fmriprep/sub-NB/ses-20180803/anat/sub-NB_ses-20180803_T1w_space-orig_target-T1w_affine.txt': <BIDSFile filename='/Users/smerdis/data/LGN/BIDS/NB_combined/derivatives/fmriprep/sub-NB/ses-20180803/anat/sub-NB_ses-20180803_T1w_space-orig_target-T1w_affine.txt'>,\n",
       " '/Users/smerdis/data/LGN/BIDS/NB_combined/derivatives/fmriprep/sub-NB/ses-20180803/func/sub-NB_ses-20180803_task-mp_run-08_bold_space-T1w_preproc.nii.gz': <BIDSImageFile filename='/Users/smerdis/data/LGN/BIDS/NB_combined/derivatives/fmriprep/sub-NB/ses-20180803/func/sub-NB_ses-20180803_task-mp_run-08_bold_space-T1w_preproc.nii.gz'>,\n",
       " '/Users/smerdis/data/LGN/BIDS/NB_combined/derivatives/fmriprep/sub-NB/ses-20180803/func/sub-NB_ses-20180803_task-mp_run-02_bold_confounds.tsv': <BIDSDataFile filename='/Users/smerdis/data/LGN/BIDS/NB_combined/derivatives/fmriprep/sub-NB/ses-20180803/func/sub-NB_ses-20180803_task-mp_run-02_bold_confounds.tsv'>,\n",
       " '/Users/smerdis/data/LGN/BIDS/NB_combined/derivatives/fmriprep/sub-NB/ses-20180803/func/sub-NB_ses-20180803_task-mp_run-02_bold_space-T1w_label-aparcaseg_roi.nii.gz': <BIDSImageFile filename='/Users/smerdis/data/LGN/BIDS/NB_combined/derivatives/fmriprep/sub-NB/ses-20180803/func/sub-NB_ses-20180803_task-mp_run-02_bold_space-T1w_label-aparcaseg_roi.nii.gz'>,\n",
       " '/Users/smerdis/data/LGN/BIDS/NB_combined/derivatives/fmriprep/sub-NB/ses-20180803/func/sub-NB_ses-20180803_task-mp_run-08_bold_space-T1w_label-aseg_roi.nii.gz': <BIDSImageFile filename='/Users/smerdis/data/LGN/BIDS/NB_combined/derivatives/fmriprep/sub-NB/ses-20180803/func/sub-NB_ses-20180803_task-mp_run-08_bold_space-T1w_label-aseg_roi.nii.gz'>,\n",
       " '/Users/smerdis/data/LGN/BIDS/NB_combined/derivatives/fmriprep/sub-NB/ses-20180803/func/sub-NB_ses-20180803_task-mp_run-07_bold_space-T1w_preproc.nii.gz': <BIDSImageFile filename='/Users/smerdis/data/LGN/BIDS/NB_combined/derivatives/fmriprep/sub-NB/ses-20180803/func/sub-NB_ses-20180803_task-mp_run-07_bold_space-T1w_preproc.nii.gz'>,\n",
       " '/Users/smerdis/data/LGN/BIDS/NB_combined/derivatives/fmriprep/sub-NB/ses-20180803/func/sub-NB_ses-20180803_task-mp_run-03_bold_space-T1w_label-aparcaseg_roi.nii.gz': <BIDSImageFile filename='/Users/smerdis/data/LGN/BIDS/NB_combined/derivatives/fmriprep/sub-NB/ses-20180803/func/sub-NB_ses-20180803_task-mp_run-03_bold_space-T1w_label-aparcaseg_roi.nii.gz'>,\n",
       " '/Users/smerdis/data/LGN/BIDS/NB_combined/derivatives/fmriprep/sub-NB/ses-20180803/func/sub-NB_ses-20180803_task-mp_run-03_bold_space-T1w_brainmask.nii.gz': <BIDSImageFile filename='/Users/smerdis/data/LGN/BIDS/NB_combined/derivatives/fmriprep/sub-NB/ses-20180803/func/sub-NB_ses-20180803_task-mp_run-03_bold_space-T1w_brainmask.nii.gz'>,\n",
       " '/Users/smerdis/data/LGN/BIDS/NB_combined/derivatives/fmriprep/sub-NB/ses-20180803/func/sub-NB_ses-20180803_task-mp_run-05_bold_space-T1w_label-aparcaseg_roi.nii.gz': <BIDSImageFile filename='/Users/smerdis/data/LGN/BIDS/NB_combined/derivatives/fmriprep/sub-NB/ses-20180803/func/sub-NB_ses-20180803_task-mp_run-05_bold_space-T1w_label-aparcaseg_roi.nii.gz'>,\n",
       " '/Users/smerdis/data/LGN/BIDS/NB_combined/derivatives/fmriprep/sub-NB/ses-20180803/func/sub-NB_ses-20180803_task-mp_run-04_bold_space-T1w_label-aparcaseg_roi.nii.gz': <BIDSImageFile filename='/Users/smerdis/data/LGN/BIDS/NB_combined/derivatives/fmriprep/sub-NB/ses-20180803/func/sub-NB_ses-20180803_task-mp_run-04_bold_space-T1w_label-aparcaseg_roi.nii.gz'>,\n",
       " '/Users/smerdis/data/LGN/BIDS/NB_combined/derivatives/fmriprep/sub-NB/ses-20180803/func/sub-NB_ses-20180803_task-mp_run-06_bold_space-T1w_brainmask.nii.gz': <BIDSImageFile filename='/Users/smerdis/data/LGN/BIDS/NB_combined/derivatives/fmriprep/sub-NB/ses-20180803/func/sub-NB_ses-20180803_task-mp_run-06_bold_space-T1w_brainmask.nii.gz'>,\n",
       " '/Users/smerdis/data/LGN/BIDS/NB_combined/derivatives/fmriprep/sub-NB/ses-20180803/func/sub-NB_ses-20180803_task-mp_run-01_bold_confounds.tsv': <BIDSDataFile filename='/Users/smerdis/data/LGN/BIDS/NB_combined/derivatives/fmriprep/sub-NB/ses-20180803/func/sub-NB_ses-20180803_task-mp_run-01_bold_confounds.tsv'>,\n",
       " '/Users/smerdis/data/LGN/BIDS/NB_combined/derivatives/fmriprep/sub-NB/ses-20180803/func/sub-NB_ses-20180803_task-mp_run-09_bold_space-T1w_label-aseg_roi.nii.gz': <BIDSImageFile filename='/Users/smerdis/data/LGN/BIDS/NB_combined/derivatives/fmriprep/sub-NB/ses-20180803/func/sub-NB_ses-20180803_task-mp_run-09_bold_space-T1w_label-aseg_roi.nii.gz'>,\n",
       " '/Users/smerdis/data/LGN/BIDS/NB_combined/derivatives/fmriprep/sub-NB/ses-20180803/func/sub-NB_ses-20180803_task-mp_run-06_bold_space-T1w_preproc.nii.gz': <BIDSImageFile filename='/Users/smerdis/data/LGN/BIDS/NB_combined/derivatives/fmriprep/sub-NB/ses-20180803/func/sub-NB_ses-20180803_task-mp_run-06_bold_space-T1w_preproc.nii.gz'>,\n",
       " '/Users/smerdis/data/LGN/BIDS/NB_combined/derivatives/fmriprep/sub-NB/ses-20180803/func/sub-NB_ses-20180803_task-mp_run-03_bold_space-T1w_label-aseg_roi.nii.gz': <BIDSImageFile filename='/Users/smerdis/data/LGN/BIDS/NB_combined/derivatives/fmriprep/sub-NB/ses-20180803/func/sub-NB_ses-20180803_task-mp_run-03_bold_space-T1w_label-aseg_roi.nii.gz'>,\n",
       " '/Users/smerdis/data/LGN/BIDS/NB_combined/derivatives/fmriprep/sub-NB/ses-20180803/func/sub-NB_ses-20180803_task-mp_run-07_bold_confounds.tsv': <BIDSDataFile filename='/Users/smerdis/data/LGN/BIDS/NB_combined/derivatives/fmriprep/sub-NB/ses-20180803/func/sub-NB_ses-20180803_task-mp_run-07_bold_confounds.tsv'>,\n",
       " '/Users/smerdis/data/LGN/BIDS/NB_combined/derivatives/fmriprep/sub-NB/ses-20180803/func/sub-NB_ses-20180803_task-mp_run-04_bold_space-T1w_label-aseg_roi.nii.gz': <BIDSImageFile filename='/Users/smerdis/data/LGN/BIDS/NB_combined/derivatives/fmriprep/sub-NB/ses-20180803/func/sub-NB_ses-20180803_task-mp_run-04_bold_space-T1w_label-aseg_roi.nii.gz'>,\n",
       " '/Users/smerdis/data/LGN/BIDS/NB_combined/derivatives/fmriprep/sub-NB/ses-20180803/func/sub-NB_ses-20180803_task-mp_run-05_bold_space-T1w_brainmask.nii.gz': <BIDSImageFile filename='/Users/smerdis/data/LGN/BIDS/NB_combined/derivatives/fmriprep/sub-NB/ses-20180803/func/sub-NB_ses-20180803_task-mp_run-05_bold_space-T1w_brainmask.nii.gz'>,\n",
       " '/Users/smerdis/data/LGN/BIDS/NB_combined/derivatives/fmriprep/sub-NB/ses-20180803/func/sub-NB_ses-20180803_task-mp_run-09_bold_space-T1w_preproc.nii.gz': <BIDSImageFile filename='/Users/smerdis/data/LGN/BIDS/NB_combined/derivatives/fmriprep/sub-NB/ses-20180803/func/sub-NB_ses-20180803_task-mp_run-09_bold_space-T1w_preproc.nii.gz'>,\n",
       " '/Users/smerdis/data/LGN/BIDS/NB_combined/derivatives/fmriprep/sub-NB/ses-20180803/func/sub-NB_ses-20180803_task-mp_run-02_bold_space-T1w_label-aseg_roi.nii.gz': <BIDSImageFile filename='/Users/smerdis/data/LGN/BIDS/NB_combined/derivatives/fmriprep/sub-NB/ses-20180803/func/sub-NB_ses-20180803_task-mp_run-02_bold_space-T1w_label-aseg_roi.nii.gz'>,\n",
       " '/Users/smerdis/data/LGN/BIDS/NB_combined/derivatives/fmriprep/sub-NB/ses-20180803/func/sub-NB_ses-20180803_task-mp_run-05_bold_space-T1w_label-aseg_roi.nii.gz': <BIDSImageFile filename='/Users/smerdis/data/LGN/BIDS/NB_combined/derivatives/fmriprep/sub-NB/ses-20180803/func/sub-NB_ses-20180803_task-mp_run-05_bold_space-T1w_label-aseg_roi.nii.gz'>,\n",
       " '/Users/smerdis/data/LGN/BIDS/NB_combined/derivatives/fmriprep/sub-NB/ses-20180803/func/sub-NB_ses-20180803_task-mp_run-08_bold_space-T1w_brainmask.nii.gz': <BIDSImageFile filename='/Users/smerdis/data/LGN/BIDS/NB_combined/derivatives/fmriprep/sub-NB/ses-20180803/func/sub-NB_ses-20180803_task-mp_run-08_bold_space-T1w_brainmask.nii.gz'>,\n",
       " '/Users/smerdis/data/LGN/BIDS/NB_combined/derivatives/fmriprep/sub-NB/ses-20180803/func/sub-NB_ses-20180803_task-mp_run-01_bold_space-T1w_preproc.nii.gz': <BIDSImageFile filename='/Users/smerdis/data/LGN/BIDS/NB_combined/derivatives/fmriprep/sub-NB/ses-20180803/func/sub-NB_ses-20180803_task-mp_run-01_bold_space-T1w_preproc.nii.gz'>,\n",
       " '/Users/smerdis/data/LGN/BIDS/NB_combined/derivatives/fmriprep/sub-NB/ses-20180803/func/sub-NB_ses-20180803_task-mp_run-09_bold_confounds.tsv': <BIDSDataFile filename='/Users/smerdis/data/LGN/BIDS/NB_combined/derivatives/fmriprep/sub-NB/ses-20180803/func/sub-NB_ses-20180803_task-mp_run-09_bold_confounds.tsv'>,\n",
       " '/Users/smerdis/data/LGN/BIDS/NB_combined/derivatives/fmriprep/sub-NB/ses-20180803/func/sub-NB_ses-20180803_task-mp_run-04_bold_confounds.tsv': <BIDSDataFile filename='/Users/smerdis/data/LGN/BIDS/NB_combined/derivatives/fmriprep/sub-NB/ses-20180803/func/sub-NB_ses-20180803_task-mp_run-04_bold_confounds.tsv'>,\n",
       " '/Users/smerdis/data/LGN/BIDS/NB_combined/derivatives/fmriprep/sub-NB/ses-20180803/func/sub-NB_ses-20180803_task-mp_run-10_bold_space-T1w_preproc.nii.gz': <BIDSImageFile filename='/Users/smerdis/data/LGN/BIDS/NB_combined/derivatives/fmriprep/sub-NB/ses-20180803/func/sub-NB_ses-20180803_task-mp_run-10_bold_space-T1w_preproc.nii.gz'>,\n",
       " '/Users/smerdis/data/LGN/BIDS/NB_combined/derivatives/fmriprep/sub-NB/ses-20180803/func/sub-NB_ses-20180803_task-mp_run-07_bold_space-T1w_label-aseg_roi.nii.gz': <BIDSImageFile filename='/Users/smerdis/data/LGN/BIDS/NB_combined/derivatives/fmriprep/sub-NB/ses-20180803/func/sub-NB_ses-20180803_task-mp_run-07_bold_space-T1w_label-aseg_roi.nii.gz'>,\n",
       " '/Users/smerdis/data/LGN/BIDS/NB_combined/derivatives/fmriprep/sub-NB/ses-20180803/func/sub-NB_ses-20180803_task-mp_run-10_bold_space-T1w_label-aseg_roi.nii.gz': <BIDSImageFile filename='/Users/smerdis/data/LGN/BIDS/NB_combined/derivatives/fmriprep/sub-NB/ses-20180803/func/sub-NB_ses-20180803_task-mp_run-10_bold_space-T1w_label-aseg_roi.nii.gz'>,\n",
       " '/Users/smerdis/data/LGN/BIDS/NB_combined/derivatives/fmriprep/sub-NB/ses-20180803/func/sub-NB_ses-20180803_task-mp_run-04_bold_space-T1w_brainmask.nii.gz': <BIDSImageFile filename='/Users/smerdis/data/LGN/BIDS/NB_combined/derivatives/fmriprep/sub-NB/ses-20180803/func/sub-NB_ses-20180803_task-mp_run-04_bold_space-T1w_brainmask.nii.gz'>,\n",
       " '/Users/smerdis/data/LGN/BIDS/NB_combined/derivatives/fmriprep/sub-NB/ses-20180803/func/sub-NB_ses-20180803_task-mp_run-02_bold_space-T1w_preproc.nii.gz': <BIDSImageFile filename='/Users/smerdis/data/LGN/BIDS/NB_combined/derivatives/fmriprep/sub-NB/ses-20180803/func/sub-NB_ses-20180803_task-mp_run-02_bold_space-T1w_preproc.nii.gz'>,\n",
       " '/Users/smerdis/data/LGN/BIDS/NB_combined/derivatives/fmriprep/sub-NB/ses-20180803/func/sub-NB_ses-20180803_task-mp_run-01_bold_space-T1w_brainmask.nii.gz': <BIDSImageFile filename='/Users/smerdis/data/LGN/BIDS/NB_combined/derivatives/fmriprep/sub-NB/ses-20180803/func/sub-NB_ses-20180803_task-mp_run-01_bold_space-T1w_brainmask.nii.gz'>,\n",
       " '/Users/smerdis/data/LGN/BIDS/NB_combined/derivatives/fmriprep/sub-NB/ses-20180803/func/sub-NB_ses-20180803_task-mp_run-01_bold_space-T1w_label-aparcaseg_roi.nii.gz': <BIDSImageFile filename='/Users/smerdis/data/LGN/BIDS/NB_combined/derivatives/fmriprep/sub-NB/ses-20180803/func/sub-NB_ses-20180803_task-mp_run-01_bold_space-T1w_label-aparcaseg_roi.nii.gz'>,\n",
       " '/Users/smerdis/data/LGN/BIDS/NB_combined/derivatives/fmriprep/sub-NB/ses-20180803/func/sub-NB_ses-20180803_task-mp_run-08_bold_confounds.tsv': <BIDSDataFile filename='/Users/smerdis/data/LGN/BIDS/NB_combined/derivatives/fmriprep/sub-NB/ses-20180803/func/sub-NB_ses-20180803_task-mp_run-08_bold_confounds.tsv'>,\n",
       " '/Users/smerdis/data/LGN/BIDS/NB_combined/derivatives/fmriprep/sub-NB/ses-20180803/func/sub-NB_ses-20180803_task-mp_run-05_bold_confounds.tsv': <BIDSDataFile filename='/Users/smerdis/data/LGN/BIDS/NB_combined/derivatives/fmriprep/sub-NB/ses-20180803/func/sub-NB_ses-20180803_task-mp_run-05_bold_confounds.tsv'>,\n",
       " '/Users/smerdis/data/LGN/BIDS/NB_combined/derivatives/fmriprep/sub-NB/ses-20180803/func/sub-NB_ses-20180803_task-mp_run-06_bold_confounds.tsv': <BIDSDataFile filename='/Users/smerdis/data/LGN/BIDS/NB_combined/derivatives/fmriprep/sub-NB/ses-20180803/func/sub-NB_ses-20180803_task-mp_run-06_bold_confounds.tsv'>,\n",
       " '/Users/smerdis/data/LGN/BIDS/NB_combined/derivatives/fmriprep/sub-NB/ses-20180803/func/sub-NB_ses-20180803_task-mp_run-06_bold_space-T1w_label-aseg_roi.nii.gz': <BIDSImageFile filename='/Users/smerdis/data/LGN/BIDS/NB_combined/derivatives/fmriprep/sub-NB/ses-20180803/func/sub-NB_ses-20180803_task-mp_run-06_bold_space-T1w_label-aseg_roi.nii.gz'>,\n",
       " '/Users/smerdis/data/LGN/BIDS/NB_combined/derivatives/fmriprep/sub-NB/ses-20180803/func/sub-NB_ses-20180803_task-mp_run-05_bold_space-T1w_preproc.nii.gz': <BIDSImageFile filename='/Users/smerdis/data/LGN/BIDS/NB_combined/derivatives/fmriprep/sub-NB/ses-20180803/func/sub-NB_ses-20180803_task-mp_run-05_bold_space-T1w_preproc.nii.gz'>,\n",
       " '/Users/smerdis/data/LGN/BIDS/NB_combined/derivatives/fmriprep/sub-NB/ses-20180803/func/sub-NB_ses-20180803_task-mp_run-07_bold_space-T1w_label-aparcaseg_roi.nii.gz': <BIDSImageFile filename='/Users/smerdis/data/LGN/BIDS/NB_combined/derivatives/fmriprep/sub-NB/ses-20180803/func/sub-NB_ses-20180803_task-mp_run-07_bold_space-T1w_label-aparcaseg_roi.nii.gz'>,\n",
       " '/Users/smerdis/data/LGN/BIDS/NB_combined/derivatives/fmriprep/sub-NB/ses-20180803/func/sub-NB_ses-20180803_task-mp_run-01_bold_space-T1w_label-aseg_roi.nii.gz': <BIDSImageFile filename='/Users/smerdis/data/LGN/BIDS/NB_combined/derivatives/fmriprep/sub-NB/ses-20180803/func/sub-NB_ses-20180803_task-mp_run-01_bold_space-T1w_label-aseg_roi.nii.gz'>,\n",
       " '/Users/smerdis/data/LGN/BIDS/NB_combined/derivatives/fmriprep/sub-NB/ses-20180803/func/sub-NB_ses-20180803_task-mp_run-09_bold_space-T1w_brainmask.nii.gz': <BIDSImageFile filename='/Users/smerdis/data/LGN/BIDS/NB_combined/derivatives/fmriprep/sub-NB/ses-20180803/func/sub-NB_ses-20180803_task-mp_run-09_bold_space-T1w_brainmask.nii.gz'>,\n",
       " '/Users/smerdis/data/LGN/BIDS/NB_combined/derivatives/fmriprep/sub-NB/ses-20180803/func/sub-NB_ses-20180803_task-mp_run-06_bold_space-T1w_label-aparcaseg_roi.nii.gz': <BIDSImageFile filename='/Users/smerdis/data/LGN/BIDS/NB_combined/derivatives/fmriprep/sub-NB/ses-20180803/func/sub-NB_ses-20180803_task-mp_run-06_bold_space-T1w_label-aparcaseg_roi.nii.gz'>,\n",
       " '/Users/smerdis/data/LGN/BIDS/NB_combined/derivatives/fmriprep/sub-NB/ses-20180803/func/sub-NB_ses-20180803_task-mp_run-10_bold_space-T1w_label-aparcaseg_roi.nii.gz': <BIDSImageFile filename='/Users/smerdis/data/LGN/BIDS/NB_combined/derivatives/fmriprep/sub-NB/ses-20180803/func/sub-NB_ses-20180803_task-mp_run-10_bold_space-T1w_label-aparcaseg_roi.nii.gz'>,\n",
       " '/Users/smerdis/data/LGN/BIDS/NB_combined/derivatives/fmriprep/sub-NB/ses-20180803/func/sub-NB_ses-20180803_task-mp_run-03_bold_space-T1w_preproc.nii.gz': <BIDSImageFile filename='/Users/smerdis/data/LGN/BIDS/NB_combined/derivatives/fmriprep/sub-NB/ses-20180803/func/sub-NB_ses-20180803_task-mp_run-03_bold_space-T1w_preproc.nii.gz'>,\n",
       " '/Users/smerdis/data/LGN/BIDS/NB_combined/derivatives/fmriprep/sub-NB/ses-20180803/func/sub-NB_ses-20180803_task-mp_run-10_bold_confounds.tsv': <BIDSDataFile filename='/Users/smerdis/data/LGN/BIDS/NB_combined/derivatives/fmriprep/sub-NB/ses-20180803/func/sub-NB_ses-20180803_task-mp_run-10_bold_confounds.tsv'>,\n",
       " '/Users/smerdis/data/LGN/BIDS/NB_combined/derivatives/fmriprep/sub-NB/ses-20180803/func/sub-NB_ses-20180803_task-mp_run-08_bold_space-T1w_label-aparcaseg_roi.nii.gz': <BIDSImageFile filename='/Users/smerdis/data/LGN/BIDS/NB_combined/derivatives/fmriprep/sub-NB/ses-20180803/func/sub-NB_ses-20180803_task-mp_run-08_bold_space-T1w_label-aparcaseg_roi.nii.gz'>,\n",
       " '/Users/smerdis/data/LGN/BIDS/NB_combined/derivatives/fmriprep/sub-NB/ses-20180803/func/sub-NB_ses-20180803_task-mp_run-07_bold_space-T1w_brainmask.nii.gz': <BIDSImageFile filename='/Users/smerdis/data/LGN/BIDS/NB_combined/derivatives/fmriprep/sub-NB/ses-20180803/func/sub-NB_ses-20180803_task-mp_run-07_bold_space-T1w_brainmask.nii.gz'>,\n",
       " '/Users/smerdis/data/LGN/BIDS/NB_combined/derivatives/fmriprep/sub-NB/ses-20180803/func/sub-NB_ses-20180803_task-mp_run-03_bold_confounds.tsv': <BIDSDataFile filename='/Users/smerdis/data/LGN/BIDS/NB_combined/derivatives/fmriprep/sub-NB/ses-20180803/func/sub-NB_ses-20180803_task-mp_run-03_bold_confounds.tsv'>,\n",
       " '/Users/smerdis/data/LGN/BIDS/NB_combined/derivatives/fmriprep/sub-NB/ses-20180803/func/sub-NB_ses-20180803_task-mp_run-04_bold_space-T1w_preproc.nii.gz': <BIDSImageFile filename='/Users/smerdis/data/LGN/BIDS/NB_combined/derivatives/fmriprep/sub-NB/ses-20180803/func/sub-NB_ses-20180803_task-mp_run-04_bold_space-T1w_preproc.nii.gz'>,\n",
       " '/Users/smerdis/data/LGN/BIDS/NB_combined/derivatives/fmriprep/sub-NB/ses-20180803/func/sub-NB_ses-20180803_task-mp_run-02_bold_space-T1w_brainmask.nii.gz': <BIDSImageFile filename='/Users/smerdis/data/LGN/BIDS/NB_combined/derivatives/fmriprep/sub-NB/ses-20180803/func/sub-NB_ses-20180803_task-mp_run-02_bold_space-T1w_brainmask.nii.gz'>,\n",
       " '/Users/smerdis/data/LGN/BIDS/NB_combined/derivatives/fmriprep/sub-NB/ses-20180803/func/sub-NB_ses-20180803_task-mp_run-09_bold_space-T1w_label-aparcaseg_roi.nii.gz': <BIDSImageFile filename='/Users/smerdis/data/LGN/BIDS/NB_combined/derivatives/fmriprep/sub-NB/ses-20180803/func/sub-NB_ses-20180803_task-mp_run-09_bold_space-T1w_label-aparcaseg_roi.nii.gz'>,\n",
       " '/Users/smerdis/data/LGN/BIDS/NB_combined/derivatives/fmriprep/sub-NB/ses-20180803/func/sub-NB_ses-20180803_task-mp_run-10_bold_space-T1w_brainmask.nii.gz': <BIDSImageFile filename='/Users/smerdis/data/LGN/BIDS/NB_combined/derivatives/fmriprep/sub-NB/ses-20180803/func/sub-NB_ses-20180803_task-mp_run-10_bold_space-T1w_brainmask.nii.gz'>,\n",
       " '/Users/smerdis/data/LGN/BIDS/NB_combined/derivatives/fmriprep/sub-NB/ses-20190205/.DS_Store': <BIDSFile filename='/Users/smerdis/data/LGN/BIDS/NB_combined/derivatives/fmriprep/sub-NB/ses-20190205/.DS_Store'>,\n",
       " '/Users/smerdis/data/LGN/BIDS/NB_combined/derivatives/fmriprep/sub-NB/ses-20190205/func/sub-NB_ses-20190205_task-mp_acq-sbiso_run-08_bold_space-T1w_preproc.nii.gz': <BIDSImageFile filename='/Users/smerdis/data/LGN/BIDS/NB_combined/derivatives/fmriprep/sub-NB/ses-20190205/func/sub-NB_ses-20190205_task-mp_acq-sbiso_run-08_bold_space-T1w_preproc.nii.gz'>,\n",
       " '/Users/smerdis/data/LGN/BIDS/NB_combined/derivatives/fmriprep/sub-NB/ses-20190205/func/sub-NB_ses-20190205_task-mp_acq-sbiso_run-03_bold_confounds.tsv': <BIDSDataFile filename='/Users/smerdis/data/LGN/BIDS/NB_combined/derivatives/fmriprep/sub-NB/ses-20190205/func/sub-NB_ses-20190205_task-mp_acq-sbiso_run-03_bold_confounds.tsv'>,\n",
       " '/Users/smerdis/data/LGN/BIDS/NB_combined/derivatives/fmriprep/sub-NB/ses-20190205/func/sub-NB_ses-20190205_task-hemi_acq-sbiso_run-02_bold_space-T1w_label-aparcaseg_roi.nii.gz': <BIDSImageFile filename='/Users/smerdis/data/LGN/BIDS/NB_combined/derivatives/fmriprep/sub-NB/ses-20190205/func/sub-NB_ses-20190205_task-hemi_acq-sbiso_run-02_bold_space-T1w_label-aparcaseg_roi.nii.gz'>,\n",
       " '/Users/smerdis/data/LGN/BIDS/NB_combined/derivatives/fmriprep/sub-NB/ses-20190205/func/sub-NB_ses-20190205_task-hemi_acq-sbiso_run-03_bold_space-T1w_brainmask.nii.gz': <BIDSImageFile filename='/Users/smerdis/data/LGN/BIDS/NB_combined/derivatives/fmriprep/sub-NB/ses-20190205/func/sub-NB_ses-20190205_task-hemi_acq-sbiso_run-03_bold_space-T1w_brainmask.nii.gz'>,\n",
       " '/Users/smerdis/data/LGN/BIDS/NB_combined/derivatives/fmriprep/sub-NB/ses-20190205/func/sub-NB_ses-20190205_task-hemi_acq-sbiso_run-03_bold_space-T1w_label-aparcaseg_roi.nii.gz': <BIDSImageFile filename='/Users/smerdis/data/LGN/BIDS/NB_combined/derivatives/fmriprep/sub-NB/ses-20190205/func/sub-NB_ses-20190205_task-hemi_acq-sbiso_run-03_bold_space-T1w_label-aparcaseg_roi.nii.gz'>,\n",
       " '/Users/smerdis/data/LGN/BIDS/NB_combined/derivatives/fmriprep/sub-NB/ses-20190205/func/sub-NB_ses-20190205_task-mp_acq-sbiso_run-07_bold_space-T1w_preproc.nii.gz': <BIDSImageFile filename='/Users/smerdis/data/LGN/BIDS/NB_combined/derivatives/fmriprep/sub-NB/ses-20190205/func/sub-NB_ses-20190205_task-mp_acq-sbiso_run-07_bold_space-T1w_preproc.nii.gz'>,\n",
       " '/Users/smerdis/data/LGN/BIDS/NB_combined/derivatives/fmriprep/sub-NB/ses-20190205/func/sub-NB_ses-20190205_task-hemi_acq-sbiso_run-01_bold_space-T1w_label-aseg_roi.nii.gz': <BIDSImageFile filename='/Users/smerdis/data/LGN/BIDS/NB_combined/derivatives/fmriprep/sub-NB/ses-20190205/func/sub-NB_ses-20190205_task-hemi_acq-sbiso_run-01_bold_space-T1w_label-aseg_roi.nii.gz'>,\n",
       " '/Users/smerdis/data/LGN/BIDS/NB_combined/derivatives/fmriprep/sub-NB/ses-20190205/func/sub-NB_ses-20190205_task-mp_acq-sbiso_run-07_bold_space-T1w_brainmask.nii.gz': <BIDSImageFile filename='/Users/smerdis/data/LGN/BIDS/NB_combined/derivatives/fmriprep/sub-NB/ses-20190205/func/sub-NB_ses-20190205_task-mp_acq-sbiso_run-07_bold_space-T1w_brainmask.nii.gz'>,\n",
       " '/Users/smerdis/data/LGN/BIDS/NB_combined/derivatives/fmriprep/sub-NB/ses-20190205/func/sub-NB_ses-20190205_task-hemi_acq-sbiso_run-03_bold_confounds.tsv': <BIDSDataFile filename='/Users/smerdis/data/LGN/BIDS/NB_combined/derivatives/fmriprep/sub-NB/ses-20190205/func/sub-NB_ses-20190205_task-hemi_acq-sbiso_run-03_bold_confounds.tsv'>,\n",
       " '/Users/smerdis/data/LGN/BIDS/NB_combined/derivatives/fmriprep/sub-NB/ses-20190205/func/.DS_Store': <BIDSFile filename='/Users/smerdis/data/LGN/BIDS/NB_combined/derivatives/fmriprep/sub-NB/ses-20190205/func/.DS_Store'>,\n",
       " '/Users/smerdis/data/LGN/BIDS/NB_combined/derivatives/fmriprep/sub-NB/ses-20190205/func/sub-NB_ses-20190205_task-mp_acq-sbiso_run-02_bold_space-T1w_brainmask.nii.gz': <BIDSImageFile filename='/Users/smerdis/data/LGN/BIDS/NB_combined/derivatives/fmriprep/sub-NB/ses-20190205/func/sub-NB_ses-20190205_task-mp_acq-sbiso_run-02_bold_space-T1w_brainmask.nii.gz'>,\n",
       " '/Users/smerdis/data/LGN/BIDS/NB_combined/derivatives/fmriprep/sub-NB/ses-20190205/func/sub-NB_ses-20190205_task-mp_acq-sbiso_run-10_bold_confounds.tsv': <BIDSDataFile filename='/Users/smerdis/data/LGN/BIDS/NB_combined/derivatives/fmriprep/sub-NB/ses-20190205/func/sub-NB_ses-20190205_task-mp_acq-sbiso_run-10_bold_confounds.tsv'>,\n",
       " '/Users/smerdis/data/LGN/BIDS/NB_combined/derivatives/fmriprep/sub-NB/ses-20190205/func/sub-NB_ses-20190205_task-hemi_acq-sbiso_run-04_bold_space-T1w_label-aparcaseg_roi.nii.gz': <BIDSImageFile filename='/Users/smerdis/data/LGN/BIDS/NB_combined/derivatives/fmriprep/sub-NB/ses-20190205/func/sub-NB_ses-20190205_task-hemi_acq-sbiso_run-04_bold_space-T1w_label-aparcaseg_roi.nii.gz'>,\n",
       " '/Users/smerdis/data/LGN/BIDS/NB_combined/derivatives/fmriprep/sub-NB/ses-20190205/func/sub-NB_ses-20190205_task-mp_acq-sbiso_run-10_bold_space-T1w_brainmask.nii.gz': <BIDSImageFile filename='/Users/smerdis/data/LGN/BIDS/NB_combined/derivatives/fmriprep/sub-NB/ses-20190205/func/sub-NB_ses-20190205_task-mp_acq-sbiso_run-10_bold_space-T1w_brainmask.nii.gz'>,\n",
       " '/Users/smerdis/data/LGN/BIDS/NB_combined/derivatives/fmriprep/sub-NB/ses-20190205/func/sub-NB_ses-20190205_task-mp_acq-sbiso_run-04_bold_space-T1w_brainmask.nii.gz': <BIDSImageFile filename='/Users/smerdis/data/LGN/BIDS/NB_combined/derivatives/fmriprep/sub-NB/ses-20190205/func/sub-NB_ses-20190205_task-mp_acq-sbiso_run-04_bold_space-T1w_brainmask.nii.gz'>,\n",
       " '/Users/smerdis/data/LGN/BIDS/NB_combined/derivatives/fmriprep/sub-NB/ses-20190205/func/sub-NB_ses-20190205_task-mp_acq-sbiso_run-06_bold_confounds.tsv': <BIDSDataFile filename='/Users/smerdis/data/LGN/BIDS/NB_combined/derivatives/fmriprep/sub-NB/ses-20190205/func/sub-NB_ses-20190205_task-mp_acq-sbiso_run-06_bold_confounds.tsv'>,\n",
       " '/Users/smerdis/data/LGN/BIDS/NB_combined/derivatives/fmriprep/sub-NB/ses-20190205/func/sub-NB_ses-20190205_task-mp_acq-sbiso_run-06_bold_space-T1w_preproc.nii.gz': <BIDSImageFile filename='/Users/smerdis/data/LGN/BIDS/NB_combined/derivatives/fmriprep/sub-NB/ses-20190205/func/sub-NB_ses-20190205_task-mp_acq-sbiso_run-06_bold_space-T1w_preproc.nii.gz'>,\n",
       " '/Users/smerdis/data/LGN/BIDS/NB_combined/derivatives/fmriprep/sub-NB/ses-20190205/func/sub-NB_ses-20190205_task-mp_acq-sbiso_run-04_bold_space-T1w_label-aparcaseg_roi.nii.gz': <BIDSImageFile filename='/Users/smerdis/data/LGN/BIDS/NB_combined/derivatives/fmriprep/sub-NB/ses-20190205/func/sub-NB_ses-20190205_task-mp_acq-sbiso_run-04_bold_space-T1w_label-aparcaseg_roi.nii.gz'>,\n",
       " '/Users/smerdis/data/LGN/BIDS/NB_combined/derivatives/fmriprep/sub-NB/ses-20190205/func/sub-NB_ses-20190205_task-mp_acq-sbiso_run-06_bold_space-T1w_label-aseg_roi.nii.gz': <BIDSImageFile filename='/Users/smerdis/data/LGN/BIDS/NB_combined/derivatives/fmriprep/sub-NB/ses-20190205/func/sub-NB_ses-20190205_task-mp_acq-sbiso_run-06_bold_space-T1w_label-aseg_roi.nii.gz'>,\n",
       " '/Users/smerdis/data/LGN/BIDS/NB_combined/derivatives/fmriprep/sub-NB/ses-20190205/func/sub-NB_ses-20190205_task-mp_acq-sbiso_run-05_bold_space-T1w_label-aparcaseg_roi.nii.gz': <BIDSImageFile filename='/Users/smerdis/data/LGN/BIDS/NB_combined/derivatives/fmriprep/sub-NB/ses-20190205/func/sub-NB_ses-20190205_task-mp_acq-sbiso_run-05_bold_space-T1w_label-aparcaseg_roi.nii.gz'>,\n",
       " '/Users/smerdis/data/LGN/BIDS/NB_combined/derivatives/fmriprep/sub-NB/ses-20190205/func/sub-NB_ses-20190205_task-mp_acq-sbiso_run-01_bold_space-T1w_label-aseg_roi.nii.gz': <BIDSImageFile filename='/Users/smerdis/data/LGN/BIDS/NB_combined/derivatives/fmriprep/sub-NB/ses-20190205/func/sub-NB_ses-20190205_task-mp_acq-sbiso_run-01_bold_space-T1w_label-aseg_roi.nii.gz'>,\n",
       " '/Users/smerdis/data/LGN/BIDS/NB_combined/derivatives/fmriprep/sub-NB/ses-20190205/func/sub-NB_ses-20190205_task-mp_acq-sbiso_run-01_bold_space-T1w_brainmask.nii.gz': <BIDSImageFile filename='/Users/smerdis/data/LGN/BIDS/NB_combined/derivatives/fmriprep/sub-NB/ses-20190205/func/sub-NB_ses-20190205_task-mp_acq-sbiso_run-01_bold_space-T1w_brainmask.nii.gz'>,\n",
       " '/Users/smerdis/data/LGN/BIDS/NB_combined/derivatives/fmriprep/sub-NB/ses-20190205/func/sub-NB_ses-20190205_task-mp_acq-sbiso_run-09_bold_space-T1w_preproc.nii.gz': <BIDSImageFile filename='/Users/smerdis/data/LGN/BIDS/NB_combined/derivatives/fmriprep/sub-NB/ses-20190205/func/sub-NB_ses-20190205_task-mp_acq-sbiso_run-09_bold_space-T1w_preproc.nii.gz'>,\n",
       " '/Users/smerdis/data/LGN/BIDS/NB_combined/derivatives/fmriprep/sub-NB/ses-20190205/func/sub-NB_ses-20190205_task-mp_acq-sbiso_run-03_bold_space-T1w_label-aparcaseg_roi.nii.gz': <BIDSImageFile filename='/Users/smerdis/data/LGN/BIDS/NB_combined/derivatives/fmriprep/sub-NB/ses-20190205/func/sub-NB_ses-20190205_task-mp_acq-sbiso_run-03_bold_space-T1w_label-aparcaseg_roi.nii.gz'>,\n",
       " '/Users/smerdis/data/LGN/BIDS/NB_combined/derivatives/fmriprep/sub-NB/ses-20190205/func/sub-NB_ses-20190205_task-hemi_acq-sbiso_run-01_bold_space-T1w_preproc.nii.gz': <BIDSImageFile filename='/Users/smerdis/data/LGN/BIDS/NB_combined/derivatives/fmriprep/sub-NB/ses-20190205/func/sub-NB_ses-20190205_task-hemi_acq-sbiso_run-01_bold_space-T1w_preproc.nii.gz'>,\n",
       " '/Users/smerdis/data/LGN/BIDS/NB_combined/derivatives/fmriprep/sub-NB/ses-20190205/func/sub-NB_ses-20190205_task-mp_acq-sbiso_run-01_bold_space-T1w_preproc.nii.gz': <BIDSImageFile filename='/Users/smerdis/data/LGN/BIDS/NB_combined/derivatives/fmriprep/sub-NB/ses-20190205/func/sub-NB_ses-20190205_task-mp_acq-sbiso_run-01_bold_space-T1w_preproc.nii.gz'>,\n",
       " '/Users/smerdis/data/LGN/BIDS/NB_combined/derivatives/fmriprep/sub-NB/ses-20190205/func/sub-NB_ses-20190205_task-mp_acq-sbiso_run-08_bold_confounds.tsv': <BIDSDataFile filename='/Users/smerdis/data/LGN/BIDS/NB_combined/derivatives/fmriprep/sub-NB/ses-20190205/func/sub-NB_ses-20190205_task-mp_acq-sbiso_run-08_bold_confounds.tsv'>,\n",
       " '/Users/smerdis/data/LGN/BIDS/NB_combined/derivatives/fmriprep/sub-NB/ses-20190205/func/sub-NB_ses-20190205_task-mp_acq-sbiso_run-05_bold_confounds.tsv': <BIDSDataFile filename='/Users/smerdis/data/LGN/BIDS/NB_combined/derivatives/fmriprep/sub-NB/ses-20190205/func/sub-NB_ses-20190205_task-mp_acq-sbiso_run-05_bold_confounds.tsv'>,\n",
       " '/Users/smerdis/data/LGN/BIDS/NB_combined/derivatives/fmriprep/sub-NB/ses-20190205/func/sub-NB_ses-20190205_task-mp_acq-sbiso_run-09_bold_space-T1w_brainmask.nii.gz': <BIDSImageFile filename='/Users/smerdis/data/LGN/BIDS/NB_combined/derivatives/fmriprep/sub-NB/ses-20190205/func/sub-NB_ses-20190205_task-mp_acq-sbiso_run-09_bold_space-T1w_brainmask.nii.gz'>,\n",
       " '/Users/smerdis/data/LGN/BIDS/NB_combined/derivatives/fmriprep/sub-NB/ses-20190205/func/sub-NB_ses-20190205_task-mp_acq-sbiso_run-10_bold_space-T1w_preproc.nii.gz': <BIDSImageFile filename='/Users/smerdis/data/LGN/BIDS/NB_combined/derivatives/fmriprep/sub-NB/ses-20190205/func/sub-NB_ses-20190205_task-mp_acq-sbiso_run-10_bold_space-T1w_preproc.nii.gz'>,\n",
       " '/Users/smerdis/data/LGN/BIDS/NB_combined/derivatives/fmriprep/sub-NB/ses-20190205/func/sub-NB_ses-20190205_task-mp_acq-sbiso_run-07_bold_space-T1w_label-aseg_roi.nii.gz': <BIDSImageFile filename='/Users/smerdis/data/LGN/BIDS/NB_combined/derivatives/fmriprep/sub-NB/ses-20190205/func/sub-NB_ses-20190205_task-mp_acq-sbiso_run-07_bold_space-T1w_label-aseg_roi.nii.gz'>,\n",
       " '/Users/smerdis/data/LGN/BIDS/NB_combined/derivatives/fmriprep/sub-NB/ses-20190205/func/sub-NB_ses-20190205_task-mp_acq-sbiso_run-10_bold_space-T1w_label-aseg_roi.nii.gz': <BIDSImageFile filename='/Users/smerdis/data/LGN/BIDS/NB_combined/derivatives/fmriprep/sub-NB/ses-20190205/func/sub-NB_ses-20190205_task-mp_acq-sbiso_run-10_bold_space-T1w_label-aseg_roi.nii.gz'>,\n",
       " '/Users/smerdis/data/LGN/BIDS/NB_combined/derivatives/fmriprep/sub-NB/ses-20190205/func/sub-NB_ses-20190205_task-mp_acq-sbiso_run-02_bold_space-T1w_label-aparcaseg_roi.nii.gz': <BIDSImageFile filename='/Users/smerdis/data/LGN/BIDS/NB_combined/derivatives/fmriprep/sub-NB/ses-20190205/func/sub-NB_ses-20190205_task-mp_acq-sbiso_run-02_bold_space-T1w_label-aparcaseg_roi.nii.gz'>,\n",
       " '/Users/smerdis/data/LGN/BIDS/NB_combined/derivatives/fmriprep/sub-NB/ses-20190205/func/sub-NB_ses-20190205_task-mp_acq-sbiso_run-09_bold_space-T1w_label-aparcaseg_roi.nii.gz': <BIDSImageFile filename='/Users/smerdis/data/LGN/BIDS/NB_combined/derivatives/fmriprep/sub-NB/ses-20190205/func/sub-NB_ses-20190205_task-mp_acq-sbiso_run-09_bold_space-T1w_label-aparcaseg_roi.nii.gz'>,\n",
       " '/Users/smerdis/data/LGN/BIDS/NB_combined/derivatives/fmriprep/sub-NB/ses-20190205/func/sub-NB_ses-20190205_task-mp_acq-sbiso_run-02_bold_space-T1w_preproc.nii.gz': <BIDSImageFile filename='/Users/smerdis/data/LGN/BIDS/NB_combined/derivatives/fmriprep/sub-NB/ses-20190205/func/sub-NB_ses-20190205_task-mp_acq-sbiso_run-02_bold_space-T1w_preproc.nii.gz'>,\n",
       " '/Users/smerdis/data/LGN/BIDS/NB_combined/derivatives/fmriprep/sub-NB/ses-20190205/func/sub-NB_ses-20190205_task-hemi_acq-sbiso_run-02_bold_space-T1w_preproc.nii.gz': <BIDSImageFile filename='/Users/smerdis/data/LGN/BIDS/NB_combined/derivatives/fmriprep/sub-NB/ses-20190205/func/sub-NB_ses-20190205_task-hemi_acq-sbiso_run-02_bold_space-T1w_preproc.nii.gz'>,\n",
       " '/Users/smerdis/data/LGN/BIDS/NB_combined/derivatives/fmriprep/sub-NB/ses-20190205/func/sub-NB_ses-20190205_task-hemi_acq-sbiso_run-01_bold_space-T1w_label-aparcaseg_roi.nii.gz': <BIDSImageFile filename='/Users/smerdis/data/LGN/BIDS/NB_combined/derivatives/fmriprep/sub-NB/ses-20190205/func/sub-NB_ses-20190205_task-hemi_acq-sbiso_run-01_bold_space-T1w_label-aparcaseg_roi.nii.gz'>,\n",
       " '/Users/smerdis/data/LGN/BIDS/NB_combined/derivatives/fmriprep/sub-NB/ses-20190205/func/sub-NB_ses-20190205_task-mp_acq-sbiso_run-09_bold_confounds.tsv': <BIDSDataFile filename='/Users/smerdis/data/LGN/BIDS/NB_combined/derivatives/fmriprep/sub-NB/ses-20190205/func/sub-NB_ses-20190205_task-mp_acq-sbiso_run-09_bold_confounds.tsv'>,\n",
       " '/Users/smerdis/data/LGN/BIDS/NB_combined/derivatives/fmriprep/sub-NB/ses-20190205/func/sub-NB_ses-20190205_task-mp_acq-sbiso_run-02_bold_space-T1w_label-aseg_roi.nii.gz': <BIDSImageFile filename='/Users/smerdis/data/LGN/BIDS/NB_combined/derivatives/fmriprep/sub-NB/ses-20190205/func/sub-NB_ses-20190205_task-mp_acq-sbiso_run-02_bold_space-T1w_label-aseg_roi.nii.gz'>,\n",
       " '/Users/smerdis/data/LGN/BIDS/NB_combined/derivatives/fmriprep/sub-NB/ses-20190205/func/sub-NB_ses-20190205_task-mp_acq-sbiso_run-08_bold_space-T1w_label-aparcaseg_roi.nii.gz': <BIDSImageFile filename='/Users/smerdis/data/LGN/BIDS/NB_combined/derivatives/fmriprep/sub-NB/ses-20190205/func/sub-NB_ses-20190205_task-mp_acq-sbiso_run-08_bold_space-T1w_label-aparcaseg_roi.nii.gz'>,\n",
       " '/Users/smerdis/data/LGN/BIDS/NB_combined/derivatives/fmriprep/sub-NB/ses-20190205/func/sub-NB_ses-20190205_task-mp_acq-sbiso_run-04_bold_confounds.tsv': <BIDSDataFile filename='/Users/smerdis/data/LGN/BIDS/NB_combined/derivatives/fmriprep/sub-NB/ses-20190205/func/sub-NB_ses-20190205_task-mp_acq-sbiso_run-04_bold_confounds.tsv'>,\n",
       " '/Users/smerdis/data/LGN/BIDS/NB_combined/derivatives/fmriprep/sub-NB/ses-20190205/func/sub-NB_ses-20190205_task-mp_acq-sbiso_run-05_bold_space-T1w_label-aseg_roi.nii.gz': <BIDSImageFile filename='/Users/smerdis/data/LGN/BIDS/NB_combined/derivatives/fmriprep/sub-NB/ses-20190205/func/sub-NB_ses-20190205_task-mp_acq-sbiso_run-05_bold_space-T1w_label-aseg_roi.nii.gz'>,\n",
       " '/Users/smerdis/data/LGN/BIDS/NB_combined/derivatives/fmriprep/sub-NB/ses-20190205/func/sub-NB_ses-20190205_task-mp_acq-sbiso_run-05_bold_space-T1w_brainmask.nii.gz': <BIDSImageFile filename='/Users/smerdis/data/LGN/BIDS/NB_combined/derivatives/fmriprep/sub-NB/ses-20190205/func/sub-NB_ses-20190205_task-mp_acq-sbiso_run-05_bold_space-T1w_brainmask.nii.gz'>,\n",
       " '/Users/smerdis/data/LGN/BIDS/NB_combined/derivatives/fmriprep/sub-NB/ses-20190205/func/sub-NB_ses-20190205_task-mp_acq-sbiso_run-07_bold_confounds.tsv': <BIDSDataFile filename='/Users/smerdis/data/LGN/BIDS/NB_combined/derivatives/fmriprep/sub-NB/ses-20190205/func/sub-NB_ses-20190205_task-mp_acq-sbiso_run-07_bold_confounds.tsv'>,\n",
       " '/Users/smerdis/data/LGN/BIDS/NB_combined/derivatives/fmriprep/sub-NB/ses-20190205/func/sub-NB_ses-20190205_task-hemi_acq-sbiso_run-04_bold_space-T1w_brainmask.nii.gz': <BIDSImageFile filename='/Users/smerdis/data/LGN/BIDS/NB_combined/derivatives/fmriprep/sub-NB/ses-20190205/func/sub-NB_ses-20190205_task-hemi_acq-sbiso_run-04_bold_space-T1w_brainmask.nii.gz'>,\n",
       " '/Users/smerdis/data/LGN/BIDS/NB_combined/derivatives/fmriprep/sub-NB/ses-20190205/func/sub-NB_ses-20190205_task-mp_acq-sbiso_run-08_bold_space-T1w_brainmask.nii.gz': <BIDSImageFile filename='/Users/smerdis/data/LGN/BIDS/NB_combined/derivatives/fmriprep/sub-NB/ses-20190205/func/sub-NB_ses-20190205_task-mp_acq-sbiso_run-08_bold_space-T1w_brainmask.nii.gz'>,\n",
       " '/Users/smerdis/data/LGN/BIDS/NB_combined/derivatives/fmriprep/sub-NB/ses-20190205/func/sub-NB_ses-20190205_task-mp_acq-sbiso_run-05_bold_space-T1w_preproc.nii.gz': <BIDSImageFile filename='/Users/smerdis/data/LGN/BIDS/NB_combined/derivatives/fmriprep/sub-NB/ses-20190205/func/sub-NB_ses-20190205_task-mp_acq-sbiso_run-05_bold_space-T1w_preproc.nii.gz'>,\n",
       " '/Users/smerdis/data/LGN/BIDS/NB_combined/derivatives/fmriprep/sub-NB/ses-20190205/func/sub-NB_ses-20190205_task-mp_acq-sbiso_run-03_bold_space-T1w_label-aseg_roi.nii.gz': <BIDSImageFile filename='/Users/smerdis/data/LGN/BIDS/NB_combined/derivatives/fmriprep/sub-NB/ses-20190205/func/sub-NB_ses-20190205_task-mp_acq-sbiso_run-03_bold_space-T1w_label-aseg_roi.nii.gz'>,\n",
       " '/Users/smerdis/data/LGN/BIDS/NB_combined/derivatives/fmriprep/sub-NB/ses-20190205/func/sub-NB_ses-20190205_task-mp_acq-sbiso_run-04_bold_space-T1w_label-aseg_roi.nii.gz': <BIDSImageFile filename='/Users/smerdis/data/LGN/BIDS/NB_combined/derivatives/fmriprep/sub-NB/ses-20190205/func/sub-NB_ses-20190205_task-mp_acq-sbiso_run-04_bold_space-T1w_label-aseg_roi.nii.gz'>,\n",
       " '/Users/smerdis/data/LGN/BIDS/NB_combined/derivatives/fmriprep/sub-NB/ses-20190205/func/sub-NB_ses-20190205_task-hemi_acq-sbiso_run-01_bold_space-T1w_brainmask.nii.gz': <BIDSImageFile filename='/Users/smerdis/data/LGN/BIDS/NB_combined/derivatives/fmriprep/sub-NB/ses-20190205/func/sub-NB_ses-20190205_task-hemi_acq-sbiso_run-01_bold_space-T1w_brainmask.nii.gz'>,\n",
       " '/Users/smerdis/data/LGN/BIDS/NB_combined/derivatives/fmriprep/sub-NB/ses-20190205/func/sub-NB_ses-20190205_task-hemi_acq-sbiso_run-04_bold_confounds.tsv': <BIDSDataFile filename='/Users/smerdis/data/LGN/BIDS/NB_combined/derivatives/fmriprep/sub-NB/ses-20190205/func/sub-NB_ses-20190205_task-hemi_acq-sbiso_run-04_bold_confounds.tsv'>,\n",
       " '/Users/smerdis/data/LGN/BIDS/NB_combined/derivatives/fmriprep/sub-NB/ses-20190205/func/sub-NB_ses-20190205_task-mp_acq-sbiso_run-10_bold_space-T1w_label-aparcaseg_roi.nii.gz': <BIDSImageFile filename='/Users/smerdis/data/LGN/BIDS/NB_combined/derivatives/fmriprep/sub-NB/ses-20190205/func/sub-NB_ses-20190205_task-mp_acq-sbiso_run-10_bold_space-T1w_label-aparcaseg_roi.nii.gz'>,\n",
       " '/Users/smerdis/data/LGN/BIDS/NB_combined/derivatives/fmriprep/sub-NB/ses-20190205/func/sub-NB_ses-20190205_task-mp_acq-sbiso_run-09_bold_space-T1w_label-aseg_roi.nii.gz': <BIDSImageFile filename='/Users/smerdis/data/LGN/BIDS/NB_combined/derivatives/fmriprep/sub-NB/ses-20190205/func/sub-NB_ses-20190205_task-mp_acq-sbiso_run-09_bold_space-T1w_label-aseg_roi.nii.gz'>,\n",
       " '/Users/smerdis/data/LGN/BIDS/NB_combined/derivatives/fmriprep/sub-NB/ses-20190205/func/sub-NB_ses-20190205_task-hemi_acq-sbiso_run-02_bold_confounds.tsv': <BIDSDataFile filename='/Users/smerdis/data/LGN/BIDS/NB_combined/derivatives/fmriprep/sub-NB/ses-20190205/func/sub-NB_ses-20190205_task-hemi_acq-sbiso_run-02_bold_confounds.tsv'>,\n",
       " '/Users/smerdis/data/LGN/BIDS/NB_combined/derivatives/fmriprep/sub-NB/ses-20190205/func/sub-NB_ses-20190205_task-mp_acq-sbiso_run-06_bold_space-T1w_label-aparcaseg_roi.nii.gz': <BIDSImageFile filename='/Users/smerdis/data/LGN/BIDS/NB_combined/derivatives/fmriprep/sub-NB/ses-20190205/func/sub-NB_ses-20190205_task-mp_acq-sbiso_run-06_bold_space-T1w_label-aparcaseg_roi.nii.gz'>,\n",
       " '/Users/smerdis/data/LGN/BIDS/NB_combined/derivatives/fmriprep/sub-NB/ses-20190205/func/sub-NB_ses-20190205_task-hemi_acq-sbiso_run-02_bold_space-T1w_label-aseg_roi.nii.gz': <BIDSImageFile filename='/Users/smerdis/data/LGN/BIDS/NB_combined/derivatives/fmriprep/sub-NB/ses-20190205/func/sub-NB_ses-20190205_task-hemi_acq-sbiso_run-02_bold_space-T1w_label-aseg_roi.nii.gz'>,\n",
       " '/Users/smerdis/data/LGN/BIDS/NB_combined/derivatives/fmriprep/sub-NB/ses-20190205/func/sub-NB_ses-20190205_task-hemi_acq-sbiso_run-03_bold_space-T1w_preproc.nii.gz': <BIDSImageFile filename='/Users/smerdis/data/LGN/BIDS/NB_combined/derivatives/fmriprep/sub-NB/ses-20190205/func/sub-NB_ses-20190205_task-hemi_acq-sbiso_run-03_bold_space-T1w_preproc.nii.gz'>,\n",
       " '/Users/smerdis/data/LGN/BIDS/NB_combined/derivatives/fmriprep/sub-NB/ses-20190205/func/sub-NB_ses-20190205_task-mp_acq-sbiso_run-01_bold_confounds.tsv': <BIDSDataFile filename='/Users/smerdis/data/LGN/BIDS/NB_combined/derivatives/fmriprep/sub-NB/ses-20190205/func/sub-NB_ses-20190205_task-mp_acq-sbiso_run-01_bold_confounds.tsv'>,\n",
       " '/Users/smerdis/data/LGN/BIDS/NB_combined/derivatives/fmriprep/sub-NB/ses-20190205/func/sub-NB_ses-20190205_task-hemi_acq-sbiso_run-02_bold_space-T1w_brainmask.nii.gz': <BIDSImageFile filename='/Users/smerdis/data/LGN/BIDS/NB_combined/derivatives/fmriprep/sub-NB/ses-20190205/func/sub-NB_ses-20190205_task-hemi_acq-sbiso_run-02_bold_space-T1w_brainmask.nii.gz'>,\n",
       " '/Users/smerdis/data/LGN/BIDS/NB_combined/derivatives/fmriprep/sub-NB/ses-20190205/func/sub-NB_ses-20190205_task-mp_acq-sbiso_run-07_bold_space-T1w_label-aparcaseg_roi.nii.gz': <BIDSImageFile filename='/Users/smerdis/data/LGN/BIDS/NB_combined/derivatives/fmriprep/sub-NB/ses-20190205/func/sub-NB_ses-20190205_task-mp_acq-sbiso_run-07_bold_space-T1w_label-aparcaseg_roi.nii.gz'>,\n",
       " '/Users/smerdis/data/LGN/BIDS/NB_combined/derivatives/fmriprep/sub-NB/ses-20190205/func/sub-NB_ses-20190205_task-mp_acq-sbiso_run-03_bold_space-T1w_preproc.nii.gz': <BIDSImageFile filename='/Users/smerdis/data/LGN/BIDS/NB_combined/derivatives/fmriprep/sub-NB/ses-20190205/func/sub-NB_ses-20190205_task-mp_acq-sbiso_run-03_bold_space-T1w_preproc.nii.gz'>,\n",
       " '/Users/smerdis/data/LGN/BIDS/NB_combined/derivatives/fmriprep/sub-NB/ses-20190205/func/sub-NB_ses-20190205_task-mp_acq-sbiso_run-01_bold_space-T1w_label-aparcaseg_roi.nii.gz': <BIDSImageFile filename='/Users/smerdis/data/LGN/BIDS/NB_combined/derivatives/fmriprep/sub-NB/ses-20190205/func/sub-NB_ses-20190205_task-mp_acq-sbiso_run-01_bold_space-T1w_label-aparcaseg_roi.nii.gz'>,\n",
       " '/Users/smerdis/data/LGN/BIDS/NB_combined/derivatives/fmriprep/sub-NB/ses-20190205/func/sub-NB_ses-20190205_task-mp_acq-sbiso_run-08_bold_space-T1w_label-aseg_roi.nii.gz': <BIDSImageFile filename='/Users/smerdis/data/LGN/BIDS/NB_combined/derivatives/fmriprep/sub-NB/ses-20190205/func/sub-NB_ses-20190205_task-mp_acq-sbiso_run-08_bold_space-T1w_label-aseg_roi.nii.gz'>,\n",
       " '/Users/smerdis/data/LGN/BIDS/NB_combined/derivatives/fmriprep/sub-NB/ses-20190205/func/sub-NB_ses-20190205_task-mp_acq-sbiso_run-03_bold_space-T1w_brainmask.nii.gz': <BIDSImageFile filename='/Users/smerdis/data/LGN/BIDS/NB_combined/derivatives/fmriprep/sub-NB/ses-20190205/func/sub-NB_ses-20190205_task-mp_acq-sbiso_run-03_bold_space-T1w_brainmask.nii.gz'>,\n",
       " '/Users/smerdis/data/LGN/BIDS/NB_combined/derivatives/fmriprep/sub-NB/ses-20190205/func/sub-NB_ses-20190205_task-mp_acq-sbiso_run-02_bold_confounds.tsv': <BIDSDataFile filename='/Users/smerdis/data/LGN/BIDS/NB_combined/derivatives/fmriprep/sub-NB/ses-20190205/func/sub-NB_ses-20190205_task-mp_acq-sbiso_run-02_bold_confounds.tsv'>,\n",
       " '/Users/smerdis/data/LGN/BIDS/NB_combined/derivatives/fmriprep/sub-NB/ses-20190205/func/sub-NB_ses-20190205_task-mp_acq-sbiso_run-04_bold_space-T1w_preproc.nii.gz': <BIDSImageFile filename='/Users/smerdis/data/LGN/BIDS/NB_combined/derivatives/fmriprep/sub-NB/ses-20190205/func/sub-NB_ses-20190205_task-mp_acq-sbiso_run-04_bold_space-T1w_preproc.nii.gz'>,\n",
       " '/Users/smerdis/data/LGN/BIDS/NB_combined/derivatives/fmriprep/sub-NB/ses-20190205/func/sub-NB_ses-20190205_task-hemi_acq-sbiso_run-04_bold_space-T1w_preproc.nii.gz': <BIDSImageFile filename='/Users/smerdis/data/LGN/BIDS/NB_combined/derivatives/fmriprep/sub-NB/ses-20190205/func/sub-NB_ses-20190205_task-hemi_acq-sbiso_run-04_bold_space-T1w_preproc.nii.gz'>,\n",
       " '/Users/smerdis/data/LGN/BIDS/NB_combined/derivatives/fmriprep/sub-NB/ses-20190205/func/sub-NB_ses-20190205_task-hemi_acq-sbiso_run-01_bold_confounds.tsv': <BIDSDataFile filename='/Users/smerdis/data/LGN/BIDS/NB_combined/derivatives/fmriprep/sub-NB/ses-20190205/func/sub-NB_ses-20190205_task-hemi_acq-sbiso_run-01_bold_confounds.tsv'>,\n",
       " '/Users/smerdis/data/LGN/BIDS/NB_combined/derivatives/fmriprep/sub-NB/ses-20190205/func/sub-NB_ses-20190205_task-hemi_acq-sbiso_run-03_bold_space-T1w_label-aseg_roi.nii.gz': <BIDSImageFile filename='/Users/smerdis/data/LGN/BIDS/NB_combined/derivatives/fmriprep/sub-NB/ses-20190205/func/sub-NB_ses-20190205_task-hemi_acq-sbiso_run-03_bold_space-T1w_label-aseg_roi.nii.gz'>,\n",
       " '/Users/smerdis/data/LGN/BIDS/NB_combined/derivatives/fmriprep/sub-NB/ses-20190205/func/sub-NB_ses-20190205_task-hemi_acq-sbiso_run-04_bold_space-T1w_label-aseg_roi.nii.gz': <BIDSImageFile filename='/Users/smerdis/data/LGN/BIDS/NB_combined/derivatives/fmriprep/sub-NB/ses-20190205/func/sub-NB_ses-20190205_task-hemi_acq-sbiso_run-04_bold_space-T1w_label-aseg_roi.nii.gz'>,\n",
       " '/Users/smerdis/data/LGN/BIDS/NB_combined/derivatives/fmriprep/sub-NB/ses-20190205/func/sub-NB_ses-20190205_task-mp_acq-sbiso_run-06_bold_space-T1w_brainmask.nii.gz': <BIDSImageFile filename='/Users/smerdis/data/LGN/BIDS/NB_combined/derivatives/fmriprep/sub-NB/ses-20190205/func/sub-NB_ses-20190205_task-mp_acq-sbiso_run-06_bold_space-T1w_brainmask.nii.gz'>}"
      ]
     },
     "execution_count": 19,
     "metadata": {},
     "output_type": "execute_result"
    }
   ],
   "source": [
    "preproc_layout.files"
   ]
  },
  {
   "cell_type": "code",
   "execution_count": 20,
   "metadata": {
    "hidden": true
   },
   "outputs": [],
   "source": [
    "subjects = preproc_layout.get_subjects()\n",
    "assert sub in subjects and sub in raw_layout.get_subjects(), \"Subject not found!\"\n",
    "\n",
    "sessions = preproc_layout.get_sessions()\n",
    "assert ses in sessions, \"Session not found!\"\n",
    "\n",
    "tasks = preproc_layout.get_tasks()\n",
    "assert task in tasks, \"Task not found!\""
   ]
  },
  {
   "cell_type": "code",
   "execution_count": 25,
   "metadata": {
    "hidden": true
   },
   "outputs": [],
   "source": [
    "preproc_layout.get??"
   ]
  },
  {
   "cell_type": "code",
   "execution_count": 21,
   "metadata": {
    "hidden": true
   },
   "outputs": [
    {
     "name": "stdout",
     "output_type": "stream",
     "text": [
      "BOLDS: 1\n",
      "[['/Users/smerdis/data/LGN/BIDS/NB_combined/derivatives/fmriprep/sub-NB/ses-20190205/func/sub-NB_ses-20190205_task-hemi_acq-sbiso_run-01_bold_space-T1w_preproc.nii.gz', '/Users/smerdis/data/LGN/BIDS/NB_combined/derivatives/fmriprep/sub-NB/ses-20190205/func/sub-NB_ses-20190205_task-hemi_acq-sbiso_run-03_bold_space-T1w_preproc.nii.gz', '/Users/smerdis/data/LGN/BIDS/NB_combined/derivatives/fmriprep/sub-NB/ses-20190205/func/sub-NB_ses-20190205_task-hemi_acq-sbiso_run-04_bold_space-T1w_preproc.nii.gz']]\n"
     ]
    }
   ],
   "source": [
    "bolds = [preproc_layout.get(subject=sub, suffix='preproc',\n",
    "                              session=ses, task=task, run=runs, extensions=['nii.gz'],\n",
    "                                               return_type='file')]\n",
    "print(f\"BOLDS: {len(bolds)}\\n{bolds}\")"
   ]
  },
  {
   "cell_type": "code",
   "execution_count": 22,
   "metadata": {
    "hidden": true
   },
   "outputs": [],
   "source": [
    "raw_bolds = raw_layout.get(subject=sub, suffix=\"bold\",\n",
    "                           task=task, session=ses, run=runs, extensions=['nii.gz'])"
   ]
  },
  {
   "cell_type": "code",
   "execution_count": 23,
   "metadata": {
    "hidden": true
   },
   "outputs": [
    {
     "data": {
      "text/plain": [
       "[<BIDSImageFile filename='/Users/smerdis/data/LGN/BIDS/NB_combined/sub-NB/ses-20190205/func/sub-NB_ses-20190205_task-hemi_acq-sbiso_run-01_bold.nii.gz'>,\n",
       " <BIDSImageFile filename='/Users/smerdis/data/LGN/BIDS/NB_combined/sub-NB/ses-20190205/func/sub-NB_ses-20190205_task-hemi_acq-sbiso_run-03_bold.nii.gz'>,\n",
       " <BIDSImageFile filename='/Users/smerdis/data/LGN/BIDS/NB_combined/sub-NB/ses-20190205/func/sub-NB_ses-20190205_task-hemi_acq-sbiso_run-04_bold.nii.gz'>]"
      ]
     },
     "execution_count": 23,
     "metadata": {},
     "output_type": "execute_result"
    }
   ],
   "source": [
    "raw_bolds"
   ]
  },
  {
   "cell_type": "code",
   "execution_count": 25,
   "metadata": {
    "hidden": true
   },
   "outputs": [
    {
     "data": {
      "text/plain": [
       "2.25"
      ]
     },
     "execution_count": 25,
     "metadata": {},
     "output_type": "execute_result"
    }
   ],
   "source": [
    "raw_layout.get_tr(raw_bolds[0].filename)"
   ]
  },
  {
   "cell_type": "code",
   "execution_count": 27,
   "metadata": {
    "hidden": true
   },
   "outputs": [],
   "source": [
    "TRs = [raw_layout.get_tr(f.filename) for f in raw_bolds]"
   ]
  },
  {
   "cell_type": "code",
   "execution_count": 28,
   "metadata": {
    "hidden": true
   },
   "outputs": [
    {
     "data": {
      "text/plain": [
       "[2.25, 2.25, 2.25]"
      ]
     },
     "execution_count": 28,
     "metadata": {},
     "output_type": "execute_result"
    }
   ],
   "source": [
    "TRs"
   ]
  },
  {
   "cell_type": "markdown",
   "metadata": {},
   "source": [
    "### Use the actual utils.py function"
   ]
  },
  {
   "cell_type": "code",
   "execution_count": 10,
   "metadata": {},
   "outputs": [
    {
     "name": "stdout",
     "output_type": "stream",
     "text": [
      "BOLDS: 3\n",
      "['/Users/smerdis/data/LGN/BIDS/NB_combined/derivatives/fmriprep/sub-NB/ses-20190205/func/sub-NB_ses-20190205_task-hemi_acq-sbiso_run-01_bold_space-T1w_preproc.nii.gz', '/Users/smerdis/data/LGN/BIDS/NB_combined/derivatives/fmriprep/sub-NB/ses-20190205/func/sub-NB_ses-20190205_task-hemi_acq-sbiso_run-03_bold_space-T1w_preproc.nii.gz', '/Users/smerdis/data/LGN/BIDS/NB_combined/derivatives/fmriprep/sub-NB/ses-20190205/func/sub-NB_ses-20190205_task-hemi_acq-sbiso_run-04_bold_space-T1w_preproc.nii.gz']\n",
      "Masks: 3\n",
      "['/Users/smerdis/data/LGN/BIDS/NB_combined/derivatives/fmriprep/sub-NB/ses-20190205/func/sub-NB_ses-20190205_task-hemi_acq-sbiso_run-01_bold_space-T1w_brainmask.nii.gz', '/Users/smerdis/data/LGN/BIDS/NB_combined/derivatives/fmriprep/sub-NB/ses-20190205/func/sub-NB_ses-20190205_task-hemi_acq-sbiso_run-03_bold_space-T1w_brainmask.nii.gz', '/Users/smerdis/data/LGN/BIDS/NB_combined/derivatives/fmriprep/sub-NB/ses-20190205/func/sub-NB_ses-20190205_task-hemi_acq-sbiso_run-04_bold_space-T1w_brainmask.nii.gz']\n",
      "Eventfiles: 3\n",
      "['/Users/smerdis/data/LGN/BIDS/NB_combined/sub-NB/ses-20190205/func/sub-NB_ses-20190205_task-hemi_run-01_events.tsv', '/Users/smerdis/data/LGN/BIDS/NB_combined/sub-NB/ses-20190205/func/sub-NB_ses-20190205_task-hemi_run-03_events.tsv', '/Users/smerdis/data/LGN/BIDS/NB_combined/sub-NB/ses-20190205/func/sub-NB_ses-20190205_task-hemi_run-04_events.tsv']\n",
      "[2.25, 2.25, 2.25] 3\n",
      "Confounds: 3\n",
      "['/Users/smerdis/data/LGN/BIDS/NB_combined/derivatives/fmriprep/sub-NB/ses-20190205/func/sub-NB_ses-20190205_task-hemi_acq-sbiso_run-01_bold_confounds.tsv', '/Users/smerdis/data/LGN/BIDS/NB_combined/derivatives/fmriprep/sub-NB/ses-20190205/func/sub-NB_ses-20190205_task-hemi_acq-sbiso_run-03_bold_confounds.tsv', '/Users/smerdis/data/LGN/BIDS/NB_combined/derivatives/fmriprep/sub-NB/ses-20190205/func/sub-NB_ses-20190205_task-hemi_acq-sbiso_run-04_bold_confounds.tsv']\n",
      "[('/Users/smerdis/data/LGN/BIDS/NB_combined/derivatives/fmriprep/sub-NB/ses-20190205/func/sub-NB_ses-20190205_task-hemi_acq-sbiso_run-01_bold_space-T1w_preproc.nii.gz', '/Users/smerdis/data/LGN/BIDS/NB_combined/derivatives/fmriprep/sub-NB/ses-20190205/func/sub-NB_ses-20190205_task-hemi_acq-sbiso_run-01_bold_space-T1w_brainmask.nii.gz', '/Users/smerdis/data/LGN/BIDS/NB_combined/sub-NB/ses-20190205/func/sub-NB_ses-20190205_task-hemi_run-01_events.tsv', 2.25), ('/Users/smerdis/data/LGN/BIDS/NB_combined/derivatives/fmriprep/sub-NB/ses-20190205/func/sub-NB_ses-20190205_task-hemi_acq-sbiso_run-03_bold_space-T1w_preproc.nii.gz', '/Users/smerdis/data/LGN/BIDS/NB_combined/derivatives/fmriprep/sub-NB/ses-20190205/func/sub-NB_ses-20190205_task-hemi_acq-sbiso_run-03_bold_space-T1w_brainmask.nii.gz', '/Users/smerdis/data/LGN/BIDS/NB_combined/sub-NB/ses-20190205/func/sub-NB_ses-20190205_task-hemi_run-03_events.tsv', 2.25), ('/Users/smerdis/data/LGN/BIDS/NB_combined/derivatives/fmriprep/sub-NB/ses-20190205/func/sub-NB_ses-20190205_task-hemi_acq-sbiso_run-04_bold_space-T1w_preproc.nii.gz', '/Users/smerdis/data/LGN/BIDS/NB_combined/derivatives/fmriprep/sub-NB/ses-20190205/func/sub-NB_ses-20190205_task-hemi_acq-sbiso_run-04_bold_space-T1w_brainmask.nii.gz', '/Users/smerdis/data/LGN/BIDS/NB_combined/sub-NB/ses-20190205/func/sub-NB_ses-20190205_task-hemi_run-04_events.tsv', 2.25)]\n"
     ]
    }
   ],
   "source": [
    "bolds, masks, eventfiles, TR, confounds = utils.get_files(sub, ses, task, raw_data_dir, fmriprep_dir, run=runs)"
   ]
  },
  {
   "cell_type": "code",
   "execution_count": 11,
   "metadata": {},
   "outputs": [],
   "source": [
    "command = f\"python glm_fixedeffects_level12.py {raw_data_dir} {out_dir} {sub} {ses} {task} T1w \\\"{runs}\\\"\""
   ]
  },
  {
   "cell_type": "code",
   "execution_count": 12,
   "metadata": {},
   "outputs": [
    {
     "name": "stdout",
     "output_type": "stream",
     "text": [
      "python glm_fixedeffects_level12.py /Users/smerdis/data/LGN/BIDS/NB_combined/sub-NB /Users/smerdis/data/LGN/BIDS/NB_combined/derivatives NB 20190205 hemi T1w \"[1, 3, 4]\"\n"
     ]
    }
   ],
   "source": [
    "print(command)"
   ]
  },
  {
   "cell_type": "code",
   "execution_count": 13,
   "metadata": {},
   "outputs": [],
   "source": [
    "anat = os.path.join(fmriprep_dir, f\"sub-{sub}\", 'anat', f\"sub-{sub}_T1w_preproc.nii.gz\")\n",
    "func = os.path.join(fmriprep_dir, bolds[0])\n",
    "#mROI = os.path.join(fmriprep_dir, f\"sub-{sub}/ses-{ses}/func/sub-{sub}_ses-{ses}_task-{task}_run-01_lLGN_roi_manual.nii.gz\")"
   ]
  },
  {
   "cell_type": "code",
   "execution_count": 14,
   "metadata": {},
   "outputs": [
    {
     "name": "stdout",
     "output_type": "stream",
     "text": [
      "/Users/smerdis/data/LGN/BIDS/NB_combined/derivatives/nipype_NB_20190205_hemi/hemifield/modelfit/datasink\n"
     ]
    }
   ],
   "source": [
    "wf_dir = f\"{out_dir}/nipype_{sub}_{ses}_{task}/hemifield/modelfit\"\n",
    "datasink_dir = os.path.join(wf_dir, 'datasink')\n",
    "print(datasink_dir)"
   ]
  },
  {
   "cell_type": "code",
   "execution_count": 15,
   "metadata": {},
   "outputs": [
    {
     "name": "stdout",
     "output_type": "stream",
     "text": [
      "_0xd9d3778cfb656d63fbd39aa494e89c6c.json\r\n",
      "_inputs.pklz\r\n",
      "_node.pklz\r\n",
      "\u001b[34m_report\u001b[m\u001b[m\r\n",
      "\u001b[34mdesign_file\u001b[m\u001b[m\r\n",
      "\u001b[34mdesign_image\u001b[m\u001b[m\r\n",
      "\u001b[34mepi_masked_trimmed\u001b[m\u001b[m\r\n",
      "result_datasink.pklz\r\n",
      "\u001b[34mresults_dir\u001b[m\u001b[m\r\n",
      "\u001b[34mstats_dir\u001b[m\u001b[m\r\n"
     ]
    }
   ],
   "source": [
    "!ls \"{datasink_dir}\""
   ]
  },
  {
   "cell_type": "code",
   "execution_count": 16,
   "metadata": {},
   "outputs": [
    {
     "data": {
      "text/plain": [
       "'/Users/smerdis/data/LGN/BIDS/NB_combined/derivatives/fmriprep/sub-NB/ses-20190205/func/sub-NB_ses-20190205_task-hemi_acq-sbiso_run-01_bold_space-T1w_preproc.nii.gz'"
      ]
     },
     "execution_count": 16,
     "metadata": {},
     "output_type": "execute_result"
    }
   ],
   "source": [
    "func"
   ]
  },
  {
   "cell_type": "markdown",
   "metadata": {},
   "source": [
    "### View the contrast beta maps overlaid on the functional and anatomical images"
   ]
  },
  {
   "cell_type": "code",
   "execution_count": 17,
   "metadata": {},
   "outputs": [
    {
     "name": "stdout",
     "output_type": "stream",
     "text": [
      "fsleyes /Users/smerdis/data/LGN/BIDS/NB_combined/derivatives/fmriprep/sub-NB/anat/sub-NB_T1w_preproc.nii.gz /Users/smerdis/data/LGN/BIDS/NB_combined/derivatives/fmriprep/sub-NB/ses-20190205/func/sub-NB_ses-20190205_task-hemi_acq-sbiso_run-01_bold_space-T1w_preproc.nii.gz  /Users/smerdis/data/LGN/BIDS/NB_combined/derivatives/nipype_NB_20190205_hemi/hemifield/modelfit/datasink/results_dir/_modelestimate0/results/cope3.nii.gz /Users/smerdis/data/LGN/BIDS/NB_combined/derivatives/nipype_NB_20190205_hemi/hemifield/modelfit/datasink/results_dir/_modelestimate1/results/cope3.nii.gz /Users/smerdis/data/LGN/BIDS/NB_combined/derivatives/nipype_NB_20190205_hemi/hemifield/modelfit/datasink/results_dir/_modelestimate2/results/cope3.nii.gz /Users/smerdis/data/LGN/BIDS/NB_combined/derivatives/nipype_NB_20190205_hemi/hemifield/modelfit/datasink/stats_dir/_flameo2/stats/cope1.nii.gz\n"
     ]
    }
   ],
   "source": [
    "utils.view_results(datasink_dir, [3], anat, func)"
   ]
  },
  {
   "cell_type": "markdown",
   "metadata": {},
   "source": [
    " * (53, 47, 36) looks like a good voxel, all copes positive"
   ]
  },
  {
   "cell_type": "markdown",
   "metadata": {
    "heading_collapsed": true
   },
   "source": [
    "### LGN region drawing/manipulation!"
   ]
  },
  {
   "cell_type": "code",
   "execution_count": 24,
   "metadata": {
    "hidden": true
   },
   "outputs": [],
   "source": [
    "roi = \"/Users/smerdis/data/LGN/BIDS/NB_combined/derivatives/sub-NB_R-LGN_mask_manual.nii.gz\""
   ]
  },
  {
   "cell_type": "code",
   "execution_count": 25,
   "metadata": {
    "hidden": true
   },
   "outputs": [],
   "source": [
    "img = nib.load(roi)"
   ]
  },
  {
   "cell_type": "code",
   "execution_count": 26,
   "metadata": {
    "hidden": true
   },
   "outputs": [],
   "source": [
    "imgdata = img.get_data()"
   ]
  },
  {
   "cell_type": "code",
   "execution_count": 27,
   "metadata": {
    "hidden": true
   },
   "outputs": [
    {
     "data": {
      "text/plain": [
       "(84, 102, 82)"
      ]
     },
     "execution_count": 27,
     "metadata": {},
     "output_type": "execute_result"
    }
   ],
   "source": [
    "imgdata.shape"
   ]
  },
  {
   "cell_type": "code",
   "execution_count": 28,
   "metadata": {
    "hidden": true
   },
   "outputs": [
    {
     "data": {
      "text/plain": [
       "2497"
      ]
     },
     "execution_count": 28,
     "metadata": {},
     "output_type": "execute_result"
    }
   ],
   "source": [
    "np.count_nonzero(imgdata)"
   ]
  },
  {
   "cell_type": "markdown",
   "metadata": {
    "collapsed": true
   },
   "source": [
    "## Coherence analysis to identify LGN voxels responding at flicker frequency"
   ]
  },
  {
   "cell_type": "markdown",
   "metadata": {
    "heading_collapsed": true
   },
   "source": [
    "### raw nibabel"
   ]
  },
  {
   "cell_type": "code",
   "execution_count": 25,
   "metadata": {
    "hidden": true
   },
   "outputs": [],
   "source": [
    "bold_file = bolds[0]"
   ]
  },
  {
   "cell_type": "code",
   "execution_count": 26,
   "metadata": {
    "hidden": true
   },
   "outputs": [],
   "source": [
    "img = nib.load(bold_file)"
   ]
  },
  {
   "cell_type": "code",
   "execution_count": 27,
   "metadata": {
    "hidden": true
   },
   "outputs": [
    {
     "name": "stdout",
     "output_type": "stream",
     "text": [
      "<class 'nibabel.nifti1.Nifti1Header'> object, endian='<'\n",
      "sizeof_hdr      : 348\n",
      "data_type       : b''\n",
      "db_name         : b''\n",
      "extents         : 0\n",
      "session_error   : 0\n",
      "regular         : b'r'\n",
      "dim_info        : 0\n",
      "dim             : [  4  84 102  82 139   1   1   1]\n",
      "intent_p1       : 0.0\n",
      "intent_p2       : 0.0\n",
      "intent_p3       : 0.0\n",
      "intent_code     : none\n",
      "datatype        : int16\n",
      "bitpix          : 16\n",
      "slice_start     : 0\n",
      "pixdim          : [1.   1.75 1.75 1.75 2.25 1.   1.   1.  ]\n",
      "vox_offset      : 0.0\n",
      "scl_slope       : nan\n",
      "scl_inter       : nan\n",
      "slice_end       : 0\n",
      "slice_code      : unknown\n",
      "xyzt_units      : 8\n",
      "cal_max         : 2019.9172\n",
      "cal_min         : -130.61719\n",
      "slice_duration  : 0.0\n",
      "toffset         : 0.0\n",
      "glmax           : 0\n",
      "glmin           : 0\n",
      "descrip         : b'xform matrices modified by FixHeaderApplyTransforms (niworkflows v0.4.1).'\n",
      "aux_file        : b''\n",
      "qform_code      : aligned\n",
      "sform_code      : aligned\n",
      "quatern_b       : 0.0\n",
      "quatern_c       : 0.0\n",
      "quatern_d       : 0.0\n",
      "qoffset_x       : -72.74501\n",
      "qoffset_y       : -86.51375\n",
      "qoffset_z       : -70.69882\n",
      "srow_x          : [  1.75      0.        0.      -72.74501]\n",
      "srow_y          : [  0.        1.75      0.      -86.51375]\n",
      "srow_z          : [  0.        0.        1.75    -70.69882]\n",
      "intent_name     : b''\n",
      "magic           : b'n+1'\n"
     ]
    }
   ],
   "source": [
    "print(img.header)"
   ]
  },
  {
   "cell_type": "code",
   "execution_count": 28,
   "metadata": {
    "hidden": true
   },
   "outputs": [],
   "source": [
    "img_data = img.get_fdata()"
   ]
  },
  {
   "cell_type": "code",
   "execution_count": 29,
   "metadata": {
    "hidden": true
   },
   "outputs": [
    {
     "data": {
      "text/plain": [
       "<matplotlib.image.AxesImage at 0x1c214ea2e8>"
      ]
     },
     "execution_count": 29,
     "metadata": {},
     "output_type": "execute_result"
    },
    {
     "data": {
      "image/png": "[encoded data removed]",
      "text/plain": [
       "<Figure size 432x288 with 1 Axes>"
      ]
     },
     "metadata": {
      "needs_background": "light"
     },
     "output_type": "display_data"
    }
   ],
   "source": [
    "plt.imshow(img_data[26, :, :, 44].T, cmap=\"gray\", origin=\"lower\")"
   ]
  },
  {
   "cell_type": "code",
   "execution_count": 30,
   "metadata": {
    "hidden": true
   },
   "outputs": [],
   "source": [
    "nvox = img.shape[0] * img.shape[1] * img.shape[2]"
   ]
  },
  {
   "cell_type": "code",
   "execution_count": 31,
   "metadata": {
    "hidden": true
   },
   "outputs": [],
   "source": [
    "n_timepoints = img.shape[-1]"
   ]
  },
  {
   "cell_type": "code",
   "execution_count": 32,
   "metadata": {
    "hidden": true
   },
   "outputs": [
    {
     "name": "stdout",
     "output_type": "stream",
     "text": [
      "702576 139\n"
     ]
    }
   ],
   "source": [
    "print(nvox, n_timepoints)"
   ]
  },
  {
   "cell_type": "code",
   "execution_count": 33,
   "metadata": {
    "hidden": true
   },
   "outputs": [],
   "source": [
    "img_flat = np.reshape(img_data, (nvox, -1))"
   ]
  },
  {
   "cell_type": "code",
   "execution_count": 34,
   "metadata": {
    "hidden": true
   },
   "outputs": [
    {
     "data": {
      "text/plain": [
       "array([-0.01322614, -0.01322614, -0.01322614, -0.01322614, -0.01322614,\n",
       "       -0.01322614, -0.01322614, -0.01322614, -0.01322614, -0.01322614])"
      ]
     },
     "execution_count": 34,
     "metadata": {},
     "output_type": "execute_result"
    }
   ],
   "source": [
    "img_flat[:10, 0]"
   ]
  },
  {
   "cell_type": "code",
   "execution_count": 35,
   "metadata": {
    "hidden": true
   },
   "outputs": [
    {
     "name": "stdout",
     "output_type": "stream",
     "text": [
      "(6255,)\n"
     ]
    },
    {
     "data": {
      "text/plain": [
       "[<matplotlib.lines.Line2D at 0x1c22cb2dd8>]"
      ]
     },
     "execution_count": 35,
     "metadata": {},
     "output_type": "execute_result"
    },
    {
     "data": {
      "image/png": "[encoded data removed]",
      "text/plain": [
       "<Figure size 432x288 with 1 Axes>"
      ]
     },
     "metadata": {
      "needs_background": "light"
     },
     "output_type": "display_data"
    }
   ],
   "source": [
    "#TR = 2.25 # seconds\n",
    "freq = 4 # Hz\n",
    "total_len = img.shape[-1]*TR # seconds\n",
    "fig, ax = plt.subplots(1)\n",
    "t = np.arange(0.0, total_len, 0.05)\n",
    "sinusoid = np.sin(freq*2*np.pi*t)\n",
    "print(sinusoid.shape)\n",
    "\n",
    "ax.set_xlim(0, 8)\n",
    "ax.plot(t, sinusoid)"
   ]
  },
  {
   "cell_type": "code",
   "execution_count": 36,
   "metadata": {
    "hidden": true
   },
   "outputs": [
    {
     "data": {
      "text/plain": [
       "312.75"
      ]
     },
     "execution_count": 36,
     "metadata": {},
     "output_type": "execute_result"
    }
   ],
   "source": [
    "2.25*139"
   ]
  },
  {
   "cell_type": "markdown",
   "metadata": {},
   "source": [
    "### Begin coherence analysis in nitime"
   ]
  },
  {
   "cell_type": "code",
   "execution_count": 22,
   "metadata": {},
   "outputs": [],
   "source": [
    "import nitime.fmri.io as nfio\n",
    "import nitime.timeseries as ts\n",
    "import nitime.analysis as nta\n",
    "import nitime.utils as ntu\n",
    "import nitime.viz as ntv"
   ]
  },
  {
   "cell_type": "code",
   "execution_count": 23,
   "metadata": {},
   "outputs": [
    {
     "name": "stdout",
     "output_type": "stream",
     "text": [
      "0.037037037037037035\n",
      "[  0.     2.25   4.5    6.75   9.    11.25  13.5   15.75  18.    20.25\n",
      "  22.5   24.75  27.    29.25  31.5   33.75  36.    38.25  40.5   42.75\n",
      "  45.    47.25  49.5   51.75  54.    56.25  58.5   60.75  63.    65.25\n",
      "  67.5   69.75  72.    74.25  76.5   78.75  81.    83.25  85.5   87.75\n",
      "  90.    92.25  94.5   96.75  99.   101.25 103.5  105.75 108.   110.25\n",
      " 112.5  114.75 117.   119.25 121.5  123.75 126.   128.25 130.5  132.75\n",
      " 135.   137.25 139.5  141.75 144.   146.25 148.5  150.75 153.   155.25\n",
      " 157.5  159.75 162.   164.25 166.5  168.75 171.   173.25 175.5  177.75\n",
      " 180.   182.25 184.5  186.75 189.   191.25 193.5  195.75 198.   200.25\n",
      " 202.5  204.75 207.   209.25 211.5  213.75 216.   218.25 220.5  222.75\n",
      " 225.   227.25 229.5  231.75 234.   236.25 238.5  240.75 243.   245.25\n",
      " 247.5  249.75 252.   254.25 256.5  258.75 261.   263.25 265.5  267.75\n",
      " 270.   272.25 274.5  276.75 279.   281.25 283.5  285.75 288.   290.25\n",
      " 292.5  294.75 297.   299.25 301.5  303.75 306.   308.25 310.5 ] (139,)\n"
     ]
    },
    {
     "data": {
      "text/plain": [
       "[<matplotlib.lines.Line2D at 0x1c1b5dc438>]"
      ]
     },
     "execution_count": 23,
     "metadata": {},
     "output_type": "execute_result"
    },
    {
     "data": {
      "image/png": "[encoded data removed]",
      "text/plain": [
       "<Figure size 432x288 with 1 Axes>"
      ]
     },
     "metadata": {
      "needs_background": "light"
     },
     "output_type": "display_data"
    }
   ],
   "source": [
    "cycle_duration = 27 # This was the 7T setting I accidentally ran for NB (should be 27s)\n",
    "freq = (1.0/cycle_duration) # of hemifield alternation, in hertz\n",
    "n_trs_func = 139 # Length, in TRs, on a functional scan\n",
    "total_len = n_trs_func*TR # seconds\n",
    "\n",
    "print(freq)\n",
    "\n",
    "t = np.arange(0.0, total_len, TR)\n",
    "hemifield_alternation_sinusoid = np.sin(freq*2*np.pi*t)\n",
    "print(t, hemifield_alternation_sinusoid.shape)\n",
    "\n",
    "fig, ax = plt.subplots(1)\n",
    "ax.set_xlim(0, 50)\n",
    "ax.plot(t, hemifield_alternation_sinusoid)"
   ]
  },
  {
   "cell_type": "code",
   "execution_count": 24,
   "metadata": {},
   "outputs": [],
   "source": [
    "hemi_ts = ts.TimeSeries(data=hemifield_alternation_sinusoid,\n",
    "                         sampling_interval=TR)"
   ]
  },
  {
   "cell_type": "code",
   "execution_count": 26,
   "metadata": {},
   "outputs": [],
   "source": [
    "bold_file = bolds[0]"
   ]
  },
  {
   "cell_type": "code",
   "execution_count": 27,
   "metadata": {},
   "outputs": [
    {
     "name": "stdout",
     "output_type": "stream",
     "text": [
      "Reading /Users/smerdis/data/LGN/BIDS/NB_combined/derivatives/fmriprep/sub-NB/ses-20190205/func/sub-NB_ses-20190205_task-hemi_acq-sbiso_run-01_bold_space-T1w_preproc.nii.gz\n"
     ]
    }
   ],
   "source": [
    "bold_time_series = nfio.time_series_from_file(bold_file, TR=TR, normalize='percent', verbose=True)"
   ]
  },
  {
   "cell_type": "code",
   "execution_count": 31,
   "metadata": {},
   "outputs": [
    {
     "data": {
      "text/plain": [
       "(84, 102, 82, 139)"
      ]
     },
     "execution_count": 31,
     "metadata": {},
     "output_type": "execute_result"
    }
   ],
   "source": [
    "bold_time_series.data.shape"
   ]
  },
  {
   "cell_type": "markdown",
   "metadata": {},
   "source": [
    "### figure out how to mask the whole bold timeseries with an roi\n",
    "\n",
    " * write a function to mask an ndarray of bold data wwith a binary ROI mask\n",
    "   * fsl ApplyMask() through nipype etc?\n",
    "     * just write it in the notebook at first\n",
    "     * but eventually this should run on nipype so it can be deployed on the server\n",
    " * apply this to each specified run and return the timeseries\n",
    " * do the coherence graphs and calculate coherence for all the voxels"
   ]
  },
  {
   "cell_type": "code",
   "execution_count": 32,
   "metadata": {},
   "outputs": [],
   "source": [
    "import nipype.interfaces.fsl as fsl"
   ]
  },
  {
   "cell_type": "code",
   "execution_count": 33,
   "metadata": {},
   "outputs": [
    {
     "name": "stdout",
     "output_type": "stream",
     "text": [
      "python mask_lgn.py /Users/smerdis/data/LGN/BIDS/NB_combined/sub-NB /Users/smerdis/data/LGN/BIDS/NB_combined/derivatives NB 20190205 hemi T1w \"[1]\"\n"
     ]
    }
   ],
   "source": [
    "print(f\"python mask_lgn.py \\\n",
    "/Users/smerdis/data/LGN/BIDS/NB_combined/sub-NB \\\n",
    "/Users/smerdis/data/LGN/BIDS/NB_combined/derivatives \\\n",
    "NB 20190205 hemi T1w \\\"[1]\\\"\")"
   ]
  },
  {
   "cell_type": "code",
   "execution_count": 34,
   "metadata": {},
   "outputs": [],
   "source": [
    "masked_bold = f\"/Users/smerdis/data/LGN/BIDS/NB_combined/derivatives/nipype_NB_20190205_hemi/\\\n",
    "masking/masker/datasink/epi_masked/_applymask0/\\\n",
    "sub-NB_ses-20190205_task-hemi_acq-sbiso_run-01_bold_space-T1w_preproc_masked.nii.gz\""
   ]
  },
  {
   "cell_type": "code",
   "execution_count": 35,
   "metadata": {},
   "outputs": [
    {
     "name": "stdout",
     "output_type": "stream",
     "text": [
      "/Users/smerdis/data/LGN/BIDS/NB_combined/derivatives/nipype_NB_20190205_hemi/masking/masker/datasink/epi_masked/_applymask0/sub-NB_ses-20190205_task-hemi_acq-sbiso_run-01_bold_space-T1w_preproc_masked.nii.gz\n"
     ]
    }
   ],
   "source": [
    "print(masked_bold)"
   ]
  },
  {
   "cell_type": "code",
   "execution_count": 36,
   "metadata": {},
   "outputs": [
    {
     "name": "stdout",
     "output_type": "stream",
     "text": [
      "Reading /Users/smerdis/data/LGN/BIDS/NB_combined/derivatives/nipype_NB_20190205_hemi/masking/masker/datasink/epi_masked/_applymask0/sub-NB_ses-20190205_task-hemi_acq-sbiso_run-01_bold_space-T1w_preproc_masked.nii.gz\n"
     ]
    },
    {
     "name": "stderr",
     "output_type": "stream",
     "text": [
      "//anaconda/envs/py36/lib/python3.6/site-packages/nitime/utils.py:1899: RuntimeWarning: divide by zero encountered in true_divide\n",
      "  return (ts / np.expand_dims(np.mean(ts, ax), ax) - 1) * 100\n",
      "//anaconda/envs/py36/lib/python3.6/site-packages/nitime/utils.py:1899: RuntimeWarning: invalid value encountered in true_divide\n",
      "  return (ts / np.expand_dims(np.mean(ts, ax), ax) - 1) * 100\n"
     ]
    }
   ],
   "source": [
    "masked_ts = nfio.time_series_from_file(masked_bold, TR=TR, normalize='percent', verbose=True)"
   ]
  },
  {
   "cell_type": "code",
   "execution_count": 37,
   "metadata": {},
   "outputs": [],
   "source": [
    "masked_ts.data=np.nan_to_num(masked_ts.data)"
   ]
  },
  {
   "cell_type": "code",
   "execution_count": 38,
   "metadata": {},
   "outputs": [],
   "source": [
    "masked_ts_flat = masked_ts.data[masked_ts.data[:,:,:,0].nonzero()]"
   ]
  },
  {
   "cell_type": "code",
   "execution_count": 39,
   "metadata": {},
   "outputs": [
    {
     "data": {
      "text/plain": [
       "(1339, 139)"
      ]
     },
     "execution_count": 39,
     "metadata": {},
     "output_type": "execute_result"
    }
   ],
   "source": [
    "masked_ts_flat.shape"
   ]
  },
  {
   "cell_type": "markdown",
   "metadata": {},
   "source": [
    "### begin coherence stuff"
   ]
  },
  {
   "cell_type": "code",
   "execution_count": 41,
   "metadata": {},
   "outputs": [],
   "source": [
    "timepad = np.pad(hemifield_alternation_sinusoid, (3,0), 'constant',\n",
    "                 constant_values=(0,0))[:hemifield_alternation_sinusoid.shape[0]]\n",
    "timepad2 = np.pad(hemifield_alternation_sinusoid, (6,0), 'constant',\n",
    "                 constant_values=(0,0))[:hemifield_alternation_sinusoid.shape[0]]\n",
    "timepad3 = np.pad(hemifield_alternation_sinusoid, (8,0), 'constant',\n",
    "                 constant_values=(0,0))[:hemifield_alternation_sinusoid.shape[0]]"
   ]
  },
  {
   "cell_type": "code",
   "execution_count": 42,
   "metadata": {},
   "outputs": [
    {
     "data": {
      "text/plain": [
       "[<matplotlib.lines.Line2D at 0x1c1b4e3320>]"
      ]
     },
     "execution_count": 42,
     "metadata": {},
     "output_type": "execute_result"
    },
    {
     "data": {
      "image/png": "[encoded data removed]",
      "text/plain": [
       "<Figure size 432x288 with 1 Axes>"
      ]
     },
     "metadata": {
      "needs_background": "light"
     },
     "output_type": "display_data"
    }
   ],
   "source": [
    "fig, ax = plt.subplots(1)\n",
    "ax.set_xlim(0, 50)\n",
    "ax.plot(t, hemifield_alternation_sinusoid)\n",
    "ax.plot(t, timepad)\n",
    "ax.plot(t, timepad2)\n",
    "ax.plot(t, timepad3)"
   ]
  },
  {
   "cell_type": "code",
   "execution_count": 43,
   "metadata": {},
   "outputs": [
    {
     "data": {
      "text/plain": [
       "5.8962584"
      ]
     },
     "execution_count": 43,
     "metadata": {},
     "output_type": "execute_result"
    }
   ],
   "source": [
    "masked_ts_flat[32, 32]"
   ]
  },
  {
   "cell_type": "code",
   "execution_count": 44,
   "metadata": {},
   "outputs": [
    {
     "data": {
      "text/plain": [
       "array([-24.340826  , -18.505066  , -16.23729   , -14.695204  ,\n",
       "       -13.898956  , -13.284141  , -11.439669  , -11.056673  ,\n",
       "       -10.895413  , -10.844999  , -10.270506  ,  -9.736318  ,\n",
       "        -9.685927  ,  -8.325254  ,  -8.244621  ,  -8.194232  ,\n",
       "        -8.093429  ,  -7.0956173 ,  -7.0653796 ,  -6.7226887 ,\n",
       "        -6.480801  ,  -6.3799977 ,  -6.319523  ,  -5.90629   ,\n",
       "        -5.6845546 ,  -5.5434465 ,  -5.2813826 ,  -5.0697327 ,\n",
       "        -4.9286246 ,  -4.525459  ,  -4.495221  ,  -4.323876  ,\n",
       "        -4.162616  ,  -4.0920553 ,  -4.071903  ,  -3.8804054 ,\n",
       "        -3.578037  ,  -3.4772396 ,  -3.4469962 ,  -3.295827  ,\n",
       "        -3.2454312 ,  -3.1446338 ,  -3.094244  ,  -3.0539155 ,\n",
       "        -2.8523505 ,  -2.812028  ,  -2.6406825 ,  -2.408862  ,\n",
       "        -2.398795  ,  -2.2072792 ,  -1.9452333 ,  -1.9250631 ,\n",
       "        -1.7335653 ,  -1.5521526 ,  -1.5219152 ,  -1.0179639 ,\n",
       "        -0.8062959 ,  -0.66518784,  -0.61479807,  -0.58456063,\n",
       "        -0.5744755 ,  -0.42330027,  -0.24186969,  -0.14109015,\n",
       "         0.17136335,   0.26208162,   0.3124714 ,   0.37294626,\n",
       "         0.39310455,   0.44349432,   0.45357943,   0.6450772 ,\n",
       "         0.75594187,   0.83657503,   0.9373784 ,   1.0079145 ,\n",
       "         1.048243  ,   1.2699842 ,   1.3002157 ,   1.3103008 ,\n",
       "         1.4312387 ,   1.8041611 ,   2.0662308 ,   2.1166205 ,\n",
       "         2.136767  ,   2.1569252 ,   2.6407242 ,   2.8221488 ,\n",
       "         2.842307  ,   2.8826237 ,   3.0035615 ,   3.1648397 ,\n",
       "         3.326106  ,   3.3563375 ,   3.5377502 ,   3.7594914 ,\n",
       "         3.8804412 ,   3.9106846 ,   3.940916  ,   4.132414  ,\n",
       "         4.5154333 ,   4.5758843 ,   4.636371  ,   4.686773  ,\n",
       "         4.7774673 ,   5.331826  ,   5.6342006 ,   5.8962584 ,\n",
       "         5.986953  ,   6.138146  ,   6.208694  ,   6.5816164 ,\n",
       "         6.6420913 ,   6.833601  ,   6.8739176 ,   6.904161  ,\n",
       "         7.256913  ,   8.10355   ,   8.113634  ,   8.44624   ,\n",
       "         8.819175  ,   9.121537  ,   9.25256   ,   9.363424  ,\n",
       "         9.454144  ,   9.625494  ,  10.169768  ,  11.217964  ,\n",
       "        11.752152  ,  12.215805  ,  12.8407    ,  13.465607  ,\n",
       "        15.3806095 ,  15.40078   ], dtype=float32)"
      ]
     },
     "execution_count": 44,
     "metadata": {},
     "output_type": "execute_result"
    }
   ],
   "source": [
    "np.unique(masked_ts_flat[32, :])"
   ]
  },
  {
   "cell_type": "code",
   "execution_count": 45,
   "metadata": {},
   "outputs": [
    {
     "data": {
      "text/plain": [
       "[<matplotlib.lines.Line2D at 0x1c1ac94fd0>]"
      ]
     },
     "execution_count": 45,
     "metadata": {},
     "output_type": "execute_result"
    },
    {
     "data": {
      "image/png": "[encoded data removed]",
      "text/plain": [
       "<Figure size 432x288 with 1 Axes>"
      ]
     },
     "metadata": {
      "needs_background": "light"
     },
     "output_type": "display_data"
    }
   ],
   "source": [
    "fig, ax = plt.subplots(1)\n",
    "ax.set_xlim(0, 315)\n",
    "ax.set_ylim(-10, 10)\n",
    "ax.plot(t, hemifield_alternation_sinusoid)\n",
    "ax.plot(t, masked_ts_flat[31, :])\n",
    "#ax.plot(t, masked_ts_flat[32, :])\n",
    "#ax.plot(t, masked_ts_flat[33, :])\n",
    "#ax.plot(t, masked_ts_flat[34, :])\n",
    "#ax.plot(t, masked_ts_flat[35, :])\n",
    "#ax.plot(t, masked_ts_flat[36, :])\n",
    "#ax.plot(t, masked_ts_flat[37, :])\n",
    "#ax.plot(t, masked_ts_flat[38, :])\n",
    "#ax.plot(t, masked_ts_flat[39, :])\n",
    "#ax.plot(t, masked_ts_flat[40, :])\n",
    "\n",
    "\n",
    "\n",
    "#ax.plot(t, timepad2)\n",
    "#ax.plot(t, timepad3)"
   ]
  },
  {
   "cell_type": "code",
   "execution_count": 46,
   "metadata": {},
   "outputs": [],
   "source": [
    "test_hemi_stim = np.vstack((hemifield_alternation_sinusoid, \n",
    "                            masked_ts_flat[31, :], masked_ts_flat[33, :]))"
   ]
  },
  {
   "cell_type": "code",
   "execution_count": 47,
   "metadata": {},
   "outputs": [
    {
     "data": {
      "text/plain": [
       "(139,)"
      ]
     },
     "execution_count": 47,
     "metadata": {},
     "output_type": "execute_result"
    }
   ],
   "source": [
    "hemifield_alternation_sinusoid.shape"
   ]
  },
  {
   "cell_type": "code",
   "execution_count": 48,
   "metadata": {},
   "outputs": [
    {
     "data": {
      "text/plain": [
       "(1339, 139)"
      ]
     },
     "execution_count": 48,
     "metadata": {},
     "output_type": "execute_result"
    }
   ],
   "source": [
    "masked_ts_flat.shape"
   ]
  },
  {
   "cell_type": "code",
   "execution_count": 49,
   "metadata": {},
   "outputs": [],
   "source": [
    "full_stim = np.vstack((hemifield_alternation_sinusoid, masked_ts_flat[31:60:2,:]))"
   ]
  },
  {
   "cell_type": "code",
   "execution_count": 50,
   "metadata": {},
   "outputs": [
    {
     "data": {
      "text/plain": [
       "(16, 139)"
      ]
     },
     "execution_count": 50,
     "metadata": {},
     "output_type": "execute_result"
    }
   ],
   "source": [
    "full_stim.shape"
   ]
  },
  {
   "cell_type": "code",
   "execution_count": 51,
   "metadata": {},
   "outputs": [],
   "source": [
    "test_ts = ts.TimeSeries(full_stim, sampling_interval=TR)"
   ]
  },
  {
   "cell_type": "code",
   "execution_count": 52,
   "metadata": {},
   "outputs": [],
   "source": [
    "cr1 = nta.CorrelationAnalyzer(test_ts)"
   ]
  },
  {
   "cell_type": "code",
   "execution_count": 53,
   "metadata": {},
   "outputs": [
    {
     "data": {
      "text/plain": [
       "array([[ 1.        ,  0.14645012,  0.08034723, -0.10795665,  0.02075773,\n",
       "         0.01986857,  0.02302473,  0.02923021,  0.00309955,  0.02788494,\n",
       "        -0.05147776, -0.06411512, -0.04418443,  0.0600653 , -0.09319291,\n",
       "         0.05263215],\n",
       "       [ 0.14645012,  1.        ,  0.08583915, -0.07432921,  0.01348566,\n",
       "        -0.04275794,  0.0991071 ,  0.12089885,  0.15550027,  0.03055394,\n",
       "         0.08734879,  0.09899806,  0.21239355,  0.30336743, -0.07099147,\n",
       "         0.01055371],\n",
       "       [ 0.08034723,  0.08583915,  1.        , -0.13197726,  0.0839403 ,\n",
       "         0.2111587 , -0.31725781, -0.10085972,  0.12184861, -0.17132334,\n",
       "        -0.22032261,  0.04666056,  0.0479898 ,  0.09372039,  0.26552061,\n",
       "         0.12046366],\n",
       "       [-0.10795665, -0.07432921, -0.13197726,  1.        ,  0.06394673,\n",
       "        -0.19060477,  0.21426191, -0.05669934, -0.13415597,  0.12921984,\n",
       "         0.02556544, -0.10548265, -0.18586521, -0.0996825 , -0.24104327,\n",
       "        -0.13525426],\n",
       "       [ 0.02075773,  0.01348566,  0.0839403 ,  0.06394673,  1.        ,\n",
       "        -0.08652327, -0.14481783, -0.19185453, -0.15125477, -0.17735206,\n",
       "        -0.13757423,  0.02930789, -0.21158428, -0.08583741,  0.15430702,\n",
       "         0.09097573],\n",
       "       [ 0.01986857, -0.04275794,  0.2111587 , -0.19060477, -0.08652327,\n",
       "         1.        , -0.5596421 , -0.17420396,  0.59995425, -0.47131467,\n",
       "        -0.27861899,  0.56166809,  0.3698317 ,  0.52730742,  0.50838595,\n",
       "         0.57542553],\n",
       "       [ 0.02302473,  0.0991071 , -0.31725781,  0.21426191, -0.14481783,\n",
       "        -0.5596421 ,  1.        ,  0.49463053, -0.32679632,  0.60393323,\n",
       "         0.61809964, -0.22585128, -0.25650051, -0.14427584, -0.59298269,\n",
       "        -0.26473058],\n",
       "       [ 0.02923021,  0.12089885, -0.10085972, -0.05669934, -0.19185453,\n",
       "        -0.17420396,  0.49463053,  1.        ,  0.07706987,  0.4468057 ,\n",
       "         0.62604223, -0.0747969 ,  0.00814878,  0.03646185, -0.32214752,\n",
       "        -0.05611552],\n",
       "       [ 0.00309955,  0.15550027,  0.12184861, -0.13415597, -0.15125477,\n",
       "         0.59995425, -0.32679632,  0.07706987,  1.        , -0.24175814,\n",
       "         0.04999717,  0.5690885 ,  0.24926103,  0.48425947,  0.2455704 ,\n",
       "         0.43018995],\n",
       "       [ 0.02788494,  0.03055394, -0.17132334,  0.12921984, -0.17735206,\n",
       "        -0.47131467,  0.60393323,  0.4468057 , -0.24175814,  1.        ,\n",
       "         0.52487623, -0.24548373, -0.15984569, -0.21442168, -0.51807028,\n",
       "        -0.22907915],\n",
       "       [-0.05147776,  0.08734879, -0.22032261,  0.02556544, -0.13757423,\n",
       "        -0.27861899,  0.61809964,  0.62604223,  0.04999717,  0.52487623,\n",
       "         1.        ,  0.02731113, -0.03253467,  0.12934194, -0.38047163,\n",
       "        -0.0806033 ],\n",
       "       [-0.06411512,  0.09899806,  0.04666056, -0.10548265,  0.02930789,\n",
       "         0.56166809, -0.22585128, -0.0747969 ,  0.5690885 , -0.24548373,\n",
       "         0.02731113,  1.        ,  0.20364073,  0.63386079,  0.27315487,\n",
       "         0.61889144],\n",
       "       [-0.04418443,  0.21239355,  0.0479898 , -0.18586521, -0.21158428,\n",
       "         0.3698317 , -0.25650051,  0.00814878,  0.24926103, -0.15984569,\n",
       "        -0.03253467,  0.20364073,  1.        ,  0.32634101,  0.41033691,\n",
       "         0.12771034],\n",
       "       [ 0.0600653 ,  0.30336743,  0.09372039, -0.0996825 , -0.08583741,\n",
       "         0.52730742, -0.14427584,  0.03646185,  0.48425947, -0.21442168,\n",
       "         0.12934194,  0.63386079,  0.32634101,  1.        ,  0.17484191,\n",
       "         0.62453807],\n",
       "       [-0.09319291, -0.07099147,  0.26552061, -0.24104327,  0.15430702,\n",
       "         0.50838595, -0.59298269, -0.32214752,  0.2455704 , -0.51807028,\n",
       "        -0.38047163,  0.27315487,  0.41033691,  0.17484191,  1.        ,\n",
       "         0.38551975],\n",
       "       [ 0.05263215,  0.01055371,  0.12046366, -0.13525426,  0.09097573,\n",
       "         0.57542553, -0.26473058, -0.05611552,  0.43018995, -0.22907915,\n",
       "        -0.0806033 ,  0.61889144,  0.12771034,  0.62453807,  0.38551975,\n",
       "         1.        ]])"
      ]
     },
     "execution_count": 53,
     "metadata": {},
     "output_type": "execute_result"
    }
   ],
   "source": [
    "cr1.corrcoef"
   ]
  },
  {
   "cell_type": "code",
   "execution_count": 54,
   "metadata": {},
   "outputs": [
    {
     "data": {
      "image/png": "[encoded data removed]",
      "text/plain": [
       "<Figure size 432x288 with 2 Axes>"
      ]
     },
     "execution_count": 54,
     "metadata": {},
     "output_type": "execute_result"
    },
    {
     "data": {
      "image/png": "[encoded data removed]",
      "text/plain": [
       "<Figure size 432x288 with 2 Axes>"
      ]
     },
     "metadata": {
      "needs_background": "light"
     },
     "output_type": "display_data"
    }
   ],
   "source": [
    "ntv.drawmatrix_channels(cr1.corrcoef, color_anchor=0)"
   ]
  },
  {
   "cell_type": "code",
   "execution_count": 55,
   "metadata": {},
   "outputs": [],
   "source": [
    "ch1 = nta.CoherenceAnalyzer(test_ts)"
   ]
  },
  {
   "cell_type": "code",
   "execution_count": 56,
   "metadata": {},
   "outputs": [],
   "source": [
    "#physiologically relevant freq band\n",
    "freq_idx = np.where((ch1.frequencies > 0.02) * (ch1.frequencies < 0.15))[0]"
   ]
  },
  {
   "cell_type": "code",
   "execution_count": 57,
   "metadata": {},
   "outputs": [
    {
     "data": {
      "text/plain": [
       "array([0.        , 0.00694444, 0.01388889, 0.02083333, 0.02777778,\n",
       "       0.03472222, 0.04166667, 0.04861111, 0.05555556, 0.0625    ,\n",
       "       0.06944444, 0.07638889, 0.08333333, 0.09027778, 0.09722222,\n",
       "       0.10416667, 0.11111111, 0.11805556, 0.125     , 0.13194444,\n",
       "       0.13888889, 0.14583333, 0.15277778, 0.15972222, 0.16666667,\n",
       "       0.17361111, 0.18055556, 0.1875    , 0.19444444, 0.20138889,\n",
       "       0.20833333, 0.21527778, 0.22222222])"
      ]
     },
     "execution_count": 57,
     "metadata": {},
     "output_type": "execute_result"
    }
   ],
   "source": [
    "ch1.frequencies"
   ]
  },
  {
   "cell_type": "code",
   "execution_count": 58,
   "metadata": {},
   "outputs": [
    {
     "name": "stderr",
     "output_type": "stream",
     "text": [
      "//anaconda/envs/py36/lib/python3.6/site-packages/nitime/algorithms/cohere.py:203: RuntimeWarning: invalid value encountered in true_divide\n",
      "  c = np.abs(fxy) ** 2 / (fxx * fyy)\n"
     ]
    }
   ],
   "source": [
    "coh = np.mean(ch1.coherence[:,:,freq_idx], -1)"
   ]
  },
  {
   "cell_type": "code",
   "execution_count": 59,
   "metadata": {},
   "outputs": [
    {
     "data": {
      "text/plain": [
       "array([[1.00000000e+00, 2.65776568e-01, 2.99439474e-01, 1.34366997e-24,\n",
       "        4.15819884e-01, 3.30980831e-01, 3.31327083e-01, 2.44570368e-01,\n",
       "        3.18905207e-01, 3.81380177e-01, 3.72277446e-01, 3.21180836e-01,\n",
       "        3.91448850e-01, 3.53290944e-01, 3.82300278e-01, 3.39484431e-01],\n",
       "       [2.65776568e-01, 1.00000000e+00, 3.60654146e-01, 3.80932027e-01,\n",
       "        3.93008424e-01, 5.23812178e-01, 2.28673861e-01, 3.87338845e-01,\n",
       "        4.09806273e-01, 3.59361186e-01, 4.24504756e-01, 4.27751112e-01,\n",
       "        3.32554005e-01, 4.05680915e-01, 2.93722453e-01, 3.51917801e-01],\n",
       "       [2.99439474e-01, 3.60654146e-01, 1.00000000e+00, 2.63379023e-01,\n",
       "        2.19399918e-01, 3.62423522e-01, 4.66496048e-01, 3.35962900e-01,\n",
       "        3.67023012e-01, 2.97028272e-01, 4.09525310e-01, 3.69747855e-01,\n",
       "        4.43242852e-01, 4.01330978e-01, 3.35105164e-01, 3.55436991e-01],\n",
       "       [1.34366997e-24, 3.80932027e-01, 2.63379023e-01, 1.00000000e+00,\n",
       "        2.60151842e-01, 2.66902404e-01, 3.33826563e-01, 4.35311531e-01,\n",
       "        4.42237402e-01, 3.15803106e-01, 3.18273991e-01, 3.02894580e-01,\n",
       "        2.61181019e-01, 3.00349918e-01, 2.34243607e-01, 4.63206581e-01],\n",
       "       [4.15819884e-01, 3.93008424e-01, 2.19399918e-01, 2.60151842e-01,\n",
       "        1.00000000e+00, 4.53112189e-01, 3.83423113e-01, 2.92374257e-01,\n",
       "        4.28461472e-01, 3.98088059e-01, 2.87001501e-01, 3.35063582e-01,\n",
       "        4.77079480e-01, 3.37897452e-01, 2.89227158e-01, 2.09719519e-01],\n",
       "       [3.30980831e-01, 5.23812178e-01, 3.62423522e-01, 2.66902404e-01,\n",
       "        4.53112189e-01, 1.00000000e+00, 3.47916081e-01, 4.13386194e-01,\n",
       "        3.73730591e-01, 4.59317575e-01, 3.24716101e-01, 4.69856375e-01,\n",
       "        5.48535433e-01, 4.99870745e-01, 3.38010393e-01, 3.66493004e-01],\n",
       "       [3.31327083e-01, 2.28673861e-01, 4.66496048e-01, 3.33826563e-01,\n",
       "        3.83423113e-01, 3.47916081e-01, 1.00000000e+00, 2.71351507e-01,\n",
       "        4.44035878e-01, 3.92530426e-01, 2.20171943e-01, 3.79998829e-01,\n",
       "        4.95299175e-01, 5.16310632e-01, 1.99020802e-01, 4.26507544e-01],\n",
       "       [2.44570368e-01, 3.87338845e-01, 3.35962900e-01, 4.35311531e-01,\n",
       "        2.92374257e-01, 4.13386194e-01, 2.71351507e-01, 1.00000000e+00,\n",
       "        2.79573861e-01, 3.07085268e-01, 3.46167432e-01, 3.64955363e-01,\n",
       "        2.83674138e-01, 3.90064505e-01, 2.56020486e-01, 3.48231388e-01],\n",
       "       [3.18905207e-01, 4.09806273e-01, 3.67023012e-01, 4.42237402e-01,\n",
       "        4.28461472e-01, 3.73730591e-01, 4.44035878e-01, 2.79573861e-01,\n",
       "        1.00000000e+00, 4.74040183e-01, 4.19337343e-01, 4.57358941e-01,\n",
       "        3.67033023e-01, 4.83663680e-01, 3.62786654e-01, 3.21684621e-01],\n",
       "       [3.81380177e-01, 3.59361186e-01, 2.97028272e-01, 3.15803106e-01,\n",
       "        3.98088059e-01, 4.59317575e-01, 3.92530426e-01, 3.07085268e-01,\n",
       "        4.74040183e-01, 1.00000000e+00, 3.84656405e-01, 5.08205683e-01,\n",
       "        3.69509819e-01, 4.69934164e-01, 3.30134951e-01, 4.62064652e-01],\n",
       "       [3.72277446e-01, 4.24504756e-01, 4.09525310e-01, 3.18273991e-01,\n",
       "        2.87001501e-01, 3.24716101e-01, 2.20171943e-01, 3.46167432e-01,\n",
       "        4.19337343e-01, 3.84656405e-01, 1.00000000e+00, 4.04999130e-01,\n",
       "        3.15681343e-01, 3.89329816e-01, 2.82049081e-01, 3.70510783e-01],\n",
       "       [3.21180836e-01, 4.27751112e-01, 3.69747855e-01, 3.02894580e-01,\n",
       "        3.35063582e-01, 4.69856375e-01, 3.79998829e-01, 3.64955363e-01,\n",
       "        4.57358941e-01, 5.08205683e-01, 4.04999130e-01, 1.00000000e+00,\n",
       "        3.76487348e-01, 5.86780448e-01, 2.04915255e-01, 4.87540979e-01],\n",
       "       [3.91448850e-01, 3.32554005e-01, 4.43242852e-01, 2.61181019e-01,\n",
       "        4.77079480e-01, 5.48535433e-01, 4.95299175e-01, 2.83674138e-01,\n",
       "        3.67033023e-01, 3.69509819e-01, 3.15681343e-01, 3.76487348e-01,\n",
       "        1.00000000e+00, 3.91626955e-01, 3.49899611e-01, 3.03063324e-01],\n",
       "       [3.53290944e-01, 4.05680915e-01, 4.01330978e-01, 3.00349918e-01,\n",
       "        3.37897452e-01, 4.99870745e-01, 5.16310632e-01, 3.90064505e-01,\n",
       "        4.83663680e-01, 4.69934164e-01, 3.89329816e-01, 5.86780448e-01,\n",
       "        3.91626955e-01, 1.00000000e+00, 2.88910135e-01, 5.62956267e-01],\n",
       "       [3.82300278e-01, 2.93722453e-01, 3.35105164e-01, 2.34243607e-01,\n",
       "        2.89227158e-01, 3.38010393e-01, 1.99020802e-01, 2.56020486e-01,\n",
       "        3.62786654e-01, 3.30134951e-01, 2.82049081e-01, 2.04915255e-01,\n",
       "        3.49899611e-01, 2.88910135e-01, 1.00000000e+00, 2.07404166e-01],\n",
       "       [3.39484431e-01, 3.51917801e-01, 3.55436991e-01, 4.63206581e-01,\n",
       "        2.09719519e-01, 3.66493004e-01, 4.26507544e-01, 3.48231388e-01,\n",
       "        3.21684621e-01, 4.62064652e-01, 3.70510783e-01, 4.87540979e-01,\n",
       "        3.03063324e-01, 5.62956267e-01, 2.07404166e-01, 1.00000000e+00]])"
      ]
     },
     "execution_count": 59,
     "metadata": {},
     "output_type": "execute_result"
    }
   ],
   "source": [
    "coh"
   ]
  },
  {
   "cell_type": "code",
   "execution_count": 61,
   "metadata": {},
   "outputs": [
    {
     "data": {
      "image/png": "[encoded data removed]",
      "text/plain": [
       "<Figure size 432x288 with 2 Axes>"
      ]
     },
     "metadata": {
      "needs_background": "light"
     },
     "output_type": "display_data"
    }
   ],
   "source": [
    "fig03 = ntv.drawmatrix_channels(coh)"
   ]
  },
  {
   "cell_type": "code",
   "execution_count": 76,
   "metadata": {},
   "outputs": [
    {
     "data": {
      "text/plain": [
       "array([ 0.        , -1.35275865,  1.99647247, -1.6489336 ,  1.72833981,\n",
       "        0.77161174,  1.0690567 ,  2.09133227, -2.34816481, -0.77466226,\n",
       "        2.23525777, -0.74869605,  2.56992869,  0.91985589, -1.34418724,\n",
       "       -2.13401392,  1.49658319, -1.20539493,  1.68206178, -2.28245943,\n",
       "        2.9516092 , -0.01870251, -2.32725613,  1.40104677, -1.74143885,\n",
       "       -2.97908912, -0.63928246,  1.64010077, -1.54103381,  0.10287424,\n",
       "        2.54758555, -0.93778734,  3.14159265])"
      ]
     },
     "execution_count": 76,
     "metadata": {},
     "output_type": "execute_result"
    }
   ],
   "source": [
    "ch1.phase[0,1]"
   ]
  },
  {
   "cell_type": "markdown",
   "metadata": {},
   "source": [
    "## Assigning voxels within an ROI to M/P"
   ]
  },
  {
   "cell_type": "code",
   "execution_count": null,
   "metadata": {
    "collapsed": true
   },
   "outputs": [],
   "source": [
    "copefile = '/Users/smerdis/data/LGN/BIDS/MS_LGN_fp107/nipype_MS_20150401_mp/hemifield/modelfit/datasink/stats_dir/_flameo2/stats/cope1.nii.gz'\n",
    "ROIfile = mROI"
   ]
  },
  {
   "cell_type": "code",
   "execution_count": null,
   "metadata": {
    "collapsed": true
   },
   "outputs": [],
   "source": [
    "def assign_mp_command(cope, roimask, pct_thresh, roi_below, roi_above, out_dir=None):\n",
    "    if out_dir is None:\n",
    "        out_dir = os.path.dirname(roimask)\n",
    "    print(f\"python assign_mp.py {cope} {roimask} {pct_thresh} {roi_below} {roi_above} {out_dir}\")\n",
    "\n",
    "def assign_voxels(infile, rois, split_pct):\n",
    "    \"\"\"Assign voxels to an ROI based on the percentile of intensity they fall in.\n",
    "    \n",
    "    rois should be a list of length 2, split_pcts should be a list of length 1\n",
    "    \n",
    "    e.g. assign_voxels_percentile(infile, ['M', 'P'], 80)\"\"\"\n",
    "    from nipype.interfaces.fsl import ImageMaths\n",
    "    stats = ImageMaths()\n",
    "    stats.inputs.in_file = infile\n",
    "    stats.inputs.op_string = f\"-thr {split_pct} -bin {roi_above}\"\n",
    "    print(stats.cmdline)"
   ]
  },
  {
   "cell_type": "code",
   "execution_count": null,
   "metadata": {
    "collapsed": true
   },
   "outputs": [],
   "source": [
    "assign_mp_command(copefile, ROIfile, 80, 'M', 'P')"
   ]
  },
  {
   "cell_type": "code",
   "execution_count": null,
   "metadata": {
    "collapsed": true
   },
   "outputs": [],
   "source": [
    "masked_cope = '/Users/smerdis/data/LGN/BIDS/MS_LGN_fp107/nipype_MS_20150401_hemi/hemifield/modelfit/datasink/cope_masked.nii.gz'"
   ]
  },
  {
   "cell_type": "code",
   "execution_count": null,
   "metadata": {
    "collapsed": true
   },
   "outputs": [],
   "source": [
    "assign_voxels_percentile(masked_cope, ['M', 'P'], 80)"
   ]
  },
  {
   "cell_type": "code",
   "execution_count": null,
   "metadata": {
    "collapsed": true
   },
   "outputs": [],
   "source": []
  }
 ],
 "metadata": {
  "kernelspec": {
   "display_name": "Python 3",
   "language": "python",
   "name": "python3"
  },
  "language_info": {
   "codemirror_mode": {
    "name": "ipython",
    "version": 3
   },
   "file_extension": ".py",
   "mimetype": "text/x-python",
   "name": "python",
   "nbconvert_exporter": "python",
   "pygments_lexer": "ipython3",
   "version": "3.6.8"
  },
  "varInspector": {
   "cols": {
    "lenName": 16,
    "lenType": 16,
    "lenVar": 40
   },
   "kernels_config": {
    "python": {
     "delete_cmd_postfix": "",
     "delete_cmd_prefix": "del ",
     "library": "var_list.py",
     "varRefreshCmd": "print(var_dic_list())"
    },
    "r": {
     "delete_cmd_postfix": ") ",
     "delete_cmd_prefix": "rm(",
     "library": "var_list.r",
     "varRefreshCmd": "cat(var_dic_list()) "
    }
   },
   "types_to_exclude": [
    "module",
    "function",
    "builtin_function_or_method",
    "instance",
    "_Feature"
   ],
   "window_display": false
  }
 },
 "nbformat": 4,
 "nbformat_minor": 2
}
