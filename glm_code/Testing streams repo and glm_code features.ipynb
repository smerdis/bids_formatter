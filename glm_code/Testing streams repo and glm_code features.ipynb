{
 "cells": [
  {
   "cell_type": "code",
   "execution_count": 1,
   "metadata": {
    "collapsed": true
   },
   "outputs": [],
   "source": [
    "%matplotlib inline"
   ]
  },
  {
   "cell_type": "code",
   "execution_count": 2,
   "metadata": {
    "collapsed": true
   },
   "outputs": [],
   "source": [
    "import utils\n",
    "\n",
    "import os, sys, datetime\n",
    "\n",
    "import numpy as np\n",
    "import pandas as pd"
   ]
  },
  {
   "cell_type": "code",
   "execution_count": null,
   "metadata": {
    "collapsed": true
   },
   "outputs": [],
   "source": [
    "confounds_file = \"/Users/smerdis/data/LGN/BIDS/AlexLGN_no0327_out_T1w/fmriprep/sub-MS/ses-20150401/func/sub-MS_ses-20150401_task-hemi_run-01_bold_confounds.tsv\""
   ]
  },
  {
   "cell_type": "code",
   "execution_count": null,
   "metadata": {
    "collapsed": true
   },
   "outputs": [],
   "source": [
    "confounds = pd.read_csv(confounds_file, sep=str('\\t'), na_values=\"n/a\")"
   ]
  },
  {
   "cell_type": "code",
   "execution_count": null,
   "metadata": {
    "collapsed": true
   },
   "outputs": [],
   "source": [
    "confounds.head()"
   ]
  },
  {
   "cell_type": "code",
   "execution_count": null,
   "metadata": {
    "collapsed": true
   },
   "outputs": [],
   "source": [
    "datetime.datetime.now().strftime('%Y-%m-%d_%H-%M-%S')"
   ]
  },
  {
   "cell_type": "markdown",
   "metadata": {},
   "source": [
    "## Cope viewing from a cell, not the command line"
   ]
  },
  {
   "cell_type": "code",
   "execution_count": null,
   "metadata": {
    "collapsed": true
   },
   "outputs": [],
   "source": []
  },
  {
   "cell_type": "code",
   "execution_count": null,
   "metadata": {
    "collapsed": true
   },
   "outputs": [],
   "source": [
    "cope_old = os.path.abspath(\"/Users/smerdis/data/LGN/BIDS/AlexLGN_no0327_out_T1w/nipype/hemifield_localizer/modelfit/datasink/stats_dir/_flameo1/stats/cope1.nii.gz\")\n",
    "cope_new = os.path.abspath(\"/Users/smerdis/data/LGN/BIDS/AlexLGN_no0327_out_T1w/nipype_2018-02-21_22-20-36/hemifield/modelfit/datasink/stats_dir/_flameo1/stats/cope1.nii.gz\")"
   ]
  },
  {
   "cell_type": "code",
   "execution_count": null,
   "metadata": {
    "collapsed": true
   },
   "outputs": [],
   "source": [
    "print(f\"fsleyes {anat} {mrvanat} {func} {vROI} {cope_old} {cope_new}\")"
   ]
  },
  {
   "cell_type": "markdown",
   "metadata": {},
   "source": [
    "## GLM invocation from a cell"
   ]
  },
  {
   "cell_type": "code",
   "execution_count": 3,
   "metadata": {
    "collapsed": true
   },
   "outputs": [],
   "source": [
    "raw_data_dir = os.path.abspath('/Users/smerdis/data/LGN/BIDS/AlexLGN_no0327/')"
   ]
  },
  {
   "cell_type": "code",
   "execution_count": 4,
   "metadata": {
    "collapsed": true
   },
   "outputs": [],
   "source": [
    "out_dir = os.path.abspath('/Users/smerdis/data/LGN/BIDS/MS_LGN_fp107/')"
   ]
  },
  {
   "cell_type": "code",
   "execution_count": 5,
   "metadata": {
    "collapsed": true
   },
   "outputs": [],
   "source": [
    "fmriprep_dir = os.path.abspath(os.path.join(out_dir, 'fmriprep'))"
   ]
  },
  {
   "cell_type": "code",
   "execution_count": null,
   "metadata": {
    "collapsed": true
   },
   "outputs": [],
   "source": [
    "now = datetime.datetime.now().strftime('%Y-%m-%d_%H-%M-%S')\n",
    "print(now)"
   ]
  },
  {
   "cell_type": "code",
   "execution_count": null,
   "metadata": {
    "collapsed": true
   },
   "outputs": [],
   "source": [
    " "
   ]
  },
  {
   "cell_type": "code",
   "execution_count": 6,
   "metadata": {
    "collapsed": true
   },
   "outputs": [],
   "source": [
    "sub = \"MS\"\n",
    "ses = \"20150401\"\n",
    "task = \"hemi\""
   ]
  },
  {
   "cell_type": "code",
   "execution_count": 7,
   "metadata": {
    "collapsed": true
   },
   "outputs": [],
   "source": [
    "command = f\"python glm_fixedeffects_level12.py {raw_data_dir} {out_dir} {sub} {ses} {task}\""
   ]
  },
  {
   "cell_type": "code",
   "execution_count": 8,
   "metadata": {},
   "outputs": [
    {
     "name": "stdout",
     "output_type": "stream",
     "text": [
      "python glm_fixedeffects_level12.py /Users/smerdis/data/LGN/BIDS/AlexLGN_no0327 /Users/smerdis/data/LGN/BIDS/MS_LGN_fp107 MS 20150401 hemi\n"
     ]
    }
   ],
   "source": [
    "print(command)"
   ]
  },
  {
   "cell_type": "code",
   "execution_count": null,
   "metadata": {
    "collapsed": true
   },
   "outputs": [],
   "source": []
  },
  {
   "cell_type": "code",
   "execution_count": 15,
   "metadata": {
    "collapsed": true
   },
   "outputs": [],
   "source": [
    "anat = os.path.join(fmriprep_dir, f\"sub-{sub}\", 'anat', f\"sub-{sub}_T1w_preproc.nii.gz\")\n",
    "#mrvanat = os.path.join(out_dir, \"mrvista\", \"T1w.nii.gz\")\n",
    "func = os.path.join(fmriprep_dir, f\"sub-{sub}/ses-{ses}/func/sub-{sub}_ses-{ses}_task-{task}_run-01_bold_space-T1w_preproc.nii.gz\")\n",
    "vROI = os.path.join(out_dir, \"mrvista\", \"vROI1.nii.gz\")\n"
   ]
  },
  {
   "cell_type": "code",
   "execution_count": 17,
   "metadata": {
    "collapsed": true
   },
   "outputs": [],
   "source": [
    "wf_dir = \"/Users/smerdis/data/LGN/BIDS/MS_LGN_fp107/nipype_2018-04-03_14-47-44/hemifield/modelfit/\""
   ]
  },
  {
   "cell_type": "code",
   "execution_count": 19,
   "metadata": {
    "collapsed": true
   },
   "outputs": [],
   "source": [
    "tstat1 = os.path.join(wf_dir, 'datasink/results_dir/_modelestimate0/results/tstat1.nii.gz')\n",
    "tstat2 = os.path.join(wf_dir, 'datasink/results_dir/_modelestimate0/results/tstat2.nii.gz')\n",
    "tstat3 = os.path.join(wf_dir, 'datasink/results_dir/_modelestimate0/results/tstat3.nii.gz')\n",
    "tstat4 = os.path.join(wf_dir, 'datasink/results_dir/_modelestimate0/results/tstat4.nii.gz')\n",
    "cope1 = os.path.join(wf_dir, 'datasink/results_dir/_modelestimate0/results/cope1.nii.gz')\n",
    "cope2 = os.path.join(wf_dir, 'datasink/results_dir/_modelestimate0/results/cope2.nii.gz')\n",
    "cope3 = os.path.join(wf_dir, 'datasink/results_dir/_modelestimate0/results/cope3.nii.gz')\n",
    "cope4 = os.path.join(wf_dir, 'datasink/results_dir/_modelestimate0/results/cope4.nii.gz')"
   ]
  },
  {
   "cell_type": "code",
   "execution_count": 25,
   "metadata": {
    "scrolled": true
   },
   "outputs": [
    {
     "name": "stdout",
     "output_type": "stream",
     "text": [
      "fsleyes /Users/smerdis/data/LGN/BIDS/MS_LGN_fp107/fmriprep/sub-MS/anat/sub-MS_T1w_preproc.nii.gz /Users/smerdis/data/LGN/BIDS/MS_LGN_fp107/fmriprep/sub-MS/ses-20150401/func/sub-MS_ses-20150401_task-hemi_run-01_bold_space-T1w_preproc.nii.gz /Users/smerdis/data/LGN/BIDS/MS_LGN_fp107/mrvista/vROI1.nii.gz /Users/smerdis/data/LGN/BIDS/MS_LGN_fp107/nipype_2018-04-03_14-47-44/hemifield/modelfit/datasink/results_dir/_modelestimate0/results/tstat4.nii.gz /Users/smerdis/data/LGN/BIDS/MS_LGN_fp107/nipype_2018-04-03_14-47-44/hemifield/modelfit/datasink/results_dir/_modelestimate0/results/cope4.nii.gz\n"
     ]
    }
   ],
   "source": [
    "print(f\"fsleyes {anat} {func} {vROI} {tstat4} {cope4}\")"
   ]
  },
  {
   "cell_type": "code",
   "execution_count": null,
   "metadata": {
    "collapsed": true
   },
   "outputs": [],
   "source": []
  },
  {
   "cell_type": "markdown",
   "metadata": {},
   "source": [
    "### Plotting stat maps"
   ]
  },
  {
   "cell_type": "code",
   "execution_count": null,
   "metadata": {
    "collapsed": true
   },
   "outputs": [],
   "source": [
    "from nilearn.plotting import plot_stat_map"
   ]
  },
  {
   "cell_type": "code",
   "execution_count": null,
   "metadata": {
    "collapsed": true
   },
   "outputs": [],
   "source": [
    "plot_stat_map??"
   ]
  },
  {
   "cell_type": "code",
   "execution_count": null,
   "metadata": {
    "collapsed": true
   },
   "outputs": [],
   "source": [
    "cc=(22, -16, -10)"
   ]
  },
  {
   "cell_type": "code",
   "execution_count": null,
   "metadata": {
    "collapsed": true
   },
   "outputs": [],
   "source": [
    "plot_stat_map(\n",
    "    tstat, title='tstat1 for modelestimate0',\n",
    "    bg_img=anat, threshold=1, cut_coords=cc, display_mode='ortho', dim=-1)"
   ]
  },
  {
   "cell_type": "code",
   "execution_count": null,
   "metadata": {
    "collapsed": true
   },
   "outputs": [],
   "source": [
    "plot_stat_map(\n",
    "    tstat, title='tstat1 for modelestimate0',\n",
    "    bg_img=anat, threshold=1.5, cut_coords=cc, display_mode='ortho', dim=-1)"
   ]
  },
  {
   "cell_type": "code",
   "execution_count": null,
   "metadata": {
    "collapsed": true
   },
   "outputs": [],
   "source": [
    "plot_stat_map(\n",
    "    tstat, title='tstat1 for modelestimate0',\n",
    "    bg_img=anat, threshold=2, cut_coords=cc, display_mode='ortho', dim=-1)"
   ]
  },
  {
   "cell_type": "code",
   "execution_count": null,
   "metadata": {
    "collapsed": true
   },
   "outputs": [],
   "source": [
    "plot_stat_map(\n",
    "    tstat, title='tstat1 for modelestimate0',\n",
    "    bg_img=anat, threshold=2, display_mode='x', cut_coords=range(20, 27), dim=-1, output_file='lgn_slices_x_thr2.png')"
   ]
  },
  {
   "cell_type": "code",
   "execution_count": null,
   "metadata": {
    "collapsed": true
   },
   "outputs": [],
   "source": [
    "plot_stat_map(\n",
    "    tstat, title='tstat1 for modelestimate0',\n",
    "    bg_img=anat, threshold=2, display_mode='y', cut_coords=range(-18, -14), dim=-1, output_file='lgn_slices_y_thr2.png')"
   ]
  },
  {
   "cell_type": "code",
   "execution_count": null,
   "metadata": {
    "collapsed": true
   },
   "outputs": [],
   "source": []
  }
 ],
 "metadata": {
  "kernelspec": {
   "display_name": "Python 3",
   "language": "python",
   "name": "python3"
  },
  "language_info": {
   "codemirror_mode": {
    "name": "ipython",
    "version": 3
   },
   "file_extension": ".py",
   "mimetype": "text/x-python",
   "name": "python",
   "nbconvert_exporter": "python",
   "pygments_lexer": "ipython3",
   "version": "3.6.2"
  }
 },
 "nbformat": 4,
 "nbformat_minor": 2
}
