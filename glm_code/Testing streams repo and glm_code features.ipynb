{
 "cells": [
  {
   "cell_type": "code",
   "execution_count": null,
   "metadata": {
    "collapsed": true
   },
   "outputs": [],
   "source": [
    "import utils\n",
    "\n",
    "import numpy as np\n",
    "import pandas as pd"
   ]
  },
  {
   "cell_type": "code",
   "execution_count": null,
   "metadata": {},
   "outputs": [],
   "source": [
    "confounds_file = \"/Users/smerdis/data/LGN/BIDS/AlexLGN_no0327_out_T1w/fmriprep/sub-MS/ses-20150401/func/sub-MS_ses-20150401_task-hemi_run-01_bold_confounds.tsv\""
   ]
  },
  {
   "cell_type": "code",
   "execution_count": null,
   "metadata": {},
   "outputs": [],
   "source": [
    "confounds = pd.read_csv(confounds_file, sep=str('\\t'), na_values=\"n/a\")"
   ]
  },
  {
   "cell_type": "code",
   "execution_count": null,
   "metadata": {},
   "outputs": [],
   "source": [
    "confounds.head()"
   ]
  },
  {
   "cell_type": "markdown",
   "metadata": {},
   "source": [
    "### dates"
   ]
  },
  {
   "cell_type": "code",
   "execution_count": null,
   "metadata": {},
   "outputs": [],
   "source": [
    "import datetime"
   ]
  },
  {
   "cell_type": "code",
   "execution_count": null,
   "metadata": {},
   "outputs": [],
   "source": [
    "datetime.datetime.now().strftime('%Y-%m-%d_%H-%M-%S')"
   ]
  },
  {
   "cell_type": "markdown",
   "metadata": {},
   "source": [
    "## Cope viewing from a cell, not the command line"
   ]
  },
  {
   "cell_type": "code",
   "execution_count": null,
   "metadata": {
    "collapsed": true
   },
   "outputs": [],
   "source": [
    "import os"
   ]
  },
  {
   "cell_type": "code",
   "execution_count": null,
   "metadata": {},
   "outputs": [],
   "source": [
    "anat = os.path.abspath(\"/Users/smerdis/data/LGN/BIDS/AlexLGN_no0327_out_T1w/fmriprep/sub-MS/anat/sub-MS_T1w_preproc.nii.gz\")\n",
    "mrvanat = os.path.abspath(\"/Users/smerdis/data/LGN/BIDS/AlexLGN_no0327_out_T1w/mrvista/T1w.nii.gz\")\n",
    "func = os.path.abspath(\"/Users/smerdis/data/LGN/BIDS/AlexLGN_no0327_out_T1w/fmriprep/sub-MS/ses-20150401/func/sub-MS_ses-20150401_task-hemi_run-01_bold_space-T1w_preproc.nii.gz\")\n",
    "vROI = os.path.abspath(\"/Users/smerdis/data/LGN/BIDS/AlexLGN_no0327_out_T1w/mrvista/vROI1.nii.gz\")"
   ]
  },
  {
   "cell_type": "code",
   "execution_count": null,
   "metadata": {
    "collapsed": true
   },
   "outputs": [],
   "source": [
    "cope_old = os.path.abspath(\"/Users/smerdis/data/LGN/BIDS/AlexLGN_no0327_out_T1w/nipype/hemifield_localizer/modelfit/datasink/stats_dir/_flameo1/stats/cope1.nii.gz\")\n",
    "cope_new = os.path.abspath(\"/Users/smerdis/data/LGN/BIDS/AlexLGN_no0327_out_T1w/nipype_2018-02-21_22-20-36/hemifield/modelfit/datasink/stats_dir/_flameo1/stats/cope1.nii.gz\")"
   ]
  },
  {
   "cell_type": "code",
   "execution_count": null,
   "metadata": {},
   "outputs": [],
   "source": [
    "print(f\"fsleyes {anat} {mrvanat} {func} {vROI} {cope_old} {cope_new}\")"
   ]
  },
  {
   "cell_type": "code",
   "execution_count": null,
   "metadata": {
    "collapsed": true
   },
   "outputs": [],
   "source": []
  }
 ],
 "metadata": {
  "kernelspec": {
   "display_name": "Python 3",
   "language": "python",
   "name": "python3"
  },
  "language_info": {
   "codemirror_mode": {
    "name": "ipython",
    "version": 3
   },
   "file_extension": ".py",
   "mimetype": "text/x-python",
   "name": "python",
   "nbconvert_exporter": "python",
   "pygments_lexer": "ipython3",
   "version": "3.6.2"
  }
 },
 "nbformat": 4,
 "nbformat_minor": 2
}
