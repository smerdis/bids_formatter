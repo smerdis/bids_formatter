{
 "cells": [
  {
   "cell_type": "code",
   "execution_count": 3,
   "metadata": {
    "ExecuteTime": {
     "end_time": "2019-12-03T18:48:20.861441Z",
     "start_time": "2019-12-03T18:48:20.857687Z"
    }
   },
   "outputs": [],
   "source": [
    "import numpy as np\n",
    "import pandas as pd\n",
    "import glob\n",
    "import os\n",
    "import shutil\n"
   ]
  },
  {
   "cell_type": "code",
   "execution_count": 22,
   "metadata": {
    "ExecuteTime": {
     "end_time": "2019-12-03T18:52:52.966222Z",
     "start_time": "2019-12-03T18:52:52.962304Z"
    }
   },
   "outputs": [],
   "source": [
    "raw_data_dir = os.path.abspath(\"/Users/smerdis/data/LGN/AV_20111117_session/AV_20111117_n/AV_20111117_n_nifti/\")\n",
    "raw_glob_suffix = \"epi*_mcf.nii.gz\"\n",
    "out_dir = os.path.abspath('/Users/smerdis/data/LGN/BIDS/AV_20111117_fromRD/derivatives/RD_preproc/')\n",
    "fmriprep_dir = os.path.abspath(fmriprep-1.4.1/fmriprep)\n",
    "sub = \"AV\"\n",
    "ses = \"20111117\""
   ]
  },
  {
   "cell_type": "code",
   "execution_count": 23,
   "metadata": {
    "ExecuteTime": {
     "end_time": "2019-12-03T18:52:53.511416Z",
     "start_time": "2019-12-03T18:52:53.384160Z"
    }
   },
   "outputs": [
    {
     "name": "stdout",
     "output_type": "stream",
     "text": [
      "\u001b[31mAV_20111117_n_motion_params.png\u001b[m\u001b[m        \u001b[31mepi06_mp_mcf.nii.gz\u001b[m\u001b[m\r\n",
      "\u001b[31mAV_20111117_n_motion_params_scaled.png\u001b[m\u001b[m \u001b[31mepi06_mp_mcf.par\u001b[m\u001b[m\r\n",
      "\u001b[31mepi01_hemi.nii.gz\u001b[m\u001b[m                      \u001b[31mepi07_mp.nii.gz\u001b[m\u001b[m\r\n",
      "\u001b[31mepi01_hemi_mcf.nii.gz\u001b[m\u001b[m                  \u001b[31mepi07_mp_mcf.nii.gz\u001b[m\u001b[m\r\n",
      "\u001b[31mepi01_hemi_mcf.par\u001b[m\u001b[m                     \u001b[31mepi07_mp_mcf.par\u001b[m\u001b[m\r\n",
      "\u001b[31mepi02_mp.nii.gz\u001b[m\u001b[m                        \u001b[31mepi08_mp.nii.gz\u001b[m\u001b[m\r\n",
      "\u001b[31mepi02_mp_mcf.nii.gz\u001b[m\u001b[m                    \u001b[31mepi08_mp_mcf.nii.gz\u001b[m\u001b[m\r\n",
      "\u001b[31mepi02_mp_mcf.par\u001b[m\u001b[m                       \u001b[31mepi08_mp_mcf.par\u001b[m\u001b[m\r\n",
      "\u001b[31mepi03_mp.nii.gz\u001b[m\u001b[m                        \u001b[31mepi09_mp.nii.gz\u001b[m\u001b[m\r\n",
      "\u001b[31mepi03_mp_mcf.nii.gz\u001b[m\u001b[m                    \u001b[31mepi09_mp_mcf.nii.gz\u001b[m\u001b[m\r\n",
      "\u001b[31mepi03_mp_mcf.par\u001b[m\u001b[m                       \u001b[31mepi09_mp_mcf.par\u001b[m\u001b[m\r\n",
      "\u001b[31mepi04_mp.nii.gz\u001b[m\u001b[m                        \u001b[31mepi10_hemi.nii.gz\u001b[m\u001b[m\r\n",
      "\u001b[31mepi04_mp_mcf.nii.gz\u001b[m\u001b[m                    \u001b[31mepi10_hemi_mcf.nii.gz\u001b[m\u001b[m\r\n",
      "\u001b[31mepi04_mp_mcf.par\u001b[m\u001b[m                       \u001b[31mepi10_hemi_mcf.par\u001b[m\u001b[m\r\n",
      "\u001b[31mepi05_mp.nii.gz\u001b[m\u001b[m                        \u001b[31mgems.nii.gz\u001b[m\u001b[m\r\n",
      "\u001b[31mepi05_mp_mcf.nii.gz\u001b[m\u001b[m                    \u001b[31mmotionparams.txt\u001b[m\u001b[m\r\n",
      "\u001b[31mepi05_mp_mcf.par\u001b[m\u001b[m                       \u001b[31mref_vol.nii\u001b[m\u001b[m\r\n",
      "\u001b[31mepi06_mp.nii.gz\u001b[m\u001b[m\r\n"
     ]
    }
   ],
   "source": [
    "!ls {raw_data_dir}"
   ]
  },
  {
   "cell_type": "code",
   "execution_count": 29,
   "metadata": {
    "ExecuteTime": {
     "end_time": "2019-12-03T18:53:59.953171Z",
     "start_time": "2019-12-03T18:53:59.948316Z"
    }
   },
   "outputs": [
    {
     "name": "stdout",
     "output_type": "stream",
     "text": [
      "/Users/smerdis/data/LGN/AV_20111117_session/AV_20111117_n/AV_20111117_n_nifti/epi*_mcf.nii.gz\n"
     ]
    }
   ],
   "source": [
    "print(f\"{raw_data_dir}/{raw_glob_suffix}\")\n",
    "bolds = glob.glob(f\"{raw_data_dir}/{raw_glob_suffix}\")"
   ]
  },
  {
   "cell_type": "code",
   "execution_count": 30,
   "metadata": {
    "ExecuteTime": {
     "end_time": "2019-12-03T18:54:03.934257Z",
     "start_time": "2019-12-03T18:54:03.926734Z"
    }
   },
   "outputs": [
    {
     "data": {
      "text/plain": [
       "['/Users/smerdis/data/LGN/AV_20111117_session/AV_20111117_n/AV_20111117_n_nifti/epi07_mp_mcf.nii.gz',\n",
       " '/Users/smerdis/data/LGN/AV_20111117_session/AV_20111117_n/AV_20111117_n_nifti/epi03_mp_mcf.nii.gz',\n",
       " '/Users/smerdis/data/LGN/AV_20111117_session/AV_20111117_n/AV_20111117_n_nifti/epi01_hemi_mcf.nii.gz',\n",
       " '/Users/smerdis/data/LGN/AV_20111117_session/AV_20111117_n/AV_20111117_n_nifti/epi04_mp_mcf.nii.gz',\n",
       " '/Users/smerdis/data/LGN/AV_20111117_session/AV_20111117_n/AV_20111117_n_nifti/epi10_hemi_mcf.nii.gz',\n",
       " '/Users/smerdis/data/LGN/AV_20111117_session/AV_20111117_n/AV_20111117_n_nifti/epi09_mp_mcf.nii.gz',\n",
       " '/Users/smerdis/data/LGN/AV_20111117_session/AV_20111117_n/AV_20111117_n_nifti/epi08_mp_mcf.nii.gz',\n",
       " '/Users/smerdis/data/LGN/AV_20111117_session/AV_20111117_n/AV_20111117_n_nifti/epi05_mp_mcf.nii.gz',\n",
       " '/Users/smerdis/data/LGN/AV_20111117_session/AV_20111117_n/AV_20111117_n_nifti/epi02_mp_mcf.nii.gz',\n",
       " '/Users/smerdis/data/LGN/AV_20111117_session/AV_20111117_n/AV_20111117_n_nifti/epi06_mp_mcf.nii.gz']"
      ]
     },
     "execution_count": 30,
     "metadata": {},
     "output_type": "execute_result"
    }
   ],
   "source": [
    "bolds"
   ]
  },
  {
   "cell_type": "code",
   "execution_count": 50,
   "metadata": {
    "ExecuteTime": {
     "end_time": "2019-12-03T19:13:27.560500Z",
     "start_time": "2019-12-03T19:13:25.777258Z"
    }
   },
   "outputs": [
    {
     "name": "stdout",
     "output_type": "stream",
     "text": [
      "/Users/smerdis/data/LGN/AV_20111117_session/AV_20111117_n/AV_20111117_n_nifti/epi07_mp_mcf.nii.gz\n",
      "/Users/smerdis/data/LGN/BIDS/AV_20111117_fromRD/derivatives/RD_preproc/sub-AV/ses-20111117/func/sub-AV_ses-20111117_task-mp_run-06_desc-preproc_bold.nii.gz\n",
      "/Users/smerdis/data/LGN/AV_20111117_session/AV_20111117_n/AV_20111117_n_nifti/epi03_mp_mcf.nii.gz\n",
      "/Users/smerdis/data/LGN/BIDS/AV_20111117_fromRD/derivatives/RD_preproc/sub-AV/ses-20111117/func/sub-AV_ses-20111117_task-mp_run-02_desc-preproc_bold.nii.gz\n",
      "/Users/smerdis/data/LGN/AV_20111117_session/AV_20111117_n/AV_20111117_n_nifti/epi01_hemi_mcf.nii.gz\n",
      "/Users/smerdis/data/LGN/BIDS/AV_20111117_fromRD/derivatives/RD_preproc/sub-AV/ses-20111117/func/sub-AV_ses-20111117_task-hemi_run-01_desc-preproc_bold.nii.gz\n",
      "/Users/smerdis/data/LGN/AV_20111117_session/AV_20111117_n/AV_20111117_n_nifti/epi04_mp_mcf.nii.gz\n",
      "/Users/smerdis/data/LGN/BIDS/AV_20111117_fromRD/derivatives/RD_preproc/sub-AV/ses-20111117/func/sub-AV_ses-20111117_task-mp_run-03_desc-preproc_bold.nii.gz\n",
      "/Users/smerdis/data/LGN/AV_20111117_session/AV_20111117_n/AV_20111117_n_nifti/epi10_hemi_mcf.nii.gz\n",
      "/Users/smerdis/data/LGN/BIDS/AV_20111117_fromRD/derivatives/RD_preproc/sub-AV/ses-20111117/func/sub-AV_ses-20111117_task-hemi_run-02_desc-preproc_bold.nii.gz\n",
      "/Users/smerdis/data/LGN/AV_20111117_session/AV_20111117_n/AV_20111117_n_nifti/epi09_mp_mcf.nii.gz\n",
      "/Users/smerdis/data/LGN/BIDS/AV_20111117_fromRD/derivatives/RD_preproc/sub-AV/ses-20111117/func/sub-AV_ses-20111117_task-mp_run-08_desc-preproc_bold.nii.gz\n",
      "/Users/smerdis/data/LGN/AV_20111117_session/AV_20111117_n/AV_20111117_n_nifti/epi08_mp_mcf.nii.gz\n",
      "/Users/smerdis/data/LGN/BIDS/AV_20111117_fromRD/derivatives/RD_preproc/sub-AV/ses-20111117/func/sub-AV_ses-20111117_task-mp_run-07_desc-preproc_bold.nii.gz\n",
      "/Users/smerdis/data/LGN/AV_20111117_session/AV_20111117_n/AV_20111117_n_nifti/epi05_mp_mcf.nii.gz\n",
      "/Users/smerdis/data/LGN/BIDS/AV_20111117_fromRD/derivatives/RD_preproc/sub-AV/ses-20111117/func/sub-AV_ses-20111117_task-mp_run-04_desc-preproc_bold.nii.gz\n",
      "/Users/smerdis/data/LGN/AV_20111117_session/AV_20111117_n/AV_20111117_n_nifti/epi02_mp_mcf.nii.gz\n",
      "/Users/smerdis/data/LGN/BIDS/AV_20111117_fromRD/derivatives/RD_preproc/sub-AV/ses-20111117/func/sub-AV_ses-20111117_task-mp_run-01_desc-preproc_bold.nii.gz\n",
      "/Users/smerdis/data/LGN/AV_20111117_session/AV_20111117_n/AV_20111117_n_nifti/epi06_mp_mcf.nii.gz\n",
      "/Users/smerdis/data/LGN/BIDS/AV_20111117_fromRD/derivatives/RD_preproc/sub-AV/ses-20111117/func/sub-AV_ses-20111117_task-mp_run-05_desc-preproc_bold.nii.gz\n"
     ]
    }
   ],
   "source": [
    "for b in bolds:\n",
    "    parts = b.split('_')\n",
    "    #print(parts)\n",
    "    run = int(parts[-3][-2:])\n",
    "    task = parts[-2]\n",
    "    if task==\"mp\":\n",
    "        run = run - 1\n",
    "    elif task==\"hemi\" and run==10:\n",
    "        run = 2\n",
    "    new_file_name = f\"{out_dir}/sub-{sub}/ses-{ses}/func/sub-{sub}_ses-{ses}_task-{task}_run-{run:02d}_desc-preproc_bold.nii.gz\"\n",
    "    print(b, new_file_name, sep=\"\\n\")\n",
    "    shutil.copyfile(b, new_file_name)"
   ]
  },
  {
   "cell_type": "code",
   "execution_count": 53,
   "metadata": {
    "ExecuteTime": {
     "end_time": "2019-12-03T19:47:41.209971Z",
     "start_time": "2019-12-03T19:47:41.204080Z"
    }
   },
   "outputs": [
    {
     "name": "stdout",
     "output_type": "stream",
     "text": [
      "['/Users/smerdis/data/LGN/BIDS/AV', '20111117', 'fromRD/derivatives/RD', 'preproc/sub-AV/ses-20111117/func/sub-AV', 'ses-20111117', 'task-mp', 'run-05', 'desc-preproc', 'bold.nii.gz']\n",
      "['/Users/smerdis/data/LGN/BIDS/AV', '20111117', 'fromRD/derivatives/RD', 'preproc/sub-AV/ses-20111117/func/sub-AV', 'ses-20111117', 'task-mp', 'run-01', 'desc-preproc', 'bold.nii.gz']\n",
      "['/Users/smerdis/data/LGN/BIDS/AV', '20111117', 'fromRD/derivatives/RD', 'preproc/sub-AV/ses-20111117/func/sub-AV', 'ses-20111117', 'task-hemi', 'run-01', 'desc-preproc', 'bold.nii.gz']\n",
      "['/Users/smerdis/data/LGN/BIDS/AV', '20111117', 'fromRD/derivatives/RD', 'preproc/sub-AV/ses-20111117/func/sub-AV', 'ses-20111117', 'task-mp', 'run-04', 'desc-preproc', 'bold.nii.gz']\n",
      "['/Users/smerdis/data/LGN/BIDS/AV', '20111117', 'fromRD/derivatives/RD', 'preproc/sub-AV/ses-20111117/func/sub-AV', 'ses-20111117', 'task-mp', 'run-08', 'desc-preproc', 'bold.nii.gz']\n",
      "['/Users/smerdis/data/LGN/BIDS/AV', '20111117', 'fromRD/derivatives/RD', 'preproc/sub-AV/ses-20111117/func/sub-AV', 'ses-20111117', 'task-hemi', 'run-02', 'desc-preproc', 'bold.nii.gz']\n",
      "['/Users/smerdis/data/LGN/BIDS/AV', '20111117', 'fromRD/derivatives/RD', 'preproc/sub-AV/ses-20111117/func/sub-AV', 'ses-20111117', 'task-mp', 'run-06', 'desc-preproc', 'bold.nii.gz']\n",
      "['/Users/smerdis/data/LGN/BIDS/AV', '20111117', 'fromRD/derivatives/RD', 'preproc/sub-AV/ses-20111117/func/sub-AV', 'ses-20111117', 'task-mp', 'run-02', 'desc-preproc', 'bold.nii.gz']\n",
      "['/Users/smerdis/data/LGN/BIDS/AV', '20111117', 'fromRD/derivatives/RD', 'preproc/sub-AV/ses-20111117/func/sub-AV', 'ses-20111117', 'task-mp', 'run-03', 'desc-preproc', 'bold.nii.gz']\n",
      "['/Users/smerdis/data/LGN/BIDS/AV', '20111117', 'fromRD/derivatives/RD', 'preproc/sub-AV/ses-20111117/func/sub-AV', 'ses-20111117', 'task-mp', 'run-07', 'desc-preproc', 'bold.nii.gz']\n"
     ]
    }
   ],
   "source": [
    "for pb in glob.glob(\"/Users/smerdis/data/LGN/BIDS/AV_20111117_fromRD/derivatives/RD_preproc/sub-AV/ses-20111117/func/*.nii.gz\"):\n",
    "    print(pb.split('_'))"
   ]
  },
  {
   "cell_type": "code",
   "execution_count": null,
   "metadata": {},
   "outputs": [],
   "source": []
  }
 ],
 "metadata": {
  "kernelspec": {
   "display_name": "Python 3",
   "language": "python",
   "name": "python3"
  },
  "language_info": {
   "codemirror_mode": {
    "name": "ipython",
    "version": 3
   },
   "file_extension": ".py",
   "mimetype": "text/x-python",
   "name": "python",
   "nbconvert_exporter": "python",
   "pygments_lexer": "ipython3",
   "version": "3.6.8"
  }
 },
 "nbformat": 4,
 "nbformat_minor": 2
}
