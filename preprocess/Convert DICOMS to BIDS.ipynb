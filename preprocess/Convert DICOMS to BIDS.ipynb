{
 "cells": [
  {
   "cell_type": "markdown",
   "metadata": {},
   "source": [
    "## Move dicoms into one directory (flat structure)"
   ]
  },
  {
   "cell_type": "raw",
   "metadata": {},
   "source": [
    "cd /data/<subject folder>/<subfolder>\n",
    "mkdir flat_dicoms\n",
    "cp Silver_Arjun\\ -\\ 1/*/*.dcm flat_dicoms/"
   ]
  },
  {
   "cell_type": "code",
   "execution_count": 1,
   "metadata": {
    "collapsed": true
   },
   "outputs": [],
   "source": [
    "import os, glob, shutil, subprocess, sys"
   ]
  },
  {
   "cell_type": "code",
   "execution_count": 2,
   "metadata": {
    "collapsed": true
   },
   "outputs": [],
   "source": [
    "def flatten_dicoms(data_dir):\n",
    "    raw_dir = None\n",
    "    with os.scandir(data_dir) as it:\n",
    "        for entry in it:\n",
    "            if entry.name.startswith('Silver_Arjun'):\n",
    "                raw_dir = os.path.join(data_dir, entry.name)\n",
    "    if raw_dir:\n",
    "        flat_dir = os.path.join(data_dir, \"flat_dicoms\")\n",
    "        if not os.path.isdir(flat_dir):\n",
    "            os.mkdir(flat_dir)\n",
    "        dicoms = glob.glob(f\"{raw_dir}/*/*.dcm\")\n",
    "        for dcm in dicoms:\n",
    "            shutil.copy(dcm, flat_dir)"
   ]
  },
  {
   "cell_type": "code",
   "execution_count": 3,
   "metadata": {
    "collapsed": true
   },
   "outputs": [],
   "source": [
    "flatten_dicoms(\"/Users/smerdis/data/LGN/Nb_20190205\")"
   ]
  },
  {
   "cell_type": "raw",
   "metadata": {},
   "source": [
    "dcm2bids_helper -d flat_dicoms/\n",
    "dcm2bids_scaffold -o <bids_dir>\n",
    "(modify or copy the dcm2bids_config.json file from previous datasets to fit the new data)\n",
    "command is then like:\n",
    "dcm2bids -d flat_dicoms/ -p NB -s 20180524 -c dcm2bids_config.json --clobber -o <bids_dir>"
   ]
  },
  {
   "cell_type": "code",
   "execution_count": 5,
   "metadata": {
    "collapsed": true
   },
   "outputs": [],
   "source": [
    "def run_dcm2bids(data_dir, bids_dir, sub, ses):\n",
    "    try:\n",
    "        current_dir = os.getcwd()\n",
    "        os.chdir(data_dir)\n",
    "        help1 = subprocess.run(['dcm2bids_helper','-d','flat_dicoms/'], stdout=subprocess.PIPE,\n",
    "                               stderr=subprocess.PIPE, check=True)\n",
    "        print(help1)\n",
    "        scaf1 = subprocess.run(['dcm2bids_scaffold','-o',f\"{bids_dir}\"], stdout=subprocess.PIPE,\n",
    "                               stderr=subprocess.PIPE, check=True)\n",
    "        print(scaf1)\n",
    "        if os.path.isfile('dcm2bids_config.json'):\n",
    "            print(\"dcm2bids_config.json is present, running helper again...\")\n",
    "            help2 = subprocess.run(['dcm2bids','-d','flat_dicoms/','-p',sub,'-s',ses,'-c','dcm2bids_config.json',\n",
    "                                   '--clobber','-o',bids_dir], stdout=subprocess.PIPE, stderr=subprocess.PIPE,\n",
    "                                   check=True)\n",
    "            print(help2.returncode, help2.stdout, help2.stderr)\n",
    "    except:\n",
    "        print(f\"Something went wrong: {sys.exc_info()[0]}\")\n",
    "        raise"
   ]
  },
  {
   "cell_type": "code",
   "execution_count": 6,
   "metadata": {},
   "outputs": [
    {
     "name": "stdout",
     "output_type": "stream",
     "text": [
      "CompletedProcess(args=['dcm2bids_helper', '-d', 'flat_dicoms/'], returncode=0, stdout=b'Example in:\\n/Users/smerdis/data/LGN/Nb_20190205/tmp_dcm2bids/helper\\n', stderr=b'')\n",
      "CompletedProcess(args=['dcm2bids_scaffold', '-o', '/Users/smerdis/data/LGN/BIDS/NB_20190205'], returncode=0, stdout=b'', stderr=b'')\n",
      "dcm2bids_config.json is present, running helper again...\n",
      "Something went wrong: <class 'subprocess.CalledProcessError'>\n"
     ]
    },
    {
     "ename": "CalledProcessError",
     "evalue": "Command '['dcm2bids', '-d', 'flat_dicoms/', '-p', 'NB', '-s', '20190205', '-c', 'dcm2bids_config.json', '--clobber', '-o', '/Users/smerdis/data/LGN/BIDS/NB_20190205']' returned non-zero exit status 1.",
     "output_type": "error",
     "traceback": [
      "\u001b[0;31m---------------------------------------------------------------------------\u001b[0m",
      "\u001b[0;31mCalledProcessError\u001b[0m                        Traceback (most recent call last)",
      "\u001b[0;32m<ipython-input-6-b41755f7f884>\u001b[0m in \u001b[0;36m<module>\u001b[0;34m()\u001b[0m\n\u001b[0;32m----> 1\u001b[0;31m \u001b[0mrun_dcm2bids\u001b[0m\u001b[0;34m(\u001b[0m\u001b[0;34m\"/Users/smerdis/data/LGN/Nb_20190205\"\u001b[0m\u001b[0;34m,\u001b[0m \u001b[0;34m\"/Users/smerdis/data/LGN/BIDS/NB_20190205\"\u001b[0m\u001b[0;34m,\u001b[0m \u001b[0;34m\"NB\"\u001b[0m\u001b[0;34m,\u001b[0m \u001b[0;34m\"20190205\"\u001b[0m\u001b[0;34m)\u001b[0m\u001b[0;34m\u001b[0m\u001b[0m\n\u001b[0m",
      "\u001b[0;32m<ipython-input-5-c79056fc6a5c>\u001b[0m in \u001b[0;36mrun_dcm2bids\u001b[0;34m(data_dir, bids_dir, sub, ses)\u001b[0m\n\u001b[1;32m     13\u001b[0m             help2 = subprocess.run(['dcm2bids','-d','flat_dicoms/','-p',sub,'-s',ses,'-c','dcm2bids_config.json',\n\u001b[1;32m     14\u001b[0m                                    '--clobber','-o',bids_dir], stdout=subprocess.PIPE, stderr=subprocess.PIPE,\n\u001b[0;32m---> 15\u001b[0;31m                                    check=True)\n\u001b[0m\u001b[1;32m     16\u001b[0m             \u001b[0mprint\u001b[0m\u001b[0;34m(\u001b[0m\u001b[0mhelp2\u001b[0m\u001b[0;34m.\u001b[0m\u001b[0mreturncode\u001b[0m\u001b[0;34m,\u001b[0m \u001b[0mhelp2\u001b[0m\u001b[0;34m.\u001b[0m\u001b[0mstdout\u001b[0m\u001b[0;34m,\u001b[0m \u001b[0mhelp2\u001b[0m\u001b[0;34m.\u001b[0m\u001b[0mstderr\u001b[0m\u001b[0;34m)\u001b[0m\u001b[0;34m\u001b[0m\u001b[0m\n\u001b[1;32m     17\u001b[0m     \u001b[0;32mexcept\u001b[0m\u001b[0;34m:\u001b[0m\u001b[0;34m\u001b[0m\u001b[0m\n",
      "\u001b[0;32m//anaconda/envs/py36/lib/python3.6/subprocess.py\u001b[0m in \u001b[0;36mrun\u001b[0;34m(input, timeout, check, *popenargs, **kwargs)\u001b[0m\n\u001b[1;32m    416\u001b[0m         \u001b[0;32mif\u001b[0m \u001b[0mcheck\u001b[0m \u001b[0;32mand\u001b[0m \u001b[0mretcode\u001b[0m\u001b[0;34m:\u001b[0m\u001b[0;34m\u001b[0m\u001b[0m\n\u001b[1;32m    417\u001b[0m             raise CalledProcessError(retcode, process.args,\n\u001b[0;32m--> 418\u001b[0;31m                                      output=stdout, stderr=stderr)\n\u001b[0m\u001b[1;32m    419\u001b[0m     \u001b[0;32mreturn\u001b[0m \u001b[0mCompletedProcess\u001b[0m\u001b[0;34m(\u001b[0m\u001b[0mprocess\u001b[0m\u001b[0;34m.\u001b[0m\u001b[0margs\u001b[0m\u001b[0;34m,\u001b[0m \u001b[0mretcode\u001b[0m\u001b[0;34m,\u001b[0m \u001b[0mstdout\u001b[0m\u001b[0;34m,\u001b[0m \u001b[0mstderr\u001b[0m\u001b[0;34m)\u001b[0m\u001b[0;34m\u001b[0m\u001b[0m\n\u001b[1;32m    420\u001b[0m \u001b[0;34m\u001b[0m\u001b[0m\n",
      "\u001b[0;31mCalledProcessError\u001b[0m: Command '['dcm2bids', '-d', 'flat_dicoms/', '-p', 'NB', '-s', '20190205', '-c', 'dcm2bids_config.json', '--clobber', '-o', '/Users/smerdis/data/LGN/BIDS/NB_20190205']' returned non-zero exit status 1."
     ]
    }
   ],
   "source": [
    "run_dcm2bids(\"/Users/smerdis/data/LGN/Nb_20190205\", \"/Users/smerdis/data/LGN/BIDS/NB_20190205\", \"NB\", \"20190205\")"
   ]
  },
  {
   "cell_type": "markdown",
   "metadata": {},
   "source": [
    "notes:\n",
    "     * the json file should be built up and prepared\n",
    "     * currently no task info, would like to fix that\n",
    "       * mp sb_iso: 6, 7, 9, 10, 11, 12, 21, 22, 23, 24\n",
    "     "
   ]
  },
  {
   "cell_type": "raw",
   "metadata": {},
   "source": [
    "(create top-level .json files for each task with a TaskName field to pass BIDS validator)\n",
    "(8/3: not passing due to tmp_dcm2bids containing localizer, etc -- how to improve?)"
   ]
  },
  {
   "cell_type": "markdown",
   "metadata": {},
   "source": [
    "## Make Singularity image from latest Docker version of fmriprep"
   ]
  },
  {
   "cell_type": "raw",
   "metadata": {},
   "source": [
    "docker run --privileged -t --rm \\\n",
    "    -v /var/run/docker.sock:/var/run/docker.sock \\\n",
    "    -v /Users/smerdis/code/coupling:/output \\\n",
    "    singularityware/docker2singularity \\\n",
    "    poldracklab/fmriprep:latest"
   ]
  },
  {
   "cell_type": "markdown",
   "metadata": {},
   "source": [
    "## Run Singularity image on cluster"
   ]
  },
  {
   "cell_type": "markdown",
   "metadata": {},
   "source": [
    "### Use the jobscript generator function!"
   ]
  },
  {
   "cell_type": "raw",
   "metadata": {},
   "source": [
    "module load python\n",
    "python cluster_utilities.py <sub_code> <folder> # no trailing slash!"
   ]
  },
  {
   "cell_type": "markdown",
   "metadata": {
    "heading_collapsed": true
   },
   "source": [
    "#### OLD info"
   ]
  },
  {
   "cell_type": "raw",
   "metadata": {
    "hidden": true
   },
   "source": [
    "PYTHONPATH=\"\" singularity exec -B /global/home/users/arjunm:/home -B /global/scratch/arjunm:/scratch \\\n",
    " /global/scratch/arjunm/poldracklab_fmriprep_latest-2018-06-07-8bd252c01d30.img \\\n",
    " ls"
   ]
  },
  {
   "cell_type": "raw",
   "metadata": {
    "hidden": true
   },
   "source": [
    "PYTHONPATH=\"\" singularity run -B /global/home/users/arjunm:/home -B /global/scratch/arjunm:/scratch \\\n",
    " /global/scratch/arjunm/poldracklab_fmriprep_latest-2018-06-07-8bd252c01d30.img \\\n",
    " /home/NB_20180524/ /scratch/output \\\n",
    " participant \\\n",
    " --participant-label NB --nthreads 24 -w /scratch/work \\\n",
    " --fs-license-file=/home/license.txt \\\n",
    " --omp-nthreads 24"
   ]
  }
 ],
 "metadata": {
  "kernelspec": {
   "display_name": "Python 3",
   "language": "python",
   "name": "python3"
  },
  "language_info": {
   "codemirror_mode": {
    "name": "ipython",
    "version": 3
   },
   "file_extension": ".py",
   "mimetype": "text/x-python",
   "name": "python",
   "nbconvert_exporter": "python",
   "pygments_lexer": "ipython3",
   "version": "3.6.2"
  },
  "varInspector": {
   "cols": {
    "lenName": 16,
    "lenType": 16,
    "lenVar": 40
   },
   "kernels_config": {
    "python": {
     "delete_cmd_postfix": "",
     "delete_cmd_prefix": "del ",
     "library": "var_list.py",
     "varRefreshCmd": "print(var_dic_list())"
    },
    "r": {
     "delete_cmd_postfix": ") ",
     "delete_cmd_prefix": "rm(",
     "library": "var_list.r",
     "varRefreshCmd": "cat(var_dic_list()) "
    }
   },
   "types_to_exclude": [
    "module",
    "function",
    "builtin_function_or_method",
    "instance",
    "_Feature"
   ],
   "window_display": false
  }
 },
 "nbformat": 4,
 "nbformat_minor": 2
}
